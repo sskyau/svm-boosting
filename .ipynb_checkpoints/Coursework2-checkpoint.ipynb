{
 "cells": [
  {
   "cell_type": "markdown",
   "id": "44281064",
   "metadata": {},
   "source": [
    "### Coursework 2\n",
    "\n",
    "In this coursework you will be aiming to complete two classification tasks. \n",
    "Both the classification tasks relate to text classification tasks. \n",
    "\n",
    "One task is to be solved using Support Vector Machines. The other has to be solved using Boosting.\n",
    "\n",
    "The specific tasks and the marking for the various tasks are provided in the notebook. Each task is expected to be accompanied by a lab-report. Each task can have a concise lab report that is maximum of one page in an A4 size. You will be expected to submit your Jupyter Notebook and all lab reports as a single zip file. You could have additional functions implemented that you require for carrying out each task.\n"
   ]
  },
  {
   "cell_type": "markdown",
   "id": "221ffe46",
   "metadata": {},
   "source": [
    "#### Task 1\n",
    "\n",
    "In this task, you need to obtain sentiment analysis for the provided dataset. The dataset consists of movie reviews with the sentiments being provided. The sentiments are either positive or negative. You need to train an SVM based classifier to obtain train and check on the sample test dataset provided. The method will be evaluated also against an external test set. Please do not hardcode any dimensions or number of samples while writing the code. It should be possible to automate the testing and hardcoding values does not allow for automated testing. \n",
    "\n",
    "You are allowed to use scikit-learn to implement the SVM. However, you are expected to write your own kernels.\n",
    "\n",
    "You are allowed to use the existing library functions such as scikit-learn or numpy for obtaining the SVM. The main idea is to analyse the dataset using different kind of kernels. You are also supposed to write your own custom text kernels. Refer to the documentation provided [here](https://scikit-learn.org/stable/modules/svm.html) at 1.4.6.2 and an example [here](https://scikit-learn.org/stable/auto_examples/svm/plot_custom_kernel.html) for writing your own kernels.\n",
    "\n",
    "Details regarding the marking have been provided in the coursework specification file. Ensure that the code can be run with different test files. "
   ]
  },
  {
   "cell_type": "markdown",
   "id": "7385ce53",
   "metadata": {},
   "source": [
    "#### Process the text and obtain a bag of words-based features "
   ]
  },
  {
   "cell_type": "code",
   "execution_count": 18,
   "id": "e0ac481e",
   "metadata": {},
   "outputs": [
    {
     "data": {
      "text/plain": [
       "(array([\"Not a movie for everyone, but this movie is in my top 10. I am a lover of black comedy. With a cast including Richard Dreyfus (Vic), Jeff Goldblum (Mick), Larry Bishop (Nick) and Gabriel Byrne (Ben 'Brass Balls' London) in the leads, the lines can't help but be dry. The supporting cast is nearly dead center. Counting the minor flaws in the movie: Ellen Barkin's make-up gave her face has a washed out look; there were a couple of gimme cameos by Joey Bishop and Richard Pryor that served no purpose, and Michael J. Pollard's screen time was too short. Over all, the cast was just incredible without egos to wreck a fine script. If you have seen Larry Bishop's (writer, director) film, Underworld (a dark crime flick), you will enjoy this one. His next outing (writer, director, actor) is Hell Ride with Michael Madsen and Quentin Tarantino.\",\n",
       "        'This film is not your typical Hollywood fare, though the pickings are so bad I often tend to stay away from movies rather than be disappointed. However, this little low-budget gem is thoroughly loveable and enjoyable and definitely a keeper. The actors are as varied as the characters they portray, the Buffalo setting is charming (what a pretty city), and the story sparkles. The lack of gratuitous violence, sex and the \"f\" word doesn\\'t detract in the least! Take the kids, take grandma, take a break from Hollywood! I give it an 11 out of 10!',\n",
       "        'RKO Radio Pictures made a real classic in 1947 and even managed to get it nominated for the Best Picture Academy Award. The acting, script, continuity, et cetera, are all just about perfect; and the story is well worth the viewer\\'s 82 minutes. Although the picture soft-petals the true life story by making the murder victim a Jew rather than a homosexual, most viewers will see the victim as a Jewish homosexual -- such disguises never work, perhaps weren\\'t intended to.<br /><br />I could nit-pick about a few details, but just for fun. There was no all-night movie house in Washington, DC in 1947 --- and if there was I wish Robert Mitchum and his pal wouldn\\'t talk through the show. There weren\\'t any bars where a GI could pick up a pretty blonde. NONE! If Robert Ryan wanted to read the latest murder scoop he ought to have bought the Daily News; not the Times-Hearald, Evening Star and certainly not the know-nothing Washington Post. But these little things take nothing away from this classic.<br /><br />The film benefits a lot from the absolute lack of a musical score, except during the credits. I\\'ve only seen this done in a few films.<br /><br />On the negative side, since 1995 it comes with a TMC introduction where some liberal blabs about what the public was \"ready for\" in 1947... blah, blah, blah! As if this fool has any business judging his betters. I\\'d say the ex-GI\\'s in 1947 -- the Greatest Generation -- were much smarter --and had better values -- than some commentator, film historian, or other wise-mouth in 1995. Put a sock in it!',\n",
       "        ...,\n",
       "        \"I think this movie is different apart from most films I've seen. It was exciting in a way, and no matter what others say, I say, I was surprised about the final solution. Certainly didn't see it coming!! Although it's sad, it's worth watching.. I can't think of any movie that would be like this! Actors knew what they were doing. If you say this movie sucks, you say probably what most people would say. But, if someone says that this movie is ordinary, I absolutely don't agree. And Norman Reedus should be more noticed.<br /><br />Maybe I'm freak but I liked this very much. It was kind of mess, but who cares? I'm tired of boring and ordinary movies.\",\n",
       "        \"Brit director Chrstopher Nolan now has a career in America, and a reputation for making movies both popular and critically acclaimed; but this small film was where he started. And it certainly showcased his talent, with its striking black-and-white cinematography and achronological storytelling that prefigures his later 'Momento', albeit in a less extreme way. Thematically and mechanistically, the plot reminded me of David Mamet's 'House of Games', but the film still feels fresh and sharp, right up to the final twist of the ending whose flavour was expected, but whose pointedness is unexpectedly delicious. The acting, on the other hand, is not quite in the same class - the film has a stylised quality, and possibly to a greater extent than the director intended. But it's still a fine debut, simultaneously claustrophobic and beguiling.\",\n",
       "        \"The Salena Incident is set in Arizona where six death row inmates are being transfered from the state prison for reasons never explained, while driving along the heavily armed prison bus gets a flat & the driver is forced to pull off the road. Then two blonde birds turn up & after seducing the incompetent prison guards manage to get the better of them, the six prisoners are released but in a shoot-out their getaway car is damaged leaving them all stranded in the middle of the Arizona desert. They decide to head to the nearest town, Salena several miles away & take the cops with them as hostage. Once they reach Salena they find it odd that the place is completely deserted with not one single other person in sight. They soon discover that the entire town has been killed by flesh eating aliens & they are firmly placed on the menu...<br /><br />Also known as Alien Invasion Arizona in the US on DVD & apparently having the working title Terror Town this rubbishy low budget sci-fi horror flick was co-written, co-produced & directed by Dustin Rikert & has no real redeeming features at all, to be frank The Salena Incident is the sort of film which gives films a bad name. The film could roughly be divided into two parts, the opening forty or fifty odd minutes focuses on the prisoners in a thriller feeling opening, the guards & the escape although it's pretty poorly written & staged stuff. The dialogue between the two blonde birds & the prison guards is so bad it's unintentionally funny as the two fit birds chat up the two not so fit prison guards. Funny stuff actually, unfortunately The Salena Incident is supposed to be a sci-fi horror film not a comedy. Then once the escaped cons & their prison guard hostages arrive at Salena it goes into sci-fi horror mode as the aliens turn up & start killing our clichéd character's off which is good because they are annoying. Look, the whole film sucks as it's badly written, thought out & made. I can't really be bothered to go into why but trust me The Salena Incident is awful on every level.<br /><br />As well as being just a bad, boring & stupid film The Salena Incident is also poorly made. The action set-piece scenes are awful, the aliens looks terrible & are never shown on screen at the same time as the human character's & as such it's sometimes difficult to tell what's happening. The special effects are poor too, the aliens look rubbish & the CGI computer effects are absolutely terrible as well. The editing is poor, the cinematography is poor, the sets are cheap & the whole thing is just an eyesore really. There's a bit of gore, there's some gunshot wounds, someone is ripped in half & a severed hand is seen.<br /><br />Obviously shot on a low budget The Salena Incident has low production values & looks cheap from start to finish. Filmed in Superior in Arizona. The acting is terrible from no-one I have ever heard of although the actress who plays the female doctor is pretty good looking.<br /><br />The Salena Incident is a rubbish sci-fi horror film that is terrible in just about every way, not worth 90 minutes of yours, mine or anyone else's time.\"],\n",
       "       dtype=object),\n",
       " array(['positive', 'positive', 'positive', ..., 'positive', 'positive',\n",
       "        'negative'], dtype=object),\n",
       " array([\"One of the other reviewers has mentioned that after watching just 1 Oz episode you'll be hooked. They are right, as this is exactly what happened with me.<br /><br />The first thing that struck me about Oz was its brutality and unflinching scenes of violence, which set in right from the word GO. Trust me, this is not a show for the faint hearted or timid. This show pulls no punches with regards to drugs, sex or violence. Its is hardcore, in the classic use of the word.<br /><br />It is called OZ as that is the nickname given to the Oswald Maximum Security State Penitentary. It focuses mainly on Emerald City, an experimental section of the prison where all the cells have glass fronts and face inwards, so privacy is not high on the agenda. Em City is home to many..Aryans, Muslims, gangstas, Latinos, Christians, Italians, Irish and more....so scuffles, death stares, dodgy dealings and shady agreements are never far away.<br /><br />I would say the main appeal of the show is due to the fact that it goes where other shows wouldn't dare. Forget pretty pictures painted for mainstream audiences, forget charm, forget romance...OZ doesn't mess around. The first episode I ever saw struck me as so nasty it was surreal, I couldn't say I was ready for it, but as I watched more, I developed a taste for Oz, and got accustomed to the high levels of graphic violence. Not just violence, but injustice (crooked guards who'll be sold out for a nickel, inmates who'll kill on order and get away with it, well mannered, middle class inmates being turned into prison bitches due to their lack of street skills or prison experience) Watching Oz, you may become comfortable with what is uncomfortable viewing....thats if you can get in touch with your darker side.\",\n",
       "        'A wonderful little production. <br /><br />The filming technique is very unassuming- very old-time-BBC fashion and gives a comforting, and sometimes discomforting, sense of realism to the entire piece. <br /><br />The actors are extremely well chosen- Michael Sheen not only \"has got all the polari\" but he has all the voices down pat too! You can truly see the seamless editing guided by the references to Williams\\' diary entries, not only is it well worth the watching but it is a terrificly written and performed piece. A masterful production about one of the great master\\'s of comedy and his life. <br /><br />The realism really comes home with the little things: the fantasy of the guard which, rather than use the traditional \\'dream\\' techniques remains solid then disappears. It plays on our knowledge and our senses, particularly with the scenes concerning Orton and Halliwell and the sets (particularly of their flat with Halliwell\\'s murals decorating every surface) are terribly well done.',\n",
       "        'I thought this was a wonderful way to spend time on a too hot summer weekend, sitting in the air conditioned theater and watching a light-hearted comedy. The plot is simplistic, but the dialogue is witty and the characters are likable (even the well bread suspected serial killer). While some may be disappointed when they realize this is not Match Point 2: Risk Addiction, I thought it was proof that Woody Allen is still fully in control of the style many of us have grown to love.<br /><br />This was the most I\\'d laughed at one of Woody\\'s comedies in years (dare I say a decade?). While I\\'ve never been impressed with Scarlet Johanson, in this she managed to tone down her \"sexy\" image and jumped right into a average, but spirited young woman.<br /><br />This may not be the crown jewel of his career, but it was wittier than \"Devil Wears Prada\" and more interesting than \"Superman\" a great comedy to go see with friends.',\n",
       "        ...,\n",
       "        \"Once again Jet Li brings his charismatic presence to the movie screen in the film Black Mask. In this film Li plays Tsui, an escapee from a super soldier program who seeks to regain the humanity that the program had taken away from him. To do this Tsui decides to become a librarian in order to live a normal and peaceful life, but fate demands that he clean up problems from his past before he can continue to seek peace. Other members of the super soldier program had escaped at the same time as Tsui, but they want to get even with the world rather than find inner peace. Thus Tsui becomes the only thing that can prevent his former team mates from releasing information that could cost many innocent people their lives. This film screams across the screen at a frantic pace and never lets its audience go. The martial arts is amazing, but because it uses wires it may not be appreciated as much as it deserves by American audiences. If you like action movies that have an interesting story and demand good acting performances because they deal with psychological as well as physical conflicts, then Black Mask is for you. I am glad to see that some of Jet Li's movies are finally getting main stream release in the United States and look forward to seeing how the changes that that release will require (things like dubbing and soundtrack) will affect the film. This is one of Li's best films, go out and see it on May 14 when it is released in America.\",\n",
       "        'I rented this movie, after hearing Chris Gore saying something to the effect of \"five stars!\" on that Attack of the Show show. Well when I turned around the DVD and it showed the 3 stages of hell, well I had to buy it. Just to see the spectacle of a mother yelling at her son to drop her other son into a flaming pit.<br /><br />I wasn\\'t expecting ECW or CZW for an hour and eighteen minutes, but I was expecting at least a summarized version of what seemed to be the main highlight of this movie. Well sadly there wasn\\'t anything like that. The 3 stages of death part happens right from the beginning, and its pretty much downhill from there. Nothing really happens in this documentary. It was pretty raw, bare and unbiased. Not a bad thing, but there is a narrator in this one. You\\'d expect him to have opinions on the subject of this documentary, but he doesn\\'t. Which would of been nice to have, a message or reason for this doc.There was no real reason to have a narrator, there should of been just text explaining some of the less obvious scenes.<br /><br />It doesn\\'t really explain the lives of these wrestlers either. It shows a few moments of some dramatic scenes, which sound interesting, but the reality isn\\'t as great as it sounds. For instance mom watching her son wrestle with light bulbs and tacks, for the first time, at a public park. instead of seeing her reaction to the wrestling, They show her reacting to the camera, instead of say a interview later on, or just actually witnessing her reactions.<br /><br />Legitamit document wise, this one ain\\'t. The source material was flimsy to begin with. Nothing truly profound or interesting really happens. No conclusion to a few of the more interesting stories, No real point or final thought to backyard wrestling, edited together badly, and its and its basically a cheap, failed rip off of Beyond the Mat.<br /><br />Wrestling wise, this is pretty boring. the better bumps are at the beginning, and slowly become less amazing and shocking. If you have seen Japanese wrestling, Indie wrestling, or even Backyard Wrestling Dvds, than this wont shock and awe you. If you want wrestling don\\'t make the same mistake I did and see this one. Go get some CZW ECW or XPW Dvds instead.<br /><br />The only thing I got out of this documentary was how stupid people can be. Not for supporting self mutilation or doing dangerous stunts, but their reasoning for committing these acts. The backyarders seem stupid for wrestling. Most of them are jobless, and probably have a few issues in their head, and wrestling is a type of therapy for them. Than the supporters seem even more idiotic. Mothers basically take the whole \"if ya cant beat em join em\" reasoning to cope with the fact that their sons are basically killing themselves. School authority figures support their students in their dangerous stunts because its an alternative to joining gangs and to a lesser extend doing drugs, which is kinda funny since that segment took place in a rural town, where like people live 20 miles from one another. People are stupid. Thats what I extracted from this documentary.<br /><br />If you want to see the reasoning and thoughts to someone brutalizing themselves in wrestling and basically what the back of this DVD promises, get UNSCARRED: the Life of Nick Mondo. Its more amazing, and interesting than the Backyard, and a lot more entertaining. Oh and its actually good.',\n",
       "        'This was a big disappointment for me. I think this is the worst Mastroianni-movie ever made. Cosmatos tries too hard to make this movie a masterpiece and that makes this movie a typical \"art\"-movie. I give 4/10 for this movie.'],\n",
       "       dtype=object),\n",
       " array(['positive', 'positive', 'positive', ..., 'positive', 'negative',\n",
       "        'negative'], dtype=object))"
      ]
     },
     "execution_count": 18,
     "metadata": {},
     "output_type": "execute_result"
    }
   ],
   "source": [
    "def extract_bag_of_words_train_test(train_file, test_file):\n",
    "    import numpy as np\n",
    "    import nltk\n",
    "    import pandas as pd\n",
    "    \n",
    "    # Read the CSV file and extract Bag of Words Features\n",
    "    \n",
    "    train = pd.read_csv(train_file)\n",
    "    test = pd.read_csv(test_file)\n",
    "    \n",
    "    X_train = np.array(train.review)\n",
    "    X_test = np.array(test.review)\n",
    "    y_train = np.array(train.sentiment)\n",
    "    y_test = np.array(test.sentiment)\n",
    "    \n",
    "    return (X_train,y_train,X_test,y_test)\n",
    "\n",
    "extract_bag_of_words_train_test('movie_review_test.csv', 'movie_review_train.csv')"
   ]
  },
  {
   "cell_type": "code",
   "execution_count": 4,
   "id": "e94c07a4",
   "metadata": {},
   "outputs": [],
   "source": [
    "class SVMClassifier:\n",
    "    def __init__(self):\n",
    "        import numpy as np\n",
    "        from sklearn import svm\n",
    "        #implement initialisation\n",
    "        self.some_paramter=1\n",
    "    # define your own kernel here\n",
    "    # Refer to the documentation here: https://scikit-learn.org/stable/auto_examples/svm/plot_custom_kernel.html\n",
    "    def fit(self, X,y):\n",
    "        # training of the SVM\n",
    "        # Ensure you call your own defined kernel here\n",
    "        return\n",
    "    def predict(self, X):\n",
    "        # prediction routine for the SVM\n",
    "        return    "
   ]
  },
  {
   "cell_type": "markdown",
   "id": "35e6f272",
   "metadata": {},
   "source": [
    "### Test function that will be called to evaluate your code. Separate test dataset will be provided\n",
    "\n",
    "Do not modify the code below. Please write your code above such that it can be evaluated by the function below. You can modify your code above such that you obtain the best performance through this function. "
   ]
  },
  {
   "cell_type": "code",
   "execution_count": 5,
   "id": "89603f43",
   "metadata": {},
   "outputs": [],
   "source": [
    "def test_func_svm(dataset_train, dataset_test):\n",
    "    from sklearn.metrics import accuracy_score  \n",
    "    (X_train, Y_train, X_test, Y_test) = extract_bag_of_words_train_test(dataset_train, dataset_test)\n",
    "    sc = SVMClassifier()\n",
    "    sc.fit(X_train, Y_train)\n",
    "    Y_Pred = sc.predict(X_test)\n",
    "    acc = accuracy_score(Y_test, Y_Pred)\n",
    "    print(\"Accuracy:\",acc)\n",
    "    return acc"
   ]
  },
  {
   "cell_type": "code",
   "execution_count": 6,
   "id": "4ffd4adf",
   "metadata": {},
   "outputs": [
    {
     "ename": "NameError",
     "evalue": "name 'X_train' is not defined",
     "output_type": "error",
     "traceback": [
      "\u001b[0;31m---------------------------------------------------------------------------\u001b[0m",
      "\u001b[0;31mNameError\u001b[0m                                 Traceback (most recent call last)",
      "\u001b[0;32m<ipython-input-6-1f5baa16f6e6>\u001b[0m in \u001b[0;36m<module>\u001b[0;34m\u001b[0m\n\u001b[0;32m----> 1\u001b[0;31m \u001b[0macc\u001b[0m \u001b[0;34m=\u001b[0m \u001b[0mtest_func_svm\u001b[0m\u001b[0;34m(\u001b[0m\u001b[0;34m\"movie_review_train.csv\"\u001b[0m\u001b[0;34m,\u001b[0m \u001b[0;34m\"movie_review_test.csv\"\u001b[0m\u001b[0;34m)\u001b[0m\u001b[0;34m\u001b[0m\u001b[0;34m\u001b[0m\u001b[0m\n\u001b[0m",
      "\u001b[0;32m<ipython-input-5-092567975f27>\u001b[0m in \u001b[0;36mtest_func_svm\u001b[0;34m(dataset_train, dataset_test)\u001b[0m\n\u001b[1;32m      1\u001b[0m \u001b[0;32mdef\u001b[0m \u001b[0mtest_func_svm\u001b[0m\u001b[0;34m(\u001b[0m\u001b[0mdataset_train\u001b[0m\u001b[0;34m,\u001b[0m \u001b[0mdataset_test\u001b[0m\u001b[0;34m)\u001b[0m\u001b[0;34m:\u001b[0m\u001b[0;34m\u001b[0m\u001b[0;34m\u001b[0m\u001b[0m\n\u001b[1;32m      2\u001b[0m     \u001b[0;32mfrom\u001b[0m \u001b[0msklearn\u001b[0m\u001b[0;34m.\u001b[0m\u001b[0mmetrics\u001b[0m \u001b[0;32mimport\u001b[0m \u001b[0maccuracy_score\u001b[0m\u001b[0;34m\u001b[0m\u001b[0;34m\u001b[0m\u001b[0m\n\u001b[0;32m----> 3\u001b[0;31m     \u001b[0;34m(\u001b[0m\u001b[0mX_train\u001b[0m\u001b[0;34m,\u001b[0m \u001b[0mY_train\u001b[0m\u001b[0;34m,\u001b[0m \u001b[0mX_test\u001b[0m\u001b[0;34m,\u001b[0m \u001b[0mY_test\u001b[0m\u001b[0;34m)\u001b[0m \u001b[0;34m=\u001b[0m \u001b[0mextract_bag_of_words_train_test\u001b[0m\u001b[0;34m(\u001b[0m\u001b[0mdataset_train\u001b[0m\u001b[0;34m,\u001b[0m \u001b[0mdataset_test\u001b[0m\u001b[0;34m)\u001b[0m\u001b[0;34m\u001b[0m\u001b[0;34m\u001b[0m\u001b[0m\n\u001b[0m\u001b[1;32m      4\u001b[0m     \u001b[0msc\u001b[0m \u001b[0;34m=\u001b[0m \u001b[0mSVMClassifier\u001b[0m\u001b[0;34m(\u001b[0m\u001b[0;34m)\u001b[0m\u001b[0;34m\u001b[0m\u001b[0;34m\u001b[0m\u001b[0m\n\u001b[1;32m      5\u001b[0m     \u001b[0msc\u001b[0m\u001b[0;34m.\u001b[0m\u001b[0mfit\u001b[0m\u001b[0;34m(\u001b[0m\u001b[0mX_train\u001b[0m\u001b[0;34m,\u001b[0m \u001b[0mY_train\u001b[0m\u001b[0;34m)\u001b[0m\u001b[0;34m\u001b[0m\u001b[0;34m\u001b[0m\u001b[0m\n",
      "\u001b[0;32m<ipython-input-3-8cb4b50b3379>\u001b[0m in \u001b[0;36mextract_bag_of_words_train_test\u001b[0;34m(train_file, test_file)\u001b[0m\n\u001b[1;32m      3\u001b[0m     \u001b[0;32mimport\u001b[0m \u001b[0mnltk\u001b[0m\u001b[0;34m\u001b[0m\u001b[0;34m\u001b[0m\u001b[0m\n\u001b[1;32m      4\u001b[0m     \u001b[0;31m# Read the CSV file and extract Bag of Words Features\u001b[0m\u001b[0;34m\u001b[0m\u001b[0;34m\u001b[0m\u001b[0;34m\u001b[0m\u001b[0m\n\u001b[0;32m----> 5\u001b[0;31m     \u001b[0;32mreturn\u001b[0m \u001b[0;34m(\u001b[0m\u001b[0mX_train\u001b[0m\u001b[0;34m,\u001b[0m\u001b[0my_train\u001b[0m\u001b[0;34m,\u001b[0m\u001b[0mX_test\u001b[0m\u001b[0;34m,\u001b[0m\u001b[0my_test\u001b[0m\u001b[0;34m)\u001b[0m\u001b[0;34m\u001b[0m\u001b[0;34m\u001b[0m\u001b[0m\n\u001b[0m",
      "\u001b[0;31mNameError\u001b[0m: name 'X_train' is not defined"
     ]
    }
   ],
   "source": [
    "acc = test_func_svm(\"movie_review_train.csv\", \"movie_review_test.csv\")"
   ]
  },
  {
   "cell_type": "markdown",
   "id": "61056292",
   "metadata": {},
   "source": [
    "### Task 2\n",
    "\n",
    "In this task you need to implement a boosting based classifier that can be used to classify the images. \n",
    "\n",
    "Details regarding the marking for the coursework are provided in the coursework specification file. Please ensure that your code will work with a different test file than the one provided with the coursework.\n",
    "\n",
    "Note that the boosting classifier you implement can include decision trees from scikit-learn or your own decision trees. Use the same sentiment analysis dataset for evaluation."
   ]
  },
  {
   "cell_type": "code",
   "execution_count": 4,
   "id": "3805e672",
   "metadata": {},
   "outputs": [],
   "source": [
    "class BoostingClassifier:\n",
    "    # You need to implement this classifier. \n",
    "    def __init__(self):\n",
    "        import numpy as np\n",
    "        #implement initialisation\n",
    "        self.some_paramter=1\n",
    "    def fit(self, X,y):\n",
    "        from sklearn.tree import DecisionTreeClassifier\n",
    "        import numpy as np\n",
    "        #implement training of the boosting classifier\n",
    "        return \n",
    "    def predict(self, X):\n",
    "        # implement prediction of the boosting classifier\n",
    "        return"
   ]
  },
  {
   "cell_type": "markdown",
   "id": "af6e0987",
   "metadata": {},
   "source": [
    "### Test function that will be called to evaluate your code. Separate test dataset will be provided\n",
    "\n",
    "Do not modify the code below. Please write your code above such that it can be evaluated by the function below. You can modify your code above such that you obtain the best performance through this function. "
   ]
  },
  {
   "cell_type": "code",
   "execution_count": 5,
   "id": "4632591c",
   "metadata": {},
   "outputs": [],
   "source": [
    "def test_func_boosting(dataset_train, dataset_test):\n",
    "    from sklearn.metrics import accuracy_score    \n",
    "    (X_train, Y_train, X_test, Y_test) = extract_bag_of_words_train_test(dataset_train, dataset_test)\n",
    "    bc = BoostingClassifier()\n",
    "    bc.fit(X_train, Y_train)\n",
    "    Y_Pred = bc.predict(X_test)    \n",
    "    acc = accuracy_score(Y_test, Y_Pred)\n",
    "    return acc"
   ]
  },
  {
   "cell_type": "code",
   "execution_count": null,
   "id": "d6c27de1",
   "metadata": {},
   "outputs": [],
   "source": [
    "acc = test_func_boosting(\"movie_review_train.csv\", \"movie_review_test.csv\")"
   ]
  }
 ],
 "metadata": {
  "kernelspec": {
   "display_name": "Python 3",
   "language": "python",
   "name": "python3"
  },
  "language_info": {
   "codemirror_mode": {
    "name": "ipython",
    "version": 3
   },
   "file_extension": ".py",
   "mimetype": "text/x-python",
   "name": "python",
   "nbconvert_exporter": "python",
   "pygments_lexer": "ipython3",
   "version": "3.8.8"
  }
 },
 "nbformat": 4,
 "nbformat_minor": 5
}
