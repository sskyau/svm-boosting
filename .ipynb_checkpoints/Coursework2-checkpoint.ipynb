{
 "cells": [
  {
   "cell_type": "markdown",
   "id": "44281064",
   "metadata": {},
   "source": [
    "### Coursework 2\n",
    "\n",
    "In this coursework you will be aiming to complete two classification tasks. \n",
    "Both the classification tasks relate to text classification tasks. \n",
    "\n",
    "One task is to be solved using Support Vector Machines. The other has to be solved using Boosting.\n",
    "\n",
    "The specific tasks and the marking for the various tasks are provided in the notebook. Each task is expected to be accompanied by a lab-report. Each task can have a concise lab report that is maximum of one page in an A4 size. You will be expected to submit your Jupyter Notebook and all lab reports as a single zip file. You could have additional functions implemented that you require for carrying out each task.\n"
   ]
  },
  {
   "cell_type": "markdown",
   "id": "221ffe46",
   "metadata": {},
   "source": [
    "#### Task 1\n",
    "\n",
    "In this task, you need to obtain sentiment analysis for the provided dataset. The dataset consists of movie reviews with the sentiments being provided. The sentiments are either positive or negative. You need to train an SVM based classifier to obtain train and check on the sample test dataset provided. The method will be evaluated also against an external test set. Please do not hardcode any dimensions or number of samples while writing the code. It should be possible to automate the testing and hardcoding values does not allow for automated testing. \n",
    "\n",
    "You are allowed to use scikit-learn to implement the SVM. However, you are expected to write your own kernels.\n",
    "\n",
    "You are allowed to use the existing library functions such as scikit-learn or numpy for obtaining the SVM. The main idea is to analyse the dataset using different kind of kernels. You are also supposed to write your own custom text kernels. Refer to the documentation provided [here](https://scikit-learn.org/stable/modules/svm.html) at 1.4.6.2 and an example [here](https://scikit-learn.org/stable/auto_examples/svm/plot_custom_kernel.html) for writing your own kernels.\n",
    "\n",
    "Details regarding the marking have been provided in the coursework specification file. Ensure that the code can be run with different test files. "
   ]
  },
  {
   "cell_type": "markdown",
   "id": "7385ce53",
   "metadata": {},
   "source": [
    "#### Process the text and obtain a bag of words-based features "
   ]
  },
  {
   "cell_type": "code",
   "execution_count": 16,
   "id": "e0ac481e",
   "metadata": {},
   "outputs": [
    {
     "name": "stderr",
     "output_type": "stream",
     "text": [
      "[nltk_data] Downloading package stopwords to\n",
      "[nltk_data]     /Users/Sayuri/nltk_data...\n",
      "[nltk_data]   Package stopwords is already up-to-date!\n",
      "[nltk_data] Downloading package words to /Users/Sayuri/nltk_data...\n",
      "[nltk_data]   Package words is already up-to-date!\n",
      "[nltk_data] Downloading package brown to /Users/Sayuri/nltk_data...\n",
      "[nltk_data]   Package brown is already up-to-date!\n",
      "[nltk_data] Downloading package wordnet to /Users/Sayuri/nltk_data...\n",
      "[nltk_data]   Package wordnet is already up-to-date!\n",
      "[nltk_data] Downloading package omw-1.4 to /Users/Sayuri/nltk_data...\n",
      "[nltk_data]   Package omw-1.4 is already up-to-date!\n"
     ]
    }
   ],
   "source": [
    "import re\n",
    "import nltk\n",
    "from nltk.corpus import stopwords\n",
    "from nltk.stem import PorterStemmer\n",
    "from nltk.tokenize import word_tokenize\n",
    "from nltk.metrics.distance import jaccard_distance\n",
    "from bs4 import BeautifulSoup\n",
    "from nltk.util import ngrams\n",
    "from nltk.corpus import brown\n",
    "from nltk.corpus import words\n",
    "from nltk import FreqDist\n",
    "import numpy as np\n",
    "import pandas as pd\n",
    "from sklearn.feature_extraction.text import TfidfVectorizer\n",
    "from nltk.stem import WordNetLemmatizer\n",
    "import unidecode\n",
    "import spacy\n",
    "import en_core_web_sm\n",
    "import contractions\n",
    "import string\n",
    "from tqdm.notebook import tqdm # for showing progress bar\n",
    "from sklearn.model_selection import GridSearchCV\n",
    "\n",
    "nltk.download('stopwords')\n",
    "nltk.download('words')\n",
    "nltk.download('brown')\n",
    "nltk.download('wordnet')\n",
    "nltk.download('omw-1.4')\n",
    "\n",
    "# initialization\n",
    "#lemmatizer = WordNetLemmatizer()\n",
    "#stemmer = PorterStemmer()\n",
    "pattern = re.compile(r\"(.)\\1{2,}\")\n",
    "punc_translator = str.maketrans('', '', string.punctuation)\n",
    "num_translator = str.maketrans('', '', string.digits)\n",
    "nlp = en_core_web_sm.load()\n",
    "stopwords = nlp.Defaults.stop_words\n",
    "\n",
    "# Words that could influence meaning of words, e.g. not good, not bad\n",
    "stopwords.remove('not')\n",
    "stopwords.remove('cannot')   \n",
    "\n",
    "# Words that occur very freqently in the dataset but with limited influence on the sentiment\n",
    "stopwords.add('bit')  \n",
    "\n",
    "# Task-specific stop words\n",
    "stopwords.add('movie')\n",
    "stopwords.add('film') \n",
    "stopwords.add('cinema')\n",
    "stopwords.add('plot')\n",
    "\n",
    "def pre_processing(dataset):\n",
    "    \n",
    "    to_return = []\n",
    "    \n",
    "    for i in tqdm(range(len(dataset))):\n",
    "        filtered_data = []\n",
    "        \n",
    "        #print(i)\n",
    "        #print('original:')\n",
    "        #print(dataset[i])\n",
    "        # remove html tags\n",
    "        dataset[i] = BeautifulSoup(dataset[i]).get_text()\n",
    "        \n",
    "        # (1) convert to lower case\n",
    "        dataset[i] = dataset[i].lower()\n",
    "        \n",
    "        # (2) convert accented character\n",
    "        dataset[i] = unidecode.unidecode(dataset[i]) \n",
    "        \n",
    "        # (3) if there are >2 consecutive duplicated characters, convert to 2 consecutive duplicated characters\n",
    "        # e.g. finallllly --> finally\n",
    "        dataset[i] = pattern.sub(r\"\\1\\1\", dataset[i]) \n",
    "        \n",
    "        # (4) expand contractions\n",
    "        dataset[i] = contractions.fix(dataset[i])\n",
    "        \n",
    "        # (5) strip punctuation\n",
    "        dataset[i] = dataset[i].translate(punc_translator)\n",
    "        \n",
    "        # (6) strip numbers\n",
    "        dataset[i] = dataset[i].translate(num_translator)\n",
    "        \n",
    "        # spacy tokenization\n",
    "        tokens = nlp(dataset[i])\n",
    "        \n",
    "        # stemming\n",
    "        #dataset[i] = [stemmer.stem(word) for word in dataset[i]]\n",
    "        \n",
    "        # filter out words that are:\n",
    "        # - stopwords\n",
    "        # - with length <= 2\n",
    "        # - demonstratives\n",
    "        for token in tokens:\n",
    "\n",
    "            if token.lemma_ != \"-PRON-\" and token.lemma_!=\"-PROPN-\":\n",
    "                # lemmatization\n",
    "                #print(token.text)\n",
    "                word = token.lemma_\n",
    "                #print(word)\n",
    "\n",
    "                # remove stopwords\n",
    "                if (word in stopwords):\n",
    "                    continue\n",
    "\n",
    "                # remove words with len <= 2\n",
    "                elif (len(word) <= 2):\n",
    "                    continue\n",
    "\n",
    "                else:\n",
    "                    filtered_data.append(word)\n",
    "        \n",
    "        # join words\n",
    "        filtered_data = ' '.join(filtered_data)\n",
    "        #print('processed:')\n",
    "        #print(filtered_data)\n",
    "        #print()\n",
    "        to_return.append(filtered_data)\n",
    "        \n",
    "    return to_return\n",
    "\n",
    "def extract_bag_of_words_train_test(train_file, test_file):\n",
    "    \n",
    "    # Read the CSV files for training and test sets\n",
    "    train = pd.read_csv(train_file)\n",
    "    test = pd.read_csv(test_file)\n",
    "    \n",
    "    X_train = np.array(train.review)\n",
    "    X_test = np.array(test.review)\n",
    "    y_train = np.array(train.sentiment)\n",
    "    y_test = np.array(test.sentiment)\n",
    "    \n",
    "    # Extract bag of words features\n",
    "    print(\"Train set: \")\n",
    "    print(\"Preprocessing progress: \")\n",
    "    X_train = pre_processing(X_train) \n",
    "    print(\"--Done--\\n\")\n",
    "    print(\"Test set: \")\n",
    "    print(\"Preprocessing progress: \")\n",
    "    X_test = pre_processing(X_test)\n",
    "    print('--Done--')\n",
    "    \n",
    "    return (X_train,y_train,X_test,y_test)"
   ]
  },
  {
   "cell_type": "code",
   "execution_count": 17,
   "id": "4db3e162",
   "metadata": {
    "scrolled": true
   },
   "outputs": [
    {
     "name": "stdout",
     "output_type": "stream",
     "text": [
      "Train set: \n",
      "Preprocessing progress: \n"
     ]
    },
    {
     "data": {
      "application/vnd.jupyter.widget-view+json": {
       "model_id": "f4c276a444ab40ea926178154cb164ed",
       "version_major": 2,
       "version_minor": 0
      },
      "text/plain": [
       "  0%|          | 0/5000 [00:00<?, ?it/s]"
      ]
     },
     "metadata": {},
     "output_type": "display_data"
    },
    {
     "name": "stdout",
     "output_type": "stream",
     "text": [
      "--Done--\n",
      "\n",
      "Test set: \n",
      "Preprocessing progress: \n"
     ]
    },
    {
     "data": {
      "application/vnd.jupyter.widget-view+json": {
       "model_id": "b4b504e1e8344cd7bc94bc68a98505c9",
       "version_major": 2,
       "version_minor": 0
      },
      "text/plain": [
       "  0%|          | 0/1500 [00:00<?, ?it/s]"
      ]
     },
     "metadata": {},
     "output_type": "display_data"
    },
    {
     "name": "stdout",
     "output_type": "stream",
     "text": [
      "--Done--\n"
     ]
    }
   ],
   "source": [
    "# self testing code - remove before submission\n",
    "(X_train, Y_train, X_test, Y_test) = extract_bag_of_words_train_test(\"movie_review_train.csv\", \"movie_review_test.csv\")"
   ]
  },
  {
   "cell_type": "code",
   "execution_count": 34,
   "id": "e94c07a4",
   "metadata": {},
   "outputs": [],
   "source": [
    "from sklearn import svm\n",
    "from sklearn import metrics\n",
    "from sklearn.metrics import accuracy_score \n",
    "from nltk.tokenize import word_tokenize\n",
    "import networkx as nx\n",
    "from grakel.utils import graph_from_networkx\n",
    "from grakel.kernels import WeisfeilerLehman, VertexHistogram\n",
    "from grakel import RandomWalk\n",
    "from grakel.kernels import ShortestPath\n",
    "from collections import defaultdict\n",
    "\n",
    "class SVMClassifier:\n",
    "    def __init__(self, kernel='linear', C=None, gamma=None, coef=None, d=None):\n",
    "        \n",
    "        #implement initialisation\n",
    "        self.clf = svm.SVC()\n",
    "        self.kernel = kernel\n",
    "        self.tf_idf = None\n",
    "        \n",
    "        # regularization parameter\n",
    "        self.C = C # penalty parameter\n",
    "        \n",
    "        # kernel parameters\n",
    "        self.gamma = gamma # kernel coef for rbf, poly, sigmoid\n",
    "        self.coef = coef #independent term for polynomial and sigmoid kernels\n",
    "        self.d = d # degree; for polynomial kernel\n",
    "\n",
    "        self.tf_idf = TfidfVectorizer(min_df = 18, # remove words that appear too rarely\n",
    "                                      max_df = 0.7, # remove words that appear too often\n",
    "                                      sublinear_tf = True,\n",
    "                                      ngram_range=(1,2),\n",
    "                                      max_features=10000\n",
    "                                      )\n",
    "        \n",
    "        # custom  kernel\n",
    "        self.grakel = WeisfeilerLehman(n_iter=1, normalize=False, base_graph_kernel=RandomWalk)\n",
    "        self.custom_X = None\n",
    "        \n",
    "    # define your own kernel here\n",
    "    # Refer to the documentation here: https://scikit-learn.org/stable/auto_examples/svm/plot_custom_kernel.html\n",
    "    \n",
    "    def create_vocab_dict(self, X):\n",
    "        d = defaultdict(dict)\n",
    "        \n",
    "        print('Creating vocab dictionary...')\n",
    "        for review in tqdm(X):\n",
    "            tokens = nlp(review)\n",
    "            for token in tokens:\n",
    "                word = token.lemma_\n",
    "                if word not in d:\n",
    "                    d[word] = len(d[word])\n",
    "        \n",
    "        print('Number of vocab: ', len(d))\n",
    "        \n",
    "        return d\n",
    "    \n",
    "    \n",
    "    def create_graph(self, X, vocab_dict, window=3):\n",
    "    \n",
    "    ## Hyperparameter:\n",
    "    ## window: \n",
    "    ## - represents co-occurence of words\n",
    "    ## - typically 2 to 10 (p2 - https://aclanthology.org/S15-2093.pdf)\n",
    "        graphs = []\n",
    "        \n",
    "        print('Creating graphs...')\n",
    "        for review in tqdm(X):\n",
    "            G = nx.Graph()\n",
    "            tokens = nlp(review)\n",
    "            # create nodes\n",
    "            for i in range(len(tokens)):\n",
    "                word = tokens[i].lemma_\n",
    "                if word not in G.nodes():\n",
    "                    G.add_node(word)\n",
    "                    G.nodes[word]['label'] = vocab_dict[word]\n",
    "                    print(vocab_dict[word])\n",
    "            \n",
    "            # create edges\n",
    "            for i in range(len(tokens)):\n",
    "                w1 = tokens[i].lemma_\n",
    "                for j in range(i + 1, i + window):\n",
    "                    if j < len(tokens):\n",
    "                        w2 = tokens[j].lemma_\n",
    "                        G.add_edge(w1, w2)\n",
    "                        \n",
    "            graphs.append(G)\n",
    "        \n",
    "        self.custom_graphs = graphs\n",
    "        \n",
    "        return graphs\n",
    "    \n",
    "    def custom_kernel(self, X): \n",
    "        \n",
    "        # reference: https://github.com/ysig/GraKeL/blob/master/tutorials/text_categorization/text_categorization.ipynb\n",
    "        vocab_dict = self.create_vocab_dict(X)\n",
    "        \n",
    "        # create graph-of-words representations\n",
    "        X_nx = self.create_graph(X, vocab_dict)\n",
    "        \n",
    "        # convert nextworkx graphs to grakel representation\n",
    "        X_gk = list(graph_from_networkx(X_nx, node_labels_tag='label'))     \n",
    "        \n",
    "        return X_gk\n",
    "        \n",
    "    def fit(self, X, y):\n",
    "        # training of the SVM\n",
    "        # Ensure you call your own defined kernel here\n",
    "            \n",
    "        # get feature vectors for train and val sets\n",
    "        if self.kernel != 'custom':\n",
    "            #print('not custom')\n",
    "            \n",
    "            X = self.tf_idf.fit_transform(X)\n",
    "            \n",
    "            # calling diff kernels\n",
    "            if self.kernel == 'linear':\n",
    "                #print('linear')\n",
    "                \n",
    "                # for hyperparameter tuning\n",
    "                #self.clf = svm.SVC(kernel='linear')\n",
    "                                   \n",
    "                # after hyperparameting tuning\n",
    "                self.clf = svm.SVC(kernel='linear', C=self.C)\n",
    "\n",
    "            elif self.kernel == 'polynomial':\n",
    "                \n",
    "                # for hyperparameter tuning\n",
    "                self.clf = svm.SVC(kernel='poly')\n",
    "                \n",
    "                # after hyperparameter tuning (for submission)\n",
    "                #self.clf = svm.SVC(kernel='poly', C=self.C, gamma=self.gamma, coef0=self.coef, degree=self.d)\n",
    "                \n",
    "            elif self.kernel == 'sigmoid':\n",
    "                \n",
    "                # for hyperparameter tuning\n",
    "                self.clf = svm.SVC(kernel='sigmoid')\n",
    "                \n",
    "                # after hyperparameter tuning (for submission)\n",
    "                #self.clf = svm.SVC(kernel='sigmoid', C=self.C, gamma=self.gamma, coef0=self.coef)\n",
    "                \n",
    "            elif self.kernel == 'rbf':\n",
    "                \n",
    "                # for hyperparameter tuning\n",
    "                self.clf = svm.SVC(kernel='rbf')\n",
    "                \n",
    "                # after hyperparameter tuning (for submission)\n",
    "                #self.clf = svm.SVC(kernel='rbf', C=self.C, gamma=self.gamma)\n",
    "\n",
    "        elif self.kernel == 'custom':\n",
    "            \n",
    "            self.clf = svm.SVC(kernel='precomputed', C=self.C)\n",
    "            X = self.custom_kernel(X)\n",
    "            X = self.grakel.fit_transform(X)\n",
    "        \n",
    "        self.clf.fit(X,y)\n",
    "    \n",
    "        \n",
    "    def predict(self, X):\n",
    "        \n",
    "        if self.kernel == 'custom':\n",
    "            X = self.grakel.transform(X)\n",
    "        else:\n",
    "            X = self.tf_idf.transform(X)\n",
    "        # prediction routine for the SVM\n",
    "        return self.clf.predict(X)"
   ]
  },
  {
   "cell_type": "code",
   "execution_count": null,
   "id": "e45fd2bf",
   "metadata": {
    "scrolled": true
   },
   "outputs": [
    {
     "name": "stdout",
     "output_type": "stream",
     "text": [
      "Creating vocab dictionary...\n"
     ]
    },
    {
     "data": {
      "application/vnd.jupyter.widget-view+json": {
       "model_id": "cff3c14351ff477c971f66fc08221ff5",
       "version_major": 2,
       "version_minor": 0
      },
      "text/plain": [
       "  0%|          | 0/5000 [00:00<?, ?it/s]"
      ]
     },
     "metadata": {},
     "output_type": "display_data"
    }
   ],
   "source": [
    "# self testing code - remove before submission\n",
    "# Custom kernel\n",
    "\n",
    "from sklearn.metrics import classification_report\n",
    "\n",
    "custom_perf = []\n",
    "custom_rpt = []\n",
    "\n",
    "# Hyperparameter grid search with cross-validation\n",
    "#'''\n",
    "C_rng = np.logspace(-2, 2, 1)\n",
    "params_grid = {'C': C_rng}\n",
    "\n",
    "custom_sc = SVMClassifier(kernel='custom')\n",
    "custom_search = GridSearchCV(custom_sc.clf, params_grid, cv=5, verbose=10, scoring='accuracy')\n",
    "custom_X_train = custom_sc.grakel.fit_transform(custom_sc.custom_kernel(X_train))\n",
    "custom_search.fit(custom_X_train, Y_train)\n",
    "print(custom_search.best_params_)\n",
    "print(custom_search.best_estimator_)\n",
    "#'''\n",
    "\n",
    "# plug in the best parameter found to test accuracy for test set\n",
    "'''\n",
    "custom_sc = SVMClassifier(kernel='custom', C=0.8)\n",
    "custom_sc.fit(X_train, Y_train)\n",
    "custom_pred = custom_sc.predict(X_test)\n",
    "print(classification_report(Y_test, custom_pred))\n",
    "'''"
   ]
  },
  {
   "cell_type": "code",
   "execution_count": 11,
   "id": "3ca6d84f",
   "metadata": {},
   "outputs": [
    {
     "name": "stdout",
     "output_type": "stream",
     "text": [
      "Creating vocab dictionary...\n"
     ]
    },
    {
     "data": {
      "application/vnd.jupyter.widget-view+json": {
       "model_id": "318e0bf39bad4077bc95a1c20b05329d",
       "version_major": 2,
       "version_minor": 0
      },
      "text/plain": [
       "  0%|          | 0/5000 [00:00<?, ?it/s]"
      ]
     },
     "metadata": {},
     "output_type": "display_data"
    },
    {
     "name": "stdout",
     "output_type": "stream",
     "text": [
      "Creating graphs...\n"
     ]
    },
    {
     "data": {
      "application/vnd.jupyter.widget-view+json": {
       "model_id": "4dad236b95274982b07257bf9b058b4d",
       "version_major": 2,
       "version_minor": 0
      },
      "text/plain": [
       "  0%|          | 0/5000 [00:00<?, ?it/s]"
      ]
     },
     "metadata": {},
     "output_type": "display_data"
    },
    {
     "data": {
      "image/png": "[encoded data removed]",
      "text/plain": [
       "<Figure size 432x288 with 1 Axes>"
      ]
     },
     "metadata": {},
     "output_type": "display_data"
    }
   ],
   "source": [
    "custom_sc.custom_kernel(X_train)\n",
    "train_nx = custom_sc.custom_graphs"
   ]
  },
  {
   "cell_type": "code",
   "execution_count": null,
   "id": "4388e5da",
   "metadata": {},
   "outputs": [],
   "source": [
    "nx.draw_networkx(train_nx[5], with_labels=True)"
   ]
  },
  {
   "cell_type": "code",
   "execution_count": 468,
   "id": "4a582715",
   "metadata": {
    "scrolled": true
   },
   "outputs": [
    {
     "name": "stdout",
     "output_type": "stream",
     "text": [
      "              precision    recall  f1-score   support\n",
      "\n",
      "    negative       0.86      0.86      0.86       731\n",
      "    positive       0.87      0.87      0.87       769\n",
      "\n",
      "    accuracy                           0.86      1500\n",
      "   macro avg       0.86      0.86      0.86      1500\n",
      "weighted avg       0.86      0.86      0.86      1500\n",
      "\n"
     ]
    }
   ],
   "source": [
    "# self testing code - remove before submission\n",
    "# Hyperparameter tuning for linear kernel\n",
    "\n",
    "from sklearn.model_selection import GridSearchCV\n",
    "from sklearn.metrics import classification_report\n",
    "\n",
    "linear_perf = []\n",
    "linear_rpt = []\n",
    "\n",
    "# Hyperparameter grid search with cross-validation\n",
    "'''\n",
    "params_grid = {'C': np.linspace(0.7,1.5,1)}\n",
    "\n",
    "linear_sc = SVMClassifier(kernel='linear')\n",
    "linear_search = GridSearchCV(linear_sc.clf, params_grid, cv=5, verbose=10)\n",
    "#linear_X_train = linear_sc.tf_idf.fit_transform(X_train)\n",
    "linear_search.fit(X_train, Y_train)\n",
    "print(linear_search.best_params_)\n",
    "print(linear_search.best_estimator_)\n",
    "'''\n",
    "\n",
    "# plug in the best parameter found to test accuracy for test set\n",
    "#'''\n",
    "linear_sc = SVMClassifier(kernel='linear', C=0.8)\n",
    "linear_sc.fit(X_train, Y_train)\n",
    "linear_pred = linear_sc.predict(X_test)\n",
    "print(classification_report(Y_test, linear_pred))\n",
    "#'''"
   ]
  },
  {
   "cell_type": "code",
   "execution_count": 345,
   "id": "4eccbe1e",
   "metadata": {
    "scrolled": false
   },
   "outputs": [
    {
     "data": {
      "image/png": "[encoded data removed]",
      "text/plain": [
       "<Figure size 576x1080 with 1 Axes>"
      ]
     },
     "metadata": {
      "needs_background": "light"
     },
     "output_type": "display_data"
    }
   ],
   "source": [
    "# visualize top features (only for linear svm classifiers)\n",
    "\n",
    "from matplotlib import pyplot as plt\n",
    "from sklearn import svm\n",
    "\n",
    "def visualize_importances(coef, names, top_features):\n",
    "    imp = coef\n",
    "    imp,names = zip(*sorted(zip(imp,names)))\n",
    "    pos_idx = -np.sort(-np.arange(len(imp)-top_features-1, len(imp)))\n",
    "    neg_idx = -np.sort(-np.arange(0, top_features))\n",
    "    show_idx = np.hstack([pos_idx, neg_idx])\n",
    "    imp = [imp[i] for i in show_idx]\n",
    "    names = [names[i] for i in show_idx]\n",
    "    \n",
    "    colors = ['red' if c < 0 else 'green' for c in imp]\n",
    "    plt.figure(figsize=(8, 15))\n",
    "    plt.barh(range(len(names)), imp, align='center', color=colors)\n",
    "    plt.yticks(range(len(names)), names)\n",
    "    plt.show()\n",
    "\n",
    "features_names = linear_sc.tf_idf.get_feature_names_out()\n",
    "visualize_importances(linear_sc.clf.coef_.toarray()[0], features_names, top_features=30)"
   ]
  },
  {
   "cell_type": "code",
   "execution_count": 348,
   "id": "e8210a2e",
   "metadata": {},
   "outputs": [
    {
     "name": "stdout",
     "output_type": "stream",
     "text": [
      "predicted:  ['negative']\n",
      "correct prediction:  positive\n",
      "review: \n",
      "friend sit watch film material god devil heaven hell restaurant throw good measurefour guy prick die howis story guess ending skillfully realize little gem aussie cinema hat team\n",
      "['abandon' 'ability' 'able' ... 'zombie' 'zombie movie' 'zone']\n",
      "3985\n",
      "12\n",
      "friend  :  0.35770054992844086\n",
      "sit  :  -0.6702243340837688\n",
      "watch  :  0.7690493161944579\n",
      "film  :  0.3401005211773369\n",
      "material  :  -0.9186891619150938\n",
      "god  :  -0.8463265541832647\n",
      "devil  :  0.10157743382446605\n",
      "heaven  :  0.6229194482527987\n",
      "hell  :  -0.7777461578868344\n",
      "restaurant  :  -0.1072098553649968\n",
      "throw  :  -0.5308068757593809\n",
      "good  :  2.1807115677533235\n",
      "guy  :  -0.07076320238501307\n",
      "die  :  -1.1545126891839204\n",
      "story  :  0.4088650049713317\n",
      "guess  :  -0.9282068027869933\n",
      "ending  :  0.2924742838452581\n",
      "realize  :  0.3943598476385056\n",
      "little  :  0.43412523760757615\n",
      "gem  :  1.3230222951733384\n",
      "cinema  :  0.3740435535825703\n",
      "hat  :  -0.46470202925381876\n",
      "team  :  0.13671289814039445\n"
     ]
    }
   ],
   "source": [
    "# Analyze misclassified samples\n",
    "\n",
    "wrong_idx = [w for w in range(len(linear_pred)) if linear_pred[w] != Y_test[w]]\n",
    "inspect_idx = wrong_idx[1]\n",
    "print('predicted: ', linear_sc.predict([X_test[inspect_idx]]))\n",
    "print('correct prediction: ', Y_test[inspect_idx])\n",
    "print('review: ')\n",
    "print(X_test[inspect_idx])\n",
    "\n",
    "features_names = linear_sc.tf_idf.get_feature_names_out()\n",
    "print(features_names)\n",
    "print(len(features_names))\n",
    "print(inspect_idx)\n",
    "# get indices of X_test review words in the feature vector\n",
    "inspect_idx_list = []\n",
    "tokens = X_test[inspect_idx].split()\n",
    "for token in tokens:\n",
    "    #print(token)\n",
    "    idx = np.where(features_names==token)[0]\n",
    "    if idx.size>0:\n",
    "        #print(idx)\n",
    "        inspect_idx_list.append(*idx)\n",
    "for i in inspect_idx_list:\n",
    "    print(features_names[i], ' : ', linear_sc.clf.coef_.toarray()[0][i])\n",
    "    \n",
    "# find the most common words in misclassified samples (separate analysis for positive & negative samples)\n",
    "# map the feature value\n",
    "\n",
    "# find the ave. length of the correctly classified and misclassified samples, see if there's any pattern"
   ]
  },
  {
   "cell_type": "code",
   "execution_count": 361,
   "id": "acee4988",
   "metadata": {
    "scrolled": true
   },
   "outputs": [
    {
     "name": "stdout",
     "output_type": "stream",
     "text": [
      "Fitting 5 folds for each of 9 candidates, totalling 45 fits\n",
      "[CV 1/5; 1/9] START C=0.001, gamma=0.001........................................\n",
      "[CV 1/5; 1/9] END .........C=0.001, gamma=0.001;, score=0.506 total time=   9.3s\n",
      "[CV 2/5; 1/9] START C=0.001, gamma=0.001........................................\n",
      "[CV 2/5; 1/9] END .........C=0.001, gamma=0.001;, score=0.506 total time=  10.7s\n",
      "[CV 3/5; 1/9] START C=0.001, gamma=0.001........................................\n",
      "[CV 3/5; 1/9] END .........C=0.001, gamma=0.001;, score=0.506 total time=  10.2s\n",
      "[CV 4/5; 1/9] START C=0.001, gamma=0.001........................................\n",
      "[CV 4/5; 1/9] END .........C=0.001, gamma=0.001;, score=0.507 total time=  11.1s\n",
      "[CV 5/5; 1/9] START C=0.001, gamma=0.001........................................\n",
      "[CV 5/5; 1/9] END .........C=0.001, gamma=0.001;, score=0.507 total time=  11.3s\n",
      "[CV 1/5; 2/9] START C=0.001, gamma=316.22776601683796...........................\n",
      "[CV 1/5; 2/9] END C=0.001, gamma=316.22776601683796;, score=0.506 total time=  11.6s\n",
      "[CV 2/5; 2/9] START C=0.001, gamma=316.22776601683796...........................\n",
      "[CV 2/5; 2/9] END C=0.001, gamma=316.22776601683796;, score=0.506 total time=   9.6s\n",
      "[CV 3/5; 2/9] START C=0.001, gamma=316.22776601683796...........................\n",
      "[CV 3/5; 2/9] END C=0.001, gamma=316.22776601683796;, score=0.506 total time=   9.3s\n",
      "[CV 4/5; 2/9] START C=0.001, gamma=316.22776601683796...........................\n",
      "[CV 4/5; 2/9] END C=0.001, gamma=316.22776601683796;, score=0.507 total time=   9.4s\n",
      "[CV 5/5; 2/9] START C=0.001, gamma=316.22776601683796...........................\n",
      "[CV 5/5; 2/9] END C=0.001, gamma=316.22776601683796;, score=0.507 total time=   9.2s\n",
      "[CV 1/5; 3/9] START C=0.001, gamma=100000000.0..................................\n",
      "[CV 1/5; 3/9] END ...C=0.001, gamma=100000000.0;, score=0.506 total time=   9.2s\n",
      "[CV 2/5; 3/9] START C=0.001, gamma=100000000.0..................................\n",
      "[CV 2/5; 3/9] END ...C=0.001, gamma=100000000.0;, score=0.506 total time=   9.3s\n",
      "[CV 3/5; 3/9] START C=0.001, gamma=100000000.0..................................\n",
      "[CV 3/5; 3/9] END ...C=0.001, gamma=100000000.0;, score=0.506 total time=   9.2s\n",
      "[CV 4/5; 3/9] START C=0.001, gamma=100000000.0..................................\n",
      "[CV 4/5; 3/9] END ...C=0.001, gamma=100000000.0;, score=0.507 total time=   9.3s\n",
      "[CV 5/5; 3/9] START C=0.001, gamma=100000000.0..................................\n",
      "[CV 5/5; 3/9] END ...C=0.001, gamma=100000000.0;, score=0.507 total time=   9.3s\n",
      "[CV 1/5; 4/9] START C=316.22776601683796, gamma=0.001...........................\n",
      "[CV 1/5; 4/9] END C=316.22776601683796, gamma=0.001;, score=0.862 total time=   6.0s\n",
      "[CV 2/5; 4/9] START C=316.22776601683796, gamma=0.001...........................\n",
      "[CV 2/5; 4/9] END C=316.22776601683796, gamma=0.001;, score=0.861 total time=   6.0s\n",
      "[CV 3/5; 4/9] START C=316.22776601683796, gamma=0.001...........................\n",
      "[CV 3/5; 4/9] END C=316.22776601683796, gamma=0.001;, score=0.840 total time=   5.9s\n",
      "[CV 4/5; 4/9] START C=316.22776601683796, gamma=0.001...........................\n",
      "[CV 4/5; 4/9] END C=316.22776601683796, gamma=0.001;, score=0.859 total time=   5.9s\n",
      "[CV 5/5; 4/9] START C=316.22776601683796, gamma=0.001...........................\n",
      "[CV 5/5; 4/9] END C=316.22776601683796, gamma=0.001;, score=0.867 total time=   6.0s\n",
      "[CV 1/5; 5/9] START C=316.22776601683796, gamma=316.22776601683796..............\n",
      "[CV 1/5; 5/9] END C=316.22776601683796, gamma=316.22776601683796;, score=0.506 total time=   9.6s\n",
      "[CV 2/5; 5/9] START C=316.22776601683796, gamma=316.22776601683796..............\n",
      "[CV 2/5; 5/9] END C=316.22776601683796, gamma=316.22776601683796;, score=0.509 total time=   9.5s\n",
      "[CV 3/5; 5/9] START C=316.22776601683796, gamma=316.22776601683796..............\n",
      "[CV 3/5; 5/9] END C=316.22776601683796, gamma=316.22776601683796;, score=0.507 total time=   9.5s\n",
      "[CV 4/5; 5/9] START C=316.22776601683796, gamma=316.22776601683796..............\n",
      "[CV 4/5; 5/9] END C=316.22776601683796, gamma=316.22776601683796;, score=0.508 total time=   9.4s\n",
      "[CV 5/5; 5/9] START C=316.22776601683796, gamma=316.22776601683796..............\n",
      "[CV 5/5; 5/9] END C=316.22776601683796, gamma=316.22776601683796;, score=0.508 total time=   9.5s\n",
      "[CV 1/5; 6/9] START C=316.22776601683796, gamma=100000000.0.....................\n",
      "[CV 1/5; 6/9] END C=316.22776601683796, gamma=100000000.0;, score=0.506 total time=   9.4s\n",
      "[CV 2/5; 6/9] START C=316.22776601683796, gamma=100000000.0.....................\n",
      "[CV 2/5; 6/9] END C=316.22776601683796, gamma=100000000.0;, score=0.509 total time=   9.6s\n",
      "[CV 3/5; 6/9] START C=316.22776601683796, gamma=100000000.0.....................\n",
      "[CV 3/5; 6/9] END C=316.22776601683796, gamma=100000000.0;, score=0.507 total time=   9.4s\n",
      "[CV 4/5; 6/9] START C=316.22776601683796, gamma=100000000.0.....................\n",
      "[CV 4/5; 6/9] END C=316.22776601683796, gamma=100000000.0;, score=0.508 total time=   9.5s\n",
      "[CV 5/5; 6/9] START C=316.22776601683796, gamma=100000000.0.....................\n",
      "[CV 5/5; 6/9] END C=316.22776601683796, gamma=100000000.0;, score=0.508 total time=   9.6s\n",
      "[CV 1/5; 7/9] START C=100000000.0, gamma=0.001..................................\n",
      "[CV 1/5; 7/9] END ...C=100000000.0, gamma=0.001;, score=0.829 total time=   4.9s\n",
      "[CV 2/5; 7/9] START C=100000000.0, gamma=0.001..................................\n",
      "[CV 2/5; 7/9] END ...C=100000000.0, gamma=0.001;, score=0.819 total time=   4.9s\n",
      "[CV 3/5; 7/9] START C=100000000.0, gamma=0.001..................................\n",
      "[CV 3/5; 7/9] END ...C=100000000.0, gamma=0.001;, score=0.811 total time=   5.3s\n",
      "[CV 4/5; 7/9] START C=100000000.0, gamma=0.001..................................\n",
      "[CV 4/5; 7/9] END ...C=100000000.0, gamma=0.001;, score=0.818 total time=   5.2s\n",
      "[CV 5/5; 7/9] START C=100000000.0, gamma=0.001..................................\n",
      "[CV 5/5; 7/9] END ...C=100000000.0, gamma=0.001;, score=0.824 total time=   5.1s\n",
      "[CV 1/5; 8/9] START C=100000000.0, gamma=316.22776601683796.....................\n",
      "[CV 1/5; 8/9] END C=100000000.0, gamma=316.22776601683796;, score=0.506 total time=  10.2s\n",
      "[CV 2/5; 8/9] START C=100000000.0, gamma=316.22776601683796.....................\n",
      "[CV 2/5; 8/9] END C=100000000.0, gamma=316.22776601683796;, score=0.509 total time=  11.1s\n",
      "[CV 3/5; 8/9] START C=100000000.0, gamma=316.22776601683796.....................\n",
      "[CV 3/5; 8/9] END C=100000000.0, gamma=316.22776601683796;, score=0.507 total time=  10.5s\n",
      "[CV 4/5; 8/9] START C=100000000.0, gamma=316.22776601683796.....................\n",
      "[CV 4/5; 8/9] END C=100000000.0, gamma=316.22776601683796;, score=0.508 total time=  11.0s\n",
      "[CV 5/5; 8/9] START C=100000000.0, gamma=316.22776601683796.....................\n",
      "[CV 5/5; 8/9] END C=100000000.0, gamma=316.22776601683796;, score=0.508 total time=  11.1s\n",
      "[CV 1/5; 9/9] START C=100000000.0, gamma=100000000.0............................\n",
      "[CV 1/5; 9/9] END C=100000000.0, gamma=100000000.0;, score=0.506 total time=  10.7s\n",
      "[CV 2/5; 9/9] START C=100000000.0, gamma=100000000.0............................\n",
      "[CV 2/5; 9/9] END C=100000000.0, gamma=100000000.0;, score=0.509 total time=  11.0s\n",
      "[CV 3/5; 9/9] START C=100000000.0, gamma=100000000.0............................\n",
      "[CV 3/5; 9/9] END C=100000000.0, gamma=100000000.0;, score=0.507 total time=  11.2s\n",
      "[CV 4/5; 9/9] START C=100000000.0, gamma=100000000.0............................\n",
      "[CV 4/5; 9/9] END C=100000000.0, gamma=100000000.0;, score=0.508 total time=  11.3s\n",
      "[CV 5/5; 9/9] START C=100000000.0, gamma=100000000.0............................\n",
      "[CV 5/5; 9/9] END C=100000000.0, gamma=100000000.0;, score=0.508 total time=  10.8s\n",
      "{'C': 316.22776601683796, 'gamma': 0.001}\n",
      "SVC(C=316.22776601683796, gamma=0.001)\n"
     ]
    },
    {
     "data": {
      "text/plain": [
       "\"\\nrbf_sc = SVMClassifier(kernel='rbf', C= , gamma=)\\nrbf_sc.fit(X_train, Y_train)\\nrbf_pred = rbf_sc.predict(X_test)\\nprint(classification_report(Y_test, rbf_pred))\\n\""
      ]
     },
     "execution_count": 361,
     "metadata": {},
     "output_type": "execute_result"
    }
   ],
   "source": [
    "# self testing code - remove before submission\n",
    "## RBF kernel\n",
    "\n",
    "\n",
    "from sklearn.metrics import classification_report\n",
    "\n",
    "rbf_perf = []\n",
    "rbf_rpt = []\n",
    "\n",
    "# Hyperparameter tuning\n",
    "C_rng = np.logspace(-3, 8, 3)\n",
    "gamma_rng = np.logspace(-5, 4, 3)\n",
    "\n",
    "params_grid = {'C': C_rng,\n",
    "              'gamma': gamma_rng}\n",
    "\n",
    "rbf_sc = SVMClassifier(kernel='rbf')\n",
    "rbf_search = GridSearchCV(rbf_sc.clf, params_grid, cv=5, verbose=10)\n",
    "rbf_X_train = rbf_sc.tf_idf.fit_transform(X_train)\n",
    "rbf_search.fit(rbf_X_train, Y_train)\n",
    "print(rbf_search.best_params_)\n",
    "print(rbf_search.best_estimator_)\n",
    "\n",
    "\n",
    "# plug in the best parameter found to test accuracy for test set\n",
    "'''\n",
    "rbf_sc = SVMClassifier(kernel='rbf', C= , gamma=)\n",
    "rbf_sc.fit(X_train, Y_train)\n",
    "rbf_pred = rbf_sc.predict(X_test)\n",
    "print(classification_report(Y_test, rbf_pred))\n",
    "'''"
   ]
  },
  {
   "cell_type": "code",
   "execution_count": null,
   "id": "e0c8a1e2",
   "metadata": {},
   "outputs": [],
   "source": [
    "# visualize hyperparameters for rbf kernal\n",
    "\n",
    "# Plot the accuracy\n",
    "# reference: https://ogrisel.github.io/scikit-learn.org/sklearn-tutorial/auto_examples/svm/plot_svm_parameters_selection.html\n",
    "acc_dict = rbf_search.grid_scores_\n",
    "acc = [x[1] for x in acc_dict]\n",
    "acc = np.array(acc).reshape(len(C_rng), len(gamma_rng))\n",
    "\n",
    "pl.figure(figsize=(8, 6))\n",
    "pl.subplots_adjust(left=0.15, right=0.95, bottom=0.15, top=0.95)\n",
    "pl.imshow(acc, interpolation='nearest', cmap=pl.cm.spectral)\n",
    "pl.xlabel('gamma')\n",
    "pl.ylabel('C')\n",
    "pl.colorbar()\n",
    "pl.xticks(np.arange(len(gamma_rng)), gamma_rng, rotation=45)\n",
    "pl.yticks(np.arange(len(C_rng)), C_rng)\n",
    "pl.show()\n",
    "\n",
    "# permutation importance\n",
    "from sklearn.inspection import permutation_importance\n"
   ]
  },
  {
   "cell_type": "code",
   "execution_count": 32,
   "id": "5091b0fa",
   "metadata": {
    "scrolled": true
   },
   "outputs": [
    {
     "name": "stdout",
     "output_type": "stream",
     "text": [
      "not custom\n",
      "not custom\n",
      "not custom\n",
      "not custom\n",
      "not custom\n",
      "[0.846 0.852 0.862 0.858 0.867]\n",
      "mean score:  0.857\n",
      "['positive' 'positive' 'positive' ... 'positive' 'positive' 'negative']   ['negative' 'positive' 'positive' ... 'negative' 'positive' 'negative']\n",
      "Accuracy: 0.8586666666666667\n",
      "              precision    recall  f1-score   support\n",
      "\n",
      "    negative       0.86      0.85      0.85       731\n",
      "    positive       0.86      0.86      0.86       769\n",
      "\n",
      "    accuracy                           0.86      1500\n",
      "   macro avg       0.86      0.86      0.86      1500\n",
      "weighted avg       0.86      0.86      0.86      1500\n",
      "\n"
     ]
    },
    {
     "data": {
      "text/plain": [
       "'\\nrun = 1\\n\\nfor d in d_rng:\\n    print(\\'dimension: \\', d)\\n    \\n    for c in C_rng:\\n        print(\\'c: \\', c)\\n        \\n        for gamma in gamma_rng:\\n            print(\\'gamma: \\', gamma)\\n            \\n            for coef in coef_rng:\\n                print(\\'coef: \\', coef)\\n\\n                sc = SVMClassifier(kernel=\\'polynomial\\', C=c, gamma=gamma, d=d, coef=coef)\\n\\n                acc_list = np.array(sc.fit(X_train, Y_train))\\n                print(acc_list)\\n                print(\\'mean score: \\', np.mean(acc_list))\\n                Y_Pred = sc.predict(X_test)\\n                print(Y_test, \\' \\', Y_Pred)\\n                acc = accuracy_score(Y_test, Y_Pred)\\n                print(\"Accuracy:\",acc)\\n                print(classification_report(Y_test, Y_Pred))\\n                poly_perf.append(acc_list)\\n                poly_rpt.append(classification_report(Y_test, Y_Pred))\\n\\n                run += 1\\n                \\n'"
      ]
     },
     "execution_count": 32,
     "metadata": {},
     "output_type": "execute_result"
    }
   ],
   "source": [
    "# self testing code - remove before submission\n",
    "# Polynomial kernel\n",
    "\n",
    "from sklearn.model_selection import GridSearchCV\n",
    "from sklearn.metrics import classification_report\n",
    "\n",
    "poly_perf = []\n",
    "poly_rpt = []\n",
    "\n",
    "# Hyperparameter tuning\n",
    "params_grid = {'C': np.linspace(0,1,10),\n",
    "              'gamma': np.linspace(0,1,10),\n",
    "              'coef': np.linspace(0,1,10),\n",
    "              'd': np.linspace(1,5,5)}\n",
    "\n",
    "rbf_sc = SVMClassifier(kernel='rbf')\n",
    "rbf_search = GridSearchCV(rbf_sc.clf, params_grid, cv=5, verbose=10)\n",
    "rbf_search.fit(X_train, Y_train)\n",
    "print(rbf_search.best_params_)\n",
    "print(rbf_search.best_estimator_)\n",
    "\n",
    "# plug in the best parameter found to test accuracy for test set\n",
    "'''\n",
    "rbf_sc = SVMClassifier(kernel='rbf', C= , gamma=)\n",
    "rbf_sc.fit(X_train, Y_train)\n",
    "rbf_pred = rbf_sc.predict(X_test)\n",
    "#print(classification_report(Y_test, rbf_pred))\n",
    "'''"
   ]
  },
  {
   "cell_type": "code",
   "execution_count": null,
   "id": "1f8164d5",
   "metadata": {},
   "outputs": [],
   "source": [
    "# self testing code - remove before submission\n",
    "# Polynomial kernel\n",
    "\n",
    "from sklearn.model_selection import GridSearchCV\n",
    "from sklearn.metrics import classification_report\n",
    "\n",
    "sig_perf = []\n",
    "sig_rpt = []\n",
    "\n",
    "# Hyperparameter tuning\n",
    "params_grid = {'C': np.linspace(0,1,10),\n",
    "              'gamma': np.linspace(0,1,10),\n",
    "              'coef': np.linspace(0,1,10)\n",
    "              }\n",
    "\n",
    "sig_sc = SVMClassifier(kernel='sigmoid')\n",
    "sig_search = GridSearchCV(sig_sc.clf, params_grid, cv=5, verbose=10)\n",
    "sig_search.fit(X_train, Y_train)\n",
    "print(sig_search.best_params_)\n",
    "print(sig_search.best_estimator_)\n",
    "\n",
    "# plug in the best parameter found to test accuracy for test set\n",
    "'''\n",
    "sig_sc = SVMClassifier(kernel='sig', C= , gamma=)\n",
    "sig_sc.fit(X_train, Y_train)\n",
    "sig_pred = sig_sc.predict(X_test)\n",
    "#print(classification_report(Y_test, rbf_pred))\n",
    "'''"
   ]
  },
  {
   "cell_type": "markdown",
   "id": "35e6f272",
   "metadata": {},
   "source": [
    "### Test function that will be called to evaluate your code. Separate test dataset will be provided\n",
    "\n",
    "Do not modify the code below. Please write your code above such that it can be evaluated by the function below. You can modify your code above such that you obtain the best performance through this function. "
   ]
  },
  {
   "cell_type": "code",
   "execution_count": 180,
   "id": "89603f43",
   "metadata": {},
   "outputs": [],
   "source": [
    "def test_func_svm(dataset_train, dataset_test):\n",
    "    from sklearn.metrics import accuracy_score  \n",
    "    (X_train, Y_train, X_test, Y_test) = extract_bag_of_words_train_test(dataset_train, dataset_test)\n",
    "    sc = SVMClassifier()\n",
    "    sc.fit(X_train, Y_train)\n",
    "    Y_Pred = sc.predict(X_test)\n",
    "    acc = accuracy_score(Y_test, Y_Pred)\n",
    "    print(\"Accuracy:\",acc)\n",
    "    return acc"
   ]
  },
  {
   "cell_type": "code",
   "execution_count": 100,
   "id": "4ffd4adf",
   "metadata": {
    "scrolled": true
   },
   "outputs": [
    {
     "ename": "NameError",
     "evalue": "name 'linear_kernel' is not defined",
     "output_type": "error",
     "traceback": [
      "\u001b[0;31m---------------------------------------------------------------------------\u001b[0m",
      "\u001b[0;31mNameError\u001b[0m                                 Traceback (most recent call last)",
      "\u001b[0;32m<ipython-input-100-1f5baa16f6e6>\u001b[0m in \u001b[0;36m<module>\u001b[0;34m\u001b[0m\n\u001b[0;32m----> 1\u001b[0;31m \u001b[0macc\u001b[0m \u001b[0;34m=\u001b[0m \u001b[0mtest_func_svm\u001b[0m\u001b[0;34m(\u001b[0m\u001b[0;34m\"movie_review_train.csv\"\u001b[0m\u001b[0;34m,\u001b[0m \u001b[0;34m\"movie_review_test.csv\"\u001b[0m\u001b[0;34m)\u001b[0m\u001b[0;34m\u001b[0m\u001b[0;34m\u001b[0m\u001b[0m\n\u001b[0m",
      "\u001b[0;32m<ipython-input-98-092567975f27>\u001b[0m in \u001b[0;36mtest_func_svm\u001b[0;34m(dataset_train, dataset_test)\u001b[0m\n\u001b[1;32m      3\u001b[0m     \u001b[0;34m(\u001b[0m\u001b[0mX_train\u001b[0m\u001b[0;34m,\u001b[0m \u001b[0mY_train\u001b[0m\u001b[0;34m,\u001b[0m \u001b[0mX_test\u001b[0m\u001b[0;34m,\u001b[0m \u001b[0mY_test\u001b[0m\u001b[0;34m)\u001b[0m \u001b[0;34m=\u001b[0m \u001b[0mextract_bag_of_words_train_test\u001b[0m\u001b[0;34m(\u001b[0m\u001b[0mdataset_train\u001b[0m\u001b[0;34m,\u001b[0m \u001b[0mdataset_test\u001b[0m\u001b[0;34m)\u001b[0m\u001b[0;34m\u001b[0m\u001b[0;34m\u001b[0m\u001b[0m\n\u001b[1;32m      4\u001b[0m     \u001b[0msc\u001b[0m \u001b[0;34m=\u001b[0m \u001b[0mSVMClassifier\u001b[0m\u001b[0;34m(\u001b[0m\u001b[0;34m)\u001b[0m\u001b[0;34m\u001b[0m\u001b[0;34m\u001b[0m\u001b[0m\n\u001b[0;32m----> 5\u001b[0;31m     \u001b[0msc\u001b[0m\u001b[0;34m.\u001b[0m\u001b[0mfit\u001b[0m\u001b[0;34m(\u001b[0m\u001b[0mX_train\u001b[0m\u001b[0;34m,\u001b[0m \u001b[0mY_train\u001b[0m\u001b[0;34m)\u001b[0m\u001b[0;34m\u001b[0m\u001b[0;34m\u001b[0m\u001b[0m\n\u001b[0m\u001b[1;32m      6\u001b[0m     \u001b[0mY_Pred\u001b[0m \u001b[0;34m=\u001b[0m \u001b[0msc\u001b[0m\u001b[0;34m.\u001b[0m\u001b[0mpredict\u001b[0m\u001b[0;34m(\u001b[0m\u001b[0mX_test\u001b[0m\u001b[0;34m)\u001b[0m\u001b[0;34m\u001b[0m\u001b[0;34m\u001b[0m\u001b[0m\n\u001b[1;32m      7\u001b[0m     \u001b[0macc\u001b[0m \u001b[0;34m=\u001b[0m \u001b[0maccuracy_score\u001b[0m\u001b[0;34m(\u001b[0m\u001b[0mY_test\u001b[0m\u001b[0;34m,\u001b[0m \u001b[0mY_Pred\u001b[0m\u001b[0;34m)\u001b[0m\u001b[0;34m\u001b[0m\u001b[0;34m\u001b[0m\u001b[0m\n",
      "\u001b[0;32m<ipython-input-95-d70aa0da6353>\u001b[0m in \u001b[0;36mfit\u001b[0;34m(self, X, y)\u001b[0m\n\u001b[1;32m     17\u001b[0m         \u001b[0;31m# Ensure you call your own defined kernel here\u001b[0m\u001b[0;34m\u001b[0m\u001b[0;34m\u001b[0m\u001b[0;34m\u001b[0m\u001b[0m\n\u001b[1;32m     18\u001b[0m         \u001b[0;32mif\u001b[0m \u001b[0mself\u001b[0m\u001b[0;34m.\u001b[0m\u001b[0mkernel\u001b[0m \u001b[0;34m==\u001b[0m \u001b[0;34m'linear'\u001b[0m\u001b[0;34m:\u001b[0m\u001b[0;34m\u001b[0m\u001b[0;34m\u001b[0m\u001b[0m\n\u001b[0;32m---> 19\u001b[0;31m             \u001b[0mself\u001b[0m\u001b[0;34m.\u001b[0m\u001b[0mclf\u001b[0m \u001b[0;34m=\u001b[0m \u001b[0msvm\u001b[0m\u001b[0;34m.\u001b[0m\u001b[0mSVC\u001b[0m\u001b[0;34m(\u001b[0m\u001b[0mlinear_kernel\u001b[0m\u001b[0;34m)\u001b[0m\u001b[0;34m\u001b[0m\u001b[0;34m\u001b[0m\u001b[0m\n\u001b[0m\u001b[1;32m     20\u001b[0m \u001b[0;34m\u001b[0m\u001b[0m\n\u001b[1;32m     21\u001b[0m         \u001b[0;32mreturn\u001b[0m \u001b[0mself\u001b[0m\u001b[0;34m.\u001b[0m\u001b[0mclf\u001b[0m\u001b[0;34m.\u001b[0m\u001b[0mfit\u001b[0m\u001b[0;34m(\u001b[0m\u001b[0mX\u001b[0m\u001b[0;34m,\u001b[0m\u001b[0my\u001b[0m\u001b[0;34m)\u001b[0m\u001b[0;34m\u001b[0m\u001b[0;34m\u001b[0m\u001b[0m\n",
      "\u001b[0;31mNameError\u001b[0m: name 'linear_kernel' is not defined"
     ]
    }
   ],
   "source": [
    "acc = test_func_svm(\"movie_review_train.csv\", \"movie_review_test.csv\")"
   ]
  },
  {
   "cell_type": "markdown",
   "id": "61056292",
   "metadata": {},
   "source": [
    "### Task 2\n",
    "\n",
    "In this task you need to implement a boosting based classifier that can be used to classify the images. \n",
    "\n",
    "Details regarding the marking for the coursework are provided in the coursework specification file. Please ensure that your code will work with a different test file than the one provided with the coursework.\n",
    "\n",
    "Note that the boosting classifier you implement can include decision trees from scikit-learn or your own decision trees. Use the same sentiment analysis dataset for evaluation."
   ]
  },
  {
   "cell_type": "code",
   "execution_count": 4,
   "id": "3805e672",
   "metadata": {},
   "outputs": [],
   "source": [
    "# Adaboost tutorial: https://towardsdatascience.com/adaboost-from-scratch-37a936da3d50\n",
    "from sklearn.tree import DecisionTreeClassifier\n",
    "import numpy as np\n",
    "\n",
    "class BoostingClassifier:\n",
    "    # You need to implement this classifier. \n",
    "    def __init__(self):\n",
    "        import numpy as np\n",
    "        #implement initialisation\n",
    "        \n",
    "        self.T = # number of boosting rounds\n",
    "        \n",
    "    def fit(self, X,y):\n",
    "        #implement training of the boosting classifier \n",
    "        \n",
    "        \n",
    "        \n",
    "        return \n",
    "    def predict(self, X):\n",
    "        # implement prediction of the boosting classifier\n",
    "        return"
   ]
  },
  {
   "cell_type": "markdown",
   "id": "af6e0987",
   "metadata": {},
   "source": [
    "### Test function that will be called to evaluate your code. Separate test dataset will be provided\n",
    "\n",
    "Do not modify the code below. Please write your code above such that it can be evaluated by the function below. You can modify your code above such that you obtain the best performance through this function. "
   ]
  },
  {
   "cell_type": "code",
   "execution_count": 5,
   "id": "4632591c",
   "metadata": {},
   "outputs": [],
   "source": [
    "def test_func_boosting(dataset_train, dataset_test):\n",
    "    from sklearn.metrics import accuracy_score    \n",
    "    (X_train, Y_train, X_test, Y_test) = extract_bag_of_words_train_test(dataset_train, dataset_test)\n",
    "    bc = BoostingClassifier()\n",
    "    bc.fit(X_train, Y_train)\n",
    "    Y_Pred = bc.predict(X_test)    \n",
    "    acc = accuracy_score(Y_test, Y_Pred)\n",
    "    return acc"
   ]
  },
  {
   "cell_type": "code",
   "execution_count": null,
   "id": "d6c27de1",
   "metadata": {},
   "outputs": [],
   "source": [
    "acc = test_func_boosting(\"movie_review_train.csv\", \"movie_review_test.csv\")"
   ]
  }
 ],
 "metadata": {
  "kernelspec": {
   "display_name": "Python 3 (ipykernel)",
   "language": "python",
   "name": "python3"
  },
  "language_info": {
   "codemirror_mode": {
    "name": "ipython",
    "version": 3
   },
   "file_extension": ".py",
   "mimetype": "text/x-python",
   "name": "python",
   "nbconvert_exporter": "python",
   "pygments_lexer": "ipython3",
   "version": "3.7.11"
  }
 },
 "nbformat": 4,
 "nbformat_minor": 5
}
