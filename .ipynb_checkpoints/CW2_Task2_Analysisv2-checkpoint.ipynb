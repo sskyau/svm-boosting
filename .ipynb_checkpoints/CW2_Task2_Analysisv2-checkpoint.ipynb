{
 "cells": [
  {
   "cell_type": "markdown",
   "id": "44281064",
   "metadata": {},
   "source": [
    "### Coursework 2\n",
    "\n",
    "In this coursework you will be aiming to complete two classification tasks. \n",
    "Both the classification tasks relate to text classification tasks. \n",
    "\n",
    "One task is to be solved using Support Vector Machines. The other has to be solved using Boosting.\n",
    "\n",
    "The specific tasks and the marking for the various tasks are provided in the notebook. Each task is expected to be accompanied by a lab-report. Each task can have a concise lab report that is maximum of one page in an A4 size. You will be expected to submit your Jupyter Notebook and all lab reports as a single zip file. You could have additional functions implemented that you require for carrying out each task.\n"
   ]
  },
  {
   "cell_type": "markdown",
   "id": "221ffe46",
   "metadata": {},
   "source": [
    "#### Task 1\n",
    "\n",
    "In this task, you need to obtain sentiment analysis for the provided dataset. The dataset consists of movie reviews with the sentiments being provided. The sentiments are either positive or negative. You need to train an SVM based classifier to obtain train and check on the sample test dataset provided. The method will be evaluated also against an external test set. Please do not hardcode any dimensions or number of samples while writing the code. It should be possible to automate the testing and hardcoding values does not allow for automated testing. \n",
    "\n",
    "You are allowed to use scikit-learn to implement the SVM. However, you are expected to write your own kernels.\n",
    "\n",
    "You are allowed to use the existing library functions such as scikit-learn or numpy for obtaining the SVM. The main idea is to analyse the dataset using different kind of kernels. You are also supposed to write your own custom text kernels. Refer to the documentation provided [here](https://scikit-learn.org/stable/modules/svm.html) at 1.4.6.2 and an example [here](https://scikit-learn.org/stable/auto_examples/svm/plot_custom_kernel.html) for writing your own kernels.\n",
    "\n",
    "Details regarding the marking have been provided in the coursework specification file. Ensure that the code can be run with different test files. "
   ]
  },
  {
   "cell_type": "markdown",
   "id": "7385ce53",
   "metadata": {},
   "source": [
    "#### Process the text and obtain a bag of words-based features "
   ]
  },
  {
   "cell_type": "code",
   "execution_count": 3,
   "id": "ca6fcec2",
   "metadata": {},
   "outputs": [
    {
     "name": "stdout",
     "output_type": "stream",
     "text": [
      "Defaulting to user installation because normal site-packages is not writeable\n",
      "Requirement already satisfied: textblob in /Users/ravi/Library/Python/3.8/lib/python/site-packages (0.17.1)\n",
      "Requirement already satisfied: nltk>=3.1 in /Users/ravi/Library/Python/3.8/lib/python/site-packages (from textblob) (3.7)\n",
      "Requirement already satisfied: tqdm in /Users/ravi/Library/Python/3.8/lib/python/site-packages (from nltk>=3.1->textblob) (4.64.0)\n",
      "Requirement already satisfied: click in /Users/ravi/Library/Python/3.8/lib/python/site-packages (from nltk>=3.1->textblob) (8.0.4)\n",
      "Requirement already satisfied: joblib in /Users/ravi/Library/Python/3.8/lib/python/site-packages (from nltk>=3.1->textblob) (1.1.0)\n",
      "Requirement already satisfied: regex>=2021.8.3 in /Users/ravi/Library/Python/3.8/lib/python/site-packages (from nltk>=3.1->textblob) (2022.3.15)\n",
      "Defaulting to user installation because normal site-packages is not writeable\n",
      "Requirement already satisfied: gensim in /Users/ravi/Library/Python/3.8/lib/python/site-packages (4.1.2)\n",
      "Requirement already satisfied: scipy>=0.18.1 in /Users/ravi/Library/Python/3.8/lib/python/site-packages (from gensim) (1.8.0)\n",
      "Requirement already satisfied: smart-open>=1.8.1 in /Users/ravi/Library/Python/3.8/lib/python/site-packages (from gensim) (5.2.1)\n",
      "Requirement already satisfied: numpy>=1.17.0 in /Users/ravi/Library/Python/3.8/lib/python/site-packages (from gensim) (1.22.0)\n",
      "Defaulting to user installation because normal site-packages is not writeable\n",
      "Requirement already satisfied: testfixtures in /Users/ravi/Library/Python/3.8/lib/python/site-packages (6.18.5)\n",
      "Defaulting to user installation because normal site-packages is not writeable\n",
      "Requirement already satisfied: negspacy in /Users/ravi/Library/Python/3.8/lib/python/site-packages (1.0.2)\n",
      "Requirement already satisfied: spacy<3.3.0,>=3.0.1 in /Users/ravi/Library/Python/3.8/lib/python/site-packages (from negspacy) (3.2.4)\n",
      "Requirement already satisfied: catalogue<2.1.0,>=2.0.6 in /Users/ravi/Library/Python/3.8/lib/python/site-packages (from spacy<3.3.0,>=3.0.1->negspacy) (2.0.7)\n",
      "Requirement already satisfied: spacy-loggers<2.0.0,>=1.0.0 in /Users/ravi/Library/Python/3.8/lib/python/site-packages (from spacy<3.3.0,>=3.0.1->negspacy) (1.0.2)\n",
      "Requirement already satisfied: click<8.1.0 in /Users/ravi/Library/Python/3.8/lib/python/site-packages (from spacy<3.3.0,>=3.0.1->negspacy) (8.0.4)\n",
      "Requirement already satisfied: langcodes<4.0.0,>=3.2.0 in /Users/ravi/Library/Python/3.8/lib/python/site-packages (from spacy<3.3.0,>=3.0.1->negspacy) (3.3.0)\n",
      "Requirement already satisfied: spacy-legacy<3.1.0,>=3.0.8 in /Users/ravi/Library/Python/3.8/lib/python/site-packages (from spacy<3.3.0,>=3.0.1->negspacy) (3.0.9)\n",
      "Requirement already satisfied: blis<0.8.0,>=0.4.0 in /Users/ravi/Library/Python/3.8/lib/python/site-packages (from spacy<3.3.0,>=3.0.1->negspacy) (0.7.7)\n",
      "Requirement already satisfied: typer<0.5.0,>=0.3.0 in /Users/ravi/Library/Python/3.8/lib/python/site-packages (from spacy<3.3.0,>=3.0.1->negspacy) (0.4.1)\n",
      "Requirement already satisfied: numpy>=1.15.0 in /Users/ravi/Library/Python/3.8/lib/python/site-packages (from spacy<3.3.0,>=3.0.1->negspacy) (1.22.0)\n",
      "Requirement already satisfied: thinc<8.1.0,>=8.0.12 in /Users/ravi/Library/Python/3.8/lib/python/site-packages (from spacy<3.3.0,>=3.0.1->negspacy) (8.0.15)\n",
      "Requirement already satisfied: pathy>=0.3.5 in /Users/ravi/Library/Python/3.8/lib/python/site-packages (from spacy<3.3.0,>=3.0.1->negspacy) (0.6.1)\n",
      "Requirement already satisfied: requests<3.0.0,>=2.13.0 in /Users/ravi/Library/Python/3.8/lib/python/site-packages (from spacy<3.3.0,>=3.0.1->negspacy) (2.27.1)\n",
      "Requirement already satisfied: packaging>=20.0 in /Users/ravi/Library/Python/3.8/lib/python/site-packages (from spacy<3.3.0,>=3.0.1->negspacy) (21.3)\n",
      "Requirement already satisfied: srsly<3.0.0,>=2.4.1 in /Users/ravi/Library/Python/3.8/lib/python/site-packages (from spacy<3.3.0,>=3.0.1->negspacy) (2.4.3)\n",
      "Requirement already satisfied: cymem<2.1.0,>=2.0.2 in /Users/ravi/Library/Python/3.8/lib/python/site-packages (from spacy<3.3.0,>=3.0.1->negspacy) (2.0.6)\n",
      "Requirement already satisfied: wasabi<1.1.0,>=0.8.1 in /Users/ravi/Library/Python/3.8/lib/python/site-packages (from spacy<3.3.0,>=3.0.1->negspacy) (0.9.1)\n",
      "Requirement already satisfied: jinja2 in /Users/ravi/Library/Python/3.8/lib/python/site-packages (from spacy<3.3.0,>=3.0.1->negspacy) (3.1.1)\n",
      "Requirement already satisfied: murmurhash<1.1.0,>=0.28.0 in /Users/ravi/Library/Python/3.8/lib/python/site-packages (from spacy<3.3.0,>=3.0.1->negspacy) (1.0.6)\n",
      "Requirement already satisfied: tqdm<5.0.0,>=4.38.0 in /Users/ravi/Library/Python/3.8/lib/python/site-packages (from spacy<3.3.0,>=3.0.1->negspacy) (4.64.0)\n",
      "Requirement already satisfied: preshed<3.1.0,>=3.0.2 in /Users/ravi/Library/Python/3.8/lib/python/site-packages (from spacy<3.3.0,>=3.0.1->negspacy) (3.0.6)\n",
      "Requirement already satisfied: setuptools in /Library/Developer/CommandLineTools/Library/Frameworks/Python3.framework/Versions/3.8/lib/python3.8/site-packages (from spacy<3.3.0,>=3.0.1->negspacy) (49.2.1)\n",
      "Requirement already satisfied: pydantic!=1.8,!=1.8.1,<1.9.0,>=1.7.4 in /Users/ravi/Library/Python/3.8/lib/python/site-packages (from spacy<3.3.0,>=3.0.1->negspacy) (1.8.2)\n",
      "Requirement already satisfied: pyparsing!=3.0.5,>=2.0.2 in /Users/ravi/Library/Python/3.8/lib/python/site-packages (from packaging>=20.0->spacy<3.3.0,>=3.0.1->negspacy) (3.0.7)\n",
      "Requirement already satisfied: smart-open<6.0.0,>=5.0.0 in /Users/ravi/Library/Python/3.8/lib/python/site-packages (from pathy>=0.3.5->spacy<3.3.0,>=3.0.1->negspacy) (5.2.1)\n",
      "Requirement already satisfied: typing-extensions>=3.7.4.3 in /Users/ravi/Library/Python/3.8/lib/python/site-packages (from pydantic!=1.8,!=1.8.1,<1.9.0,>=1.7.4->spacy<3.3.0,>=3.0.1->negspacy) (4.2.0)\n",
      "Requirement already satisfied: certifi>=2017.4.17 in /Users/ravi/Library/Python/3.8/lib/python/site-packages (from requests<3.0.0,>=2.13.0->spacy<3.3.0,>=3.0.1->negspacy) (2021.10.8)\n",
      "Requirement already satisfied: idna<4,>=2.5 in /Users/ravi/Library/Python/3.8/lib/python/site-packages (from requests<3.0.0,>=2.13.0->spacy<3.3.0,>=3.0.1->negspacy) (3.3)\n",
      "Requirement already satisfied: charset-normalizer~=2.0.0 in /Users/ravi/Library/Python/3.8/lib/python/site-packages (from requests<3.0.0,>=2.13.0->spacy<3.3.0,>=3.0.1->negspacy) (2.0.12)\n",
      "Requirement already satisfied: urllib3<1.27,>=1.21.1 in /Users/ravi/Library/Python/3.8/lib/python/site-packages (from requests<3.0.0,>=2.13.0->spacy<3.3.0,>=3.0.1->negspacy) (1.26.9)\n",
      "Requirement already satisfied: MarkupSafe>=2.0 in /Users/ravi/Library/Python/3.8/lib/python/site-packages (from jinja2->spacy<3.3.0,>=3.0.1->negspacy) (2.1.1)\n",
      "Defaulting to user installation because normal site-packages is not writeable\n",
      "Requirement already satisfied: en_core_web_sm in /Users/ravi/Library/Python/3.8/lib/python/site-packages (3.2.0)\n",
      "Requirement already satisfied: spacy<3.3.0,>=3.2.0 in /Users/ravi/Library/Python/3.8/lib/python/site-packages (from en_core_web_sm) (3.2.4)\n",
      "Requirement already satisfied: thinc<8.1.0,>=8.0.12 in /Users/ravi/Library/Python/3.8/lib/python/site-packages (from spacy<3.3.0,>=3.2.0->en_core_web_sm) (8.0.15)\n",
      "Requirement already satisfied: pydantic!=1.8,!=1.8.1,<1.9.0,>=1.7.4 in /Users/ravi/Library/Python/3.8/lib/python/site-packages (from spacy<3.3.0,>=3.2.0->en_core_web_sm) (1.8.2)\n",
      "Requirement already satisfied: cymem<2.1.0,>=2.0.2 in /Users/ravi/Library/Python/3.8/lib/python/site-packages (from spacy<3.3.0,>=3.2.0->en_core_web_sm) (2.0.6)\n",
      "Requirement already satisfied: langcodes<4.0.0,>=3.2.0 in /Users/ravi/Library/Python/3.8/lib/python/site-packages (from spacy<3.3.0,>=3.2.0->en_core_web_sm) (3.3.0)\n",
      "Requirement already satisfied: jinja2 in /Users/ravi/Library/Python/3.8/lib/python/site-packages (from spacy<3.3.0,>=3.2.0->en_core_web_sm) (3.1.1)\n",
      "Requirement already satisfied: catalogue<2.1.0,>=2.0.6 in /Users/ravi/Library/Python/3.8/lib/python/site-packages (from spacy<3.3.0,>=3.2.0->en_core_web_sm) (2.0.7)\n",
      "Requirement already satisfied: srsly<3.0.0,>=2.4.1 in /Users/ravi/Library/Python/3.8/lib/python/site-packages (from spacy<3.3.0,>=3.2.0->en_core_web_sm) (2.4.3)\n",
      "Requirement already satisfied: tqdm<5.0.0,>=4.38.0 in /Users/ravi/Library/Python/3.8/lib/python/site-packages (from spacy<3.3.0,>=3.2.0->en_core_web_sm) (4.64.0)\n",
      "Requirement already satisfied: murmurhash<1.1.0,>=0.28.0 in /Users/ravi/Library/Python/3.8/lib/python/site-packages (from spacy<3.3.0,>=3.2.0->en_core_web_sm) (1.0.6)\n",
      "Requirement already satisfied: spacy-loggers<2.0.0,>=1.0.0 in /Users/ravi/Library/Python/3.8/lib/python/site-packages (from spacy<3.3.0,>=3.2.0->en_core_web_sm) (1.0.2)\n",
      "Requirement already satisfied: blis<0.8.0,>=0.4.0 in /Users/ravi/Library/Python/3.8/lib/python/site-packages (from spacy<3.3.0,>=3.2.0->en_core_web_sm) (0.7.7)\n",
      "Requirement already satisfied: numpy>=1.15.0 in /Users/ravi/Library/Python/3.8/lib/python/site-packages (from spacy<3.3.0,>=3.2.0->en_core_web_sm) (1.22.0)\n",
      "Requirement already satisfied: typer<0.5.0,>=0.3.0 in /Users/ravi/Library/Python/3.8/lib/python/site-packages (from spacy<3.3.0,>=3.2.0->en_core_web_sm) (0.4.1)\n",
      "Requirement already satisfied: wasabi<1.1.0,>=0.8.1 in /Users/ravi/Library/Python/3.8/lib/python/site-packages (from spacy<3.3.0,>=3.2.0->en_core_web_sm) (0.9.1)\n",
      "Requirement already satisfied: pathy>=0.3.5 in /Users/ravi/Library/Python/3.8/lib/python/site-packages (from spacy<3.3.0,>=3.2.0->en_core_web_sm) (0.6.1)\n",
      "Requirement already satisfied: requests<3.0.0,>=2.13.0 in /Users/ravi/Library/Python/3.8/lib/python/site-packages (from spacy<3.3.0,>=3.2.0->en_core_web_sm) (2.27.1)\n",
      "Requirement already satisfied: packaging>=20.0 in /Users/ravi/Library/Python/3.8/lib/python/site-packages (from spacy<3.3.0,>=3.2.0->en_core_web_sm) (21.3)\n",
      "Requirement already satisfied: setuptools in /Library/Developer/CommandLineTools/Library/Frameworks/Python3.framework/Versions/3.8/lib/python3.8/site-packages (from spacy<3.3.0,>=3.2.0->en_core_web_sm) (49.2.1)\n",
      "Requirement already satisfied: preshed<3.1.0,>=3.0.2 in /Users/ravi/Library/Python/3.8/lib/python/site-packages (from spacy<3.3.0,>=3.2.0->en_core_web_sm) (3.0.6)\n",
      "Requirement already satisfied: click<8.1.0 in /Users/ravi/Library/Python/3.8/lib/python/site-packages (from spacy<3.3.0,>=3.2.0->en_core_web_sm) (8.0.4)\n",
      "Requirement already satisfied: spacy-legacy<3.1.0,>=3.0.8 in /Users/ravi/Library/Python/3.8/lib/python/site-packages (from spacy<3.3.0,>=3.2.0->en_core_web_sm) (3.0.9)\n",
      "Requirement already satisfied: pyparsing!=3.0.5,>=2.0.2 in /Users/ravi/Library/Python/3.8/lib/python/site-packages (from packaging>=20.0->spacy<3.3.0,>=3.2.0->en_core_web_sm) (3.0.7)\n"
     ]
    },
    {
     "name": "stdout",
     "output_type": "stream",
     "text": [
      "Requirement already satisfied: smart-open<6.0.0,>=5.0.0 in /Users/ravi/Library/Python/3.8/lib/python/site-packages (from pathy>=0.3.5->spacy<3.3.0,>=3.2.0->en_core_web_sm) (5.2.1)\n",
      "Requirement already satisfied: typing-extensions>=3.7.4.3 in /Users/ravi/Library/Python/3.8/lib/python/site-packages (from pydantic!=1.8,!=1.8.1,<1.9.0,>=1.7.4->spacy<3.3.0,>=3.2.0->en_core_web_sm) (4.2.0)\n",
      "Requirement already satisfied: idna<4,>=2.5 in /Users/ravi/Library/Python/3.8/lib/python/site-packages (from requests<3.0.0,>=2.13.0->spacy<3.3.0,>=3.2.0->en_core_web_sm) (3.3)\n",
      "Requirement already satisfied: certifi>=2017.4.17 in /Users/ravi/Library/Python/3.8/lib/python/site-packages (from requests<3.0.0,>=2.13.0->spacy<3.3.0,>=3.2.0->en_core_web_sm) (2021.10.8)\n",
      "Requirement already satisfied: charset-normalizer~=2.0.0 in /Users/ravi/Library/Python/3.8/lib/python/site-packages (from requests<3.0.0,>=2.13.0->spacy<3.3.0,>=3.2.0->en_core_web_sm) (2.0.12)\n",
      "Requirement already satisfied: urllib3<1.27,>=1.21.1 in /Users/ravi/Library/Python/3.8/lib/python/site-packages (from requests<3.0.0,>=2.13.0->spacy<3.3.0,>=3.2.0->en_core_web_sm) (1.26.9)\n",
      "Requirement already satisfied: MarkupSafe>=2.0 in /Users/ravi/Library/Python/3.8/lib/python/site-packages (from jinja2->spacy<3.3.0,>=3.2.0->en_core_web_sm) (2.1.1)\n"
     ]
    }
   ],
   "source": [
    "!pip3 install textblob\n",
    "!pip3 install gensim\n",
    "!pip3 install testfixtures\n",
    "!pip3 install negspacy\n",
    "!pip3 install en_core_web_sm"
   ]
  },
  {
   "cell_type": "code",
   "execution_count": 5,
   "id": "b9492c86",
   "metadata": {},
   "outputs": [
    {
     "name": "stdout",
     "output_type": "stream",
     "text": [
      "Defaulting to user installation because normal site-packages is not writeable\n",
      "Collecting https://github.com/explosion/spacy-models/releases/download/en_core_web_sm-2.2.0/en_core_web_sm-2.2.0.tar.gz\n",
      "  Downloading https://github.com/explosion/spacy-models/releases/download/en_core_web_sm-2.2.0/en_core_web_sm-2.2.0.tar.gz (12.0 MB)\n",
      "\u001b[2K     \u001b[90m━━━━━━━━━━━━━━━━━━━━━━━━━━━━━━━━━━━━━━━━\u001b[0m \u001b[32m12.0/12.0 MB\u001b[0m \u001b[31m17.7 MB/s\u001b[0m eta \u001b[36m0:00:00\u001b[0m00:01\u001b[0m00:01\u001b[0m\n",
      "\u001b[?25h  Preparing metadata (setup.py) ... \u001b[?25ldone\n",
      "\u001b[?25hRequirement already satisfied: spacy>=2.2.0 in /Users/ravi/Library/Python/3.8/lib/python/site-packages (from en-core-web-sm==2.2.0) (3.2.4)\n",
      "Requirement already satisfied: jinja2 in /Users/ravi/Library/Python/3.8/lib/python/site-packages (from spacy>=2.2.0->en-core-web-sm==2.2.0) (3.1.1)\n",
      "Requirement already satisfied: catalogue<2.1.0,>=2.0.6 in /Users/ravi/Library/Python/3.8/lib/python/site-packages (from spacy>=2.2.0->en-core-web-sm==2.2.0) (2.0.7)\n",
      "Requirement already satisfied: typer<0.5.0,>=0.3.0 in /Users/ravi/Library/Python/3.8/lib/python/site-packages (from spacy>=2.2.0->en-core-web-sm==2.2.0) (0.4.1)\n",
      "Requirement already satisfied: cymem<2.1.0,>=2.0.2 in /Users/ravi/Library/Python/3.8/lib/python/site-packages (from spacy>=2.2.0->en-core-web-sm==2.2.0) (2.0.6)\n",
      "Requirement already satisfied: blis<0.8.0,>=0.4.0 in /Users/ravi/Library/Python/3.8/lib/python/site-packages (from spacy>=2.2.0->en-core-web-sm==2.2.0) (0.7.7)\n",
      "Requirement already satisfied: packaging>=20.0 in /Users/ravi/Library/Python/3.8/lib/python/site-packages (from spacy>=2.2.0->en-core-web-sm==2.2.0) (21.3)\n",
      "Requirement already satisfied: tqdm<5.0.0,>=4.38.0 in /Users/ravi/Library/Python/3.8/lib/python/site-packages (from spacy>=2.2.0->en-core-web-sm==2.2.0) (4.64.0)\n",
      "Requirement already satisfied: spacy-loggers<2.0.0,>=1.0.0 in /Users/ravi/Library/Python/3.8/lib/python/site-packages (from spacy>=2.2.0->en-core-web-sm==2.2.0) (1.0.2)\n",
      "Requirement already satisfied: langcodes<4.0.0,>=3.2.0 in /Users/ravi/Library/Python/3.8/lib/python/site-packages (from spacy>=2.2.0->en-core-web-sm==2.2.0) (3.3.0)\n",
      "Requirement already satisfied: click<8.1.0 in /Users/ravi/Library/Python/3.8/lib/python/site-packages (from spacy>=2.2.0->en-core-web-sm==2.2.0) (8.0.4)\n",
      "Requirement already satisfied: murmurhash<1.1.0,>=0.28.0 in /Users/ravi/Library/Python/3.8/lib/python/site-packages (from spacy>=2.2.0->en-core-web-sm==2.2.0) (1.0.6)\n",
      "Requirement already satisfied: preshed<3.1.0,>=3.0.2 in /Users/ravi/Library/Python/3.8/lib/python/site-packages (from spacy>=2.2.0->en-core-web-sm==2.2.0) (3.0.6)\n",
      "Requirement already satisfied: thinc<8.1.0,>=8.0.12 in /Users/ravi/Library/Python/3.8/lib/python/site-packages (from spacy>=2.2.0->en-core-web-sm==2.2.0) (8.0.15)\n",
      "Requirement already satisfied: numpy>=1.15.0 in /Users/ravi/Library/Python/3.8/lib/python/site-packages (from spacy>=2.2.0->en-core-web-sm==2.2.0) (1.22.0)\n",
      "Requirement already satisfied: requests<3.0.0,>=2.13.0 in /Users/ravi/Library/Python/3.8/lib/python/site-packages (from spacy>=2.2.0->en-core-web-sm==2.2.0) (2.27.1)\n",
      "Requirement already satisfied: setuptools in /Library/Developer/CommandLineTools/Library/Frameworks/Python3.framework/Versions/3.8/lib/python3.8/site-packages (from spacy>=2.2.0->en-core-web-sm==2.2.0) (49.2.1)\n",
      "Requirement already satisfied: spacy-legacy<3.1.0,>=3.0.8 in /Users/ravi/Library/Python/3.8/lib/python/site-packages (from spacy>=2.2.0->en-core-web-sm==2.2.0) (3.0.9)\n",
      "Requirement already satisfied: wasabi<1.1.0,>=0.8.1 in /Users/ravi/Library/Python/3.8/lib/python/site-packages (from spacy>=2.2.0->en-core-web-sm==2.2.0) (0.9.1)\n",
      "Requirement already satisfied: pydantic!=1.8,!=1.8.1,<1.9.0,>=1.7.4 in /Users/ravi/Library/Python/3.8/lib/python/site-packages (from spacy>=2.2.0->en-core-web-sm==2.2.0) (1.8.2)\n",
      "Requirement already satisfied: srsly<3.0.0,>=2.4.1 in /Users/ravi/Library/Python/3.8/lib/python/site-packages (from spacy>=2.2.0->en-core-web-sm==2.2.0) (2.4.3)\n",
      "Requirement already satisfied: pathy>=0.3.5 in /Users/ravi/Library/Python/3.8/lib/python/site-packages (from spacy>=2.2.0->en-core-web-sm==2.2.0) (0.6.1)\n",
      "Requirement already satisfied: pyparsing!=3.0.5,>=2.0.2 in /Users/ravi/Library/Python/3.8/lib/python/site-packages (from packaging>=20.0->spacy>=2.2.0->en-core-web-sm==2.2.0) (3.0.7)\n",
      "Requirement already satisfied: smart-open<6.0.0,>=5.0.0 in /Users/ravi/Library/Python/3.8/lib/python/site-packages (from pathy>=0.3.5->spacy>=2.2.0->en-core-web-sm==2.2.0) (5.2.1)\n",
      "Requirement already satisfied: typing-extensions>=3.7.4.3 in /Users/ravi/Library/Python/3.8/lib/python/site-packages (from pydantic!=1.8,!=1.8.1,<1.9.0,>=1.7.4->spacy>=2.2.0->en-core-web-sm==2.2.0) (4.2.0)\n",
      "Requirement already satisfied: idna<4,>=2.5 in /Users/ravi/Library/Python/3.8/lib/python/site-packages (from requests<3.0.0,>=2.13.0->spacy>=2.2.0->en-core-web-sm==2.2.0) (3.3)\n",
      "Requirement already satisfied: charset-normalizer~=2.0.0 in /Users/ravi/Library/Python/3.8/lib/python/site-packages (from requests<3.0.0,>=2.13.0->spacy>=2.2.0->en-core-web-sm==2.2.0) (2.0.12)\n",
      "Requirement already satisfied: certifi>=2017.4.17 in /Users/ravi/Library/Python/3.8/lib/python/site-packages (from requests<3.0.0,>=2.13.0->spacy>=2.2.0->en-core-web-sm==2.2.0) (2021.10.8)\n",
      "Requirement already satisfied: urllib3<1.27,>=1.21.1 in /Users/ravi/Library/Python/3.8/lib/python/site-packages (from requests<3.0.0,>=2.13.0->spacy>=2.2.0->en-core-web-sm==2.2.0) (1.26.9)\n",
      "Requirement already satisfied: MarkupSafe>=2.0 in /Users/ravi/Library/Python/3.8/lib/python/site-packages (from jinja2->spacy>=2.2.0->en-core-web-sm==2.2.0) (2.1.1)\n",
      "Building wheels for collected packages: en-core-web-sm\n",
      "  Building wheel for en-core-web-sm (setup.py) ... \u001b[?25ldone\n",
      "\u001b[?25h  Created wheel for en-core-web-sm: filename=en_core_web_sm-2.2.0-py3-none-any.whl size=12019122 sha256=7998272e8035a70b87609cf8626288a08d355c97858ccf58d611da813bf60352\n",
      "  Stored in directory: /Users/ravi/Library/Caches/pip/wheels/fc/31/e9/092e6f05b2817c9cb45804a3d1bf2b9bf6575742c01819337c\n",
      "Successfully built en-core-web-sm\n",
      "Installing collected packages: en-core-web-sm\n",
      "  Attempting uninstall: en-core-web-sm\n",
      "    Found existing installation: en-core-web-sm 3.2.0\n",
      "    Uninstalling en-core-web-sm-3.2.0:\n",
      "      Successfully uninstalled en-core-web-sm-3.2.0\n",
      "Successfully installed en-core-web-sm-2.2.0\n"
     ]
    }
   ],
   "source": [
    "!pip3 install https://github.com/explosion/spacy-models/releases/download/en_core_web_sm-2.2.0/en_core_web_sm-2.2.0.tar.gz"
   ]
  },
  {
   "cell_type": "code",
   "execution_count": 19,
   "id": "e0ac481e",
   "metadata": {},
   "outputs": [
    {
     "name": "stderr",
     "output_type": "stream",
     "text": [
      "[nltk_data] Downloading package stopwords to\n",
      "[nltk_data]     C:\\Users\\lolon\\AppData\\Roaming\\nltk_data...\n",
      "[nltk_data]   Package stopwords is already up-to-date!\n"
     ]
    },
    {
     "ename": "NameError",
     "evalue": "name 'WordNetLemmatizer' is not defined",
     "output_type": "error",
     "traceback": [
      "\u001b[1;31m---------------------------------------------------------------------------\u001b[0m",
      "\u001b[1;31mNameError\u001b[0m                                 Traceback (most recent call last)",
      "\u001b[1;32m~\\AppData\\Local\\Temp/ipykernel_7196/3193223648.py\u001b[0m in \u001b[0;36m<module>\u001b[1;34m\u001b[0m\n\u001b[0;32m     24\u001b[0m \u001b[1;33m\u001b[0m\u001b[0m\n\u001b[0;32m     25\u001b[0m \u001b[1;31m# initialization\u001b[0m\u001b[1;33m\u001b[0m\u001b[1;33m\u001b[0m\u001b[1;33m\u001b[0m\u001b[0m\n\u001b[1;32m---> 26\u001b[1;33m \u001b[0mlemmatizer\u001b[0m \u001b[1;33m=\u001b[0m \u001b[0mWordNetLemmatizer\u001b[0m\u001b[1;33m(\u001b[0m\u001b[1;33m)\u001b[0m\u001b[1;33m\u001b[0m\u001b[1;33m\u001b[0m\u001b[0m\n\u001b[0m\u001b[0;32m     27\u001b[0m \u001b[0mpattern\u001b[0m \u001b[1;33m=\u001b[0m \u001b[0mre\u001b[0m\u001b[1;33m.\u001b[0m\u001b[0mcompile\u001b[0m\u001b[1;33m(\u001b[0m\u001b[1;34mr\"(.)\\1{2,}\"\u001b[0m\u001b[1;33m)\u001b[0m\u001b[1;33m\u001b[0m\u001b[1;33m\u001b[0m\u001b[0m\n\u001b[0;32m     28\u001b[0m \u001b[0mpunc_translator\u001b[0m \u001b[1;33m=\u001b[0m \u001b[0mstr\u001b[0m\u001b[1;33m.\u001b[0m\u001b[0mmaketrans\u001b[0m\u001b[1;33m(\u001b[0m\u001b[0mstring\u001b[0m\u001b[1;33m.\u001b[0m\u001b[0mpunctuation\u001b[0m\u001b[1;33m,\u001b[0m \u001b[1;34m' '\u001b[0m\u001b[1;33m*\u001b[0m\u001b[0mlen\u001b[0m\u001b[1;33m(\u001b[0m\u001b[0mstring\u001b[0m\u001b[1;33m.\u001b[0m\u001b[0mpunctuation\u001b[0m\u001b[1;33m)\u001b[0m\u001b[1;33m)\u001b[0m\u001b[1;33m\u001b[0m\u001b[1;33m\u001b[0m\u001b[0m\n",
      "\u001b[1;31mNameError\u001b[0m: name 'WordNetLemmatizer' is not defined"
     ]
    }
   ],
   "source": [
    "import re\n",
    "import nltk\n",
    "from nltk.corpus import stopwords\n",
    "from nltk.stem import PorterStemmer\n",
    "from nltk.tokenize import word_tokenize\n",
    "from bs4 import BeautifulSoup\n",
    "from nltk.util import ngrams\n",
    "from nltk import FreqDist\n",
    "import numpy as np\n",
    "import pandas as pd\n",
    "from sklearn.feature_extraction.text import TfidfVectorizer, CountVectorizer\n",
    "# import unidecode\n",
    "# import spacy\n",
    "import en_core_web_sm\n",
    "# import contractions\n",
    "import string\n",
    "# from tqdm.notebook import tqdm # for showing progress bar\n",
    "# #from sklearn.model_selection import GridSearchCV\n",
    "# #from textblob import TextBlob\n",
    "# #from collections import defaultdict\n",
    "\n",
    "\n",
    "nltk.download('stopwords')\n",
    "\n",
    "# initialization\n",
    "lemmatizer = WordNetLemmatizer()\n",
    "pattern = re.compile(r\"(.)\\1{2,}\")\n",
    "punc_translator = str.maketrans(string.punctuation, ' '*len(string.punctuation))\n",
    "num_translator = str.maketrans(string.digits, ' '*len(string.digits))\n",
    "nlp = en_core_web_sm.load()\n",
    "stopwords = stopwords.words('english')\n",
    "custom_negation = ['rather', 'instead']\n",
    "    \n",
    "def pre_processing(dataset):\n",
    "    \n",
    "    to_return = []\n",
    "    \n",
    "    for i in tqdm(range(len(dataset))):\n",
    "        filtered_data = []\n",
    "        \n",
    "        # (1) remove html tags\n",
    "        dataset[i] = BeautifulSoup(dataset[i]).get_text()\n",
    "        \n",
    "        # (2) remove urls\n",
    "        dataset[i] = re.sub(r'http\\S+', '', dataset[i])\n",
    "        dataset[i] = re.sub(r'www\\S+', '', dataset[i])\n",
    "        \n",
    "        # (3) remove email addresses\n",
    "        dataset[i] = re.sub(r'\\S*@\\S*\\s?', '', dataset[i])\n",
    "        \n",
    "        # (3) convert to lower case\n",
    "        dataset[i] = dataset[i].casefold()\n",
    "        \n",
    "        # (4) convert accented character\n",
    "        dataset[i] = unidecode.unidecode(dataset[i]) \n",
    "        \n",
    "        # (5) if there are >2 consecutive duplicated characters, convert to 2 consecutive duplicated characters\n",
    "        # e.g. finallllly --> finally\n",
    "        dataset[i] = pattern.sub(r\"\\1\\1\", dataset[i]) \n",
    "        \n",
    "        # (6) expand contractions\n",
    "        dataset[i] = contractions.fix(dataset[i])\n",
    "        \n",
    "        # (7) replace punctuation with space\n",
    "        dataset[i] = dataset[i].translate(punc_translator)\n",
    "        \n",
    "        # (8) replace numbers with space\n",
    "        dataset[i] = dataset[i].translate(num_translator)\n",
    "        \n",
    "        # (9) spacy tokenization\n",
    "        tokens = nlp(dataset[i])\n",
    "            \n",
    "        for token in tokens:\n",
    "            \n",
    "            # Lemmatisation\n",
    "            word = token.lemma_\n",
    "            \n",
    "            # filter out words that are:\n",
    "            # - stopwords\n",
    "            # - with length <= 2\n",
    "            # - demonstratives (e.g. this, that, those)\n",
    "            # - pronoun and proper nouns (e.g. names)\n",
    "            # - spaces\n",
    "            \n",
    "            names = [ent.text for ent in tokens if ent.ent_type_]\n",
    "            \n",
    "            if (word != \"-PRON-\") and (word !=\"-PROPN-\") and (word not in names) and (not token.is_space):\n",
    "               \n",
    "                #print(word)\n",
    "\n",
    "                if (token.dep_ == 'neg') or (word in custom_negation):\n",
    "                    filtered_data.append('_NEG_')\n",
    "                    continue\n",
    "                \n",
    "                # remove the word \"like\" when it is used as preposition\n",
    "                if (word == 'like' and token.dep_ == 'prep'):\n",
    "                    continue\n",
    "                \n",
    "                # remove stopwords\n",
    "                if (word in stopwords):\n",
    "                    continue\n",
    "\n",
    "                # remove words with len <= 2\n",
    "                elif (len(word) <= 2):\n",
    "                    continue\n",
    "\n",
    "                else:\n",
    "                    filtered_data.append(word)\n",
    "        \n",
    "        # join words\n",
    "        filtered_data = ' '.join(filtered_data)\n",
    "        \n",
    "        # Negation tagging\n",
    "        filtered_data = re.sub(r'_NEG_\\s', '_NEG_', filtered_data)\n",
    "        filtered_data = re.sub(r\"(_NEG_)\\1{1,}\", '_NEG_', filtered_data) # remove duplicated negation tagging\n",
    "        \n",
    "        to_return.append(filtered_data)\n",
    "        \n",
    "    return to_return\n",
    "\n",
    "def extract_bag_of_words_train_test(train_file, test_file):\n",
    "    \n",
    "    # Read the CSV files for training and test sets\n",
    "    train = pd.read_csv(train_file)\n",
    "    test = pd.read_csv(test_file)\n",
    "    \n",
    "    X_train = np.array(train.review)\n",
    "    X_test = np.array(test.review)\n",
    "    \n",
    "    y_train = np.array(train.sentiment)\n",
    "    y_train[y_train=='positive'] = 1\n",
    "    y_train[y_train=='negative'] = -1\n",
    "    y_train = y_train.astype('int')\n",
    "    \n",
    "    y_test = np.array(test.sentiment)\n",
    "    y_test[y_test=='positive'] = 1\n",
    "    y_test[y_test=='negative'] = -1\n",
    "    y_test = y_test.astype('int')\n",
    "    \n",
    "    # Extract bag of words features\n",
    "    print(\"Train set: \")\n",
    "    print(\"Preprocessing progress: \")\n",
    "    X_train = pre_processing(X_train) \n",
    "    print(\"--Done--\\n\")\n",
    "    print(\"Test set: \")\n",
    "    print(\"Preprocessing progress: \")\n",
    "    X_test = pre_processing(X_test)\n",
    "    print('--Done--')\n",
    "    \n",
    "    return (X_train,y_train,X_test,y_test)"
   ]
  },
  {
   "cell_type": "code",
   "execution_count": 111,
   "id": "26584cb0",
   "metadata": {},
   "outputs": [
    {
     "name": "stdout",
     "output_type": "stream",
     "text": [
      "Train set: \n",
      "Preprocessing progress: \n"
     ]
    },
    {
     "data": {
      "application/vnd.jupyter.widget-view+json": {
       "model_id": "0c2dbdd028414a988228b026be86c6e6",
       "version_major": 2,
       "version_minor": 0
      },
      "text/plain": [
       "  0%|          | 0/5000 [00:00<?, ?it/s]"
      ]
     },
     "metadata": {},
     "output_type": "display_data"
    },
    {
     "name": "stdout",
     "output_type": "stream",
     "text": [
      "--Done--\n",
      "\n",
      "Test set: \n",
      "Preprocessing progress: \n"
     ]
    },
    {
     "data": {
      "application/vnd.jupyter.widget-view+json": {
       "model_id": "196175f535b247148a07b071b67872c8",
       "version_major": 2,
       "version_minor": 0
      },
      "text/plain": [
       "  0%|          | 0/1500 [00:00<?, ?it/s]"
      ]
     },
     "metadata": {},
     "output_type": "display_data"
    },
    {
     "name": "stdout",
     "output_type": "stream",
     "text": [
      "--Done--\n"
     ]
    }
   ],
   "source": [
    "# self testing code - remove before submission\n",
    "(X_train, Y_train, X_test, Y_test) = extract_bag_of_words_train_test(\"movie_review_train.csv\", \"movie_review_test.csv\")"
   ]
  },
  {
   "cell_type": "code",
   "execution_count": 112,
   "id": "2d8e194f",
   "metadata": {},
   "outputs": [
    {
     "data": {
      "text/plain": [
       "array([ 1,  1,  1, ...,  1,  1, -1])"
      ]
     },
     "execution_count": 112,
     "metadata": {},
     "output_type": "execute_result"
    }
   ],
   "source": [
    "Y_test"
   ]
  },
  {
   "cell_type": "code",
   "execution_count": 113,
   "id": "7fc3af27",
   "metadata": {},
   "outputs": [],
   "source": [
    "from sklearn import svm\n",
    "from sklearn import metrics\n",
    "from sklearn.metrics import accuracy_score \n",
    "from collections import defaultdict\n",
    "\n",
    "class SVMClassifier:\n",
    "    def __init__(self, kernel='rbf', C=1.6058997806999291, gamma=0.8101577349324269):\n",
    "        \n",
    "        #implement initialisation\n",
    "        self.clf = svm.SVC()\n",
    "        self.kernel = kernel\n",
    "        \n",
    "        # regularization parameter\n",
    "        self.C = C # penalty parameter\n",
    "        \n",
    "        # kernel parameters\n",
    "        self.gamma = gamma\n",
    "\n",
    "        self.vectorizer = TfidfVectorizer(min_df = 2, # remove words that appear too rarely\n",
    "                                          max_df = 0.7, # remove words that appear too often\n",
    "                                          ngram_range=(1,5), # 1-2 gram\n",
    "                                          max_features=30000,\n",
    "                                          smooth_idf = True, # +1 to all frequencies, prevent division by zero\n",
    "                                          sublinear_tf = True #use log for TF, clip extreme values\n",
    "                                          )\n",
    "        \n",
    "    # define your own kernel here\n",
    "    # Refer to the documentation here: https://scikit-learn.org/stable/auto_examples/svm/plot_custom_kernel.html\n",
    "  \n",
    "    def custom_kernel(self, X, y):\n",
    "        \n",
    "        X = X.A\n",
    "        y = y.A\n",
    "        \n",
    "        print('Computing custom kernel...')\n",
    "        \n",
    "        # 1. Histogram intersection kernel （0.86）\n",
    "        # ---------------- BEGIN ----------------#\n",
    "        kernel = np.zeros((X.shape[0], y.shape[0]))\n",
    "\n",
    "        for d in tqdm(range(X.shape[1])):\n",
    "            column_1 = X[:, d].reshape(-1, 1)\n",
    "            column_2 = y[:, d].reshape(-1, 1)\n",
    "            kernel += np.minimum(column_1, column_2.T)\n",
    "\n",
    "        # ------------------ END -----------------#\n",
    "        \n",
    "        return kernel\n",
    "    \n",
    "    def fit(self, X, y):\n",
    "        # training of the SVM\n",
    "        # Ensure you call your own defined kernel here\n",
    "\n",
    "        # Transform data into tfidf feature vectors\n",
    "        X = self.vectorizer.fit_transform(X)\n",
    "\n",
    "        # calling diff kernels\n",
    "        if self.kernel == 'linear':\n",
    "            self.clf = svm.SVC(kernel='linear', C=self.C)\n",
    "\n",
    "        elif self.kernel == 'poly':\n",
    "            self.clf = svm.SVC(kernel='poly', C=self.C, degree=self.d)\n",
    "\n",
    "        elif self.kernel == 'rbf':\n",
    "            # for hyperparameter tuning\n",
    "            self.clf = svm.SVC(kernel='rbf', C=self.C, gamma=self.gamma)\n",
    "\n",
    "        elif self.kernel == 'custom':\n",
    "            self.clf = svm.SVC(kernel=self.custom_kernel, C=self.C)\n",
    "        \n",
    "        self.clf.fit(X,y)\n",
    "    \n",
    "    def predict(self, X):\n",
    "        \n",
    "        # prediction routine for the SVM\n",
    "        X = self.vectorizer.transform(X)\n",
    "        \n",
    "        return self.clf.predict(X)"
   ]
  },
  {
   "cell_type": "markdown",
   "id": "35e6f272",
   "metadata": {},
   "source": [
    "### Test function that will be called to evaluate your code. Separate test dataset will be provided\n",
    "\n",
    "Do not modify the code below. Please write your code above such that it can be evaluated by the function below. You can modify your code above such that you obtain the best performance through this function. "
   ]
  },
  {
   "cell_type": "code",
   "execution_count": 114,
   "id": "89603f43",
   "metadata": {},
   "outputs": [],
   "source": [
    "def test_func_svm(dataset_train, dataset_test):\n",
    "    from sklearn.metrics import accuracy_score  \n",
    "    (X_train, Y_train, X_test, Y_test) = extract_bag_of_words_train_test(dataset_train, dataset_test)\n",
    "    sc = SVMClassifier()\n",
    "    sc.fit(X_train, Y_train)\n",
    "    Y_Pred = sc.predict(X_test)\n",
    "    acc = accuracy_score(Y_test, Y_Pred)\n",
    "    print(\"Accuracy:\",acc)\n",
    "    return acc"
   ]
  },
  {
   "cell_type": "code",
   "execution_count": 115,
   "id": "4ffd4adf",
   "metadata": {
    "scrolled": true
   },
   "outputs": [
    {
     "name": "stdout",
     "output_type": "stream",
     "text": [
      "Train set: \n",
      "Preprocessing progress: \n"
     ]
    },
    {
     "data": {
      "application/vnd.jupyter.widget-view+json": {
       "model_id": "d50ab22aa5384c028e771a4e8364528f",
       "version_major": 2,
       "version_minor": 0
      },
      "text/plain": [
       "  0%|          | 0/5000 [00:00<?, ?it/s]"
      ]
     },
     "metadata": {},
     "output_type": "display_data"
    },
    {
     "name": "stdout",
     "output_type": "stream",
     "text": [
      "--Done--\n",
      "\n",
      "Test set: \n",
      "Preprocessing progress: \n"
     ]
    },
    {
     "data": {
      "application/vnd.jupyter.widget-view+json": {
       "model_id": "3c1c83a796794a9480d0f9cdbfcbb876",
       "version_major": 2,
       "version_minor": 0
      },
      "text/plain": [
       "  0%|          | 0/1500 [00:00<?, ?it/s]"
      ]
     },
     "metadata": {},
     "output_type": "display_data"
    },
    {
     "name": "stdout",
     "output_type": "stream",
     "text": [
      "--Done--\n",
      "Accuracy: 0.888\n"
     ]
    }
   ],
   "source": [
    "acc = test_func_svm(\"movie_review_train.csv\", \"movie_review_test.csv\")"
   ]
  },
  {
   "cell_type": "markdown",
   "id": "61056292",
   "metadata": {},
   "source": [
    "### Task 2\n",
    "\n",
    "In this task you need to implement a boosting based classifier that can be used to classify the images. \n",
    "\n",
    "Details regarding the marking for the coursework are provided in the coursework specification file. Please ensure that your code will work with a different test file than the one provided with the coursework.\n",
    "\n",
    "Note that the boosting classifier you implement can include decision trees from scikit-learn or your own decision trees. Use the same sentiment analysis dataset for evaluation."
   ]
  },
  {
   "cell_type": "code",
   "execution_count": 1,
   "id": "a40313a0",
   "metadata": {},
   "outputs": [],
   "source": [
    "from sklearn.feature_extraction.text import TfidfVectorizer, CountVectorizer\n",
    "import nltk\n",
    "from nltk.corpus import stopwords\n",
    "from nltk.stem import PorterStemmer\n",
    "from nltk.tokenize import word_tokenize\n",
    "from bs4 import BeautifulSoup\n",
    "from nltk.util import ngrams\n",
    "from nltk import FreqDist\n",
    "import numpy as np\n",
    "import pandas as pd\n",
    "from tqdm.notebook import tqdm # for showing progress bar"
   ]
  },
  {
   "cell_type": "code",
   "execution_count": 2,
   "id": "3805e672",
   "metadata": {},
   "outputs": [],
   "source": [
    "from sklearn.tree import DecisionTreeClassifier\n",
    "import numpy as np\n",
    "\n",
    "class BoostingClassifier:\n",
    "    # You need to implement this classifier. \n",
    "    def __init__(self,n_clf=5000, max_depth=1, criterion=\"gini\", splitter=\"best\"):\n",
    "        \n",
    "        # Hyperparameter for AdaBoost\n",
    "        self.n_clf=n_clf\n",
    "        \n",
    "        # Hyperparameters for decision tree\n",
    "        self.max_depth = max_depth\n",
    "        self.criterion = criterion\n",
    "        self.splitter = splitter\n",
    "        \n",
    "        # TF-IDF vectorizer to convert the feature vectors\n",
    "        self.tf_idf = TfidfVectorizer(min_df = 2, # remove words that appear too rarely\n",
    "                                      max_df = 0.7, # remove words that appear too often\n",
    "                                      sublinear_tf = True,\n",
    "                                      ngram_range=(1,5),\n",
    "                                      max_features=30000,\n",
    "                                      smooth_idf = True\n",
    "                                      )\n",
    "        \n",
    "\n",
    "\n",
    "    def update_w(self, w, al, y, pred):\n",
    "        \n",
    "        return w * np.exp(al * (np.not_equal(y, pred)))\n",
    "    \n",
    "    def calc_err(self, y, pred, w):\n",
    "        \n",
    "        return sum(w * np.not_equal(y, pred))/sum(w)\n",
    "    \n",
    "    def calc_alph(self, err):\n",
    "        return np.log((1 - err) / err )\n",
    "    \n",
    "    def fit(self,X,y):\n",
    "        n_samples = len(X)\n",
    "        self.clfs=[]\n",
    "        self.alpha=[]\n",
    "\n",
    "        X = self.tf_idf.fit_transform(X)\n",
    "        \n",
    "        for m in tqdm(range(self.n_clf)):\n",
    "            \n",
    "            if m == 0:\n",
    "                # init weights\n",
    "                w = np.full(n_samples,(1/n_samples))\n",
    "            else:\n",
    "                # update weights\n",
    "                w = self.update_w(w, alph, y, pred)\n",
    "            \n",
    "            clf = DecisionTreeClassifier(max_depth=self.max_depth,\n",
    "                                         criterion = self.criterion,\n",
    "                                         splitter = self.splitter\n",
    "                                        )\n",
    "\n",
    "            clf = clf.fit(X, y, sample_weight=w)\n",
    "            \n",
    "            pred = clf.predict(X) # predictions made by the weak classifier\n",
    "            \n",
    "            # save classifier\n",
    "            self.clfs.append(clf)\n",
    "            \n",
    "            # calculate error\n",
    "            err = self.calc_err(y, pred, w)\n",
    "            \n",
    "            # cal alph \n",
    "            alph = self.calc_alph(err)\n",
    "            self.alpha.append(alph)\n",
    "            \n",
    "    def predict(self, X):\n",
    "        \n",
    "        # init df for storing pred from each weak classifier (decision tree)\n",
    "        weak_preds = pd.DataFrame(index = range(len(X)), columns = range(self.n_clf))\n",
    "        \n",
    "        X = self.tf_idf.transform(X)    \n",
    "        \n",
    "        for m in tqdm(range(self.n_clf)):\n",
    "            pred_m = self.clfs[m].predict(X) * self.alpha[m]\n",
    "            weak_preds.iloc[:,m] = pred_m\n",
    "\n",
    "        # Calculate final predictions\n",
    "        y_pred = (1 * np.sign(weak_preds.T.sum())).astype(int)\n",
    "\n",
    "        return np.array(y_pred)"
   ]
  },
  {
   "cell_type": "code",
   "execution_count": 3,
   "id": "71ab1729",
   "metadata": {},
   "outputs": [
    {
     "data": {
      "application/vnd.jupyter.widget-view+json": {
       "model_id": "98a43e026ec340e9b3eb92ad588b50b1",
       "version_major": 2,
       "version_minor": 0
      },
      "text/plain": [
       "  0%|          | 0/100 [00:00<?, ?it/s]"
      ]
     },
     "metadata": {},
     "output_type": "display_data"
    },
    {
     "data": {
      "application/vnd.jupyter.widget-view+json": {
       "model_id": "462f9ba96994421fb044d97015c1de07",
       "version_major": 2,
       "version_minor": 0
      },
      "text/plain": [
       "  0%|          | 0/100 [00:00<?, ?it/s]"
      ]
     },
     "metadata": {},
     "output_type": "display_data"
    },
    {
     "name": "stdout",
     "output_type": "stream",
     "text": [
      "Accuracy : 0.7726666666666666\n",
      "              precision    recall  f1-score   support\n",
      "\n",
      "          -1       0.79      0.73      0.76       731\n",
      "           1       0.76      0.82      0.79       769\n",
      "\n",
      "    accuracy                           0.77      1500\n",
      "   macro avg       0.77      0.77      0.77      1500\n",
      "weighted avg       0.77      0.77      0.77      1500\n",
      "\n"
     ]
    }
   ],
   "source": [
    "from datetime import datetime\n",
    "from sklearn.metrics import accuracy_score, f1_score, classification_report\n",
    "\n",
    "X_train = pd.read_csv(r\"processed_x_train_4.csv\")[\"0\"]\n",
    "X_test = pd.read_csv(r\"processed_x_test_4.csv\")[\"0\"]\n",
    "# Y_train =  pd.read_csv(\"movie_review_train.csv\")[\"sentiment\"]\n",
    "# Y_train[Y_train==\"negative\"] = -1\n",
    "# Y_train[Y_train==\"positive\"] = 1\n",
    "# Y_test = pd.read_csv(\"movie_review_test.csv\")[\"sentiment\"]\n",
    "# Y_test[Y_test==\"negative\"] = -1\n",
    "# Y_test[Y_test==\"positive\"] = 1\n",
    "\n",
    "\n",
    "train = pd.read_csv(\"movie_review_train.csv\")\n",
    "test = pd.read_csv(\"movie_review_test.csv\")\n",
    "    \n",
    "#X_train = np.array(train.review)\n",
    "#X_test = np.array(test.review)\n",
    "    \n",
    "Y_train = np.array(train.sentiment)\n",
    "Y_train[Y_train=='positive'] = 1\n",
    "Y_train[Y_train=='negative'] = -1\n",
    "Y_train = Y_train.astype('int')\n",
    "    \n",
    "Y_test = np.array(test.sentiment)\n",
    "Y_test[Y_test=='positive'] = 1\n",
    "Y_test[Y_test=='negative'] = -1\n",
    "Y_test = Y_test.astype('int')\n",
    "\n",
    "\n",
    "\n",
    "\n",
    "start = datetime.now()\n",
    "clf=BoostingClassifier(n_clf=100,  max_depth=1, criterion='gini', splitter='best')\n",
    "clf.fit(X_train,Y_train)\n",
    "y_pred= clf.predict(X_test)\n",
    "\n",
    "acc=accuracy_score(Y_test,y_pred)\n",
    "print(\"Accuracy :\",acc)\n",
    "classificationReport = classification_report(Y_test, y_pred)\n",
    "print(classificationReport)\n",
    "end = datetime.now()\n"
   ]
  },
  {
   "cell_type": "code",
   "execution_count": 5,
   "id": "1f02e2c1",
   "metadata": {},
   "outputs": [
    {
     "name": "stdout",
     "output_type": "stream",
     "text": [
      "Number of trees:  100\n",
      "Depth: 1\n",
      "Criterion: gini\n",
      "Fold: 1\n"
     ]
    },
    {
     "data": {
      "application/vnd.jupyter.widget-view+json": {
       "model_id": "4c567d5e1b2a48f393e3b96a6f06ff72",
       "version_major": 2,
       "version_minor": 0
      },
      "text/plain": [
       "  0%|          | 0/100 [00:00<?, ?it/s]"
      ]
     },
     "metadata": {},
     "output_type": "display_data"
    },
    {
     "data": {
      "application/vnd.jupyter.widget-view+json": {
       "model_id": "63e687fd10be4fecae728b7e47483445",
       "version_major": 2,
       "version_minor": 0
      },
      "text/plain": [
       "  0%|          | 0/100 [00:00<?, ?it/s]"
      ]
     },
     "metadata": {},
     "output_type": "display_data"
    },
    {
     "name": "stdout",
     "output_type": "stream",
     "text": [
      "Fold: 2\n"
     ]
    },
    {
     "data": {
      "application/vnd.jupyter.widget-view+json": {
       "model_id": "3e3232899d074071b2591b899ff504f3",
       "version_major": 2,
       "version_minor": 0
      },
      "text/plain": [
       "  0%|          | 0/100 [00:00<?, ?it/s]"
      ]
     },
     "metadata": {},
     "output_type": "display_data"
    },
    {
     "data": {
      "application/vnd.jupyter.widget-view+json": {
       "model_id": "e5f7931eaf5242f5b0d1b1a6db31e8a7",
       "version_major": 2,
       "version_minor": 0
      },
      "text/plain": [
       "  0%|          | 0/100 [00:00<?, ?it/s]"
      ]
     },
     "metadata": {},
     "output_type": "display_data"
    },
    {
     "name": "stdout",
     "output_type": "stream",
     "text": [
      "Fold: 3\n"
     ]
    },
    {
     "data": {
      "application/vnd.jupyter.widget-view+json": {
       "model_id": "fd4fb3d8a630440ab50f58d160f9c1f5",
       "version_major": 2,
       "version_minor": 0
      },
      "text/plain": [
       "  0%|          | 0/100 [00:00<?, ?it/s]"
      ]
     },
     "metadata": {},
     "output_type": "display_data"
    },
    {
     "data": {
      "application/vnd.jupyter.widget-view+json": {
       "model_id": "e122be6ac43543c9b2341e5bf91d8cb1",
       "version_major": 2,
       "version_minor": 0
      },
      "text/plain": [
       "  0%|          | 0/100 [00:00<?, ?it/s]"
      ]
     },
     "metadata": {},
     "output_type": "display_data"
    },
    {
     "name": "stdout",
     "output_type": "stream",
     "text": [
      "Fold: 4\n"
     ]
    },
    {
     "data": {
      "application/vnd.jupyter.widget-view+json": {
       "model_id": "1b73cbfcd3fe4229b9bd3dcb4a1426e2",
       "version_major": 2,
       "version_minor": 0
      },
      "text/plain": [
       "  0%|          | 0/100 [00:00<?, ?it/s]"
      ]
     },
     "metadata": {},
     "output_type": "display_data"
    },
    {
     "data": {
      "application/vnd.jupyter.widget-view+json": {
       "model_id": "b04b2082f4224c3e97bf952fd8975c18",
       "version_major": 2,
       "version_minor": 0
      },
      "text/plain": [
       "  0%|          | 0/100 [00:00<?, ?it/s]"
      ]
     },
     "metadata": {},
     "output_type": "display_data"
    },
    {
     "name": "stdout",
     "output_type": "stream",
     "text": [
      "Fold: 5\n"
     ]
    },
    {
     "data": {
      "application/vnd.jupyter.widget-view+json": {
       "model_id": "60d0677b020f44578f31fd451397ebcd",
       "version_major": 2,
       "version_minor": 0
      },
      "text/plain": [
       "  0%|          | 0/100 [00:00<?, ?it/s]"
      ]
     },
     "metadata": {},
     "output_type": "display_data"
    },
    {
     "data": {
      "application/vnd.jupyter.widget-view+json": {
       "model_id": "18e5df73f5964232acbe918664b2a66a",
       "version_major": 2,
       "version_minor": 0
      },
      "text/plain": [
       "  0%|          | 0/100 [00:00<?, ?it/s]"
      ]
     },
     "metadata": {},
     "output_type": "display_data"
    },
    {
     "name": "stdout",
     "output_type": "stream",
     "text": [
      "Number of trees:  100\n",
      "Depth: 1\n",
      "Criterion: entropy\n",
      "Fold: 1\n"
     ]
    },
    {
     "data": {
      "application/vnd.jupyter.widget-view+json": {
       "model_id": "83146060c946460795ada90a84c53936",
       "version_major": 2,
       "version_minor": 0
      },
      "text/plain": [
       "  0%|          | 0/100 [00:00<?, ?it/s]"
      ]
     },
     "metadata": {},
     "output_type": "display_data"
    },
    {
     "data": {
      "application/vnd.jupyter.widget-view+json": {
       "model_id": "bc12a9752259468f98e13cee705c0725",
       "version_major": 2,
       "version_minor": 0
      },
      "text/plain": [
       "  0%|          | 0/100 [00:00<?, ?it/s]"
      ]
     },
     "metadata": {},
     "output_type": "display_data"
    },
    {
     "name": "stdout",
     "output_type": "stream",
     "text": [
      "Fold: 2\n"
     ]
    },
    {
     "data": {
      "application/vnd.jupyter.widget-view+json": {
       "model_id": "c910212a4de94b2c9d7b3301511fc1b6",
       "version_major": 2,
       "version_minor": 0
      },
      "text/plain": [
       "  0%|          | 0/100 [00:00<?, ?it/s]"
      ]
     },
     "metadata": {},
     "output_type": "display_data"
    },
    {
     "data": {
      "application/vnd.jupyter.widget-view+json": {
       "model_id": "da944ad23a2e497293540be7faa5a1d5",
       "version_major": 2,
       "version_minor": 0
      },
      "text/plain": [
       "  0%|          | 0/100 [00:00<?, ?it/s]"
      ]
     },
     "metadata": {},
     "output_type": "display_data"
    },
    {
     "name": "stdout",
     "output_type": "stream",
     "text": [
      "Fold: 3\n"
     ]
    },
    {
     "data": {
      "application/vnd.jupyter.widget-view+json": {
       "model_id": "a0d871a4a1084d8a80076d5e5ddd64c7",
       "version_major": 2,
       "version_minor": 0
      },
      "text/plain": [
       "  0%|          | 0/100 [00:00<?, ?it/s]"
      ]
     },
     "metadata": {},
     "output_type": "display_data"
    },
    {
     "data": {
      "application/vnd.jupyter.widget-view+json": {
       "model_id": "3996f964193f40989cc26020c551bce0",
       "version_major": 2,
       "version_minor": 0
      },
      "text/plain": [
       "  0%|          | 0/100 [00:00<?, ?it/s]"
      ]
     },
     "metadata": {},
     "output_type": "display_data"
    },
    {
     "name": "stdout",
     "output_type": "stream",
     "text": [
      "Fold: 4\n"
     ]
    },
    {
     "data": {
      "application/vnd.jupyter.widget-view+json": {
       "model_id": "d4554c9d12ba4e2f8685439455f97919",
       "version_major": 2,
       "version_minor": 0
      },
      "text/plain": [
       "  0%|          | 0/100 [00:00<?, ?it/s]"
      ]
     },
     "metadata": {},
     "output_type": "display_data"
    },
    {
     "data": {
      "application/vnd.jupyter.widget-view+json": {
       "model_id": "d58d70c8836f4709b3dc75ca7b47a4c9",
       "version_major": 2,
       "version_minor": 0
      },
      "text/plain": [
       "  0%|          | 0/100 [00:00<?, ?it/s]"
      ]
     },
     "metadata": {},
     "output_type": "display_data"
    },
    {
     "name": "stdout",
     "output_type": "stream",
     "text": [
      "Fold: 5\n"
     ]
    },
    {
     "data": {
      "application/vnd.jupyter.widget-view+json": {
       "model_id": "4573f4b2e1e14d19885569e0b349e39c",
       "version_major": 2,
       "version_minor": 0
      },
      "text/plain": [
       "  0%|          | 0/100 [00:00<?, ?it/s]"
      ]
     },
     "metadata": {},
     "output_type": "display_data"
    },
    {
     "data": {
      "application/vnd.jupyter.widget-view+json": {
       "model_id": "0026d1aa70384bb394256e1936cab7de",
       "version_major": 2,
       "version_minor": 0
      },
      "text/plain": [
       "  0%|          | 0/100 [00:00<?, ?it/s]"
      ]
     },
     "metadata": {},
     "output_type": "display_data"
    },
    {
     "name": "stdout",
     "output_type": "stream",
     "text": [
      "Number of trees:  1000\n",
      "Depth: 1\n",
      "Criterion: gini\n",
      "Fold: 1\n"
     ]
    },
    {
     "data": {
      "application/vnd.jupyter.widget-view+json": {
       "model_id": "0d19ae94b1b44992bd91d48bc0fb009d",
       "version_major": 2,
       "version_minor": 0
      },
      "text/plain": [
       "  0%|          | 0/1000 [00:00<?, ?it/s]"
      ]
     },
     "metadata": {},
     "output_type": "display_data"
    },
    {
     "data": {
      "application/vnd.jupyter.widget-view+json": {
       "model_id": "8890031388694e22ad37d425cab301e9",
       "version_major": 2,
       "version_minor": 0
      },
      "text/plain": [
       "  0%|          | 0/1000 [00:00<?, ?it/s]"
      ]
     },
     "metadata": {},
     "output_type": "display_data"
    },
    {
     "name": "stdout",
     "output_type": "stream",
     "text": [
      "Fold: 2\n"
     ]
    },
    {
     "data": {
      "application/vnd.jupyter.widget-view+json": {
       "model_id": "344ff0d3857b4c168cda5d4e781dd671",
       "version_major": 2,
       "version_minor": 0
      },
      "text/plain": [
       "  0%|          | 0/1000 [00:00<?, ?it/s]"
      ]
     },
     "metadata": {},
     "output_type": "display_data"
    },
    {
     "data": {
      "application/vnd.jupyter.widget-view+json": {
       "model_id": "a919a7ae7f464c968af3c452ea0dd855",
       "version_major": 2,
       "version_minor": 0
      },
      "text/plain": [
       "  0%|          | 0/1000 [00:00<?, ?it/s]"
      ]
     },
     "metadata": {},
     "output_type": "display_data"
    },
    {
     "name": "stdout",
     "output_type": "stream",
     "text": [
      "Fold: 3\n"
     ]
    },
    {
     "data": {
      "application/vnd.jupyter.widget-view+json": {
       "model_id": "04080002ddef491a91f3d0bcf479bd60",
       "version_major": 2,
       "version_minor": 0
      },
      "text/plain": [
       "  0%|          | 0/1000 [00:00<?, ?it/s]"
      ]
     },
     "metadata": {},
     "output_type": "display_data"
    },
    {
     "data": {
      "application/vnd.jupyter.widget-view+json": {
       "model_id": "6533c1b15e79486fb71238580be730bc",
       "version_major": 2,
       "version_minor": 0
      },
      "text/plain": [
       "  0%|          | 0/1000 [00:00<?, ?it/s]"
      ]
     },
     "metadata": {},
     "output_type": "display_data"
    },
    {
     "name": "stdout",
     "output_type": "stream",
     "text": [
      "Fold: 4\n"
     ]
    },
    {
     "data": {
      "application/vnd.jupyter.widget-view+json": {
       "model_id": "f9b0436295884d5082dbeffb013abffe",
       "version_major": 2,
       "version_minor": 0
      },
      "text/plain": [
       "  0%|          | 0/1000 [00:00<?, ?it/s]"
      ]
     },
     "metadata": {},
     "output_type": "display_data"
    },
    {
     "data": {
      "application/vnd.jupyter.widget-view+json": {
       "model_id": "cd1123d6e8334fabb56be7dfb108c34b",
       "version_major": 2,
       "version_minor": 0
      },
      "text/plain": [
       "  0%|          | 0/1000 [00:00<?, ?it/s]"
      ]
     },
     "metadata": {},
     "output_type": "display_data"
    },
    {
     "name": "stdout",
     "output_type": "stream",
     "text": [
      "Fold: 5\n"
     ]
    },
    {
     "data": {
      "application/vnd.jupyter.widget-view+json": {
       "model_id": "b56edc3d5e6d45cab6a36796bc8ddf2d",
       "version_major": 2,
       "version_minor": 0
      },
      "text/plain": [
       "  0%|          | 0/1000 [00:00<?, ?it/s]"
      ]
     },
     "metadata": {},
     "output_type": "display_data"
    },
    {
     "data": {
      "application/vnd.jupyter.widget-view+json": {
       "model_id": "f65916487e0f4fd1a472c2288353e2be",
       "version_major": 2,
       "version_minor": 0
      },
      "text/plain": [
       "  0%|          | 0/1000 [00:00<?, ?it/s]"
      ]
     },
     "metadata": {},
     "output_type": "display_data"
    },
    {
     "name": "stdout",
     "output_type": "stream",
     "text": [
      "Number of trees:  1000\n",
      "Depth: 1\n",
      "Criterion: entropy\n",
      "Fold: 1\n"
     ]
    },
    {
     "data": {
      "application/vnd.jupyter.widget-view+json": {
       "model_id": "efb6a6fefcf84a5f95e39ca98fa80b94",
       "version_major": 2,
       "version_minor": 0
      },
      "text/plain": [
       "  0%|          | 0/1000 [00:00<?, ?it/s]"
      ]
     },
     "metadata": {},
     "output_type": "display_data"
    },
    {
     "data": {
      "application/vnd.jupyter.widget-view+json": {
       "model_id": "cfdba47dee5b4dd6bf6968b3fd24bb30",
       "version_major": 2,
       "version_minor": 0
      },
      "text/plain": [
       "  0%|          | 0/1000 [00:00<?, ?it/s]"
      ]
     },
     "metadata": {},
     "output_type": "display_data"
    },
    {
     "name": "stdout",
     "output_type": "stream",
     "text": [
      "Fold: 2\n"
     ]
    },
    {
     "data": {
      "application/vnd.jupyter.widget-view+json": {
       "model_id": "7b458a77f9c34646b634cb86dbc46c6b",
       "version_major": 2,
       "version_minor": 0
      },
      "text/plain": [
       "  0%|          | 0/1000 [00:00<?, ?it/s]"
      ]
     },
     "metadata": {},
     "output_type": "display_data"
    },
    {
     "data": {
      "application/vnd.jupyter.widget-view+json": {
       "model_id": "76b734fe35d440489688455f781c1a66",
       "version_major": 2,
       "version_minor": 0
      },
      "text/plain": [
       "  0%|          | 0/1000 [00:00<?, ?it/s]"
      ]
     },
     "metadata": {},
     "output_type": "display_data"
    },
    {
     "name": "stdout",
     "output_type": "stream",
     "text": [
      "Fold: 3\n"
     ]
    },
    {
     "data": {
      "application/vnd.jupyter.widget-view+json": {
       "model_id": "cbafa17cdc944321891edac91a8cb55f",
       "version_major": 2,
       "version_minor": 0
      },
      "text/plain": [
       "  0%|          | 0/1000 [00:00<?, ?it/s]"
      ]
     },
     "metadata": {},
     "output_type": "display_data"
    },
    {
     "data": {
      "application/vnd.jupyter.widget-view+json": {
       "model_id": "190597e38d244ee29df6365cc63a4919",
       "version_major": 2,
       "version_minor": 0
      },
      "text/plain": [
       "  0%|          | 0/1000 [00:00<?, ?it/s]"
      ]
     },
     "metadata": {},
     "output_type": "display_data"
    },
    {
     "name": "stdout",
     "output_type": "stream",
     "text": [
      "Fold: 4\n"
     ]
    },
    {
     "data": {
      "application/vnd.jupyter.widget-view+json": {
       "model_id": "2b66519f733e44b792f02f9068584de1",
       "version_major": 2,
       "version_minor": 0
      },
      "text/plain": [
       "  0%|          | 0/1000 [00:00<?, ?it/s]"
      ]
     },
     "metadata": {},
     "output_type": "display_data"
    },
    {
     "data": {
      "application/vnd.jupyter.widget-view+json": {
       "model_id": "1df340e6f8d04f6dbdd9f0ba199a3819",
       "version_major": 2,
       "version_minor": 0
      },
      "text/plain": [
       "  0%|          | 0/1000 [00:00<?, ?it/s]"
      ]
     },
     "metadata": {},
     "output_type": "display_data"
    },
    {
     "name": "stdout",
     "output_type": "stream",
     "text": [
      "Fold: 5\n"
     ]
    },
    {
     "data": {
      "application/vnd.jupyter.widget-view+json": {
       "model_id": "6a259ff8dbd84206ad6cc6ef62e3c7be",
       "version_major": 2,
       "version_minor": 0
      },
      "text/plain": [
       "  0%|          | 0/1000 [00:00<?, ?it/s]"
      ]
     },
     "metadata": {},
     "output_type": "display_data"
    },
    {
     "data": {
      "application/vnd.jupyter.widget-view+json": {
       "model_id": "38b087f91eb44264bf9ef3311a69a551",
       "version_major": 2,
       "version_minor": 0
      },
      "text/plain": [
       "  0%|          | 0/1000 [00:00<?, ?it/s]"
      ]
     },
     "metadata": {},
     "output_type": "display_data"
    },
    {
     "name": "stdout",
     "output_type": "stream",
     "text": [
      "Number of trees:  5000\n",
      "Depth: 1\n",
      "Criterion: gini\n",
      "Fold: 1\n"
     ]
    },
    {
     "data": {
      "application/vnd.jupyter.widget-view+json": {
       "model_id": "b3262fd2107542388ab52763f346a02d",
       "version_major": 2,
       "version_minor": 0
      },
      "text/plain": [
       "  0%|          | 0/5000 [00:00<?, ?it/s]"
      ]
     },
     "metadata": {},
     "output_type": "display_data"
    },
    {
     "data": {
      "application/vnd.jupyter.widget-view+json": {
       "model_id": "232234e7f9a14db7834facc71d405f63",
       "version_major": 2,
       "version_minor": 0
      },
      "text/plain": [
       "  0%|          | 0/5000 [00:00<?, ?it/s]"
      ]
     },
     "metadata": {},
     "output_type": "display_data"
    },
    {
     "name": "stdout",
     "output_type": "stream",
     "text": [
      "Fold: 2\n"
     ]
    },
    {
     "data": {
      "application/vnd.jupyter.widget-view+json": {
       "model_id": "bd05ba2b6bfb4aaca8319c6cfcad14f0",
       "version_major": 2,
       "version_minor": 0
      },
      "text/plain": [
       "  0%|          | 0/5000 [00:00<?, ?it/s]"
      ]
     },
     "metadata": {},
     "output_type": "display_data"
    },
    {
     "data": {
      "application/vnd.jupyter.widget-view+json": {
       "model_id": "237b7b2ce32a46d5ab46fe1995b1563f",
       "version_major": 2,
       "version_minor": 0
      },
      "text/plain": [
       "  0%|          | 0/5000 [00:00<?, ?it/s]"
      ]
     },
     "metadata": {},
     "output_type": "display_data"
    },
    {
     "name": "stdout",
     "output_type": "stream",
     "text": [
      "Fold: 3\n"
     ]
    },
    {
     "data": {
      "application/vnd.jupyter.widget-view+json": {
       "model_id": "ecfad25ef69343a788f6a33b0347b33f",
       "version_major": 2,
       "version_minor": 0
      },
      "text/plain": [
       "  0%|          | 0/5000 [00:00<?, ?it/s]"
      ]
     },
     "metadata": {},
     "output_type": "display_data"
    },
    {
     "data": {
      "application/vnd.jupyter.widget-view+json": {
       "model_id": "678f3ffd5a4a4036beecc85ad5a19890",
       "version_major": 2,
       "version_minor": 0
      },
      "text/plain": [
       "  0%|          | 0/5000 [00:00<?, ?it/s]"
      ]
     },
     "metadata": {},
     "output_type": "display_data"
    },
    {
     "name": "stdout",
     "output_type": "stream",
     "text": [
      "Fold: 4\n"
     ]
    },
    {
     "data": {
      "application/vnd.jupyter.widget-view+json": {
       "model_id": "6c02e6bc649c46eb87ab9da70adc23e4",
       "version_major": 2,
       "version_minor": 0
      },
      "text/plain": [
       "  0%|          | 0/5000 [00:00<?, ?it/s]"
      ]
     },
     "metadata": {},
     "output_type": "display_data"
    },
    {
     "data": {
      "application/vnd.jupyter.widget-view+json": {
       "model_id": "6dcc7ada4d4c4983bbeaaf101dbe1cb8",
       "version_major": 2,
       "version_minor": 0
      },
      "text/plain": [
       "  0%|          | 0/5000 [00:00<?, ?it/s]"
      ]
     },
     "metadata": {},
     "output_type": "display_data"
    },
    {
     "name": "stdout",
     "output_type": "stream",
     "text": [
      "Fold: 5\n"
     ]
    },
    {
     "data": {
      "application/vnd.jupyter.widget-view+json": {
       "model_id": "cf8a3c68bf1f44dd91e805d9427e763f",
       "version_major": 2,
       "version_minor": 0
      },
      "text/plain": [
       "  0%|          | 0/5000 [00:00<?, ?it/s]"
      ]
     },
     "metadata": {},
     "output_type": "display_data"
    },
    {
     "data": {
      "application/vnd.jupyter.widget-view+json": {
       "model_id": "60061a685e1541b3ac8143565232e3dd",
       "version_major": 2,
       "version_minor": 0
      },
      "text/plain": [
       "  0%|          | 0/5000 [00:00<?, ?it/s]"
      ]
     },
     "metadata": {},
     "output_type": "display_data"
    },
    {
     "name": "stdout",
     "output_type": "stream",
     "text": [
      "Number of trees:  5000\n",
      "Depth: 1\n",
      "Criterion: entropy\n",
      "Fold: 1\n"
     ]
    },
    {
     "data": {
      "application/vnd.jupyter.widget-view+json": {
       "model_id": "2a91af2008b44406824602a684d3a34e",
       "version_major": 2,
       "version_minor": 0
      },
      "text/plain": [
       "  0%|          | 0/5000 [00:00<?, ?it/s]"
      ]
     },
     "metadata": {},
     "output_type": "display_data"
    },
    {
     "data": {
      "application/vnd.jupyter.widget-view+json": {
       "model_id": "76ef7aa3f9b84bcf8dabd7bd95eac6dd",
       "version_major": 2,
       "version_minor": 0
      },
      "text/plain": [
       "  0%|          | 0/5000 [00:00<?, ?it/s]"
      ]
     },
     "metadata": {},
     "output_type": "display_data"
    },
    {
     "name": "stdout",
     "output_type": "stream",
     "text": [
      "Fold: 2\n"
     ]
    },
    {
     "data": {
      "application/vnd.jupyter.widget-view+json": {
       "model_id": "074337e352ef4e0ab901d3de272c3e24",
       "version_major": 2,
       "version_minor": 0
      },
      "text/plain": [
       "  0%|          | 0/5000 [00:00<?, ?it/s]"
      ]
     },
     "metadata": {},
     "output_type": "display_data"
    },
    {
     "data": {
      "application/vnd.jupyter.widget-view+json": {
       "model_id": "0e2b302e24c9428195e90155ba98a691",
       "version_major": 2,
       "version_minor": 0
      },
      "text/plain": [
       "  0%|          | 0/5000 [00:00<?, ?it/s]"
      ]
     },
     "metadata": {},
     "output_type": "display_data"
    },
    {
     "name": "stdout",
     "output_type": "stream",
     "text": [
      "Fold: 3\n"
     ]
    },
    {
     "data": {
      "application/vnd.jupyter.widget-view+json": {
       "model_id": "f12ddeccadb64a0baab3e7ae37ea44cc",
       "version_major": 2,
       "version_minor": 0
      },
      "text/plain": [
       "  0%|          | 0/5000 [00:00<?, ?it/s]"
      ]
     },
     "metadata": {},
     "output_type": "display_data"
    },
    {
     "data": {
      "application/vnd.jupyter.widget-view+json": {
       "model_id": "71c9646bcd2c4525999a4c58cdd0d92e",
       "version_major": 2,
       "version_minor": 0
      },
      "text/plain": [
       "  0%|          | 0/5000 [00:00<?, ?it/s]"
      ]
     },
     "metadata": {},
     "output_type": "display_data"
    },
    {
     "name": "stdout",
     "output_type": "stream",
     "text": [
      "Fold: 4\n"
     ]
    },
    {
     "data": {
      "application/vnd.jupyter.widget-view+json": {
       "model_id": "04c5ca22374a401fbde687e044fb950c",
       "version_major": 2,
       "version_minor": 0
      },
      "text/plain": [
       "  0%|          | 0/5000 [00:00<?, ?it/s]"
      ]
     },
     "metadata": {},
     "output_type": "display_data"
    },
    {
     "data": {
      "application/vnd.jupyter.widget-view+json": {
       "model_id": "1ecd7cb2615e47e7ad54c2c57c66936f",
       "version_major": 2,
       "version_minor": 0
      },
      "text/plain": [
       "  0%|          | 0/5000 [00:00<?, ?it/s]"
      ]
     },
     "metadata": {},
     "output_type": "display_data"
    },
    {
     "name": "stdout",
     "output_type": "stream",
     "text": [
      "Fold: 5\n"
     ]
    },
    {
     "data": {
      "application/vnd.jupyter.widget-view+json": {
       "model_id": "994e6cb7466e472faf9e1d5bd2c8b6d3",
       "version_major": 2,
       "version_minor": 0
      },
      "text/plain": [
       "  0%|          | 0/5000 [00:00<?, ?it/s]"
      ]
     },
     "metadata": {},
     "output_type": "display_data"
    },
    {
     "data": {
      "application/vnd.jupyter.widget-view+json": {
       "model_id": "6964d272a77f452d9058abbdfecbab71",
       "version_major": 2,
       "version_minor": 0
      },
      "text/plain": [
       "  0%|          | 0/5000 [00:00<?, ?it/s]"
      ]
     },
     "metadata": {},
     "output_type": "display_data"
    }
   ],
   "source": [
    "from sklearn.model_selection import StratifiedKFold\n",
    "from sklearn.metrics import accuracy_score, f1_score, classification_report\n",
    "\n",
    "skf = StratifiedKFold(n_splits=5)\n",
    "skf.get_n_splits(X_train, Y_train)\n",
    "\n",
    "X = np.array(X_train)\n",
    "Y = np.array(Y_train)\n",
    "X_val = np.array(X_train)\n",
    "Y_val = np.array(Y_train)\n",
    "\n",
    "\n",
    "num_trees = [100,1000,5000]\n",
    "depths = [1]\n",
    "criteria = [\"gini\",\"entropy\"]\n",
    "\n",
    "fold = 1\n",
    "results = []\n",
    "\n",
    "for num_tree in num_trees:\n",
    "    for depth in depths:\n",
    "        for crit in criteria:\n",
    "            print('Number of trees: ', num_tree)\n",
    "            print('Depth:', depth)\n",
    "            print('Criterion:', crit)\n",
    "\n",
    "            fold = 1\n",
    "            reports = []\n",
    "            for train_idx, test_idx in skf.split(X, Y):\n",
    "\n",
    "                print('Fold:', fold)\n",
    "                clf = BoostingClassifier(n_clf=num_tree,  max_depth=depth, criterion='gini', splitter='best')\n",
    "                clf.fit(X[train_idx],Y[train_idx])\n",
    "                y_pred = clf.predict(X_val[test_idx])\n",
    "                report = classification_report(Y_val[test_idx], y_pred, output_dict=True)\n",
    "                reports.append(pd.DataFrame(report).transpose())\n",
    "                fold += 1\n",
    "\n",
    "            results.append(reports)"
   ]
  },
  {
   "cell_type": "code",
   "execution_count": 5,
   "id": "43bf7fbe",
   "metadata": {},
   "outputs": [
    {
     "name": "stderr",
     "output_type": "stream",
     "text": [
      "C:\\Users\\lolon\\anaconda3\\lib\\site-packages\\seaborn\\_decorators.py:36: FutureWarning: Pass the following variable as a keyword arg: x. From version 0.12, the only valid positional argument will be `data`, and passing other arguments without an explicit keyword will result in an error or misinterpretation.\n",
      "  warnings.warn(\n"
     ]
    },
    {
     "data": {
      "image/png": "[encoded data removed]",
      "text/plain": [
       "<Figure size 432x288 with 1 Axes>"
      ]
     },
     "metadata": {},
     "output_type": "display_data"
    }
   ],
   "source": [
    "import seaborn as sns\n",
    "sns.set_theme(style=\"whitegrid\")\n",
    "sns.countplot(Y_train).set(title='Training set')\n",
    "\n",
    "pd.options.display.float_format = \"{:,.2f}\".format"
   ]
  },
  {
   "cell_type": "code",
   "execution_count": 7,
   "id": "044fff04",
   "metadata": {},
   "outputs": [
    {
     "data": {
      "text/plain": [
       "[[              precision  recall  f1-score  support\n",
       "  -1                 0.81    0.73      0.76   506.00\n",
       "  1                  0.74    0.82      0.78   494.00\n",
       "  accuracy           0.77    0.77      0.77     0.77\n",
       "  macro avg          0.78    0.77      0.77 1,000.00\n",
       "  weighted avg       0.78    0.77      0.77 1,000.00,\n",
       "                precision  recall  f1-score  support\n",
       "  -1                 0.82    0.76      0.79   506.00\n",
       "  1                  0.77    0.83      0.80   494.00\n",
       "  accuracy           0.80    0.80      0.80     0.80\n",
       "  macro avg          0.80    0.80      0.80 1,000.00\n",
       "  weighted avg       0.80    0.80      0.80 1,000.00,\n",
       "                precision  recall  f1-score  support\n",
       "  -1                 0.82    0.71      0.76   506.00\n",
       "  1                  0.74    0.84      0.78   494.00\n",
       "  accuracy           0.77    0.77      0.77     0.77\n",
       "  macro avg          0.78    0.77      0.77 1,000.00\n",
       "  weighted avg       0.78    0.77      0.77 1,000.00,\n",
       "                precision  recall  f1-score  support\n",
       "  -1                 0.80    0.77      0.79   507.00\n",
       "  1                  0.77    0.81      0.79   493.00\n",
       "  accuracy           0.79    0.79      0.79     0.79\n",
       "  macro avg          0.79    0.79      0.79 1,000.00\n",
       "  weighted avg       0.79    0.79      0.79 1,000.00,\n",
       "                precision  recall  f1-score  support\n",
       "  -1                 0.84    0.80      0.82   507.00\n",
       "  1                  0.80    0.84      0.82   493.00\n",
       "  accuracy           0.82    0.82      0.82     0.82\n",
       "  macro avg          0.82    0.82      0.82 1,000.00\n",
       "  weighted avg       0.82    0.82      0.82 1,000.00],\n",
       " [              precision  recall  f1-score  support\n",
       "  -1                 0.81    0.73      0.76   506.00\n",
       "  1                  0.74    0.82      0.78   494.00\n",
       "  accuracy           0.77    0.77      0.77     0.77\n",
       "  macro avg          0.78    0.77      0.77 1,000.00\n",
       "  weighted avg       0.78    0.77      0.77 1,000.00,\n",
       "                precision  recall  f1-score  support\n",
       "  -1                 0.82    0.76      0.79   506.00\n",
       "  1                  0.77    0.83      0.80   494.00\n",
       "  accuracy           0.80    0.80      0.80     0.80\n",
       "  macro avg          0.80    0.80      0.80 1,000.00\n",
       "  weighted avg       0.80    0.80      0.80 1,000.00,\n",
       "                precision  recall  f1-score  support\n",
       "  -1                 0.82    0.71      0.76   506.00\n",
       "  1                  0.74    0.84      0.78   494.00\n",
       "  accuracy           0.77    0.77      0.77     0.77\n",
       "  macro avg          0.78    0.77      0.77 1,000.00\n",
       "  weighted avg       0.78    0.77      0.77 1,000.00,\n",
       "                precision  recall  f1-score  support\n",
       "  -1                 0.80    0.77      0.79   507.00\n",
       "  1                  0.77    0.81      0.79   493.00\n",
       "  accuracy           0.79    0.79      0.79     0.79\n",
       "  macro avg          0.79    0.79      0.79 1,000.00\n",
       "  weighted avg       0.79    0.79      0.79 1,000.00,\n",
       "                precision  recall  f1-score  support\n",
       "  -1                 0.84    0.80      0.82   507.00\n",
       "  1                  0.80    0.84      0.82   493.00\n",
       "  accuracy           0.82    0.82      0.82     0.82\n",
       "  macro avg          0.82    0.82      0.82 1,000.00\n",
       "  weighted avg       0.82    0.82      0.82 1,000.00],\n",
       " [              precision  recall  f1-score  support\n",
       "  -1                 0.83    0.82      0.82   506.00\n",
       "  1                  0.82    0.83      0.82   494.00\n",
       "  accuracy           0.82    0.82      0.82     0.82\n",
       "  macro avg          0.82    0.82      0.82 1,000.00\n",
       "  weighted avg       0.82    0.82      0.82 1,000.00,\n",
       "                precision  recall  f1-score  support\n",
       "  -1                 0.84    0.82      0.83   506.00\n",
       "  1                  0.82    0.84      0.83   494.00\n",
       "  accuracy           0.83    0.83      0.83     0.83\n",
       "  macro avg          0.83    0.83      0.83 1,000.00\n",
       "  weighted avg       0.83    0.83      0.83 1,000.00,\n",
       "                precision  recall  f1-score  support\n",
       "  -1                 0.86    0.76      0.81   506.00\n",
       "  1                  0.78    0.87      0.82   494.00\n",
       "  accuracy           0.81    0.81      0.81     0.81\n",
       "  macro avg          0.82    0.81      0.81 1,000.00\n",
       "  weighted avg       0.82    0.81      0.81 1,000.00,\n",
       "                precision  recall  f1-score  support\n",
       "  -1                 0.84    0.82      0.83   507.00\n",
       "  1                  0.82    0.84      0.83   493.00\n",
       "  accuracy           0.83    0.83      0.83     0.83\n",
       "  macro avg          0.83    0.83      0.83 1,000.00\n",
       "  weighted avg       0.83    0.83      0.83 1,000.00,\n",
       "                precision  recall  f1-score  support\n",
       "  -1                 0.85    0.85      0.85   507.00\n",
       "  1                  0.85    0.85      0.85   493.00\n",
       "  accuracy           0.85    0.85      0.85     0.85\n",
       "  macro avg          0.85    0.85      0.85 1,000.00\n",
       "  weighted avg       0.85    0.85      0.85 1,000.00],\n",
       " [              precision  recall  f1-score  support\n",
       "  -1                 0.83    0.82      0.82   506.00\n",
       "  1                  0.82    0.83      0.82   494.00\n",
       "  accuracy           0.82    0.82      0.82     0.82\n",
       "  macro avg          0.82    0.82      0.82 1,000.00\n",
       "  weighted avg       0.82    0.82      0.82 1,000.00,\n",
       "                precision  recall  f1-score  support\n",
       "  -1                 0.84    0.82      0.83   506.00\n",
       "  1                  0.82    0.84      0.83   494.00\n",
       "  accuracy           0.83    0.83      0.83     0.83\n",
       "  macro avg          0.83    0.83      0.83 1,000.00\n",
       "  weighted avg       0.83    0.83      0.83 1,000.00,\n",
       "                precision  recall  f1-score  support\n",
       "  -1                 0.86    0.76      0.81   506.00\n",
       "  1                  0.78    0.87      0.82   494.00\n",
       "  accuracy           0.81    0.81      0.81     0.81\n",
       "  macro avg          0.82    0.81      0.81 1,000.00\n",
       "  weighted avg       0.82    0.81      0.81 1,000.00,\n",
       "                precision  recall  f1-score  support\n",
       "  -1                 0.84    0.82      0.83   507.00\n",
       "  1                  0.82    0.84      0.83   493.00\n",
       "  accuracy           0.83    0.83      0.83     0.83\n",
       "  macro avg          0.83    0.83      0.83 1,000.00\n",
       "  weighted avg       0.83    0.83      0.83 1,000.00,\n",
       "                precision  recall  f1-score  support\n",
       "  -1                 0.85    0.85      0.85   507.00\n",
       "  1                  0.85    0.85      0.85   493.00\n",
       "  accuracy           0.85    0.85      0.85     0.85\n",
       "  macro avg          0.85    0.85      0.85 1,000.00\n",
       "  weighted avg       0.85    0.85      0.85 1,000.00],\n",
       " [              precision  recall  f1-score  support\n",
       "  -1                 0.86    0.84      0.85   506.00\n",
       "  1                  0.84    0.86      0.85   494.00\n",
       "  accuracy           0.85    0.85      0.85     0.85\n",
       "  macro avg          0.85    0.85      0.85 1,000.00\n",
       "  weighted avg       0.85    0.85      0.85 1,000.00,\n",
       "                precision  recall  f1-score  support\n",
       "  -1                 0.84    0.86      0.85   506.00\n",
       "  1                  0.85    0.83      0.84   494.00\n",
       "  accuracy           0.85    0.85      0.85     0.85\n",
       "  macro avg          0.85    0.85      0.85 1,000.00\n",
       "  weighted avg       0.85    0.85      0.85 1,000.00,\n",
       "                precision  recall  f1-score  support\n",
       "  -1                 0.87    0.78      0.83   506.00\n",
       "  1                  0.80    0.88      0.84   494.00\n",
       "  accuracy           0.83    0.83      0.83     0.83\n",
       "  macro avg          0.84    0.83      0.83 1,000.00\n",
       "  weighted avg       0.84    0.83      0.83 1,000.00,\n",
       "                precision  recall  f1-score  support\n",
       "  -1                 0.85    0.83      0.84   507.00\n",
       "  1                  0.83    0.85      0.84   493.00\n",
       "  accuracy           0.84    0.84      0.84     0.84\n",
       "  macro avg          0.84    0.84      0.84 1,000.00\n",
       "  weighted avg       0.84    0.84      0.84 1,000.00,\n",
       "                precision  recall  f1-score  support\n",
       "  -1                 0.86    0.85      0.86   507.00\n",
       "  1                  0.85    0.86      0.85   493.00\n",
       "  accuracy           0.85    0.85      0.85     0.85\n",
       "  macro avg          0.85    0.85      0.85 1,000.00\n",
       "  weighted avg       0.85    0.85      0.85 1,000.00],\n",
       " [              precision  recall  f1-score  support\n",
       "  -1                 0.86    0.84      0.85   506.00\n",
       "  1                  0.84    0.86      0.85   494.00\n",
       "  accuracy           0.85    0.85      0.85     0.85\n",
       "  macro avg          0.85    0.85      0.85 1,000.00\n",
       "  weighted avg       0.85    0.85      0.85 1,000.00,\n",
       "                precision  recall  f1-score  support\n",
       "  -1                 0.84    0.86      0.85   506.00\n",
       "  1                  0.85    0.83      0.84   494.00\n",
       "  accuracy           0.85    0.85      0.85     0.85\n",
       "  macro avg          0.85    0.85      0.85 1,000.00\n",
       "  weighted avg       0.85    0.85      0.85 1,000.00,\n",
       "                precision  recall  f1-score  support\n",
       "  -1                 0.87    0.78      0.83   506.00\n",
       "  1                  0.80    0.88      0.84   494.00\n",
       "  accuracy           0.83    0.83      0.83     0.83\n",
       "  macro avg          0.84    0.83      0.83 1,000.00\n",
       "  weighted avg       0.84    0.83      0.83 1,000.00,\n",
       "                precision  recall  f1-score  support\n",
       "  -1                 0.85    0.83      0.84   507.00\n",
       "  1                  0.83    0.85      0.84   493.00\n",
       "  accuracy           0.84    0.84      0.84     0.84\n",
       "  macro avg          0.84    0.84      0.84 1,000.00\n",
       "  weighted avg       0.84    0.84      0.84 1,000.00,\n",
       "                precision  recall  f1-score  support\n",
       "  -1                 0.86    0.85      0.86   507.00\n",
       "  1                  0.85    0.86      0.85   493.00\n",
       "  accuracy           0.85    0.85      0.85     0.85\n",
       "  macro avg          0.85    0.85      0.85 1,000.00\n",
       "  weighted avg       0.85    0.85      0.85 1,000.00]]"
      ]
     },
     "execution_count": 7,
     "metadata": {},
     "output_type": "execute_result"
    }
   ],
   "source": [
    "results"
   ]
  },
  {
   "cell_type": "code",
   "execution_count": 10,
   "id": "4a49f2f4",
   "metadata": {},
   "outputs": [
    {
     "data": {
      "application/vnd.jupyter.widget-view+json": {
       "model_id": "a1b7deccc0ad42b7a4b2929dabbb51e9",
       "version_major": 2,
       "version_minor": 0
      },
      "text/plain": [
       "  0%|          | 0/25 [00:00<?, ?it/s]"
      ]
     },
     "metadata": {},
     "output_type": "display_data"
    },
    {
     "data": {
      "application/vnd.jupyter.widget-view+json": {
       "model_id": "3f66ab80b93b461fadebccd832ffd939",
       "version_major": 2,
       "version_minor": 0
      },
      "text/plain": [
       "  0%|          | 0/25 [00:00<?, ?it/s]"
      ]
     },
     "metadata": {},
     "output_type": "display_data"
    },
    {
     "name": "stdout",
     "output_type": "stream",
     "text": [
      "25  trees of depth:  1\n",
      "Accuracy : 0.754\n"
     ]
    },
    {
     "data": {
      "application/vnd.jupyter.widget-view+json": {
       "model_id": "e1754e7cf1b44559ad02c0834c9a352c",
       "version_major": 2,
       "version_minor": 0
      },
      "text/plain": [
       "  0%|          | 0/50 [00:00<?, ?it/s]"
      ]
     },
     "metadata": {},
     "output_type": "display_data"
    },
    {
     "data": {
      "application/vnd.jupyter.widget-view+json": {
       "model_id": "f49f556a10574f38b24e44b34c8c4a95",
       "version_major": 2,
       "version_minor": 0
      },
      "text/plain": [
       "  0%|          | 0/50 [00:00<?, ?it/s]"
      ]
     },
     "metadata": {},
     "output_type": "display_data"
    },
    {
     "name": "stdout",
     "output_type": "stream",
     "text": [
      "50  trees of depth:  1\n",
      "Accuracy : 0.7553333333333333\n"
     ]
    },
    {
     "data": {
      "application/vnd.jupyter.widget-view+json": {
       "model_id": "e958e7d95595461a81364776fe03bee6",
       "version_major": 2,
       "version_minor": 0
      },
      "text/plain": [
       "  0%|          | 0/75 [00:00<?, ?it/s]"
      ]
     },
     "metadata": {},
     "output_type": "display_data"
    },
    {
     "data": {
      "application/vnd.jupyter.widget-view+json": {
       "model_id": "280f1a932b674c6887790c4897e29c61",
       "version_major": 2,
       "version_minor": 0
      },
      "text/plain": [
       "  0%|          | 0/75 [00:00<?, ?it/s]"
      ]
     },
     "metadata": {},
     "output_type": "display_data"
    },
    {
     "name": "stdout",
     "output_type": "stream",
     "text": [
      "75  trees of depth:  1\n",
      "Accuracy : 0.7573333333333333\n"
     ]
    },
    {
     "data": {
      "application/vnd.jupyter.widget-view+json": {
       "model_id": "df7a53a701ce4537a11e6cb3d00dc54a",
       "version_major": 2,
       "version_minor": 0
      },
      "text/plain": [
       "  0%|          | 0/100 [00:00<?, ?it/s]"
      ]
     },
     "metadata": {},
     "output_type": "display_data"
    },
    {
     "data": {
      "application/vnd.jupyter.widget-view+json": {
       "model_id": "91c63bc867b14982b46d701e53875ca1",
       "version_major": 2,
       "version_minor": 0
      },
      "text/plain": [
       "  0%|          | 0/100 [00:00<?, ?it/s]"
      ]
     },
     "metadata": {},
     "output_type": "display_data"
    },
    {
     "name": "stdout",
     "output_type": "stream",
     "text": [
      "100  trees of depth:  1\n",
      "Accuracy : 0.7726666666666666\n"
     ]
    },
    {
     "data": {
      "application/vnd.jupyter.widget-view+json": {
       "model_id": "9cda9259af2a4e1eb97a7420bee6110f",
       "version_major": 2,
       "version_minor": 0
      },
      "text/plain": [
       "  0%|          | 0/25 [00:00<?, ?it/s]"
      ]
     },
     "metadata": {},
     "output_type": "display_data"
    },
    {
     "data": {
      "application/vnd.jupyter.widget-view+json": {
       "model_id": "32f33b00881e4cddb331c9076ad57979",
       "version_major": 2,
       "version_minor": 0
      },
      "text/plain": [
       "  0%|          | 0/25 [00:00<?, ?it/s]"
      ]
     },
     "metadata": {},
     "output_type": "display_data"
    },
    {
     "name": "stdout",
     "output_type": "stream",
     "text": [
      "25  trees of depth:  2\n",
      "Accuracy : 0.7433333333333333\n"
     ]
    },
    {
     "data": {
      "application/vnd.jupyter.widget-view+json": {
       "model_id": "4b76d1593b36400b93d57dc7110bb4c1",
       "version_major": 2,
       "version_minor": 0
      },
      "text/plain": [
       "  0%|          | 0/50 [00:00<?, ?it/s]"
      ]
     },
     "metadata": {},
     "output_type": "display_data"
    },
    {
     "data": {
      "application/vnd.jupyter.widget-view+json": {
       "model_id": "a16fec9c2f524a2581e61cd390afaeeb",
       "version_major": 2,
       "version_minor": 0
      },
      "text/plain": [
       "  0%|          | 0/50 [00:00<?, ?it/s]"
      ]
     },
     "metadata": {},
     "output_type": "display_data"
    },
    {
     "name": "stdout",
     "output_type": "stream",
     "text": [
      "50  trees of depth:  2\n",
      "Accuracy : 0.784\n"
     ]
    },
    {
     "data": {
      "application/vnd.jupyter.widget-view+json": {
       "model_id": "4b7cb9f4d8604ac4a7372ad2878b4caa",
       "version_major": 2,
       "version_minor": 0
      },
      "text/plain": [
       "  0%|          | 0/75 [00:00<?, ?it/s]"
      ]
     },
     "metadata": {},
     "output_type": "display_data"
    },
    {
     "data": {
      "application/vnd.jupyter.widget-view+json": {
       "model_id": "bf88798fc42240fc9bad42e6282d1f18",
       "version_major": 2,
       "version_minor": 0
      },
      "text/plain": [
       "  0%|          | 0/75 [00:00<?, ?it/s]"
      ]
     },
     "metadata": {},
     "output_type": "display_data"
    },
    {
     "name": "stdout",
     "output_type": "stream",
     "text": [
      "75  trees of depth:  2\n",
      "Accuracy : 0.7933333333333333\n"
     ]
    },
    {
     "data": {
      "application/vnd.jupyter.widget-view+json": {
       "model_id": "8e32566882334800b5376f4fc3f0e1cf",
       "version_major": 2,
       "version_minor": 0
      },
      "text/plain": [
       "  0%|          | 0/100 [00:00<?, ?it/s]"
      ]
     },
     "metadata": {},
     "output_type": "display_data"
    },
    {
     "data": {
      "application/vnd.jupyter.widget-view+json": {
       "model_id": "508a74ccb5584493ab4297871d230278",
       "version_major": 2,
       "version_minor": 0
      },
      "text/plain": [
       "  0%|          | 0/100 [00:00<?, ?it/s]"
      ]
     },
     "metadata": {},
     "output_type": "display_data"
    },
    {
     "name": "stdout",
     "output_type": "stream",
     "text": [
      "100  trees of depth:  2\n",
      "Accuracy : 0.804\n"
     ]
    },
    {
     "data": {
      "application/vnd.jupyter.widget-view+json": {
       "model_id": "160aedff7ace4cb0be67a450276b1f16",
       "version_major": 2,
       "version_minor": 0
      },
      "text/plain": [
       "  0%|          | 0/25 [00:00<?, ?it/s]"
      ]
     },
     "metadata": {},
     "output_type": "display_data"
    },
    {
     "data": {
      "application/vnd.jupyter.widget-view+json": {
       "model_id": "bb273c16623447ee85a126fbb608bc17",
       "version_major": 2,
       "version_minor": 0
      },
      "text/plain": [
       "  0%|          | 0/25 [00:00<?, ?it/s]"
      ]
     },
     "metadata": {},
     "output_type": "display_data"
    },
    {
     "name": "stdout",
     "output_type": "stream",
     "text": [
      "25  trees of depth:  3\n",
      "Accuracy : 0.7666666666666667\n"
     ]
    },
    {
     "data": {
      "application/vnd.jupyter.widget-view+json": {
       "model_id": "f25225f04eb94ee3a23d29a08118784f",
       "version_major": 2,
       "version_minor": 0
      },
      "text/plain": [
       "  0%|          | 0/50 [00:00<?, ?it/s]"
      ]
     },
     "metadata": {},
     "output_type": "display_data"
    },
    {
     "data": {
      "application/vnd.jupyter.widget-view+json": {
       "model_id": "f4cd2b52c47148c0a016bd9ba62c1e8a",
       "version_major": 2,
       "version_minor": 0
      },
      "text/plain": [
       "  0%|          | 0/50 [00:00<?, ?it/s]"
      ]
     },
     "metadata": {},
     "output_type": "display_data"
    },
    {
     "name": "stdout",
     "output_type": "stream",
     "text": [
      "50  trees of depth:  3\n",
      "Accuracy : 0.7906666666666666\n"
     ]
    },
    {
     "data": {
      "application/vnd.jupyter.widget-view+json": {
       "model_id": "8602167231bb4d0babd1700ad21a1606",
       "version_major": 2,
       "version_minor": 0
      },
      "text/plain": [
       "  0%|          | 0/75 [00:00<?, ?it/s]"
      ]
     },
     "metadata": {},
     "output_type": "display_data"
    },
    {
     "data": {
      "application/vnd.jupyter.widget-view+json": {
       "model_id": "39e50274233940aeab9ae9c5e55372b0",
       "version_major": 2,
       "version_minor": 0
      },
      "text/plain": [
       "  0%|          | 0/75 [00:00<?, ?it/s]"
      ]
     },
     "metadata": {},
     "output_type": "display_data"
    },
    {
     "name": "stdout",
     "output_type": "stream",
     "text": [
      "75  trees of depth:  3\n",
      "Accuracy : 0.8\n"
     ]
    },
    {
     "data": {
      "application/vnd.jupyter.widget-view+json": {
       "model_id": "f8e4dd703f904724a361e695ea2be90e",
       "version_major": 2,
       "version_minor": 0
      },
      "text/plain": [
       "  0%|          | 0/100 [00:00<?, ?it/s]"
      ]
     },
     "metadata": {},
     "output_type": "display_data"
    },
    {
     "data": {
      "application/vnd.jupyter.widget-view+json": {
       "model_id": "d4652a73cf34436c91309f8de84149ee",
       "version_major": 2,
       "version_minor": 0
      },
      "text/plain": [
       "  0%|          | 0/100 [00:00<?, ?it/s]"
      ]
     },
     "metadata": {},
     "output_type": "display_data"
    },
    {
     "name": "stdout",
     "output_type": "stream",
     "text": [
      "100  trees of depth:  3\n",
      "Accuracy : 0.804\n"
     ]
    },
    {
     "data": {
      "application/vnd.jupyter.widget-view+json": {
       "model_id": "e9e0983753e94e629a6599372d410ffc",
       "version_major": 2,
       "version_minor": 0
      },
      "text/plain": [
       "  0%|          | 0/25 [00:00<?, ?it/s]"
      ]
     },
     "metadata": {},
     "output_type": "display_data"
    },
    {
     "data": {
      "application/vnd.jupyter.widget-view+json": {
       "model_id": "41a26fa3d973428ea57217cb61530825",
       "version_major": 2,
       "version_minor": 0
      },
      "text/plain": [
       "  0%|          | 0/25 [00:00<?, ?it/s]"
      ]
     },
     "metadata": {},
     "output_type": "display_data"
    },
    {
     "name": "stdout",
     "output_type": "stream",
     "text": [
      "25  trees of depth:  4\n",
      "Accuracy : 0.7706666666666667\n"
     ]
    },
    {
     "data": {
      "application/vnd.jupyter.widget-view+json": {
       "model_id": "494d1472b71e4d8ca5b5f741edb45925",
       "version_major": 2,
       "version_minor": 0
      },
      "text/plain": [
       "  0%|          | 0/50 [00:00<?, ?it/s]"
      ]
     },
     "metadata": {},
     "output_type": "display_data"
    },
    {
     "data": {
      "application/vnd.jupyter.widget-view+json": {
       "model_id": "6a380d2a3e1847db8cdee9d2399fc982",
       "version_major": 2,
       "version_minor": 0
      },
      "text/plain": [
       "  0%|          | 0/50 [00:00<?, ?it/s]"
      ]
     },
     "metadata": {},
     "output_type": "display_data"
    },
    {
     "name": "stdout",
     "output_type": "stream",
     "text": [
      "50  trees of depth:  4\n",
      "Accuracy : 0.7953333333333333\n"
     ]
    },
    {
     "data": {
      "application/vnd.jupyter.widget-view+json": {
       "model_id": "dcb33916a2fc478090580b6217095af7",
       "version_major": 2,
       "version_minor": 0
      },
      "text/plain": [
       "  0%|          | 0/75 [00:00<?, ?it/s]"
      ]
     },
     "metadata": {},
     "output_type": "display_data"
    },
    {
     "data": {
      "application/vnd.jupyter.widget-view+json": {
       "model_id": "839ea1e3ba8b40948362644f28bf42f5",
       "version_major": 2,
       "version_minor": 0
      },
      "text/plain": [
       "  0%|          | 0/75 [00:00<?, ?it/s]"
      ]
     },
     "metadata": {},
     "output_type": "display_data"
    },
    {
     "name": "stdout",
     "output_type": "stream",
     "text": [
      "75  trees of depth:  4\n",
      "Accuracy : 0.8086666666666666\n"
     ]
    },
    {
     "data": {
      "application/vnd.jupyter.widget-view+json": {
       "model_id": "40947bfaa4a442f5918a967fecff0e6c",
       "version_major": 2,
       "version_minor": 0
      },
      "text/plain": [
       "  0%|          | 0/100 [00:00<?, ?it/s]"
      ]
     },
     "metadata": {},
     "output_type": "display_data"
    },
    {
     "data": {
      "application/vnd.jupyter.widget-view+json": {
       "model_id": "1e54fce540ed421d8eae4aaaef97bbf2",
       "version_major": 2,
       "version_minor": 0
      },
      "text/plain": [
       "  0%|          | 0/100 [00:00<?, ?it/s]"
      ]
     },
     "metadata": {},
     "output_type": "display_data"
    },
    {
     "name": "stdout",
     "output_type": "stream",
     "text": [
      "100  trees of depth:  4\n",
      "Accuracy : 0.8013333333333333\n"
     ]
    },
    {
     "data": {
      "application/vnd.jupyter.widget-view+json": {
       "model_id": "40ab351ac3074ba19106209450988d7c",
       "version_major": 2,
       "version_minor": 0
      },
      "text/plain": [
       "  0%|          | 0/25 [00:00<?, ?it/s]"
      ]
     },
     "metadata": {},
     "output_type": "display_data"
    },
    {
     "data": {
      "application/vnd.jupyter.widget-view+json": {
       "model_id": "da3e5165b8d14dcc8943089eec18da30",
       "version_major": 2,
       "version_minor": 0
      },
      "text/plain": [
       "  0%|          | 0/25 [00:00<?, ?it/s]"
      ]
     },
     "metadata": {},
     "output_type": "display_data"
    },
    {
     "name": "stdout",
     "output_type": "stream",
     "text": [
      "25  trees of depth:  5\n",
      "Accuracy : 0.7693333333333333\n"
     ]
    },
    {
     "data": {
      "application/vnd.jupyter.widget-view+json": {
       "model_id": "ffd859daf2e14c27a4f10d855f7d3dc1",
       "version_major": 2,
       "version_minor": 0
      },
      "text/plain": [
       "  0%|          | 0/50 [00:00<?, ?it/s]"
      ]
     },
     "metadata": {},
     "output_type": "display_data"
    },
    {
     "data": {
      "application/vnd.jupyter.widget-view+json": {
       "model_id": "a1c392bc955c4dbf85035f0b1f4d24c9",
       "version_major": 2,
       "version_minor": 0
      },
      "text/plain": [
       "  0%|          | 0/50 [00:00<?, ?it/s]"
      ]
     },
     "metadata": {},
     "output_type": "display_data"
    },
    {
     "name": "stdout",
     "output_type": "stream",
     "text": [
      "50  trees of depth:  5\n",
      "Accuracy : 0.7973333333333333\n"
     ]
    },
    {
     "data": {
      "application/vnd.jupyter.widget-view+json": {
       "model_id": "1bf29016b47f4b28a8ef519b08e15deb",
       "version_major": 2,
       "version_minor": 0
      },
      "text/plain": [
       "  0%|          | 0/75 [00:00<?, ?it/s]"
      ]
     },
     "metadata": {},
     "output_type": "display_data"
    },
    {
     "data": {
      "application/vnd.jupyter.widget-view+json": {
       "model_id": "32bc797bc2a94eb3bd6e7eeaef0c2c71",
       "version_major": 2,
       "version_minor": 0
      },
      "text/plain": [
       "  0%|          | 0/75 [00:00<?, ?it/s]"
      ]
     },
     "metadata": {},
     "output_type": "display_data"
    },
    {
     "name": "stdout",
     "output_type": "stream",
     "text": [
      "75  trees of depth:  5\n",
      "Accuracy : 0.804\n"
     ]
    },
    {
     "data": {
      "application/vnd.jupyter.widget-view+json": {
       "model_id": "cbd32efd70f64d30a4eb0e29a67377ad",
       "version_major": 2,
       "version_minor": 0
      },
      "text/plain": [
       "  0%|          | 0/100 [00:00<?, ?it/s]"
      ]
     },
     "metadata": {},
     "output_type": "display_data"
    },
    {
     "data": {
      "application/vnd.jupyter.widget-view+json": {
       "model_id": "65fa49685b934bf7a28ad79bd16d78bc",
       "version_major": 2,
       "version_minor": 0
      },
      "text/plain": [
       "  0%|          | 0/100 [00:00<?, ?it/s]"
      ]
     },
     "metadata": {},
     "output_type": "display_data"
    },
    {
     "name": "stdout",
     "output_type": "stream",
     "text": [
      "100  trees of depth:  5\n",
      "Accuracy : 0.8133333333333334\n"
     ]
    }
   ],
   "source": [
    "from sklearn.metrics import classification_report\n",
    "\n",
    "# Hyperparameter grid search with cross-validation\n",
    "# First test small number of trees, and different depths\n",
    "depths = [1,2,3,4,5]\n",
    "num_trees = [25,50,75,100]\n",
    "criteria = [\"gini\"]\n",
    "for d in depths:\n",
    "    for num in num_trees:\n",
    "        for crit in criteria:\n",
    "            start = datetime.now()\n",
    "            clf=BoostingClassifier(n_clf=num,  max_depth=d, criterion=crit, splitter='best')\n",
    "            clf.fit(X_train,Y_train)\n",
    "            y_pred= clf.predict(X_test)\n",
    "\n",
    "            acc=accuracy_score(Y_test,y_pred)\n",
    "            print(num, \" trees of depth: \", d)\n",
    "            print(\"Accuracy :\",acc)\n",
    "            classificationReport = classification_report(Y_test, y_pred)\n",
    "            #print(classificationReport)\n",
    "            end = datetime.now()"
   ]
  },
  {
   "cell_type": "code",
   "execution_count": 11,
   "id": "0d54d57e",
   "metadata": {},
   "outputs": [
    {
     "data": {
      "application/vnd.jupyter.widget-view+json": {
       "model_id": "6746be05123f4c8ab2720ac7d2479e29",
       "version_major": 2,
       "version_minor": 0
      },
      "text/plain": [
       "  0%|          | 0/500 [00:00<?, ?it/s]"
      ]
     },
     "metadata": {},
     "output_type": "display_data"
    },
    {
     "data": {
      "application/vnd.jupyter.widget-view+json": {
       "model_id": "2220d2b2f727489d92a9d5d6f9a13ea3",
       "version_major": 2,
       "version_minor": 0
      },
      "text/plain": [
       "  0%|          | 0/500 [00:00<?, ?it/s]"
      ]
     },
     "metadata": {},
     "output_type": "display_data"
    },
    {
     "name": "stdout",
     "output_type": "stream",
     "text": [
      "500  trees of depth:  1\n",
      "Accuracy : 0.8106666666666666\n"
     ]
    },
    {
     "data": {
      "application/vnd.jupyter.widget-view+json": {
       "model_id": "27becb4b6dbf4ff1ade6116c59fa6bd6",
       "version_major": 2,
       "version_minor": 0
      },
      "text/plain": [
       "  0%|          | 0/1000 [00:00<?, ?it/s]"
      ]
     },
     "metadata": {},
     "output_type": "display_data"
    },
    {
     "data": {
      "application/vnd.jupyter.widget-view+json": {
       "model_id": "da519860666343748e41048d99718ceb",
       "version_major": 2,
       "version_minor": 0
      },
      "text/plain": [
       "  0%|          | 0/1000 [00:00<?, ?it/s]"
      ]
     },
     "metadata": {},
     "output_type": "display_data"
    },
    {
     "name": "stdout",
     "output_type": "stream",
     "text": [
      "1000  trees of depth:  1\n",
      "Accuracy : 0.8233333333333334\n"
     ]
    },
    {
     "data": {
      "application/vnd.jupyter.widget-view+json": {
       "model_id": "431605bfd28b479682c33a531d2c70d3",
       "version_major": 2,
       "version_minor": 0
      },
      "text/plain": [
       "  0%|          | 0/5000 [00:00<?, ?it/s]"
      ]
     },
     "metadata": {},
     "output_type": "display_data"
    },
    {
     "data": {
      "application/vnd.jupyter.widget-view+json": {
       "model_id": "ddfc741266664220b7f3493c7fbb3c1e",
       "version_major": 2,
       "version_minor": 0
      },
      "text/plain": [
       "  0%|          | 0/5000 [00:00<?, ?it/s]"
      ]
     },
     "metadata": {},
     "output_type": "display_data"
    },
    {
     "name": "stdout",
     "output_type": "stream",
     "text": [
      "5000  trees of depth:  1\n",
      "Accuracy : 0.848\n"
     ]
    },
    {
     "data": {
      "application/vnd.jupyter.widget-view+json": {
       "model_id": "acc887882d684fc1b5b6970918609f09",
       "version_major": 2,
       "version_minor": 0
      },
      "text/plain": [
       "  0%|          | 0/10000 [00:00<?, ?it/s]"
      ]
     },
     "metadata": {},
     "output_type": "display_data"
    },
    {
     "data": {
      "application/vnd.jupyter.widget-view+json": {
       "model_id": "847a1a010b5b477881616ed6e3bb978c",
       "version_major": 2,
       "version_minor": 0
      },
      "text/plain": [
       "  0%|          | 0/10000 [00:00<?, ?it/s]"
      ]
     },
     "metadata": {},
     "output_type": "display_data"
    },
    {
     "name": "stdout",
     "output_type": "stream",
     "text": [
      "10000  trees of depth:  1\n",
      "Accuracy : 0.848\n"
     ]
    }
   ],
   "source": [
    "# Hyperparameter grid search with cross-validation\n",
    "# Next test large number of trees, and small depth\n",
    "depths = [1]\n",
    "num_trees = [500,1000,5000,10000]\n",
    "criteria = [\"gini\"]\n",
    "for d in depths:\n",
    "    for num in num_trees:\n",
    "        for crit in criteria:\n",
    "            start = datetime.now()\n",
    "            clf=BoostingClassifier(n_clf=num,  max_depth=d, criterion=crit, splitter='best')\n",
    "            clf.fit(X_train,Y_train)\n",
    "            y_pred= clf.predict(X_test)\n",
    "\n",
    "            acc=accuracy_score(Y_test,y_pred)\n",
    "            print(num, \" trees of depth: \", d)\n",
    "            print(\"Accuracy :\",acc)\n",
    "            classificationReport = classification_report(Y_test, y_pred)\n",
    "            #print(classificationReport)\n",
    "            end = datetime.now()"
   ]
  },
  {
   "cell_type": "code",
   "execution_count": 14,
   "id": "e7841b2e",
   "metadata": {},
   "outputs": [
    {
     "data": {
      "application/vnd.jupyter.widget-view+json": {
       "model_id": "32322e10dbd4488c9b0b617bb0de5ab1",
       "version_major": 2,
       "version_minor": 0
      },
      "text/plain": [
       "  0%|          | 0/500 [00:00<?, ?it/s]"
      ]
     },
     "metadata": {},
     "output_type": "display_data"
    },
    {
     "data": {
      "application/vnd.jupyter.widget-view+json": {
       "model_id": "88a5bc7010e04cb4b0f2a4223fc23541",
       "version_major": 2,
       "version_minor": 0
      },
      "text/plain": [
       "  0%|          | 0/500 [00:00<?, ?it/s]"
      ]
     },
     "metadata": {},
     "output_type": "display_data"
    },
    {
     "name": "stdout",
     "output_type": "stream",
     "text": [
      "500  trees of depth:  1\n",
      "Accuracy : 0.8106666666666666\n"
     ]
    },
    {
     "data": {
      "application/vnd.jupyter.widget-view+json": {
       "model_id": "7641824859b24352ae6ab97b31cfae03",
       "version_major": 2,
       "version_minor": 0
      },
      "text/plain": [
       "  0%|          | 0/500 [00:00<?, ?it/s]"
      ]
     },
     "metadata": {},
     "output_type": "display_data"
    },
    {
     "data": {
      "application/vnd.jupyter.widget-view+json": {
       "model_id": "38d14ad7be534ea09ec00184a07921a0",
       "version_major": 2,
       "version_minor": 0
      },
      "text/plain": [
       "  0%|          | 0/500 [00:00<?, ?it/s]"
      ]
     },
     "metadata": {},
     "output_type": "display_data"
    },
    {
     "name": "stdout",
     "output_type": "stream",
     "text": [
      "500  trees of depth:  1\n",
      "Accuracy : 0.812\n"
     ]
    },
    {
     "data": {
      "application/vnd.jupyter.widget-view+json": {
       "model_id": "2164841fc8694c41b3bcf0d61da5ff55",
       "version_major": 2,
       "version_minor": 0
      },
      "text/plain": [
       "  0%|          | 0/5000 [00:00<?, ?it/s]"
      ]
     },
     "metadata": {},
     "output_type": "display_data"
    },
    {
     "data": {
      "application/vnd.jupyter.widget-view+json": {
       "model_id": "a89b8ccdb1594c48a729b33c18f1728f",
       "version_major": 2,
       "version_minor": 0
      },
      "text/plain": [
       "  0%|          | 0/5000 [00:00<?, ?it/s]"
      ]
     },
     "metadata": {},
     "output_type": "display_data"
    },
    {
     "name": "stdout",
     "output_type": "stream",
     "text": [
      "5000  trees of depth:  1\n",
      "Accuracy : 0.848\n"
     ]
    },
    {
     "data": {
      "application/vnd.jupyter.widget-view+json": {
       "model_id": "7045a041558a42ebbb5ce1743da1f61f",
       "version_major": 2,
       "version_minor": 0
      },
      "text/plain": [
       "  0%|          | 0/5000 [00:00<?, ?it/s]"
      ]
     },
     "metadata": {},
     "output_type": "display_data"
    },
    {
     "data": {
      "application/vnd.jupyter.widget-view+json": {
       "model_id": "56d306b498c14780bd6141a3f7a747f3",
       "version_major": 2,
       "version_minor": 0
      },
      "text/plain": [
       "  0%|          | 0/5000 [00:00<?, ?it/s]"
      ]
     },
     "metadata": {},
     "output_type": "display_data"
    },
    {
     "name": "stdout",
     "output_type": "stream",
     "text": [
      "5000  trees of depth:  1\n",
      "Accuracy : 0.8406666666666667\n"
     ]
    }
   ],
   "source": [
    "# Hyperparameter grid search with cross-validation\n",
    "# Next test large number of trees, and small depth\n",
    "depths = [1]\n",
    "num_trees = [500,5000]\n",
    "criteria = [\"gini\",\"entropy\"]\n",
    "for d in depths:\n",
    "    for num in num_trees:\n",
    "        for crit in criteria:\n",
    "            start = datetime.now()\n",
    "            clf=BoostingClassifier(n_clf=num,  max_depth=d, criterion=crit, splitter='best')\n",
    "            clf.fit(X_train,Y_train)\n",
    "            y_pred= clf.predict(X_test)\n",
    "\n",
    "            acc=accuracy_score(Y_test,y_pred)\n",
    "            print(num, \" trees of depth: \", d)\n",
    "            print(\"Accuracy :\",acc)\n",
    "            classificationReport = classification_report(Y_test, y_pred)\n",
    "            #print(classificationReport)\n",
    "            end = datetime.now()"
   ]
  },
  {
   "cell_type": "markdown",
   "id": "5d7f688f",
   "metadata": {},
   "source": [
    "### Train + test using optimal hyperparameters found\n",
    "\n"
   ]
  },
  {
   "cell_type": "code",
   "execution_count": 6,
   "id": "7f9cfeba",
   "metadata": {},
   "outputs": [
    {
     "data": {
      "application/vnd.jupyter.widget-view+json": {
       "model_id": "48d4889a870a48088cfce68c2f9a56d4",
       "version_major": 2,
       "version_minor": 0
      },
      "text/plain": [
       "  0%|          | 0/500 [00:00<?, ?it/s]"
      ]
     },
     "metadata": {},
     "output_type": "display_data"
    },
    {
     "data": {
      "application/vnd.jupyter.widget-view+json": {
       "model_id": "534ef5e5f73947b9be69e6452d7848dd",
       "version_major": 2,
       "version_minor": 0
      },
      "text/plain": [
       "  0%|          | 0/500 [00:00<?, ?it/s]"
      ]
     },
     "metadata": {},
     "output_type": "display_data"
    },
    {
     "name": "stdout",
     "output_type": "stream",
     "text": [
      "Accuracy : 0.8106666666666666\n"
     ]
    }
   ],
   "source": [
    "start = datetime.now()\n",
    "clf=BoostingClassifier(n_clf=500,  max_depth=1, criterion=\"gini\", splitter='best')\n",
    "clf.fit(X_train,Y_train)\n",
    "y_pred= clf.predict(X_test)\n",
    "\n",
    "acc=accuracy_score(Y_test,y_pred)\n",
    "print(\"Accuracy :\",acc)\n",
    "classificationReport = classification_report(Y_test, y_pred)\n",
    "#print(classificationReport)\n",
    "end = datetime.now()"
   ]
  },
  {
   "cell_type": "markdown",
   "id": "8338276b",
   "metadata": {},
   "source": [
    "# Results Analysis\n",
    "\n",
    "* First begin with a visualisation of the words most strongly associated with positive and negative classification by our classifier."
   ]
  },
  {
   "cell_type": "code",
   "execution_count": 10,
   "id": "78636fd7",
   "metadata": {},
   "outputs": [
    {
     "ename": "AttributeError",
     "evalue": "'BoostingClassifier' object has no attribute 'w'",
     "output_type": "error",
     "traceback": [
      "\u001b[0;31m---------------------------------------------------------------------------\u001b[0m",
      "\u001b[0;31mAttributeError\u001b[0m                            Traceback (most recent call last)",
      "\u001b[0;32m<ipython-input-10-c31d9d12b6d1>\u001b[0m in \u001b[0;36m<module>\u001b[0;34m\u001b[0m\n\u001b[0;32m----> 1\u001b[0;31m \u001b[0mclf\u001b[0m\u001b[0;34m.\u001b[0m\u001b[0mw\u001b[0m\u001b[0;34m\u001b[0m\u001b[0;34m\u001b[0m\u001b[0m\n\u001b[0m",
      "\u001b[0;31mAttributeError\u001b[0m: 'BoostingClassifier' object has no attribute 'w'"
     ]
    }
   ],
   "source": [
    "clf."
   ]
  },
  {
   "cell_type": "code",
   "execution_count": null,
   "id": "6c8dd89a",
   "metadata": {},
   "outputs": [],
   "source": [
    "from matplotlib import pyplot as plt\n",
    "from sklearn import svm\n",
    "from wordcloud import WordCloud\n",
    "\n",
    "def visualize_importances(coef, names, top_features):\n",
    "    imp = coef\n",
    "    imp,names = zip(*sorted(zip(imp,names)))\n",
    "    pos_idx = -np.sort(-np.arange(len(imp)-top_features-1, len(imp)))\n",
    "    neg_idx = -np.sort(-np.arange(0, top_features))\n",
    "    show_idx = np.hstack([pos_idx, neg_idx])\n",
    "    imp = [imp[i] for i in show_idx]\n",
    "    names = [names[i] for i in show_idx]\n",
    "    \n",
    "    colors = ['red' if c < 0 else 'green' for c in imp]\n",
    "    plt.figure(figsize=(5, 8))\n",
    "    plt.barh(range(len(names)), imp, align='center', color=colors)\n",
    "    plt.yticks(range(len(names)), names)\n",
    "    plt.show()\n",
    "\n",
    "def plot_wordcloud():\n",
    "    # Display the generated image:\n",
    "    plt.figure()\n",
    "    plt.imshow(wc, interpolation=\"bilinear\")\n",
    "    plt.axis(\"off\")\n",
    "    plt.show()\n",
    "    \n",
    "features_names = clf.tf_idf.get_feature_names_out()\n",
    "visualize_importances(clf.coef_.toarray()[0], features_names, top_features=20)"
   ]
  },
  {
   "cell_type": "markdown",
   "id": "300899b8",
   "metadata": {},
   "source": [
    "### Commonly Misclassified Words"
   ]
  },
  {
   "cell_type": "code",
   "execution_count": 7,
   "id": "60656389",
   "metadata": {},
   "outputs": [],
   "source": [
    "wrong_idx = [w for w in range(len(y_pred)) if y_pred[w] != Y_test[w]]\n",
    "correct_idx = [w for w in range(len(y_pred)) if y_pred[w] == Y_test[w]]\n",
    "\n",
    "raw_wrong_samples = [test.review[i] for i in wrong_idx]\n",
    "raw_correct_samples = [test.review[i] for i in correct_idx]"
   ]
  },
  {
   "cell_type": "code",
   "execution_count": 8,
   "id": "98bc87cb",
   "metadata": {},
   "outputs": [
    {
     "data": {
      "image/png": "[encoded data removed]",
      "text/plain": [
       "<Figure size 720x360 with 1 Axes>"
      ]
     },
     "metadata": {},
     "output_type": "display_data"
    },
    {
     "data": {
      "image/png": "[encoded data removed]",
      "text/plain": [
       "<Figure size 720x360 with 1 Axes>"
      ]
     },
     "metadata": {},
     "output_type": "display_data"
    }
   ],
   "source": [
    "# find the most common words in misclassified samples\n",
    "# map the feature value\n",
    "from nltk.tokenize import word_tokenize\n",
    "import matplotlib.pyplot as plt\n",
    "\n",
    "def sorted_count(reviews):\n",
    "    words = []\n",
    "    for review in reviews:\n",
    "        tokens = word_tokenize(review)\n",
    "        for word in tokens:\n",
    "            words.append(word)\n",
    "    unique, counts = np.unique(np.array(words), return_counts=True)\n",
    "    sorted_indices = np.argsort(counts)\n",
    "    sorted_unique = unique[sorted_indices]\n",
    "    sorted_counts = counts[sorted_indices]\n",
    "    \n",
    "    return sorted_unique, sorted_counts\n",
    "    \n",
    "fn_samples = [X_test[i] for i in wrong_idx if Y_test[i] == 1]\n",
    "fp_samples = [X_test[i] for i in wrong_idx if Y_test[i] == -1]\n",
    "\n",
    "fn_unique, fn_counts = sorted_count(fn_samples)\n",
    "fp_unique, fp_counts = sorted_count(fp_samples)\n",
    "\n",
    "plt.figure(figsize=(10, 5))\n",
    "plt.title('Most common words in false negative samples')\n",
    "plt.bar(fn_unique[-15:], fn_counts[-15:])\n",
    "plt.show()\n",
    "\n",
    "plt.figure(figsize=(10, 5))\n",
    "plt.title('Most common words in false positive samples')\n",
    "plt.bar(fp_unique[-15:], fp_counts[-15:])\n",
    "plt.show()"
   ]
  },
  {
   "cell_type": "code",
   "execution_count": null,
   "id": "b278e054",
   "metadata": {},
   "outputs": [],
   "source": []
  },
  {
   "cell_type": "code",
   "execution_count": 14,
   "id": "37fbdc51",
   "metadata": {},
   "outputs": [],
   "source": [
    "import en_core_web_sm\n",
    "import spacy\n",
    "nlp = en_core_web_sm.load()\n",
    "test = pd.read_csv(r'movie_review_test.csv')"
   ]
  },
  {
   "cell_type": "code",
   "execution_count": 20,
   "id": "19393c9f",
   "metadata": {},
   "outputs": [],
   "source": [
    "# Helper functions for results analysis\n",
    "\n",
    "count = lambda data, to_count: sum([1 for x in data if x in to_count])\n",
    "\n",
    "# 1. Number of tokens\n",
    "def get_mean_len(X, Y, indices, sent):\n",
    "    samples = [X[i] for i in indices if Y[i] == sent]\n",
    "    samples = [nlp(review) for review in samples]\n",
    "    return sum(len(review) for review in samples) / len(samples)\n",
    "\n",
    "# 2. Number of punctuations\n",
    "def get_mean_punc(X, Y, indices, sent):\n",
    "    samples = [X[i] for i in indices if Y[i] == sent]\n",
    "    c = 0\n",
    "    ttl_len = 0\n",
    "    for i in range(len(samples)):\n",
    "        tokens = nlp(samples[i])\n",
    "        c += count(samples[i], set(string.punctuation))\n",
    "        ttl_len += len(tokens)\n",
    "    return (c / ttl_len) * 100\n",
    "\n",
    "# 3. Number of words trimmed\n",
    "def get_mean_trim(X, X_trim, Y, indices, sent):\n",
    "    samples = [X[i] for i in indices if Y[i] == sent]\n",
    "    trim_samples = [X_trim[i] for i in indices if Y[i] == sent]\n",
    "    return (sum(((len(samples[i].split()) - len(trim_samples[i].split()))/len(samples[i].split())) \\\n",
    "               for i in range(len(samples))) / len(samples))*100\n",
    "\n",
    "\n",
    "# 4. Number of adjectives\n",
    "def get_mean_pos(X, Y, indices, sent, pos):\n",
    "    samples = [X[i] for i in indices if Y[i] == sent]\n",
    "    count = 0\n",
    "    ttl_len = 0\n",
    "    for i in range(len(samples)):\n",
    "        tokens = nlp(samples[i])\n",
    "        count += len([token for token in tokens if token.pos_ == pos])\n",
    "        ttl_len += len(tokens)\n",
    "    return round(count/len(samples), 2)\n",
    "\n",
    "# 5. Number of negation words\n",
    "def get_mean_dep(X, Y, indices, sent, dep):\n",
    "    samples = [X[i] for i in indices if Y[i] == sent]\n",
    "    count = 0\n",
    "    ttl_len = 0\n",
    "    \n",
    "    for i in range(len(samples)):\n",
    "        tokens = nlp(samples[i])\n",
    "        count += len([token for token in tokens if token.dep_ == dep])\n",
    "        ttl_len += len(tokens)\n",
    "        \n",
    "    return (count/ttl_len)*100\n"
   ]
  },
  {
   "cell_type": "code",
   "execution_count": 23,
   "id": "916d46fa",
   "metadata": {},
   "outputs": [
    {
     "data": {
      "text/html": [
       "<style type=\"text/css\">\n",
       "#T_a017f_row0_col0, #T_a017f_row0_col4, #T_a017f_row1_col1, #T_a017f_row2_col3, #T_a017f_row3_col2 {\n",
       "  background-color: #023858;\n",
       "  color: #f1f1f1;\n",
       "}\n",
       "#T_a017f_row0_col1 {\n",
       "  background-color: #03456c;\n",
       "  color: #f1f1f1;\n",
       "}\n",
       "#T_a017f_row0_col2 {\n",
       "  background-color: #97b7d7;\n",
       "  color: #000000;\n",
       "}\n",
       "#T_a017f_row0_col3 {\n",
       "  background-color: #056faf;\n",
       "  color: #f1f1f1;\n",
       "}\n",
       "#T_a017f_row1_col0, #T_a017f_row1_col2, #T_a017f_row1_col4, #T_a017f_row3_col1, #T_a017f_row3_col3 {\n",
       "  background-color: #fff7fb;\n",
       "  color: #000000;\n",
       "}\n",
       "#T_a017f_row1_col3 {\n",
       "  background-color: #b3c3de;\n",
       "  color: #000000;\n",
       "}\n",
       "#T_a017f_row2_col0 {\n",
       "  background-color: #b7c5df;\n",
       "  color: #000000;\n",
       "}\n",
       "#T_a017f_row2_col1, #T_a017f_row2_col4 {\n",
       "  background-color: #045b8f;\n",
       "  color: #f1f1f1;\n",
       "}\n",
       "#T_a017f_row2_col2 {\n",
       "  background-color: #75a9cf;\n",
       "  color: #f1f1f1;\n",
       "}\n",
       "#T_a017f_row3_col0 {\n",
       "  background-color: #3790c0;\n",
       "  color: #f1f1f1;\n",
       "}\n",
       "#T_a017f_row3_col4 {\n",
       "  background-color: #2081b9;\n",
       "  color: #f1f1f1;\n",
       "}\n",
       "</style>\n",
       "<table id=\"T_a017f_\">\n",
       "  <thead>\n",
       "    <tr>\n",
       "      <th class=\"blank level0\" >&nbsp;</th>\n",
       "      <th class=\"col_heading level0 col0\" >Punctuations</th>\n",
       "      <th class=\"col_heading level0 col1\" >Adjectives</th>\n",
       "      <th class=\"col_heading level0 col2\" >Negation Words</th>\n",
       "      <th class=\"col_heading level0 col3\" >Tokens</th>\n",
       "      <th class=\"col_heading level0 col4\" >Words Trimmed</th>\n",
       "    </tr>\n",
       "  </thead>\n",
       "  <tbody>\n",
       "    <tr>\n",
       "      <th id=\"T_a017f_level0_row0\" class=\"row_heading level0 row0\" >False Positive</th>\n",
       "      <td id=\"T_a017f_row0_col0\" class=\"data row0 col0\" >20.601484</td>\n",
       "      <td id=\"T_a017f_row0_col1\" class=\"data row0 col1\" >21.100000</td>\n",
       "      <td id=\"T_a017f_row0_col2\" class=\"data row0 col2\" >1.019654</td>\n",
       "      <td id=\"T_a017f_row0_col3\" class=\"data row0 col3\" >118.175325</td>\n",
       "      <td id=\"T_a017f_row0_col4\" class=\"data row0 col4\" >53.487821</td>\n",
       "    </tr>\n",
       "    <tr>\n",
       "      <th id=\"T_a017f_level0_row1\" class=\"row_heading level0 row1\" >True Positive</th>\n",
       "      <td id=\"T_a017f_row1_col0\" class=\"data row1 col0\" >18.680170</td>\n",
       "      <td id=\"T_a017f_row1_col1\" class=\"data row1 col1\" >21.170000</td>\n",
       "      <td id=\"T_a017f_row1_col2\" class=\"data row1 col2\" >0.870317</td>\n",
       "      <td id=\"T_a017f_row1_col3\" class=\"data row1 col3\" >114.230047</td>\n",
       "      <td id=\"T_a017f_row1_col4\" class=\"data row1 col4\" >53.180960</td>\n",
       "    </tr>\n",
       "    <tr>\n",
       "      <th id=\"T_a017f_level0_row2\" class=\"row_heading level0 row2\" >False Negative</th>\n",
       "      <td id=\"T_a017f_row2_col0\" class=\"data row2 col0\" >19.304887</td>\n",
       "      <td id=\"T_a017f_row2_col1\" class=\"data row2 col1\" >20.980000</td>\n",
       "      <td id=\"T_a017f_row2_col2\" class=\"data row2 col2\" >1.051608</td>\n",
       "      <td id=\"T_a017f_row2_col3\" class=\"data row2 col3\" >120.553846</td>\n",
       "      <td id=\"T_a017f_row2_col4\" class=\"data row2 col4\" >53.446430</td>\n",
       "    </tr>\n",
       "    <tr>\n",
       "      <th id=\"T_a017f_level0_row3\" class=\"row_heading level0 row3\" >True Negative</th>\n",
       "      <td id=\"T_a017f_row3_col0\" class=\"data row3 col0\" >19.880519</td>\n",
       "      <td id=\"T_a017f_row3_col1\" class=\"data row3 col1\" >19.750000</td>\n",
       "      <td id=\"T_a017f_row3_col2\" class=\"data row3 col2\" >1.233950</td>\n",
       "      <td id=\"T_a017f_row3_col3\" class=\"data row3 col3\" >111.013865</td>\n",
       "      <td id=\"T_a017f_row3_col4\" class=\"data row3 col4\" >53.390669</td>\n",
       "    </tr>\n",
       "  </tbody>\n",
       "</table>\n"
      ],
      "text/plain": [
       "<pandas.io.formats.style.Styler at 0x23a39e0deb0>"
      ]
     },
     "execution_count": 23,
     "metadata": {},
     "output_type": "execute_result"
    }
   ],
   "source": [
    "#start = datetime.now()\n",
    "#clf=BoostingClassifier(n_clf=5000,  max_depth=1, criterion='gini', splitter='best')\n",
    "#clf.fit(X_train,Y_train)\n",
    "#y_pred= clf.predict(X_test)\n",
    "#acc=accuracy_score(Y_test,y_pred)\n",
    "#print(num, \" trees of depth: \", d)\n",
    "#print(\"Accuracy :\",acc)\n",
    "#classificationReport = classification_report(Y_test, y_pred)\n",
    "#print(classificationReport)\n",
    "#end = datetime.now()\n",
    "\n",
    "cus_pred = y_pred\n",
    "\n",
    "cus_wrong_idx = [w for w in range(len(cus_pred)) if cus_pred[w] != Y_test[w]]\n",
    "cus_correct_idx = [w for w in range(len(cus_pred)) if cus_pred[w] == Y_test[w]]\n",
    "\n",
    "cus_raw_wrong_samples = [test.review[i] for i in wrong_idx]\n",
    "cus_raw_correct_samples = [test.review[i] for i in correct_idx]\n",
    "\n",
    "# 1. Number of tokens\n",
    "cus_fn_mean_len = get_mean_len(X_test, Y_test, cus_wrong_idx, 1)\n",
    "cus_fp_mean_len = get_mean_len(X_test, Y_test, cus_wrong_idx, -1)\n",
    "cus_tn_mean_len = get_mean_len(X_test, Y_test, cus_correct_idx, -1)\n",
    "cus_tp_mean_len = get_mean_len(X_test, Y_test, cus_correct_idx, 1)\n",
    "\n",
    "# 2. Number of punctuations\n",
    "cus_fn_mean_punc = get_mean_punc(test.review, Y_test, cus_wrong_idx, 1)\n",
    "cus_fp_mean_punc = get_mean_punc(test.review, Y_test, cus_wrong_idx, -1)\n",
    "cus_tn_mean_punc = get_mean_punc(test.review, Y_test, cus_correct_idx, -1)\n",
    "cus_tp_mean_punc = get_mean_punc(test.review, Y_test, cus_correct_idx, 1)\n",
    "\n",
    "# 3. Number of negation words\n",
    "cus_fn_mean_neg = get_mean_dep(test.review, Y_test, cus_wrong_idx, 1, 'neg')\n",
    "cus_fp_mean_neg = get_mean_dep(test.review, Y_test, cus_wrong_idx, -1, 'neg')\n",
    "cus_tn_mean_neg = get_mean_dep(test.review, Y_test, cus_correct_idx, -1, 'neg')\n",
    "cus_tp_mean_neg = get_mean_dep(test.review, Y_test, cus_correct_idx, 1, 'neg')\n",
    "\n",
    "# 4. Number of adjectives\n",
    "cus_fn_mean_adj = get_mean_pos(test.review, Y_test, cus_wrong_idx, 1, 'ADJ')\n",
    "cus_fp_mean_adj = get_mean_pos(test.review, Y_test, cus_wrong_idx, -1, 'ADJ')\n",
    "cus_tn_mean_adj = get_mean_pos(test.review, Y_test, cus_correct_idx, -1, 'ADJ')\n",
    "cus_tp_mean_adj = get_mean_pos(test.review, Y_test, cus_correct_idx, 1, 'ADJ')\n",
    "\n",
    "# 5. Number of words trimmed\n",
    "cus_fn_mean_trim = get_mean_trim(test.review, X_test, Y_test, cus_wrong_idx, 1)\n",
    "cus_fp_mean_trim = get_mean_trim(test.review, X_test, Y_test, cus_wrong_idx, -1)\n",
    "cus_tn_mean_trim = get_mean_trim(test.review, X_test, Y_test, cus_correct_idx, -1)\n",
    "cus_tp_mean_trim = get_mean_trim(test.review, X_test, Y_test, cus_correct_idx, 1)\n",
    "\n",
    "# Structure: FP, TP, FN, TN\n",
    "labels = ['False Positive', 'True Positive', 'False Negative', 'True Negative']\n",
    "cus_analysis = {'Punctuations': [cus_fp_mean_punc, cus_tp_mean_punc, cus_fn_mean_punc, cus_tn_mean_punc],\n",
    "            'Adjectives': [cus_fp_mean_adj, cus_tp_mean_adj, cus_fn_mean_adj, cus_tn_mean_adj],\n",
    "            'Negation Words': [cus_fp_mean_neg, cus_tp_mean_neg, cus_fn_mean_neg, cus_tn_mean_neg],\n",
    "            'Tokens': [cus_fp_mean_len, cus_tp_mean_len, cus_fn_mean_len, cus_tn_mean_len],\n",
    "            'Words Trimmed':  [cus_fp_mean_trim, cus_tp_mean_trim, cus_fn_mean_trim, cus_tn_mean_trim]\n",
    "}\n",
    "\n",
    "cus_analysis_df = pd.DataFrame(cus_analysis, index=labels)\n",
    "\n",
    "cus_analysis_df.style.background_gradient(axis=0)"
   ]
  },
  {
   "cell_type": "markdown",
   "id": "af6e0987",
   "metadata": {},
   "source": [
    "### Test function that will be called to evaluate your code. Separate test dataset will be provided\n",
    "\n",
    "Do not modify the code below. Please write your code above such that it can be evaluated by the function below. You can modify your code above such that you obtain the best performance through this function. "
   ]
  },
  {
   "cell_type": "code",
   "execution_count": null,
   "id": "4632591c",
   "metadata": {},
   "outputs": [],
   "source": [
    "def test_func_boosting(dataset_train, dataset_test):\n",
    "    from sklearn.metrics import accuracy_score    \n",
    "    (X_train, Y_train, X_test, Y_test) = extract_bag_of_words_train_test(dataset_train, dataset_test)\n",
    "    bc = BoostingClassifier()\n",
    "    bc.fit(X_train, Y_train)\n",
    "    Y_Pred = bc.predict(X_test)    \n",
    "    acc = accuracy_score(Y_test, Y_Pred)\n",
    "    return acc\n",
    "\n"
   ]
  },
  {
   "cell_type": "code",
   "execution_count": null,
   "id": "d6c27de1",
   "metadata": {},
   "outputs": [],
   "source": [
    "acc = test_func_boosting(\"movie_review_train.csv\", \"movie_review_test.csv\")"
   ]
  }
 ],
 "metadata": {
  "kernelspec": {
   "display_name": "Python 3 (ipykernel)",
   "language": "python",
   "name": "python3"
  },
  "language_info": {
   "codemirror_mode": {
    "name": "ipython",
    "version": 3
   },
   "file_extension": ".py",
   "mimetype": "text/x-python",
   "name": "python",
   "nbconvert_exporter": "python",
   "pygments_lexer": "ipython3",
   "version": "3.8.8"
  }
 },
 "nbformat": 4,
 "nbformat_minor": 5
}
