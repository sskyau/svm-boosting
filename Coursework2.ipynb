{
 "cells": [
  {
   "cell_type": "markdown",
   "id": "44281064",
   "metadata": {},
   "source": [
    "### Coursework 2\n",
    "\n",
    "In this coursework you will be aiming to complete two classification tasks. \n",
    "Both the classification tasks relate to text classification tasks. \n",
    "\n",
    "One task is to be solved using Support Vector Machines. The other has to be solved using Boosting.\n",
    "\n",
    "The specific tasks and the marking for the various tasks are provided in the notebook. Each task is expected to be accompanied by a lab-report. Each task can have a concise lab report that is maximum of one page in an A4 size. You will be expected to submit your Jupyter Notebook and all lab reports as a single zip file. You could have additional functions implemented that you require for carrying out each task.\n"
   ]
  },
  {
   "cell_type": "markdown",
   "id": "221ffe46",
   "metadata": {},
   "source": [
    "#### Task 1\n",
    "\n",
    "In this task, you need to obtain sentiment analysis for the provided dataset. The dataset consists of movie reviews with the sentiments being provided. The sentiments are either positive or negative. You need to train an SVM based classifier to obtain train and check on the sample test dataset provided. The method will be evaluated also against an external test set. Please do not hardcode any dimensions or number of samples while writing the code. It should be possible to automate the testing and hardcoding values does not allow for automated testing. \n",
    "\n",
    "You are allowed to use scikit-learn to implement the SVM. However, you are expected to write your own kernels.\n",
    "\n",
    "You are allowed to use the existing library functions such as scikit-learn or numpy for obtaining the SVM. The main idea is to analyse the dataset using different kind of kernels. You are also supposed to write your own custom text kernels. Refer to the documentation provided [here](https://scikit-learn.org/stable/modules/svm.html) at 1.4.6.2 and an example [here](https://scikit-learn.org/stable/auto_examples/svm/plot_custom_kernel.html) for writing your own kernels.\n",
    "\n",
    "Details regarding the marking have been provided in the coursework specification file. Ensure that the code can be run with different test files. "
   ]
  },
  {
   "cell_type": "markdown",
   "id": "7385ce53",
   "metadata": {},
   "source": [
    "#### Process the text and obtain a bag of words-based features "
   ]
  },
  {
   "cell_type": "code",
   "execution_count": 261,
   "id": "ca6fcec2",
   "metadata": {},
   "outputs": [
    {
     "name": "stdout",
     "output_type": "stream",
     "text": [
      "Requirement already satisfied: textblob in /Users/Sayuri/opt/anaconda3/envs/tensorflow/lib/python3.7/site-packages (0.17.1)\n",
      "Requirement already satisfied: nltk>=3.1 in /Users/Sayuri/opt/anaconda3/envs/tensorflow/lib/python3.7/site-packages (from textblob) (3.7)\n",
      "Requirement already satisfied: click in /Users/Sayuri/opt/anaconda3/envs/tensorflow/lib/python3.7/site-packages (from nltk>=3.1->textblob) (8.0.4)\n",
      "Requirement already satisfied: joblib in /Users/Sayuri/opt/anaconda3/envs/tensorflow/lib/python3.7/site-packages (from nltk>=3.1->textblob) (1.1.0)\n",
      "Requirement already satisfied: tqdm in /Users/Sayuri/opt/anaconda3/envs/tensorflow/lib/python3.7/site-packages (from nltk>=3.1->textblob) (4.63.1)\n",
      "Requirement already satisfied: regex>=2021.8.3 in /Users/Sayuri/opt/anaconda3/envs/tensorflow/lib/python3.7/site-packages (from nltk>=3.1->textblob) (2022.3.15)\n",
      "Requirement already satisfied: importlib-metadata in /Users/Sayuri/opt/anaconda3/envs/tensorflow/lib/python3.7/site-packages (from click->nltk>=3.1->textblob) (4.11.3)\n",
      "Requirement already satisfied: zipp>=0.5 in /Users/Sayuri/opt/anaconda3/envs/tensorflow/lib/python3.7/site-packages (from importlib-metadata->click->nltk>=3.1->textblob) (3.6.0)\n",
      "Requirement already satisfied: typing-extensions>=3.6.4 in /Users/Sayuri/opt/anaconda3/envs/tensorflow/lib/python3.7/site-packages (from importlib-metadata->click->nltk>=3.1->textblob) (3.10.0.2)\n",
      "Requirement already satisfied: gensim in /Users/Sayuri/opt/anaconda3/envs/tensorflow/lib/python3.7/site-packages (4.1.2)\n",
      "Requirement already satisfied: numpy>=1.17.0 in /Users/Sayuri/opt/anaconda3/envs/tensorflow/lib/python3.7/site-packages (from gensim) (1.21.2)\n",
      "Requirement already satisfied: smart-open>=1.8.1 in /Users/Sayuri/opt/anaconda3/envs/tensorflow/lib/python3.7/site-packages (from gensim) (5.2.1)\n",
      "Requirement already satisfied: scipy>=0.18.1 in /Users/Sayuri/opt/anaconda3/envs/tensorflow/lib/python3.7/site-packages (from gensim) (1.7.1)\n",
      "Requirement already satisfied: testfixtures in /Users/Sayuri/opt/anaconda3/envs/tensorflow/lib/python3.7/site-packages (6.18.5)\n",
      "Requirement already satisfied: negspacy in /Users/Sayuri/opt/anaconda3/envs/tensorflow/lib/python3.7/site-packages (1.0.2)\n",
      "Requirement already satisfied: spacy<3.3.0,>=3.0.1 in /Users/Sayuri/opt/anaconda3/envs/tensorflow/lib/python3.7/site-packages (from negspacy) (3.2.4)\n",
      "Requirement already satisfied: spacy-legacy<3.1.0,>=3.0.8 in /Users/Sayuri/opt/anaconda3/envs/tensorflow/lib/python3.7/site-packages (from spacy<3.3.0,>=3.0.1->negspacy) (3.0.9)\n",
      "Requirement already satisfied: jinja2 in /Users/Sayuri/opt/anaconda3/envs/tensorflow/lib/python3.7/site-packages (from spacy<3.3.0,>=3.0.1->negspacy) (3.0.2)\n",
      "Requirement already satisfied: catalogue<2.1.0,>=2.0.6 in /Users/Sayuri/opt/anaconda3/envs/tensorflow/lib/python3.7/site-packages (from spacy<3.3.0,>=3.0.1->negspacy) (2.0.7)\n",
      "Requirement already satisfied: langcodes<4.0.0,>=3.2.0 in /Users/Sayuri/opt/anaconda3/envs/tensorflow/lib/python3.7/site-packages (from spacy<3.3.0,>=3.0.1->negspacy) (3.3.0)\n",
      "Requirement already satisfied: setuptools in /Users/Sayuri/opt/anaconda3/envs/tensorflow/lib/python3.7/site-packages (from spacy<3.3.0,>=3.0.1->negspacy) (58.0.4)\n",
      "Requirement already satisfied: cymem<2.1.0,>=2.0.2 in /Users/Sayuri/opt/anaconda3/envs/tensorflow/lib/python3.7/site-packages (from spacy<3.3.0,>=3.0.1->negspacy) (2.0.6)\n",
      "Requirement already satisfied: pydantic!=1.8,!=1.8.1,<1.9.0,>=1.7.4 in /Users/Sayuri/opt/anaconda3/envs/tensorflow/lib/python3.7/site-packages (from spacy<3.3.0,>=3.0.1->negspacy) (1.8.2)\n",
      "Requirement already satisfied: srsly<3.0.0,>=2.4.1 in /Users/Sayuri/opt/anaconda3/envs/tensorflow/lib/python3.7/site-packages (from spacy<3.3.0,>=3.0.1->negspacy) (2.4.2)\n",
      "Requirement already satisfied: murmurhash<1.1.0,>=0.28.0 in /Users/Sayuri/opt/anaconda3/envs/tensorflow/lib/python3.7/site-packages (from spacy<3.3.0,>=3.0.1->negspacy) (1.0.6)\n",
      "Requirement already satisfied: pathy>=0.3.5 in /Users/Sayuri/opt/anaconda3/envs/tensorflow/lib/python3.7/site-packages (from spacy<3.3.0,>=3.0.1->negspacy) (0.6.1)\n",
      "Requirement already satisfied: thinc<8.1.0,>=8.0.12 in /Users/Sayuri/opt/anaconda3/envs/tensorflow/lib/python3.7/site-packages (from spacy<3.3.0,>=3.0.1->negspacy) (8.0.15)\n",
      "Requirement already satisfied: preshed<3.1.0,>=3.0.2 in /Users/Sayuri/opt/anaconda3/envs/tensorflow/lib/python3.7/site-packages (from spacy<3.3.0,>=3.0.1->negspacy) (3.0.6)\n",
      "Requirement already satisfied: packaging>=20.0 in /Users/Sayuri/opt/anaconda3/envs/tensorflow/lib/python3.7/site-packages (from spacy<3.3.0,>=3.0.1->negspacy) (21.0)\n",
      "Requirement already satisfied: blis<0.8.0,>=0.4.0 in /Users/Sayuri/opt/anaconda3/envs/tensorflow/lib/python3.7/site-packages (from spacy<3.3.0,>=3.0.1->negspacy) (0.7.7)\n",
      "Requirement already satisfied: requests<3.0.0,>=2.13.0 in /Users/Sayuri/opt/anaconda3/envs/tensorflow/lib/python3.7/site-packages (from spacy<3.3.0,>=3.0.1->negspacy) (2.27.1)\n",
      "Requirement already satisfied: tqdm<5.0.0,>=4.38.0 in /Users/Sayuri/opt/anaconda3/envs/tensorflow/lib/python3.7/site-packages (from spacy<3.3.0,>=3.0.1->negspacy) (4.63.1)\n",
      "Requirement already satisfied: typer<0.5.0,>=0.3.0 in /Users/Sayuri/opt/anaconda3/envs/tensorflow/lib/python3.7/site-packages (from spacy<3.3.0,>=3.0.1->negspacy) (0.4.1)\n",
      "Requirement already satisfied: numpy>=1.15.0 in /Users/Sayuri/opt/anaconda3/envs/tensorflow/lib/python3.7/site-packages (from spacy<3.3.0,>=3.0.1->negspacy) (1.21.2)\n",
      "Requirement already satisfied: click<8.1.0 in /Users/Sayuri/opt/anaconda3/envs/tensorflow/lib/python3.7/site-packages (from spacy<3.3.0,>=3.0.1->negspacy) (8.0.4)\n",
      "Requirement already satisfied: spacy-loggers<2.0.0,>=1.0.0 in /Users/Sayuri/opt/anaconda3/envs/tensorflow/lib/python3.7/site-packages (from spacy<3.3.0,>=3.0.1->negspacy) (1.0.2)\n",
      "Requirement already satisfied: typing-extensions<4.0.0.0,>=3.7.4 in /Users/Sayuri/opt/anaconda3/envs/tensorflow/lib/python3.7/site-packages (from spacy<3.3.0,>=3.0.1->negspacy) (3.10.0.2)\n",
      "Requirement already satisfied: wasabi<1.1.0,>=0.8.1 in /Users/Sayuri/opt/anaconda3/envs/tensorflow/lib/python3.7/site-packages (from spacy<3.3.0,>=3.0.1->negspacy) (0.9.1)\n",
      "Requirement already satisfied: zipp>=0.5 in /Users/Sayuri/opt/anaconda3/envs/tensorflow/lib/python3.7/site-packages (from catalogue<2.1.0,>=2.0.6->spacy<3.3.0,>=3.0.1->negspacy) (3.6.0)\n",
      "Requirement already satisfied: importlib-metadata in /Users/Sayuri/opt/anaconda3/envs/tensorflow/lib/python3.7/site-packages (from click<8.1.0->spacy<3.3.0,>=3.0.1->negspacy) (4.11.3)\n",
      "Requirement already satisfied: pyparsing>=2.0.2 in /Users/Sayuri/opt/anaconda3/envs/tensorflow/lib/python3.7/site-packages (from packaging>=20.0->spacy<3.3.0,>=3.0.1->negspacy) (3.0.4)\n",
      "Requirement already satisfied: smart-open<6.0.0,>=5.0.0 in /Users/Sayuri/opt/anaconda3/envs/tensorflow/lib/python3.7/site-packages (from pathy>=0.3.5->spacy<3.3.0,>=3.0.1->negspacy) (5.2.1)\n",
      "Requirement already satisfied: charset-normalizer~=2.0.0 in /Users/Sayuri/opt/anaconda3/envs/tensorflow/lib/python3.7/site-packages (from requests<3.0.0,>=2.13.0->spacy<3.3.0,>=3.0.1->negspacy) (2.0.12)\n",
      "Requirement already satisfied: certifi>=2017.4.17 in /Users/Sayuri/opt/anaconda3/envs/tensorflow/lib/python3.7/site-packages (from requests<3.0.0,>=2.13.0->spacy<3.3.0,>=3.0.1->negspacy) (2021.10.8)\n",
      "Requirement already satisfied: idna<4,>=2.5 in /Users/Sayuri/opt/anaconda3/envs/tensorflow/lib/python3.7/site-packages (from requests<3.0.0,>=2.13.0->spacy<3.3.0,>=3.0.1->negspacy) (3.3)\n",
      "Requirement already satisfied: urllib3<1.27,>=1.21.1 in /Users/Sayuri/opt/anaconda3/envs/tensorflow/lib/python3.7/site-packages (from requests<3.0.0,>=2.13.0->spacy<3.3.0,>=3.0.1->negspacy) (1.26.9)\n",
      "Requirement already satisfied: MarkupSafe>=2.0 in /Users/Sayuri/opt/anaconda3/envs/tensorflow/lib/python3.7/site-packages (from jinja2->spacy<3.3.0,>=3.0.1->negspacy) (2.0.1)\n",
      "Collecting wordcloud\n",
      "  Downloading wordcloud-1.8.1.tar.gz (220 kB)\n",
      "\u001b[K     |████████████████████████████████| 220 kB 6.7 MB/s eta 0:00:01\n",
      "\u001b[?25hRequirement already satisfied: numpy>=1.6.1 in /Users/Sayuri/opt/anaconda3/envs/tensorflow/lib/python3.7/site-packages (from wordcloud) (1.21.2)\n",
      "Requirement already satisfied: pillow in /Users/Sayuri/opt/anaconda3/envs/tensorflow/lib/python3.7/site-packages (from wordcloud) (8.4.0)\n",
      "Requirement already satisfied: matplotlib in /Users/Sayuri/opt/anaconda3/envs/tensorflow/lib/python3.7/site-packages (from wordcloud) (3.4.3)\n",
      "Requirement already satisfied: kiwisolver>=1.0.1 in /Users/Sayuri/opt/anaconda3/envs/tensorflow/lib/python3.7/site-packages (from matplotlib->wordcloud) (1.3.1)\n",
      "Requirement already satisfied: python-dateutil>=2.7 in /Users/Sayuri/opt/anaconda3/envs/tensorflow/lib/python3.7/site-packages (from matplotlib->wordcloud) (2.8.2)\n",
      "Requirement already satisfied: pyparsing>=2.2.1 in /Users/Sayuri/opt/anaconda3/envs/tensorflow/lib/python3.7/site-packages (from matplotlib->wordcloud) (3.0.4)\n",
      "Requirement already satisfied: cycler>=0.10 in /Users/Sayuri/opt/anaconda3/envs/tensorflow/lib/python3.7/site-packages (from matplotlib->wordcloud) (0.10.0)\n",
      "Requirement already satisfied: six in /Users/Sayuri/opt/anaconda3/envs/tensorflow/lib/python3.7/site-packages (from cycler>=0.10->matplotlib->wordcloud) (1.16.0)\n",
      "Building wheels for collected packages: wordcloud\n"
     ]
    },
    {
     "name": "stdout",
     "output_type": "stream",
     "text": [
      "  Building wheel for wordcloud (setup.py) ... \u001b[?25ldone\n",
      "\u001b[?25h  Created wheel for wordcloud: filename=wordcloud-1.8.1-cp37-cp37m-macosx_10_9_x86_64.whl size=158997 sha256=951e227225fc5dc21c71cb73ecebf6c63863977acf34309931a3c864b7119338\n",
      "  Stored in directory: /Users/Sayuri/Library/Caches/pip/wheels/f8/f6/55/6bd394c32a844a621ca0fe5dbf563c8d71d71edaf095656991\n",
      "Successfully built wordcloud\n",
      "Installing collected packages: wordcloud\n",
      "Successfully installed wordcloud-1.8.1\n"
     ]
    }
   ],
   "source": [
    "!pip3 install textblob\n",
    "!pip3 install gensim\n",
    "!pip3 install testfixtures\n",
    "!pip3 install negspacy"
   ]
  },
  {
   "cell_type": "code",
   "execution_count": 486,
   "id": "e0ac481e",
   "metadata": {},
   "outputs": [
    {
     "name": "stderr",
     "output_type": "stream",
     "text": [
      "[nltk_data] Downloading package stopwords to\n",
      "[nltk_data]     /Users/Sayuri/nltk_data...\n",
      "[nltk_data]   Package stopwords is already up-to-date!\n"
     ]
    }
   ],
   "source": [
    "import re\n",
    "import nltk\n",
    "from nltk.corpus import stopwords\n",
    "from nltk.stem import PorterStemmer\n",
    "from nltk.tokenize import word_tokenize\n",
    "from bs4 import BeautifulSoup\n",
    "from nltk.util import ngrams\n",
    "from nltk import FreqDist\n",
    "import numpy as np\n",
    "import pandas as pd\n",
    "from sklearn.feature_extraction.text import TfidfVectorizer, CountVectorizer\n",
    "from nltk.stem.wordnet import WordNetLemmatizer\n",
    "import unidecode\n",
    "import spacy\n",
    "import en_core_web_sm\n",
    "import contractions\n",
    "import string\n",
    "from tqdm.notebook import tqdm # for showing progress bar\n",
    "from sklearn.model_selection import GridSearchCV\n",
    "from textblob import TextBlob\n",
    "from negspacy.negation import Negex\n",
    "from negspacy.termsets import termset\n",
    "from collections import defaultdict\n",
    "\n",
    "nltk.download('stopwords')\n",
    "\n",
    "# initialization\n",
    "lemmatizer = WordNetLemmatizer()\n",
    "#stemmer = PorterStemmer()\n",
    "pattern = re.compile(r\"(.)\\1{2,}\")\n",
    "punc_translator = str.maketrans(string.punctuation, ' '*len(string.punctuation))\n",
    "num_translator = str.maketrans(string.digits, ' '*len(string.digits))\n",
    "nlp = en_core_web_sm.load()\n",
    "# stopwords = nlp.Defaults.stop_words\n",
    "stopwords = stopwords.words('english')\n",
    "\n",
    "#Task-specific stop words/phrases\n",
    "custom_stopwords = ['movie', 'film', 'cinema', 'plot', 'story', 'see', 'watch', 'sit', 'ending', 'cast', 'actor', \n",
    "                    'script', 'character', 'role', 'people', 'person', 'video', 'man', 'guy', 'woman', 'girl', 'dvd',\n",
    "                    'fiction', 'material', 'female', 'male', 'money', 'think', 'director', 'producer', 'act', 'scene', \n",
    "                    'acting', 'episode']\n",
    "\n",
    "custom_stopphrases = ['look like', 'looks like']\n",
    "\n",
    "# for w in custom_stopwords:\n",
    "#     stopwords.add(w)\n",
    "\n",
    "custom_negation = ['rather', 'instead']\n",
    "    \n",
    "# For negation handling\n",
    "# ts = termset(\"en\")\n",
    "# nlp.add_pipe(\"negex\",\n",
    "#              config={\n",
    "#                  \"neg_termset\":ts.get_patterns(),\n",
    "#                  \"chunk_prefix\":[\"no\"]\n",
    "#              }\n",
    "#             )\n",
    "    \n",
    "def pre_processing(dataset):\n",
    "    \n",
    "    to_return = []\n",
    "    \n",
    "    for i in tqdm(range(len(dataset))):\n",
    "        filtered_data = []\n",
    "        \n",
    "        # (1) remove html tags\n",
    "        dataset[i] = BeautifulSoup(dataset[i]).get_text()\n",
    "        \n",
    "        # (2) remove urls\n",
    "        dataset[i] = re.sub(r'http\\S+', '', dataset[i])\n",
    "        dataset[i] = re.sub(r'www\\S+', '', dataset[i])\n",
    "        \n",
    "        # (3) remove email addresses\n",
    "        dataset[i] = re.sub(r'\\S*@\\S*\\s?', '', dataset[i])\n",
    "        \n",
    "        # (3) convert to lower case\n",
    "        dataset[i] = dataset[i].casefold()\n",
    "        \n",
    "        # (4) convert accented character\n",
    "        dataset[i] = unidecode.unidecode(dataset[i]) \n",
    "        \n",
    "        # (5) if there are >2 consecutive duplicated characters, convert to 2 consecutive duplicated characters\n",
    "        # e.g. finallllly --> finally\n",
    "        dataset[i] = pattern.sub(r\"\\1\\1\", dataset[i]) \n",
    "        \n",
    "        # (6) expand contractions\n",
    "        dataset[i] = contractions.fix(dataset[i])\n",
    "        \n",
    "        # (7) replace punctuation with space\n",
    "        dataset[i] = dataset[i].translate(punc_translator)\n",
    "        \n",
    "        # (8) replace numbers with space\n",
    "        dataset[i] = dataset[i].translate(num_translator)\n",
    "        \n",
    "        # (9) replace stop phrase (multi-word stopword) with space\n",
    "#         for phrase in custom_stopphrases:\n",
    "#             dataset[i] = dataset[i].replace(phrase, ' ')\n",
    "        \n",
    "#         for word in custom_stopwords:\n",
    "#             dataset[i] = dataset[i].replace(word,'')\n",
    "        \n",
    "        # (11) spacy tokenization\n",
    "        tokens = nlp(dataset[i])\n",
    "            \n",
    "        for token in tokens:\n",
    "            \n",
    "            # Lemmatisation\n",
    "            word = token.lemma_\n",
    "            \n",
    "            # filter out words that are:\n",
    "            # - stopwords\n",
    "            # - with length <= 2\n",
    "            # - demonstratives (e.g. this, that, those)\n",
    "            # - pronoun and proper nouns (e.g. names)\n",
    "            # - spaces\n",
    "            \n",
    "            names = [ent.text for ent in tokens if ent.ent_type_]\n",
    "            \n",
    "            if (word != \"-PRON-\") and (word !=\"-PROPN-\") and (word not in names) and (not token.is_space):\n",
    "               \n",
    "                #print(word)\n",
    "\n",
    "                if (token.dep_ == 'neg') or (word in custom_negation):\n",
    "                    filtered_data.append('_NEG_')\n",
    "                    continue\n",
    "                \n",
    "                # remove the word \"like\" when it is used as preposition\n",
    "                if (word == 'like' and token.dep_ == 'prep'):\n",
    "                    continue\n",
    "                \n",
    "                # remove stopwords\n",
    "                if (word in stopwords):\n",
    "                    continue\n",
    "\n",
    "                # remove words with len <= 2\n",
    "                elif (len(word) <= 2):\n",
    "                    continue\n",
    "\n",
    "                else:\n",
    "                    filtered_data.append(word)\n",
    "        \n",
    "        # join words\n",
    "        filtered_data = ' '.join(filtered_data)\n",
    "        \n",
    "        # Negation tagging\n",
    "        filtered_data = re.sub(r'_NEG_\\s', '_NEG_', filtered_data)\n",
    "        filtered_data = re.sub(r\"(_NEG_)\\1{1,}\", '_NEG_', filtered_data) # remove duplicated negation tagging\n",
    "        \n",
    "        to_return.append(filtered_data)\n",
    "        \n",
    "    return to_return\n",
    "\n",
    "def extract_bag_of_words_train_test(train_file, test_file):\n",
    "    \n",
    "    # Read the CSV files for training and test sets\n",
    "    train = pd.read_csv(train_file)\n",
    "    test = pd.read_csv(test_file)\n",
    "    \n",
    "    X_train = np.array(train.review)\n",
    "    X_test = np.array(test.review)\n",
    "    y_train = np.array(train.sentiment)\n",
    "    y_test = np.array(test.sentiment)\n",
    "    \n",
    "    # Extract bag of words features\n",
    "    print(\"Train set: \")\n",
    "    print(\"Preprocessing progress: \")\n",
    "    X_train = pre_processing(X_train) \n",
    "    print(\"--Done--\\n\")\n",
    "    print(\"Test set: \")\n",
    "    print(\"Preprocessing progress: \")\n",
    "    X_test = pre_processing(X_test)\n",
    "    print('--Done--')\n",
    "    \n",
    "    return (X_train,y_train,X_test,y_test)"
   ]
  },
  {
   "cell_type": "code",
   "execution_count": 483,
   "id": "4fbfacb8",
   "metadata": {},
   "outputs": [
    {
     "data": {
      "text/plain": [
       "False"
      ]
     },
     "execution_count": 483,
     "metadata": {},
     "output_type": "execute_result"
    }
   ],
   "source": [
    "stopwords = stopwords.words('english')\n",
    "'movie' in stopwords"
   ]
  },
  {
   "cell_type": "code",
   "execution_count": null,
   "id": "dbcf9ada",
   "metadata": {},
   "outputs": [],
   "source": []
  },
  {
   "cell_type": "code",
   "execution_count": 487,
   "id": "4db3e162",
   "metadata": {
    "scrolled": true
   },
   "outputs": [
    {
     "name": "stdout",
     "output_type": "stream",
     "text": [
      "Train set: \n",
      "Preprocessing progress: \n"
     ]
    },
    {
     "data": {
      "application/vnd.jupyter.widget-view+json": {
       "model_id": "4b360f84ae744755987be4e6727f23f1",
       "version_major": 2,
       "version_minor": 0
      },
      "text/plain": [
       "  0%|          | 0/5000 [00:00<?, ?it/s]"
      ]
     },
     "metadata": {},
     "output_type": "display_data"
    },
    {
     "name": "stdout",
     "output_type": "stream",
     "text": [
      "--Done--\n",
      "\n",
      "Test set: \n",
      "Preprocessing progress: \n"
     ]
    },
    {
     "data": {
      "application/vnd.jupyter.widget-view+json": {
       "model_id": "d9627b3e93cd497bba65a4590a568100",
       "version_major": 2,
       "version_minor": 0
      },
      "text/plain": [
       "  0%|          | 0/1500 [00:00<?, ?it/s]"
      ]
     },
     "metadata": {},
     "output_type": "display_data"
    },
    {
     "name": "stdout",
     "output_type": "stream",
     "text": [
      "--Done--\n"
     ]
    }
   ],
   "source": [
    "# self testing code - remove before submission\n",
    "(X_train, Y_train, X_test, Y_test) = extract_bag_of_words_train_test(\"movie_review_train.csv\", \"movie_review_test.csv\")"
   ]
  },
  {
   "cell_type": "code",
   "execution_count": 460,
   "id": "eeb2eb14",
   "metadata": {},
   "outputs": [],
   "source": [
    "x_train_df = pd.DataFrame(X_train)\n",
    "x_train_df.to_csv('processed_x_train_no_custom_sw_removal.csv')"
   ]
  },
  {
   "cell_type": "code",
   "execution_count": 461,
   "id": "b47be06e",
   "metadata": {},
   "outputs": [],
   "source": [
    "x_test_df = pd.DataFrame(X_test)\n",
    "x_test_df.to_csv('processed_x_test_no_custom_sw_removal.csv')"
   ]
  },
  {
   "cell_type": "code",
   "execution_count": 327,
   "id": "92b2156f",
   "metadata": {},
   "outputs": [
    {
     "name": "stderr",
     "output_type": "stream",
     "text": [
      "/Users/Sayuri/opt/anaconda3/envs/tensorflow/lib/python3.7/site-packages/seaborn/_decorators.py:43: FutureWarning: Pass the following variable as a keyword arg: x. From version 0.12, the only valid positional argument will be `data`, and passing other arguments without an explicit keyword will result in an error or misinterpretation.\n",
      "  FutureWarning\n"
     ]
    },
    {
     "data": {
      "text/plain": [
       "<AxesSubplot:ylabel='count'>"
      ]
     },
     "execution_count": 327,
     "metadata": {},
     "output_type": "execute_result"
    },
    {
     "data": {
      "image/png": "[encoded data removed]",
      "text/plain": [
       "<Figure size 432x288 with 1 Axes>"
      ]
     },
     "metadata": {},
     "output_type": "display_data"
    }
   ],
   "source": [
    "import seaborn as sns\n",
    "sns.countplot(Y_train)"
   ]
  },
  {
   "cell_type": "code",
   "execution_count": 474,
   "id": "7fc3af27",
   "metadata": {},
   "outputs": [],
   "source": [
    "from sklearn import svm\n",
    "from sklearn import metrics\n",
    "from sklearn.metrics import accuracy_score \n",
    "from nltk.tokenize import word_tokenize\n",
    "import networkx as nx\n",
    "from grakel.utils import graph_from_networkx\n",
    "from grakel.kernels import WeisfeilerLehman, VertexHistogram\n",
    "from grakel import RandomWalk\n",
    "from grakel.kernels import ShortestPath\n",
    "from collections import defaultdict\n",
    "\n",
    "class SVMClassifier:\n",
    "    def __init__(self, kernel, C=None, gamma=None, coef=None, d=None):\n",
    "        \n",
    "        #implement initialisation\n",
    "        self.clf = svm.SVC()\n",
    "        self.kernel = kernel\n",
    "        self.vectorizer = None\n",
    "        \n",
    "        # regularization parameter\n",
    "        self.C = C # penalty parameter\n",
    "        \n",
    "        # kernel parameters\n",
    "        self.gamma = gamma # kernel coef for rbf, poly, sigmoid\n",
    "        self.coef = coef #independent term for polynomial and sigmoid kernels\n",
    "        self.d = d # degree; for polynomial kernel\n",
    "\n",
    "        self.vectorizer = TfidfVectorizer(min_df = 2, # remove words that appear too rarely\n",
    "                                          max_df = 0.7, # remove words that appear too often\n",
    "                                          ngram_range=(1,2), # 1-2 gram\n",
    "#                                           max_features=5000,\n",
    "                                          smooth_idf = True, # +1 to all frequencies, prevent division by zero\n",
    "                                          sublinear_tf = True #use log for TF, clip extreme values\n",
    "                                          )\n",
    "        \n",
    "    # define your own kernel here\n",
    "    # Refer to the documentation here: https://scikit-learn.org/stable/auto_examples/svm/plot_custom_kernel.html\n",
    "    \n",
    "    # Implementation of kernels: https://github.com/gmum/pykernels/tree/master/pykernels\n",
    "    \n",
    "    def graphs_to_adjacency_lists(self,data):\n",
    "        \"\"\"\n",
    "        Given a list of graphs, output a numpy.array\n",
    "        containing their adjacency matices.\n",
    "        \"\"\"\n",
    "        try:\n",
    "            if data.ndim == 3:\n",
    "                print('1')\n",
    "                return np.array(data)\n",
    "        except:\n",
    "            try:\n",
    "                print('2')\n",
    "                return np.array([G.adjacency_matix for G in data])\n",
    "            except:\n",
    "                print('3')\n",
    "                return np.array(data)\n",
    "    \n",
    "    def create_vocab_dict(self, X):\n",
    "        d = defaultdict(dict)\n",
    "        \n",
    "        print('Creating vocab dictionary...')\n",
    "        for review in tqdm(X):\n",
    "            tokens = nlp(review)\n",
    "            for token in tokens:\n",
    "                word = token.lemma_\n",
    "                if word not in d:\n",
    "                    d[word] = len(d[word])\n",
    "        \n",
    "        print('Number of vocab: ', len(d))\n",
    "        \n",
    "        return d\n",
    "    \n",
    "    \n",
    "    def create_graph(self, X, vocab_dict, window=3):\n",
    "    \n",
    "    ## Hyperparameter:\n",
    "    ## window: \n",
    "    ## - represents co-occurence of words\n",
    "    ## - typically 2 to 10 (p2 - https://aclanthology.org/S15-2093.pdf)\n",
    "        graphs = []\n",
    "        \n",
    "        print('Creating graphs...')\n",
    "        for review in tqdm(X):\n",
    "            G = nx.Graph()\n",
    "            tokens = nlp(review)\n",
    "            # create nodes\n",
    "            for i in range(len(tokens)):\n",
    "                word = tokens[i].lemma_\n",
    "                if word not in G.nodes():\n",
    "                    G.add_node(word)\n",
    "                    G.nodes[word]['label'] = vocab_dict[word]\n",
    "                    print(vocab_dict[word])\n",
    "            \n",
    "            # create edges\n",
    "            for i in range(len(tokens)):\n",
    "                w1 = tokens[i].lemma_\n",
    "                for j in range(i + 1, i + window):\n",
    "                    if j < len(tokens):\n",
    "                        w2 = tokens[j].lemma_\n",
    "                        G.add_edge(w1, w2)\n",
    "                        \n",
    "            graphs.append(G)\n",
    "        \n",
    "        self.custom_graphs = graphs\n",
    "        \n",
    "        return graphs\n",
    "\n",
    "    def custom_kernel(self, X, y):\n",
    "        \n",
    "        X = X.A\n",
    "        y = y.A\n",
    "        \n",
    "        print('Computing custom kernel...')\n",
    "        \n",
    "        # 1. Spline kernel (85%)\n",
    "        # ---------------- BEGIN ----------------#\n",
    "#         kernel = np.ones((X.shape[0], y.shape[0]))\n",
    "        \n",
    "        \n",
    "#         for d in tqdm(range(X.shape[1])):\n",
    "#             column_1 = X[:, d].reshape(-1, 1)\n",
    "#             column_2 = y[:, d].reshape(-1, 1)\n",
    "#             #print(d)\n",
    "            \n",
    "#             c_prod = column_1 * column_2.T\n",
    "#             #print(column_1.shape)\n",
    "#             #print()\n",
    "#             #print(column_2.shape)\n",
    "#             c_sum = column_1 + column_2.T\n",
    "            \n",
    "#             c_min = np.minimum(column_1, column_2.T)\n",
    "            \n",
    "#             kernel *= 1. + c_prod + c_prod * c_min \\\n",
    "#                          - c_sum/2. * c_min ** 2. \\\n",
    "#                          + 1./3. * c_min ** 3.\n",
    "        \n",
    "        # ------------------ END -----------------#\n",
    "        \n",
    "        # 2. Histogram intersection kernel （0.86）\n",
    "        # ---------------- BEGIN ----------------#\n",
    "        kernel = np.zeros((X.shape[0], y.shape[0]))\n",
    "\n",
    "        for d in tqdm(range(X.shape[1])):\n",
    "            column_1 = X[:, d].reshape(-1, 1)\n",
    "            column_2 = y[:, d].reshape(-1, 1)\n",
    "            kernel += np.minimum(column_1, column_2.T)\n",
    "\n",
    "        # ------------------ END -----------------#\n",
    "        \n",
    "        return kernel\n",
    "    \n",
    "    def fit(self, X, y):\n",
    "        # training of the SVM\n",
    "        # Ensure you call your own defined kernel here\n",
    "\n",
    "        # Transform data into tfidf feature vectors\n",
    "        X = self.vectorizer.fit_transform(X)\n",
    "\n",
    "        # calling diff kernels\n",
    "        if self.kernel == 'linear':\n",
    "            self.clf = svm.SVC(kernel='linear', C=self.C)\n",
    "\n",
    "        elif self.kernel == 'poly':\n",
    "            self.clf = svm.SVC(kernel='poly', C=self.C, degree=self.d)\n",
    "\n",
    "        elif self.kernel == 'rbf':\n",
    "            # for hyperparameter tuning\n",
    "            self.clf = svm.SVC(kernel='rbf', C=self.C, gamma=self.gamma)\n",
    "\n",
    "        elif self.kernel == 'custom':\n",
    "            self.clf = svm.SVC(kernel=self.custom_kernel, C=self.C)\n",
    "        \n",
    "        self.clf.fit(X,y)\n",
    "    \n",
    "    def predict(self, X):\n",
    "        \n",
    "        # prediction routine for the SVM\n",
    "        X = self.vectorizer.transform(X)\n",
    "        \n",
    "        return self.clf.predict(X)"
   ]
  },
  {
   "cell_type": "code",
   "execution_count": 417,
   "id": "e45fd2bf",
   "metadata": {
    "scrolled": true
   },
   "outputs": [
    {
     "name": "stdout",
     "output_type": "stream",
     "text": [
      "Fitting 5 folds for each of 10 candidates, totalling 50 fits\n",
      "[CV 1/5; 1/10] START C=0.006737946999085469, kernel=<bound method SVMClassifier.custom_kernel of <__main__.SVMClassifier object at 0x7f7f40656610>>\n",
      "Computing custom kernel...\n"
     ]
    },
    {
     "data": {
      "application/vnd.jupyter.widget-view+json": {
       "model_id": "99a32005c59b43ff8f03fe9fe675367e",
       "version_major": 2,
       "version_minor": 0
      },
      "text/plain": [
       "  0%|          | 0/5000 [00:00<?, ?it/s]"
      ]
     },
     "metadata": {},
     "output_type": "display_data"
    },
    {
     "name": "stdout",
     "output_type": "stream",
     "text": [
      "Computing custom kernel...\n"
     ]
    },
    {
     "data": {
      "application/vnd.jupyter.widget-view+json": {
       "model_id": "d90412e67a8e49698b07d875f2dce5fc",
       "version_major": 2,
       "version_minor": 0
      },
      "text/plain": [
       "  0%|          | 0/5000 [00:00<?, ?it/s]"
      ]
     },
     "metadata": {},
     "output_type": "display_data"
    },
    {
     "name": "stdout",
     "output_type": "stream",
     "text": [
      "[CV 1/5; 1/10] END C=0.006737946999085469, kernel=<bound method SVMClassifier.custom_kernel of <__main__.SVMClassifier object at 0x7f7f40656610>>;, score=0.859 total time=17.3min\n",
      "[CV 2/5; 1/10] START C=0.006737946999085469, kernel=<bound method SVMClassifier.custom_kernel of <__main__.SVMClassifier object at 0x7f7f40656610>>\n",
      "Computing custom kernel...\n"
     ]
    },
    {
     "data": {
      "application/vnd.jupyter.widget-view+json": {
       "model_id": "0e12757fdcd94f3a8c360b79145f43d5",
       "version_major": 2,
       "version_minor": 0
      },
      "text/plain": [
       "  0%|          | 0/5000 [00:00<?, ?it/s]"
      ]
     },
     "metadata": {},
     "output_type": "display_data"
    },
    {
     "name": "stdout",
     "output_type": "stream",
     "text": [
      "Computing custom kernel...\n"
     ]
    },
    {
     "data": {
      "application/vnd.jupyter.widget-view+json": {
       "model_id": "7cc106b5c0854312ac1327f736f74c01",
       "version_major": 2,
       "version_minor": 0
      },
      "text/plain": [
       "  0%|          | 0/5000 [00:00<?, ?it/s]"
      ]
     },
     "metadata": {},
     "output_type": "display_data"
    },
    {
     "name": "stdout",
     "output_type": "stream",
     "text": [
      "[CV 2/5; 1/10] END C=0.006737946999085469, kernel=<bound method SVMClassifier.custom_kernel of <__main__.SVMClassifier object at 0x7f7f40656610>>;, score=0.843 total time=17.0min\n",
      "[CV 3/5; 1/10] START C=0.006737946999085469, kernel=<bound method SVMClassifier.custom_kernel of <__main__.SVMClassifier object at 0x7f7f40656610>>\n",
      "Computing custom kernel...\n"
     ]
    },
    {
     "data": {
      "application/vnd.jupyter.widget-view+json": {
       "model_id": "5a14f0ee35dc4d3099af72c48adee0b7",
       "version_major": 2,
       "version_minor": 0
      },
      "text/plain": [
       "  0%|          | 0/5000 [00:00<?, ?it/s]"
      ]
     },
     "metadata": {},
     "output_type": "display_data"
    },
    {
     "name": "stdout",
     "output_type": "stream",
     "text": [
      "Computing custom kernel...\n"
     ]
    },
    {
     "data": {
      "application/vnd.jupyter.widget-view+json": {
       "model_id": "db6d923da1c743b4b69ec2cd940e9623",
       "version_major": 2,
       "version_minor": 0
      },
      "text/plain": [
       "  0%|          | 0/5000 [00:00<?, ?it/s]"
      ]
     },
     "metadata": {},
     "output_type": "display_data"
    },
    {
     "name": "stdout",
     "output_type": "stream",
     "text": [
      "[CV 3/5; 1/10] END C=0.006737946999085469, kernel=<bound method SVMClassifier.custom_kernel of <__main__.SVMClassifier object at 0x7f7f40656610>>;, score=0.827 total time=17.4min\n",
      "[CV 4/5; 1/10] START C=0.006737946999085469, kernel=<bound method SVMClassifier.custom_kernel of <__main__.SVMClassifier object at 0x7f7f40656610>>\n",
      "Computing custom kernel...\n"
     ]
    },
    {
     "data": {
      "application/vnd.jupyter.widget-view+json": {
       "model_id": "36655e6683714d7f84c1da1fd74ad721",
       "version_major": 2,
       "version_minor": 0
      },
      "text/plain": [
       "  0%|          | 0/5000 [00:00<?, ?it/s]"
      ]
     },
     "metadata": {},
     "output_type": "display_data"
    },
    {
     "name": "stdout",
     "output_type": "stream",
     "text": [
      "Computing custom kernel...\n"
     ]
    },
    {
     "data": {
      "application/vnd.jupyter.widget-view+json": {
       "model_id": "ffcf1f9acae74c82a4f6a22aad26636e",
       "version_major": 2,
       "version_minor": 0
      },
      "text/plain": [
       "  0%|          | 0/5000 [00:00<?, ?it/s]"
      ]
     },
     "metadata": {},
     "output_type": "display_data"
    },
    {
     "name": "stdout",
     "output_type": "stream",
     "text": [
      "[CV 4/5; 1/10] END C=0.006737946999085469, kernel=<bound method SVMClassifier.custom_kernel of <__main__.SVMClassifier object at 0x7f7f40656610>>;, score=0.833 total time=17.5min\n",
      "[CV 5/5; 1/10] START C=0.006737946999085469, kernel=<bound method SVMClassifier.custom_kernel of <__main__.SVMClassifier object at 0x7f7f40656610>>\n",
      "Computing custom kernel...\n"
     ]
    },
    {
     "data": {
      "application/vnd.jupyter.widget-view+json": {
       "model_id": "4ae59053445040afa0207ce47bdb0bcf",
       "version_major": 2,
       "version_minor": 0
      },
      "text/plain": [
       "  0%|          | 0/5000 [00:00<?, ?it/s]"
      ]
     },
     "metadata": {},
     "output_type": "display_data"
    },
    {
     "name": "stdout",
     "output_type": "stream",
     "text": [
      "Computing custom kernel...\n"
     ]
    },
    {
     "data": {
      "application/vnd.jupyter.widget-view+json": {
       "model_id": "0b4e381e94394f9f81cf063f54d151ee",
       "version_major": 2,
       "version_minor": 0
      },
      "text/plain": [
       "  0%|          | 0/5000 [00:00<?, ?it/s]"
      ]
     },
     "metadata": {},
     "output_type": "display_data"
    },
    {
     "name": "stdout",
     "output_type": "stream",
     "text": [
      "[CV 5/5; 1/10] END C=0.006737946999085469, kernel=<bound method SVMClassifier.custom_kernel of <__main__.SVMClassifier object at 0x7f7f40656610>>;, score=0.829 total time=17.0min\n",
      "[CV 1/5; 2/10] START C=0.028565500784550384, kernel=<bound method SVMClassifier.custom_kernel of <__main__.SVMClassifier object at 0x7f7f40656610>>\n",
      "Computing custom kernel...\n"
     ]
    },
    {
     "data": {
      "application/vnd.jupyter.widget-view+json": {
       "model_id": "31277995a2e542c2a87d0a79ead80fdf",
       "version_major": 2,
       "version_minor": 0
      },
      "text/plain": [
       "  0%|          | 0/5000 [00:00<?, ?it/s]"
      ]
     },
     "metadata": {},
     "output_type": "display_data"
    },
    {
     "name": "stdout",
     "output_type": "stream",
     "text": [
      "Computing custom kernel...\n"
     ]
    },
    {
     "data": {
      "application/vnd.jupyter.widget-view+json": {
       "model_id": "ecea053dec23486387e70df628dc1495",
       "version_major": 2,
       "version_minor": 0
      },
      "text/plain": [
       "  0%|          | 0/5000 [00:00<?, ?it/s]"
      ]
     },
     "metadata": {},
     "output_type": "display_data"
    },
    {
     "name": "stdout",
     "output_type": "stream",
     "text": [
      "[CV 1/5; 2/10] END C=0.028565500784550384, kernel=<bound method SVMClassifier.custom_kernel of <__main__.SVMClassifier object at 0x7f7f40656610>>;, score=0.853 total time=17.7min\n",
      "[CV 2/5; 2/10] START C=0.028565500784550384, kernel=<bound method SVMClassifier.custom_kernel of <__main__.SVMClassifier object at 0x7f7f40656610>>\n",
      "Computing custom kernel...\n"
     ]
    },
    {
     "data": {
      "application/vnd.jupyter.widget-view+json": {
       "model_id": "081a881867584cffb149f31051d646f0",
       "version_major": 2,
       "version_minor": 0
      },
      "text/plain": [
       "  0%|          | 0/5000 [00:00<?, ?it/s]"
      ]
     },
     "metadata": {},
     "output_type": "display_data"
    },
    {
     "name": "stdout",
     "output_type": "stream",
     "text": [
      "Computing custom kernel...\n"
     ]
    },
    {
     "data": {
      "application/vnd.jupyter.widget-view+json": {
       "model_id": "c6ac220b309a4f3ca5b37beafabbe860",
       "version_major": 2,
       "version_minor": 0
      },
      "text/plain": [
       "  0%|          | 0/5000 [00:00<?, ?it/s]"
      ]
     },
     "metadata": {},
     "output_type": "display_data"
    },
    {
     "name": "stdout",
     "output_type": "stream",
     "text": [
      "[CV 2/5; 2/10] END C=0.028565500784550384, kernel=<bound method SVMClassifier.custom_kernel of <__main__.SVMClassifier object at 0x7f7f40656610>>;, score=0.860 total time=16.6min\n",
      "[CV 3/5; 2/10] START C=0.028565500784550384, kernel=<bound method SVMClassifier.custom_kernel of <__main__.SVMClassifier object at 0x7f7f40656610>>\n",
      "Computing custom kernel...\n"
     ]
    },
    {
     "data": {
      "application/vnd.jupyter.widget-view+json": {
       "model_id": "b7a983980c0e4eb19da5fbdda10b23b1",
       "version_major": 2,
       "version_minor": 0
      },
      "text/plain": [
       "  0%|          | 0/5000 [00:00<?, ?it/s]"
      ]
     },
     "metadata": {},
     "output_type": "display_data"
    },
    {
     "name": "stdout",
     "output_type": "stream",
     "text": [
      "Computing custom kernel...\n"
     ]
    },
    {
     "data": {
      "application/vnd.jupyter.widget-view+json": {
       "model_id": "04dd89e29b954fe59fdb66ad80239062",
       "version_major": 2,
       "version_minor": 0
      },
      "text/plain": [
       "  0%|          | 0/5000 [00:00<?, ?it/s]"
      ]
     },
     "metadata": {},
     "output_type": "display_data"
    },
    {
     "name": "stdout",
     "output_type": "stream",
     "text": [
      "[CV 3/5; 2/10] END C=0.028565500784550384, kernel=<bound method SVMClassifier.custom_kernel of <__main__.SVMClassifier object at 0x7f7f40656610>>;, score=0.829 total time=16.6min\n",
      "[CV 4/5; 2/10] START C=0.028565500784550384, kernel=<bound method SVMClassifier.custom_kernel of <__main__.SVMClassifier object at 0x7f7f40656610>>\n",
      "Computing custom kernel...\n"
     ]
    },
    {
     "data": {
      "application/vnd.jupyter.widget-view+json": {
       "model_id": "248ec175d61041ed8cea609970abf1bf",
       "version_major": 2,
       "version_minor": 0
      },
      "text/plain": [
       "  0%|          | 0/5000 [00:00<?, ?it/s]"
      ]
     },
     "metadata": {},
     "output_type": "display_data"
    },
    {
     "name": "stdout",
     "output_type": "stream",
     "text": [
      "Computing custom kernel...\n"
     ]
    },
    {
     "data": {
      "application/vnd.jupyter.widget-view+json": {
       "model_id": "7d79b96b9b0b434c82aa1426f6e83d46",
       "version_major": 2,
       "version_minor": 0
      },
      "text/plain": [
       "  0%|          | 0/5000 [00:00<?, ?it/s]"
      ]
     },
     "metadata": {},
     "output_type": "display_data"
    },
    {
     "name": "stdout",
     "output_type": "stream",
     "text": [
      "[CV 4/5; 2/10] END C=0.028565500784550384, kernel=<bound method SVMClassifier.custom_kernel of <__main__.SVMClassifier object at 0x7f7f40656610>>;, score=0.853 total time=16.4min\n",
      "[CV 5/5; 2/10] START C=0.028565500784550384, kernel=<bound method SVMClassifier.custom_kernel of <__main__.SVMClassifier object at 0x7f7f40656610>>\n",
      "Computing custom kernel...\n"
     ]
    },
    {
     "data": {
      "application/vnd.jupyter.widget-view+json": {
       "model_id": "d6fec3093b5f4f7980dabc13947aa072",
       "version_major": 2,
       "version_minor": 0
      },
      "text/plain": [
       "  0%|          | 0/5000 [00:00<?, ?it/s]"
      ]
     },
     "metadata": {},
     "output_type": "display_data"
    },
    {
     "name": "stdout",
     "output_type": "stream",
     "text": [
      "Computing custom kernel...\n"
     ]
    },
    {
     "data": {
      "application/vnd.jupyter.widget-view+json": {
       "model_id": "422bc4c996474512aca9798b1a945764",
       "version_major": 2,
       "version_minor": 0
      },
      "text/plain": [
       "  0%|          | 0/5000 [00:00<?, ?it/s]"
      ]
     },
     "metadata": {},
     "output_type": "display_data"
    },
    {
     "name": "stdout",
     "output_type": "stream",
     "text": [
      "[CV 5/5; 2/10] END C=0.028565500784550384, kernel=<bound method SVMClassifier.custom_kernel of <__main__.SVMClassifier object at 0x7f7f40656610>>;, score=0.868 total time=16.8min\n",
      "[CV 1/5; 3/10] START C=0.12110333239232973, kernel=<bound method SVMClassifier.custom_kernel of <__main__.SVMClassifier object at 0x7f7f40656610>>\n",
      "Computing custom kernel...\n"
     ]
    },
    {
     "data": {
      "application/vnd.jupyter.widget-view+json": {
       "model_id": "9263294de83d48648710ce7f5de51184",
       "version_major": 2,
       "version_minor": 0
      },
      "text/plain": [
       "  0%|          | 0/5000 [00:00<?, ?it/s]"
      ]
     },
     "metadata": {},
     "output_type": "display_data"
    },
    {
     "name": "stdout",
     "output_type": "stream",
     "text": [
      "Computing custom kernel...\n"
     ]
    },
    {
     "data": {
      "application/vnd.jupyter.widget-view+json": {
       "model_id": "da9d6849cde345d2b4c5347da22764eb",
       "version_major": 2,
       "version_minor": 0
      },
      "text/plain": [
       "  0%|          | 0/5000 [00:00<?, ?it/s]"
      ]
     },
     "metadata": {},
     "output_type": "display_data"
    },
    {
     "name": "stdout",
     "output_type": "stream",
     "text": [
      "[CV 1/5; 3/10] END C=0.12110333239232973, kernel=<bound method SVMClassifier.custom_kernel of <__main__.SVMClassifier object at 0x7f7f40656610>>;, score=0.856 total time=15.9min\n",
      "[CV 2/5; 3/10] START C=0.12110333239232973, kernel=<bound method SVMClassifier.custom_kernel of <__main__.SVMClassifier object at 0x7f7f40656610>>\n",
      "Computing custom kernel...\n"
     ]
    },
    {
     "data": {
      "application/vnd.jupyter.widget-view+json": {
       "model_id": "5fa0e65dec744f829e94971b0cb8212c",
       "version_major": 2,
       "version_minor": 0
      },
      "text/plain": [
       "  0%|          | 0/5000 [00:00<?, ?it/s]"
      ]
     },
     "metadata": {},
     "output_type": "display_data"
    },
    {
     "name": "stdout",
     "output_type": "stream",
     "text": [
      "Computing custom kernel...\n"
     ]
    },
    {
     "data": {
      "application/vnd.jupyter.widget-view+json": {
       "model_id": "db6df82b45d842c2988698e6a0738146",
       "version_major": 2,
       "version_minor": 0
      },
      "text/plain": [
       "  0%|          | 0/5000 [00:00<?, ?it/s]"
      ]
     },
     "metadata": {},
     "output_type": "display_data"
    },
    {
     "name": "stdout",
     "output_type": "stream",
     "text": [
      "[CV 2/5; 3/10] END C=0.12110333239232973, kernel=<bound method SVMClassifier.custom_kernel of <__main__.SVMClassifier object at 0x7f7f40656610>>;, score=0.859 total time=15.7min\n",
      "[CV 3/5; 3/10] START C=0.12110333239232973, kernel=<bound method SVMClassifier.custom_kernel of <__main__.SVMClassifier object at 0x7f7f40656610>>\n",
      "Computing custom kernel...\n"
     ]
    },
    {
     "data": {
      "application/vnd.jupyter.widget-view+json": {
       "model_id": "3138afdfcfef4756a4048d6b98c22b37",
       "version_major": 2,
       "version_minor": 0
      },
      "text/plain": [
       "  0%|          | 0/5000 [00:00<?, ?it/s]"
      ]
     },
     "metadata": {},
     "output_type": "display_data"
    },
    {
     "name": "stdout",
     "output_type": "stream",
     "text": [
      "Computing custom kernel...\n"
     ]
    },
    {
     "data": {
      "application/vnd.jupyter.widget-view+json": {
       "model_id": "0203105a60004468a5a0a10642b0bdf4",
       "version_major": 2,
       "version_minor": 0
      },
      "text/plain": [
       "  0%|          | 0/5000 [00:00<?, ?it/s]"
      ]
     },
     "metadata": {},
     "output_type": "display_data"
    },
    {
     "name": "stdout",
     "output_type": "stream",
     "text": [
      "[CV 3/5; 3/10] END C=0.12110333239232973, kernel=<bound method SVMClassifier.custom_kernel of <__main__.SVMClassifier object at 0x7f7f40656610>>;, score=0.827 total time=15.7min\n",
      "[CV 4/5; 3/10] START C=0.12110333239232973, kernel=<bound method SVMClassifier.custom_kernel of <__main__.SVMClassifier object at 0x7f7f40656610>>\n",
      "Computing custom kernel...\n"
     ]
    },
    {
     "data": {
      "application/vnd.jupyter.widget-view+json": {
       "model_id": "f90df4fbc5b7403eb95add9efff86624",
       "version_major": 2,
       "version_minor": 0
      },
      "text/plain": [
       "  0%|          | 0/5000 [00:00<?, ?it/s]"
      ]
     },
     "metadata": {},
     "output_type": "display_data"
    },
    {
     "name": "stdout",
     "output_type": "stream",
     "text": [
      "Computing custom kernel...\n"
     ]
    },
    {
     "data": {
      "application/vnd.jupyter.widget-view+json": {
       "model_id": "ccf9719c406b4c469ae4955ecbce919b",
       "version_major": 2,
       "version_minor": 0
      },
      "text/plain": [
       "  0%|          | 0/5000 [00:00<?, ?it/s]"
      ]
     },
     "metadata": {},
     "output_type": "display_data"
    },
    {
     "name": "stdout",
     "output_type": "stream",
     "text": [
      "[CV 4/5; 3/10] END C=0.12110333239232973, kernel=<bound method SVMClassifier.custom_kernel of <__main__.SVMClassifier object at 0x7f7f40656610>>;, score=0.850 total time=15.8min\n",
      "[CV 5/5; 3/10] START C=0.12110333239232973, kernel=<bound method SVMClassifier.custom_kernel of <__main__.SVMClassifier object at 0x7f7f40656610>>\n",
      "Computing custom kernel...\n"
     ]
    },
    {
     "data": {
      "application/vnd.jupyter.widget-view+json": {
       "model_id": "3c2fac386d1b47c6adaf5883cc4152de",
       "version_major": 2,
       "version_minor": 0
      },
      "text/plain": [
       "  0%|          | 0/5000 [00:00<?, ?it/s]"
      ]
     },
     "metadata": {},
     "output_type": "display_data"
    },
    {
     "name": "stdout",
     "output_type": "stream",
     "text": [
      "Computing custom kernel...\n"
     ]
    },
    {
     "data": {
      "application/vnd.jupyter.widget-view+json": {
       "model_id": "b2148a4e5cc94f4dbdb82a19307eb577",
       "version_major": 2,
       "version_minor": 0
      },
      "text/plain": [
       "  0%|          | 0/5000 [00:00<?, ?it/s]"
      ]
     },
     "metadata": {},
     "output_type": "display_data"
    },
    {
     "name": "stdout",
     "output_type": "stream",
     "text": [
      "[CV 5/5; 3/10] END C=0.12110333239232973, kernel=<bound method SVMClassifier.custom_kernel of <__main__.SVMClassifier object at 0x7f7f40656610>>;, score=0.868 total time=15.8min\n",
      "[CV 1/5; 4/10] START C=0.5134171190325919, kernel=<bound method SVMClassifier.custom_kernel of <__main__.SVMClassifier object at 0x7f7f40656610>>\n",
      "Computing custom kernel...\n"
     ]
    },
    {
     "data": {
      "application/vnd.jupyter.widget-view+json": {
       "model_id": "ed5d19f79de64930bd04a823d5e3ce98",
       "version_major": 2,
       "version_minor": 0
      },
      "text/plain": [
       "  0%|          | 0/5000 [00:00<?, ?it/s]"
      ]
     },
     "metadata": {},
     "output_type": "display_data"
    },
    {
     "name": "stdout",
     "output_type": "stream",
     "text": [
      "Computing custom kernel...\n"
     ]
    },
    {
     "data": {
      "application/vnd.jupyter.widget-view+json": {
       "model_id": "1ad481cf8a4d47729d8dc3c095116ce6",
       "version_major": 2,
       "version_minor": 0
      },
      "text/plain": [
       "  0%|          | 0/5000 [00:00<?, ?it/s]"
      ]
     },
     "metadata": {},
     "output_type": "display_data"
    },
    {
     "name": "stdout",
     "output_type": "stream",
     "text": [
      "[CV 1/5; 4/10] END C=0.5134171190325919, kernel=<bound method SVMClassifier.custom_kernel of <__main__.SVMClassifier object at 0x7f7f40656610>>;, score=0.832 total time=15.8min\n",
      "[CV 2/5; 4/10] START C=0.5134171190325919, kernel=<bound method SVMClassifier.custom_kernel of <__main__.SVMClassifier object at 0x7f7f40656610>>\n",
      "Computing custom kernel...\n"
     ]
    },
    {
     "data": {
      "application/vnd.jupyter.widget-view+json": {
       "model_id": "e131226b11454aff80282b053bbc3fe5",
       "version_major": 2,
       "version_minor": 0
      },
      "text/plain": [
       "  0%|          | 0/5000 [00:00<?, ?it/s]"
      ]
     },
     "metadata": {},
     "output_type": "display_data"
    },
    {
     "name": "stdout",
     "output_type": "stream",
     "text": [
      "Computing custom kernel...\n"
     ]
    },
    {
     "data": {
      "application/vnd.jupyter.widget-view+json": {
       "model_id": "4ca0e8d4da9e4b33bfcd7ab0ae1b2089",
       "version_major": 2,
       "version_minor": 0
      },
      "text/plain": [
       "  0%|          | 0/5000 [00:00<?, ?it/s]"
      ]
     },
     "metadata": {},
     "output_type": "display_data"
    },
    {
     "name": "stdout",
     "output_type": "stream",
     "text": [
      "[CV 2/5; 4/10] END C=0.5134171190325919, kernel=<bound method SVMClassifier.custom_kernel of <__main__.SVMClassifier object at 0x7f7f40656610>>;, score=0.852 total time=15.8min\n",
      "[CV 3/5; 4/10] START C=0.5134171190325919, kernel=<bound method SVMClassifier.custom_kernel of <__main__.SVMClassifier object at 0x7f7f40656610>>\n",
      "Computing custom kernel...\n"
     ]
    },
    {
     "data": {
      "application/vnd.jupyter.widget-view+json": {
       "model_id": "14ddd598aa604371abf89bf4cc751a16",
       "version_major": 2,
       "version_minor": 0
      },
      "text/plain": [
       "  0%|          | 0/5000 [00:00<?, ?it/s]"
      ]
     },
     "metadata": {},
     "output_type": "display_data"
    },
    {
     "name": "stdout",
     "output_type": "stream",
     "text": [
      "Computing custom kernel...\n"
     ]
    },
    {
     "data": {
      "application/vnd.jupyter.widget-view+json": {
       "model_id": "d7cd32ac3e2a461caaa09051877771d9",
       "version_major": 2,
       "version_minor": 0
      },
      "text/plain": [
       "  0%|          | 0/5000 [00:00<?, ?it/s]"
      ]
     },
     "metadata": {},
     "output_type": "display_data"
    },
    {
     "name": "stdout",
     "output_type": "stream",
     "text": [
      "[CV 3/5; 4/10] END C=0.5134171190325919, kernel=<bound method SVMClassifier.custom_kernel of <__main__.SVMClassifier object at 0x7f7f40656610>>;, score=0.830 total time=15.8min\n",
      "[CV 4/5; 4/10] START C=0.5134171190325919, kernel=<bound method SVMClassifier.custom_kernel of <__main__.SVMClassifier object at 0x7f7f40656610>>\n",
      "Computing custom kernel...\n"
     ]
    },
    {
     "data": {
      "application/vnd.jupyter.widget-view+json": {
       "model_id": "380fc2fee7634caca38b60893cce578c",
       "version_major": 2,
       "version_minor": 0
      },
      "text/plain": [
       "  0%|          | 0/5000 [00:00<?, ?it/s]"
      ]
     },
     "metadata": {},
     "output_type": "display_data"
    },
    {
     "name": "stdout",
     "output_type": "stream",
     "text": [
      "Computing custom kernel...\n"
     ]
    },
    {
     "data": {
      "application/vnd.jupyter.widget-view+json": {
       "model_id": "29c2f377ae6f4a9fb7b28b63dd0efe8e",
       "version_major": 2,
       "version_minor": 0
      },
      "text/plain": [
       "  0%|          | 0/5000 [00:00<?, ?it/s]"
      ]
     },
     "metadata": {},
     "output_type": "display_data"
    },
    {
     "name": "stdout",
     "output_type": "stream",
     "text": [
      "[CV 4/5; 4/10] END C=0.5134171190325919, kernel=<bound method SVMClassifier.custom_kernel of <__main__.SVMClassifier object at 0x7f7f40656610>>;, score=0.835 total time=15.8min\n",
      "[CV 5/5; 4/10] START C=0.5134171190325919, kernel=<bound method SVMClassifier.custom_kernel of <__main__.SVMClassifier object at 0x7f7f40656610>>\n",
      "Computing custom kernel...\n"
     ]
    },
    {
     "data": {
      "application/vnd.jupyter.widget-view+json": {
       "model_id": "47ab7596537a4cc58d990a2dcb22d8eb",
       "version_major": 2,
       "version_minor": 0
      },
      "text/plain": [
       "  0%|          | 0/5000 [00:00<?, ?it/s]"
      ]
     },
     "metadata": {},
     "output_type": "display_data"
    },
    {
     "name": "stdout",
     "output_type": "stream",
     "text": [
      "Computing custom kernel...\n"
     ]
    },
    {
     "data": {
      "application/vnd.jupyter.widget-view+json": {
       "model_id": "ef53c639626b4866bd9c2a7140b950b0",
       "version_major": 2,
       "version_minor": 0
      },
      "text/plain": [
       "  0%|          | 0/5000 [00:00<?, ?it/s]"
      ]
     },
     "metadata": {},
     "output_type": "display_data"
    },
    {
     "name": "stdout",
     "output_type": "stream",
     "text": [
      "[CV 5/5; 4/10] END C=0.5134171190325919, kernel=<bound method SVMClassifier.custom_kernel of <__main__.SVMClassifier object at 0x7f7f40656610>>;, score=0.854 total time=15.8min\n",
      "[CV 1/5; 5/10] START C=2.176629931716248, kernel=<bound method SVMClassifier.custom_kernel of <__main__.SVMClassifier object at 0x7f7f40656610>>\n",
      "Computing custom kernel...\n"
     ]
    },
    {
     "data": {
      "application/vnd.jupyter.widget-view+json": {
       "model_id": "4f2e8e39c5fa41e28f302460228252df",
       "version_major": 2,
       "version_minor": 0
      },
      "text/plain": [
       "  0%|          | 0/5000 [00:00<?, ?it/s]"
      ]
     },
     "metadata": {},
     "output_type": "display_data"
    },
    {
     "name": "stdout",
     "output_type": "stream",
     "text": [
      "Computing custom kernel...\n"
     ]
    },
    {
     "data": {
      "application/vnd.jupyter.widget-view+json": {
       "model_id": "28f323bcb1a64a7d913fc9d669ca5b5d",
       "version_major": 2,
       "version_minor": 0
      },
      "text/plain": [
       "  0%|          | 0/5000 [00:00<?, ?it/s]"
      ]
     },
     "metadata": {},
     "output_type": "display_data"
    },
    {
     "name": "stdout",
     "output_type": "stream",
     "text": [
      "[CV 1/5; 5/10] END C=2.176629931716248, kernel=<bound method SVMClassifier.custom_kernel of <__main__.SVMClassifier object at 0x7f7f40656610>>;, score=0.823 total time=15.8min\n",
      "[CV 2/5; 5/10] START C=2.176629931716248, kernel=<bound method SVMClassifier.custom_kernel of <__main__.SVMClassifier object at 0x7f7f40656610>>\n",
      "Computing custom kernel...\n"
     ]
    },
    {
     "data": {
      "application/vnd.jupyter.widget-view+json": {
       "model_id": "263c375e6c9849f1a57381044e49302b",
       "version_major": 2,
       "version_minor": 0
      },
      "text/plain": [
       "  0%|          | 0/5000 [00:00<?, ?it/s]"
      ]
     },
     "metadata": {},
     "output_type": "display_data"
    },
    {
     "name": "stdout",
     "output_type": "stream",
     "text": [
      "Computing custom kernel...\n"
     ]
    },
    {
     "data": {
      "application/vnd.jupyter.widget-view+json": {
       "model_id": "0c36eb41a4ae461593f451e47b717929",
       "version_major": 2,
       "version_minor": 0
      },
      "text/plain": [
       "  0%|          | 0/5000 [00:00<?, ?it/s]"
      ]
     },
     "metadata": {},
     "output_type": "display_data"
    },
    {
     "name": "stdout",
     "output_type": "stream",
     "text": [
      "[CV 2/5; 5/10] END C=2.176629931716248, kernel=<bound method SVMClassifier.custom_kernel of <__main__.SVMClassifier object at 0x7f7f40656610>>;, score=0.851 total time=15.8min\n",
      "[CV 3/5; 5/10] START C=2.176629931716248, kernel=<bound method SVMClassifier.custom_kernel of <__main__.SVMClassifier object at 0x7f7f40656610>>\n",
      "Computing custom kernel...\n"
     ]
    },
    {
     "data": {
      "application/vnd.jupyter.widget-view+json": {
       "model_id": "7ad83a7dbd21405a918b70431c23e188",
       "version_major": 2,
       "version_minor": 0
      },
      "text/plain": [
       "  0%|          | 0/5000 [00:00<?, ?it/s]"
      ]
     },
     "metadata": {},
     "output_type": "display_data"
    },
    {
     "name": "stdout",
     "output_type": "stream",
     "text": [
      "Computing custom kernel...\n"
     ]
    },
    {
     "data": {
      "application/vnd.jupyter.widget-view+json": {
       "model_id": "30089082b59343b8bb5a3d9d9d5f7a22",
       "version_major": 2,
       "version_minor": 0
      },
      "text/plain": [
       "  0%|          | 0/5000 [00:00<?, ?it/s]"
      ]
     },
     "metadata": {},
     "output_type": "display_data"
    },
    {
     "name": "stdout",
     "output_type": "stream",
     "text": [
      "[CV 3/5; 5/10] END C=2.176629931716248, kernel=<bound method SVMClassifier.custom_kernel of <__main__.SVMClassifier object at 0x7f7f40656610>>;, score=0.836 total time=15.8min\n",
      "[CV 4/5; 5/10] START C=2.176629931716248, kernel=<bound method SVMClassifier.custom_kernel of <__main__.SVMClassifier object at 0x7f7f40656610>>\n",
      "Computing custom kernel...\n"
     ]
    },
    {
     "data": {
      "application/vnd.jupyter.widget-view+json": {
       "model_id": "78975a5725904a40a57c86c1f190d1e8",
       "version_major": 2,
       "version_minor": 0
      },
      "text/plain": [
       "  0%|          | 0/5000 [00:00<?, ?it/s]"
      ]
     },
     "metadata": {},
     "output_type": "display_data"
    },
    {
     "name": "stdout",
     "output_type": "stream",
     "text": [
      "Computing custom kernel...\n"
     ]
    },
    {
     "data": {
      "application/vnd.jupyter.widget-view+json": {
       "model_id": "d67cfdbd40f9423ab796e6098bdd024f",
       "version_major": 2,
       "version_minor": 0
      },
      "text/plain": [
       "  0%|          | 0/5000 [00:00<?, ?it/s]"
      ]
     },
     "metadata": {},
     "output_type": "display_data"
    },
    {
     "name": "stdout",
     "output_type": "stream",
     "text": [
      "[CV 4/5; 5/10] END C=2.176629931716248, kernel=<bound method SVMClassifier.custom_kernel of <__main__.SVMClassifier object at 0x7f7f40656610>>;, score=0.830 total time=15.8min\n",
      "[CV 5/5; 5/10] START C=2.176629931716248, kernel=<bound method SVMClassifier.custom_kernel of <__main__.SVMClassifier object at 0x7f7f40656610>>\n",
      "Computing custom kernel...\n"
     ]
    },
    {
     "data": {
      "application/vnd.jupyter.widget-view+json": {
       "model_id": "884a8f9c991a41adba9c4aff5b9ec39b",
       "version_major": 2,
       "version_minor": 0
      },
      "text/plain": [
       "  0%|          | 0/5000 [00:00<?, ?it/s]"
      ]
     },
     "metadata": {},
     "output_type": "display_data"
    },
    {
     "name": "stdout",
     "output_type": "stream",
     "text": [
      "Computing custom kernel...\n"
     ]
    },
    {
     "data": {
      "application/vnd.jupyter.widget-view+json": {
       "model_id": "13415d336fb94c2caff518ffe139fd45",
       "version_major": 2,
       "version_minor": 0
      },
      "text/plain": [
       "  0%|          | 0/5000 [00:00<?, ?it/s]"
      ]
     },
     "metadata": {},
     "output_type": "display_data"
    },
    {
     "name": "stdout",
     "output_type": "stream",
     "text": [
      "[CV 5/5; 5/10] END C=2.176629931716248, kernel=<bound method SVMClassifier.custom_kernel of <__main__.SVMClassifier object at 0x7f7f40656610>>;, score=0.853 total time=15.9min\n",
      "[CV 1/5; 6/10] START C=9.227814352139523, kernel=<bound method SVMClassifier.custom_kernel of <__main__.SVMClassifier object at 0x7f7f40656610>>\n",
      "Computing custom kernel...\n"
     ]
    },
    {
     "data": {
      "application/vnd.jupyter.widget-view+json": {
       "model_id": "243b19b60b584949b9fbdfac3ec1577c",
       "version_major": 2,
       "version_minor": 0
      },
      "text/plain": [
       "  0%|          | 0/5000 [00:00<?, ?it/s]"
      ]
     },
     "metadata": {},
     "output_type": "display_data"
    },
    {
     "name": "stdout",
     "output_type": "stream",
     "text": [
      "Computing custom kernel...\n"
     ]
    },
    {
     "data": {
      "application/vnd.jupyter.widget-view+json": {
       "model_id": "758e4e26c4104079b272f99ffe97a62a",
       "version_major": 2,
       "version_minor": 0
      },
      "text/plain": [
       "  0%|          | 0/5000 [00:00<?, ?it/s]"
      ]
     },
     "metadata": {},
     "output_type": "display_data"
    },
    {
     "name": "stdout",
     "output_type": "stream",
     "text": [
      "[CV 1/5; 6/10] END C=9.227814352139523, kernel=<bound method SVMClassifier.custom_kernel of <__main__.SVMClassifier object at 0x7f7f40656610>>;, score=0.823 total time=15.9min\n",
      "[CV 2/5; 6/10] START C=9.227814352139523, kernel=<bound method SVMClassifier.custom_kernel of <__main__.SVMClassifier object at 0x7f7f40656610>>\n",
      "Computing custom kernel...\n"
     ]
    },
    {
     "data": {
      "application/vnd.jupyter.widget-view+json": {
       "model_id": "89726a16ed0849e2855de698f107da12",
       "version_major": 2,
       "version_minor": 0
      },
      "text/plain": [
       "  0%|          | 0/5000 [00:00<?, ?it/s]"
      ]
     },
     "metadata": {},
     "output_type": "display_data"
    },
    {
     "name": "stdout",
     "output_type": "stream",
     "text": [
      "Computing custom kernel...\n"
     ]
    },
    {
     "data": {
      "application/vnd.jupyter.widget-view+json": {
       "model_id": "ab214a49ef21466b9bcff68e9167d6a9",
       "version_major": 2,
       "version_minor": 0
      },
      "text/plain": [
       "  0%|          | 0/5000 [00:00<?, ?it/s]"
      ]
     },
     "metadata": {},
     "output_type": "display_data"
    },
    {
     "name": "stdout",
     "output_type": "stream",
     "text": [
      "[CV 2/5; 6/10] END C=9.227814352139523, kernel=<bound method SVMClassifier.custom_kernel of <__main__.SVMClassifier object at 0x7f7f40656610>>;, score=0.851 total time=15.8min\n",
      "[CV 3/5; 6/10] START C=9.227814352139523, kernel=<bound method SVMClassifier.custom_kernel of <__main__.SVMClassifier object at 0x7f7f40656610>>\n",
      "Computing custom kernel...\n"
     ]
    },
    {
     "data": {
      "application/vnd.jupyter.widget-view+json": {
       "model_id": "164adda183ce4e8aaccbadbb9e0e9002",
       "version_major": 2,
       "version_minor": 0
      },
      "text/plain": [
       "  0%|          | 0/5000 [00:00<?, ?it/s]"
      ]
     },
     "metadata": {},
     "output_type": "display_data"
    },
    {
     "name": "stdout",
     "output_type": "stream",
     "text": [
      "Computing custom kernel...\n"
     ]
    },
    {
     "data": {
      "application/vnd.jupyter.widget-view+json": {
       "model_id": "4fe018c47be5400b99c517ef30c68639",
       "version_major": 2,
       "version_minor": 0
      },
      "text/plain": [
       "  0%|          | 0/5000 [00:00<?, ?it/s]"
      ]
     },
     "metadata": {},
     "output_type": "display_data"
    },
    {
     "name": "stdout",
     "output_type": "stream",
     "text": [
      "[CV 3/5; 6/10] END C=9.227814352139523, kernel=<bound method SVMClassifier.custom_kernel of <__main__.SVMClassifier object at 0x7f7f40656610>>;, score=0.836 total time=15.8min\n",
      "[CV 4/5; 6/10] START C=9.227814352139523, kernel=<bound method SVMClassifier.custom_kernel of <__main__.SVMClassifier object at 0x7f7f40656610>>\n",
      "Computing custom kernel...\n"
     ]
    },
    {
     "data": {
      "application/vnd.jupyter.widget-view+json": {
       "model_id": "c7fd4b43c0e64b10b9c8fbac7408014e",
       "version_major": 2,
       "version_minor": 0
      },
      "text/plain": [
       "  0%|          | 0/5000 [00:00<?, ?it/s]"
      ]
     },
     "metadata": {},
     "output_type": "display_data"
    },
    {
     "name": "stdout",
     "output_type": "stream",
     "text": [
      "Computing custom kernel...\n"
     ]
    },
    {
     "data": {
      "application/vnd.jupyter.widget-view+json": {
       "model_id": "79d33be6153a4f4999b9c859459c731b",
       "version_major": 2,
       "version_minor": 0
      },
      "text/plain": [
       "  0%|          | 0/5000 [00:00<?, ?it/s]"
      ]
     },
     "metadata": {},
     "output_type": "display_data"
    },
    {
     "name": "stdout",
     "output_type": "stream",
     "text": [
      "[CV 4/5; 6/10] END C=9.227814352139523, kernel=<bound method SVMClassifier.custom_kernel of <__main__.SVMClassifier object at 0x7f7f40656610>>;, score=0.830 total time=15.8min\n",
      "[CV 5/5; 6/10] START C=9.227814352139523, kernel=<bound method SVMClassifier.custom_kernel of <__main__.SVMClassifier object at 0x7f7f40656610>>\n",
      "Computing custom kernel...\n"
     ]
    },
    {
     "data": {
      "application/vnd.jupyter.widget-view+json": {
       "model_id": "3216e9d4598e4cda80839e131c90c0ce",
       "version_major": 2,
       "version_minor": 0
      },
      "text/plain": [
       "  0%|          | 0/5000 [00:00<?, ?it/s]"
      ]
     },
     "metadata": {},
     "output_type": "display_data"
    },
    {
     "name": "stdout",
     "output_type": "stream",
     "text": [
      "Computing custom kernel...\n"
     ]
    },
    {
     "data": {
      "application/vnd.jupyter.widget-view+json": {
       "model_id": "bd98a268b19c48b696cc044238b35083",
       "version_major": 2,
       "version_minor": 0
      },
      "text/plain": [
       "  0%|          | 0/5000 [00:00<?, ?it/s]"
      ]
     },
     "metadata": {},
     "output_type": "display_data"
    },
    {
     "name": "stdout",
     "output_type": "stream",
     "text": [
      "[CV 5/5; 6/10] END C=9.227814352139523, kernel=<bound method SVMClassifier.custom_kernel of <__main__.SVMClassifier object at 0x7f7f40656610>>;, score=0.853 total time=15.8min\n",
      "[CV 1/5; 7/10] START C=39.12128399815319, kernel=<bound method SVMClassifier.custom_kernel of <__main__.SVMClassifier object at 0x7f7f40656610>>\n",
      "Computing custom kernel...\n"
     ]
    },
    {
     "data": {
      "application/vnd.jupyter.widget-view+json": {
       "model_id": "9b6b1b483df54f30a441348cd9bbdf60",
       "version_major": 2,
       "version_minor": 0
      },
      "text/plain": [
       "  0%|          | 0/5000 [00:00<?, ?it/s]"
      ]
     },
     "metadata": {},
     "output_type": "display_data"
    },
    {
     "name": "stdout",
     "output_type": "stream",
     "text": [
      "Computing custom kernel...\n"
     ]
    },
    {
     "data": {
      "application/vnd.jupyter.widget-view+json": {
       "model_id": "04d66485594249cd94e6adbf98f96902",
       "version_major": 2,
       "version_minor": 0
      },
      "text/plain": [
       "  0%|          | 0/5000 [00:00<?, ?it/s]"
      ]
     },
     "metadata": {},
     "output_type": "display_data"
    },
    {
     "name": "stdout",
     "output_type": "stream",
     "text": [
      "[CV 1/5; 7/10] END C=39.12128399815319, kernel=<bound method SVMClassifier.custom_kernel of <__main__.SVMClassifier object at 0x7f7f40656610>>;, score=0.823 total time=15.8min\n",
      "[CV 2/5; 7/10] START C=39.12128399815319, kernel=<bound method SVMClassifier.custom_kernel of <__main__.SVMClassifier object at 0x7f7f40656610>>\n",
      "Computing custom kernel...\n"
     ]
    },
    {
     "data": {
      "application/vnd.jupyter.widget-view+json": {
       "model_id": "2adec22589bb419db123033b852aa8ce",
       "version_major": 2,
       "version_minor": 0
      },
      "text/plain": [
       "  0%|          | 0/5000 [00:00<?, ?it/s]"
      ]
     },
     "metadata": {},
     "output_type": "display_data"
    },
    {
     "name": "stdout",
     "output_type": "stream",
     "text": [
      "Computing custom kernel...\n"
     ]
    },
    {
     "data": {
      "application/vnd.jupyter.widget-view+json": {
       "model_id": "8ee968643ed54b048592f2ae106d5b87",
       "version_major": 2,
       "version_minor": 0
      },
      "text/plain": [
       "  0%|          | 0/5000 [00:00<?, ?it/s]"
      ]
     },
     "metadata": {},
     "output_type": "display_data"
    },
    {
     "name": "stdout",
     "output_type": "stream",
     "text": [
      "[CV 2/5; 7/10] END C=39.12128399815319, kernel=<bound method SVMClassifier.custom_kernel of <__main__.SVMClassifier object at 0x7f7f40656610>>;, score=0.851 total time=15.9min\n",
      "[CV 3/5; 7/10] START C=39.12128399815319, kernel=<bound method SVMClassifier.custom_kernel of <__main__.SVMClassifier object at 0x7f7f40656610>>\n",
      "Computing custom kernel...\n"
     ]
    },
    {
     "data": {
      "application/vnd.jupyter.widget-view+json": {
       "model_id": "3b55901f6e5c46c0a97176a1d31ca12a",
       "version_major": 2,
       "version_minor": 0
      },
      "text/plain": [
       "  0%|          | 0/5000 [00:00<?, ?it/s]"
      ]
     },
     "metadata": {},
     "output_type": "display_data"
    },
    {
     "name": "stdout",
     "output_type": "stream",
     "text": [
      "Computing custom kernel...\n"
     ]
    },
    {
     "data": {
      "application/vnd.jupyter.widget-view+json": {
       "model_id": "1acf5290ea6b4e37bdb113f0d6adb425",
       "version_major": 2,
       "version_minor": 0
      },
      "text/plain": [
       "  0%|          | 0/5000 [00:00<?, ?it/s]"
      ]
     },
     "metadata": {},
     "output_type": "display_data"
    },
    {
     "name": "stdout",
     "output_type": "stream",
     "text": [
      "[CV 3/5; 7/10] END C=39.12128399815319, kernel=<bound method SVMClassifier.custom_kernel of <__main__.SVMClassifier object at 0x7f7f40656610>>;, score=0.836 total time=15.8min\n",
      "[CV 4/5; 7/10] START C=39.12128399815319, kernel=<bound method SVMClassifier.custom_kernel of <__main__.SVMClassifier object at 0x7f7f40656610>>\n",
      "Computing custom kernel...\n"
     ]
    },
    {
     "data": {
      "application/vnd.jupyter.widget-view+json": {
       "model_id": "5affc705b77b45bfa60e96e34dfaaf98",
       "version_major": 2,
       "version_minor": 0
      },
      "text/plain": [
       "  0%|          | 0/5000 [00:00<?, ?it/s]"
      ]
     },
     "metadata": {},
     "output_type": "display_data"
    },
    {
     "name": "stdout",
     "output_type": "stream",
     "text": [
      "Computing custom kernel...\n"
     ]
    },
    {
     "data": {
      "application/vnd.jupyter.widget-view+json": {
       "model_id": "95a83408d5fe45fb96a610665f7279d7",
       "version_major": 2,
       "version_minor": 0
      },
      "text/plain": [
       "  0%|          | 0/5000 [00:00<?, ?it/s]"
      ]
     },
     "metadata": {},
     "output_type": "display_data"
    },
    {
     "name": "stdout",
     "output_type": "stream",
     "text": [
      "[CV 4/5; 7/10] END C=39.12128399815319, kernel=<bound method SVMClassifier.custom_kernel of <__main__.SVMClassifier object at 0x7f7f40656610>>;, score=0.830 total time=15.8min\n",
      "[CV 5/5; 7/10] START C=39.12128399815319, kernel=<bound method SVMClassifier.custom_kernel of <__main__.SVMClassifier object at 0x7f7f40656610>>\n",
      "Computing custom kernel...\n"
     ]
    },
    {
     "data": {
      "application/vnd.jupyter.widget-view+json": {
       "model_id": "536dccda7c134621985382ce667ae054",
       "version_major": 2,
       "version_minor": 0
      },
      "text/plain": [
       "  0%|          | 0/5000 [00:00<?, ?it/s]"
      ]
     },
     "metadata": {},
     "output_type": "display_data"
    },
    {
     "name": "stdout",
     "output_type": "stream",
     "text": [
      "Computing custom kernel...\n"
     ]
    },
    {
     "data": {
      "application/vnd.jupyter.widget-view+json": {
       "model_id": "c065243cac3c4b9e879066a076207d40",
       "version_major": 2,
       "version_minor": 0
      },
      "text/plain": [
       "  0%|          | 0/5000 [00:00<?, ?it/s]"
      ]
     },
     "metadata": {},
     "output_type": "display_data"
    },
    {
     "name": "stdout",
     "output_type": "stream",
     "text": [
      "[CV 5/5; 7/10] END C=39.12128399815319, kernel=<bound method SVMClassifier.custom_kernel of <__main__.SVMClassifier object at 0x7f7f40656610>>;, score=0.853 total time=15.8min\n",
      "[CV 1/5; 8/10] START C=165.85453534934933, kernel=<bound method SVMClassifier.custom_kernel of <__main__.SVMClassifier object at 0x7f7f40656610>>\n",
      "Computing custom kernel...\n"
     ]
    },
    {
     "data": {
      "application/vnd.jupyter.widget-view+json": {
       "model_id": "845f3c4875364f389b442944530032d2",
       "version_major": 2,
       "version_minor": 0
      },
      "text/plain": [
       "  0%|          | 0/5000 [00:00<?, ?it/s]"
      ]
     },
     "metadata": {},
     "output_type": "display_data"
    },
    {
     "name": "stdout",
     "output_type": "stream",
     "text": [
      "Computing custom kernel...\n"
     ]
    },
    {
     "data": {
      "application/vnd.jupyter.widget-view+json": {
       "model_id": "b6b373861bcf458cb59eeeebb6eca737",
       "version_major": 2,
       "version_minor": 0
      },
      "text/plain": [
       "  0%|          | 0/5000 [00:00<?, ?it/s]"
      ]
     },
     "metadata": {},
     "output_type": "display_data"
    },
    {
     "name": "stdout",
     "output_type": "stream",
     "text": [
      "[CV 1/5; 8/10] END C=165.85453534934933, kernel=<bound method SVMClassifier.custom_kernel of <__main__.SVMClassifier object at 0x7f7f40656610>>;, score=0.823 total time=15.8min\n",
      "[CV 2/5; 8/10] START C=165.85453534934933, kernel=<bound method SVMClassifier.custom_kernel of <__main__.SVMClassifier object at 0x7f7f40656610>>\n",
      "Computing custom kernel...\n"
     ]
    },
    {
     "data": {
      "application/vnd.jupyter.widget-view+json": {
       "model_id": "1239b895a4ff497e8d4cac248f7608cb",
       "version_major": 2,
       "version_minor": 0
      },
      "text/plain": [
       "  0%|          | 0/5000 [00:00<?, ?it/s]"
      ]
     },
     "metadata": {},
     "output_type": "display_data"
    },
    {
     "name": "stdout",
     "output_type": "stream",
     "text": [
      "Computing custom kernel...\n"
     ]
    },
    {
     "data": {
      "application/vnd.jupyter.widget-view+json": {
       "model_id": "11fa8deaea8840aab2a5b806fb09f472",
       "version_major": 2,
       "version_minor": 0
      },
      "text/plain": [
       "  0%|          | 0/5000 [00:00<?, ?it/s]"
      ]
     },
     "metadata": {},
     "output_type": "display_data"
    },
    {
     "name": "stdout",
     "output_type": "stream",
     "text": [
      "[CV 2/5; 8/10] END C=165.85453534934933, kernel=<bound method SVMClassifier.custom_kernel of <__main__.SVMClassifier object at 0x7f7f40656610>>;, score=0.851 total time=15.9min\n",
      "[CV 3/5; 8/10] START C=165.85453534934933, kernel=<bound method SVMClassifier.custom_kernel of <__main__.SVMClassifier object at 0x7f7f40656610>>\n",
      "Computing custom kernel...\n"
     ]
    },
    {
     "data": {
      "application/vnd.jupyter.widget-view+json": {
       "model_id": "e515f14ba5664de9890f61022ecffa6e",
       "version_major": 2,
       "version_minor": 0
      },
      "text/plain": [
       "  0%|          | 0/5000 [00:00<?, ?it/s]"
      ]
     },
     "metadata": {},
     "output_type": "display_data"
    },
    {
     "name": "stdout",
     "output_type": "stream",
     "text": [
      "Computing custom kernel...\n"
     ]
    },
    {
     "data": {
      "application/vnd.jupyter.widget-view+json": {
       "model_id": "b109fe4b2e834b9d88b5b3a66da7719a",
       "version_major": 2,
       "version_minor": 0
      },
      "text/plain": [
       "  0%|          | 0/5000 [00:00<?, ?it/s]"
      ]
     },
     "metadata": {},
     "output_type": "display_data"
    },
    {
     "name": "stdout",
     "output_type": "stream",
     "text": [
      "[CV 3/5; 8/10] END C=165.85453534934933, kernel=<bound method SVMClassifier.custom_kernel of <__main__.SVMClassifier object at 0x7f7f40656610>>;, score=0.836 total time=15.8min\n",
      "[CV 4/5; 8/10] START C=165.85453534934933, kernel=<bound method SVMClassifier.custom_kernel of <__main__.SVMClassifier object at 0x7f7f40656610>>\n",
      "Computing custom kernel...\n"
     ]
    },
    {
     "data": {
      "application/vnd.jupyter.widget-view+json": {
       "model_id": "851a4f5510fc4f2d91b7faeb549ef895",
       "version_major": 2,
       "version_minor": 0
      },
      "text/plain": [
       "  0%|          | 0/5000 [00:00<?, ?it/s]"
      ]
     },
     "metadata": {},
     "output_type": "display_data"
    },
    {
     "name": "stdout",
     "output_type": "stream",
     "text": [
      "Computing custom kernel...\n"
     ]
    },
    {
     "data": {
      "application/vnd.jupyter.widget-view+json": {
       "model_id": "b82ed9edb3514c3391b61fa9f48ee88c",
       "version_major": 2,
       "version_minor": 0
      },
      "text/plain": [
       "  0%|          | 0/5000 [00:00<?, ?it/s]"
      ]
     },
     "metadata": {},
     "output_type": "display_data"
    },
    {
     "name": "stdout",
     "output_type": "stream",
     "text": [
      "[CV 4/5; 8/10] END C=165.85453534934933, kernel=<bound method SVMClassifier.custom_kernel of <__main__.SVMClassifier object at 0x7f7f40656610>>;, score=0.830 total time=15.8min\n",
      "[CV 5/5; 8/10] START C=165.85453534934933, kernel=<bound method SVMClassifier.custom_kernel of <__main__.SVMClassifier object at 0x7f7f40656610>>\n",
      "Computing custom kernel...\n"
     ]
    },
    {
     "data": {
      "application/vnd.jupyter.widget-view+json": {
       "model_id": "f8c102ec05f74a41840c5d1e149941a1",
       "version_major": 2,
       "version_minor": 0
      },
      "text/plain": [
       "  0%|          | 0/5000 [00:00<?, ?it/s]"
      ]
     },
     "metadata": {},
     "output_type": "display_data"
    },
    {
     "name": "stdout",
     "output_type": "stream",
     "text": [
      "Computing custom kernel...\n"
     ]
    },
    {
     "data": {
      "application/vnd.jupyter.widget-view+json": {
       "model_id": "6701d3a8fe4a428398239e256fe2c89e",
       "version_major": 2,
       "version_minor": 0
      },
      "text/plain": [
       "  0%|          | 0/5000 [00:00<?, ?it/s]"
      ]
     },
     "metadata": {},
     "output_type": "display_data"
    },
    {
     "name": "stdout",
     "output_type": "stream",
     "text": [
      "[CV 5/5; 8/10] END C=165.85453534934933, kernel=<bound method SVMClassifier.custom_kernel of <__main__.SVMClassifier object at 0x7f7f40656610>>;, score=0.853 total time=15.9min\n",
      "[CV 1/5; 9/10] START C=703.1396744863266, kernel=<bound method SVMClassifier.custom_kernel of <__main__.SVMClassifier object at 0x7f7f40656610>>\n",
      "Computing custom kernel...\n"
     ]
    },
    {
     "data": {
      "application/vnd.jupyter.widget-view+json": {
       "model_id": "026e2b7205674ad18cc20bdbc270a2f3",
       "version_major": 2,
       "version_minor": 0
      },
      "text/plain": [
       "  0%|          | 0/5000 [00:00<?, ?it/s]"
      ]
     },
     "metadata": {},
     "output_type": "display_data"
    },
    {
     "name": "stdout",
     "output_type": "stream",
     "text": [
      "Computing custom kernel...\n"
     ]
    },
    {
     "data": {
      "application/vnd.jupyter.widget-view+json": {
       "model_id": "b4795690177a4a98b85962645e1f8a0d",
       "version_major": 2,
       "version_minor": 0
      },
      "text/plain": [
       "  0%|          | 0/5000 [00:00<?, ?it/s]"
      ]
     },
     "metadata": {},
     "output_type": "display_data"
    },
    {
     "name": "stdout",
     "output_type": "stream",
     "text": [
      "[CV 1/5; 9/10] END C=703.1396744863266, kernel=<bound method SVMClassifier.custom_kernel of <__main__.SVMClassifier object at 0x7f7f40656610>>;, score=0.823 total time=15.8min\n",
      "[CV 2/5; 9/10] START C=703.1396744863266, kernel=<bound method SVMClassifier.custom_kernel of <__main__.SVMClassifier object at 0x7f7f40656610>>\n",
      "Computing custom kernel...\n"
     ]
    },
    {
     "data": {
      "application/vnd.jupyter.widget-view+json": {
       "model_id": "257f512fdd9e47febbda9a9bda85bb93",
       "version_major": 2,
       "version_minor": 0
      },
      "text/plain": [
       "  0%|          | 0/5000 [00:00<?, ?it/s]"
      ]
     },
     "metadata": {},
     "output_type": "display_data"
    },
    {
     "name": "stdout",
     "output_type": "stream",
     "text": [
      "Computing custom kernel...\n"
     ]
    },
    {
     "data": {
      "application/vnd.jupyter.widget-view+json": {
       "model_id": "9a058117e3f543ffa97d727fb7a69a8d",
       "version_major": 2,
       "version_minor": 0
      },
      "text/plain": [
       "  0%|          | 0/5000 [00:00<?, ?it/s]"
      ]
     },
     "metadata": {},
     "output_type": "display_data"
    },
    {
     "name": "stdout",
     "output_type": "stream",
     "text": [
      "[CV 2/5; 9/10] END C=703.1396744863266, kernel=<bound method SVMClassifier.custom_kernel of <__main__.SVMClassifier object at 0x7f7f40656610>>;, score=0.851 total time=15.9min\n",
      "[CV 3/5; 9/10] START C=703.1396744863266, kernel=<bound method SVMClassifier.custom_kernel of <__main__.SVMClassifier object at 0x7f7f40656610>>\n",
      "Computing custom kernel...\n"
     ]
    },
    {
     "data": {
      "application/vnd.jupyter.widget-view+json": {
       "model_id": "d982aa77209e45a589ded63a52da5051",
       "version_major": 2,
       "version_minor": 0
      },
      "text/plain": [
       "  0%|          | 0/5000 [00:00<?, ?it/s]"
      ]
     },
     "metadata": {},
     "output_type": "display_data"
    },
    {
     "name": "stdout",
     "output_type": "stream",
     "text": [
      "Computing custom kernel...\n"
     ]
    },
    {
     "data": {
      "application/vnd.jupyter.widget-view+json": {
       "model_id": "dba6c51dfbe648d19a3aede6efcac998",
       "version_major": 2,
       "version_minor": 0
      },
      "text/plain": [
       "  0%|          | 0/5000 [00:00<?, ?it/s]"
      ]
     },
     "metadata": {},
     "output_type": "display_data"
    },
    {
     "name": "stdout",
     "output_type": "stream",
     "text": [
      "[CV 3/5; 9/10] END C=703.1396744863266, kernel=<bound method SVMClassifier.custom_kernel of <__main__.SVMClassifier object at 0x7f7f40656610>>;, score=0.836 total time=15.9min\n",
      "[CV 4/5; 9/10] START C=703.1396744863266, kernel=<bound method SVMClassifier.custom_kernel of <__main__.SVMClassifier object at 0x7f7f40656610>>\n",
      "Computing custom kernel...\n"
     ]
    },
    {
     "data": {
      "application/vnd.jupyter.widget-view+json": {
       "model_id": "27b84693662641fdbd5ea3b7d39c5719",
       "version_major": 2,
       "version_minor": 0
      },
      "text/plain": [
       "  0%|          | 0/5000 [00:00<?, ?it/s]"
      ]
     },
     "metadata": {},
     "output_type": "display_data"
    },
    {
     "name": "stdout",
     "output_type": "stream",
     "text": [
      "Computing custom kernel...\n"
     ]
    },
    {
     "data": {
      "application/vnd.jupyter.widget-view+json": {
       "model_id": "69c0a9d1243e4f82846cb17a0d77f4d7",
       "version_major": 2,
       "version_minor": 0
      },
      "text/plain": [
       "  0%|          | 0/5000 [00:00<?, ?it/s]"
      ]
     },
     "metadata": {},
     "output_type": "display_data"
    },
    {
     "name": "stdout",
     "output_type": "stream",
     "text": [
      "[CV 4/5; 9/10] END C=703.1396744863266, kernel=<bound method SVMClassifier.custom_kernel of <__main__.SVMClassifier object at 0x7f7f40656610>>;, score=0.830 total time=15.8min\n",
      "[CV 5/5; 9/10] START C=703.1396744863266, kernel=<bound method SVMClassifier.custom_kernel of <__main__.SVMClassifier object at 0x7f7f40656610>>\n",
      "Computing custom kernel...\n"
     ]
    },
    {
     "data": {
      "application/vnd.jupyter.widget-view+json": {
       "model_id": "9257e1015f954c429b66f87aa2268eb2",
       "version_major": 2,
       "version_minor": 0
      },
      "text/plain": [
       "  0%|          | 0/5000 [00:00<?, ?it/s]"
      ]
     },
     "metadata": {},
     "output_type": "display_data"
    },
    {
     "name": "stdout",
     "output_type": "stream",
     "text": [
      "Computing custom kernel...\n"
     ]
    },
    {
     "data": {
      "application/vnd.jupyter.widget-view+json": {
       "model_id": "41e47fcbb56c483c9045e33f552cc606",
       "version_major": 2,
       "version_minor": 0
      },
      "text/plain": [
       "  0%|          | 0/5000 [00:00<?, ?it/s]"
      ]
     },
     "metadata": {},
     "output_type": "display_data"
    },
    {
     "name": "stdout",
     "output_type": "stream",
     "text": [
      "[CV 5/5; 9/10] END C=703.1396744863266, kernel=<bound method SVMClassifier.custom_kernel of <__main__.SVMClassifier object at 0x7f7f40656610>>;, score=0.853 total time=16.6min\n",
      "[CV 1/5; 10/10] START C=2980.957987041727, kernel=<bound method SVMClassifier.custom_kernel of <__main__.SVMClassifier object at 0x7f7f40656610>>\n",
      "Computing custom kernel...\n"
     ]
    },
    {
     "data": {
      "application/vnd.jupyter.widget-view+json": {
       "model_id": "503dd0580b174b039d838e9dd480cac8",
       "version_major": 2,
       "version_minor": 0
      },
      "text/plain": [
       "  0%|          | 0/5000 [00:00<?, ?it/s]"
      ]
     },
     "metadata": {},
     "output_type": "display_data"
    },
    {
     "name": "stdout",
     "output_type": "stream",
     "text": [
      "Computing custom kernel...\n"
     ]
    },
    {
     "data": {
      "application/vnd.jupyter.widget-view+json": {
       "model_id": "f609e65c5c7348a4936dd2951354bc44",
       "version_major": 2,
       "version_minor": 0
      },
      "text/plain": [
       "  0%|          | 0/5000 [00:00<?, ?it/s]"
      ]
     },
     "metadata": {},
     "output_type": "display_data"
    },
    {
     "name": "stdout",
     "output_type": "stream",
     "text": [
      "[CV 1/5; 10/10] END C=2980.957987041727, kernel=<bound method SVMClassifier.custom_kernel of <__main__.SVMClassifier object at 0x7f7f40656610>>;, score=0.823 total time=17.0min\n",
      "[CV 2/5; 10/10] START C=2980.957987041727, kernel=<bound method SVMClassifier.custom_kernel of <__main__.SVMClassifier object at 0x7f7f40656610>>\n",
      "Computing custom kernel...\n"
     ]
    },
    {
     "data": {
      "application/vnd.jupyter.widget-view+json": {
       "model_id": "4962b7b91d6545b6a4d401576964d2c6",
       "version_major": 2,
       "version_minor": 0
      },
      "text/plain": [
       "  0%|          | 0/5000 [00:00<?, ?it/s]"
      ]
     },
     "metadata": {},
     "output_type": "display_data"
    },
    {
     "name": "stdout",
     "output_type": "stream",
     "text": [
      "Computing custom kernel...\n"
     ]
    },
    {
     "data": {
      "application/vnd.jupyter.widget-view+json": {
       "model_id": "8e3562fc930c45ebb5825d09af1c34dc",
       "version_major": 2,
       "version_minor": 0
      },
      "text/plain": [
       "  0%|          | 0/5000 [00:00<?, ?it/s]"
      ]
     },
     "metadata": {},
     "output_type": "display_data"
    },
    {
     "name": "stdout",
     "output_type": "stream",
     "text": [
      "[CV 2/5; 10/10] END C=2980.957987041727, kernel=<bound method SVMClassifier.custom_kernel of <__main__.SVMClassifier object at 0x7f7f40656610>>;, score=0.851 total time=17.0min\n",
      "[CV 3/5; 10/10] START C=2980.957987041727, kernel=<bound method SVMClassifier.custom_kernel of <__main__.SVMClassifier object at 0x7f7f40656610>>\n",
      "Computing custom kernel...\n"
     ]
    },
    {
     "data": {
      "application/vnd.jupyter.widget-view+json": {
       "model_id": "a1772fcfa7d740e6bfb9ba6489377dff",
       "version_major": 2,
       "version_minor": 0
      },
      "text/plain": [
       "  0%|          | 0/5000 [00:00<?, ?it/s]"
      ]
     },
     "metadata": {},
     "output_type": "display_data"
    },
    {
     "name": "stdout",
     "output_type": "stream",
     "text": [
      "Computing custom kernel...\n"
     ]
    },
    {
     "data": {
      "application/vnd.jupyter.widget-view+json": {
       "model_id": "9e5597d539bd47e994e81bfb0242f8b3",
       "version_major": 2,
       "version_minor": 0
      },
      "text/plain": [
       "  0%|          | 0/5000 [00:00<?, ?it/s]"
      ]
     },
     "metadata": {},
     "output_type": "display_data"
    },
    {
     "name": "stdout",
     "output_type": "stream",
     "text": [
      "[CV 3/5; 10/10] END C=2980.957987041727, kernel=<bound method SVMClassifier.custom_kernel of <__main__.SVMClassifier object at 0x7f7f40656610>>;, score=0.836 total time=17.1min\n",
      "[CV 4/5; 10/10] START C=2980.957987041727, kernel=<bound method SVMClassifier.custom_kernel of <__main__.SVMClassifier object at 0x7f7f40656610>>\n",
      "Computing custom kernel...\n"
     ]
    },
    {
     "data": {
      "application/vnd.jupyter.widget-view+json": {
       "model_id": "32a73952264940aab68b9c193f6b1d18",
       "version_major": 2,
       "version_minor": 0
      },
      "text/plain": [
       "  0%|          | 0/5000 [00:00<?, ?it/s]"
      ]
     },
     "metadata": {},
     "output_type": "display_data"
    },
    {
     "name": "stdout",
     "output_type": "stream",
     "text": [
      "Computing custom kernel...\n"
     ]
    },
    {
     "data": {
      "application/vnd.jupyter.widget-view+json": {
       "model_id": "5b1a9b76e76247d28d9a66a4e00a52dc",
       "version_major": 2,
       "version_minor": 0
      },
      "text/plain": [
       "  0%|          | 0/5000 [00:00<?, ?it/s]"
      ]
     },
     "metadata": {},
     "output_type": "display_data"
    },
    {
     "name": "stdout",
     "output_type": "stream",
     "text": [
      "[CV 4/5; 10/10] END C=2980.957987041727, kernel=<bound method SVMClassifier.custom_kernel of <__main__.SVMClassifier object at 0x7f7f40656610>>;, score=0.830 total time=17.2min\n",
      "[CV 5/5; 10/10] START C=2980.957987041727, kernel=<bound method SVMClassifier.custom_kernel of <__main__.SVMClassifier object at 0x7f7f40656610>>\n",
      "Computing custom kernel...\n"
     ]
    },
    {
     "data": {
      "application/vnd.jupyter.widget-view+json": {
       "model_id": "48ce846ebc4944be914fc06acaf718f7",
       "version_major": 2,
       "version_minor": 0
      },
      "text/plain": [
       "  0%|          | 0/5000 [00:00<?, ?it/s]"
      ]
     },
     "metadata": {},
     "output_type": "display_data"
    },
    {
     "name": "stdout",
     "output_type": "stream",
     "text": [
      "Computing custom kernel...\n"
     ]
    },
    {
     "data": {
      "application/vnd.jupyter.widget-view+json": {
       "model_id": "c2249b7efe914eccaa24b5b48aec15a6",
       "version_major": 2,
       "version_minor": 0
      },
      "text/plain": [
       "  0%|          | 0/5000 [00:00<?, ?it/s]"
      ]
     },
     "metadata": {},
     "output_type": "display_data"
    },
    {
     "name": "stdout",
     "output_type": "stream",
     "text": [
      "[CV 5/5; 10/10] END C=2980.957987041727, kernel=<bound method SVMClassifier.custom_kernel of <__main__.SVMClassifier object at 0x7f7f40656610>>;, score=0.853 total time=17.0min\n",
      "Computing custom kernel...\n"
     ]
    },
    {
     "data": {
      "application/vnd.jupyter.widget-view+json": {
       "model_id": "f001a051d5ab427fbd42d70ed795f749",
       "version_major": 2,
       "version_minor": 0
      },
      "text/plain": [
       "  0%|          | 0/5000 [00:00<?, ?it/s]"
      ]
     },
     "metadata": {},
     "output_type": "display_data"
    },
    {
     "name": "stdout",
     "output_type": "stream",
     "text": [
      "{'C': 0.028565500784550384, 'kernel': <bound method SVMClassifier.custom_kernel of <__main__.SVMClassifier object at 0x7f7f40656610>>}\n",
      "SVC(C=0.028565500784550384,\n",
      "    kernel=<bound method SVMClassifier.custom_kernel of <__main__.SVMClassifier object at 0x7f7f44ea81d0>>)\n",
      "0.8526\n"
     ]
    }
   ],
   "source": [
    "# self testing code - remove before submission\n",
    "# Custom kernel - Splines\n",
    "\n",
    "from sklearn.metrics import classification_report\n",
    "\n",
    "custom_perf = []\n",
    "custom_rpt = []\n",
    "\n",
    "# Hyperparameter grid search with cross-validation\n",
    "custom_sc = SVMClassifier(kernel='custom')\n",
    "custom_kernel = custom_sc.custom_kernel\n",
    "\n",
    "C_rng = np.logspace(-5,8,10,base=math.e)\n",
    "params_grid = {'kernel': [custom_kernel],\n",
    "               'C': C_rng}\n",
    "\n",
    "custom_svc = svm.SVC()\n",
    "custom_search = GridSearchCV(custom_svc, params_grid, cv=5, verbose=10, scoring='accuracy')\n",
    "custom_X_train = custom_sc.vectorizer.fit_transform(X_train)\n",
    "custom_search.fit(custom_X_train, Y_train)\n",
    "print(custom_search.best_params_)\n",
    "print(custom_search.best_estimator_)\n",
    "print(custom_search.best_score_)"
   ]
  },
  {
   "cell_type": "code",
   "execution_count": 418,
   "id": "dde533a7",
   "metadata": {},
   "outputs": [
    {
     "data": {
      "image/png": "[encoded data removed]",
      "text/plain": [
       "<Figure size 432x288 with 1 Axes>"
      ]
     },
     "metadata": {},
     "output_type": "display_data"
    }
   ],
   "source": [
    "custom_df = pd.DataFrame.from_dict(custom_search.cv_results_)\n",
    "custom_params = [np.log(np.array(custom_df.param_C, dtype='float'))]\n",
    "plot_cv_results(custom_df, 'ln(C)', custom_params)"
   ]
  },
  {
   "cell_type": "code",
   "execution_count": 466,
   "id": "8983ef5d",
   "metadata": {},
   "outputs": [
    {
     "name": "stdout",
     "output_type": "stream",
     "text": [
      "Computing custom kernel...\n"
     ]
    },
    {
     "data": {
      "application/vnd.jupyter.widget-view+json": {
       "model_id": "135a9909919f4d44879bafd9054724ca",
       "version_major": 2,
       "version_minor": 0
      },
      "text/plain": [
       "  0%|          | 0/5000 [00:00<?, ?it/s]"
      ]
     },
     "metadata": {},
     "output_type": "display_data"
    },
    {
     "name": "stdout",
     "output_type": "stream",
     "text": [
      "Computing custom kernel...\n"
     ]
    },
    {
     "data": {
      "application/vnd.jupyter.widget-view+json": {
       "model_id": "c28f2c28329549988a0850f2a9340a99",
       "version_major": 2,
       "version_minor": 0
      },
      "text/plain": [
       "  0%|          | 0/5000 [00:00<?, ?it/s]"
      ]
     },
     "metadata": {},
     "output_type": "display_data"
    },
    {
     "name": "stdout",
     "output_type": "stream",
     "text": [
      "              precision    recall  f1-score   support\n",
      "\n",
      "    negative       0.87      0.82      0.85       731\n",
      "    positive       0.84      0.89      0.86       769\n",
      "\n",
      "    accuracy                           0.86      1500\n",
      "   macro avg       0.86      0.85      0.85      1500\n",
      "weighted avg       0.86      0.86      0.86      1500\n",
      "\n"
     ]
    }
   ],
   "source": [
    "# plug in the best parameter found to test accuracy for test set\n",
    "\n",
    "custom_sc = SVMClassifier(kernel='custom', C=0.0285655)\n",
    "custom_sc.fit(X_train, Y_train)\n",
    "custom_pred = custom_sc.predict(X_test)\n",
    "print(classification_report(Y_test, custom_pred))"
   ]
  },
  {
   "cell_type": "code",
   "execution_count": 11,
   "id": "113acc3d",
   "metadata": {},
   "outputs": [
    {
     "name": "stdout",
     "output_type": "stream",
     "text": [
      "Creating vocab dictionary...\n"
     ]
    },
    {
     "data": {
      "application/vnd.jupyter.widget-view+json": {
       "model_id": "318e0bf39bad4077bc95a1c20b05329d",
       "version_major": 2,
       "version_minor": 0
      },
      "text/plain": [
       "  0%|          | 0/5000 [00:00<?, ?it/s]"
      ]
     },
     "metadata": {},
     "output_type": "display_data"
    },
    {
     "name": "stdout",
     "output_type": "stream",
     "text": [
      "Creating graphs...\n"
     ]
    },
    {
     "data": {
      "application/vnd.jupyter.widget-view+json": {
       "model_id": "4dad236b95274982b07257bf9b058b4d",
       "version_major": 2,
       "version_minor": 0
      },
      "text/plain": [
       "  0%|          | 0/5000 [00:00<?, ?it/s]"
      ]
     },
     "metadata": {},
     "output_type": "display_data"
    },
    {
     "data": {
      "image/png": "[encoded data removed]",
      "text/plain": [
       "<Figure size 432x288 with 1 Axes>"
      ]
     },
     "metadata": {},
     "output_type": "display_data"
    }
   ],
   "source": [
    "custom_sc.custom_kernel(X_train)\n",
    "train_nx = custom_sc.custom_graphs"
   ]
  },
  {
   "cell_type": "markdown",
   "id": "7725c5bd",
   "metadata": {},
   "source": [
    "## Linear Kernel"
   ]
  },
  {
   "cell_type": "code",
   "execution_count": 304,
   "id": "4a582715",
   "metadata": {
    "scrolled": true
   },
   "outputs": [
    {
     "name": "stdout",
     "output_type": "stream",
     "text": [
      "Fitting 5 folds for each of 20 candidates, totalling 100 fits\n",
      "[CV 1/5; 1/20] START C=0.006737946999085469, kernel=linear......................\n",
      "[CV 1/5; 1/20] END C=0.006737946999085469, kernel=linear;, score=0.506 total time=  13.1s\n",
      "[CV 2/5; 1/20] START C=0.006737946999085469, kernel=linear......................\n",
      "[CV 2/5; 1/20] END C=0.006737946999085469, kernel=linear;, score=0.506 total time=  12.6s\n",
      "[CV 3/5; 1/20] START C=0.006737946999085469, kernel=linear......................\n",
      "[CV 3/5; 1/20] END C=0.006737946999085469, kernel=linear;, score=0.506 total time=  12.1s\n",
      "[CV 4/5; 1/20] START C=0.006737946999085469, kernel=linear......................\n",
      "[CV 4/5; 1/20] END C=0.006737946999085469, kernel=linear;, score=0.507 total time=  12.5s\n",
      "[CV 5/5; 1/20] START C=0.006737946999085469, kernel=linear......................\n",
      "[CV 5/5; 1/20] END C=0.006737946999085469, kernel=linear;, score=0.507 total time=  12.3s\n",
      "[CV 1/5; 2/20] START C=0.013356001111439869, kernel=linear......................\n",
      "[CV 1/5; 2/20] END C=0.013356001111439869, kernel=linear;, score=0.506 total time=  12.5s\n",
      "[CV 2/5; 2/20] START C=0.013356001111439869, kernel=linear......................\n",
      "[CV 2/5; 2/20] END C=0.013356001111439869, kernel=linear;, score=0.506 total time=  12.5s\n",
      "[CV 3/5; 2/20] START C=0.013356001111439869, kernel=linear......................\n",
      "[CV 3/5; 2/20] END C=0.013356001111439869, kernel=linear;, score=0.506 total time=  12.1s\n",
      "[CV 4/5; 2/20] START C=0.013356001111439869, kernel=linear......................\n",
      "[CV 4/5; 2/20] END C=0.013356001111439869, kernel=linear;, score=0.507 total time=  12.7s\n",
      "[CV 5/5; 2/20] START C=0.013356001111439869, kernel=linear......................\n",
      "[CV 5/5; 2/20] END C=0.013356001111439869, kernel=linear;, score=0.507 total time=  12.2s\n",
      "[CV 1/5; 3/20] START C=0.026474349785326985, kernel=linear......................\n",
      "[CV 1/5; 3/20] END C=0.026474349785326985, kernel=linear;, score=0.506 total time=  12.1s\n",
      "[CV 2/5; 3/20] START C=0.026474349785326985, kernel=linear......................\n",
      "[CV 2/5; 3/20] END C=0.026474349785326985, kernel=linear;, score=0.506 total time=  12.5s\n",
      "[CV 3/5; 3/20] START C=0.026474349785326985, kernel=linear......................\n",
      "[CV 3/5; 3/20] END C=0.026474349785326985, kernel=linear;, score=0.506 total time=  12.1s\n",
      "[CV 4/5; 3/20] START C=0.026474349785326985, kernel=linear......................\n",
      "[CV 4/5; 3/20] END C=0.026474349785326985, kernel=linear;, score=0.507 total time=  12.2s\n",
      "[CV 5/5; 3/20] START C=0.026474349785326985, kernel=linear......................\n",
      "[CV 5/5; 3/20] END C=0.026474349785326985, kernel=linear;, score=0.507 total time=  12.3s\n",
      "[CV 1/5; 4/20] START C=0.052477623407466346, kernel=linear......................\n",
      "[CV 1/5; 4/20] END C=0.052477623407466346, kernel=linear;, score=0.526 total time=  12.1s\n",
      "[CV 2/5; 4/20] START C=0.052477623407466346, kernel=linear......................\n",
      "[CV 2/5; 4/20] END C=0.052477623407466346, kernel=linear;, score=0.527 total time=  12.2s\n",
      "[CV 3/5; 4/20] START C=0.052477623407466346, kernel=linear......................\n",
      "[CV 3/5; 4/20] END C=0.052477623407466346, kernel=linear;, score=0.536 total time=  12.0s\n",
      "[CV 4/5; 4/20] START C=0.052477623407466346, kernel=linear......................\n",
      "[CV 4/5; 4/20] END C=0.052477623407466346, kernel=linear;, score=0.524 total time=  12.4s\n",
      "[CV 5/5; 4/20] START C=0.052477623407466346, kernel=linear......................\n",
      "[CV 5/5; 4/20] END C=0.052477623407466346, kernel=linear;, score=0.530 total time=  12.5s\n",
      "[CV 1/5; 5/20] START C=0.10402147666803764, kernel=linear.......................\n",
      "[CV 1/5; 5/20] END C=0.10402147666803764, kernel=linear;, score=0.870 total time=  12.1s\n",
      "[CV 2/5; 5/20] START C=0.10402147666803764, kernel=linear.......................\n",
      "[CV 2/5; 5/20] END C=0.10402147666803764, kernel=linear;, score=0.840 total time=  12.1s\n",
      "[CV 3/5; 5/20] START C=0.10402147666803764, kernel=linear.......................\n",
      "[CV 3/5; 5/20] END C=0.10402147666803764, kernel=linear;, score=0.818 total time=  11.9s\n",
      "[CV 4/5; 5/20] START C=0.10402147666803764, kernel=linear.......................\n",
      "[CV 4/5; 5/20] END C=0.10402147666803764, kernel=linear;, score=0.852 total time=  12.2s\n",
      "[CV 5/5; 5/20] START C=0.10402147666803764, kernel=linear.......................\n",
      "[CV 5/5; 5/20] END C=0.10402147666803764, kernel=linear;, score=0.857 total time=  12.4s\n",
      "[CV 1/5; 6/20] START C=0.20619202825140895, kernel=linear.......................\n",
      "[CV 1/5; 6/20] END C=0.20619202825140895, kernel=linear;, score=0.870 total time=  11.1s\n",
      "[CV 2/5; 6/20] START C=0.20619202825140895, kernel=linear.......................\n",
      "[CV 2/5; 6/20] END C=0.20619202825140895, kernel=linear;, score=0.867 total time=  11.2s\n",
      "[CV 3/5; 6/20] START C=0.20619202825140895, kernel=linear.......................\n",
      "[CV 3/5; 6/20] END C=0.20619202825140895, kernel=linear;, score=0.824 total time=  11.1s\n",
      "[CV 4/5; 6/20] START C=0.20619202825140895, kernel=linear.......................\n",
      "[CV 4/5; 6/20] END C=0.20619202825140895, kernel=linear;, score=0.865 total time=  11.0s\n",
      "[CV 5/5; 6/20] START C=0.20619202825140895, kernel=linear.......................\n",
      "[CV 5/5; 6/20] END C=0.20619202825140895, kernel=linear;, score=0.868 total time=  11.2s\n",
      "[CV 1/5; 7/20] START C=0.40871514110598417, kernel=linear.......................\n",
      "[CV 1/5; 7/20] END C=0.40871514110598417, kernel=linear;, score=0.874 total time=  10.1s\n",
      "[CV 2/5; 7/20] START C=0.40871514110598417, kernel=linear.......................\n",
      "[CV 2/5; 7/20] END C=0.40871514110598417, kernel=linear;, score=0.873 total time=   9.6s\n",
      "[CV 3/5; 7/20] START C=0.40871514110598417, kernel=linear.......................\n",
      "[CV 3/5; 7/20] END C=0.40871514110598417, kernel=linear;, score=0.833 total time=   9.9s\n",
      "[CV 4/5; 7/20] START C=0.40871514110598417, kernel=linear.......................\n",
      "[CV 4/5; 7/20] END C=0.40871514110598417, kernel=linear;, score=0.870 total time=  10.1s\n",
      "[CV 5/5; 7/20] START C=0.40871514110598417, kernel=linear.......................\n",
      "[CV 5/5; 7/20] END C=0.40871514110598417, kernel=linear;, score=0.883 total time=   9.8s\n",
      "[CV 1/5; 8/20] START C=0.8101577349324269, kernel=linear........................\n",
      "[CV 1/5; 8/20] END C=0.8101577349324269, kernel=linear;, score=0.859 total time=   9.4s\n",
      "[CV 2/5; 8/20] START C=0.8101577349324269, kernel=linear........................\n",
      "[CV 2/5; 8/20] END C=0.8101577349324269, kernel=linear;, score=0.867 total time=   9.5s\n",
      "[CV 3/5; 8/20] START C=0.8101577349324269, kernel=linear........................\n",
      "[CV 3/5; 8/20] END C=0.8101577349324269, kernel=linear;, score=0.844 total time=   8.6s\n",
      "[CV 4/5; 8/20] START C=0.8101577349324269, kernel=linear........................\n",
      "[CV 4/5; 8/20] END C=0.8101577349324269, kernel=linear;, score=0.868 total time=   8.7s\n",
      "[CV 5/5; 8/20] START C=0.8101577349324269, kernel=linear........................\n",
      "[CV 5/5; 8/20] END C=0.8101577349324269, kernel=linear;, score=0.882 total time=   8.7s\n",
      "[CV 1/5; 9/20] START C=1.6058997806999291, kernel=linear........................\n",
      "[CV 1/5; 9/20] END C=1.6058997806999291, kernel=linear;, score=0.850 total time=  10.0s\n",
      "[CV 2/5; 9/20] START C=1.6058997806999291, kernel=linear........................\n",
      "[CV 2/5; 9/20] END C=1.6058997806999291, kernel=linear;, score=0.868 total time=  10.4s\n",
      "[CV 3/5; 9/20] START C=1.6058997806999291, kernel=linear........................\n",
      "[CV 3/5; 9/20] END C=1.6058997806999291, kernel=linear;, score=0.844 total time=  10.4s\n",
      "[CV 4/5; 9/20] START C=1.6058997806999291, kernel=linear........................\n",
      "[CV 4/5; 9/20] END C=1.6058997806999291, kernel=linear;, score=0.868 total time=   9.8s\n",
      "[CV 5/5; 9/20] START C=1.6058997806999291, kernel=linear........................\n",
      "[CV 5/5; 9/20] END C=1.6058997806999291, kernel=linear;, score=0.872 total time=  10.2s\n",
      "[CV 1/5; 10/20] START C=3.1832246912598827, kernel=linear.......................\n",
      "[CV 1/5; 10/20] END C=3.1832246912598827, kernel=linear;, score=0.852 total time=  10.0s\n",
      "[CV 2/5; 10/20] START C=3.1832246912598827, kernel=linear.......................\n",
      "[CV 2/5; 10/20] END C=3.1832246912598827, kernel=linear;, score=0.867 total time=  10.0s\n",
      "[CV 3/5; 10/20] START C=3.1832246912598827, kernel=linear.......................\n",
      "[CV 3/5; 10/20] END C=3.1832246912598827, kernel=linear;, score=0.848 total time=  10.4s\n",
      "[CV 4/5; 10/20] START C=3.1832246912598827, kernel=linear.......................\n"
     ]
    },
    {
     "name": "stdout",
     "output_type": "stream",
     "text": [
      "[CV 4/5; 10/20] END C=3.1832246912598827, kernel=linear;, score=0.870 total time=  10.2s\n",
      "[CV 5/5; 10/20] START C=3.1832246912598827, kernel=linear.......................\n",
      "[CV 5/5; 10/20] END C=3.1832246912598827, kernel=linear;, score=0.870 total time=  10.8s\n",
      "[CV 1/5; 11/20] START C=6.3098080943943815, kernel=linear.......................\n",
      "[CV 1/5; 11/20] END C=6.3098080943943815, kernel=linear;, score=0.852 total time=  10.0s\n",
      "[CV 2/5; 11/20] START C=6.3098080943943815, kernel=linear.......................\n",
      "[CV 2/5; 11/20] END C=6.3098080943943815, kernel=linear;, score=0.867 total time=  10.1s\n",
      "[CV 3/5; 11/20] START C=6.3098080943943815, kernel=linear.......................\n",
      "[CV 3/5; 11/20] END C=6.3098080943943815, kernel=linear;, score=0.847 total time=  10.4s\n",
      "[CV 4/5; 11/20] START C=6.3098080943943815, kernel=linear.......................\n",
      "[CV 4/5; 11/20] END C=6.3098080943943815, kernel=linear;, score=0.870 total time=  10.2s\n",
      "[CV 5/5; 11/20] START C=6.3098080943943815, kernel=linear.......................\n",
      "[CV 5/5; 11/20] END C=6.3098080943943815, kernel=linear;, score=0.870 total time=  11.0s\n",
      "[CV 1/5; 12/20] START C=12.507341469611143, kernel=linear.......................\n",
      "[CV 1/5; 12/20] END C=12.507341469611143, kernel=linear;, score=0.852 total time=  10.3s\n",
      "[CV 2/5; 12/20] START C=12.507341469611143, kernel=linear.......................\n",
      "[CV 2/5; 12/20] END C=12.507341469611143, kernel=linear;, score=0.867 total time=  10.1s\n",
      "[CV 3/5; 12/20] START C=12.507341469611143, kernel=linear.......................\n",
      "[CV 3/5; 12/20] END C=12.507341469611143, kernel=linear;, score=0.847 total time=  10.0s\n",
      "[CV 4/5; 12/20] START C=12.507341469611143, kernel=linear.......................\n",
      "[CV 4/5; 12/20] END C=12.507341469611143, kernel=linear;, score=0.870 total time=  10.2s\n",
      "[CV 5/5; 12/20] START C=12.507341469611143, kernel=linear.......................\n",
      "[CV 5/5; 12/20] END C=12.507341469611143, kernel=linear;, score=0.870 total time=  10.0s\n",
      "[CV 1/5; 13/20] START C=24.792131281525027, kernel=linear.......................\n",
      "[CV 1/5; 13/20] END C=24.792131281525027, kernel=linear;, score=0.852 total time=  10.1s\n",
      "[CV 2/5; 13/20] START C=24.792131281525027, kernel=linear.......................\n",
      "[CV 2/5; 13/20] END C=24.792131281525027, kernel=linear;, score=0.867 total time=  10.2s\n",
      "[CV 3/5; 13/20] START C=24.792131281525027, kernel=linear.......................\n",
      "[CV 3/5; 13/20] END C=24.792131281525027, kernel=linear;, score=0.847 total time=  10.4s\n",
      "[CV 4/5; 13/20] START C=24.792131281525027, kernel=linear.......................\n",
      "[CV 4/5; 13/20] END C=24.792131281525027, kernel=linear;, score=0.870 total time=   9.9s\n",
      "[CV 5/5; 13/20] START C=24.792131281525027, kernel=linear.......................\n",
      "[CV 5/5; 13/20] END C=24.792131281525027, kernel=linear;, score=0.870 total time=  10.2s\n",
      "[CV 1/5; 14/20] START C=49.143119261097524, kernel=linear.......................\n",
      "[CV 1/5; 14/20] END C=49.143119261097524, kernel=linear;, score=0.852 total time=  10.2s\n",
      "[CV 2/5; 14/20] START C=49.143119261097524, kernel=linear.......................\n",
      "[CV 2/5; 14/20] END C=49.143119261097524, kernel=linear;, score=0.867 total time=  10.1s\n",
      "[CV 3/5; 14/20] START C=49.143119261097524, kernel=linear.......................\n",
      "[CV 3/5; 14/20] END C=49.143119261097524, kernel=linear;, score=0.847 total time=  10.2s\n",
      "[CV 4/5; 14/20] START C=49.143119261097524, kernel=linear.......................\n",
      "[CV 4/5; 14/20] END C=49.143119261097524, kernel=linear;, score=0.870 total time=  10.4s\n",
      "[CV 5/5; 14/20] START C=49.143119261097524, kernel=linear.......................\n",
      "[CV 5/5; 14/20] END C=49.143119261097524, kernel=linear;, score=0.870 total time=   9.9s\n",
      "[CV 1/5; 15/20] START C=97.41180148195387, kernel=linear........................\n",
      "[CV 1/5; 15/20] END C=97.41180148195387, kernel=linear;, score=0.852 total time=  10.7s\n",
      "[CV 2/5; 15/20] START C=97.41180148195387, kernel=linear........................\n",
      "[CV 2/5; 15/20] END C=97.41180148195387, kernel=linear;, score=0.867 total time=  10.2s\n",
      "[CV 3/5; 15/20] START C=97.41180148195387, kernel=linear........................\n",
      "[CV 3/5; 15/20] END C=97.41180148195387, kernel=linear;, score=0.847 total time=  10.9s\n",
      "[CV 4/5; 15/20] START C=97.41180148195387, kernel=linear........................\n",
      "[CV 4/5; 15/20] END C=97.41180148195387, kernel=linear;, score=0.870 total time=  19.6s\n",
      "[CV 5/5; 15/20] START C=97.41180148195387, kernel=linear........................\n",
      "[CV 5/5; 15/20] END C=97.41180148195387, kernel=linear;, score=0.870 total time=  11.2s\n",
      "[CV 1/5; 16/20] START C=193.0902883381129, kernel=linear........................\n",
      "[CV 1/5; 16/20] END C=193.0902883381129, kernel=linear;, score=0.852 total time=  11.3s\n",
      "[CV 2/5; 16/20] START C=193.0902883381129, kernel=linear........................\n",
      "[CV 2/5; 16/20] END C=193.0902883381129, kernel=linear;, score=0.867 total time=  11.0s\n",
      "[CV 3/5; 16/20] START C=193.0902883381129, kernel=linear........................\n",
      "[CV 3/5; 16/20] END C=193.0902883381129, kernel=linear;, score=0.847 total time=  10.6s\n",
      "[CV 4/5; 16/20] START C=193.0902883381129, kernel=linear........................\n",
      "[CV 4/5; 16/20] END C=193.0902883381129, kernel=linear;, score=0.870 total time=  11.7s\n",
      "[CV 5/5; 16/20] START C=193.0902883381129, kernel=linear........................\n",
      "[CV 5/5; 16/20] END C=193.0902883381129, kernel=linear;, score=0.870 total time=  12.9s\n",
      "[CV 1/5; 17/20] START C=382.7447894740212, kernel=linear........................\n",
      "[CV 1/5; 17/20] END C=382.7447894740212, kernel=linear;, score=0.852 total time=  12.4s\n",
      "[CV 2/5; 17/20] START C=382.7447894740212, kernel=linear........................\n",
      "[CV 2/5; 17/20] END C=382.7447894740212, kernel=linear;, score=0.867 total time=  12.1s\n",
      "[CV 3/5; 17/20] START C=382.7447894740212, kernel=linear........................\n",
      "[CV 3/5; 17/20] END C=382.7447894740212, kernel=linear;, score=0.847 total time=  11.8s\n",
      "[CV 4/5; 17/20] START C=382.7447894740212, kernel=linear........................\n",
      "[CV 4/5; 17/20] END C=382.7447894740212, kernel=linear;, score=0.870 total time=  11.9s\n",
      "[CV 5/5; 17/20] START C=382.7447894740212, kernel=linear........................\n",
      "[CV 5/5; 17/20] END C=382.7447894740212, kernel=linear;, score=0.870 total time=  12.0s\n",
      "[CV 1/5; 18/20] START C=758.679139848782, kernel=linear.........................\n",
      "[CV 1/5; 18/20] END C=758.679139848782, kernel=linear;, score=0.852 total time=  12.3s\n",
      "[CV 2/5; 18/20] START C=758.679139848782, kernel=linear.........................\n",
      "[CV 2/5; 18/20] END C=758.679139848782, kernel=linear;, score=0.867 total time=  12.1s\n",
      "[CV 3/5; 18/20] START C=758.679139848782, kernel=linear.........................\n",
      "[CV 3/5; 18/20] END C=758.679139848782, kernel=linear;, score=0.847 total time=  11.8s\n",
      "[CV 4/5; 18/20] START C=758.679139848782, kernel=linear.........................\n",
      "[CV 4/5; 18/20] END C=758.679139848782, kernel=linear;, score=0.870 total time=  12.0s\n",
      "[CV 5/5; 18/20] START C=758.679139848782, kernel=linear.........................\n",
      "[CV 5/5; 18/20] END C=758.679139848782, kernel=linear;, score=0.870 total time=  11.9s\n",
      "[CV 1/5; 19/20] START C=1503.8585842871576, kernel=linear.......................\n",
      "[CV 1/5; 19/20] END C=1503.8585842871576, kernel=linear;, score=0.852 total time=  12.1s\n",
      "[CV 2/5; 19/20] START C=1503.8585842871576, kernel=linear.......................\n",
      "[CV 2/5; 19/20] END C=1503.8585842871576, kernel=linear;, score=0.867 total time=  12.0s\n",
      "[CV 3/5; 19/20] START C=1503.8585842871576, kernel=linear.......................\n",
      "[CV 3/5; 19/20] END C=1503.8585842871576, kernel=linear;, score=0.847 total time=  11.8s\n",
      "[CV 4/5; 19/20] START C=1503.8585842871576, kernel=linear.......................\n",
      "[CV 4/5; 19/20] END C=1503.8585842871576, kernel=linear;, score=0.870 total time=  12.6s\n",
      "[CV 5/5; 19/20] START C=1503.8585842871576, kernel=linear.......................\n",
      "[CV 5/5; 19/20] END C=1503.8585842871576, kernel=linear;, score=0.870 total time=  11.8s\n",
      "[CV 1/5; 20/20] START C=2980.957987041727, kernel=linear........................\n",
      "[CV 1/5; 20/20] END C=2980.957987041727, kernel=linear;, score=0.852 total time=  12.0s\n",
      "[CV 2/5; 20/20] START C=2980.957987041727, kernel=linear........................\n",
      "[CV 2/5; 20/20] END C=2980.957987041727, kernel=linear;, score=0.867 total time=  11.9s\n",
      "[CV 3/5; 20/20] START C=2980.957987041727, kernel=linear........................\n"
     ]
    },
    {
     "name": "stdout",
     "output_type": "stream",
     "text": [
      "[CV 3/5; 20/20] END C=2980.957987041727, kernel=linear;, score=0.847 total time=  11.7s\n",
      "[CV 4/5; 20/20] START C=2980.957987041727, kernel=linear........................\n",
      "[CV 4/5; 20/20] END C=2980.957987041727, kernel=linear;, score=0.870 total time=  11.8s\n",
      "[CV 5/5; 20/20] START C=2980.957987041727, kernel=linear........................\n",
      "[CV 5/5; 20/20] END C=2980.957987041727, kernel=linear;, score=0.870 total time=  11.8s\n",
      "{'C': 0.40871514110598417, 'kernel': 'linear'}\n",
      "SVC(C=0.40871514110598417, kernel='linear')\n",
      "0.8666\n"
     ]
    }
   ],
   "source": [
    "# self testing code - remove before submission\n",
    "# Hyperparameter tuning for linear kernel\n",
    "\n",
    "from sklearn.model_selection import GridSearchCV\n",
    "from sklearn.metrics import classification_report\n",
    "import math\n",
    "\n",
    "linear_perf = []\n",
    "linear_rpt = []\n",
    "\n",
    "C_rng = np.logspace(-5,8,20,base=math.e)\n",
    "\n",
    "# Hyperparameter grid search with cross-validation\n",
    "\n",
    "params_grid = {'kernel': ['linear'],\n",
    "               'C': C_rng}\n",
    "\n",
    "svc = svm.SVC()\n",
    "linear_sc = SVMClassifier(kernel='linear')\n",
    "linear_search = GridSearchCV(svc, params_grid, cv=5, verbose=10)\n",
    "linear_X_train = linear_sc.vectorizer.fit_transform(X_train)\n",
    "linear_search.fit(linear_X_train, Y_train)\n",
    "print(linear_search.best_params_)\n",
    "print(linear_search.best_estimator_)\n",
    "print(linear_search.best_score_)"
   ]
  },
  {
   "cell_type": "code",
   "execution_count": 475,
   "id": "fc5b7299",
   "metadata": {},
   "outputs": [
    {
     "name": "stdout",
     "output_type": "stream",
     "text": [
      "              precision    recall  f1-score   support\n",
      "\n",
      "    negative       0.88      0.85      0.87       731\n",
      "    positive       0.87      0.89      0.88       769\n",
      "\n",
      "    accuracy                           0.87      1500\n",
      "   macro avg       0.87      0.87      0.87      1500\n",
      "weighted avg       0.87      0.87      0.87      1500\n",
      "\n"
     ]
    }
   ],
   "source": [
    "# plug in the best parameter found to test accuracy for test set\n",
    "#'''\n",
    "linear_sc = SVMClassifier(kernel='linear', C=0.408715)\n",
    "linear_sc.fit(X_train, Y_train)\n",
    "linear_pred = linear_sc.predict(X_test)\n",
    "print(classification_report(Y_test, linear_pred))\n",
    "#'''"
   ]
  },
  {
   "cell_type": "code",
   "execution_count": 343,
   "id": "a901daa6",
   "metadata": {},
   "outputs": [
    {
     "data": {
      "image/png": "[encoded data removed]",
      "text/plain": [
       "<Figure size 432x288 with 1 Axes>"
      ]
     },
     "metadata": {},
     "output_type": "display_data"
    }
   ],
   "source": [
    "import matplotlib.pyplot as plt\n",
    "\n",
    "def plot_cv_results(df, xlabel, params_list):\n",
    "    min_scores = [min(df.split0_test_score[i], \n",
    "                      df.split1_test_score[i], \n",
    "                      df.split2_test_score[i],\n",
    "                      df.split3_test_score[i],\n",
    "                      df.split4_test_score[i]) for i in range(len(df))]\n",
    "\n",
    "    max_scores = [max(df.split0_test_score[i], \n",
    "                      df.split1_test_score[i], \n",
    "                      df.split2_test_score[i],\n",
    "                      df.split3_test_score[i],\n",
    "                      df.split4_test_score[i]) for i in range(len(df))]\n",
    "    \n",
    "    plt.title('')\n",
    "    plt.xlabel(xlabel)\n",
    "    plt.ylabel('Score')\n",
    "    for param in params_list:\n",
    "        plt.plot(param, df.mean_test_score) \n",
    "        plt.fill_between(param, min_scores, max_scores, color='lightgrey', alpha=.5)\n",
    "    plt.show()\n",
    "\n",
    "linear_df = pd.DataFrame.from_dict(linear_search.cv_results_)\n",
    "linear_params = [np.log(np.array(linear_df.param_C, dtype='float'))]\n",
    "plot_cv_results(linear_df, 'ln(C)', linear_params)"
   ]
  },
  {
   "cell_type": "markdown",
   "id": "00eb659f",
   "metadata": {},
   "source": [
    "### Results Analysis"
   ]
  },
  {
   "cell_type": "code",
   "execution_count": 264,
   "id": "4eccbe1e",
   "metadata": {
    "scrolled": false
   },
   "outputs": [
    {
     "data": {
      "image/png": "[encoded data removed]",
      "text/plain": [
       "<Figure size 360x576 with 1 Axes>"
      ]
     },
     "metadata": {},
     "output_type": "display_data"
    }
   ],
   "source": [
    "# visualize top features (only for linear svm classifiers)\n",
    "\n",
    "from matplotlib import pyplot as plt\n",
    "from sklearn import svm\n",
    "from wordcloud import WordCloud\n",
    "\n",
    "def visualize_importances(coef, names, top_features):\n",
    "    imp = coef\n",
    "    imp,names = zip(*sorted(zip(imp,names)))\n",
    "    pos_idx = -np.sort(-np.arange(len(imp)-top_features-1, len(imp)))\n",
    "    neg_idx = -np.sort(-np.arange(0, top_features))\n",
    "    show_idx = np.hstack([pos_idx, neg_idx])\n",
    "    imp = [imp[i] for i in show_idx]\n",
    "    names = [names[i] for i in show_idx]\n",
    "    \n",
    "    colors = ['red' if c < 0 else 'green' for c in imp]\n",
    "    plt.figure(figsize=(5, 8))\n",
    "    plt.barh(range(len(names)), imp, align='center', color=colors)\n",
    "    plt.yticks(range(len(names)), names)\n",
    "    plt.show()\n",
    "\n",
    "def plot_wordcloud():\n",
    "    # Display the generated image:\n",
    "    plt.figure()\n",
    "    plt.imshow(wc, interpolation=\"bilinear\")\n",
    "    plt.axis(\"off\")\n",
    "    plt.show()\n",
    "    \n",
    "features_names = linear_sc.vectorizer.get_feature_names_out()\n",
    "visualize_importances(linear_sc.clf.coef_.toarray()[0], features_names, top_features=20)\n"
   ]
  },
  {
   "cell_type": "code",
   "execution_count": 267,
   "id": "e8210a2e",
   "metadata": {
    "scrolled": false
   },
   "outputs": [
    {
     "name": "stdout",
     "output_type": "stream",
     "text": [
      "predicted:  ['positive']\n",
      "correct prediction:  negative\n",
      "review: \n",
      "broken dark horrorfest _NEG_slasher fill plenty broken glass mirror edgy thriller writer successful radiologist lena headly inter strange world life spiral control attend father richard jenkins birthday party guest stun mirror crash floor obvious reason thing strange witness spit image drive street car identical sneak doppelganger apartment find photo father drive away involve head collision mysteriously boyfriend _NEG_exact family friend _NEG_easy trust parallel world nightmare horrific break kudo figure _NEG_easy editing _NEG_tight lighting questionable player melvil poupard michelle duncan ulrich thomsen\n",
      "['_neg_' '_neg_ability' '_neg_able' ... 'zucker' 'zue' 'zulu']\n",
      "47365\n",
      "49\n"
     ]
    }
   ],
   "source": [
    "# Analyze misclassified samples\n",
    "\n",
    "wrong_idx = [w for w in range(len(linear_pred)) if linear_pred[w] != Y_test[w]]\n",
    "inspect_idx = wrong_idx[9]\n",
    "print('predicted: ', linear_sc.predict([X_test[inspect_idx]]))\n",
    "print('correct prediction: ', Y_test[inspect_idx])\n",
    "print('review: ')\n",
    "print(X_test[inspect_idx])\n",
    "\n",
    "features_names = linear_sc.vectorizer.get_feature_names_out()\n",
    "print(features_names)\n",
    "print(len(features_names))\n",
    "print(inspect_idx)\n",
    "# get indices of X_test review words in the feature vector\n",
    "inspect_idx_list = []\n",
    "tokens = X_test[inspect_idx].split()\n",
    "for token in tokens:\n",
    "    #print(token)\n",
    "    idx = np.where(features_names==token)[0]\n",
    "    if idx.size>0:\n",
    "        #print(idx)\n",
    "        inspect_idx_list.append(*idx)\n",
    "# for i in inspect_idx_list:\n",
    "#     print(features_names[i], ' : ', linear_sc.clf.coef_.toarray()[0][i])\n",
    "# print()\n"
   ]
  },
  {
   "cell_type": "markdown",
   "id": "11daeb4b",
   "metadata": {},
   "source": [
    "## Task 1: Analysis on Linear Kernel Results"
   ]
  },
  {
   "cell_type": "code",
   "execution_count": null,
   "id": "362861cb",
   "metadata": {},
   "outputs": [],
   "source": [
    "train_file = \"movie_review_train.csv\"\n",
    "test_file = \"movie_review_test.csv\"\n",
    "\n",
    "# Read the CSV files for training and test sets\n",
    "train = pd.read_csv(train_file)\n",
    "test = pd.read_csv(test_file)\n",
    "\n",
    "wrong_idx = [w for w in range(len(linear_pred)) if linear_pred[w] != Y_test[w]]\n",
    "correct_idx = [w for w in range(len(linear_pred)) if linear_pred[w] == Y_test[w]]\n",
    "\n",
    "raw_wrong_samples = [test.review[i] for i in wrong_idx]\n",
    "raw_correct_samples = [test.review[i] for i in correct_idx]"
   ]
  },
  {
   "cell_type": "code",
   "execution_count": 270,
   "id": "9623dab4",
   "metadata": {},
   "outputs": [
    {
     "data": {
      "image/png": "[encoded data removed]",
      "text/plain": [
       "<Figure size 720x360 with 1 Axes>"
      ]
     },
     "metadata": {},
     "output_type": "display_data"
    },
    {
     "data": {
      "image/png": "[encoded data removed]",
      "text/plain": [
       "<Figure size 720x360 with 1 Axes>"
      ]
     },
     "metadata": {},
     "output_type": "display_data"
    }
   ],
   "source": [
    "# find the most common words in misclassified samples\n",
    "# map the feature value\n",
    "from nltk.tokenize import word_tokenize\n",
    "\n",
    "def sorted_count(reviews):\n",
    "    words = []\n",
    "    for review in reviews:\n",
    "        tokens = word_tokenize(review)\n",
    "        for word in tokens:\n",
    "            words.append(word)\n",
    "    unique, counts = np.unique(np.array(words), return_counts=True)\n",
    "    sorted_indices = np.argsort(counts)\n",
    "    sorted_unique = unique[sorted_indices]\n",
    "    sorted_counts = counts[sorted_indices]\n",
    "    \n",
    "    return sorted_unique, sorted_counts\n",
    "    \n",
    "fn_samples = [X_test[i] for i in wrong_idx if Y_test[i] == 'positive']\n",
    "fp_samples = [X_test[i] for i in wrong_idx if Y_test[i] == 'negative']\n",
    "\n",
    "fn_unique, fn_counts = sorted_count(fn_samples)\n",
    "fp_unique, fp_counts = sorted_count(fp_samples)\n",
    "\n",
    "plt.figure(figsize=(10, 5))\n",
    "plt.title('Most common words in false negative samples')\n",
    "plt.bar(fn_unique[-15:], fn_counts[-15:])\n",
    "plt.show()\n",
    "\n",
    "plt.figure(figsize=(10, 5))\n",
    "plt.title('Most common words in false positive samples')\n",
    "plt.bar(fp_unique[-15:], fp_counts[-15:])\n",
    "plt.show()\n"
   ]
  },
  {
   "cell_type": "code",
   "execution_count": 165,
   "id": "47197e80",
   "metadata": {},
   "outputs": [
    {
     "name": "stdout",
     "output_type": "stream",
     "text": [
      "Ave length of tokenised false negative reviews:  83.05154639175258\n",
      "Ave length of tokenised false positive reviews:  75.61855670103093\n",
      "Ave length of tokenised false negative reviews:  86.74447949526814\n",
      "Ave length of tokenised false positive reviews:  91.28125\n"
     ]
    }
   ],
   "source": [
    "# 1. Number of tokens\n",
    "def get_mean_len(X, Y, indices, sent):\n",
    "    samples = [X[i] for i in indices if Y[i] == sent]\n",
    "    samples = [nlp(review) for review in samples]\n",
    "    return sum(len(review) for review in samples) / len(samples)\n",
    "\n",
    "fn_mean_len = get_mean_len(X_test, Y_test, wrong_idx, 'positive')\n",
    "fp_mean_len = get_mean_len(X_test, Y_test, wrong_idx, 'negative')\n",
    "tn_mean_len = get_mean_len(X_test, Y_test, correct_idx, 'negative')\n",
    "tp_mean_len = get_mean_len(X_test, Y_test, correct_idx, 'positive')\n",
    "print(\"Ave length of tokenised false negative reviews: \", fn_mean_len)\n",
    "print(\"Ave length of tokenised false positive reviews: \", fp_mean_len)\n",
    "print(\"Ave length of tokenised false negative reviews: \", tn_mean_len)\n",
    "print(\"Ave length of tokenised false positive reviews: \", tp_mean_len)"
   ]
  },
  {
   "cell_type": "code",
   "execution_count": 166,
   "id": "ec7de70a",
   "metadata": {},
   "outputs": [
    {
     "name": "stdout",
     "output_type": "stream",
     "text": [
      "Ave number of punctuation in false negative reviews:  50.51546391752577\n",
      "Ave number of punctuation in false positive reviews:  45.98969072164948\n",
      "Ave number of punctuation in true negative reviews:  56.33123028391167\n",
      "Ave number of punctuation in true positive reviews:  52.822916666666664\n"
     ]
    }
   ],
   "source": [
    "count = lambda data, to_count: sum([1 for x in data if x in to_count])\n",
    "\n",
    "# 2. Number of punctuations\n",
    "def get_mean_punc(X, Y, indices, sent):\n",
    "    samples = [X[i] for i in indices if Y[i] == sent]\n",
    "    return sum(count(review, set(string.punctuation)) for review in samples) / len(samples)\n",
    "\n",
    "fn_mean_punc = get_mean_punc(test.review, Y_test, wrong_idx, 'positive')\n",
    "fp_mean_punc = get_mean_punc(test.review, Y_test, wrong_idx, 'negative')\n",
    "tn_mean_punc = get_mean_punc(test.review, Y_test, correct_idx, 'negative')\n",
    "tp_mean_punc = get_mean_punc(test.review, Y_test, correct_idx, 'positive')\n",
    "print('Ave number of punctuation in false negative reviews: ', fn_mean_punc)\n",
    "print('Ave number of punctuation in false positive reviews: ', fp_mean_punc)\n",
    "print('Ave number of punctuation in true negative reviews: ', tn_mean_punc)\n",
    "print('Ave number of punctuation in true positive reviews: ', tp_mean_punc)"
   ]
  },
  {
   "cell_type": "code",
   "execution_count": 272,
   "id": "c068f60c",
   "metadata": {},
   "outputs": [
    {
     "name": "stdout",
     "output_type": "stream",
     "text": [
      "Ave percentage of words trimmed in false negative reviews:  0.6490222086970837\n",
      "Ave percentage of words trimmed in false positive reviews:  0.6540684507160853\n",
      "Ave percentage of words trimmed in true negative reviews:  0.656992751853729\n",
      "Ave percentage of words trimmed in true positive reviews:  0.6429818487072312\n"
     ]
    }
   ],
   "source": [
    "# 3. Number of words trimmed\n",
    "def get_mean_trim(X, X_trim, Y, indices, sent):\n",
    "    samples = [X[i] for i in indices if Y[i] == sent]\n",
    "    trim_samples = [X_trim[i] for i in indices if Y[i] == sent]\n",
    "    return sum(((len(samples[i].split()) - len(trim_samples[i].split()))/len(samples[i].split())) \\\n",
    "               for i in range(len(samples))) / len(samples)\n",
    "\n",
    "fn_mean_trim = get_mean_trim(test.review, X_test, Y_test, wrong_idx, 'positive')\n",
    "fp_mean_trim = get_mean_trim(test.review, X_test, Y_test, wrong_idx, 'negative')\n",
    "tn_mean_trim = get_mean_trim(test.review, X_test, Y_test, correct_idx, 'negative')\n",
    "tp_mean_trim = get_mean_trim(test.review, X_test, Y_test, correct_idx, 'positive')\n",
    "print('Ave percentage of words trimmed in false negative reviews: ', fn_mean_trim)\n",
    "print('Ave percentage of words trimmed in false positive reviews: ', fp_mean_trim)\n",
    "print('Ave percentage of words trimmed in true negative reviews: ', tn_mean_trim)\n",
    "print('Ave percentage of words trimmed in true positive reviews: ', tp_mean_trim)"
   ]
  },
  {
   "cell_type": "code",
   "execution_count": 250,
   "id": "1b7b3924",
   "metadata": {},
   "outputs": [
    {
     "name": "stdout",
     "output_type": "stream",
     "text": [
      "Ave number of negation words in false negative reviews:  2.4948453608247423\n",
      "Ave number of negation words in false positive reviews:  2.6082474226804124\n",
      "Ave number of negation words in true negative reviews:  3.3738170347003154\n",
      "Ave number of negation words in true positive reviews:  2.53125\n"
     ]
    }
   ],
   "source": [
    "#4. Number of negation words\n",
    "def get_mean_dep(X, Y, indices, sent, dep):\n",
    "    samples = [X[i] for i in indices if Y[i] == sent]\n",
    "    count = 0\n",
    "    for i in range(len(samples)):\n",
    "        tokens = nlp(samples[i])\n",
    "        count += len([token for token in tokens if token.dep_ == dep])\n",
    "    return count/len(samples)\n",
    "\n",
    "fn_mean_neg = get_mean_dep(test.review, Y_test, wrong_idx, 'positive', 'neg')\n",
    "fp_mean_neg = get_mean_dep(test.review, Y_test, wrong_idx, 'negative', 'neg')\n",
    "tn_mean_neg = get_mean_dep(test.review, Y_test, correct_idx, 'negative', 'neg')\n",
    "tp_mean_neg = get_mean_dep(test.review, Y_test, correct_idx, 'positive', 'neg')\n",
    "print('Ave number of negation words in false negative reviews: ', fn_mean_neg)\n",
    "print('Ave number of negation words in false positive reviews: ', fp_mean_neg)\n",
    "print('Ave number of negation words in true negative reviews: ', tn_mean_neg)\n",
    "print('Ave number of negation words in true positive reviews: ', tp_mean_neg)"
   ]
  },
  {
   "cell_type": "code",
   "execution_count": 251,
   "id": "45e991a2",
   "metadata": {},
   "outputs": [
    {
     "name": "stdout",
     "output_type": "stream",
     "text": [
      "Ave number of adjectives in false negative reviews:  18.63917525773196\n",
      "Ave number of adjectives in false negative reviews:  18.15463917525773\n",
      "Ave number of adjectives in true negative reviews:  20.339116719242902\n",
      "Ave number of adjectives in true positive reviews:  21.580357142857142\n"
     ]
    }
   ],
   "source": [
    "#4. Number of adjectives\n",
    "def get_mean_pos(X, Y, indices, sent, pos):\n",
    "    samples = [X[i] for i in indices if Y[i] == sent]\n",
    "    count = 0\n",
    "    for i in range(len(samples)):\n",
    "        tokens = nlp(samples[i])\n",
    "        count += len([token for token in tokens if token.pos_ == pos])\n",
    "    return count/len(samples)\n",
    "\n",
    "fn_mean_adj = get_mean_pos(test.review, Y_test, wrong_idx, 'positive', 'ADJ')\n",
    "fp_mean_adj = get_mean_pos(test.review, Y_test, wrong_idx, 'negative', 'ADJ')\n",
    "tn_mean_adj = get_mean_pos(test.review, Y_test, correct_idx, 'negative', 'ADJ')\n",
    "tp_mean_adj = get_mean_pos(test.review, Y_test, correct_idx, 'positive', 'ADJ')\n",
    "print('Ave number of adjectives in false negative reviews: ', fn_mean_adj)\n",
    "print('Ave number of adjectives in false negative reviews: ', fp_mean_adj)\n",
    "print('Ave number of adjectives in true negative reviews: ', tn_mean_adj)\n",
    "print('Ave number of adjectives in true positive reviews: ', tp_mean_adj)"
   ]
  },
  {
   "cell_type": "code",
   "execution_count": 273,
   "id": "259d3a28",
   "metadata": {
    "scrolled": false
   },
   "outputs": [
    {
     "data": {
      "text/html": [
       "<style type=\"text/css\">\n",
       "#T_45835_row0_col0, #T_45835_row0_col1, #T_45835_row0_col3, #T_45835_row1_col4, #T_45835_row2_col2 {\n",
       "  background-color: #fff7fb;\n",
       "  color: #000000;\n",
       "}\n",
       "#T_45835_row0_col2 {\n",
       "  background-color: #ebe6f2;\n",
       "  color: #000000;\n",
       "}\n",
       "#T_45835_row0_col4 {\n",
       "  background-color: #0569a4;\n",
       "  color: #f1f1f1;\n",
       "}\n",
       "#T_45835_row1_col0 {\n",
       "  background-color: #2786bb;\n",
       "  color: #f1f1f1;\n",
       "}\n",
       "#T_45835_row1_col1, #T_45835_row1_col3, #T_45835_row3_col0, #T_45835_row3_col2, #T_45835_row3_col4 {\n",
       "  background-color: #023858;\n",
       "  color: #f1f1f1;\n",
       "}\n",
       "#T_45835_row1_col2 {\n",
       "  background-color: #f9f2f8;\n",
       "  color: #000000;\n",
       "}\n",
       "#T_45835_row2_col0 {\n",
       "  background-color: #8cb3d5;\n",
       "  color: #000000;\n",
       "}\n",
       "#T_45835_row2_col1 {\n",
       "  background-color: #e8e4f0;\n",
       "  color: #000000;\n",
       "}\n",
       "#T_45835_row2_col3 {\n",
       "  background-color: #7eadd1;\n",
       "  color: #f1f1f1;\n",
       "}\n",
       "#T_45835_row2_col4 {\n",
       "  background-color: #8fb4d6;\n",
       "  color: #000000;\n",
       "}\n",
       "#T_45835_row3_col1 {\n",
       "  background-color: #308cbe;\n",
       "  color: #f1f1f1;\n",
       "}\n",
       "#T_45835_row3_col3 {\n",
       "  background-color: #157ab5;\n",
       "  color: #f1f1f1;\n",
       "}\n",
       "</style>\n",
       "<table id=\"T_45835_\">\n",
       "  <thead>\n",
       "    <tr>\n",
       "      <th class=\"blank level0\" >&nbsp;</th>\n",
       "      <th class=\"col_heading level0 col0\" >Punctuations</th>\n",
       "      <th class=\"col_heading level0 col1\" >Adjectives</th>\n",
       "      <th class=\"col_heading level0 col2\" >Negation Words</th>\n",
       "      <th class=\"col_heading level0 col3\" >Tokens</th>\n",
       "      <th class=\"col_heading level0 col4\" >Words Trimmed</th>\n",
       "    </tr>\n",
       "  </thead>\n",
       "  <tbody>\n",
       "    <tr>\n",
       "      <th id=\"T_45835_level0_row0\" class=\"row_heading level0 row0\" >False Positive</th>\n",
       "      <td id=\"T_45835_row0_col0\" class=\"data row0 col0\" >45.989691</td>\n",
       "      <td id=\"T_45835_row0_col1\" class=\"data row0 col1\" >18.154639</td>\n",
       "      <td id=\"T_45835_row0_col2\" class=\"data row0 col2\" >2.608247</td>\n",
       "      <td id=\"T_45835_row0_col3\" class=\"data row0 col3\" >75.618557</td>\n",
       "      <td id=\"T_45835_row0_col4\" class=\"data row0 col4\" >0.654068</td>\n",
       "    </tr>\n",
       "    <tr>\n",
       "      <th id=\"T_45835_level0_row1\" class=\"row_heading level0 row1\" >True Positive</th>\n",
       "      <td id=\"T_45835_row1_col0\" class=\"data row1 col0\" >52.822917</td>\n",
       "      <td id=\"T_45835_row1_col1\" class=\"data row1 col1\" >21.580357</td>\n",
       "      <td id=\"T_45835_row1_col2\" class=\"data row1 col2\" >2.531250</td>\n",
       "      <td id=\"T_45835_row1_col3\" class=\"data row1 col3\" >91.281250</td>\n",
       "      <td id=\"T_45835_row1_col4\" class=\"data row1 col4\" >0.642982</td>\n",
       "    </tr>\n",
       "    <tr>\n",
       "      <th id=\"T_45835_level0_row2\" class=\"row_heading level0 row2\" >False Negative</th>\n",
       "      <td id=\"T_45835_row2_col0\" class=\"data row2 col0\" >50.515464</td>\n",
       "      <td id=\"T_45835_row2_col1\" class=\"data row2 col1\" >18.639175</td>\n",
       "      <td id=\"T_45835_row2_col2\" class=\"data row2 col2\" >2.494845</td>\n",
       "      <td id=\"T_45835_row2_col3\" class=\"data row2 col3\" >83.051546</td>\n",
       "      <td id=\"T_45835_row2_col4\" class=\"data row2 col4\" >0.649022</td>\n",
       "    </tr>\n",
       "    <tr>\n",
       "      <th id=\"T_45835_level0_row3\" class=\"row_heading level0 row3\" >True Negative</th>\n",
       "      <td id=\"T_45835_row3_col0\" class=\"data row3 col0\" >56.331230</td>\n",
       "      <td id=\"T_45835_row3_col1\" class=\"data row3 col1\" >20.339117</td>\n",
       "      <td id=\"T_45835_row3_col2\" class=\"data row3 col2\" >3.373817</td>\n",
       "      <td id=\"T_45835_row3_col3\" class=\"data row3 col3\" >86.744479</td>\n",
       "      <td id=\"T_45835_row3_col4\" class=\"data row3 col4\" >0.656993</td>\n",
       "    </tr>\n",
       "  </tbody>\n",
       "</table>\n"
      ],
      "text/plain": [
       "<pandas.io.formats.style.Styler at 0x7f7f85afddd0>"
      ]
     },
     "execution_count": 273,
     "metadata": {},
     "output_type": "execute_result"
    }
   ],
   "source": [
    "# Structure: FP, TP, FN, TN\n",
    "labels = ['False Positive', 'True Positive', 'False Negative', 'True Negative']\n",
    "analysis = {'Punctuations': [fp_mean_punc, tp_mean_punc, fn_mean_punc, tn_mean_punc],\n",
    "            'Adjectives': [fp_mean_adj, tp_mean_adj, fn_mean_adj, tn_mean_adj],\n",
    "            'Negation Words': [fp_mean_neg, tp_mean_neg, fn_mean_neg, tn_mean_neg],\n",
    "            'Tokens': [fp_mean_len, tp_mean_len, fn_mean_len, tn_mean_len],\n",
    "            'Words Trimmed':  [fp_mean_trim, tp_mean_trim, fn_mean_trim, tn_mean_trim]\n",
    "}\n",
    "\n",
    "analysis_df = pd.DataFrame(analysis, index=labels)\n",
    "\n",
    "analysis_df.style.background_gradient(axis=0)"
   ]
  },
  {
   "cell_type": "markdown",
   "id": "f3019c84",
   "metadata": {},
   "source": [
    "## RBF Kernel"
   ]
  },
  {
   "cell_type": "code",
   "execution_count": 331,
   "id": "acee4988",
   "metadata": {
    "scrolled": true
   },
   "outputs": [
    {
     "name": "stdout",
     "output_type": "stream",
     "text": [
      "Fitting 5 folds for each of 400 candidates, totalling 2000 fits\n",
      "[CV 1/5; 1/400] START C=0.006737946999085469, gamma=0.006737946999085469, kernel=rbf\n",
      "[CV 1/5; 1/400] END C=0.006737946999085469, gamma=0.006737946999085469, kernel=rbf;, score=0.506 total time=  13.5s\n",
      "[CV 2/5; 1/400] START C=0.006737946999085469, gamma=0.006737946999085469, kernel=rbf\n",
      "[CV 2/5; 1/400] END C=0.006737946999085469, gamma=0.006737946999085469, kernel=rbf;, score=0.506 total time=  12.2s\n",
      "[CV 3/5; 1/400] START C=0.006737946999085469, gamma=0.006737946999085469, kernel=rbf\n",
      "[CV 3/5; 1/400] END C=0.006737946999085469, gamma=0.006737946999085469, kernel=rbf;, score=0.506 total time=  12.2s\n",
      "[CV 4/5; 1/400] START C=0.006737946999085469, gamma=0.006737946999085469, kernel=rbf\n",
      "[CV 4/5; 1/400] END C=0.006737946999085469, gamma=0.006737946999085469, kernel=rbf;, score=0.507 total time=  11.8s\n",
      "[CV 5/5; 1/400] START C=0.006737946999085469, gamma=0.006737946999085469, kernel=rbf\n",
      "[CV 5/5; 1/400] END C=0.006737946999085469, gamma=0.006737946999085469, kernel=rbf;, score=0.507 total time=  12.6s\n",
      "[CV 1/5; 2/400] START C=0.006737946999085469, gamma=0.013356001111439869, kernel=rbf\n",
      "[CV 1/5; 2/400] END C=0.006737946999085469, gamma=0.013356001111439869, kernel=rbf;, score=0.506 total time=  11.7s\n",
      "[CV 2/5; 2/400] START C=0.006737946999085469, gamma=0.013356001111439869, kernel=rbf\n",
      "[CV 2/5; 2/400] END C=0.006737946999085469, gamma=0.013356001111439869, kernel=rbf;, score=0.506 total time=  11.9s\n",
      "[CV 3/5; 2/400] START C=0.006737946999085469, gamma=0.013356001111439869, kernel=rbf\n",
      "[CV 3/5; 2/400] END C=0.006737946999085469, gamma=0.013356001111439869, kernel=rbf;, score=0.506 total time=  11.6s\n",
      "[CV 4/5; 2/400] START C=0.006737946999085469, gamma=0.013356001111439869, kernel=rbf\n",
      "[CV 4/5; 2/400] END C=0.006737946999085469, gamma=0.013356001111439869, kernel=rbf;, score=0.507 total time=  11.6s\n",
      "[CV 5/5; 2/400] START C=0.006737946999085469, gamma=0.013356001111439869, kernel=rbf\n",
      "[CV 5/5; 2/400] END C=0.006737946999085469, gamma=0.013356001111439869, kernel=rbf;, score=0.507 total time=  12.4s\n",
      "[CV 1/5; 3/400] START C=0.006737946999085469, gamma=0.026474349785326985, kernel=rbf\n",
      "[CV 1/5; 3/400] END C=0.006737946999085469, gamma=0.026474349785326985, kernel=rbf;, score=0.506 total time=  12.0s\n",
      "[CV 2/5; 3/400] START C=0.006737946999085469, gamma=0.026474349785326985, kernel=rbf\n",
      "[CV 2/5; 3/400] END C=0.006737946999085469, gamma=0.026474349785326985, kernel=rbf;, score=0.506 total time=  11.9s\n",
      "[CV 3/5; 3/400] START C=0.006737946999085469, gamma=0.026474349785326985, kernel=rbf\n",
      "[CV 3/5; 3/400] END C=0.006737946999085469, gamma=0.026474349785326985, kernel=rbf;, score=0.506 total time=  12.2s\n",
      "[CV 4/5; 3/400] START C=0.006737946999085469, gamma=0.026474349785326985, kernel=rbf\n",
      "[CV 4/5; 3/400] END C=0.006737946999085469, gamma=0.026474349785326985, kernel=rbf;, score=0.507 total time=  12.3s\n",
      "[CV 5/5; 3/400] START C=0.006737946999085469, gamma=0.026474349785326985, kernel=rbf\n",
      "[CV 5/5; 3/400] END C=0.006737946999085469, gamma=0.026474349785326985, kernel=rbf;, score=0.507 total time=  11.7s\n",
      "[CV 1/5; 4/400] START C=0.006737946999085469, gamma=0.052477623407466346, kernel=rbf\n",
      "[CV 1/5; 4/400] END C=0.006737946999085469, gamma=0.052477623407466346, kernel=rbf;, score=0.506 total time=  12.1s\n",
      "[CV 2/5; 4/400] START C=0.006737946999085469, gamma=0.052477623407466346, kernel=rbf\n",
      "[CV 2/5; 4/400] END C=0.006737946999085469, gamma=0.052477623407466346, kernel=rbf;, score=0.506 total time=  12.3s\n",
      "[CV 3/5; 4/400] START C=0.006737946999085469, gamma=0.052477623407466346, kernel=rbf\n",
      "[CV 3/5; 4/400] END C=0.006737946999085469, gamma=0.052477623407466346, kernel=rbf;, score=0.506 total time=  11.7s\n",
      "[CV 4/5; 4/400] START C=0.006737946999085469, gamma=0.052477623407466346, kernel=rbf\n",
      "[CV 4/5; 4/400] END C=0.006737946999085469, gamma=0.052477623407466346, kernel=rbf;, score=0.507 total time=  11.7s\n",
      "[CV 5/5; 4/400] START C=0.006737946999085469, gamma=0.052477623407466346, kernel=rbf\n",
      "[CV 5/5; 4/400] END C=0.006737946999085469, gamma=0.052477623407466346, kernel=rbf;, score=0.507 total time=  11.5s\n",
      "[CV 1/5; 5/400] START C=0.006737946999085469, gamma=0.10402147666803764, kernel=rbf\n",
      "[CV 1/5; 5/400] END C=0.006737946999085469, gamma=0.10402147666803764, kernel=rbf;, score=0.506 total time=  12.0s\n",
      "[CV 2/5; 5/400] START C=0.006737946999085469, gamma=0.10402147666803764, kernel=rbf\n",
      "[CV 2/5; 5/400] END C=0.006737946999085469, gamma=0.10402147666803764, kernel=rbf;, score=0.506 total time=  11.6s\n",
      "[CV 3/5; 5/400] START C=0.006737946999085469, gamma=0.10402147666803764, kernel=rbf\n",
      "[CV 3/5; 5/400] END C=0.006737946999085469, gamma=0.10402147666803764, kernel=rbf;, score=0.506 total time=  11.6s\n",
      "[CV 4/5; 5/400] START C=0.006737946999085469, gamma=0.10402147666803764, kernel=rbf\n",
      "[CV 4/5; 5/400] END C=0.006737946999085469, gamma=0.10402147666803764, kernel=rbf;, score=0.507 total time=  11.6s\n",
      "[CV 5/5; 5/400] START C=0.006737946999085469, gamma=0.10402147666803764, kernel=rbf\n",
      "[CV 5/5; 5/400] END C=0.006737946999085469, gamma=0.10402147666803764, kernel=rbf;, score=0.507 total time=  11.4s\n",
      "[CV 1/5; 6/400] START C=0.006737946999085469, gamma=0.20619202825140895, kernel=rbf\n",
      "[CV 1/5; 6/400] END C=0.006737946999085469, gamma=0.20619202825140895, kernel=rbf;, score=0.506 total time=  11.4s\n",
      "[CV 2/5; 6/400] START C=0.006737946999085469, gamma=0.20619202825140895, kernel=rbf\n",
      "[CV 2/5; 6/400] END C=0.006737946999085469, gamma=0.20619202825140895, kernel=rbf;, score=0.506 total time=  12.0s\n",
      "[CV 3/5; 6/400] START C=0.006737946999085469, gamma=0.20619202825140895, kernel=rbf\n",
      "[CV 3/5; 6/400] END C=0.006737946999085469, gamma=0.20619202825140895, kernel=rbf;, score=0.506 total time=  12.0s\n",
      "[CV 4/5; 6/400] START C=0.006737946999085469, gamma=0.20619202825140895, kernel=rbf\n",
      "[CV 4/5; 6/400] END C=0.006737946999085469, gamma=0.20619202825140895, kernel=rbf;, score=0.507 total time=  11.8s\n",
      "[CV 5/5; 6/400] START C=0.006737946999085469, gamma=0.20619202825140895, kernel=rbf\n",
      "[CV 5/5; 6/400] END C=0.006737946999085469, gamma=0.20619202825140895, kernel=rbf;, score=0.507 total time=  11.4s\n",
      "[CV 1/5; 7/400] START C=0.006737946999085469, gamma=0.40871514110598417, kernel=rbf\n",
      "[CV 1/5; 7/400] END C=0.006737946999085469, gamma=0.40871514110598417, kernel=rbf;, score=0.506 total time=  11.5s\n",
      "[CV 2/5; 7/400] START C=0.006737946999085469, gamma=0.40871514110598417, kernel=rbf\n",
      "[CV 2/5; 7/400] END C=0.006737946999085469, gamma=0.40871514110598417, kernel=rbf;, score=0.506 total time=  11.7s\n",
      "[CV 3/5; 7/400] START C=0.006737946999085469, gamma=0.40871514110598417, kernel=rbf\n",
      "[CV 3/5; 7/400] END C=0.006737946999085469, gamma=0.40871514110598417, kernel=rbf;, score=0.506 total time=  11.6s\n",
      "[CV 4/5; 7/400] START C=0.006737946999085469, gamma=0.40871514110598417, kernel=rbf\n",
      "[CV 4/5; 7/400] END C=0.006737946999085469, gamma=0.40871514110598417, kernel=rbf;, score=0.507 total time=  11.4s\n",
      "[CV 5/5; 7/400] START C=0.006737946999085469, gamma=0.40871514110598417, kernel=rbf\n",
      "[CV 5/5; 7/400] END C=0.006737946999085469, gamma=0.40871514110598417, kernel=rbf;, score=0.507 total time=  11.4s\n",
      "[CV 1/5; 8/400] START C=0.006737946999085469, gamma=0.8101577349324269, kernel=rbf\n",
      "[CV 1/5; 8/400] END C=0.006737946999085469, gamma=0.8101577349324269, kernel=rbf;, score=0.506 total time=  11.3s\n",
      "[CV 2/5; 8/400] START C=0.006737946999085469, gamma=0.8101577349324269, kernel=rbf\n",
      "[CV 2/5; 8/400] END C=0.006737946999085469, gamma=0.8101577349324269, kernel=rbf;, score=0.506 total time=  11.6s\n",
      "[CV 3/5; 8/400] START C=0.006737946999085469, gamma=0.8101577349324269, kernel=rbf\n",
      "[CV 3/5; 8/400] END C=0.006737946999085469, gamma=0.8101577349324269, kernel=rbf;, score=0.506 total time=  11.4s\n",
      "[CV 4/5; 8/400] START C=0.006737946999085469, gamma=0.8101577349324269, kernel=rbf\n",
      "[CV 4/5; 8/400] END C=0.006737946999085469, gamma=0.8101577349324269, kernel=rbf;, score=0.507 total time=  11.5s\n",
      "[CV 5/5; 8/400] START C=0.006737946999085469, gamma=0.8101577349324269, kernel=rbf\n",
      "[CV 5/5; 8/400] END C=0.006737946999085469, gamma=0.8101577349324269, kernel=rbf;, score=0.507 total time=  11.5s\n",
      "[CV 1/5; 9/400] START C=0.006737946999085469, gamma=1.6058997806999291, kernel=rbf\n",
      "[CV 1/5; 9/400] END C=0.006737946999085469, gamma=1.6058997806999291, kernel=rbf;, score=0.506 total time=  11.5s\n",
      "[CV 2/5; 9/400] START C=0.006737946999085469, gamma=1.6058997806999291, kernel=rbf\n"
     ]
    },
    {
     "name": "stdout",
     "output_type": "stream",
     "text": [
      "[CV 2/5; 9/400] END C=0.006737946999085469, gamma=1.6058997806999291, kernel=rbf;, score=0.506 total time=  11.5s\n",
      "[CV 3/5; 9/400] START C=0.006737946999085469, gamma=1.6058997806999291, kernel=rbf\n",
      "[CV 3/5; 9/400] END C=0.006737946999085469, gamma=1.6058997806999291, kernel=rbf;, score=0.506 total time=  11.4s\n",
      "[CV 4/5; 9/400] START C=0.006737946999085469, gamma=1.6058997806999291, kernel=rbf\n",
      "[CV 4/5; 9/400] END C=0.006737946999085469, gamma=1.6058997806999291, kernel=rbf;, score=0.507 total time=  11.6s\n",
      "[CV 5/5; 9/400] START C=0.006737946999085469, gamma=1.6058997806999291, kernel=rbf\n",
      "[CV 5/5; 9/400] END C=0.006737946999085469, gamma=1.6058997806999291, kernel=rbf;, score=0.507 total time=  11.4s\n",
      "[CV 1/5; 10/400] START C=0.006737946999085469, gamma=3.1832246912598827, kernel=rbf\n",
      "[CV 1/5; 10/400] END C=0.006737946999085469, gamma=3.1832246912598827, kernel=rbf;, score=0.506 total time=  11.4s\n",
      "[CV 2/5; 10/400] START C=0.006737946999085469, gamma=3.1832246912598827, kernel=rbf\n",
      "[CV 2/5; 10/400] END C=0.006737946999085469, gamma=3.1832246912598827, kernel=rbf;, score=0.506 total time=  12.6s\n",
      "[CV 3/5; 10/400] START C=0.006737946999085469, gamma=3.1832246912598827, kernel=rbf\n",
      "[CV 3/5; 10/400] END C=0.006737946999085469, gamma=3.1832246912598827, kernel=rbf;, score=0.506 total time=  12.6s\n",
      "[CV 4/5; 10/400] START C=0.006737946999085469, gamma=3.1832246912598827, kernel=rbf\n",
      "[CV 4/5; 10/400] END C=0.006737946999085469, gamma=3.1832246912598827, kernel=rbf;, score=0.507 total time=  12.1s\n",
      "[CV 5/5; 10/400] START C=0.006737946999085469, gamma=3.1832246912598827, kernel=rbf\n",
      "[CV 5/5; 10/400] END C=0.006737946999085469, gamma=3.1832246912598827, kernel=rbf;, score=0.507 total time=  13.1s\n",
      "[CV 1/5; 11/400] START C=0.006737946999085469, gamma=6.3098080943943815, kernel=rbf\n",
      "[CV 1/5; 11/400] END C=0.006737946999085469, gamma=6.3098080943943815, kernel=rbf;, score=0.506 total time=  11.7s\n",
      "[CV 2/5; 11/400] START C=0.006737946999085469, gamma=6.3098080943943815, kernel=rbf\n",
      "[CV 2/5; 11/400] END C=0.006737946999085469, gamma=6.3098080943943815, kernel=rbf;, score=0.506 total time=  11.6s\n",
      "[CV 3/5; 11/400] START C=0.006737946999085469, gamma=6.3098080943943815, kernel=rbf\n",
      "[CV 3/5; 11/400] END C=0.006737946999085469, gamma=6.3098080943943815, kernel=rbf;, score=0.506 total time=  12.1s\n",
      "[CV 4/5; 11/400] START C=0.006737946999085469, gamma=6.3098080943943815, kernel=rbf\n",
      "[CV 4/5; 11/400] END C=0.006737946999085469, gamma=6.3098080943943815, kernel=rbf;, score=0.507 total time=  12.1s\n",
      "[CV 5/5; 11/400] START C=0.006737946999085469, gamma=6.3098080943943815, kernel=rbf\n",
      "[CV 5/5; 11/400] END C=0.006737946999085469, gamma=6.3098080943943815, kernel=rbf;, score=0.507 total time=  11.9s\n",
      "[CV 1/5; 12/400] START C=0.006737946999085469, gamma=12.507341469611143, kernel=rbf\n",
      "[CV 1/5; 12/400] END C=0.006737946999085469, gamma=12.507341469611143, kernel=rbf;, score=0.506 total time=  11.5s\n",
      "[CV 2/5; 12/400] START C=0.006737946999085469, gamma=12.507341469611143, kernel=rbf\n",
      "[CV 2/5; 12/400] END C=0.006737946999085469, gamma=12.507341469611143, kernel=rbf;, score=0.506 total time=  11.7s\n",
      "[CV 3/5; 12/400] START C=0.006737946999085469, gamma=12.507341469611143, kernel=rbf\n",
      "[CV 3/5; 12/400] END C=0.006737946999085469, gamma=12.507341469611143, kernel=rbf;, score=0.506 total time=  11.8s\n",
      "[CV 4/5; 12/400] START C=0.006737946999085469, gamma=12.507341469611143, kernel=rbf\n",
      "[CV 4/5; 12/400] END C=0.006737946999085469, gamma=12.507341469611143, kernel=rbf;, score=0.507 total time=  11.7s\n",
      "[CV 5/5; 12/400] START C=0.006737946999085469, gamma=12.507341469611143, kernel=rbf\n",
      "[CV 5/5; 12/400] END C=0.006737946999085469, gamma=12.507341469611143, kernel=rbf;, score=0.507 total time=  11.4s\n",
      "[CV 1/5; 13/400] START C=0.006737946999085469, gamma=24.792131281525027, kernel=rbf\n",
      "[CV 1/5; 13/400] END C=0.006737946999085469, gamma=24.792131281525027, kernel=rbf;, score=0.506 total time=  11.4s\n",
      "[CV 2/5; 13/400] START C=0.006737946999085469, gamma=24.792131281525027, kernel=rbf\n",
      "[CV 2/5; 13/400] END C=0.006737946999085469, gamma=24.792131281525027, kernel=rbf;, score=0.506 total time=  11.5s\n",
      "[CV 3/5; 13/400] START C=0.006737946999085469, gamma=24.792131281525027, kernel=rbf\n",
      "[CV 3/5; 13/400] END C=0.006737946999085469, gamma=24.792131281525027, kernel=rbf;, score=0.506 total time=  12.3s\n",
      "[CV 4/5; 13/400] START C=0.006737946999085469, gamma=24.792131281525027, kernel=rbf\n",
      "[CV 4/5; 13/400] END C=0.006737946999085469, gamma=24.792131281525027, kernel=rbf;, score=0.507 total time=  11.6s\n",
      "[CV 5/5; 13/400] START C=0.006737946999085469, gamma=24.792131281525027, kernel=rbf\n",
      "[CV 5/5; 13/400] END C=0.006737946999085469, gamma=24.792131281525027, kernel=rbf;, score=0.507 total time=  11.5s\n",
      "[CV 1/5; 14/400] START C=0.006737946999085469, gamma=49.143119261097524, kernel=rbf\n",
      "[CV 1/5; 14/400] END C=0.006737946999085469, gamma=49.143119261097524, kernel=rbf;, score=0.506 total time=  11.5s\n",
      "[CV 2/5; 14/400] START C=0.006737946999085469, gamma=49.143119261097524, kernel=rbf\n",
      "[CV 2/5; 14/400] END C=0.006737946999085469, gamma=49.143119261097524, kernel=rbf;, score=0.506 total time=  11.5s\n",
      "[CV 3/5; 14/400] START C=0.006737946999085469, gamma=49.143119261097524, kernel=rbf\n",
      "[CV 3/5; 14/400] END C=0.006737946999085469, gamma=49.143119261097524, kernel=rbf;, score=0.506 total time=  11.5s\n",
      "[CV 4/5; 14/400] START C=0.006737946999085469, gamma=49.143119261097524, kernel=rbf\n",
      "[CV 4/5; 14/400] END C=0.006737946999085469, gamma=49.143119261097524, kernel=rbf;, score=0.507 total time=  11.7s\n",
      "[CV 5/5; 14/400] START C=0.006737946999085469, gamma=49.143119261097524, kernel=rbf\n",
      "[CV 5/5; 14/400] END C=0.006737946999085469, gamma=49.143119261097524, kernel=rbf;, score=0.507 total time=  11.4s\n",
      "[CV 1/5; 15/400] START C=0.006737946999085469, gamma=97.41180148195387, kernel=rbf\n",
      "[CV 1/5; 15/400] END C=0.006737946999085469, gamma=97.41180148195387, kernel=rbf;, score=0.506 total time=  11.5s\n",
      "[CV 2/5; 15/400] START C=0.006737946999085469, gamma=97.41180148195387, kernel=rbf\n",
      "[CV 2/5; 15/400] END C=0.006737946999085469, gamma=97.41180148195387, kernel=rbf;, score=0.506 total time=  11.7s\n",
      "[CV 3/5; 15/400] START C=0.006737946999085469, gamma=97.41180148195387, kernel=rbf\n",
      "[CV 3/5; 15/400] END C=0.006737946999085469, gamma=97.41180148195387, kernel=rbf;, score=0.506 total time=  11.9s\n",
      "[CV 4/5; 15/400] START C=0.006737946999085469, gamma=97.41180148195387, kernel=rbf\n",
      "[CV 4/5; 15/400] END C=0.006737946999085469, gamma=97.41180148195387, kernel=rbf;, score=0.507 total time=  11.6s\n",
      "[CV 5/5; 15/400] START C=0.006737946999085469, gamma=97.41180148195387, kernel=rbf\n",
      "[CV 5/5; 15/400] END C=0.006737946999085469, gamma=97.41180148195387, kernel=rbf;, score=0.507 total time=  11.9s\n",
      "[CV 1/5; 16/400] START C=0.006737946999085469, gamma=193.0902883381129, kernel=rbf\n",
      "[CV 1/5; 16/400] END C=0.006737946999085469, gamma=193.0902883381129, kernel=rbf;, score=0.506 total time=  11.8s\n",
      "[CV 2/5; 16/400] START C=0.006737946999085469, gamma=193.0902883381129, kernel=rbf\n",
      "[CV 2/5; 16/400] END C=0.006737946999085469, gamma=193.0902883381129, kernel=rbf;, score=0.506 total time=  12.1s\n",
      "[CV 3/5; 16/400] START C=0.006737946999085469, gamma=193.0902883381129, kernel=rbf\n",
      "[CV 3/5; 16/400] END C=0.006737946999085469, gamma=193.0902883381129, kernel=rbf;, score=0.506 total time=  11.9s\n",
      "[CV 4/5; 16/400] START C=0.006737946999085469, gamma=193.0902883381129, kernel=rbf\n",
      "[CV 4/5; 16/400] END C=0.006737946999085469, gamma=193.0902883381129, kernel=rbf;, score=0.507 total time=  13.4s\n",
      "[CV 5/5; 16/400] START C=0.006737946999085469, gamma=193.0902883381129, kernel=rbf\n",
      "[CV 5/5; 16/400] END C=0.006737946999085469, gamma=193.0902883381129, kernel=rbf;, score=0.507 total time=  19.3s\n",
      "[CV 1/5; 17/400] START C=0.006737946999085469, gamma=382.7447894740212, kernel=rbf\n",
      "[CV 1/5; 17/400] END C=0.006737946999085469, gamma=382.7447894740212, kernel=rbf;, score=0.506 total time=  16.8s\n",
      "[CV 2/5; 17/400] START C=0.006737946999085469, gamma=382.7447894740212, kernel=rbf\n",
      "[CV 2/5; 17/400] END C=0.006737946999085469, gamma=382.7447894740212, kernel=rbf;, score=0.506 total time=  19.5s\n",
      "[CV 3/5; 17/400] START C=0.006737946999085469, gamma=382.7447894740212, kernel=rbf\n",
      "[CV 3/5; 17/400] END C=0.006737946999085469, gamma=382.7447894740212, kernel=rbf;, score=0.506 total time=  13.7s\n",
      "[CV 4/5; 17/400] START C=0.006737946999085469, gamma=382.7447894740212, kernel=rbf\n"
     ]
    },
    {
     "name": "stdout",
     "output_type": "stream",
     "text": [
      "[CV 4/5; 17/400] END C=0.006737946999085469, gamma=382.7447894740212, kernel=rbf;, score=0.507 total time=  13.3s\n",
      "[CV 5/5; 17/400] START C=0.006737946999085469, gamma=382.7447894740212, kernel=rbf\n",
      "[CV 5/5; 17/400] END C=0.006737946999085469, gamma=382.7447894740212, kernel=rbf;, score=0.507 total time=  12.7s\n",
      "[CV 1/5; 18/400] START C=0.006737946999085469, gamma=758.679139848782, kernel=rbf\n",
      "[CV 1/5; 18/400] END C=0.006737946999085469, gamma=758.679139848782, kernel=rbf;, score=0.506 total time=  12.0s\n",
      "[CV 2/5; 18/400] START C=0.006737946999085469, gamma=758.679139848782, kernel=rbf\n",
      "[CV 2/5; 18/400] END C=0.006737946999085469, gamma=758.679139848782, kernel=rbf;, score=0.506 total time=  13.1s\n",
      "[CV 3/5; 18/400] START C=0.006737946999085469, gamma=758.679139848782, kernel=rbf\n",
      "[CV 3/5; 18/400] END C=0.006737946999085469, gamma=758.679139848782, kernel=rbf;, score=0.506 total time=  11.6s\n",
      "[CV 4/5; 18/400] START C=0.006737946999085469, gamma=758.679139848782, kernel=rbf\n",
      "[CV 4/5; 18/400] END C=0.006737946999085469, gamma=758.679139848782, kernel=rbf;, score=0.507 total time=  12.5s\n",
      "[CV 5/5; 18/400] START C=0.006737946999085469, gamma=758.679139848782, kernel=rbf\n",
      "[CV 5/5; 18/400] END C=0.006737946999085469, gamma=758.679139848782, kernel=rbf;, score=0.507 total time=  13.3s\n",
      "[CV 1/5; 19/400] START C=0.006737946999085469, gamma=1503.8585842871576, kernel=rbf\n",
      "[CV 1/5; 19/400] END C=0.006737946999085469, gamma=1503.8585842871576, kernel=rbf;, score=0.506 total time=  12.3s\n",
      "[CV 2/5; 19/400] START C=0.006737946999085469, gamma=1503.8585842871576, kernel=rbf\n",
      "[CV 2/5; 19/400] END C=0.006737946999085469, gamma=1503.8585842871576, kernel=rbf;, score=0.506 total time=  13.3s\n",
      "[CV 3/5; 19/400] START C=0.006737946999085469, gamma=1503.8585842871576, kernel=rbf\n",
      "[CV 3/5; 19/400] END C=0.006737946999085469, gamma=1503.8585842871576, kernel=rbf;, score=0.506 total time=  19.7s\n",
      "[CV 4/5; 19/400] START C=0.006737946999085469, gamma=1503.8585842871576, kernel=rbf\n",
      "[CV 4/5; 19/400] END C=0.006737946999085469, gamma=1503.8585842871576, kernel=rbf;, score=0.507 total time=  14.5s\n",
      "[CV 5/5; 19/400] START C=0.006737946999085469, gamma=1503.8585842871576, kernel=rbf\n",
      "[CV 5/5; 19/400] END C=0.006737946999085469, gamma=1503.8585842871576, kernel=rbf;, score=0.507 total time=  15.5s\n",
      "[CV 1/5; 20/400] START C=0.006737946999085469, gamma=2980.957987041727, kernel=rbf\n",
      "[CV 1/5; 20/400] END C=0.006737946999085469, gamma=2980.957987041727, kernel=rbf;, score=0.506 total time=  14.8s\n",
      "[CV 2/5; 20/400] START C=0.006737946999085469, gamma=2980.957987041727, kernel=rbf\n",
      "[CV 2/5; 20/400] END C=0.006737946999085469, gamma=2980.957987041727, kernel=rbf;, score=0.506 total time=  13.5s\n",
      "[CV 3/5; 20/400] START C=0.006737946999085469, gamma=2980.957987041727, kernel=rbf\n",
      "[CV 3/5; 20/400] END C=0.006737946999085469, gamma=2980.957987041727, kernel=rbf;, score=0.506 total time=  13.4s\n",
      "[CV 4/5; 20/400] START C=0.006737946999085469, gamma=2980.957987041727, kernel=rbf\n",
      "[CV 4/5; 20/400] END C=0.006737946999085469, gamma=2980.957987041727, kernel=rbf;, score=0.507 total time=  18.1s\n",
      "[CV 5/5; 20/400] START C=0.006737946999085469, gamma=2980.957987041727, kernel=rbf\n",
      "[CV 5/5; 20/400] END C=0.006737946999085469, gamma=2980.957987041727, kernel=rbf;, score=0.507 total time=  13.7s\n",
      "[CV 1/5; 21/400] START C=0.013356001111439869, gamma=0.006737946999085469, kernel=rbf\n",
      "[CV 1/5; 21/400] END C=0.013356001111439869, gamma=0.006737946999085469, kernel=rbf;, score=0.506 total time=  13.4s\n",
      "[CV 2/5; 21/400] START C=0.013356001111439869, gamma=0.006737946999085469, kernel=rbf\n",
      "[CV 2/5; 21/400] END C=0.013356001111439869, gamma=0.006737946999085469, kernel=rbf;, score=0.506 total time=  13.7s\n",
      "[CV 3/5; 21/400] START C=0.013356001111439869, gamma=0.006737946999085469, kernel=rbf\n",
      "[CV 3/5; 21/400] END C=0.013356001111439869, gamma=0.006737946999085469, kernel=rbf;, score=0.506 total time=  12.5s\n",
      "[CV 4/5; 21/400] START C=0.013356001111439869, gamma=0.006737946999085469, kernel=rbf\n",
      "[CV 4/5; 21/400] END C=0.013356001111439869, gamma=0.006737946999085469, kernel=rbf;, score=0.507 total time=  12.8s\n",
      "[CV 5/5; 21/400] START C=0.013356001111439869, gamma=0.006737946999085469, kernel=rbf\n",
      "[CV 5/5; 21/400] END C=0.013356001111439869, gamma=0.006737946999085469, kernel=rbf;, score=0.507 total time=  13.1s\n",
      "[CV 1/5; 22/400] START C=0.013356001111439869, gamma=0.013356001111439869, kernel=rbf\n",
      "[CV 1/5; 22/400] END C=0.013356001111439869, gamma=0.013356001111439869, kernel=rbf;, score=0.506 total time=  13.0s\n",
      "[CV 2/5; 22/400] START C=0.013356001111439869, gamma=0.013356001111439869, kernel=rbf\n",
      "[CV 2/5; 22/400] END C=0.013356001111439869, gamma=0.013356001111439869, kernel=rbf;, score=0.506 total time=  13.7s\n",
      "[CV 3/5; 22/400] START C=0.013356001111439869, gamma=0.013356001111439869, kernel=rbf\n",
      "[CV 3/5; 22/400] END C=0.013356001111439869, gamma=0.013356001111439869, kernel=rbf;, score=0.506 total time=  13.9s\n",
      "[CV 4/5; 22/400] START C=0.013356001111439869, gamma=0.013356001111439869, kernel=rbf\n",
      "[CV 4/5; 22/400] END C=0.013356001111439869, gamma=0.013356001111439869, kernel=rbf;, score=0.507 total time=  13.7s\n",
      "[CV 5/5; 22/400] START C=0.013356001111439869, gamma=0.013356001111439869, kernel=rbf\n",
      "[CV 5/5; 22/400] END C=0.013356001111439869, gamma=0.013356001111439869, kernel=rbf;, score=0.507 total time=  13.7s\n",
      "[CV 1/5; 23/400] START C=0.013356001111439869, gamma=0.026474349785326985, kernel=rbf\n",
      "[CV 1/5; 23/400] END C=0.013356001111439869, gamma=0.026474349785326985, kernel=rbf;, score=0.506 total time=  13.7s\n",
      "[CV 2/5; 23/400] START C=0.013356001111439869, gamma=0.026474349785326985, kernel=rbf\n",
      "[CV 2/5; 23/400] END C=0.013356001111439869, gamma=0.026474349785326985, kernel=rbf;, score=0.506 total time=  13.8s\n",
      "[CV 3/5; 23/400] START C=0.013356001111439869, gamma=0.026474349785326985, kernel=rbf\n",
      "[CV 3/5; 23/400] END C=0.013356001111439869, gamma=0.026474349785326985, kernel=rbf;, score=0.506 total time=  14.3s\n",
      "[CV 4/5; 23/400] START C=0.013356001111439869, gamma=0.026474349785326985, kernel=rbf\n",
      "[CV 4/5; 23/400] END C=0.013356001111439869, gamma=0.026474349785326985, kernel=rbf;, score=0.507 total time=  13.5s\n",
      "[CV 5/5; 23/400] START C=0.013356001111439869, gamma=0.026474349785326985, kernel=rbf\n",
      "[CV 5/5; 23/400] END C=0.013356001111439869, gamma=0.026474349785326985, kernel=rbf;, score=0.507 total time=  12.3s\n",
      "[CV 1/5; 24/400] START C=0.013356001111439869, gamma=0.052477623407466346, kernel=rbf\n",
      "[CV 1/5; 24/400] END C=0.013356001111439869, gamma=0.052477623407466346, kernel=rbf;, score=0.506 total time=  12.8s\n",
      "[CV 2/5; 24/400] START C=0.013356001111439869, gamma=0.052477623407466346, kernel=rbf\n",
      "[CV 2/5; 24/400] END C=0.013356001111439869, gamma=0.052477623407466346, kernel=rbf;, score=0.506 total time=  13.1s\n",
      "[CV 3/5; 24/400] START C=0.013356001111439869, gamma=0.052477623407466346, kernel=rbf\n",
      "[CV 3/5; 24/400] END C=0.013356001111439869, gamma=0.052477623407466346, kernel=rbf;, score=0.506 total time=  12.5s\n",
      "[CV 4/5; 24/400] START C=0.013356001111439869, gamma=0.052477623407466346, kernel=rbf\n",
      "[CV 4/5; 24/400] END C=0.013356001111439869, gamma=0.052477623407466346, kernel=rbf;, score=0.507 total time=  12.3s\n",
      "[CV 5/5; 24/400] START C=0.013356001111439869, gamma=0.052477623407466346, kernel=rbf\n",
      "[CV 5/5; 24/400] END C=0.013356001111439869, gamma=0.052477623407466346, kernel=rbf;, score=0.507 total time=  12.7s\n",
      "[CV 1/5; 25/400] START C=0.013356001111439869, gamma=0.10402147666803764, kernel=rbf\n",
      "[CV 1/5; 25/400] END C=0.013356001111439869, gamma=0.10402147666803764, kernel=rbf;, score=0.506 total time=  12.7s\n",
      "[CV 2/5; 25/400] START C=0.013356001111439869, gamma=0.10402147666803764, kernel=rbf\n",
      "[CV 2/5; 25/400] END C=0.013356001111439869, gamma=0.10402147666803764, kernel=rbf;, score=0.506 total time=  12.7s\n",
      "[CV 3/5; 25/400] START C=0.013356001111439869, gamma=0.10402147666803764, kernel=rbf\n",
      "[CV 3/5; 25/400] END C=0.013356001111439869, gamma=0.10402147666803764, kernel=rbf;, score=0.506 total time=  12.4s\n",
      "[CV 4/5; 25/400] START C=0.013356001111439869, gamma=0.10402147666803764, kernel=rbf\n",
      "[CV 4/5; 25/400] END C=0.013356001111439869, gamma=0.10402147666803764, kernel=rbf;, score=0.507 total time=  12.8s\n",
      "[CV 5/5; 25/400] START C=0.013356001111439869, gamma=0.10402147666803764, kernel=rbf\n"
     ]
    },
    {
     "name": "stdout",
     "output_type": "stream",
     "text": [
      "[CV 5/5; 25/400] END C=0.013356001111439869, gamma=0.10402147666803764, kernel=rbf;, score=0.507 total time=  12.5s\n",
      "[CV 1/5; 26/400] START C=0.013356001111439869, gamma=0.20619202825140895, kernel=rbf\n",
      "[CV 1/5; 26/400] END C=0.013356001111439869, gamma=0.20619202825140895, kernel=rbf;, score=0.506 total time=  12.7s\n",
      "[CV 2/5; 26/400] START C=0.013356001111439869, gamma=0.20619202825140895, kernel=rbf\n",
      "[CV 2/5; 26/400] END C=0.013356001111439869, gamma=0.20619202825140895, kernel=rbf;, score=0.506 total time=  12.7s\n",
      "[CV 3/5; 26/400] START C=0.013356001111439869, gamma=0.20619202825140895, kernel=rbf\n",
      "[CV 3/5; 26/400] END C=0.013356001111439869, gamma=0.20619202825140895, kernel=rbf;, score=0.506 total time=  12.4s\n",
      "[CV 4/5; 26/400] START C=0.013356001111439869, gamma=0.20619202825140895, kernel=rbf\n",
      "[CV 4/5; 26/400] END C=0.013356001111439869, gamma=0.20619202825140895, kernel=rbf;, score=0.507 total time=  12.3s\n",
      "[CV 5/5; 26/400] START C=0.013356001111439869, gamma=0.20619202825140895, kernel=rbf\n",
      "[CV 5/5; 26/400] END C=0.013356001111439869, gamma=0.20619202825140895, kernel=rbf;, score=0.507 total time=  12.3s\n",
      "[CV 1/5; 27/400] START C=0.013356001111439869, gamma=0.40871514110598417, kernel=rbf\n",
      "[CV 1/5; 27/400] END C=0.013356001111439869, gamma=0.40871514110598417, kernel=rbf;, score=0.506 total time=  12.6s\n",
      "[CV 2/5; 27/400] START C=0.013356001111439869, gamma=0.40871514110598417, kernel=rbf\n",
      "[CV 2/5; 27/400] END C=0.013356001111439869, gamma=0.40871514110598417, kernel=rbf;, score=0.506 total time=  12.6s\n",
      "[CV 3/5; 27/400] START C=0.013356001111439869, gamma=0.40871514110598417, kernel=rbf\n",
      "[CV 3/5; 27/400] END C=0.013356001111439869, gamma=0.40871514110598417, kernel=rbf;, score=0.506 total time=  12.5s\n",
      "[CV 4/5; 27/400] START C=0.013356001111439869, gamma=0.40871514110598417, kernel=rbf\n",
      "[CV 4/5; 27/400] END C=0.013356001111439869, gamma=0.40871514110598417, kernel=rbf;, score=0.507 total time=  12.5s\n",
      "[CV 5/5; 27/400] START C=0.013356001111439869, gamma=0.40871514110598417, kernel=rbf\n",
      "[CV 5/5; 27/400] END C=0.013356001111439869, gamma=0.40871514110598417, kernel=rbf;, score=0.507 total time=  12.5s\n",
      "[CV 1/5; 28/400] START C=0.013356001111439869, gamma=0.8101577349324269, kernel=rbf\n",
      "[CV 1/5; 28/400] END C=0.013356001111439869, gamma=0.8101577349324269, kernel=rbf;, score=0.506 total time=  12.8s\n",
      "[CV 2/5; 28/400] START C=0.013356001111439869, gamma=0.8101577349324269, kernel=rbf\n",
      "[CV 2/5; 28/400] END C=0.013356001111439869, gamma=0.8101577349324269, kernel=rbf;, score=0.506 total time=  12.6s\n",
      "[CV 3/5; 28/400] START C=0.013356001111439869, gamma=0.8101577349324269, kernel=rbf\n",
      "[CV 3/5; 28/400] END C=0.013356001111439869, gamma=0.8101577349324269, kernel=rbf;, score=0.506 total time=  12.6s\n",
      "[CV 4/5; 28/400] START C=0.013356001111439869, gamma=0.8101577349324269, kernel=rbf\n",
      "[CV 4/5; 28/400] END C=0.013356001111439869, gamma=0.8101577349324269, kernel=rbf;, score=0.507 total time=  12.5s\n",
      "[CV 5/5; 28/400] START C=0.013356001111439869, gamma=0.8101577349324269, kernel=rbf\n",
      "[CV 5/5; 28/400] END C=0.013356001111439869, gamma=0.8101577349324269, kernel=rbf;, score=0.507 total time=  12.7s\n",
      "[CV 1/5; 29/400] START C=0.013356001111439869, gamma=1.6058997806999291, kernel=rbf\n",
      "[CV 1/5; 29/400] END C=0.013356001111439869, gamma=1.6058997806999291, kernel=rbf;, score=0.506 total time=  12.5s\n",
      "[CV 2/5; 29/400] START C=0.013356001111439869, gamma=1.6058997806999291, kernel=rbf\n",
      "[CV 2/5; 29/400] END C=0.013356001111439869, gamma=1.6058997806999291, kernel=rbf;, score=0.506 total time=  12.5s\n",
      "[CV 3/5; 29/400] START C=0.013356001111439869, gamma=1.6058997806999291, kernel=rbf\n",
      "[CV 3/5; 29/400] END C=0.013356001111439869, gamma=1.6058997806999291, kernel=rbf;, score=0.506 total time=  12.7s\n",
      "[CV 4/5; 29/400] START C=0.013356001111439869, gamma=1.6058997806999291, kernel=rbf\n",
      "[CV 4/5; 29/400] END C=0.013356001111439869, gamma=1.6058997806999291, kernel=rbf;, score=0.507 total time=  12.4s\n",
      "[CV 5/5; 29/400] START C=0.013356001111439869, gamma=1.6058997806999291, kernel=rbf\n",
      "[CV 5/5; 29/400] END C=0.013356001111439869, gamma=1.6058997806999291, kernel=rbf;, score=0.507 total time=  12.5s\n",
      "[CV 1/5; 30/400] START C=0.013356001111439869, gamma=3.1832246912598827, kernel=rbf\n",
      "[CV 1/5; 30/400] END C=0.013356001111439869, gamma=3.1832246912598827, kernel=rbf;, score=0.506 total time=  12.7s\n",
      "[CV 2/5; 30/400] START C=0.013356001111439869, gamma=3.1832246912598827, kernel=rbf\n",
      "[CV 2/5; 30/400] END C=0.013356001111439869, gamma=3.1832246912598827, kernel=rbf;, score=0.506 total time=  12.5s\n",
      "[CV 3/5; 30/400] START C=0.013356001111439869, gamma=3.1832246912598827, kernel=rbf\n",
      "[CV 3/5; 30/400] END C=0.013356001111439869, gamma=3.1832246912598827, kernel=rbf;, score=0.506 total time=  12.5s\n",
      "[CV 4/5; 30/400] START C=0.013356001111439869, gamma=3.1832246912598827, kernel=rbf\n",
      "[CV 4/5; 30/400] END C=0.013356001111439869, gamma=3.1832246912598827, kernel=rbf;, score=0.507 total time=  12.5s\n",
      "[CV 5/5; 30/400] START C=0.013356001111439869, gamma=3.1832246912598827, kernel=rbf\n",
      "[CV 5/5; 30/400] END C=0.013356001111439869, gamma=3.1832246912598827, kernel=rbf;, score=0.507 total time=  12.4s\n",
      "[CV 1/5; 31/400] START C=0.013356001111439869, gamma=6.3098080943943815, kernel=rbf\n",
      "[CV 1/5; 31/400] END C=0.013356001111439869, gamma=6.3098080943943815, kernel=rbf;, score=0.506 total time=  12.5s\n",
      "[CV 2/5; 31/400] START C=0.013356001111439869, gamma=6.3098080943943815, kernel=rbf\n",
      "[CV 2/5; 31/400] END C=0.013356001111439869, gamma=6.3098080943943815, kernel=rbf;, score=0.506 total time=  12.3s\n",
      "[CV 3/5; 31/400] START C=0.013356001111439869, gamma=6.3098080943943815, kernel=rbf\n",
      "[CV 3/5; 31/400] END C=0.013356001111439869, gamma=6.3098080943943815, kernel=rbf;, score=0.506 total time=  12.4s\n",
      "[CV 4/5; 31/400] START C=0.013356001111439869, gamma=6.3098080943943815, kernel=rbf\n",
      "[CV 4/5; 31/400] END C=0.013356001111439869, gamma=6.3098080943943815, kernel=rbf;, score=0.507 total time=  12.5s\n",
      "[CV 5/5; 31/400] START C=0.013356001111439869, gamma=6.3098080943943815, kernel=rbf\n",
      "[CV 5/5; 31/400] END C=0.013356001111439869, gamma=6.3098080943943815, kernel=rbf;, score=0.507 total time=  12.4s\n",
      "[CV 1/5; 32/400] START C=0.013356001111439869, gamma=12.507341469611143, kernel=rbf\n",
      "[CV 1/5; 32/400] END C=0.013356001111439869, gamma=12.507341469611143, kernel=rbf;, score=0.506 total time=  12.3s\n",
      "[CV 2/5; 32/400] START C=0.013356001111439869, gamma=12.507341469611143, kernel=rbf\n",
      "[CV 2/5; 32/400] END C=0.013356001111439869, gamma=12.507341469611143, kernel=rbf;, score=0.506 total time=  12.6s\n",
      "[CV 3/5; 32/400] START C=0.013356001111439869, gamma=12.507341469611143, kernel=rbf\n",
      "[CV 3/5; 32/400] END C=0.013356001111439869, gamma=12.507341469611143, kernel=rbf;, score=0.506 total time=  12.5s\n",
      "[CV 4/5; 32/400] START C=0.013356001111439869, gamma=12.507341469611143, kernel=rbf\n",
      "[CV 4/5; 32/400] END C=0.013356001111439869, gamma=12.507341469611143, kernel=rbf;, score=0.507 total time=  12.5s\n",
      "[CV 5/5; 32/400] START C=0.013356001111439869, gamma=12.507341469611143, kernel=rbf\n",
      "[CV 5/5; 32/400] END C=0.013356001111439869, gamma=12.507341469611143, kernel=rbf;, score=0.507 total time=  12.4s\n",
      "[CV 1/5; 33/400] START C=0.013356001111439869, gamma=24.792131281525027, kernel=rbf\n",
      "[CV 1/5; 33/400] END C=0.013356001111439869, gamma=24.792131281525027, kernel=rbf;, score=0.506 total time=  12.5s\n",
      "[CV 2/5; 33/400] START C=0.013356001111439869, gamma=24.792131281525027, kernel=rbf\n",
      "[CV 2/5; 33/400] END C=0.013356001111439869, gamma=24.792131281525027, kernel=rbf;, score=0.506 total time=  12.7s\n",
      "[CV 3/5; 33/400] START C=0.013356001111439869, gamma=24.792131281525027, kernel=rbf\n",
      "[CV 3/5; 33/400] END C=0.013356001111439869, gamma=24.792131281525027, kernel=rbf;, score=0.506 total time=  12.3s\n",
      "[CV 4/5; 33/400] START C=0.013356001111439869, gamma=24.792131281525027, kernel=rbf\n",
      "[CV 4/5; 33/400] END C=0.013356001111439869, gamma=24.792131281525027, kernel=rbf;, score=0.507 total time=  12.7s\n",
      "[CV 5/5; 33/400] START C=0.013356001111439869, gamma=24.792131281525027, kernel=rbf\n",
      "[CV 5/5; 33/400] END C=0.013356001111439869, gamma=24.792131281525027, kernel=rbf;, score=0.507 total time=  12.4s\n",
      "[CV 1/5; 34/400] START C=0.013356001111439869, gamma=49.143119261097524, kernel=rbf\n",
      "[CV 1/5; 34/400] END C=0.013356001111439869, gamma=49.143119261097524, kernel=rbf;, score=0.506 total time=  12.5s\n",
      "[CV 2/5; 34/400] START C=0.013356001111439869, gamma=49.143119261097524, kernel=rbf\n"
     ]
    },
    {
     "name": "stdout",
     "output_type": "stream",
     "text": [
      "[CV 2/5; 34/400] END C=0.013356001111439869, gamma=49.143119261097524, kernel=rbf;, score=0.506 total time=  12.5s\n",
      "[CV 3/5; 34/400] START C=0.013356001111439869, gamma=49.143119261097524, kernel=rbf\n",
      "[CV 3/5; 34/400] END C=0.013356001111439869, gamma=49.143119261097524, kernel=rbf;, score=0.506 total time=  12.3s\n",
      "[CV 4/5; 34/400] START C=0.013356001111439869, gamma=49.143119261097524, kernel=rbf\n",
      "[CV 4/5; 34/400] END C=0.013356001111439869, gamma=49.143119261097524, kernel=rbf;, score=0.507 total time=  12.6s\n",
      "[CV 5/5; 34/400] START C=0.013356001111439869, gamma=49.143119261097524, kernel=rbf\n",
      "[CV 5/5; 34/400] END C=0.013356001111439869, gamma=49.143119261097524, kernel=rbf;, score=0.507 total time=  12.5s\n",
      "[CV 1/5; 35/400] START C=0.013356001111439869, gamma=97.41180148195387, kernel=rbf\n",
      "[CV 1/5; 35/400] END C=0.013356001111439869, gamma=97.41180148195387, kernel=rbf;, score=0.506 total time=  12.5s\n",
      "[CV 2/5; 35/400] START C=0.013356001111439869, gamma=97.41180148195387, kernel=rbf\n",
      "[CV 2/5; 35/400] END C=0.013356001111439869, gamma=97.41180148195387, kernel=rbf;, score=0.506 total time=  12.5s\n",
      "[CV 3/5; 35/400] START C=0.013356001111439869, gamma=97.41180148195387, kernel=rbf\n",
      "[CV 3/5; 35/400] END C=0.013356001111439869, gamma=97.41180148195387, kernel=rbf;, score=0.506 total time=  12.4s\n",
      "[CV 4/5; 35/400] START C=0.013356001111439869, gamma=97.41180148195387, kernel=rbf\n",
      "[CV 4/5; 35/400] END C=0.013356001111439869, gamma=97.41180148195387, kernel=rbf;, score=0.507 total time=  12.5s\n",
      "[CV 5/5; 35/400] START C=0.013356001111439869, gamma=97.41180148195387, kernel=rbf\n",
      "[CV 5/5; 35/400] END C=0.013356001111439869, gamma=97.41180148195387, kernel=rbf;, score=0.507 total time=  12.5s\n",
      "[CV 1/5; 36/400] START C=0.013356001111439869, gamma=193.0902883381129, kernel=rbf\n",
      "[CV 1/5; 36/400] END C=0.013356001111439869, gamma=193.0902883381129, kernel=rbf;, score=0.506 total time=  12.2s\n",
      "[CV 2/5; 36/400] START C=0.013356001111439869, gamma=193.0902883381129, kernel=rbf\n",
      "[CV 2/5; 36/400] END C=0.013356001111439869, gamma=193.0902883381129, kernel=rbf;, score=0.506 total time=  12.5s\n",
      "[CV 3/5; 36/400] START C=0.013356001111439869, gamma=193.0902883381129, kernel=rbf\n",
      "[CV 3/5; 36/400] END C=0.013356001111439869, gamma=193.0902883381129, kernel=rbf;, score=0.506 total time=  12.3s\n",
      "[CV 4/5; 36/400] START C=0.013356001111439869, gamma=193.0902883381129, kernel=rbf\n",
      "[CV 4/5; 36/400] END C=0.013356001111439869, gamma=193.0902883381129, kernel=rbf;, score=0.507 total time=  12.5s\n",
      "[CV 5/5; 36/400] START C=0.013356001111439869, gamma=193.0902883381129, kernel=rbf\n",
      "[CV 5/5; 36/400] END C=0.013356001111439869, gamma=193.0902883381129, kernel=rbf;, score=0.507 total time=  12.5s\n",
      "[CV 1/5; 37/400] START C=0.013356001111439869, gamma=382.7447894740212, kernel=rbf\n",
      "[CV 1/5; 37/400] END C=0.013356001111439869, gamma=382.7447894740212, kernel=rbf;, score=0.506 total time=  12.7s\n",
      "[CV 2/5; 37/400] START C=0.013356001111439869, gamma=382.7447894740212, kernel=rbf\n",
      "[CV 2/5; 37/400] END C=0.013356001111439869, gamma=382.7447894740212, kernel=rbf;, score=0.506 total time=  12.7s\n",
      "[CV 3/5; 37/400] START C=0.013356001111439869, gamma=382.7447894740212, kernel=rbf\n",
      "[CV 3/5; 37/400] END C=0.013356001111439869, gamma=382.7447894740212, kernel=rbf;, score=0.506 total time=  12.7s\n",
      "[CV 4/5; 37/400] START C=0.013356001111439869, gamma=382.7447894740212, kernel=rbf\n",
      "[CV 4/5; 37/400] END C=0.013356001111439869, gamma=382.7447894740212, kernel=rbf;, score=0.507 total time=  12.9s\n",
      "[CV 5/5; 37/400] START C=0.013356001111439869, gamma=382.7447894740212, kernel=rbf\n",
      "[CV 5/5; 37/400] END C=0.013356001111439869, gamma=382.7447894740212, kernel=rbf;, score=0.507 total time=  12.7s\n",
      "[CV 1/5; 38/400] START C=0.013356001111439869, gamma=758.679139848782, kernel=rbf\n",
      "[CV 1/5; 38/400] END C=0.013356001111439869, gamma=758.679139848782, kernel=rbf;, score=0.506 total time=  12.3s\n",
      "[CV 2/5; 38/400] START C=0.013356001111439869, gamma=758.679139848782, kernel=rbf\n",
      "[CV 2/5; 38/400] END C=0.013356001111439869, gamma=758.679139848782, kernel=rbf;, score=0.506 total time=  12.6s\n",
      "[CV 3/5; 38/400] START C=0.013356001111439869, gamma=758.679139848782, kernel=rbf\n",
      "[CV 3/5; 38/400] END C=0.013356001111439869, gamma=758.679139848782, kernel=rbf;, score=0.506 total time=  12.2s\n",
      "[CV 4/5; 38/400] START C=0.013356001111439869, gamma=758.679139848782, kernel=rbf\n",
      "[CV 4/5; 38/400] END C=0.013356001111439869, gamma=758.679139848782, kernel=rbf;, score=0.507 total time=  12.4s\n",
      "[CV 5/5; 38/400] START C=0.013356001111439869, gamma=758.679139848782, kernel=rbf\n",
      "[CV 5/5; 38/400] END C=0.013356001111439869, gamma=758.679139848782, kernel=rbf;, score=0.507 total time=  12.3s\n",
      "[CV 1/5; 39/400] START C=0.013356001111439869, gamma=1503.8585842871576, kernel=rbf\n",
      "[CV 1/5; 39/400] END C=0.013356001111439869, gamma=1503.8585842871576, kernel=rbf;, score=0.506 total time=  12.6s\n",
      "[CV 2/5; 39/400] START C=0.013356001111439869, gamma=1503.8585842871576, kernel=rbf\n",
      "[CV 2/5; 39/400] END C=0.013356001111439869, gamma=1503.8585842871576, kernel=rbf;, score=0.506 total time=  12.3s\n",
      "[CV 3/5; 39/400] START C=0.013356001111439869, gamma=1503.8585842871576, kernel=rbf\n",
      "[CV 3/5; 39/400] END C=0.013356001111439869, gamma=1503.8585842871576, kernel=rbf;, score=0.506 total time=  12.5s\n",
      "[CV 4/5; 39/400] START C=0.013356001111439869, gamma=1503.8585842871576, kernel=rbf\n",
      "[CV 4/5; 39/400] END C=0.013356001111439869, gamma=1503.8585842871576, kernel=rbf;, score=0.507 total time=  12.7s\n",
      "[CV 5/5; 39/400] START C=0.013356001111439869, gamma=1503.8585842871576, kernel=rbf\n",
      "[CV 5/5; 39/400] END C=0.013356001111439869, gamma=1503.8585842871576, kernel=rbf;, score=0.507 total time=  12.2s\n",
      "[CV 1/5; 40/400] START C=0.013356001111439869, gamma=2980.957987041727, kernel=rbf\n",
      "[CV 1/5; 40/400] END C=0.013356001111439869, gamma=2980.957987041727, kernel=rbf;, score=0.506 total time=  12.5s\n",
      "[CV 2/5; 40/400] START C=0.013356001111439869, gamma=2980.957987041727, kernel=rbf\n",
      "[CV 2/5; 40/400] END C=0.013356001111439869, gamma=2980.957987041727, kernel=rbf;, score=0.506 total time=  12.3s\n",
      "[CV 3/5; 40/400] START C=0.013356001111439869, gamma=2980.957987041727, kernel=rbf\n",
      "[CV 3/5; 40/400] END C=0.013356001111439869, gamma=2980.957987041727, kernel=rbf;, score=0.506 total time=  12.4s\n",
      "[CV 4/5; 40/400] START C=0.013356001111439869, gamma=2980.957987041727, kernel=rbf\n",
      "[CV 4/5; 40/400] END C=0.013356001111439869, gamma=2980.957987041727, kernel=rbf;, score=0.507 total time=  12.8s\n",
      "[CV 5/5; 40/400] START C=0.013356001111439869, gamma=2980.957987041727, kernel=rbf\n",
      "[CV 5/5; 40/400] END C=0.013356001111439869, gamma=2980.957987041727, kernel=rbf;, score=0.507 total time=  12.3s\n",
      "[CV 1/5; 41/400] START C=0.026474349785326985, gamma=0.006737946999085469, kernel=rbf\n",
      "[CV 1/5; 41/400] END C=0.026474349785326985, gamma=0.006737946999085469, kernel=rbf;, score=0.506 total time=  12.2s\n",
      "[CV 2/5; 41/400] START C=0.026474349785326985, gamma=0.006737946999085469, kernel=rbf\n",
      "[CV 2/5; 41/400] END C=0.026474349785326985, gamma=0.006737946999085469, kernel=rbf;, score=0.506 total time=  12.4s\n",
      "[CV 3/5; 41/400] START C=0.026474349785326985, gamma=0.006737946999085469, kernel=rbf\n",
      "[CV 3/5; 41/400] END C=0.026474349785326985, gamma=0.006737946999085469, kernel=rbf;, score=0.506 total time=  12.4s\n",
      "[CV 4/5; 41/400] START C=0.026474349785326985, gamma=0.006737946999085469, kernel=rbf\n",
      "[CV 4/5; 41/400] END C=0.026474349785326985, gamma=0.006737946999085469, kernel=rbf;, score=0.507 total time=  12.5s\n",
      "[CV 5/5; 41/400] START C=0.026474349785326985, gamma=0.006737946999085469, kernel=rbf\n",
      "[CV 5/5; 41/400] END C=0.026474349785326985, gamma=0.006737946999085469, kernel=rbf;, score=0.507 total time=  12.4s\n",
      "[CV 1/5; 42/400] START C=0.026474349785326985, gamma=0.013356001111439869, kernel=rbf\n",
      "[CV 1/5; 42/400] END C=0.026474349785326985, gamma=0.013356001111439869, kernel=rbf;, score=0.506 total time=  12.6s\n",
      "[CV 2/5; 42/400] START C=0.026474349785326985, gamma=0.013356001111439869, kernel=rbf\n",
      "[CV 2/5; 42/400] END C=0.026474349785326985, gamma=0.013356001111439869, kernel=rbf;, score=0.506 total time=  12.3s\n",
      "[CV 3/5; 42/400] START C=0.026474349785326985, gamma=0.013356001111439869, kernel=rbf\n",
      "[CV 3/5; 42/400] END C=0.026474349785326985, gamma=0.013356001111439869, kernel=rbf;, score=0.506 total time=  12.4s\n",
      "[CV 4/5; 42/400] START C=0.026474349785326985, gamma=0.013356001111439869, kernel=rbf\n"
     ]
    },
    {
     "name": "stdout",
     "output_type": "stream",
     "text": [
      "[CV 4/5; 42/400] END C=0.026474349785326985, gamma=0.013356001111439869, kernel=rbf;, score=0.507 total time=  12.4s\n",
      "[CV 5/5; 42/400] START C=0.026474349785326985, gamma=0.013356001111439869, kernel=rbf\n",
      "[CV 5/5; 42/400] END C=0.026474349785326985, gamma=0.013356001111439869, kernel=rbf;, score=0.507 total time=  12.2s\n",
      "[CV 1/5; 43/400] START C=0.026474349785326985, gamma=0.026474349785326985, kernel=rbf\n",
      "[CV 1/5; 43/400] END C=0.026474349785326985, gamma=0.026474349785326985, kernel=rbf;, score=0.506 total time=  12.4s\n",
      "[CV 2/5; 43/400] START C=0.026474349785326985, gamma=0.026474349785326985, kernel=rbf\n",
      "[CV 2/5; 43/400] END C=0.026474349785326985, gamma=0.026474349785326985, kernel=rbf;, score=0.506 total time=  12.5s\n",
      "[CV 3/5; 43/400] START C=0.026474349785326985, gamma=0.026474349785326985, kernel=rbf\n",
      "[CV 3/5; 43/400] END C=0.026474349785326985, gamma=0.026474349785326985, kernel=rbf;, score=0.506 total time=  12.4s\n",
      "[CV 4/5; 43/400] START C=0.026474349785326985, gamma=0.026474349785326985, kernel=rbf\n",
      "[CV 4/5; 43/400] END C=0.026474349785326985, gamma=0.026474349785326985, kernel=rbf;, score=0.507 total time=  12.1s\n",
      "[CV 5/5; 43/400] START C=0.026474349785326985, gamma=0.026474349785326985, kernel=rbf\n",
      "[CV 5/5; 43/400] END C=0.026474349785326985, gamma=0.026474349785326985, kernel=rbf;, score=0.507 total time=  12.3s\n",
      "[CV 1/5; 44/400] START C=0.026474349785326985, gamma=0.052477623407466346, kernel=rbf\n",
      "[CV 1/5; 44/400] END C=0.026474349785326985, gamma=0.052477623407466346, kernel=rbf;, score=0.506 total time=  12.3s\n",
      "[CV 2/5; 44/400] START C=0.026474349785326985, gamma=0.052477623407466346, kernel=rbf\n",
      "[CV 2/5; 44/400] END C=0.026474349785326985, gamma=0.052477623407466346, kernel=rbf;, score=0.506 total time=  12.4s\n",
      "[CV 3/5; 44/400] START C=0.026474349785326985, gamma=0.052477623407466346, kernel=rbf\n",
      "[CV 3/5; 44/400] END C=0.026474349785326985, gamma=0.052477623407466346, kernel=rbf;, score=0.506 total time=  12.4s\n",
      "[CV 4/5; 44/400] START C=0.026474349785326985, gamma=0.052477623407466346, kernel=rbf\n",
      "[CV 4/5; 44/400] END C=0.026474349785326985, gamma=0.052477623407466346, kernel=rbf;, score=0.507 total time=  12.3s\n",
      "[CV 5/5; 44/400] START C=0.026474349785326985, gamma=0.052477623407466346, kernel=rbf\n",
      "[CV 5/5; 44/400] END C=0.026474349785326985, gamma=0.052477623407466346, kernel=rbf;, score=0.507 total time=  12.5s\n",
      "[CV 1/5; 45/400] START C=0.026474349785326985, gamma=0.10402147666803764, kernel=rbf\n",
      "[CV 1/5; 45/400] END C=0.026474349785326985, gamma=0.10402147666803764, kernel=rbf;, score=0.506 total time=  12.2s\n",
      "[CV 2/5; 45/400] START C=0.026474349785326985, gamma=0.10402147666803764, kernel=rbf\n",
      "[CV 2/5; 45/400] END C=0.026474349785326985, gamma=0.10402147666803764, kernel=rbf;, score=0.506 total time=  12.4s\n",
      "[CV 3/5; 45/400] START C=0.026474349785326985, gamma=0.10402147666803764, kernel=rbf\n",
      "[CV 3/5; 45/400] END C=0.026474349785326985, gamma=0.10402147666803764, kernel=rbf;, score=0.506 total time=  12.4s\n",
      "[CV 4/5; 45/400] START C=0.026474349785326985, gamma=0.10402147666803764, kernel=rbf\n",
      "[CV 4/5; 45/400] END C=0.026474349785326985, gamma=0.10402147666803764, kernel=rbf;, score=0.507 total time=  12.3s\n",
      "[CV 5/5; 45/400] START C=0.026474349785326985, gamma=0.10402147666803764, kernel=rbf\n",
      "[CV 5/5; 45/400] END C=0.026474349785326985, gamma=0.10402147666803764, kernel=rbf;, score=0.507 total time=  12.6s\n",
      "[CV 1/5; 46/400] START C=0.026474349785326985, gamma=0.20619202825140895, kernel=rbf\n",
      "[CV 1/5; 46/400] END C=0.026474349785326985, gamma=0.20619202825140895, kernel=rbf;, score=0.506 total time=  12.3s\n",
      "[CV 2/5; 46/400] START C=0.026474349785326985, gamma=0.20619202825140895, kernel=rbf\n",
      "[CV 2/5; 46/400] END C=0.026474349785326985, gamma=0.20619202825140895, kernel=rbf;, score=0.506 total time=  12.6s\n",
      "[CV 3/5; 46/400] START C=0.026474349785326985, gamma=0.20619202825140895, kernel=rbf\n",
      "[CV 3/5; 46/400] END C=0.026474349785326985, gamma=0.20619202825140895, kernel=rbf;, score=0.506 total time=  12.6s\n",
      "[CV 4/5; 46/400] START C=0.026474349785326985, gamma=0.20619202825140895, kernel=rbf\n",
      "[CV 4/5; 46/400] END C=0.026474349785326985, gamma=0.20619202825140895, kernel=rbf;, score=0.507 total time=  12.3s\n",
      "[CV 5/5; 46/400] START C=0.026474349785326985, gamma=0.20619202825140895, kernel=rbf\n",
      "[CV 5/5; 46/400] END C=0.026474349785326985, gamma=0.20619202825140895, kernel=rbf;, score=0.507 total time=  12.5s\n",
      "[CV 1/5; 47/400] START C=0.026474349785326985, gamma=0.40871514110598417, kernel=rbf\n",
      "[CV 1/5; 47/400] END C=0.026474349785326985, gamma=0.40871514110598417, kernel=rbf;, score=0.506 total time=  12.4s\n",
      "[CV 2/5; 47/400] START C=0.026474349785326985, gamma=0.40871514110598417, kernel=rbf\n",
      "[CV 2/5; 47/400] END C=0.026474349785326985, gamma=0.40871514110598417, kernel=rbf;, score=0.506 total time=  12.7s\n",
      "[CV 3/5; 47/400] START C=0.026474349785326985, gamma=0.40871514110598417, kernel=rbf\n",
      "[CV 3/5; 47/400] END C=0.026474349785326985, gamma=0.40871514110598417, kernel=rbf;, score=0.506 total time=  12.5s\n",
      "[CV 4/5; 47/400] START C=0.026474349785326985, gamma=0.40871514110598417, kernel=rbf\n",
      "[CV 4/5; 47/400] END C=0.026474349785326985, gamma=0.40871514110598417, kernel=rbf;, score=0.507 total time=  12.5s\n",
      "[CV 5/5; 47/400] START C=0.026474349785326985, gamma=0.40871514110598417, kernel=rbf\n",
      "[CV 5/5; 47/400] END C=0.026474349785326985, gamma=0.40871514110598417, kernel=rbf;, score=0.507 total time=  12.3s\n",
      "[CV 1/5; 48/400] START C=0.026474349785326985, gamma=0.8101577349324269, kernel=rbf\n",
      "[CV 1/5; 48/400] END C=0.026474349785326985, gamma=0.8101577349324269, kernel=rbf;, score=0.506 total time=  12.4s\n",
      "[CV 2/5; 48/400] START C=0.026474349785326985, gamma=0.8101577349324269, kernel=rbf\n",
      "[CV 2/5; 48/400] END C=0.026474349785326985, gamma=0.8101577349324269, kernel=rbf;, score=0.506 total time=  12.7s\n",
      "[CV 3/5; 48/400] START C=0.026474349785326985, gamma=0.8101577349324269, kernel=rbf\n",
      "[CV 3/5; 48/400] END C=0.026474349785326985, gamma=0.8101577349324269, kernel=rbf;, score=0.506 total time=  12.4s\n",
      "[CV 4/5; 48/400] START C=0.026474349785326985, gamma=0.8101577349324269, kernel=rbf\n",
      "[CV 4/5; 48/400] END C=0.026474349785326985, gamma=0.8101577349324269, kernel=rbf;, score=0.507 total time=  12.3s\n",
      "[CV 5/5; 48/400] START C=0.026474349785326985, gamma=0.8101577349324269, kernel=rbf\n",
      "[CV 5/5; 48/400] END C=0.026474349785326985, gamma=0.8101577349324269, kernel=rbf;, score=0.507 total time=  12.6s\n",
      "[CV 1/5; 49/400] START C=0.026474349785326985, gamma=1.6058997806999291, kernel=rbf\n",
      "[CV 1/5; 49/400] END C=0.026474349785326985, gamma=1.6058997806999291, kernel=rbf;, score=0.506 total time=  12.5s\n",
      "[CV 2/5; 49/400] START C=0.026474349785326985, gamma=1.6058997806999291, kernel=rbf\n",
      "[CV 2/5; 49/400] END C=0.026474349785326985, gamma=1.6058997806999291, kernel=rbf;, score=0.506 total time=  12.7s\n",
      "[CV 3/5; 49/400] START C=0.026474349785326985, gamma=1.6058997806999291, kernel=rbf\n",
      "[CV 3/5; 49/400] END C=0.026474349785326985, gamma=1.6058997806999291, kernel=rbf;, score=0.506 total time=  12.6s\n",
      "[CV 4/5; 49/400] START C=0.026474349785326985, gamma=1.6058997806999291, kernel=rbf\n",
      "[CV 4/5; 49/400] END C=0.026474349785326985, gamma=1.6058997806999291, kernel=rbf;, score=0.507 total time=  12.6s\n",
      "[CV 5/5; 49/400] START C=0.026474349785326985, gamma=1.6058997806999291, kernel=rbf\n",
      "[CV 5/5; 49/400] END C=0.026474349785326985, gamma=1.6058997806999291, kernel=rbf;, score=0.507 total time=  12.5s\n",
      "[CV 1/5; 50/400] START C=0.026474349785326985, gamma=3.1832246912598827, kernel=rbf\n",
      "[CV 1/5; 50/400] END C=0.026474349785326985, gamma=3.1832246912598827, kernel=rbf;, score=0.506 total time=  12.7s\n",
      "[CV 2/5; 50/400] START C=0.026474349785326985, gamma=3.1832246912598827, kernel=rbf\n",
      "[CV 2/5; 50/400] END C=0.026474349785326985, gamma=3.1832246912598827, kernel=rbf;, score=0.506 total time=  13.1s\n",
      "[CV 3/5; 50/400] START C=0.026474349785326985, gamma=3.1832246912598827, kernel=rbf\n",
      "[CV 3/5; 50/400] END C=0.026474349785326985, gamma=3.1832246912598827, kernel=rbf;, score=0.506 total time=  12.5s\n",
      "[CV 4/5; 50/400] START C=0.026474349785326985, gamma=3.1832246912598827, kernel=rbf\n",
      "[CV 4/5; 50/400] END C=0.026474349785326985, gamma=3.1832246912598827, kernel=rbf;, score=0.507 total time=  12.5s\n",
      "[CV 5/5; 50/400] START C=0.026474349785326985, gamma=3.1832246912598827, kernel=rbf\n"
     ]
    },
    {
     "name": "stdout",
     "output_type": "stream",
     "text": [
      "[CV 5/5; 50/400] END C=0.026474349785326985, gamma=3.1832246912598827, kernel=rbf;, score=0.507 total time=  12.3s\n",
      "[CV 1/5; 51/400] START C=0.026474349785326985, gamma=6.3098080943943815, kernel=rbf\n",
      "[CV 1/5; 51/400] END C=0.026474349785326985, gamma=6.3098080943943815, kernel=rbf;, score=0.506 total time=  12.7s\n",
      "[CV 2/5; 51/400] START C=0.026474349785326985, gamma=6.3098080943943815, kernel=rbf\n",
      "[CV 2/5; 51/400] END C=0.026474349785326985, gamma=6.3098080943943815, kernel=rbf;, score=0.506 total time=  12.5s\n",
      "[CV 3/5; 51/400] START C=0.026474349785326985, gamma=6.3098080943943815, kernel=rbf\n",
      "[CV 3/5; 51/400] END C=0.026474349785326985, gamma=6.3098080943943815, kernel=rbf;, score=0.506 total time=  12.1s\n",
      "[CV 4/5; 51/400] START C=0.026474349785326985, gamma=6.3098080943943815, kernel=rbf\n",
      "[CV 4/5; 51/400] END C=0.026474349785326985, gamma=6.3098080943943815, kernel=rbf;, score=0.507 total time=  12.6s\n",
      "[CV 5/5; 51/400] START C=0.026474349785326985, gamma=6.3098080943943815, kernel=rbf\n",
      "[CV 5/5; 51/400] END C=0.026474349785326985, gamma=6.3098080943943815, kernel=rbf;, score=0.507 total time=  12.5s\n",
      "[CV 1/5; 52/400] START C=0.026474349785326985, gamma=12.507341469611143, kernel=rbf\n",
      "[CV 1/5; 52/400] END C=0.026474349785326985, gamma=12.507341469611143, kernel=rbf;, score=0.506 total time=  12.7s\n",
      "[CV 2/5; 52/400] START C=0.026474349785326985, gamma=12.507341469611143, kernel=rbf\n",
      "[CV 2/5; 52/400] END C=0.026474349785326985, gamma=12.507341469611143, kernel=rbf;, score=0.506 total time=  12.5s\n",
      "[CV 3/5; 52/400] START C=0.026474349785326985, gamma=12.507341469611143, kernel=rbf\n",
      "[CV 3/5; 52/400] END C=0.026474349785326985, gamma=12.507341469611143, kernel=rbf;, score=0.506 total time=  12.3s\n",
      "[CV 4/5; 52/400] START C=0.026474349785326985, gamma=12.507341469611143, kernel=rbf\n",
      "[CV 4/5; 52/400] END C=0.026474349785326985, gamma=12.507341469611143, kernel=rbf;, score=0.507 total time=  12.7s\n",
      "[CV 5/5; 52/400] START C=0.026474349785326985, gamma=12.507341469611143, kernel=rbf\n",
      "[CV 5/5; 52/400] END C=0.026474349785326985, gamma=12.507341469611143, kernel=rbf;, score=0.507 total time=  12.5s\n",
      "[CV 1/5; 53/400] START C=0.026474349785326985, gamma=24.792131281525027, kernel=rbf\n",
      "[CV 1/5; 53/400] END C=0.026474349785326985, gamma=24.792131281525027, kernel=rbf;, score=0.506 total time=  12.6s\n",
      "[CV 2/5; 53/400] START C=0.026474349785326985, gamma=24.792131281525027, kernel=rbf\n",
      "[CV 2/5; 53/400] END C=0.026474349785326985, gamma=24.792131281525027, kernel=rbf;, score=0.506 total time=  12.6s\n",
      "[CV 3/5; 53/400] START C=0.026474349785326985, gamma=24.792131281525027, kernel=rbf\n",
      "[CV 3/5; 53/400] END C=0.026474349785326985, gamma=24.792131281525027, kernel=rbf;, score=0.506 total time=  12.4s\n",
      "[CV 4/5; 53/400] START C=0.026474349785326985, gamma=24.792131281525027, kernel=rbf\n",
      "[CV 4/5; 53/400] END C=0.026474349785326985, gamma=24.792131281525027, kernel=rbf;, score=0.507 total time=  12.4s\n",
      "[CV 5/5; 53/400] START C=0.026474349785326985, gamma=24.792131281525027, kernel=rbf\n",
      "[CV 5/5; 53/400] END C=0.026474349785326985, gamma=24.792131281525027, kernel=rbf;, score=0.507 total time=  12.4s\n",
      "[CV 1/5; 54/400] START C=0.026474349785326985, gamma=49.143119261097524, kernel=rbf\n",
      "[CV 1/5; 54/400] END C=0.026474349785326985, gamma=49.143119261097524, kernel=rbf;, score=0.506 total time=  12.8s\n",
      "[CV 2/5; 54/400] START C=0.026474349785326985, gamma=49.143119261097524, kernel=rbf\n",
      "[CV 2/5; 54/400] END C=0.026474349785326985, gamma=49.143119261097524, kernel=rbf;, score=0.506 total time=  12.6s\n",
      "[CV 3/5; 54/400] START C=0.026474349785326985, gamma=49.143119261097524, kernel=rbf\n",
      "[CV 3/5; 54/400] END C=0.026474349785326985, gamma=49.143119261097524, kernel=rbf;, score=0.506 total time=  12.6s\n",
      "[CV 4/5; 54/400] START C=0.026474349785326985, gamma=49.143119261097524, kernel=rbf\n",
      "[CV 4/5; 54/400] END C=0.026474349785326985, gamma=49.143119261097524, kernel=rbf;, score=0.507 total time=  12.6s\n",
      "[CV 5/5; 54/400] START C=0.026474349785326985, gamma=49.143119261097524, kernel=rbf\n",
      "[CV 5/5; 54/400] END C=0.026474349785326985, gamma=49.143119261097524, kernel=rbf;, score=0.507 total time=  12.5s\n",
      "[CV 1/5; 55/400] START C=0.026474349785326985, gamma=97.41180148195387, kernel=rbf\n",
      "[CV 1/5; 55/400] END C=0.026474349785326985, gamma=97.41180148195387, kernel=rbf;, score=0.506 total time=  12.6s\n",
      "[CV 2/5; 55/400] START C=0.026474349785326985, gamma=97.41180148195387, kernel=rbf\n",
      "[CV 2/5; 55/400] END C=0.026474349785326985, gamma=97.41180148195387, kernel=rbf;, score=0.506 total time=  12.5s\n",
      "[CV 3/5; 55/400] START C=0.026474349785326985, gamma=97.41180148195387, kernel=rbf\n",
      "[CV 3/5; 55/400] END C=0.026474349785326985, gamma=97.41180148195387, kernel=rbf;, score=0.506 total time=  12.6s\n",
      "[CV 4/5; 55/400] START C=0.026474349785326985, gamma=97.41180148195387, kernel=rbf\n",
      "[CV 4/5; 55/400] END C=0.026474349785326985, gamma=97.41180148195387, kernel=rbf;, score=0.507 total time=  12.5s\n",
      "[CV 5/5; 55/400] START C=0.026474349785326985, gamma=97.41180148195387, kernel=rbf\n",
      "[CV 5/5; 55/400] END C=0.026474349785326985, gamma=97.41180148195387, kernel=rbf;, score=0.507 total time=  12.4s\n",
      "[CV 1/5; 56/400] START C=0.026474349785326985, gamma=193.0902883381129, kernel=rbf\n",
      "[CV 1/5; 56/400] END C=0.026474349785326985, gamma=193.0902883381129, kernel=rbf;, score=0.506 total time=  12.6s\n",
      "[CV 2/5; 56/400] START C=0.026474349785326985, gamma=193.0902883381129, kernel=rbf\n",
      "[CV 2/5; 56/400] END C=0.026474349785326985, gamma=193.0902883381129, kernel=rbf;, score=0.506 total time=  12.6s\n",
      "[CV 3/5; 56/400] START C=0.026474349785326985, gamma=193.0902883381129, kernel=rbf\n",
      "[CV 3/5; 56/400] END C=0.026474349785326985, gamma=193.0902883381129, kernel=rbf;, score=0.506 total time=  12.5s\n",
      "[CV 4/5; 56/400] START C=0.026474349785326985, gamma=193.0902883381129, kernel=rbf\n",
      "[CV 4/5; 56/400] END C=0.026474349785326985, gamma=193.0902883381129, kernel=rbf;, score=0.507 total time=  12.4s\n",
      "[CV 5/5; 56/400] START C=0.026474349785326985, gamma=193.0902883381129, kernel=rbf\n",
      "[CV 5/5; 56/400] END C=0.026474349785326985, gamma=193.0902883381129, kernel=rbf;, score=0.507 total time=  12.5s\n",
      "[CV 1/5; 57/400] START C=0.026474349785326985, gamma=382.7447894740212, kernel=rbf\n",
      "[CV 1/5; 57/400] END C=0.026474349785326985, gamma=382.7447894740212, kernel=rbf;, score=0.506 total time=  12.8s\n",
      "[CV 2/5; 57/400] START C=0.026474349785326985, gamma=382.7447894740212, kernel=rbf\n",
      "[CV 2/5; 57/400] END C=0.026474349785326985, gamma=382.7447894740212, kernel=rbf;, score=0.506 total time=  12.8s\n",
      "[CV 3/5; 57/400] START C=0.026474349785326985, gamma=382.7447894740212, kernel=rbf\n",
      "[CV 3/5; 57/400] END C=0.026474349785326985, gamma=382.7447894740212, kernel=rbf;, score=0.506 total time=  12.7s\n",
      "[CV 4/5; 57/400] START C=0.026474349785326985, gamma=382.7447894740212, kernel=rbf\n",
      "[CV 4/5; 57/400] END C=0.026474349785326985, gamma=382.7447894740212, kernel=rbf;, score=0.507 total time=  12.9s\n",
      "[CV 5/5; 57/400] START C=0.026474349785326985, gamma=382.7447894740212, kernel=rbf\n",
      "[CV 5/5; 57/400] END C=0.026474349785326985, gamma=382.7447894740212, kernel=rbf;, score=0.507 total time=  12.8s\n",
      "[CV 1/5; 58/400] START C=0.026474349785326985, gamma=758.679139848782, kernel=rbf\n",
      "[CV 1/5; 58/400] END C=0.026474349785326985, gamma=758.679139848782, kernel=rbf;, score=0.506 total time=  12.5s\n",
      "[CV 2/5; 58/400] START C=0.026474349785326985, gamma=758.679139848782, kernel=rbf\n",
      "[CV 2/5; 58/400] END C=0.026474349785326985, gamma=758.679139848782, kernel=rbf;, score=0.506 total time=  12.6s\n",
      "[CV 3/5; 58/400] START C=0.026474349785326985, gamma=758.679139848782, kernel=rbf\n",
      "[CV 3/5; 58/400] END C=0.026474349785326985, gamma=758.679139848782, kernel=rbf;, score=0.506 total time=  12.3s\n",
      "[CV 4/5; 58/400] START C=0.026474349785326985, gamma=758.679139848782, kernel=rbf\n",
      "[CV 4/5; 58/400] END C=0.026474349785326985, gamma=758.679139848782, kernel=rbf;, score=0.507 total time=  12.6s\n",
      "[CV 5/5; 58/400] START C=0.026474349785326985, gamma=758.679139848782, kernel=rbf\n",
      "[CV 5/5; 58/400] END C=0.026474349785326985, gamma=758.679139848782, kernel=rbf;, score=0.507 total time=  12.6s\n",
      "[CV 1/5; 59/400] START C=0.026474349785326985, gamma=1503.8585842871576, kernel=rbf\n",
      "[CV 1/5; 59/400] END C=0.026474349785326985, gamma=1503.8585842871576, kernel=rbf;, score=0.506 total time=  12.5s\n",
      "[CV 2/5; 59/400] START C=0.026474349785326985, gamma=1503.8585842871576, kernel=rbf\n"
     ]
    },
    {
     "name": "stdout",
     "output_type": "stream",
     "text": [
      "[CV 2/5; 59/400] END C=0.026474349785326985, gamma=1503.8585842871576, kernel=rbf;, score=0.506 total time=  12.6s\n",
      "[CV 3/5; 59/400] START C=0.026474349785326985, gamma=1503.8585842871576, kernel=rbf\n",
      "[CV 3/5; 59/400] END C=0.026474349785326985, gamma=1503.8585842871576, kernel=rbf;, score=0.506 total time=  12.5s\n",
      "[CV 4/5; 59/400] START C=0.026474349785326985, gamma=1503.8585842871576, kernel=rbf\n",
      "[CV 4/5; 59/400] END C=0.026474349785326985, gamma=1503.8585842871576, kernel=rbf;, score=0.507 total time=  12.6s\n",
      "[CV 5/5; 59/400] START C=0.026474349785326985, gamma=1503.8585842871576, kernel=rbf\n",
      "[CV 5/5; 59/400] END C=0.026474349785326985, gamma=1503.8585842871576, kernel=rbf;, score=0.507 total time=  12.6s\n",
      "[CV 1/5; 60/400] START C=0.026474349785326985, gamma=2980.957987041727, kernel=rbf\n",
      "[CV 1/5; 60/400] END C=0.026474349785326985, gamma=2980.957987041727, kernel=rbf;, score=0.506 total time=  12.4s\n",
      "[CV 2/5; 60/400] START C=0.026474349785326985, gamma=2980.957987041727, kernel=rbf\n",
      "[CV 2/5; 60/400] END C=0.026474349785326985, gamma=2980.957987041727, kernel=rbf;, score=0.506 total time=  12.5s\n",
      "[CV 3/5; 60/400] START C=0.026474349785326985, gamma=2980.957987041727, kernel=rbf\n",
      "[CV 3/5; 60/400] END C=0.026474349785326985, gamma=2980.957987041727, kernel=rbf;, score=0.506 total time=  12.3s\n",
      "[CV 4/5; 60/400] START C=0.026474349785326985, gamma=2980.957987041727, kernel=rbf\n",
      "[CV 4/5; 60/400] END C=0.026474349785326985, gamma=2980.957987041727, kernel=rbf;, score=0.507 total time=  12.7s\n",
      "[CV 5/5; 60/400] START C=0.026474349785326985, gamma=2980.957987041727, kernel=rbf\n",
      "[CV 5/5; 60/400] END C=0.026474349785326985, gamma=2980.957987041727, kernel=rbf;, score=0.507 total time=  12.5s\n",
      "[CV 1/5; 61/400] START C=0.052477623407466346, gamma=0.006737946999085469, kernel=rbf\n",
      "[CV 1/5; 61/400] END C=0.052477623407466346, gamma=0.006737946999085469, kernel=rbf;, score=0.506 total time=  12.5s\n",
      "[CV 2/5; 61/400] START C=0.052477623407466346, gamma=0.006737946999085469, kernel=rbf\n",
      "[CV 2/5; 61/400] END C=0.052477623407466346, gamma=0.006737946999085469, kernel=rbf;, score=0.506 total time=  12.5s\n",
      "[CV 3/5; 61/400] START C=0.052477623407466346, gamma=0.006737946999085469, kernel=rbf\n",
      "[CV 3/5; 61/400] END C=0.052477623407466346, gamma=0.006737946999085469, kernel=rbf;, score=0.506 total time=  12.3s\n",
      "[CV 4/5; 61/400] START C=0.052477623407466346, gamma=0.006737946999085469, kernel=rbf\n",
      "[CV 4/5; 61/400] END C=0.052477623407466346, gamma=0.006737946999085469, kernel=rbf;, score=0.507 total time=  12.5s\n",
      "[CV 5/5; 61/400] START C=0.052477623407466346, gamma=0.006737946999085469, kernel=rbf\n",
      "[CV 5/5; 61/400] END C=0.052477623407466346, gamma=0.006737946999085469, kernel=rbf;, score=0.507 total time=  12.4s\n",
      "[CV 1/5; 62/400] START C=0.052477623407466346, gamma=0.013356001111439869, kernel=rbf\n",
      "[CV 1/5; 62/400] END C=0.052477623407466346, gamma=0.013356001111439869, kernel=rbf;, score=0.506 total time=  12.4s\n",
      "[CV 2/5; 62/400] START C=0.052477623407466346, gamma=0.013356001111439869, kernel=rbf\n",
      "[CV 2/5; 62/400] END C=0.052477623407466346, gamma=0.013356001111439869, kernel=rbf;, score=0.506 total time=  12.4s\n",
      "[CV 3/5; 62/400] START C=0.052477623407466346, gamma=0.013356001111439869, kernel=rbf\n",
      "[CV 3/5; 62/400] END C=0.052477623407466346, gamma=0.013356001111439869, kernel=rbf;, score=0.506 total time=  12.3s\n",
      "[CV 4/5; 62/400] START C=0.052477623407466346, gamma=0.013356001111439869, kernel=rbf\n",
      "[CV 4/5; 62/400] END C=0.052477623407466346, gamma=0.013356001111439869, kernel=rbf;, score=0.507 total time=  12.3s\n",
      "[CV 5/5; 62/400] START C=0.052477623407466346, gamma=0.013356001111439869, kernel=rbf\n",
      "[CV 5/5; 62/400] END C=0.052477623407466346, gamma=0.013356001111439869, kernel=rbf;, score=0.507 total time=  12.4s\n",
      "[CV 1/5; 63/400] START C=0.052477623407466346, gamma=0.026474349785326985, kernel=rbf\n",
      "[CV 1/5; 63/400] END C=0.052477623407466346, gamma=0.026474349785326985, kernel=rbf;, score=0.506 total time=  12.4s\n",
      "[CV 2/5; 63/400] START C=0.052477623407466346, gamma=0.026474349785326985, kernel=rbf\n",
      "[CV 2/5; 63/400] END C=0.052477623407466346, gamma=0.026474349785326985, kernel=rbf;, score=0.506 total time=  12.3s\n",
      "[CV 3/5; 63/400] START C=0.052477623407466346, gamma=0.026474349785326985, kernel=rbf\n",
      "[CV 3/5; 63/400] END C=0.052477623407466346, gamma=0.026474349785326985, kernel=rbf;, score=0.506 total time=  12.4s\n",
      "[CV 4/5; 63/400] START C=0.052477623407466346, gamma=0.026474349785326985, kernel=rbf\n",
      "[CV 4/5; 63/400] END C=0.052477623407466346, gamma=0.026474349785326985, kernel=rbf;, score=0.507 total time=  12.7s\n",
      "[CV 5/5; 63/400] START C=0.052477623407466346, gamma=0.026474349785326985, kernel=rbf\n",
      "[CV 5/5; 63/400] END C=0.052477623407466346, gamma=0.026474349785326985, kernel=rbf;, score=0.507 total time=  12.4s\n",
      "[CV 1/5; 64/400] START C=0.052477623407466346, gamma=0.052477623407466346, kernel=rbf\n",
      "[CV 1/5; 64/400] END C=0.052477623407466346, gamma=0.052477623407466346, kernel=rbf;, score=0.506 total time=  12.3s\n",
      "[CV 2/5; 64/400] START C=0.052477623407466346, gamma=0.052477623407466346, kernel=rbf\n",
      "[CV 2/5; 64/400] END C=0.052477623407466346, gamma=0.052477623407466346, kernel=rbf;, score=0.506 total time=  12.9s\n",
      "[CV 3/5; 64/400] START C=0.052477623407466346, gamma=0.052477623407466346, kernel=rbf\n",
      "[CV 3/5; 64/400] END C=0.052477623407466346, gamma=0.052477623407466346, kernel=rbf;, score=0.506 total time=  17.5s\n",
      "[CV 4/5; 64/400] START C=0.052477623407466346, gamma=0.052477623407466346, kernel=rbf\n",
      "[CV 4/5; 64/400] END C=0.052477623407466346, gamma=0.052477623407466346, kernel=rbf;, score=0.507 total time=  13.9s\n",
      "[CV 5/5; 64/400] START C=0.052477623407466346, gamma=0.052477623407466346, kernel=rbf\n",
      "[CV 5/5; 64/400] END C=0.052477623407466346, gamma=0.052477623407466346, kernel=rbf;, score=0.507 total time=  12.8s\n",
      "[CV 1/5; 65/400] START C=0.052477623407466346, gamma=0.10402147666803764, kernel=rbf\n",
      "[CV 1/5; 65/400] END C=0.052477623407466346, gamma=0.10402147666803764, kernel=rbf;, score=0.506 total time=  13.1s\n",
      "[CV 2/5; 65/400] START C=0.052477623407466346, gamma=0.10402147666803764, kernel=rbf\n",
      "[CV 2/5; 65/400] END C=0.052477623407466346, gamma=0.10402147666803764, kernel=rbf;, score=0.506 total time=  13.0s\n",
      "[CV 3/5; 65/400] START C=0.052477623407466346, gamma=0.10402147666803764, kernel=rbf\n",
      "[CV 3/5; 65/400] END C=0.052477623407466346, gamma=0.10402147666803764, kernel=rbf;, score=0.506 total time=  12.5s\n",
      "[CV 4/5; 65/400] START C=0.052477623407466346, gamma=0.10402147666803764, kernel=rbf\n",
      "[CV 4/5; 65/400] END C=0.052477623407466346, gamma=0.10402147666803764, kernel=rbf;, score=0.507 total time=  12.9s\n",
      "[CV 5/5; 65/400] START C=0.052477623407466346, gamma=0.10402147666803764, kernel=rbf\n",
      "[CV 5/5; 65/400] END C=0.052477623407466346, gamma=0.10402147666803764, kernel=rbf;, score=0.507 total time=  13.8s\n",
      "[CV 1/5; 66/400] START C=0.052477623407466346, gamma=0.20619202825140895, kernel=rbf\n",
      "[CV 1/5; 66/400] END C=0.052477623407466346, gamma=0.20619202825140895, kernel=rbf;, score=0.506 total time=  13.1s\n",
      "[CV 2/5; 66/400] START C=0.052477623407466346, gamma=0.20619202825140895, kernel=rbf\n",
      "[CV 2/5; 66/400] END C=0.052477623407466346, gamma=0.20619202825140895, kernel=rbf;, score=0.506 total time=  14.1s\n",
      "[CV 3/5; 66/400] START C=0.052477623407466346, gamma=0.20619202825140895, kernel=rbf\n",
      "[CV 3/5; 66/400] END C=0.052477623407466346, gamma=0.20619202825140895, kernel=rbf;, score=0.506 total time=  13.5s\n",
      "[CV 4/5; 66/400] START C=0.052477623407466346, gamma=0.20619202825140895, kernel=rbf\n",
      "[CV 4/5; 66/400] END C=0.052477623407466346, gamma=0.20619202825140895, kernel=rbf;, score=0.507 total time=  12.2s\n",
      "[CV 5/5; 66/400] START C=0.052477623407466346, gamma=0.20619202825140895, kernel=rbf\n",
      "[CV 5/5; 66/400] END C=0.052477623407466346, gamma=0.20619202825140895, kernel=rbf;, score=0.507 total time=  13.1s\n",
      "[CV 1/5; 67/400] START C=0.052477623407466346, gamma=0.40871514110598417, kernel=rbf\n",
      "[CV 1/5; 67/400] END C=0.052477623407466346, gamma=0.40871514110598417, kernel=rbf;, score=0.506 total time=  13.4s\n",
      "[CV 2/5; 67/400] START C=0.052477623407466346, gamma=0.40871514110598417, kernel=rbf\n",
      "[CV 2/5; 67/400] END C=0.052477623407466346, gamma=0.40871514110598417, kernel=rbf;, score=0.506 total time=  13.5s\n",
      "[CV 3/5; 67/400] START C=0.052477623407466346, gamma=0.40871514110598417, kernel=rbf\n"
     ]
    },
    {
     "name": "stdout",
     "output_type": "stream",
     "text": [
      "[CV 3/5; 67/400] END C=0.052477623407466346, gamma=0.40871514110598417, kernel=rbf;, score=0.506 total time=  12.6s\n",
      "[CV 4/5; 67/400] START C=0.052477623407466346, gamma=0.40871514110598417, kernel=rbf\n",
      "[CV 4/5; 67/400] END C=0.052477623407466346, gamma=0.40871514110598417, kernel=rbf;, score=0.507 total time=  12.1s\n",
      "[CV 5/5; 67/400] START C=0.052477623407466346, gamma=0.40871514110598417, kernel=rbf\n",
      "[CV 5/5; 67/400] END C=0.052477623407466346, gamma=0.40871514110598417, kernel=rbf;, score=0.507 total time=  13.1s\n",
      "[CV 1/5; 68/400] START C=0.052477623407466346, gamma=0.8101577349324269, kernel=rbf\n",
      "[CV 1/5; 68/400] END C=0.052477623407466346, gamma=0.8101577349324269, kernel=rbf;, score=0.506 total time=  13.0s\n",
      "[CV 2/5; 68/400] START C=0.052477623407466346, gamma=0.8101577349324269, kernel=rbf\n",
      "[CV 2/5; 68/400] END C=0.052477623407466346, gamma=0.8101577349324269, kernel=rbf;, score=0.506 total time=  13.4s\n",
      "[CV 3/5; 68/400] START C=0.052477623407466346, gamma=0.8101577349324269, kernel=rbf\n",
      "[CV 3/5; 68/400] END C=0.052477623407466346, gamma=0.8101577349324269, kernel=rbf;, score=0.506 total time=  12.3s\n",
      "[CV 4/5; 68/400] START C=0.052477623407466346, gamma=0.8101577349324269, kernel=rbf\n",
      "[CV 4/5; 68/400] END C=0.052477623407466346, gamma=0.8101577349324269, kernel=rbf;, score=0.507 total time=  12.3s\n",
      "[CV 5/5; 68/400] START C=0.052477623407466346, gamma=0.8101577349324269, kernel=rbf\n",
      "[CV 5/5; 68/400] END C=0.052477623407466346, gamma=0.8101577349324269, kernel=rbf;, score=0.507 total time=  13.4s\n",
      "[CV 1/5; 69/400] START C=0.052477623407466346, gamma=1.6058997806999291, kernel=rbf\n",
      "[CV 1/5; 69/400] END C=0.052477623407466346, gamma=1.6058997806999291, kernel=rbf;, score=0.506 total time=  13.0s\n",
      "[CV 2/5; 69/400] START C=0.052477623407466346, gamma=1.6058997806999291, kernel=rbf\n",
      "[CV 2/5; 69/400] END C=0.052477623407466346, gamma=1.6058997806999291, kernel=rbf;, score=0.506 total time=  13.6s\n",
      "[CV 3/5; 69/400] START C=0.052477623407466346, gamma=1.6058997806999291, kernel=rbf\n",
      "[CV 3/5; 69/400] END C=0.052477623407466346, gamma=1.6058997806999291, kernel=rbf;, score=0.506 total time=  13.5s\n",
      "[CV 4/5; 69/400] START C=0.052477623407466346, gamma=1.6058997806999291, kernel=rbf\n",
      "[CV 4/5; 69/400] END C=0.052477623407466346, gamma=1.6058997806999291, kernel=rbf;, score=0.507 total time=  13.9s\n",
      "[CV 5/5; 69/400] START C=0.052477623407466346, gamma=1.6058997806999291, kernel=rbf\n",
      "[CV 5/5; 69/400] END C=0.052477623407466346, gamma=1.6058997806999291, kernel=rbf;, score=0.507 total time=  12.6s\n",
      "[CV 1/5; 70/400] START C=0.052477623407466346, gamma=3.1832246912598827, kernel=rbf\n",
      "[CV 1/5; 70/400] END C=0.052477623407466346, gamma=3.1832246912598827, kernel=rbf;, score=0.506 total time=  13.6s\n",
      "[CV 2/5; 70/400] START C=0.052477623407466346, gamma=3.1832246912598827, kernel=rbf\n",
      "[CV 2/5; 70/400] END C=0.052477623407466346, gamma=3.1832246912598827, kernel=rbf;, score=0.506 total time=  14.2s\n",
      "[CV 3/5; 70/400] START C=0.052477623407466346, gamma=3.1832246912598827, kernel=rbf\n",
      "[CV 3/5; 70/400] END C=0.052477623407466346, gamma=3.1832246912598827, kernel=rbf;, score=0.506 total time=  13.1s\n",
      "[CV 4/5; 70/400] START C=0.052477623407466346, gamma=3.1832246912598827, kernel=rbf\n",
      "[CV 4/5; 70/400] END C=0.052477623407466346, gamma=3.1832246912598827, kernel=rbf;, score=0.507 total time=  12.9s\n",
      "[CV 5/5; 70/400] START C=0.052477623407466346, gamma=3.1832246912598827, kernel=rbf\n",
      "[CV 5/5; 70/400] END C=0.052477623407466346, gamma=3.1832246912598827, kernel=rbf;, score=0.507 total time=  12.7s\n",
      "[CV 1/5; 71/400] START C=0.052477623407466346, gamma=6.3098080943943815, kernel=rbf\n",
      "[CV 1/5; 71/400] END C=0.052477623407466346, gamma=6.3098080943943815, kernel=rbf;, score=0.506 total time=  12.9s\n",
      "[CV 2/5; 71/400] START C=0.052477623407466346, gamma=6.3098080943943815, kernel=rbf\n",
      "[CV 2/5; 71/400] END C=0.052477623407466346, gamma=6.3098080943943815, kernel=rbf;, score=0.506 total time=  13.5s\n",
      "[CV 3/5; 71/400] START C=0.052477623407466346, gamma=6.3098080943943815, kernel=rbf\n",
      "[CV 3/5; 71/400] END C=0.052477623407466346, gamma=6.3098080943943815, kernel=rbf;, score=0.506 total time=  12.5s\n",
      "[CV 4/5; 71/400] START C=0.052477623407466346, gamma=6.3098080943943815, kernel=rbf\n",
      "[CV 4/5; 71/400] END C=0.052477623407466346, gamma=6.3098080943943815, kernel=rbf;, score=0.507 total time=  13.0s\n",
      "[CV 5/5; 71/400] START C=0.052477623407466346, gamma=6.3098080943943815, kernel=rbf\n",
      "[CV 5/5; 71/400] END C=0.052477623407466346, gamma=6.3098080943943815, kernel=rbf;, score=0.507 total time=  12.6s\n",
      "[CV 1/5; 72/400] START C=0.052477623407466346, gamma=12.507341469611143, kernel=rbf\n",
      "[CV 1/5; 72/400] END C=0.052477623407466346, gamma=12.507341469611143, kernel=rbf;, score=0.506 total time=  13.6s\n",
      "[CV 2/5; 72/400] START C=0.052477623407466346, gamma=12.507341469611143, kernel=rbf\n",
      "[CV 2/5; 72/400] END C=0.052477623407466346, gamma=12.507341469611143, kernel=rbf;, score=0.506 total time=  13.2s\n",
      "[CV 3/5; 72/400] START C=0.052477623407466346, gamma=12.507341469611143, kernel=rbf\n",
      "[CV 3/5; 72/400] END C=0.052477623407466346, gamma=12.507341469611143, kernel=rbf;, score=0.506 total time=  13.7s\n",
      "[CV 4/5; 72/400] START C=0.052477623407466346, gamma=12.507341469611143, kernel=rbf\n",
      "[CV 4/5; 72/400] END C=0.052477623407466346, gamma=12.507341469611143, kernel=rbf;, score=0.507 total time=  13.2s\n",
      "[CV 5/5; 72/400] START C=0.052477623407466346, gamma=12.507341469611143, kernel=rbf\n",
      "[CV 5/5; 72/400] END C=0.052477623407466346, gamma=12.507341469611143, kernel=rbf;, score=0.507 total time=  13.3s\n",
      "[CV 1/5; 73/400] START C=0.052477623407466346, gamma=24.792131281525027, kernel=rbf\n",
      "[CV 1/5; 73/400] END C=0.052477623407466346, gamma=24.792131281525027, kernel=rbf;, score=0.506 total time=  13.5s\n",
      "[CV 2/5; 73/400] START C=0.052477623407466346, gamma=24.792131281525027, kernel=rbf\n",
      "[CV 2/5; 73/400] END C=0.052477623407466346, gamma=24.792131281525027, kernel=rbf;, score=0.506 total time=  13.3s\n",
      "[CV 3/5; 73/400] START C=0.052477623407466346, gamma=24.792131281525027, kernel=rbf\n",
      "[CV 3/5; 73/400] END C=0.052477623407466346, gamma=24.792131281525027, kernel=rbf;, score=0.506 total time=  13.1s\n",
      "[CV 4/5; 73/400] START C=0.052477623407466346, gamma=24.792131281525027, kernel=rbf\n",
      "[CV 4/5; 73/400] END C=0.052477623407466346, gamma=24.792131281525027, kernel=rbf;, score=0.507 total time=  13.1s\n",
      "[CV 5/5; 73/400] START C=0.052477623407466346, gamma=24.792131281525027, kernel=rbf\n",
      "[CV 5/5; 73/400] END C=0.052477623407466346, gamma=24.792131281525027, kernel=rbf;, score=0.507 total time=  12.5s\n",
      "[CV 1/5; 74/400] START C=0.052477623407466346, gamma=49.143119261097524, kernel=rbf\n",
      "[CV 1/5; 74/400] END C=0.052477623407466346, gamma=49.143119261097524, kernel=rbf;, score=0.506 total time=  12.8s\n",
      "[CV 2/5; 74/400] START C=0.052477623407466346, gamma=49.143119261097524, kernel=rbf\n",
      "[CV 2/5; 74/400] END C=0.052477623407466346, gamma=49.143119261097524, kernel=rbf;, score=0.506 total time=  13.4s\n",
      "[CV 3/5; 74/400] START C=0.052477623407466346, gamma=49.143119261097524, kernel=rbf\n",
      "[CV 3/5; 74/400] END C=0.052477623407466346, gamma=49.143119261097524, kernel=rbf;, score=0.506 total time=  12.3s\n",
      "[CV 4/5; 74/400] START C=0.052477623407466346, gamma=49.143119261097524, kernel=rbf\n",
      "[CV 4/5; 74/400] END C=0.052477623407466346, gamma=49.143119261097524, kernel=rbf;, score=0.507 total time=  12.3s\n",
      "[CV 5/5; 74/400] START C=0.052477623407466346, gamma=49.143119261097524, kernel=rbf\n",
      "[CV 5/5; 74/400] END C=0.052477623407466346, gamma=49.143119261097524, kernel=rbf;, score=0.507 total time=  14.7s\n",
      "[CV 1/5; 75/400] START C=0.052477623407466346, gamma=97.41180148195387, kernel=rbf\n",
      "[CV 1/5; 75/400] END C=0.052477623407466346, gamma=97.41180148195387, kernel=rbf;, score=0.506 total time=  19.0s\n",
      "[CV 2/5; 75/400] START C=0.052477623407466346, gamma=97.41180148195387, kernel=rbf\n",
      "[CV 2/5; 75/400] END C=0.052477623407466346, gamma=97.41180148195387, kernel=rbf;, score=0.506 total time=  20.1s\n",
      "[CV 3/5; 75/400] START C=0.052477623407466346, gamma=97.41180148195387, kernel=rbf\n",
      "[CV 3/5; 75/400] END C=0.052477623407466346, gamma=97.41180148195387, kernel=rbf;, score=0.506 total time=  14.2s\n",
      "[CV 4/5; 75/400] START C=0.052477623407466346, gamma=97.41180148195387, kernel=rbf\n",
      "[CV 4/5; 75/400] END C=0.052477623407466346, gamma=97.41180148195387, kernel=rbf;, score=0.507 total time=  14.2s\n",
      "[CV 5/5; 75/400] START C=0.052477623407466346, gamma=97.41180148195387, kernel=rbf\n"
     ]
    },
    {
     "name": "stdout",
     "output_type": "stream",
     "text": [
      "[CV 5/5; 75/400] END C=0.052477623407466346, gamma=97.41180148195387, kernel=rbf;, score=0.507 total time=  14.3s\n",
      "[CV 1/5; 76/400] START C=0.052477623407466346, gamma=193.0902883381129, kernel=rbf\n",
      "[CV 1/5; 76/400] END C=0.052477623407466346, gamma=193.0902883381129, kernel=rbf;, score=0.506 total time=  15.8s\n",
      "[CV 2/5; 76/400] START C=0.052477623407466346, gamma=193.0902883381129, kernel=rbf\n",
      "[CV 2/5; 76/400] END C=0.052477623407466346, gamma=193.0902883381129, kernel=rbf;, score=0.506 total time=  14.0s\n",
      "[CV 3/5; 76/400] START C=0.052477623407466346, gamma=193.0902883381129, kernel=rbf\n",
      "[CV 3/5; 76/400] END C=0.052477623407466346, gamma=193.0902883381129, kernel=rbf;, score=0.506 total time=  13.8s\n",
      "[CV 4/5; 76/400] START C=0.052477623407466346, gamma=193.0902883381129, kernel=rbf\n",
      "[CV 4/5; 76/400] END C=0.052477623407466346, gamma=193.0902883381129, kernel=rbf;, score=0.507 total time=  13.6s\n",
      "[CV 5/5; 76/400] START C=0.052477623407466346, gamma=193.0902883381129, kernel=rbf\n",
      "[CV 5/5; 76/400] END C=0.052477623407466346, gamma=193.0902883381129, kernel=rbf;, score=0.507 total time=  13.9s\n",
      "[CV 1/5; 77/400] START C=0.052477623407466346, gamma=382.7447894740212, kernel=rbf\n",
      "[CV 1/5; 77/400] END C=0.052477623407466346, gamma=382.7447894740212, kernel=rbf;, score=0.506 total time=  15.2s\n",
      "[CV 2/5; 77/400] START C=0.052477623407466346, gamma=382.7447894740212, kernel=rbf\n",
      "[CV 2/5; 77/400] END C=0.052477623407466346, gamma=382.7447894740212, kernel=rbf;, score=0.506 total time=  14.9s\n",
      "[CV 3/5; 77/400] START C=0.052477623407466346, gamma=382.7447894740212, kernel=rbf\n",
      "[CV 3/5; 77/400] END C=0.052477623407466346, gamma=382.7447894740212, kernel=rbf;, score=0.506 total time=  14.3s\n",
      "[CV 4/5; 77/400] START C=0.052477623407466346, gamma=382.7447894740212, kernel=rbf\n",
      "[CV 4/5; 77/400] END C=0.052477623407466346, gamma=382.7447894740212, kernel=rbf;, score=0.507 total time=  14.1s\n",
      "[CV 5/5; 77/400] START C=0.052477623407466346, gamma=382.7447894740212, kernel=rbf\n",
      "[CV 5/5; 77/400] END C=0.052477623407466346, gamma=382.7447894740212, kernel=rbf;, score=0.507 total time=  14.1s\n",
      "[CV 1/5; 78/400] START C=0.052477623407466346, gamma=758.679139848782, kernel=rbf\n",
      "[CV 1/5; 78/400] END C=0.052477623407466346, gamma=758.679139848782, kernel=rbf;, score=0.506 total time=  13.7s\n",
      "[CV 2/5; 78/400] START C=0.052477623407466346, gamma=758.679139848782, kernel=rbf\n",
      "[CV 2/5; 78/400] END C=0.052477623407466346, gamma=758.679139848782, kernel=rbf;, score=0.506 total time=  13.4s\n",
      "[CV 3/5; 78/400] START C=0.052477623407466346, gamma=758.679139848782, kernel=rbf\n",
      "[CV 3/5; 78/400] END C=0.052477623407466346, gamma=758.679139848782, kernel=rbf;, score=0.506 total time=  13.4s\n",
      "[CV 4/5; 78/400] START C=0.052477623407466346, gamma=758.679139848782, kernel=rbf\n",
      "[CV 4/5; 78/400] END C=0.052477623407466346, gamma=758.679139848782, kernel=rbf;, score=0.507 total time=  12.8s\n",
      "[CV 5/5; 78/400] START C=0.052477623407466346, gamma=758.679139848782, kernel=rbf\n",
      "[CV 5/5; 78/400] END C=0.052477623407466346, gamma=758.679139848782, kernel=rbf;, score=0.507 total time=  13.4s\n",
      "[CV 1/5; 79/400] START C=0.052477623407466346, gamma=1503.8585842871576, kernel=rbf\n",
      "[CV 1/5; 79/400] END C=0.052477623407466346, gamma=1503.8585842871576, kernel=rbf;, score=0.506 total time=  13.6s\n",
      "[CV 2/5; 79/400] START C=0.052477623407466346, gamma=1503.8585842871576, kernel=rbf\n",
      "[CV 2/5; 79/400] END C=0.052477623407466346, gamma=1503.8585842871576, kernel=rbf;, score=0.506 total time=  14.0s\n",
      "[CV 3/5; 79/400] START C=0.052477623407466346, gamma=1503.8585842871576, kernel=rbf\n",
      "[CV 3/5; 79/400] END C=0.052477623407466346, gamma=1503.8585842871576, kernel=rbf;, score=0.506 total time=  13.6s\n",
      "[CV 4/5; 79/400] START C=0.052477623407466346, gamma=1503.8585842871576, kernel=rbf\n",
      "[CV 4/5; 79/400] END C=0.052477623407466346, gamma=1503.8585842871576, kernel=rbf;, score=0.507 total time=  14.5s\n",
      "[CV 5/5; 79/400] START C=0.052477623407466346, gamma=1503.8585842871576, kernel=rbf\n",
      "[CV 5/5; 79/400] END C=0.052477623407466346, gamma=1503.8585842871576, kernel=rbf;, score=0.507 total time=  12.4s\n",
      "[CV 1/5; 80/400] START C=0.052477623407466346, gamma=2980.957987041727, kernel=rbf\n",
      "[CV 1/5; 80/400] END C=0.052477623407466346, gamma=2980.957987041727, kernel=rbf;, score=0.506 total time=  12.7s\n",
      "[CV 2/5; 80/400] START C=0.052477623407466346, gamma=2980.957987041727, kernel=rbf\n",
      "[CV 2/5; 80/400] END C=0.052477623407466346, gamma=2980.957987041727, kernel=rbf;, score=0.506 total time=  13.7s\n",
      "[CV 3/5; 80/400] START C=0.052477623407466346, gamma=2980.957987041727, kernel=rbf\n",
      "[CV 3/5; 80/400] END C=0.052477623407466346, gamma=2980.957987041727, kernel=rbf;, score=0.506 total time=  13.5s\n",
      "[CV 4/5; 80/400] START C=0.052477623407466346, gamma=2980.957987041727, kernel=rbf\n",
      "[CV 4/5; 80/400] END C=0.052477623407466346, gamma=2980.957987041727, kernel=rbf;, score=0.507 total time=  13.5s\n",
      "[CV 5/5; 80/400] START C=0.052477623407466346, gamma=2980.957987041727, kernel=rbf\n",
      "[CV 5/5; 80/400] END C=0.052477623407466346, gamma=2980.957987041727, kernel=rbf;, score=0.507 total time=  12.8s\n",
      "[CV 1/5; 81/400] START C=0.10402147666803764, gamma=0.006737946999085469, kernel=rbf\n",
      "[CV 1/5; 81/400] END C=0.10402147666803764, gamma=0.006737946999085469, kernel=rbf;, score=0.506 total time=  14.2s\n",
      "[CV 2/5; 81/400] START C=0.10402147666803764, gamma=0.006737946999085469, kernel=rbf\n",
      "[CV 2/5; 81/400] END C=0.10402147666803764, gamma=0.006737946999085469, kernel=rbf;, score=0.506 total time=  15.5s\n",
      "[CV 3/5; 81/400] START C=0.10402147666803764, gamma=0.006737946999085469, kernel=rbf\n",
      "[CV 3/5; 81/400] END C=0.10402147666803764, gamma=0.006737946999085469, kernel=rbf;, score=0.506 total time=  13.3s\n",
      "[CV 4/5; 81/400] START C=0.10402147666803764, gamma=0.006737946999085469, kernel=rbf\n",
      "[CV 4/5; 81/400] END C=0.10402147666803764, gamma=0.006737946999085469, kernel=rbf;, score=0.507 total time=  13.8s\n",
      "[CV 5/5; 81/400] START C=0.10402147666803764, gamma=0.006737946999085469, kernel=rbf\n",
      "[CV 5/5; 81/400] END C=0.10402147666803764, gamma=0.006737946999085469, kernel=rbf;, score=0.507 total time=  14.1s\n",
      "[CV 1/5; 82/400] START C=0.10402147666803764, gamma=0.013356001111439869, kernel=rbf\n",
      "[CV 1/5; 82/400] END C=0.10402147666803764, gamma=0.013356001111439869, kernel=rbf;, score=0.506 total time=  15.7s\n",
      "[CV 2/5; 82/400] START C=0.10402147666803764, gamma=0.013356001111439869, kernel=rbf\n",
      "[CV 2/5; 82/400] END C=0.10402147666803764, gamma=0.013356001111439869, kernel=rbf;, score=0.506 total time=  13.3s\n",
      "[CV 3/5; 82/400] START C=0.10402147666803764, gamma=0.013356001111439869, kernel=rbf\n",
      "[CV 3/5; 82/400] END C=0.10402147666803764, gamma=0.013356001111439869, kernel=rbf;, score=0.506 total time=  13.6s\n",
      "[CV 4/5; 82/400] START C=0.10402147666803764, gamma=0.013356001111439869, kernel=rbf\n",
      "[CV 4/5; 82/400] END C=0.10402147666803764, gamma=0.013356001111439869, kernel=rbf;, score=0.507 total time=  13.5s\n",
      "[CV 5/5; 82/400] START C=0.10402147666803764, gamma=0.013356001111439869, kernel=rbf\n",
      "[CV 5/5; 82/400] END C=0.10402147666803764, gamma=0.013356001111439869, kernel=rbf;, score=0.507 total time=  14.3s\n",
      "[CV 1/5; 83/400] START C=0.10402147666803764, gamma=0.026474349785326985, kernel=rbf\n",
      "[CV 1/5; 83/400] END C=0.10402147666803764, gamma=0.026474349785326985, kernel=rbf;, score=0.506 total time=  13.9s\n",
      "[CV 2/5; 83/400] START C=0.10402147666803764, gamma=0.026474349785326985, kernel=rbf\n",
      "[CV 2/5; 83/400] END C=0.10402147666803764, gamma=0.026474349785326985, kernel=rbf;, score=0.506 total time=  13.0s\n",
      "[CV 3/5; 83/400] START C=0.10402147666803764, gamma=0.026474349785326985, kernel=rbf\n",
      "[CV 3/5; 83/400] END C=0.10402147666803764, gamma=0.026474349785326985, kernel=rbf;, score=0.506 total time=  13.8s\n",
      "[CV 4/5; 83/400] START C=0.10402147666803764, gamma=0.026474349785326985, kernel=rbf\n",
      "[CV 4/5; 83/400] END C=0.10402147666803764, gamma=0.026474349785326985, kernel=rbf;, score=0.507 total time=  13.9s\n",
      "[CV 5/5; 83/400] START C=0.10402147666803764, gamma=0.026474349785326985, kernel=rbf\n",
      "[CV 5/5; 83/400] END C=0.10402147666803764, gamma=0.026474349785326985, kernel=rbf;, score=0.507 total time=  14.3s\n",
      "[CV 1/5; 84/400] START C=0.10402147666803764, gamma=0.052477623407466346, kernel=rbf\n",
      "[CV 1/5; 84/400] END C=0.10402147666803764, gamma=0.052477623407466346, kernel=rbf;, score=0.506 total time=  13.9s\n",
      "[CV 2/5; 84/400] START C=0.10402147666803764, gamma=0.052477623407466346, kernel=rbf\n"
     ]
    },
    {
     "name": "stdout",
     "output_type": "stream",
     "text": [
      "[CV 2/5; 84/400] END C=0.10402147666803764, gamma=0.052477623407466346, kernel=rbf;, score=0.506 total time=  13.5s\n",
      "[CV 3/5; 84/400] START C=0.10402147666803764, gamma=0.052477623407466346, kernel=rbf\n",
      "[CV 3/5; 84/400] END C=0.10402147666803764, gamma=0.052477623407466346, kernel=rbf;, score=0.506 total time=  13.7s\n",
      "[CV 4/5; 84/400] START C=0.10402147666803764, gamma=0.052477623407466346, kernel=rbf\n",
      "[CV 4/5; 84/400] END C=0.10402147666803764, gamma=0.052477623407466346, kernel=rbf;, score=0.507 total time=  13.3s\n",
      "[CV 5/5; 84/400] START C=0.10402147666803764, gamma=0.052477623407466346, kernel=rbf\n",
      "[CV 5/5; 84/400] END C=0.10402147666803764, gamma=0.052477623407466346, kernel=rbf;, score=0.507 total time=  13.1s\n",
      "[CV 1/5; 85/400] START C=0.10402147666803764, gamma=0.10402147666803764, kernel=rbf\n",
      "[CV 1/5; 85/400] END C=0.10402147666803764, gamma=0.10402147666803764, kernel=rbf;, score=0.506 total time=  12.5s\n",
      "[CV 2/5; 85/400] START C=0.10402147666803764, gamma=0.10402147666803764, kernel=rbf\n",
      "[CV 2/5; 85/400] END C=0.10402147666803764, gamma=0.10402147666803764, kernel=rbf;, score=0.506 total time=  12.8s\n",
      "[CV 3/5; 85/400] START C=0.10402147666803764, gamma=0.10402147666803764, kernel=rbf\n",
      "[CV 3/5; 85/400] END C=0.10402147666803764, gamma=0.10402147666803764, kernel=rbf;, score=0.506 total time=  12.5s\n",
      "[CV 4/5; 85/400] START C=0.10402147666803764, gamma=0.10402147666803764, kernel=rbf\n",
      "[CV 4/5; 85/400] END C=0.10402147666803764, gamma=0.10402147666803764, kernel=rbf;, score=0.507 total time=  16.7s\n",
      "[CV 5/5; 85/400] START C=0.10402147666803764, gamma=0.10402147666803764, kernel=rbf\n",
      "[CV 5/5; 85/400] END C=0.10402147666803764, gamma=0.10402147666803764, kernel=rbf;, score=0.507 total time=  13.3s\n",
      "[CV 1/5; 86/400] START C=0.10402147666803764, gamma=0.20619202825140895, kernel=rbf\n",
      "[CV 1/5; 86/400] END C=0.10402147666803764, gamma=0.20619202825140895, kernel=rbf;, score=0.506 total time=  13.3s\n",
      "[CV 2/5; 86/400] START C=0.10402147666803764, gamma=0.20619202825140895, kernel=rbf\n",
      "[CV 2/5; 86/400] END C=0.10402147666803764, gamma=0.20619202825140895, kernel=rbf;, score=0.506 total time=  14.3s\n",
      "[CV 3/5; 86/400] START C=0.10402147666803764, gamma=0.20619202825140895, kernel=rbf\n",
      "[CV 3/5; 86/400] END C=0.10402147666803764, gamma=0.20619202825140895, kernel=rbf;, score=0.506 total time=  14.1s\n",
      "[CV 4/5; 86/400] START C=0.10402147666803764, gamma=0.20619202825140895, kernel=rbf\n",
      "[CV 4/5; 86/400] END C=0.10402147666803764, gamma=0.20619202825140895, kernel=rbf;, score=0.507 total time=  13.1s\n",
      "[CV 5/5; 86/400] START C=0.10402147666803764, gamma=0.20619202825140895, kernel=rbf\n",
      "[CV 5/5; 86/400] END C=0.10402147666803764, gamma=0.20619202825140895, kernel=rbf;, score=0.507 total time=  14.4s\n",
      "[CV 1/5; 87/400] START C=0.10402147666803764, gamma=0.40871514110598417, kernel=rbf\n",
      "[CV 1/5; 87/400] END C=0.10402147666803764, gamma=0.40871514110598417, kernel=rbf;, score=0.506 total time=  14.8s\n",
      "[CV 2/5; 87/400] START C=0.10402147666803764, gamma=0.40871514110598417, kernel=rbf\n",
      "[CV 2/5; 87/400] END C=0.10402147666803764, gamma=0.40871514110598417, kernel=rbf;, score=0.506 total time=  12.9s\n",
      "[CV 3/5; 87/400] START C=0.10402147666803764, gamma=0.40871514110598417, kernel=rbf\n",
      "[CV 3/5; 87/400] END C=0.10402147666803764, gamma=0.40871514110598417, kernel=rbf;, score=0.506 total time=  14.1s\n",
      "[CV 4/5; 87/400] START C=0.10402147666803764, gamma=0.40871514110598417, kernel=rbf\n",
      "[CV 4/5; 87/400] END C=0.10402147666803764, gamma=0.40871514110598417, kernel=rbf;, score=0.507 total time=  14.5s\n",
      "[CV 5/5; 87/400] START C=0.10402147666803764, gamma=0.40871514110598417, kernel=rbf\n",
      "[CV 5/5; 87/400] END C=0.10402147666803764, gamma=0.40871514110598417, kernel=rbf;, score=0.507 total time=  13.5s\n",
      "[CV 1/5; 88/400] START C=0.10402147666803764, gamma=0.8101577349324269, kernel=rbf\n",
      "[CV 1/5; 88/400] END C=0.10402147666803764, gamma=0.8101577349324269, kernel=rbf;, score=0.506 total time=  15.7s\n",
      "[CV 2/5; 88/400] START C=0.10402147666803764, gamma=0.8101577349324269, kernel=rbf\n",
      "[CV 2/5; 88/400] END C=0.10402147666803764, gamma=0.8101577349324269, kernel=rbf;, score=0.506 total time=  15.0s\n",
      "[CV 3/5; 88/400] START C=0.10402147666803764, gamma=0.8101577349324269, kernel=rbf\n",
      "[CV 3/5; 88/400] END C=0.10402147666803764, gamma=0.8101577349324269, kernel=rbf;, score=0.506 total time=  14.5s\n",
      "[CV 4/5; 88/400] START C=0.10402147666803764, gamma=0.8101577349324269, kernel=rbf\n",
      "[CV 4/5; 88/400] END C=0.10402147666803764, gamma=0.8101577349324269, kernel=rbf;, score=0.507 total time=  14.3s\n",
      "[CV 5/5; 88/400] START C=0.10402147666803764, gamma=0.8101577349324269, kernel=rbf\n",
      "[CV 5/5; 88/400] END C=0.10402147666803764, gamma=0.8101577349324269, kernel=rbf;, score=0.507 total time=  14.4s\n",
      "[CV 1/5; 89/400] START C=0.10402147666803764, gamma=1.6058997806999291, kernel=rbf\n",
      "[CV 1/5; 89/400] END C=0.10402147666803764, gamma=1.6058997806999291, kernel=rbf;, score=0.506 total time=  14.1s\n",
      "[CV 2/5; 89/400] START C=0.10402147666803764, gamma=1.6058997806999291, kernel=rbf\n",
      "[CV 2/5; 89/400] END C=0.10402147666803764, gamma=1.6058997806999291, kernel=rbf;, score=0.506 total time=  14.7s\n",
      "[CV 3/5; 89/400] START C=0.10402147666803764, gamma=1.6058997806999291, kernel=rbf\n",
      "[CV 3/5; 89/400] END C=0.10402147666803764, gamma=1.6058997806999291, kernel=rbf;, score=0.506 total time=  14.4s\n",
      "[CV 4/5; 89/400] START C=0.10402147666803764, gamma=1.6058997806999291, kernel=rbf\n",
      "[CV 4/5; 89/400] END C=0.10402147666803764, gamma=1.6058997806999291, kernel=rbf;, score=0.507 total time=  13.7s\n",
      "[CV 5/5; 89/400] START C=0.10402147666803764, gamma=1.6058997806999291, kernel=rbf\n",
      "[CV 5/5; 89/400] END C=0.10402147666803764, gamma=1.6058997806999291, kernel=rbf;, score=0.507 total time=  14.5s\n",
      "[CV 1/5; 90/400] START C=0.10402147666803764, gamma=3.1832246912598827, kernel=rbf\n",
      "[CV 1/5; 90/400] END C=0.10402147666803764, gamma=3.1832246912598827, kernel=rbf;, score=0.506 total time=  14.1s\n",
      "[CV 2/5; 90/400] START C=0.10402147666803764, gamma=3.1832246912598827, kernel=rbf\n",
      "[CV 2/5; 90/400] END C=0.10402147666803764, gamma=3.1832246912598827, kernel=rbf;, score=0.506 total time=  13.2s\n",
      "[CV 3/5; 90/400] START C=0.10402147666803764, gamma=3.1832246912598827, kernel=rbf\n",
      "[CV 3/5; 90/400] END C=0.10402147666803764, gamma=3.1832246912598827, kernel=rbf;, score=0.506 total time=  12.2s\n",
      "[CV 4/5; 90/400] START C=0.10402147666803764, gamma=3.1832246912598827, kernel=rbf\n",
      "[CV 4/5; 90/400] END C=0.10402147666803764, gamma=3.1832246912598827, kernel=rbf;, score=0.507 total time=  12.3s\n",
      "[CV 5/5; 90/400] START C=0.10402147666803764, gamma=3.1832246912598827, kernel=rbf\n",
      "[CV 5/5; 90/400] END C=0.10402147666803764, gamma=3.1832246912598827, kernel=rbf;, score=0.507 total time=  11.7s\n",
      "[CV 1/5; 91/400] START C=0.10402147666803764, gamma=6.3098080943943815, kernel=rbf\n",
      "[CV 1/5; 91/400] END C=0.10402147666803764, gamma=6.3098080943943815, kernel=rbf;, score=0.506 total time=  13.5s\n",
      "[CV 2/5; 91/400] START C=0.10402147666803764, gamma=6.3098080943943815, kernel=rbf\n",
      "[CV 2/5; 91/400] END C=0.10402147666803764, gamma=6.3098080943943815, kernel=rbf;, score=0.506 total time=  13.6s\n",
      "[CV 3/5; 91/400] START C=0.10402147666803764, gamma=6.3098080943943815, kernel=rbf\n",
      "[CV 3/5; 91/400] END C=0.10402147666803764, gamma=6.3098080943943815, kernel=rbf;, score=0.506 total time=  14.6s\n",
      "[CV 4/5; 91/400] START C=0.10402147666803764, gamma=6.3098080943943815, kernel=rbf\n",
      "[CV 4/5; 91/400] END C=0.10402147666803764, gamma=6.3098080943943815, kernel=rbf;, score=0.507 total time=  17.9s\n",
      "[CV 5/5; 91/400] START C=0.10402147666803764, gamma=6.3098080943943815, kernel=rbf\n",
      "[CV 5/5; 91/400] END C=0.10402147666803764, gamma=6.3098080943943815, kernel=rbf;, score=0.507 total time=  14.7s\n",
      "[CV 1/5; 92/400] START C=0.10402147666803764, gamma=12.507341469611143, kernel=rbf\n",
      "[CV 1/5; 92/400] END C=0.10402147666803764, gamma=12.507341469611143, kernel=rbf;, score=0.506 total time=  14.9s\n",
      "[CV 2/5; 92/400] START C=0.10402147666803764, gamma=12.507341469611143, kernel=rbf\n",
      "[CV 2/5; 92/400] END C=0.10402147666803764, gamma=12.507341469611143, kernel=rbf;, score=0.506 total time=  13.6s\n",
      "[CV 3/5; 92/400] START C=0.10402147666803764, gamma=12.507341469611143, kernel=rbf\n",
      "[CV 3/5; 92/400] END C=0.10402147666803764, gamma=12.507341469611143, kernel=rbf;, score=0.506 total time=  13.0s\n",
      "[CV 4/5; 92/400] START C=0.10402147666803764, gamma=12.507341469611143, kernel=rbf\n"
     ]
    },
    {
     "name": "stdout",
     "output_type": "stream",
     "text": [
      "[CV 4/5; 92/400] END C=0.10402147666803764, gamma=12.507341469611143, kernel=rbf;, score=0.507 total time=  13.5s\n",
      "[CV 5/5; 92/400] START C=0.10402147666803764, gamma=12.507341469611143, kernel=rbf\n",
      "[CV 5/5; 92/400] END C=0.10402147666803764, gamma=12.507341469611143, kernel=rbf;, score=0.507 total time=  12.5s\n",
      "[CV 1/5; 93/400] START C=0.10402147666803764, gamma=24.792131281525027, kernel=rbf\n",
      "[CV 1/5; 93/400] END C=0.10402147666803764, gamma=24.792131281525027, kernel=rbf;, score=0.506 total time=  13.5s\n",
      "[CV 2/5; 93/400] START C=0.10402147666803764, gamma=24.792131281525027, kernel=rbf\n",
      "[CV 2/5; 93/400] END C=0.10402147666803764, gamma=24.792131281525027, kernel=rbf;, score=0.506 total time=  12.3s\n",
      "[CV 3/5; 93/400] START C=0.10402147666803764, gamma=24.792131281525027, kernel=rbf\n",
      "[CV 3/5; 93/400] END C=0.10402147666803764, gamma=24.792131281525027, kernel=rbf;, score=0.506 total time=  12.3s\n",
      "[CV 4/5; 93/400] START C=0.10402147666803764, gamma=24.792131281525027, kernel=rbf\n",
      "[CV 4/5; 93/400] END C=0.10402147666803764, gamma=24.792131281525027, kernel=rbf;, score=0.507 total time=  14.0s\n",
      "[CV 5/5; 93/400] START C=0.10402147666803764, gamma=24.792131281525027, kernel=rbf\n",
      "[CV 5/5; 93/400] END C=0.10402147666803764, gamma=24.792131281525027, kernel=rbf;, score=0.507 total time=  13.4s\n",
      "[CV 1/5; 94/400] START C=0.10402147666803764, gamma=49.143119261097524, kernel=rbf\n",
      "[CV 1/5; 94/400] END C=0.10402147666803764, gamma=49.143119261097524, kernel=rbf;, score=0.506 total time=  12.4s\n",
      "[CV 2/5; 94/400] START C=0.10402147666803764, gamma=49.143119261097524, kernel=rbf\n",
      "[CV 2/5; 94/400] END C=0.10402147666803764, gamma=49.143119261097524, kernel=rbf;, score=0.506 total time=  13.0s\n",
      "[CV 3/5; 94/400] START C=0.10402147666803764, gamma=49.143119261097524, kernel=rbf\n",
      "[CV 3/5; 94/400] END C=0.10402147666803764, gamma=49.143119261097524, kernel=rbf;, score=0.506 total time=  13.4s\n",
      "[CV 4/5; 94/400] START C=0.10402147666803764, gamma=49.143119261097524, kernel=rbf\n",
      "[CV 4/5; 94/400] END C=0.10402147666803764, gamma=49.143119261097524, kernel=rbf;, score=0.507 total time=  14.9s\n",
      "[CV 5/5; 94/400] START C=0.10402147666803764, gamma=49.143119261097524, kernel=rbf\n",
      "[CV 5/5; 94/400] END C=0.10402147666803764, gamma=49.143119261097524, kernel=rbf;, score=0.507 total time=  12.9s\n",
      "[CV 1/5; 95/400] START C=0.10402147666803764, gamma=97.41180148195387, kernel=rbf\n",
      "[CV 1/5; 95/400] END C=0.10402147666803764, gamma=97.41180148195387, kernel=rbf;, score=0.506 total time=  13.7s\n",
      "[CV 2/5; 95/400] START C=0.10402147666803764, gamma=97.41180148195387, kernel=rbf\n",
      "[CV 2/5; 95/400] END C=0.10402147666803764, gamma=97.41180148195387, kernel=rbf;, score=0.506 total time=  13.5s\n",
      "[CV 3/5; 95/400] START C=0.10402147666803764, gamma=97.41180148195387, kernel=rbf\n",
      "[CV 3/5; 95/400] END C=0.10402147666803764, gamma=97.41180148195387, kernel=rbf;, score=0.506 total time=  13.2s\n",
      "[CV 4/5; 95/400] START C=0.10402147666803764, gamma=97.41180148195387, kernel=rbf\n",
      "[CV 4/5; 95/400] END C=0.10402147666803764, gamma=97.41180148195387, kernel=rbf;, score=0.507 total time=  13.6s\n",
      "[CV 5/5; 95/400] START C=0.10402147666803764, gamma=97.41180148195387, kernel=rbf\n",
      "[CV 5/5; 95/400] END C=0.10402147666803764, gamma=97.41180148195387, kernel=rbf;, score=0.507 total time=  13.6s\n",
      "[CV 1/5; 96/400] START C=0.10402147666803764, gamma=193.0902883381129, kernel=rbf\n",
      "[CV 1/5; 96/400] END C=0.10402147666803764, gamma=193.0902883381129, kernel=rbf;, score=0.506 total time=  13.6s\n",
      "[CV 2/5; 96/400] START C=0.10402147666803764, gamma=193.0902883381129, kernel=rbf\n",
      "[CV 2/5; 96/400] END C=0.10402147666803764, gamma=193.0902883381129, kernel=rbf;, score=0.506 total time=  13.4s\n",
      "[CV 3/5; 96/400] START C=0.10402147666803764, gamma=193.0902883381129, kernel=rbf\n",
      "[CV 3/5; 96/400] END C=0.10402147666803764, gamma=193.0902883381129, kernel=rbf;, score=0.506 total time=  12.7s\n",
      "[CV 4/5; 96/400] START C=0.10402147666803764, gamma=193.0902883381129, kernel=rbf\n",
      "[CV 4/5; 96/400] END C=0.10402147666803764, gamma=193.0902883381129, kernel=rbf;, score=0.507 total time=  15.3s\n",
      "[CV 5/5; 96/400] START C=0.10402147666803764, gamma=193.0902883381129, kernel=rbf\n",
      "[CV 5/5; 96/400] END C=0.10402147666803764, gamma=193.0902883381129, kernel=rbf;, score=0.507 total time=  14.7s\n",
      "[CV 1/5; 97/400] START C=0.10402147666803764, gamma=382.7447894740212, kernel=rbf\n",
      "[CV 1/5; 97/400] END C=0.10402147666803764, gamma=382.7447894740212, kernel=rbf;, score=0.506 total time=  18.8s\n",
      "[CV 2/5; 97/400] START C=0.10402147666803764, gamma=382.7447894740212, kernel=rbf\n",
      "[CV 2/5; 97/400] END C=0.10402147666803764, gamma=382.7447894740212, kernel=rbf;, score=0.506 total time=  13.8s\n",
      "[CV 3/5; 97/400] START C=0.10402147666803764, gamma=382.7447894740212, kernel=rbf\n",
      "[CV 3/5; 97/400] END C=0.10402147666803764, gamma=382.7447894740212, kernel=rbf;, score=0.506 total time=  13.3s\n",
      "[CV 4/5; 97/400] START C=0.10402147666803764, gamma=382.7447894740212, kernel=rbf\n",
      "[CV 4/5; 97/400] END C=0.10402147666803764, gamma=382.7447894740212, kernel=rbf;, score=0.507 total time=  12.5s\n",
      "[CV 5/5; 97/400] START C=0.10402147666803764, gamma=382.7447894740212, kernel=rbf\n",
      "[CV 5/5; 97/400] END C=0.10402147666803764, gamma=382.7447894740212, kernel=rbf;, score=0.507 total time=  13.1s\n",
      "[CV 1/5; 98/400] START C=0.10402147666803764, gamma=758.679139848782, kernel=rbf\n",
      "[CV 1/5; 98/400] END C=0.10402147666803764, gamma=758.679139848782, kernel=rbf;, score=0.506 total time=  13.4s\n",
      "[CV 2/5; 98/400] START C=0.10402147666803764, gamma=758.679139848782, kernel=rbf\n",
      "[CV 2/5; 98/400] END C=0.10402147666803764, gamma=758.679139848782, kernel=rbf;, score=0.506 total time=  13.6s\n",
      "[CV 3/5; 98/400] START C=0.10402147666803764, gamma=758.679139848782, kernel=rbf\n",
      "[CV 3/5; 98/400] END C=0.10402147666803764, gamma=758.679139848782, kernel=rbf;, score=0.506 total time=  13.4s\n",
      "[CV 4/5; 98/400] START C=0.10402147666803764, gamma=758.679139848782, kernel=rbf\n",
      "[CV 4/5; 98/400] END C=0.10402147666803764, gamma=758.679139848782, kernel=rbf;, score=0.507 total time=  13.7s\n",
      "[CV 5/5; 98/400] START C=0.10402147666803764, gamma=758.679139848782, kernel=rbf\n",
      "[CV 5/5; 98/400] END C=0.10402147666803764, gamma=758.679139848782, kernel=rbf;, score=0.507 total time=  12.2s\n",
      "[CV 1/5; 99/400] START C=0.10402147666803764, gamma=1503.8585842871576, kernel=rbf\n",
      "[CV 1/5; 99/400] END C=0.10402147666803764, gamma=1503.8585842871576, kernel=rbf;, score=0.506 total time=  11.8s\n",
      "[CV 2/5; 99/400] START C=0.10402147666803764, gamma=1503.8585842871576, kernel=rbf\n",
      "[CV 2/5; 99/400] END C=0.10402147666803764, gamma=1503.8585842871576, kernel=rbf;, score=0.506 total time=  12.6s\n",
      "[CV 3/5; 99/400] START C=0.10402147666803764, gamma=1503.8585842871576, kernel=rbf\n",
      "[CV 3/5; 99/400] END C=0.10402147666803764, gamma=1503.8585842871576, kernel=rbf;, score=0.506 total time=  12.2s\n",
      "[CV 4/5; 99/400] START C=0.10402147666803764, gamma=1503.8585842871576, kernel=rbf\n",
      "[CV 4/5; 99/400] END C=0.10402147666803764, gamma=1503.8585842871576, kernel=rbf;, score=0.507 total time=  12.1s\n",
      "[CV 5/5; 99/400] START C=0.10402147666803764, gamma=1503.8585842871576, kernel=rbf\n",
      "[CV 5/5; 99/400] END C=0.10402147666803764, gamma=1503.8585842871576, kernel=rbf;, score=0.507 total time=  12.7s\n",
      "[CV 1/5; 100/400] START C=0.10402147666803764, gamma=2980.957987041727, kernel=rbf\n",
      "[CV 1/5; 100/400] END C=0.10402147666803764, gamma=2980.957987041727, kernel=rbf;, score=0.506 total time=  13.8s\n",
      "[CV 2/5; 100/400] START C=0.10402147666803764, gamma=2980.957987041727, kernel=rbf\n",
      "[CV 2/5; 100/400] END C=0.10402147666803764, gamma=2980.957987041727, kernel=rbf;, score=0.506 total time=  11.9s\n",
      "[CV 3/5; 100/400] START C=0.10402147666803764, gamma=2980.957987041727, kernel=rbf\n",
      "[CV 3/5; 100/400] END C=0.10402147666803764, gamma=2980.957987041727, kernel=rbf;, score=0.506 total time=  12.4s\n",
      "[CV 4/5; 100/400] START C=0.10402147666803764, gamma=2980.957987041727, kernel=rbf\n",
      "[CV 4/5; 100/400] END C=0.10402147666803764, gamma=2980.957987041727, kernel=rbf;, score=0.507 total time=  12.5s\n",
      "[CV 5/5; 100/400] START C=0.10402147666803764, gamma=2980.957987041727, kernel=rbf\n",
      "[CV 5/5; 100/400] END C=0.10402147666803764, gamma=2980.957987041727, kernel=rbf;, score=0.507 total time=  12.7s\n",
      "[CV 1/5; 101/400] START C=0.20619202825140895, gamma=0.006737946999085469, kernel=rbf\n"
     ]
    },
    {
     "name": "stdout",
     "output_type": "stream",
     "text": [
      "[CV 1/5; 101/400] END C=0.20619202825140895, gamma=0.006737946999085469, kernel=rbf;, score=0.506 total time=  13.2s\n",
      "[CV 2/5; 101/400] START C=0.20619202825140895, gamma=0.006737946999085469, kernel=rbf\n",
      "[CV 2/5; 101/400] END C=0.20619202825140895, gamma=0.006737946999085469, kernel=rbf;, score=0.506 total time=  13.3s\n",
      "[CV 3/5; 101/400] START C=0.20619202825140895, gamma=0.006737946999085469, kernel=rbf\n",
      "[CV 3/5; 101/400] END C=0.20619202825140895, gamma=0.006737946999085469, kernel=rbf;, score=0.506 total time=  12.7s\n",
      "[CV 4/5; 101/400] START C=0.20619202825140895, gamma=0.006737946999085469, kernel=rbf\n",
      "[CV 4/5; 101/400] END C=0.20619202825140895, gamma=0.006737946999085469, kernel=rbf;, score=0.507 total time=  11.8s\n",
      "[CV 5/5; 101/400] START C=0.20619202825140895, gamma=0.006737946999085469, kernel=rbf\n",
      "[CV 5/5; 101/400] END C=0.20619202825140895, gamma=0.006737946999085469, kernel=rbf;, score=0.507 total time=  13.3s\n",
      "[CV 1/5; 102/400] START C=0.20619202825140895, gamma=0.013356001111439869, kernel=rbf\n",
      "[CV 1/5; 102/400] END C=0.20619202825140895, gamma=0.013356001111439869, kernel=rbf;, score=0.506 total time=  12.5s\n",
      "[CV 2/5; 102/400] START C=0.20619202825140895, gamma=0.013356001111439869, kernel=rbf\n",
      "[CV 2/5; 102/400] END C=0.20619202825140895, gamma=0.013356001111439869, kernel=rbf;, score=0.506 total time=  13.3s\n",
      "[CV 3/5; 102/400] START C=0.20619202825140895, gamma=0.013356001111439869, kernel=rbf\n",
      "[CV 3/5; 102/400] END C=0.20619202825140895, gamma=0.013356001111439869, kernel=rbf;, score=0.506 total time=  14.3s\n",
      "[CV 4/5; 102/400] START C=0.20619202825140895, gamma=0.013356001111439869, kernel=rbf\n",
      "[CV 4/5; 102/400] END C=0.20619202825140895, gamma=0.013356001111439869, kernel=rbf;, score=0.507 total time=  14.0s\n",
      "[CV 5/5; 102/400] START C=0.20619202825140895, gamma=0.013356001111439869, kernel=rbf\n",
      "[CV 5/5; 102/400] END C=0.20619202825140895, gamma=0.013356001111439869, kernel=rbf;, score=0.507 total time=  13.2s\n",
      "[CV 1/5; 103/400] START C=0.20619202825140895, gamma=0.026474349785326985, kernel=rbf\n",
      "[CV 1/5; 103/400] END C=0.20619202825140895, gamma=0.026474349785326985, kernel=rbf;, score=0.506 total time=  13.1s\n",
      "[CV 2/5; 103/400] START C=0.20619202825140895, gamma=0.026474349785326985, kernel=rbf\n",
      "[CV 2/5; 103/400] END C=0.20619202825140895, gamma=0.026474349785326985, kernel=rbf;, score=0.506 total time=  17.2s\n",
      "[CV 3/5; 103/400] START C=0.20619202825140895, gamma=0.026474349785326985, kernel=rbf\n",
      "[CV 3/5; 103/400] END C=0.20619202825140895, gamma=0.026474349785326985, kernel=rbf;, score=0.506 total time=  13.8s\n",
      "[CV 4/5; 103/400] START C=0.20619202825140895, gamma=0.026474349785326985, kernel=rbf\n",
      "[CV 4/5; 103/400] END C=0.20619202825140895, gamma=0.026474349785326985, kernel=rbf;, score=0.507 total time=  13.2s\n",
      "[CV 5/5; 103/400] START C=0.20619202825140895, gamma=0.026474349785326985, kernel=rbf\n",
      "[CV 5/5; 103/400] END C=0.20619202825140895, gamma=0.026474349785326985, kernel=rbf;, score=0.507 total time=  13.3s\n",
      "[CV 1/5; 104/400] START C=0.20619202825140895, gamma=0.052477623407466346, kernel=rbf\n",
      "[CV 1/5; 104/400] END C=0.20619202825140895, gamma=0.052477623407466346, kernel=rbf;, score=0.506 total time=  13.0s\n",
      "[CV 2/5; 104/400] START C=0.20619202825140895, gamma=0.052477623407466346, kernel=rbf\n",
      "[CV 2/5; 104/400] END C=0.20619202825140895, gamma=0.052477623407466346, kernel=rbf;, score=0.506 total time=  12.9s\n",
      "[CV 3/5; 104/400] START C=0.20619202825140895, gamma=0.052477623407466346, kernel=rbf\n",
      "[CV 3/5; 104/400] END C=0.20619202825140895, gamma=0.052477623407466346, kernel=rbf;, score=0.506 total time=  13.9s\n",
      "[CV 4/5; 104/400] START C=0.20619202825140895, gamma=0.052477623407466346, kernel=rbf\n",
      "[CV 4/5; 104/400] END C=0.20619202825140895, gamma=0.052477623407466346, kernel=rbf;, score=0.507 total time=  13.5s\n",
      "[CV 5/5; 104/400] START C=0.20619202825140895, gamma=0.052477623407466346, kernel=rbf\n",
      "[CV 5/5; 104/400] END C=0.20619202825140895, gamma=0.052477623407466346, kernel=rbf;, score=0.507 total time=  12.6s\n",
      "[CV 1/5; 105/400] START C=0.20619202825140895, gamma=0.10402147666803764, kernel=rbf\n",
      "[CV 1/5; 105/400] END C=0.20619202825140895, gamma=0.10402147666803764, kernel=rbf;, score=0.506 total time=  12.8s\n",
      "[CV 2/5; 105/400] START C=0.20619202825140895, gamma=0.10402147666803764, kernel=rbf\n",
      "[CV 2/5; 105/400] END C=0.20619202825140895, gamma=0.10402147666803764, kernel=rbf;, score=0.506 total time=  13.4s\n",
      "[CV 3/5; 105/400] START C=0.20619202825140895, gamma=0.10402147666803764, kernel=rbf\n",
      "[CV 3/5; 105/400] END C=0.20619202825140895, gamma=0.10402147666803764, kernel=rbf;, score=0.506 total time=  12.6s\n",
      "[CV 4/5; 105/400] START C=0.20619202825140895, gamma=0.10402147666803764, kernel=rbf\n",
      "[CV 4/5; 105/400] END C=0.20619202825140895, gamma=0.10402147666803764, kernel=rbf;, score=0.507 total time=  13.6s\n",
      "[CV 5/5; 105/400] START C=0.20619202825140895, gamma=0.10402147666803764, kernel=rbf\n",
      "[CV 5/5; 105/400] END C=0.20619202825140895, gamma=0.10402147666803764, kernel=rbf;, score=0.507 total time=  12.9s\n",
      "[CV 1/5; 106/400] START C=0.20619202825140895, gamma=0.20619202825140895, kernel=rbf\n",
      "[CV 1/5; 106/400] END C=0.20619202825140895, gamma=0.20619202825140895, kernel=rbf;, score=0.567 total time=  13.2s\n",
      "[CV 2/5; 106/400] START C=0.20619202825140895, gamma=0.20619202825140895, kernel=rbf\n",
      "[CV 2/5; 106/400] END C=0.20619202825140895, gamma=0.20619202825140895, kernel=rbf;, score=0.574 total time=  12.4s\n",
      "[CV 3/5; 106/400] START C=0.20619202825140895, gamma=0.20619202825140895, kernel=rbf\n",
      "[CV 3/5; 106/400] END C=0.20619202825140895, gamma=0.20619202825140895, kernel=rbf;, score=0.575 total time=  12.1s\n",
      "[CV 4/5; 106/400] START C=0.20619202825140895, gamma=0.20619202825140895, kernel=rbf\n",
      "[CV 4/5; 106/400] END C=0.20619202825140895, gamma=0.20619202825140895, kernel=rbf;, score=0.567 total time=  13.8s\n",
      "[CV 5/5; 106/400] START C=0.20619202825140895, gamma=0.20619202825140895, kernel=rbf\n",
      "[CV 5/5; 106/400] END C=0.20619202825140895, gamma=0.20619202825140895, kernel=rbf;, score=0.570 total time=  12.0s\n",
      "[CV 1/5; 107/400] START C=0.20619202825140895, gamma=0.40871514110598417, kernel=rbf\n",
      "[CV 1/5; 107/400] END C=0.20619202825140895, gamma=0.40871514110598417, kernel=rbf;, score=0.817 total time=  12.1s\n",
      "[CV 2/5; 107/400] START C=0.20619202825140895, gamma=0.40871514110598417, kernel=rbf\n",
      "[CV 2/5; 107/400] END C=0.20619202825140895, gamma=0.40871514110598417, kernel=rbf;, score=0.828 total time=  13.1s\n",
      "[CV 3/5; 107/400] START C=0.20619202825140895, gamma=0.40871514110598417, kernel=rbf\n",
      "[CV 3/5; 107/400] END C=0.20619202825140895, gamma=0.40871514110598417, kernel=rbf;, score=0.822 total time=  12.7s\n",
      "[CV 4/5; 107/400] START C=0.20619202825140895, gamma=0.40871514110598417, kernel=rbf\n",
      "[CV 4/5; 107/400] END C=0.20619202825140895, gamma=0.40871514110598417, kernel=rbf;, score=0.837 total time=  12.4s\n",
      "[CV 5/5; 107/400] START C=0.20619202825140895, gamma=0.40871514110598417, kernel=rbf\n",
      "[CV 5/5; 107/400] END C=0.20619202825140895, gamma=0.40871514110598417, kernel=rbf;, score=0.813 total time=  12.9s\n",
      "[CV 1/5; 108/400] START C=0.20619202825140895, gamma=0.8101577349324269, kernel=rbf\n",
      "[CV 1/5; 108/400] END C=0.20619202825140895, gamma=0.8101577349324269, kernel=rbf;, score=0.774 total time=  13.2s\n",
      "[CV 2/5; 108/400] START C=0.20619202825140895, gamma=0.8101577349324269, kernel=rbf\n",
      "[CV 2/5; 108/400] END C=0.20619202825140895, gamma=0.8101577349324269, kernel=rbf;, score=0.784 total time=  12.7s\n",
      "[CV 3/5; 108/400] START C=0.20619202825140895, gamma=0.8101577349324269, kernel=rbf\n",
      "[CV 3/5; 108/400] END C=0.20619202825140895, gamma=0.8101577349324269, kernel=rbf;, score=0.796 total time=  12.6s\n",
      "[CV 4/5; 108/400] START C=0.20619202825140895, gamma=0.8101577349324269, kernel=rbf\n",
      "[CV 4/5; 108/400] END C=0.20619202825140895, gamma=0.8101577349324269, kernel=rbf;, score=0.788 total time=  12.4s\n",
      "[CV 5/5; 108/400] START C=0.20619202825140895, gamma=0.8101577349324269, kernel=rbf\n",
      "[CV 5/5; 108/400] END C=0.20619202825140895, gamma=0.8101577349324269, kernel=rbf;, score=0.785 total time=  12.4s\n",
      "[CV 1/5; 109/400] START C=0.20619202825140895, gamma=1.6058997806999291, kernel=rbf\n",
      "[CV 1/5; 109/400] END C=0.20619202825140895, gamma=1.6058997806999291, kernel=rbf;, score=0.506 total time=  12.2s\n",
      "[CV 2/5; 109/400] START C=0.20619202825140895, gamma=1.6058997806999291, kernel=rbf\n"
     ]
    },
    {
     "name": "stdout",
     "output_type": "stream",
     "text": [
      "[CV 2/5; 109/400] END C=0.20619202825140895, gamma=1.6058997806999291, kernel=rbf;, score=0.506 total time=  12.5s\n",
      "[CV 3/5; 109/400] START C=0.20619202825140895, gamma=1.6058997806999291, kernel=rbf\n",
      "[CV 3/5; 109/400] END C=0.20619202825140895, gamma=1.6058997806999291, kernel=rbf;, score=0.506 total time=  12.4s\n",
      "[CV 4/5; 109/400] START C=0.20619202825140895, gamma=1.6058997806999291, kernel=rbf\n",
      "[CV 4/5; 109/400] END C=0.20619202825140895, gamma=1.6058997806999291, kernel=rbf;, score=0.507 total time=  13.5s\n",
      "[CV 5/5; 109/400] START C=0.20619202825140895, gamma=1.6058997806999291, kernel=rbf\n",
      "[CV 5/5; 109/400] END C=0.20619202825140895, gamma=1.6058997806999291, kernel=rbf;, score=0.507 total time=  12.2s\n",
      "[CV 1/5; 110/400] START C=0.20619202825140895, gamma=3.1832246912598827, kernel=rbf\n",
      "[CV 1/5; 110/400] END C=0.20619202825140895, gamma=3.1832246912598827, kernel=rbf;, score=0.506 total time=  12.8s\n",
      "[CV 2/5; 110/400] START C=0.20619202825140895, gamma=3.1832246912598827, kernel=rbf\n",
      "[CV 2/5; 110/400] END C=0.20619202825140895, gamma=3.1832246912598827, kernel=rbf;, score=0.506 total time=  12.8s\n",
      "[CV 3/5; 110/400] START C=0.20619202825140895, gamma=3.1832246912598827, kernel=rbf\n",
      "[CV 3/5; 110/400] END C=0.20619202825140895, gamma=3.1832246912598827, kernel=rbf;, score=0.506 total time=  12.4s\n",
      "[CV 4/5; 110/400] START C=0.20619202825140895, gamma=3.1832246912598827, kernel=rbf\n",
      "[CV 4/5; 110/400] END C=0.20619202825140895, gamma=3.1832246912598827, kernel=rbf;, score=0.507 total time=  12.0s\n",
      "[CV 5/5; 110/400] START C=0.20619202825140895, gamma=3.1832246912598827, kernel=rbf\n",
      "[CV 5/5; 110/400] END C=0.20619202825140895, gamma=3.1832246912598827, kernel=rbf;, score=0.507 total time=  12.2s\n",
      "[CV 1/5; 111/400] START C=0.20619202825140895, gamma=6.3098080943943815, kernel=rbf\n",
      "[CV 1/5; 111/400] END C=0.20619202825140895, gamma=6.3098080943943815, kernel=rbf;, score=0.506 total time=  12.6s\n",
      "[CV 2/5; 111/400] START C=0.20619202825140895, gamma=6.3098080943943815, kernel=rbf\n",
      "[CV 2/5; 111/400] END C=0.20619202825140895, gamma=6.3098080943943815, kernel=rbf;, score=0.506 total time=  12.6s\n",
      "[CV 3/5; 111/400] START C=0.20619202825140895, gamma=6.3098080943943815, kernel=rbf\n",
      "[CV 3/5; 111/400] END C=0.20619202825140895, gamma=6.3098080943943815, kernel=rbf;, score=0.506 total time=  11.9s\n",
      "[CV 4/5; 111/400] START C=0.20619202825140895, gamma=6.3098080943943815, kernel=rbf\n",
      "[CV 4/5; 111/400] END C=0.20619202825140895, gamma=6.3098080943943815, kernel=rbf;, score=0.507 total time=  13.4s\n",
      "[CV 5/5; 111/400] START C=0.20619202825140895, gamma=6.3098080943943815, kernel=rbf\n",
      "[CV 5/5; 111/400] END C=0.20619202825140895, gamma=6.3098080943943815, kernel=rbf;, score=0.507 total time=  12.2s\n",
      "[CV 1/5; 112/400] START C=0.20619202825140895, gamma=12.507341469611143, kernel=rbf\n",
      "[CV 1/5; 112/400] END C=0.20619202825140895, gamma=12.507341469611143, kernel=rbf;, score=0.506 total time=  13.0s\n",
      "[CV 2/5; 112/400] START C=0.20619202825140895, gamma=12.507341469611143, kernel=rbf\n",
      "[CV 2/5; 112/400] END C=0.20619202825140895, gamma=12.507341469611143, kernel=rbf;, score=0.506 total time=  12.6s\n",
      "[CV 3/5; 112/400] START C=0.20619202825140895, gamma=12.507341469611143, kernel=rbf\n",
      "[CV 3/5; 112/400] END C=0.20619202825140895, gamma=12.507341469611143, kernel=rbf;, score=0.506 total time=  12.9s\n",
      "[CV 4/5; 112/400] START C=0.20619202825140895, gamma=12.507341469611143, kernel=rbf\n",
      "[CV 4/5; 112/400] END C=0.20619202825140895, gamma=12.507341469611143, kernel=rbf;, score=0.507 total time=  13.1s\n",
      "[CV 5/5; 112/400] START C=0.20619202825140895, gamma=12.507341469611143, kernel=rbf\n",
      "[CV 5/5; 112/400] END C=0.20619202825140895, gamma=12.507341469611143, kernel=rbf;, score=0.507 total time=  13.8s\n",
      "[CV 1/5; 113/400] START C=0.20619202825140895, gamma=24.792131281525027, kernel=rbf\n",
      "[CV 1/5; 113/400] END C=0.20619202825140895, gamma=24.792131281525027, kernel=rbf;, score=0.506 total time=  13.6s\n",
      "[CV 2/5; 113/400] START C=0.20619202825140895, gamma=24.792131281525027, kernel=rbf\n",
      "[CV 2/5; 113/400] END C=0.20619202825140895, gamma=24.792131281525027, kernel=rbf;, score=0.506 total time=  13.8s\n",
      "[CV 3/5; 113/400] START C=0.20619202825140895, gamma=24.792131281525027, kernel=rbf\n",
      "[CV 3/5; 113/400] END C=0.20619202825140895, gamma=24.792131281525027, kernel=rbf;, score=0.506 total time=  14.7s\n",
      "[CV 4/5; 113/400] START C=0.20619202825140895, gamma=24.792131281525027, kernel=rbf\n",
      "[CV 4/5; 113/400] END C=0.20619202825140895, gamma=24.792131281525027, kernel=rbf;, score=0.507 total time=  14.0s\n",
      "[CV 5/5; 113/400] START C=0.20619202825140895, gamma=24.792131281525027, kernel=rbf\n",
      "[CV 5/5; 113/400] END C=0.20619202825140895, gamma=24.792131281525027, kernel=rbf;, score=0.507 total time=  13.6s\n",
      "[CV 1/5; 114/400] START C=0.20619202825140895, gamma=49.143119261097524, kernel=rbf\n",
      "[CV 1/5; 114/400] END C=0.20619202825140895, gamma=49.143119261097524, kernel=rbf;, score=0.506 total time=  14.3s\n",
      "[CV 2/5; 114/400] START C=0.20619202825140895, gamma=49.143119261097524, kernel=rbf\n",
      "[CV 2/5; 114/400] END C=0.20619202825140895, gamma=49.143119261097524, kernel=rbf;, score=0.506 total time=  17.6s\n",
      "[CV 3/5; 114/400] START C=0.20619202825140895, gamma=49.143119261097524, kernel=rbf\n",
      "[CV 3/5; 114/400] END C=0.20619202825140895, gamma=49.143119261097524, kernel=rbf;, score=0.506 total time=  13.5s\n",
      "[CV 4/5; 114/400] START C=0.20619202825140895, gamma=49.143119261097524, kernel=rbf\n",
      "[CV 4/5; 114/400] END C=0.20619202825140895, gamma=49.143119261097524, kernel=rbf;, score=0.507 total time=  14.9s\n",
      "[CV 5/5; 114/400] START C=0.20619202825140895, gamma=49.143119261097524, kernel=rbf\n",
      "[CV 5/5; 114/400] END C=0.20619202825140895, gamma=49.143119261097524, kernel=rbf;, score=0.507 total time=  12.7s\n",
      "[CV 1/5; 115/400] START C=0.20619202825140895, gamma=97.41180148195387, kernel=rbf\n",
      "[CV 1/5; 115/400] END C=0.20619202825140895, gamma=97.41180148195387, kernel=rbf;, score=0.506 total time=  12.9s\n",
      "[CV 2/5; 115/400] START C=0.20619202825140895, gamma=97.41180148195387, kernel=rbf\n",
      "[CV 2/5; 115/400] END C=0.20619202825140895, gamma=97.41180148195387, kernel=rbf;, score=0.506 total time=  13.5s\n",
      "[CV 3/5; 115/400] START C=0.20619202825140895, gamma=97.41180148195387, kernel=rbf\n",
      "[CV 3/5; 115/400] END C=0.20619202825140895, gamma=97.41180148195387, kernel=rbf;, score=0.506 total time=  12.5s\n",
      "[CV 4/5; 115/400] START C=0.20619202825140895, gamma=97.41180148195387, kernel=rbf\n",
      "[CV 4/5; 115/400] END C=0.20619202825140895, gamma=97.41180148195387, kernel=rbf;, score=0.507 total time=  13.0s\n",
      "[CV 5/5; 115/400] START C=0.20619202825140895, gamma=97.41180148195387, kernel=rbf\n",
      "[CV 5/5; 115/400] END C=0.20619202825140895, gamma=97.41180148195387, kernel=rbf;, score=0.507 total time=  13.2s\n",
      "[CV 1/5; 116/400] START C=0.20619202825140895, gamma=193.0902883381129, kernel=rbf\n",
      "[CV 1/5; 116/400] END C=0.20619202825140895, gamma=193.0902883381129, kernel=rbf;, score=0.506 total time=  13.3s\n",
      "[CV 2/5; 116/400] START C=0.20619202825140895, gamma=193.0902883381129, kernel=rbf\n",
      "[CV 2/5; 116/400] END C=0.20619202825140895, gamma=193.0902883381129, kernel=rbf;, score=0.506 total time=  13.2s\n",
      "[CV 3/5; 116/400] START C=0.20619202825140895, gamma=193.0902883381129, kernel=rbf\n",
      "[CV 3/5; 116/400] END C=0.20619202825140895, gamma=193.0902883381129, kernel=rbf;, score=0.506 total time=  13.6s\n",
      "[CV 4/5; 116/400] START C=0.20619202825140895, gamma=193.0902883381129, kernel=rbf\n",
      "[CV 4/5; 116/400] END C=0.20619202825140895, gamma=193.0902883381129, kernel=rbf;, score=0.507 total time=  15.9s\n",
      "[CV 5/5; 116/400] START C=0.20619202825140895, gamma=193.0902883381129, kernel=rbf\n",
      "[CV 5/5; 116/400] END C=0.20619202825140895, gamma=193.0902883381129, kernel=rbf;, score=0.507 total time=  14.1s\n",
      "[CV 1/5; 117/400] START C=0.20619202825140895, gamma=382.7447894740212, kernel=rbf\n",
      "[CV 1/5; 117/400] END C=0.20619202825140895, gamma=382.7447894740212, kernel=rbf;, score=0.506 total time=  19.8s\n",
      "[CV 2/5; 117/400] START C=0.20619202825140895, gamma=382.7447894740212, kernel=rbf\n",
      "[CV 2/5; 117/400] END C=0.20619202825140895, gamma=382.7447894740212, kernel=rbf;, score=0.506 total time=  15.7s\n",
      "[CV 3/5; 117/400] START C=0.20619202825140895, gamma=382.7447894740212, kernel=rbf\n",
      "[CV 3/5; 117/400] END C=0.20619202825140895, gamma=382.7447894740212, kernel=rbf;, score=0.506 total time=  14.1s\n",
      "[CV 4/5; 117/400] START C=0.20619202825140895, gamma=382.7447894740212, kernel=rbf\n"
     ]
    },
    {
     "name": "stdout",
     "output_type": "stream",
     "text": [
      "[CV 4/5; 117/400] END C=0.20619202825140895, gamma=382.7447894740212, kernel=rbf;, score=0.507 total time=  14.3s\n",
      "[CV 5/5; 117/400] START C=0.20619202825140895, gamma=382.7447894740212, kernel=rbf\n",
      "[CV 5/5; 117/400] END C=0.20619202825140895, gamma=382.7447894740212, kernel=rbf;, score=0.507 total time=  16.1s\n",
      "[CV 1/5; 118/400] START C=0.20619202825140895, gamma=758.679139848782, kernel=rbf\n",
      "[CV 1/5; 118/400] END C=0.20619202825140895, gamma=758.679139848782, kernel=rbf;, score=0.506 total time=  13.9s\n",
      "[CV 2/5; 118/400] START C=0.20619202825140895, gamma=758.679139848782, kernel=rbf\n",
      "[CV 2/5; 118/400] END C=0.20619202825140895, gamma=758.679139848782, kernel=rbf;, score=0.506 total time=  13.7s\n",
      "[CV 3/5; 118/400] START C=0.20619202825140895, gamma=758.679139848782, kernel=rbf\n",
      "[CV 3/5; 118/400] END C=0.20619202825140895, gamma=758.679139848782, kernel=rbf;, score=0.506 total time=  13.3s\n",
      "[CV 4/5; 118/400] START C=0.20619202825140895, gamma=758.679139848782, kernel=rbf\n",
      "[CV 4/5; 118/400] END C=0.20619202825140895, gamma=758.679139848782, kernel=rbf;, score=0.507 total time=  14.0s\n",
      "[CV 5/5; 118/400] START C=0.20619202825140895, gamma=758.679139848782, kernel=rbf\n",
      "[CV 5/5; 118/400] END C=0.20619202825140895, gamma=758.679139848782, kernel=rbf;, score=0.507 total time=  14.4s\n",
      "[CV 1/5; 119/400] START C=0.20619202825140895, gamma=1503.8585842871576, kernel=rbf\n",
      "[CV 1/5; 119/400] END C=0.20619202825140895, gamma=1503.8585842871576, kernel=rbf;, score=0.506 total time=  14.1s\n",
      "[CV 2/5; 119/400] START C=0.20619202825140895, gamma=1503.8585842871576, kernel=rbf\n",
      "[CV 2/5; 119/400] END C=0.20619202825140895, gamma=1503.8585842871576, kernel=rbf;, score=0.506 total time=  14.8s\n",
      "[CV 3/5; 119/400] START C=0.20619202825140895, gamma=1503.8585842871576, kernel=rbf\n",
      "[CV 3/5; 119/400] END C=0.20619202825140895, gamma=1503.8585842871576, kernel=rbf;, score=0.506 total time=  13.9s\n",
      "[CV 4/5; 119/400] START C=0.20619202825140895, gamma=1503.8585842871576, kernel=rbf\n",
      "[CV 4/5; 119/400] END C=0.20619202825140895, gamma=1503.8585842871576, kernel=rbf;, score=0.507 total time=  18.0s\n",
      "[CV 5/5; 119/400] START C=0.20619202825140895, gamma=1503.8585842871576, kernel=rbf\n",
      "[CV 5/5; 119/400] END C=0.20619202825140895, gamma=1503.8585842871576, kernel=rbf;, score=0.507 total time=  12.8s\n",
      "[CV 1/5; 120/400] START C=0.20619202825140895, gamma=2980.957987041727, kernel=rbf\n",
      "[CV 1/5; 120/400] END C=0.20619202825140895, gamma=2980.957987041727, kernel=rbf;, score=0.506 total time=  13.4s\n",
      "[CV 2/5; 120/400] START C=0.20619202825140895, gamma=2980.957987041727, kernel=rbf\n",
      "[CV 2/5; 120/400] END C=0.20619202825140895, gamma=2980.957987041727, kernel=rbf;, score=0.506 total time=  13.7s\n",
      "[CV 3/5; 120/400] START C=0.20619202825140895, gamma=2980.957987041727, kernel=rbf\n",
      "[CV 3/5; 120/400] END C=0.20619202825140895, gamma=2980.957987041727, kernel=rbf;, score=0.506 total time=  14.4s\n",
      "[CV 4/5; 120/400] START C=0.20619202825140895, gamma=2980.957987041727, kernel=rbf\n",
      "[CV 4/5; 120/400] END C=0.20619202825140895, gamma=2980.957987041727, kernel=rbf;, score=0.507 total time=  14.2s\n",
      "[CV 5/5; 120/400] START C=0.20619202825140895, gamma=2980.957987041727, kernel=rbf\n",
      "[CV 5/5; 120/400] END C=0.20619202825140895, gamma=2980.957987041727, kernel=rbf;, score=0.507 total time=  13.6s\n",
      "[CV 1/5; 121/400] START C=0.40871514110598417, gamma=0.006737946999085469, kernel=rbf\n",
      "[CV 1/5; 121/400] END C=0.40871514110598417, gamma=0.006737946999085469, kernel=rbf;, score=0.506 total time=  14.0s\n",
      "[CV 2/5; 121/400] START C=0.40871514110598417, gamma=0.006737946999085469, kernel=rbf\n",
      "[CV 2/5; 121/400] END C=0.40871514110598417, gamma=0.006737946999085469, kernel=rbf;, score=0.506 total time=  13.2s\n",
      "[CV 3/5; 121/400] START C=0.40871514110598417, gamma=0.006737946999085469, kernel=rbf\n",
      "[CV 3/5; 121/400] END C=0.40871514110598417, gamma=0.006737946999085469, kernel=rbf;, score=0.506 total time=  13.0s\n",
      "[CV 4/5; 121/400] START C=0.40871514110598417, gamma=0.006737946999085469, kernel=rbf\n",
      "[CV 4/5; 121/400] END C=0.40871514110598417, gamma=0.006737946999085469, kernel=rbf;, score=0.507 total time=  14.8s\n",
      "[CV 5/5; 121/400] START C=0.40871514110598417, gamma=0.006737946999085469, kernel=rbf\n",
      "[CV 5/5; 121/400] END C=0.40871514110598417, gamma=0.006737946999085469, kernel=rbf;, score=0.507 total time=  13.4s\n",
      "[CV 1/5; 122/400] START C=0.40871514110598417, gamma=0.013356001111439869, kernel=rbf\n",
      "[CV 1/5; 122/400] END C=0.40871514110598417, gamma=0.013356001111439869, kernel=rbf;, score=0.506 total time=  13.6s\n",
      "[CV 2/5; 122/400] START C=0.40871514110598417, gamma=0.013356001111439869, kernel=rbf\n",
      "[CV 2/5; 122/400] END C=0.40871514110598417, gamma=0.013356001111439869, kernel=rbf;, score=0.506 total time=  13.6s\n",
      "[CV 3/5; 122/400] START C=0.40871514110598417, gamma=0.013356001111439869, kernel=rbf\n",
      "[CV 3/5; 122/400] END C=0.40871514110598417, gamma=0.013356001111439869, kernel=rbf;, score=0.506 total time=  15.7s\n",
      "[CV 4/5; 122/400] START C=0.40871514110598417, gamma=0.013356001111439869, kernel=rbf\n",
      "[CV 4/5; 122/400] END C=0.40871514110598417, gamma=0.013356001111439869, kernel=rbf;, score=0.507 total time=  12.6s\n",
      "[CV 5/5; 122/400] START C=0.40871514110598417, gamma=0.013356001111439869, kernel=rbf\n",
      "[CV 5/5; 122/400] END C=0.40871514110598417, gamma=0.013356001111439869, kernel=rbf;, score=0.507 total time=  13.1s\n",
      "[CV 1/5; 123/400] START C=0.40871514110598417, gamma=0.026474349785326985, kernel=rbf\n",
      "[CV 1/5; 123/400] END C=0.40871514110598417, gamma=0.026474349785326985, kernel=rbf;, score=0.506 total time=  12.3s\n",
      "[CV 2/5; 123/400] START C=0.40871514110598417, gamma=0.026474349785326985, kernel=rbf\n",
      "[CV 2/5; 123/400] END C=0.40871514110598417, gamma=0.026474349785326985, kernel=rbf;, score=0.506 total time=  12.7s\n",
      "[CV 3/5; 123/400] START C=0.40871514110598417, gamma=0.026474349785326985, kernel=rbf\n",
      "[CV 3/5; 123/400] END C=0.40871514110598417, gamma=0.026474349785326985, kernel=rbf;, score=0.506 total time=  12.9s\n",
      "[CV 4/5; 123/400] START C=0.40871514110598417, gamma=0.026474349785326985, kernel=rbf\n",
      "[CV 4/5; 123/400] END C=0.40871514110598417, gamma=0.026474349785326985, kernel=rbf;, score=0.507 total time=  12.3s\n",
      "[CV 5/5; 123/400] START C=0.40871514110598417, gamma=0.026474349785326985, kernel=rbf\n",
      "[CV 5/5; 123/400] END C=0.40871514110598417, gamma=0.026474349785326985, kernel=rbf;, score=0.507 total time=  13.0s\n",
      "[CV 1/5; 124/400] START C=0.40871514110598417, gamma=0.052477623407466346, kernel=rbf\n",
      "[CV 1/5; 124/400] END C=0.40871514110598417, gamma=0.052477623407466346, kernel=rbf;, score=0.506 total time=  11.8s\n",
      "[CV 2/5; 124/400] START C=0.40871514110598417, gamma=0.052477623407466346, kernel=rbf\n",
      "[CV 2/5; 124/400] END C=0.40871514110598417, gamma=0.052477623407466346, kernel=rbf;, score=0.506 total time=  12.2s\n",
      "[CV 3/5; 124/400] START C=0.40871514110598417, gamma=0.052477623407466346, kernel=rbf\n",
      "[CV 3/5; 124/400] END C=0.40871514110598417, gamma=0.052477623407466346, kernel=rbf;, score=0.506 total time=  11.6s\n",
      "[CV 4/5; 124/400] START C=0.40871514110598417, gamma=0.052477623407466346, kernel=rbf\n",
      "[CV 4/5; 124/400] END C=0.40871514110598417, gamma=0.052477623407466346, kernel=rbf;, score=0.507 total time=  12.7s\n",
      "[CV 5/5; 124/400] START C=0.40871514110598417, gamma=0.052477623407466346, kernel=rbf\n",
      "[CV 5/5; 124/400] END C=0.40871514110598417, gamma=0.052477623407466346, kernel=rbf;, score=0.507 total time=  13.7s\n",
      "[CV 1/5; 125/400] START C=0.40871514110598417, gamma=0.10402147666803764, kernel=rbf\n",
      "[CV 1/5; 125/400] END C=0.40871514110598417, gamma=0.10402147666803764, kernel=rbf;, score=0.740 total time=  13.1s\n",
      "[CV 2/5; 125/400] START C=0.40871514110598417, gamma=0.10402147666803764, kernel=rbf\n",
      "[CV 2/5; 125/400] END C=0.40871514110598417, gamma=0.10402147666803764, kernel=rbf;, score=0.749 total time=  12.6s\n",
      "[CV 3/5; 125/400] START C=0.40871514110598417, gamma=0.10402147666803764, kernel=rbf\n",
      "[CV 3/5; 125/400] END C=0.40871514110598417, gamma=0.10402147666803764, kernel=rbf;, score=0.759 total time=  12.5s\n",
      "[CV 4/5; 125/400] START C=0.40871514110598417, gamma=0.10402147666803764, kernel=rbf\n",
      "[CV 4/5; 125/400] END C=0.40871514110598417, gamma=0.10402147666803764, kernel=rbf;, score=0.750 total time=  13.7s\n",
      "[CV 5/5; 125/400] START C=0.40871514110598417, gamma=0.10402147666803764, kernel=rbf\n"
     ]
    },
    {
     "name": "stdout",
     "output_type": "stream",
     "text": [
      "[CV 5/5; 125/400] END C=0.40871514110598417, gamma=0.10402147666803764, kernel=rbf;, score=0.749 total time=  14.6s\n",
      "[CV 1/5; 126/400] START C=0.40871514110598417, gamma=0.20619202825140895, kernel=rbf\n",
      "[CV 1/5; 126/400] END C=0.40871514110598417, gamma=0.20619202825140895, kernel=rbf;, score=0.868 total time=  12.6s\n",
      "[CV 2/5; 126/400] START C=0.40871514110598417, gamma=0.20619202825140895, kernel=rbf\n",
      "[CV 2/5; 126/400] END C=0.40871514110598417, gamma=0.20619202825140895, kernel=rbf;, score=0.842 total time=  13.1s\n",
      "[CV 3/5; 126/400] START C=0.40871514110598417, gamma=0.20619202825140895, kernel=rbf\n",
      "[CV 3/5; 126/400] END C=0.40871514110598417, gamma=0.20619202825140895, kernel=rbf;, score=0.815 total time=  12.5s\n",
      "[CV 4/5; 126/400] START C=0.40871514110598417, gamma=0.20619202825140895, kernel=rbf\n",
      "[CV 4/5; 126/400] END C=0.40871514110598417, gamma=0.20619202825140895, kernel=rbf;, score=0.854 total time=  12.8s\n",
      "[CV 5/5; 126/400] START C=0.40871514110598417, gamma=0.20619202825140895, kernel=rbf\n",
      "[CV 5/5; 126/400] END C=0.40871514110598417, gamma=0.20619202825140895, kernel=rbf;, score=0.860 total time=  12.4s\n",
      "[CV 1/5; 127/400] START C=0.40871514110598417, gamma=0.40871514110598417, kernel=rbf\n",
      "[CV 1/5; 127/400] END C=0.40871514110598417, gamma=0.40871514110598417, kernel=rbf;, score=0.873 total time=  12.4s\n",
      "[CV 2/5; 127/400] START C=0.40871514110598417, gamma=0.40871514110598417, kernel=rbf\n",
      "[CV 2/5; 127/400] END C=0.40871514110598417, gamma=0.40871514110598417, kernel=rbf;, score=0.853 total time=  12.8s\n",
      "[CV 3/5; 127/400] START C=0.40871514110598417, gamma=0.40871514110598417, kernel=rbf\n",
      "[CV 3/5; 127/400] END C=0.40871514110598417, gamma=0.40871514110598417, kernel=rbf;, score=0.820 total time=  12.8s\n",
      "[CV 4/5; 127/400] START C=0.40871514110598417, gamma=0.40871514110598417, kernel=rbf\n",
      "[CV 4/5; 127/400] END C=0.40871514110598417, gamma=0.40871514110598417, kernel=rbf;, score=0.855 total time=  13.9s\n",
      "[CV 5/5; 127/400] START C=0.40871514110598417, gamma=0.40871514110598417, kernel=rbf\n",
      "[CV 5/5; 127/400] END C=0.40871514110598417, gamma=0.40871514110598417, kernel=rbf;, score=0.866 total time=  13.4s\n",
      "[CV 1/5; 128/400] START C=0.40871514110598417, gamma=0.8101577349324269, kernel=rbf\n",
      "[CV 1/5; 128/400] END C=0.40871514110598417, gamma=0.8101577349324269, kernel=rbf;, score=0.874 total time=  12.1s\n",
      "[CV 2/5; 128/400] START C=0.40871514110598417, gamma=0.8101577349324269, kernel=rbf\n",
      "[CV 2/5; 128/400] END C=0.40871514110598417, gamma=0.8101577349324269, kernel=rbf;, score=0.852 total time=  11.5s\n",
      "[CV 3/5; 128/400] START C=0.40871514110598417, gamma=0.8101577349324269, kernel=rbf\n",
      "[CV 3/5; 128/400] END C=0.40871514110598417, gamma=0.8101577349324269, kernel=rbf;, score=0.819 total time=  11.7s\n",
      "[CV 4/5; 128/400] START C=0.40871514110598417, gamma=0.8101577349324269, kernel=rbf\n",
      "[CV 4/5; 128/400] END C=0.40871514110598417, gamma=0.8101577349324269, kernel=rbf;, score=0.859 total time=  13.1s\n",
      "[CV 5/5; 128/400] START C=0.40871514110598417, gamma=0.8101577349324269, kernel=rbf\n",
      "[CV 5/5; 128/400] END C=0.40871514110598417, gamma=0.8101577349324269, kernel=rbf;, score=0.863 total time=  11.4s\n",
      "[CV 1/5; 129/400] START C=0.40871514110598417, gamma=1.6058997806999291, kernel=rbf\n",
      "[CV 1/5; 129/400] END C=0.40871514110598417, gamma=1.6058997806999291, kernel=rbf;, score=0.772 total time=  13.2s\n",
      "[CV 2/5; 129/400] START C=0.40871514110598417, gamma=1.6058997806999291, kernel=rbf\n",
      "[CV 2/5; 129/400] END C=0.40871514110598417, gamma=1.6058997806999291, kernel=rbf;, score=0.781 total time=  13.2s\n",
      "[CV 3/5; 129/400] START C=0.40871514110598417, gamma=1.6058997806999291, kernel=rbf\n",
      "[CV 3/5; 129/400] END C=0.40871514110598417, gamma=1.6058997806999291, kernel=rbf;, score=0.797 total time=  13.5s\n",
      "[CV 4/5; 129/400] START C=0.40871514110598417, gamma=1.6058997806999291, kernel=rbf\n",
      "[CV 4/5; 129/400] END C=0.40871514110598417, gamma=1.6058997806999291, kernel=rbf;, score=0.786 total time=  14.3s\n",
      "[CV 5/5; 129/400] START C=0.40871514110598417, gamma=1.6058997806999291, kernel=rbf\n",
      "[CV 5/5; 129/400] END C=0.40871514110598417, gamma=1.6058997806999291, kernel=rbf;, score=0.776 total time=  14.9s\n",
      "[CV 1/5; 130/400] START C=0.40871514110598417, gamma=3.1832246912598827, kernel=rbf\n",
      "[CV 1/5; 130/400] END C=0.40871514110598417, gamma=3.1832246912598827, kernel=rbf;, score=0.506 total time=  13.6s\n",
      "[CV 2/5; 130/400] START C=0.40871514110598417, gamma=3.1832246912598827, kernel=rbf\n",
      "[CV 2/5; 130/400] END C=0.40871514110598417, gamma=3.1832246912598827, kernel=rbf;, score=0.506 total time=  14.4s\n",
      "[CV 3/5; 130/400] START C=0.40871514110598417, gamma=3.1832246912598827, kernel=rbf\n",
      "[CV 3/5; 130/400] END C=0.40871514110598417, gamma=3.1832246912598827, kernel=rbf;, score=0.506 total time=  15.4s\n",
      "[CV 4/5; 130/400] START C=0.40871514110598417, gamma=3.1832246912598827, kernel=rbf\n",
      "[CV 4/5; 130/400] END C=0.40871514110598417, gamma=3.1832246912598827, kernel=rbf;, score=0.507 total time=  12.3s\n",
      "[CV 5/5; 130/400] START C=0.40871514110598417, gamma=3.1832246912598827, kernel=rbf\n",
      "[CV 5/5; 130/400] END C=0.40871514110598417, gamma=3.1832246912598827, kernel=rbf;, score=0.507 total time=  12.2s\n",
      "[CV 1/5; 131/400] START C=0.40871514110598417, gamma=6.3098080943943815, kernel=rbf\n",
      "[CV 1/5; 131/400] END C=0.40871514110598417, gamma=6.3098080943943815, kernel=rbf;, score=0.506 total time=  12.4s\n",
      "[CV 2/5; 131/400] START C=0.40871514110598417, gamma=6.3098080943943815, kernel=rbf\n",
      "[CV 2/5; 131/400] END C=0.40871514110598417, gamma=6.3098080943943815, kernel=rbf;, score=0.506 total time=  12.0s\n",
      "[CV 3/5; 131/400] START C=0.40871514110598417, gamma=6.3098080943943815, kernel=rbf\n",
      "[CV 3/5; 131/400] END C=0.40871514110598417, gamma=6.3098080943943815, kernel=rbf;, score=0.506 total time=  12.6s\n",
      "[CV 4/5; 131/400] START C=0.40871514110598417, gamma=6.3098080943943815, kernel=rbf\n",
      "[CV 4/5; 131/400] END C=0.40871514110598417, gamma=6.3098080943943815, kernel=rbf;, score=0.507 total time=  12.4s\n",
      "[CV 5/5; 131/400] START C=0.40871514110598417, gamma=6.3098080943943815, kernel=rbf\n",
      "[CV 5/5; 131/400] END C=0.40871514110598417, gamma=6.3098080943943815, kernel=rbf;, score=0.507 total time=  11.7s\n",
      "[CV 1/5; 132/400] START C=0.40871514110598417, gamma=12.507341469611143, kernel=rbf\n",
      "[CV 1/5; 132/400] END C=0.40871514110598417, gamma=12.507341469611143, kernel=rbf;, score=0.506 total time=  12.7s\n",
      "[CV 2/5; 132/400] START C=0.40871514110598417, gamma=12.507341469611143, kernel=rbf\n",
      "[CV 2/5; 132/400] END C=0.40871514110598417, gamma=12.507341469611143, kernel=rbf;, score=0.506 total time=  13.4s\n",
      "[CV 3/5; 132/400] START C=0.40871514110598417, gamma=12.507341469611143, kernel=rbf\n",
      "[CV 3/5; 132/400] END C=0.40871514110598417, gamma=12.507341469611143, kernel=rbf;, score=0.506 total time=  13.9s\n",
      "[CV 4/5; 132/400] START C=0.40871514110598417, gamma=12.507341469611143, kernel=rbf\n",
      "[CV 4/5; 132/400] END C=0.40871514110598417, gamma=12.507341469611143, kernel=rbf;, score=0.507 total time=  13.5s\n",
      "[CV 5/5; 132/400] START C=0.40871514110598417, gamma=12.507341469611143, kernel=rbf\n",
      "[CV 5/5; 132/400] END C=0.40871514110598417, gamma=12.507341469611143, kernel=rbf;, score=0.507 total time=  13.4s\n",
      "[CV 1/5; 133/400] START C=0.40871514110598417, gamma=24.792131281525027, kernel=rbf\n",
      "[CV 1/5; 133/400] END C=0.40871514110598417, gamma=24.792131281525027, kernel=rbf;, score=0.506 total time=  12.6s\n",
      "[CV 2/5; 133/400] START C=0.40871514110598417, gamma=24.792131281525027, kernel=rbf\n",
      "[CV 2/5; 133/400] END C=0.40871514110598417, gamma=24.792131281525027, kernel=rbf;, score=0.506 total time=  12.9s\n",
      "[CV 3/5; 133/400] START C=0.40871514110598417, gamma=24.792131281525027, kernel=rbf\n",
      "[CV 3/5; 133/400] END C=0.40871514110598417, gamma=24.792131281525027, kernel=rbf;, score=0.506 total time=  11.6s\n",
      "[CV 4/5; 133/400] START C=0.40871514110598417, gamma=24.792131281525027, kernel=rbf\n",
      "[CV 4/5; 133/400] END C=0.40871514110598417, gamma=24.792131281525027, kernel=rbf;, score=0.507 total time=  13.9s\n",
      "[CV 5/5; 133/400] START C=0.40871514110598417, gamma=24.792131281525027, kernel=rbf\n",
      "[CV 5/5; 133/400] END C=0.40871514110598417, gamma=24.792131281525027, kernel=rbf;, score=0.507 total time=  12.8s\n",
      "[CV 1/5; 134/400] START C=0.40871514110598417, gamma=49.143119261097524, kernel=rbf\n",
      "[CV 1/5; 134/400] END C=0.40871514110598417, gamma=49.143119261097524, kernel=rbf;, score=0.506 total time=  12.6s\n",
      "[CV 2/5; 134/400] START C=0.40871514110598417, gamma=49.143119261097524, kernel=rbf\n"
     ]
    },
    {
     "name": "stdout",
     "output_type": "stream",
     "text": [
      "[CV 2/5; 134/400] END C=0.40871514110598417, gamma=49.143119261097524, kernel=rbf;, score=0.506 total time=  13.3s\n",
      "[CV 3/5; 134/400] START C=0.40871514110598417, gamma=49.143119261097524, kernel=rbf\n",
      "[CV 3/5; 134/400] END C=0.40871514110598417, gamma=49.143119261097524, kernel=rbf;, score=0.506 total time=  13.5s\n",
      "[CV 4/5; 134/400] START C=0.40871514110598417, gamma=49.143119261097524, kernel=rbf\n",
      "[CV 4/5; 134/400] END C=0.40871514110598417, gamma=49.143119261097524, kernel=rbf;, score=0.507 total time=  12.7s\n",
      "[CV 5/5; 134/400] START C=0.40871514110598417, gamma=49.143119261097524, kernel=rbf\n",
      "[CV 5/5; 134/400] END C=0.40871514110598417, gamma=49.143119261097524, kernel=rbf;, score=0.507 total time=  13.2s\n",
      "[CV 1/5; 135/400] START C=0.40871514110598417, gamma=97.41180148195387, kernel=rbf\n",
      "[CV 1/5; 135/400] END C=0.40871514110598417, gamma=97.41180148195387, kernel=rbf;, score=0.506 total time=  14.0s\n",
      "[CV 2/5; 135/400] START C=0.40871514110598417, gamma=97.41180148195387, kernel=rbf\n",
      "[CV 2/5; 135/400] END C=0.40871514110598417, gamma=97.41180148195387, kernel=rbf;, score=0.506 total time=  14.0s\n",
      "[CV 3/5; 135/400] START C=0.40871514110598417, gamma=97.41180148195387, kernel=rbf\n",
      "[CV 3/5; 135/400] END C=0.40871514110598417, gamma=97.41180148195387, kernel=rbf;, score=0.506 total time=  13.0s\n",
      "[CV 4/5; 135/400] START C=0.40871514110598417, gamma=97.41180148195387, kernel=rbf\n",
      "[CV 4/5; 135/400] END C=0.40871514110598417, gamma=97.41180148195387, kernel=rbf;, score=0.507 total time=  12.9s\n",
      "[CV 5/5; 135/400] START C=0.40871514110598417, gamma=97.41180148195387, kernel=rbf\n",
      "[CV 5/5; 135/400] END C=0.40871514110598417, gamma=97.41180148195387, kernel=rbf;, score=0.507 total time=  12.7s\n",
      "[CV 1/5; 136/400] START C=0.40871514110598417, gamma=193.0902883381129, kernel=rbf\n",
      "[CV 1/5; 136/400] END C=0.40871514110598417, gamma=193.0902883381129, kernel=rbf;, score=0.506 total time=  13.8s\n",
      "[CV 2/5; 136/400] START C=0.40871514110598417, gamma=193.0902883381129, kernel=rbf\n",
      "[CV 2/5; 136/400] END C=0.40871514110598417, gamma=193.0902883381129, kernel=rbf;, score=0.506 total time=  13.5s\n",
      "[CV 3/5; 136/400] START C=0.40871514110598417, gamma=193.0902883381129, kernel=rbf\n",
      "[CV 3/5; 136/400] END C=0.40871514110598417, gamma=193.0902883381129, kernel=rbf;, score=0.506 total time=  11.7s\n",
      "[CV 4/5; 136/400] START C=0.40871514110598417, gamma=193.0902883381129, kernel=rbf\n",
      "[CV 4/5; 136/400] END C=0.40871514110598417, gamma=193.0902883381129, kernel=rbf;, score=0.507 total time=  12.9s\n",
      "[CV 5/5; 136/400] START C=0.40871514110598417, gamma=193.0902883381129, kernel=rbf\n",
      "[CV 5/5; 136/400] END C=0.40871514110598417, gamma=193.0902883381129, kernel=rbf;, score=0.507 total time=  12.9s\n",
      "[CV 1/5; 137/400] START C=0.40871514110598417, gamma=382.7447894740212, kernel=rbf\n",
      "[CV 1/5; 137/400] END C=0.40871514110598417, gamma=382.7447894740212, kernel=rbf;, score=0.506 total time=  12.2s\n",
      "[CV 2/5; 137/400] START C=0.40871514110598417, gamma=382.7447894740212, kernel=rbf\n",
      "[CV 2/5; 137/400] END C=0.40871514110598417, gamma=382.7447894740212, kernel=rbf;, score=0.506 total time=  12.2s\n",
      "[CV 3/5; 137/400] START C=0.40871514110598417, gamma=382.7447894740212, kernel=rbf\n",
      "[CV 3/5; 137/400] END C=0.40871514110598417, gamma=382.7447894740212, kernel=rbf;, score=0.506 total time=  11.9s\n",
      "[CV 4/5; 137/400] START C=0.40871514110598417, gamma=382.7447894740212, kernel=rbf\n",
      "[CV 4/5; 137/400] END C=0.40871514110598417, gamma=382.7447894740212, kernel=rbf;, score=0.507 total time=  12.6s\n",
      "[CV 5/5; 137/400] START C=0.40871514110598417, gamma=382.7447894740212, kernel=rbf\n",
      "[CV 5/5; 137/400] END C=0.40871514110598417, gamma=382.7447894740212, kernel=rbf;, score=0.507 total time=  13.2s\n",
      "[CV 1/5; 138/400] START C=0.40871514110598417, gamma=758.679139848782, kernel=rbf\n",
      "[CV 1/5; 138/400] END C=0.40871514110598417, gamma=758.679139848782, kernel=rbf;, score=0.506 total time=  14.0s\n",
      "[CV 2/5; 138/400] START C=0.40871514110598417, gamma=758.679139848782, kernel=rbf\n",
      "[CV 2/5; 138/400] END C=0.40871514110598417, gamma=758.679139848782, kernel=rbf;, score=0.506 total time=  13.3s\n",
      "[CV 3/5; 138/400] START C=0.40871514110598417, gamma=758.679139848782, kernel=rbf\n",
      "[CV 3/5; 138/400] END C=0.40871514110598417, gamma=758.679139848782, kernel=rbf;, score=0.506 total time=  15.2s\n",
      "[CV 4/5; 138/400] START C=0.40871514110598417, gamma=758.679139848782, kernel=rbf\n",
      "[CV 4/5; 138/400] END C=0.40871514110598417, gamma=758.679139848782, kernel=rbf;, score=0.507 total time=  14.5s\n",
      "[CV 5/5; 138/400] START C=0.40871514110598417, gamma=758.679139848782, kernel=rbf\n",
      "[CV 5/5; 138/400] END C=0.40871514110598417, gamma=758.679139848782, kernel=rbf;, score=0.507 total time=  12.8s\n",
      "[CV 1/5; 139/400] START C=0.40871514110598417, gamma=1503.8585842871576, kernel=rbf\n",
      "[CV 1/5; 139/400] END C=0.40871514110598417, gamma=1503.8585842871576, kernel=rbf;, score=0.506 total time=  14.6s\n",
      "[CV 2/5; 139/400] START C=0.40871514110598417, gamma=1503.8585842871576, kernel=rbf\n",
      "[CV 2/5; 139/400] END C=0.40871514110598417, gamma=1503.8585842871576, kernel=rbf;, score=0.506 total time=  13.0s\n",
      "[CV 3/5; 139/400] START C=0.40871514110598417, gamma=1503.8585842871576, kernel=rbf\n",
      "[CV 3/5; 139/400] END C=0.40871514110598417, gamma=1503.8585842871576, kernel=rbf;, score=0.506 total time=  13.9s\n",
      "[CV 4/5; 139/400] START C=0.40871514110598417, gamma=1503.8585842871576, kernel=rbf\n",
      "[CV 4/5; 139/400] END C=0.40871514110598417, gamma=1503.8585842871576, kernel=rbf;, score=0.507 total time=  14.4s\n",
      "[CV 5/5; 139/400] START C=0.40871514110598417, gamma=1503.8585842871576, kernel=rbf\n",
      "[CV 5/5; 139/400] END C=0.40871514110598417, gamma=1503.8585842871576, kernel=rbf;, score=0.507 total time=  14.2s\n",
      "[CV 1/5; 140/400] START C=0.40871514110598417, gamma=2980.957987041727, kernel=rbf\n",
      "[CV 1/5; 140/400] END C=0.40871514110598417, gamma=2980.957987041727, kernel=rbf;, score=0.506 total time=  13.1s\n",
      "[CV 2/5; 140/400] START C=0.40871514110598417, gamma=2980.957987041727, kernel=rbf\n",
      "[CV 2/5; 140/400] END C=0.40871514110598417, gamma=2980.957987041727, kernel=rbf;, score=0.506 total time=  12.3s\n",
      "[CV 3/5; 140/400] START C=0.40871514110598417, gamma=2980.957987041727, kernel=rbf\n",
      "[CV 3/5; 140/400] END C=0.40871514110598417, gamma=2980.957987041727, kernel=rbf;, score=0.506 total time=  13.8s\n",
      "[CV 4/5; 140/400] START C=0.40871514110598417, gamma=2980.957987041727, kernel=rbf\n",
      "[CV 4/5; 140/400] END C=0.40871514110598417, gamma=2980.957987041727, kernel=rbf;, score=0.507 total time=  13.5s\n",
      "[CV 5/5; 140/400] START C=0.40871514110598417, gamma=2980.957987041727, kernel=rbf\n",
      "[CV 5/5; 140/400] END C=0.40871514110598417, gamma=2980.957987041727, kernel=rbf;, score=0.507 total time=  12.6s\n",
      "[CV 1/5; 141/400] START C=0.8101577349324269, gamma=0.006737946999085469, kernel=rbf\n",
      "[CV 1/5; 141/400] END C=0.8101577349324269, gamma=0.006737946999085469, kernel=rbf;, score=0.506 total time=  13.0s\n",
      "[CV 2/5; 141/400] START C=0.8101577349324269, gamma=0.006737946999085469, kernel=rbf\n",
      "[CV 2/5; 141/400] END C=0.8101577349324269, gamma=0.006737946999085469, kernel=rbf;, score=0.506 total time=  14.3s\n",
      "[CV 3/5; 141/400] START C=0.8101577349324269, gamma=0.006737946999085469, kernel=rbf\n",
      "[CV 3/5; 141/400] END C=0.8101577349324269, gamma=0.006737946999085469, kernel=rbf;, score=0.506 total time=  13.9s\n",
      "[CV 4/5; 141/400] START C=0.8101577349324269, gamma=0.006737946999085469, kernel=rbf\n",
      "[CV 4/5; 141/400] END C=0.8101577349324269, gamma=0.006737946999085469, kernel=rbf;, score=0.507 total time=  13.0s\n",
      "[CV 5/5; 141/400] START C=0.8101577349324269, gamma=0.006737946999085469, kernel=rbf\n",
      "[CV 5/5; 141/400] END C=0.8101577349324269, gamma=0.006737946999085469, kernel=rbf;, score=0.507 total time=  12.2s\n",
      "[CV 1/5; 142/400] START C=0.8101577349324269, gamma=0.013356001111439869, kernel=rbf\n",
      "[CV 1/5; 142/400] END C=0.8101577349324269, gamma=0.013356001111439869, kernel=rbf;, score=0.506 total time=  11.7s\n",
      "[CV 2/5; 142/400] START C=0.8101577349324269, gamma=0.013356001111439869, kernel=rbf\n",
      "[CV 2/5; 142/400] END C=0.8101577349324269, gamma=0.013356001111439869, kernel=rbf;, score=0.506 total time=  14.3s\n",
      "[CV 3/5; 142/400] START C=0.8101577349324269, gamma=0.013356001111439869, kernel=rbf\n",
      "[CV 3/5; 142/400] END C=0.8101577349324269, gamma=0.013356001111439869, kernel=rbf;, score=0.506 total time=  13.6s\n",
      "[CV 4/5; 142/400] START C=0.8101577349324269, gamma=0.013356001111439869, kernel=rbf\n"
     ]
    },
    {
     "name": "stdout",
     "output_type": "stream",
     "text": [
      "[CV 4/5; 142/400] END C=0.8101577349324269, gamma=0.013356001111439869, kernel=rbf;, score=0.507 total time=  13.5s\n",
      "[CV 5/5; 142/400] START C=0.8101577349324269, gamma=0.013356001111439869, kernel=rbf\n",
      "[CV 5/5; 142/400] END C=0.8101577349324269, gamma=0.013356001111439869, kernel=rbf;, score=0.507 total time=  14.1s\n",
      "[CV 1/5; 143/400] START C=0.8101577349324269, gamma=0.026474349785326985, kernel=rbf\n",
      "[CV 1/5; 143/400] END C=0.8101577349324269, gamma=0.026474349785326985, kernel=rbf;, score=0.506 total time=  15.7s\n",
      "[CV 2/5; 143/400] START C=0.8101577349324269, gamma=0.026474349785326985, kernel=rbf\n",
      "[CV 2/5; 143/400] END C=0.8101577349324269, gamma=0.026474349785326985, kernel=rbf;, score=0.506 total time=  14.0s\n",
      "[CV 3/5; 143/400] START C=0.8101577349324269, gamma=0.026474349785326985, kernel=rbf\n",
      "[CV 3/5; 143/400] END C=0.8101577349324269, gamma=0.026474349785326985, kernel=rbf;, score=0.506 total time=  14.1s\n",
      "[CV 4/5; 143/400] START C=0.8101577349324269, gamma=0.026474349785326985, kernel=rbf\n",
      "[CV 4/5; 143/400] END C=0.8101577349324269, gamma=0.026474349785326985, kernel=rbf;, score=0.507 total time=  14.1s\n",
      "[CV 5/5; 143/400] START C=0.8101577349324269, gamma=0.026474349785326985, kernel=rbf\n",
      "[CV 5/5; 143/400] END C=0.8101577349324269, gamma=0.026474349785326985, kernel=rbf;, score=0.507 total time=  12.2s\n",
      "[CV 1/5; 144/400] START C=0.8101577349324269, gamma=0.052477623407466346, kernel=rbf\n",
      "[CV 1/5; 144/400] END C=0.8101577349324269, gamma=0.052477623407466346, kernel=rbf;, score=0.816 total time=  13.6s\n",
      "[CV 2/5; 144/400] START C=0.8101577349324269, gamma=0.052477623407466346, kernel=rbf\n",
      "[CV 2/5; 144/400] END C=0.8101577349324269, gamma=0.052477623407466346, kernel=rbf;, score=0.817 total time=  14.2s\n",
      "[CV 3/5; 144/400] START C=0.8101577349324269, gamma=0.052477623407466346, kernel=rbf\n",
      "[CV 3/5; 144/400] END C=0.8101577349324269, gamma=0.052477623407466346, kernel=rbf;, score=0.821 total time=  13.4s\n",
      "[CV 4/5; 144/400] START C=0.8101577349324269, gamma=0.052477623407466346, kernel=rbf\n",
      "[CV 4/5; 144/400] END C=0.8101577349324269, gamma=0.052477623407466346, kernel=rbf;, score=0.829 total time=  14.0s\n",
      "[CV 5/5; 144/400] START C=0.8101577349324269, gamma=0.052477623407466346, kernel=rbf\n",
      "[CV 5/5; 144/400] END C=0.8101577349324269, gamma=0.052477623407466346, kernel=rbf;, score=0.809 total time=  16.5s\n",
      "[CV 1/5; 145/400] START C=0.8101577349324269, gamma=0.10402147666803764, kernel=rbf\n",
      "[CV 1/5; 145/400] END C=0.8101577349324269, gamma=0.10402147666803764, kernel=rbf;, score=0.873 total time=  12.6s\n",
      "[CV 2/5; 145/400] START C=0.8101577349324269, gamma=0.10402147666803764, kernel=rbf\n",
      "[CV 2/5; 145/400] END C=0.8101577349324269, gamma=0.10402147666803764, kernel=rbf;, score=0.843 total time=  13.4s\n",
      "[CV 3/5; 145/400] START C=0.8101577349324269, gamma=0.10402147666803764, kernel=rbf\n",
      "[CV 3/5; 145/400] END C=0.8101577349324269, gamma=0.10402147666803764, kernel=rbf;, score=0.818 total time=  14.5s\n",
      "[CV 4/5; 145/400] START C=0.8101577349324269, gamma=0.10402147666803764, kernel=rbf\n",
      "[CV 4/5; 145/400] END C=0.8101577349324269, gamma=0.10402147666803764, kernel=rbf;, score=0.856 total time=  15.4s\n",
      "[CV 5/5; 145/400] START C=0.8101577349324269, gamma=0.10402147666803764, kernel=rbf\n",
      "[CV 5/5; 145/400] END C=0.8101577349324269, gamma=0.10402147666803764, kernel=rbf;, score=0.864 total time=  15.0s\n",
      "[CV 1/5; 146/400] START C=0.8101577349324269, gamma=0.20619202825140895, kernel=rbf\n",
      "[CV 1/5; 146/400] END C=0.8101577349324269, gamma=0.20619202825140895, kernel=rbf;, score=0.869 total time=  13.9s\n",
      "[CV 2/5; 146/400] START C=0.8101577349324269, gamma=0.20619202825140895, kernel=rbf\n",
      "[CV 2/5; 146/400] END C=0.8101577349324269, gamma=0.20619202825140895, kernel=rbf;, score=0.870 total time=  12.5s\n",
      "[CV 3/5; 146/400] START C=0.8101577349324269, gamma=0.20619202825140895, kernel=rbf\n",
      "[CV 3/5; 146/400] END C=0.8101577349324269, gamma=0.20619202825140895, kernel=rbf;, score=0.825 total time=  11.3s\n",
      "[CV 4/5; 146/400] START C=0.8101577349324269, gamma=0.20619202825140895, kernel=rbf\n",
      "[CV 4/5; 146/400] END C=0.8101577349324269, gamma=0.20619202825140895, kernel=rbf;, score=0.866 total time=  11.1s\n",
      "[CV 5/5; 146/400] START C=0.8101577349324269, gamma=0.20619202825140895, kernel=rbf\n",
      "[CV 5/5; 146/400] END C=0.8101577349324269, gamma=0.20619202825140895, kernel=rbf;, score=0.871 total time=  11.0s\n",
      "[CV 1/5; 147/400] START C=0.8101577349324269, gamma=0.40871514110598417, kernel=rbf\n",
      "[CV 1/5; 147/400] END C=0.8101577349324269, gamma=0.40871514110598417, kernel=rbf;, score=0.876 total time=  11.4s\n",
      "[CV 2/5; 147/400] START C=0.8101577349324269, gamma=0.40871514110598417, kernel=rbf\n",
      "[CV 2/5; 147/400] END C=0.8101577349324269, gamma=0.40871514110598417, kernel=rbf;, score=0.873 total time=  11.3s\n",
      "[CV 3/5; 147/400] START C=0.8101577349324269, gamma=0.40871514110598417, kernel=rbf\n",
      "[CV 3/5; 147/400] END C=0.8101577349324269, gamma=0.40871514110598417, kernel=rbf;, score=0.832 total time=  11.4s\n",
      "[CV 4/5; 147/400] START C=0.8101577349324269, gamma=0.40871514110598417, kernel=rbf\n",
      "[CV 4/5; 147/400] END C=0.8101577349324269, gamma=0.40871514110598417, kernel=rbf;, score=0.871 total time=  12.6s\n",
      "[CV 5/5; 147/400] START C=0.8101577349324269, gamma=0.40871514110598417, kernel=rbf\n",
      "[CV 5/5; 147/400] END C=0.8101577349324269, gamma=0.40871514110598417, kernel=rbf;, score=0.877 total time=  12.1s\n",
      "[CV 1/5; 148/400] START C=0.8101577349324269, gamma=0.8101577349324269, kernel=rbf\n",
      "[CV 1/5; 148/400] END C=0.8101577349324269, gamma=0.8101577349324269, kernel=rbf;, score=0.879 total time=  12.4s\n",
      "[CV 2/5; 148/400] START C=0.8101577349324269, gamma=0.8101577349324269, kernel=rbf\n",
      "[CV 2/5; 148/400] END C=0.8101577349324269, gamma=0.8101577349324269, kernel=rbf;, score=0.867 total time=  13.1s\n",
      "[CV 3/5; 148/400] START C=0.8101577349324269, gamma=0.8101577349324269, kernel=rbf\n",
      "[CV 3/5; 148/400] END C=0.8101577349324269, gamma=0.8101577349324269, kernel=rbf;, score=0.832 total time=  13.0s\n",
      "[CV 4/5; 148/400] START C=0.8101577349324269, gamma=0.8101577349324269, kernel=rbf\n",
      "[CV 4/5; 148/400] END C=0.8101577349324269, gamma=0.8101577349324269, kernel=rbf;, score=0.869 total time=  13.4s\n",
      "[CV 5/5; 148/400] START C=0.8101577349324269, gamma=0.8101577349324269, kernel=rbf\n",
      "[CV 5/5; 148/400] END C=0.8101577349324269, gamma=0.8101577349324269, kernel=rbf;, score=0.882 total time=  13.3s\n",
      "[CV 1/5; 149/400] START C=0.8101577349324269, gamma=1.6058997806999291, kernel=rbf\n",
      "[CV 1/5; 149/400] END C=0.8101577349324269, gamma=1.6058997806999291, kernel=rbf;, score=0.872 total time=  14.5s\n",
      "[CV 2/5; 149/400] START C=0.8101577349324269, gamma=1.6058997806999291, kernel=rbf\n",
      "[CV 2/5; 149/400] END C=0.8101577349324269, gamma=1.6058997806999291, kernel=rbf;, score=0.866 total time=  14.3s\n",
      "[CV 3/5; 149/400] START C=0.8101577349324269, gamma=1.6058997806999291, kernel=rbf\n",
      "[CV 3/5; 149/400] END C=0.8101577349324269, gamma=1.6058997806999291, kernel=rbf;, score=0.828 total time=  14.3s\n",
      "[CV 4/5; 149/400] START C=0.8101577349324269, gamma=1.6058997806999291, kernel=rbf\n",
      "[CV 4/5; 149/400] END C=0.8101577349324269, gamma=1.6058997806999291, kernel=rbf;, score=0.865 total time=  14.1s\n",
      "[CV 5/5; 149/400] START C=0.8101577349324269, gamma=1.6058997806999291, kernel=rbf\n",
      "[CV 5/5; 149/400] END C=0.8101577349324269, gamma=1.6058997806999291, kernel=rbf;, score=0.872 total time=  13.8s\n",
      "[CV 1/5; 150/400] START C=0.8101577349324269, gamma=3.1832246912598827, kernel=rbf\n",
      "[CV 1/5; 150/400] END C=0.8101577349324269, gamma=3.1832246912598827, kernel=rbf;, score=0.506 total time=  14.7s\n",
      "[CV 2/5; 150/400] START C=0.8101577349324269, gamma=3.1832246912598827, kernel=rbf\n",
      "[CV 2/5; 150/400] END C=0.8101577349324269, gamma=3.1832246912598827, kernel=rbf;, score=0.509 total time=  14.9s\n",
      "[CV 3/5; 150/400] START C=0.8101577349324269, gamma=3.1832246912598827, kernel=rbf\n",
      "[CV 3/5; 150/400] END C=0.8101577349324269, gamma=3.1832246912598827, kernel=rbf;, score=0.507 total time=  13.0s\n",
      "[CV 4/5; 150/400] START C=0.8101577349324269, gamma=3.1832246912598827, kernel=rbf\n",
      "[CV 4/5; 150/400] END C=0.8101577349324269, gamma=3.1832246912598827, kernel=rbf;, score=0.508 total time=  13.0s\n",
      "[CV 5/5; 150/400] START C=0.8101577349324269, gamma=3.1832246912598827, kernel=rbf\n",
      "[CV 5/5; 150/400] END C=0.8101577349324269, gamma=3.1832246912598827, kernel=rbf;, score=0.508 total time=  13.2s\n",
      "[CV 1/5; 151/400] START C=0.8101577349324269, gamma=6.3098080943943815, kernel=rbf\n"
     ]
    },
    {
     "name": "stdout",
     "output_type": "stream",
     "text": [
      "[CV 1/5; 151/400] END C=0.8101577349324269, gamma=6.3098080943943815, kernel=rbf;, score=0.506 total time=  13.6s\n",
      "[CV 2/5; 151/400] START C=0.8101577349324269, gamma=6.3098080943943815, kernel=rbf\n",
      "[CV 2/5; 151/400] END C=0.8101577349324269, gamma=6.3098080943943815, kernel=rbf;, score=0.509 total time=  13.4s\n",
      "[CV 3/5; 151/400] START C=0.8101577349324269, gamma=6.3098080943943815, kernel=rbf\n",
      "[CV 3/5; 151/400] END C=0.8101577349324269, gamma=6.3098080943943815, kernel=rbf;, score=0.507 total time=  13.8s\n",
      "[CV 4/5; 151/400] START C=0.8101577349324269, gamma=6.3098080943943815, kernel=rbf\n",
      "[CV 4/5; 151/400] END C=0.8101577349324269, gamma=6.3098080943943815, kernel=rbf;, score=0.508 total time=  13.6s\n",
      "[CV 5/5; 151/400] START C=0.8101577349324269, gamma=6.3098080943943815, kernel=rbf\n",
      "[CV 5/5; 151/400] END C=0.8101577349324269, gamma=6.3098080943943815, kernel=rbf;, score=0.508 total time=  13.7s\n",
      "[CV 1/5; 152/400] START C=0.8101577349324269, gamma=12.507341469611143, kernel=rbf\n",
      "[CV 1/5; 152/400] END C=0.8101577349324269, gamma=12.507341469611143, kernel=rbf;, score=0.506 total time=  13.2s\n",
      "[CV 2/5; 152/400] START C=0.8101577349324269, gamma=12.507341469611143, kernel=rbf\n",
      "[CV 2/5; 152/400] END C=0.8101577349324269, gamma=12.507341469611143, kernel=rbf;, score=0.509 total time=  13.2s\n",
      "[CV 3/5; 152/400] START C=0.8101577349324269, gamma=12.507341469611143, kernel=rbf\n",
      "[CV 3/5; 152/400] END C=0.8101577349324269, gamma=12.507341469611143, kernel=rbf;, score=0.507 total time=  13.2s\n",
      "[CV 4/5; 152/400] START C=0.8101577349324269, gamma=12.507341469611143, kernel=rbf\n",
      "[CV 4/5; 152/400] END C=0.8101577349324269, gamma=12.507341469611143, kernel=rbf;, score=0.508 total time=  13.3s\n",
      "[CV 5/5; 152/400] START C=0.8101577349324269, gamma=12.507341469611143, kernel=rbf\n",
      "[CV 5/5; 152/400] END C=0.8101577349324269, gamma=12.507341469611143, kernel=rbf;, score=0.508 total time=  12.8s\n",
      "[CV 1/5; 153/400] START C=0.8101577349324269, gamma=24.792131281525027, kernel=rbf\n",
      "[CV 1/5; 153/400] END C=0.8101577349324269, gamma=24.792131281525027, kernel=rbf;, score=0.506 total time=  12.7s\n",
      "[CV 2/5; 153/400] START C=0.8101577349324269, gamma=24.792131281525027, kernel=rbf\n",
      "[CV 2/5; 153/400] END C=0.8101577349324269, gamma=24.792131281525027, kernel=rbf;, score=0.509 total time=  13.1s\n",
      "[CV 3/5; 153/400] START C=0.8101577349324269, gamma=24.792131281525027, kernel=rbf\n",
      "[CV 3/5; 153/400] END C=0.8101577349324269, gamma=24.792131281525027, kernel=rbf;, score=0.507 total time=  12.5s\n",
      "[CV 4/5; 153/400] START C=0.8101577349324269, gamma=24.792131281525027, kernel=rbf\n",
      "[CV 4/5; 153/400] END C=0.8101577349324269, gamma=24.792131281525027, kernel=rbf;, score=0.508 total time=  13.0s\n",
      "[CV 5/5; 153/400] START C=0.8101577349324269, gamma=24.792131281525027, kernel=rbf\n",
      "[CV 5/5; 153/400] END C=0.8101577349324269, gamma=24.792131281525027, kernel=rbf;, score=0.508 total time=  12.5s\n",
      "[CV 1/5; 154/400] START C=0.8101577349324269, gamma=49.143119261097524, kernel=rbf\n",
      "[CV 1/5; 154/400] END C=0.8101577349324269, gamma=49.143119261097524, kernel=rbf;, score=0.506 total time=  13.4s\n",
      "[CV 2/5; 154/400] START C=0.8101577349324269, gamma=49.143119261097524, kernel=rbf\n",
      "[CV 2/5; 154/400] END C=0.8101577349324269, gamma=49.143119261097524, kernel=rbf;, score=0.509 total time=  12.8s\n",
      "[CV 3/5; 154/400] START C=0.8101577349324269, gamma=49.143119261097524, kernel=rbf\n",
      "[CV 3/5; 154/400] END C=0.8101577349324269, gamma=49.143119261097524, kernel=rbf;, score=0.507 total time=  12.4s\n",
      "[CV 4/5; 154/400] START C=0.8101577349324269, gamma=49.143119261097524, kernel=rbf\n",
      "[CV 4/5; 154/400] END C=0.8101577349324269, gamma=49.143119261097524, kernel=rbf;, score=0.508 total time=  13.0s\n",
      "[CV 5/5; 154/400] START C=0.8101577349324269, gamma=49.143119261097524, kernel=rbf\n",
      "[CV 5/5; 154/400] END C=0.8101577349324269, gamma=49.143119261097524, kernel=rbf;, score=0.508 total time=  12.9s\n",
      "[CV 1/5; 155/400] START C=0.8101577349324269, gamma=97.41180148195387, kernel=rbf\n",
      "[CV 1/5; 155/400] END C=0.8101577349324269, gamma=97.41180148195387, kernel=rbf;, score=0.506 total time=  12.5s\n",
      "[CV 2/5; 155/400] START C=0.8101577349324269, gamma=97.41180148195387, kernel=rbf\n",
      "[CV 2/5; 155/400] END C=0.8101577349324269, gamma=97.41180148195387, kernel=rbf;, score=0.509 total time=  12.4s\n",
      "[CV 3/5; 155/400] START C=0.8101577349324269, gamma=97.41180148195387, kernel=rbf\n",
      "[CV 3/5; 155/400] END C=0.8101577349324269, gamma=97.41180148195387, kernel=rbf;, score=0.507 total time=  13.0s\n",
      "[CV 4/5; 155/400] START C=0.8101577349324269, gamma=97.41180148195387, kernel=rbf\n",
      "[CV 4/5; 155/400] END C=0.8101577349324269, gamma=97.41180148195387, kernel=rbf;, score=0.508 total time=  13.3s\n",
      "[CV 5/5; 155/400] START C=0.8101577349324269, gamma=97.41180148195387, kernel=rbf\n",
      "[CV 5/5; 155/400] END C=0.8101577349324269, gamma=97.41180148195387, kernel=rbf;, score=0.508 total time=  14.4s\n",
      "[CV 1/5; 156/400] START C=0.8101577349324269, gamma=193.0902883381129, kernel=rbf\n",
      "[CV 1/5; 156/400] END C=0.8101577349324269, gamma=193.0902883381129, kernel=rbf;, score=0.506 total time=  13.0s\n",
      "[CV 2/5; 156/400] START C=0.8101577349324269, gamma=193.0902883381129, kernel=rbf\n",
      "[CV 2/5; 156/400] END C=0.8101577349324269, gamma=193.0902883381129, kernel=rbf;, score=0.508 total time=  12.9s\n",
      "[CV 3/5; 156/400] START C=0.8101577349324269, gamma=193.0902883381129, kernel=rbf\n",
      "[CV 3/5; 156/400] END C=0.8101577349324269, gamma=193.0902883381129, kernel=rbf;, score=0.506 total time=  12.6s\n",
      "[CV 4/5; 156/400] START C=0.8101577349324269, gamma=193.0902883381129, kernel=rbf\n",
      "[CV 4/5; 156/400] END C=0.8101577349324269, gamma=193.0902883381129, kernel=rbf;, score=0.508 total time=  13.4s\n",
      "[CV 5/5; 156/400] START C=0.8101577349324269, gamma=193.0902883381129, kernel=rbf\n",
      "[CV 5/5; 156/400] END C=0.8101577349324269, gamma=193.0902883381129, kernel=rbf;, score=0.508 total time=  12.7s\n",
      "[CV 1/5; 157/400] START C=0.8101577349324269, gamma=382.7447894740212, kernel=rbf\n",
      "[CV 1/5; 157/400] END C=0.8101577349324269, gamma=382.7447894740212, kernel=rbf;, score=0.506 total time=  12.5s\n",
      "[CV 2/5; 157/400] START C=0.8101577349324269, gamma=382.7447894740212, kernel=rbf\n",
      "[CV 2/5; 157/400] END C=0.8101577349324269, gamma=382.7447894740212, kernel=rbf;, score=0.508 total time=  13.1s\n",
      "[CV 3/5; 157/400] START C=0.8101577349324269, gamma=382.7447894740212, kernel=rbf\n",
      "[CV 3/5; 157/400] END C=0.8101577349324269, gamma=382.7447894740212, kernel=rbf;, score=0.506 total time=  12.3s\n",
      "[CV 4/5; 157/400] START C=0.8101577349324269, gamma=382.7447894740212, kernel=rbf\n",
      "[CV 4/5; 157/400] END C=0.8101577349324269, gamma=382.7447894740212, kernel=rbf;, score=0.508 total time=  12.5s\n",
      "[CV 5/5; 157/400] START C=0.8101577349324269, gamma=382.7447894740212, kernel=rbf\n",
      "[CV 5/5; 157/400] END C=0.8101577349324269, gamma=382.7447894740212, kernel=rbf;, score=0.508 total time=  12.5s\n",
      "[CV 1/5; 158/400] START C=0.8101577349324269, gamma=758.679139848782, kernel=rbf\n",
      "[CV 1/5; 158/400] END C=0.8101577349324269, gamma=758.679139848782, kernel=rbf;, score=0.506 total time=  13.1s\n",
      "[CV 2/5; 158/400] START C=0.8101577349324269, gamma=758.679139848782, kernel=rbf\n",
      "[CV 2/5; 158/400] END C=0.8101577349324269, gamma=758.679139848782, kernel=rbf;, score=0.508 total time=  12.6s\n",
      "[CV 3/5; 158/400] START C=0.8101577349324269, gamma=758.679139848782, kernel=rbf\n",
      "[CV 3/5; 158/400] END C=0.8101577349324269, gamma=758.679139848782, kernel=rbf;, score=0.506 total time=  12.0s\n",
      "[CV 4/5; 158/400] START C=0.8101577349324269, gamma=758.679139848782, kernel=rbf\n",
      "[CV 4/5; 158/400] END C=0.8101577349324269, gamma=758.679139848782, kernel=rbf;, score=0.508 total time=  13.0s\n",
      "[CV 5/5; 158/400] START C=0.8101577349324269, gamma=758.679139848782, kernel=rbf\n",
      "[CV 5/5; 158/400] END C=0.8101577349324269, gamma=758.679139848782, kernel=rbf;, score=0.508 total time=  12.8s\n",
      "[CV 1/5; 159/400] START C=0.8101577349324269, gamma=1503.8585842871576, kernel=rbf\n",
      "[CV 1/5; 159/400] END C=0.8101577349324269, gamma=1503.8585842871576, kernel=rbf;, score=0.506 total time=  13.0s\n",
      "[CV 2/5; 159/400] START C=0.8101577349324269, gamma=1503.8585842871576, kernel=rbf\n",
      "[CV 2/5; 159/400] END C=0.8101577349324269, gamma=1503.8585842871576, kernel=rbf;, score=0.508 total time=  13.0s\n",
      "[CV 3/5; 159/400] START C=0.8101577349324269, gamma=1503.8585842871576, kernel=rbf\n"
     ]
    },
    {
     "name": "stdout",
     "output_type": "stream",
     "text": [
      "[CV 3/5; 159/400] END C=0.8101577349324269, gamma=1503.8585842871576, kernel=rbf;, score=0.506 total time=  12.5s\n",
      "[CV 4/5; 159/400] START C=0.8101577349324269, gamma=1503.8585842871576, kernel=rbf\n",
      "[CV 4/5; 159/400] END C=0.8101577349324269, gamma=1503.8585842871576, kernel=rbf;, score=0.508 total time=  12.9s\n",
      "[CV 5/5; 159/400] START C=0.8101577349324269, gamma=1503.8585842871576, kernel=rbf\n",
      "[CV 5/5; 159/400] END C=0.8101577349324269, gamma=1503.8585842871576, kernel=rbf;, score=0.508 total time=  12.8s\n",
      "[CV 1/5; 160/400] START C=0.8101577349324269, gamma=2980.957987041727, kernel=rbf\n",
      "[CV 1/5; 160/400] END C=0.8101577349324269, gamma=2980.957987041727, kernel=rbf;, score=0.506 total time=  12.4s\n",
      "[CV 2/5; 160/400] START C=0.8101577349324269, gamma=2980.957987041727, kernel=rbf\n",
      "[CV 2/5; 160/400] END C=0.8101577349324269, gamma=2980.957987041727, kernel=rbf;, score=0.508 total time=  12.9s\n",
      "[CV 3/5; 160/400] START C=0.8101577349324269, gamma=2980.957987041727, kernel=rbf\n",
      "[CV 3/5; 160/400] END C=0.8101577349324269, gamma=2980.957987041727, kernel=rbf;, score=0.506 total time=  17.2s\n",
      "[CV 4/5; 160/400] START C=0.8101577349324269, gamma=2980.957987041727, kernel=rbf\n",
      "[CV 4/5; 160/400] END C=0.8101577349324269, gamma=2980.957987041727, kernel=rbf;, score=0.508 total time=  13.8s\n",
      "[CV 5/5; 160/400] START C=0.8101577349324269, gamma=2980.957987041727, kernel=rbf\n",
      "[CV 5/5; 160/400] END C=0.8101577349324269, gamma=2980.957987041727, kernel=rbf;, score=0.508 total time=  12.7s\n",
      "[CV 1/5; 161/400] START C=1.6058997806999291, gamma=0.006737946999085469, kernel=rbf\n",
      "[CV 1/5; 161/400] END C=1.6058997806999291, gamma=0.006737946999085469, kernel=rbf;, score=0.506 total time=  12.7s\n",
      "[CV 2/5; 161/400] START C=1.6058997806999291, gamma=0.006737946999085469, kernel=rbf\n",
      "[CV 2/5; 161/400] END C=1.6058997806999291, gamma=0.006737946999085469, kernel=rbf;, score=0.506 total time=  14.4s\n",
      "[CV 3/5; 161/400] START C=1.6058997806999291, gamma=0.006737946999085469, kernel=rbf\n",
      "[CV 3/5; 161/400] END C=1.6058997806999291, gamma=0.006737946999085469, kernel=rbf;, score=0.506 total time=  13.2s\n",
      "[CV 4/5; 161/400] START C=1.6058997806999291, gamma=0.006737946999085469, kernel=rbf\n",
      "[CV 4/5; 161/400] END C=1.6058997806999291, gamma=0.006737946999085469, kernel=rbf;, score=0.507 total time=  12.4s\n",
      "[CV 5/5; 161/400] START C=1.6058997806999291, gamma=0.006737946999085469, kernel=rbf\n",
      "[CV 5/5; 161/400] END C=1.6058997806999291, gamma=0.006737946999085469, kernel=rbf;, score=0.507 total time=  12.7s\n",
      "[CV 1/5; 162/400] START C=1.6058997806999291, gamma=0.013356001111439869, kernel=rbf\n",
      "[CV 1/5; 162/400] END C=1.6058997806999291, gamma=0.013356001111439869, kernel=rbf;, score=0.506 total time=  13.1s\n",
      "[CV 2/5; 162/400] START C=1.6058997806999291, gamma=0.013356001111439869, kernel=rbf\n",
      "[CV 2/5; 162/400] END C=1.6058997806999291, gamma=0.013356001111439869, kernel=rbf;, score=0.506 total time=  14.1s\n",
      "[CV 3/5; 162/400] START C=1.6058997806999291, gamma=0.013356001111439869, kernel=rbf\n",
      "[CV 3/5; 162/400] END C=1.6058997806999291, gamma=0.013356001111439869, kernel=rbf;, score=0.506 total time=  12.6s\n",
      "[CV 4/5; 162/400] START C=1.6058997806999291, gamma=0.013356001111439869, kernel=rbf\n",
      "[CV 4/5; 162/400] END C=1.6058997806999291, gamma=0.013356001111439869, kernel=rbf;, score=0.507 total time=  12.6s\n",
      "[CV 5/5; 162/400] START C=1.6058997806999291, gamma=0.013356001111439869, kernel=rbf\n",
      "[CV 5/5; 162/400] END C=1.6058997806999291, gamma=0.013356001111439869, kernel=rbf;, score=0.507 total time=  12.8s\n",
      "[CV 1/5; 163/400] START C=1.6058997806999291, gamma=0.026474349785326985, kernel=rbf\n",
      "[CV 1/5; 163/400] END C=1.6058997806999291, gamma=0.026474349785326985, kernel=rbf;, score=0.843 total time=  14.3s\n",
      "[CV 2/5; 163/400] START C=1.6058997806999291, gamma=0.026474349785326985, kernel=rbf\n",
      "[CV 2/5; 163/400] END C=1.6058997806999291, gamma=0.026474349785326985, kernel=rbf;, score=0.839 total time=  14.0s\n",
      "[CV 3/5; 163/400] START C=1.6058997806999291, gamma=0.026474349785326985, kernel=rbf\n",
      "[CV 3/5; 163/400] END C=1.6058997806999291, gamma=0.026474349785326985, kernel=rbf;, score=0.837 total time=  13.1s\n",
      "[CV 4/5; 163/400] START C=1.6058997806999291, gamma=0.026474349785326985, kernel=rbf\n",
      "[CV 4/5; 163/400] END C=1.6058997806999291, gamma=0.026474349785326985, kernel=rbf;, score=0.842 total time=  13.0s\n",
      "[CV 5/5; 163/400] START C=1.6058997806999291, gamma=0.026474349785326985, kernel=rbf\n",
      "[CV 5/5; 163/400] END C=1.6058997806999291, gamma=0.026474349785326985, kernel=rbf;, score=0.835 total time=  12.2s\n",
      "[CV 1/5; 164/400] START C=1.6058997806999291, gamma=0.052477623407466346, kernel=rbf\n",
      "[CV 1/5; 164/400] END C=1.6058997806999291, gamma=0.052477623407466346, kernel=rbf;, score=0.874 total time=  12.6s\n",
      "[CV 2/5; 164/400] START C=1.6058997806999291, gamma=0.052477623407466346, kernel=rbf\n",
      "[CV 2/5; 164/400] END C=1.6058997806999291, gamma=0.052477623407466346, kernel=rbf;, score=0.851 total time=  12.8s\n",
      "[CV 3/5; 164/400] START C=1.6058997806999291, gamma=0.052477623407466346, kernel=rbf\n",
      "[CV 3/5; 164/400] END C=1.6058997806999291, gamma=0.052477623407466346, kernel=rbf;, score=0.818 total time=  12.8s\n",
      "[CV 4/5; 164/400] START C=1.6058997806999291, gamma=0.052477623407466346, kernel=rbf\n",
      "[CV 4/5; 164/400] END C=1.6058997806999291, gamma=0.052477623407466346, kernel=rbf;, score=0.855 total time=  13.3s\n",
      "[CV 5/5; 164/400] START C=1.6058997806999291, gamma=0.052477623407466346, kernel=rbf\n",
      "[CV 5/5; 164/400] END C=1.6058997806999291, gamma=0.052477623407466346, kernel=rbf;, score=0.867 total time=  14.3s\n",
      "[CV 1/5; 165/400] START C=1.6058997806999291, gamma=0.10402147666803764, kernel=rbf\n",
      "[CV 1/5; 165/400] END C=1.6058997806999291, gamma=0.10402147666803764, kernel=rbf;, score=0.873 total time=  12.4s\n",
      "[CV 2/5; 165/400] START C=1.6058997806999291, gamma=0.10402147666803764, kernel=rbf\n",
      "[CV 2/5; 165/400] END C=1.6058997806999291, gamma=0.10402147666803764, kernel=rbf;, score=0.871 total time=  12.2s\n",
      "[CV 3/5; 165/400] START C=1.6058997806999291, gamma=0.10402147666803764, kernel=rbf\n",
      "[CV 3/5; 165/400] END C=1.6058997806999291, gamma=0.10402147666803764, kernel=rbf;, score=0.827 total time=  11.5s\n",
      "[CV 4/5; 165/400] START C=1.6058997806999291, gamma=0.10402147666803764, kernel=rbf\n",
      "[CV 4/5; 165/400] END C=1.6058997806999291, gamma=0.10402147666803764, kernel=rbf;, score=0.868 total time=  13.0s\n",
      "[CV 5/5; 165/400] START C=1.6058997806999291, gamma=0.10402147666803764, kernel=rbf\n",
      "[CV 5/5; 165/400] END C=1.6058997806999291, gamma=0.10402147666803764, kernel=rbf;, score=0.873 total time=  12.6s\n",
      "[CV 1/5; 166/400] START C=1.6058997806999291, gamma=0.20619202825140895, kernel=rbf\n",
      "[CV 1/5; 166/400] END C=1.6058997806999291, gamma=0.20619202825140895, kernel=rbf;, score=0.874 total time=  11.7s\n",
      "[CV 2/5; 166/400] START C=1.6058997806999291, gamma=0.20619202825140895, kernel=rbf\n",
      "[CV 2/5; 166/400] END C=1.6058997806999291, gamma=0.20619202825140895, kernel=rbf;, score=0.870 total time=  11.8s\n",
      "[CV 3/5; 166/400] START C=1.6058997806999291, gamma=0.20619202825140895, kernel=rbf\n",
      "[CV 3/5; 166/400] END C=1.6058997806999291, gamma=0.20619202825140895, kernel=rbf;, score=0.838 total time=  14.1s\n",
      "[CV 4/5; 166/400] START C=1.6058997806999291, gamma=0.20619202825140895, kernel=rbf\n",
      "[CV 4/5; 166/400] END C=1.6058997806999291, gamma=0.20619202825140895, kernel=rbf;, score=0.866 total time=  13.5s\n",
      "[CV 5/5; 166/400] START C=1.6058997806999291, gamma=0.20619202825140895, kernel=rbf\n",
      "[CV 5/5; 166/400] END C=1.6058997806999291, gamma=0.20619202825140895, kernel=rbf;, score=0.887 total time=  13.4s\n",
      "[CV 1/5; 167/400] START C=1.6058997806999291, gamma=0.40871514110598417, kernel=rbf\n",
      "[CV 1/5; 167/400] END C=1.6058997806999291, gamma=0.40871514110598417, kernel=rbf;, score=0.867 total time=  20.8s\n",
      "[CV 2/5; 167/400] START C=1.6058997806999291, gamma=0.40871514110598417, kernel=rbf\n",
      "[CV 2/5; 167/400] END C=1.6058997806999291, gamma=0.40871514110598417, kernel=rbf;, score=0.870 total time=  14.4s\n",
      "[CV 3/5; 167/400] START C=1.6058997806999291, gamma=0.40871514110598417, kernel=rbf\n",
      "[CV 3/5; 167/400] END C=1.6058997806999291, gamma=0.40871514110598417, kernel=rbf;, score=0.843 total time=  14.1s\n",
      "[CV 4/5; 167/400] START C=1.6058997806999291, gamma=0.40871514110598417, kernel=rbf\n",
      "[CV 4/5; 167/400] END C=1.6058997806999291, gamma=0.40871514110598417, kernel=rbf;, score=0.870 total time=  14.9s\n",
      "[CV 5/5; 167/400] START C=1.6058997806999291, gamma=0.40871514110598417, kernel=rbf\n"
     ]
    },
    {
     "name": "stdout",
     "output_type": "stream",
     "text": [
      "[CV 5/5; 167/400] END C=1.6058997806999291, gamma=0.40871514110598417, kernel=rbf;, score=0.884 total time=  13.3s\n",
      "[CV 1/5; 168/400] START C=1.6058997806999291, gamma=0.8101577349324269, kernel=rbf\n",
      "[CV 1/5; 168/400] END C=1.6058997806999291, gamma=0.8101577349324269, kernel=rbf;, score=0.871 total time=  12.3s\n",
      "[CV 2/5; 168/400] START C=1.6058997806999291, gamma=0.8101577349324269, kernel=rbf\n",
      "[CV 2/5; 168/400] END C=1.6058997806999291, gamma=0.8101577349324269, kernel=rbf;, score=0.873 total time=  13.8s\n",
      "[CV 3/5; 168/400] START C=1.6058997806999291, gamma=0.8101577349324269, kernel=rbf\n",
      "[CV 3/5; 168/400] END C=1.6058997806999291, gamma=0.8101577349324269, kernel=rbf;, score=0.839 total time=  12.9s\n",
      "[CV 4/5; 168/400] START C=1.6058997806999291, gamma=0.8101577349324269, kernel=rbf\n",
      "[CV 4/5; 168/400] END C=1.6058997806999291, gamma=0.8101577349324269, kernel=rbf;, score=0.872 total time=  16.3s\n",
      "[CV 5/5; 168/400] START C=1.6058997806999291, gamma=0.8101577349324269, kernel=rbf\n",
      "[CV 5/5; 168/400] END C=1.6058997806999291, gamma=0.8101577349324269, kernel=rbf;, score=0.879 total time=  15.1s\n",
      "[CV 1/5; 169/400] START C=1.6058997806999291, gamma=1.6058997806999291, kernel=rbf\n",
      "[CV 1/5; 169/400] END C=1.6058997806999291, gamma=1.6058997806999291, kernel=rbf;, score=0.877 total time=  12.5s\n",
      "[CV 2/5; 169/400] START C=1.6058997806999291, gamma=1.6058997806999291, kernel=rbf\n",
      "[CV 2/5; 169/400] END C=1.6058997806999291, gamma=1.6058997806999291, kernel=rbf;, score=0.873 total time=  11.8s\n",
      "[CV 3/5; 169/400] START C=1.6058997806999291, gamma=1.6058997806999291, kernel=rbf\n",
      "[CV 3/5; 169/400] END C=1.6058997806999291, gamma=1.6058997806999291, kernel=rbf;, score=0.838 total time=  12.0s\n",
      "[CV 4/5; 169/400] START C=1.6058997806999291, gamma=1.6058997806999291, kernel=rbf\n",
      "[CV 4/5; 169/400] END C=1.6058997806999291, gamma=1.6058997806999291, kernel=rbf;, score=0.867 total time=  13.8s\n",
      "[CV 5/5; 169/400] START C=1.6058997806999291, gamma=1.6058997806999291, kernel=rbf\n",
      "[CV 5/5; 169/400] END C=1.6058997806999291, gamma=1.6058997806999291, kernel=rbf;, score=0.877 total time=  12.7s\n",
      "[CV 1/5; 170/400] START C=1.6058997806999291, gamma=3.1832246912598827, kernel=rbf\n",
      "[CV 1/5; 170/400] END C=1.6058997806999291, gamma=3.1832246912598827, kernel=rbf;, score=0.846 total time=  12.6s\n",
      "[CV 2/5; 170/400] START C=1.6058997806999291, gamma=3.1832246912598827, kernel=rbf\n",
      "[CV 2/5; 170/400] END C=1.6058997806999291, gamma=3.1832246912598827, kernel=rbf;, score=0.845 total time=  14.0s\n",
      "[CV 3/5; 170/400] START C=1.6058997806999291, gamma=3.1832246912598827, kernel=rbf\n",
      "[CV 3/5; 170/400] END C=1.6058997806999291, gamma=3.1832246912598827, kernel=rbf;, score=0.837 total time=  13.1s\n",
      "[CV 4/5; 170/400] START C=1.6058997806999291, gamma=3.1832246912598827, kernel=rbf\n",
      "[CV 4/5; 170/400] END C=1.6058997806999291, gamma=3.1832246912598827, kernel=rbf;, score=0.841 total time=  13.2s\n",
      "[CV 5/5; 170/400] START C=1.6058997806999291, gamma=3.1832246912598827, kernel=rbf\n",
      "[CV 5/5; 170/400] END C=1.6058997806999291, gamma=3.1832246912598827, kernel=rbf;, score=0.843 total time=  13.4s\n",
      "[CV 1/5; 171/400] START C=1.6058997806999291, gamma=6.3098080943943815, kernel=rbf\n",
      "[CV 1/5; 171/400] END C=1.6058997806999291, gamma=6.3098080943943815, kernel=rbf;, score=0.506 total time=  15.4s\n",
      "[CV 2/5; 171/400] START C=1.6058997806999291, gamma=6.3098080943943815, kernel=rbf\n",
      "[CV 2/5; 171/400] END C=1.6058997806999291, gamma=6.3098080943943815, kernel=rbf;, score=0.509 total time=  15.8s\n",
      "[CV 3/5; 171/400] START C=1.6058997806999291, gamma=6.3098080943943815, kernel=rbf\n",
      "[CV 3/5; 171/400] END C=1.6058997806999291, gamma=6.3098080943943815, kernel=rbf;, score=0.507 total time=  12.0s\n",
      "[CV 4/5; 171/400] START C=1.6058997806999291, gamma=6.3098080943943815, kernel=rbf\n",
      "[CV 4/5; 171/400] END C=1.6058997806999291, gamma=6.3098080943943815, kernel=rbf;, score=0.508 total time=  12.1s\n",
      "[CV 5/5; 171/400] START C=1.6058997806999291, gamma=6.3098080943943815, kernel=rbf\n",
      "[CV 5/5; 171/400] END C=1.6058997806999291, gamma=6.3098080943943815, kernel=rbf;, score=0.508 total time=  13.8s\n",
      "[CV 1/5; 172/400] START C=1.6058997806999291, gamma=12.507341469611143, kernel=rbf\n",
      "[CV 1/5; 172/400] END C=1.6058997806999291, gamma=12.507341469611143, kernel=rbf;, score=0.506 total time=  12.9s\n",
      "[CV 2/5; 172/400] START C=1.6058997806999291, gamma=12.507341469611143, kernel=rbf\n",
      "[CV 2/5; 172/400] END C=1.6058997806999291, gamma=12.507341469611143, kernel=rbf;, score=0.509 total time=  12.9s\n",
      "[CV 3/5; 172/400] START C=1.6058997806999291, gamma=12.507341469611143, kernel=rbf\n",
      "[CV 3/5; 172/400] END C=1.6058997806999291, gamma=12.507341469611143, kernel=rbf;, score=0.507 total time=  12.2s\n",
      "[CV 4/5; 172/400] START C=1.6058997806999291, gamma=12.507341469611143, kernel=rbf\n",
      "[CV 4/5; 172/400] END C=1.6058997806999291, gamma=12.507341469611143, kernel=rbf;, score=0.508 total time=  13.7s\n",
      "[CV 5/5; 172/400] START C=1.6058997806999291, gamma=12.507341469611143, kernel=rbf\n",
      "[CV 5/5; 172/400] END C=1.6058997806999291, gamma=12.507341469611143, kernel=rbf;, score=0.508 total time=  13.1s\n",
      "[CV 1/5; 173/400] START C=1.6058997806999291, gamma=24.792131281525027, kernel=rbf\n",
      "[CV 1/5; 173/400] END C=1.6058997806999291, gamma=24.792131281525027, kernel=rbf;, score=0.506 total time=  13.8s\n",
      "[CV 2/5; 173/400] START C=1.6058997806999291, gamma=24.792131281525027, kernel=rbf\n",
      "[CV 2/5; 173/400] END C=1.6058997806999291, gamma=24.792131281525027, kernel=rbf;, score=0.509 total time=  14.5s\n",
      "[CV 3/5; 173/400] START C=1.6058997806999291, gamma=24.792131281525027, kernel=rbf\n",
      "[CV 3/5; 173/400] END C=1.6058997806999291, gamma=24.792131281525027, kernel=rbf;, score=0.507 total time=  14.0s\n",
      "[CV 4/5; 173/400] START C=1.6058997806999291, gamma=24.792131281525027, kernel=rbf\n",
      "[CV 4/5; 173/400] END C=1.6058997806999291, gamma=24.792131281525027, kernel=rbf;, score=0.508 total time=  13.4s\n",
      "[CV 5/5; 173/400] START C=1.6058997806999291, gamma=24.792131281525027, kernel=rbf\n",
      "[CV 5/5; 173/400] END C=1.6058997806999291, gamma=24.792131281525027, kernel=rbf;, score=0.508 total time=  13.7s\n",
      "[CV 1/5; 174/400] START C=1.6058997806999291, gamma=49.143119261097524, kernel=rbf\n",
      "[CV 1/5; 174/400] END C=1.6058997806999291, gamma=49.143119261097524, kernel=rbf;, score=0.506 total time=  14.8s\n",
      "[CV 2/5; 174/400] START C=1.6058997806999291, gamma=49.143119261097524, kernel=rbf\n",
      "[CV 2/5; 174/400] END C=1.6058997806999291, gamma=49.143119261097524, kernel=rbf;, score=0.509 total time=  14.6s\n",
      "[CV 3/5; 174/400] START C=1.6058997806999291, gamma=49.143119261097524, kernel=rbf\n",
      "[CV 3/5; 174/400] END C=1.6058997806999291, gamma=49.143119261097524, kernel=rbf;, score=0.507 total time=  13.7s\n",
      "[CV 4/5; 174/400] START C=1.6058997806999291, gamma=49.143119261097524, kernel=rbf\n",
      "[CV 4/5; 174/400] END C=1.6058997806999291, gamma=49.143119261097524, kernel=rbf;, score=0.508 total time=  13.3s\n",
      "[CV 5/5; 174/400] START C=1.6058997806999291, gamma=49.143119261097524, kernel=rbf\n",
      "[CV 5/5; 174/400] END C=1.6058997806999291, gamma=49.143119261097524, kernel=rbf;, score=0.508 total time=  13.8s\n",
      "[CV 1/5; 175/400] START C=1.6058997806999291, gamma=97.41180148195387, kernel=rbf\n",
      "[CV 1/5; 175/400] END C=1.6058997806999291, gamma=97.41180148195387, kernel=rbf;, score=0.506 total time=  13.5s\n",
      "[CV 2/5; 175/400] START C=1.6058997806999291, gamma=97.41180148195387, kernel=rbf\n",
      "[CV 2/5; 175/400] END C=1.6058997806999291, gamma=97.41180148195387, kernel=rbf;, score=0.509 total time=  13.4s\n",
      "[CV 3/5; 175/400] START C=1.6058997806999291, gamma=97.41180148195387, kernel=rbf\n",
      "[CV 3/5; 175/400] END C=1.6058997806999291, gamma=97.41180148195387, kernel=rbf;, score=0.507 total time=  13.4s\n",
      "[CV 4/5; 175/400] START C=1.6058997806999291, gamma=97.41180148195387, kernel=rbf\n",
      "[CV 4/5; 175/400] END C=1.6058997806999291, gamma=97.41180148195387, kernel=rbf;, score=0.508 total time=  13.6s\n",
      "[CV 5/5; 175/400] START C=1.6058997806999291, gamma=97.41180148195387, kernel=rbf\n",
      "[CV 5/5; 175/400] END C=1.6058997806999291, gamma=97.41180148195387, kernel=rbf;, score=0.508 total time=  15.2s\n",
      "[CV 1/5; 176/400] START C=1.6058997806999291, gamma=193.0902883381129, kernel=rbf\n",
      "[CV 1/5; 176/400] END C=1.6058997806999291, gamma=193.0902883381129, kernel=rbf;, score=0.506 total time=  14.3s\n",
      "[CV 2/5; 176/400] START C=1.6058997806999291, gamma=193.0902883381129, kernel=rbf\n"
     ]
    },
    {
     "name": "stdout",
     "output_type": "stream",
     "text": [
      "[CV 2/5; 176/400] END C=1.6058997806999291, gamma=193.0902883381129, kernel=rbf;, score=0.509 total time=  13.3s\n",
      "[CV 3/5; 176/400] START C=1.6058997806999291, gamma=193.0902883381129, kernel=rbf\n",
      "[CV 3/5; 176/400] END C=1.6058997806999291, gamma=193.0902883381129, kernel=rbf;, score=0.507 total time=  13.6s\n",
      "[CV 4/5; 176/400] START C=1.6058997806999291, gamma=193.0902883381129, kernel=rbf\n",
      "[CV 4/5; 176/400] END C=1.6058997806999291, gamma=193.0902883381129, kernel=rbf;, score=0.508 total time=  13.2s\n",
      "[CV 5/5; 176/400] START C=1.6058997806999291, gamma=193.0902883381129, kernel=rbf\n",
      "[CV 5/5; 176/400] END C=1.6058997806999291, gamma=193.0902883381129, kernel=rbf;, score=0.508 total time=  13.7s\n",
      "[CV 1/5; 177/400] START C=1.6058997806999291, gamma=382.7447894740212, kernel=rbf\n",
      "[CV 1/5; 177/400] END C=1.6058997806999291, gamma=382.7447894740212, kernel=rbf;, score=0.506 total time=  14.7s\n",
      "[CV 2/5; 177/400] START C=1.6058997806999291, gamma=382.7447894740212, kernel=rbf\n",
      "[CV 2/5; 177/400] END C=1.6058997806999291, gamma=382.7447894740212, kernel=rbf;, score=0.509 total time=  14.2s\n",
      "[CV 3/5; 177/400] START C=1.6058997806999291, gamma=382.7447894740212, kernel=rbf\n",
      "[CV 3/5; 177/400] END C=1.6058997806999291, gamma=382.7447894740212, kernel=rbf;, score=0.507 total time=  15.2s\n",
      "[CV 4/5; 177/400] START C=1.6058997806999291, gamma=382.7447894740212, kernel=rbf\n",
      "[CV 4/5; 177/400] END C=1.6058997806999291, gamma=382.7447894740212, kernel=rbf;, score=0.508 total time=  14.9s\n",
      "[CV 5/5; 177/400] START C=1.6058997806999291, gamma=382.7447894740212, kernel=rbf\n",
      "[CV 5/5; 177/400] END C=1.6058997806999291, gamma=382.7447894740212, kernel=rbf;, score=0.508 total time=  14.8s\n",
      "[CV 1/5; 178/400] START C=1.6058997806999291, gamma=758.679139848782, kernel=rbf\n",
      "[CV 1/5; 178/400] END C=1.6058997806999291, gamma=758.679139848782, kernel=rbf;, score=0.506 total time=  14.3s\n",
      "[CV 2/5; 178/400] START C=1.6058997806999291, gamma=758.679139848782, kernel=rbf\n",
      "[CV 2/5; 178/400] END C=1.6058997806999291, gamma=758.679139848782, kernel=rbf;, score=0.508 total time=  15.9s\n",
      "[CV 3/5; 178/400] START C=1.6058997806999291, gamma=758.679139848782, kernel=rbf\n",
      "[CV 3/5; 178/400] END C=1.6058997806999291, gamma=758.679139848782, kernel=rbf;, score=0.506 total time=  14.1s\n",
      "[CV 4/5; 178/400] START C=1.6058997806999291, gamma=758.679139848782, kernel=rbf\n",
      "[CV 4/5; 178/400] END C=1.6058997806999291, gamma=758.679139848782, kernel=rbf;, score=0.508 total time=  13.3s\n",
      "[CV 5/5; 178/400] START C=1.6058997806999291, gamma=758.679139848782, kernel=rbf\n",
      "[CV 5/5; 178/400] END C=1.6058997806999291, gamma=758.679139848782, kernel=rbf;, score=0.508 total time=  12.7s\n",
      "[CV 1/5; 179/400] START C=1.6058997806999291, gamma=1503.8585842871576, kernel=rbf\n",
      "[CV 1/5; 179/400] END C=1.6058997806999291, gamma=1503.8585842871576, kernel=rbf;, score=0.506 total time=  12.6s\n",
      "[CV 2/5; 179/400] START C=1.6058997806999291, gamma=1503.8585842871576, kernel=rbf\n",
      "[CV 2/5; 179/400] END C=1.6058997806999291, gamma=1503.8585842871576, kernel=rbf;, score=0.508 total time=  12.9s\n",
      "[CV 3/5; 179/400] START C=1.6058997806999291, gamma=1503.8585842871576, kernel=rbf\n",
      "[CV 3/5; 179/400] END C=1.6058997806999291, gamma=1503.8585842871576, kernel=rbf;, score=0.506 total time=  12.8s\n",
      "[CV 4/5; 179/400] START C=1.6058997806999291, gamma=1503.8585842871576, kernel=rbf\n",
      "[CV 4/5; 179/400] END C=1.6058997806999291, gamma=1503.8585842871576, kernel=rbf;, score=0.508 total time=  13.0s\n",
      "[CV 5/5; 179/400] START C=1.6058997806999291, gamma=1503.8585842871576, kernel=rbf\n",
      "[CV 5/5; 179/400] END C=1.6058997806999291, gamma=1503.8585842871576, kernel=rbf;, score=0.508 total time=  12.9s\n",
      "[CV 1/5; 180/400] START C=1.6058997806999291, gamma=2980.957987041727, kernel=rbf\n",
      "[CV 1/5; 180/400] END C=1.6058997806999291, gamma=2980.957987041727, kernel=rbf;, score=0.506 total time=  13.2s\n",
      "[CV 2/5; 180/400] START C=1.6058997806999291, gamma=2980.957987041727, kernel=rbf\n",
      "[CV 2/5; 180/400] END C=1.6058997806999291, gamma=2980.957987041727, kernel=rbf;, score=0.508 total time=  13.5s\n",
      "[CV 3/5; 180/400] START C=1.6058997806999291, gamma=2980.957987041727, kernel=rbf\n",
      "[CV 3/5; 180/400] END C=1.6058997806999291, gamma=2980.957987041727, kernel=rbf;, score=0.506 total time=  13.0s\n",
      "[CV 4/5; 180/400] START C=1.6058997806999291, gamma=2980.957987041727, kernel=rbf\n",
      "[CV 4/5; 180/400] END C=1.6058997806999291, gamma=2980.957987041727, kernel=rbf;, score=0.508 total time=  13.8s\n",
      "[CV 5/5; 180/400] START C=1.6058997806999291, gamma=2980.957987041727, kernel=rbf\n",
      "[CV 5/5; 180/400] END C=1.6058997806999291, gamma=2980.957987041727, kernel=rbf;, score=0.508 total time=  13.6s\n",
      "[CV 1/5; 181/400] START C=3.1832246912598827, gamma=0.006737946999085469, kernel=rbf\n",
      "[CV 1/5; 181/400] END C=3.1832246912598827, gamma=0.006737946999085469, kernel=rbf;, score=0.506 total time=  12.9s\n",
      "[CV 2/5; 181/400] START C=3.1832246912598827, gamma=0.006737946999085469, kernel=rbf\n",
      "[CV 2/5; 181/400] END C=3.1832246912598827, gamma=0.006737946999085469, kernel=rbf;, score=0.507 total time=  12.8s\n",
      "[CV 3/5; 181/400] START C=3.1832246912598827, gamma=0.006737946999085469, kernel=rbf\n",
      "[CV 3/5; 181/400] END C=3.1832246912598827, gamma=0.006737946999085469, kernel=rbf;, score=0.506 total time=  13.1s\n",
      "[CV 4/5; 181/400] START C=3.1832246912598827, gamma=0.006737946999085469, kernel=rbf\n",
      "[CV 4/5; 181/400] END C=3.1832246912598827, gamma=0.006737946999085469, kernel=rbf;, score=0.507 total time=  13.0s\n",
      "[CV 5/5; 181/400] START C=3.1832246912598827, gamma=0.006737946999085469, kernel=rbf\n",
      "[CV 5/5; 181/400] END C=3.1832246912598827, gamma=0.006737946999085469, kernel=rbf;, score=0.507 total time=  13.0s\n",
      "[CV 1/5; 182/400] START C=3.1832246912598827, gamma=0.013356001111439869, kernel=rbf\n",
      "[CV 1/5; 182/400] END C=3.1832246912598827, gamma=0.013356001111439869, kernel=rbf;, score=0.854 total time=  12.3s\n",
      "[CV 2/5; 182/400] START C=3.1832246912598827, gamma=0.013356001111439869, kernel=rbf\n",
      "[CV 2/5; 182/400] END C=3.1832246912598827, gamma=0.013356001111439869, kernel=rbf;, score=0.846 total time=  12.0s\n",
      "[CV 3/5; 182/400] START C=3.1832246912598827, gamma=0.013356001111439869, kernel=rbf\n",
      "[CV 3/5; 182/400] END C=3.1832246912598827, gamma=0.013356001111439869, kernel=rbf;, score=0.838 total time=  12.2s\n",
      "[CV 4/5; 182/400] START C=3.1832246912598827, gamma=0.013356001111439869, kernel=rbf\n",
      "[CV 4/5; 182/400] END C=3.1832246912598827, gamma=0.013356001111439869, kernel=rbf;, score=0.850 total time=  12.5s\n",
      "[CV 5/5; 182/400] START C=3.1832246912598827, gamma=0.013356001111439869, kernel=rbf\n",
      "[CV 5/5; 182/400] END C=3.1832246912598827, gamma=0.013356001111439869, kernel=rbf;, score=0.839 total time=  12.9s\n",
      "[CV 1/5; 183/400] START C=3.1832246912598827, gamma=0.026474349785326985, kernel=rbf\n",
      "[CV 1/5; 183/400] END C=3.1832246912598827, gamma=0.026474349785326985, kernel=rbf;, score=0.871 total time=  13.8s\n",
      "[CV 2/5; 183/400] START C=3.1832246912598827, gamma=0.026474349785326985, kernel=rbf\n",
      "[CV 2/5; 183/400] END C=3.1832246912598827, gamma=0.026474349785326985, kernel=rbf;, score=0.853 total time=  13.4s\n",
      "[CV 3/5; 183/400] START C=3.1832246912598827, gamma=0.026474349785326985, kernel=rbf\n",
      "[CV 3/5; 183/400] END C=3.1832246912598827, gamma=0.026474349785326985, kernel=rbf;, score=0.819 total time=  13.6s\n",
      "[CV 4/5; 183/400] START C=3.1832246912598827, gamma=0.026474349785326985, kernel=rbf\n",
      "[CV 4/5; 183/400] END C=3.1832246912598827, gamma=0.026474349785326985, kernel=rbf;, score=0.855 total time=  13.5s\n",
      "[CV 5/5; 183/400] START C=3.1832246912598827, gamma=0.026474349785326985, kernel=rbf\n",
      "[CV 5/5; 183/400] END C=3.1832246912598827, gamma=0.026474349785326985, kernel=rbf;, score=0.869 total time=  12.1s\n",
      "[CV 1/5; 184/400] START C=3.1832246912598827, gamma=0.052477623407466346, kernel=rbf\n",
      "[CV 1/5; 184/400] END C=3.1832246912598827, gamma=0.052477623407466346, kernel=rbf;, score=0.874 total time=  11.8s\n",
      "[CV 2/5; 184/400] START C=3.1832246912598827, gamma=0.052477623407466346, kernel=rbf\n",
      "[CV 2/5; 184/400] END C=3.1832246912598827, gamma=0.052477623407466346, kernel=rbf;, score=0.873 total time=  11.5s\n",
      "[CV 3/5; 184/400] START C=3.1832246912598827, gamma=0.052477623407466346, kernel=rbf\n",
      "[CV 3/5; 184/400] END C=3.1832246912598827, gamma=0.052477623407466346, kernel=rbf;, score=0.830 total time=  11.4s\n",
      "[CV 4/5; 184/400] START C=3.1832246912598827, gamma=0.052477623407466346, kernel=rbf\n"
     ]
    },
    {
     "name": "stdout",
     "output_type": "stream",
     "text": [
      "[CV 4/5; 184/400] END C=3.1832246912598827, gamma=0.052477623407466346, kernel=rbf;, score=0.870 total time=  12.9s\n",
      "[CV 5/5; 184/400] START C=3.1832246912598827, gamma=0.052477623407466346, kernel=rbf\n",
      "[CV 5/5; 184/400] END C=3.1832246912598827, gamma=0.052477623407466346, kernel=rbf;, score=0.875 total time=  11.6s\n",
      "[CV 1/5; 185/400] START C=3.1832246912598827, gamma=0.10402147666803764, kernel=rbf\n",
      "[CV 1/5; 185/400] END C=3.1832246912598827, gamma=0.10402147666803764, kernel=rbf;, score=0.871 total time=  10.8s\n",
      "[CV 2/5; 185/400] START C=3.1832246912598827, gamma=0.10402147666803764, kernel=rbf\n",
      "[CV 2/5; 185/400] END C=3.1832246912598827, gamma=0.10402147666803764, kernel=rbf;, score=0.869 total time=  10.3s\n",
      "[CV 3/5; 185/400] START C=3.1832246912598827, gamma=0.10402147666803764, kernel=rbf\n",
      "[CV 3/5; 185/400] END C=3.1832246912598827, gamma=0.10402147666803764, kernel=rbf;, score=0.839 total time=  10.3s\n",
      "[CV 4/5; 185/400] START C=3.1832246912598827, gamma=0.10402147666803764, kernel=rbf\n",
      "[CV 4/5; 185/400] END C=3.1832246912598827, gamma=0.10402147666803764, kernel=rbf;, score=0.864 total time=   9.7s\n",
      "[CV 5/5; 185/400] START C=3.1832246912598827, gamma=0.10402147666803764, kernel=rbf\n",
      "[CV 5/5; 185/400] END C=3.1832246912598827, gamma=0.10402147666803764, kernel=rbf;, score=0.885 total time=  10.3s\n",
      "[CV 1/5; 186/400] START C=3.1832246912598827, gamma=0.20619202825140895, kernel=rbf\n",
      "[CV 1/5; 186/400] END C=3.1832246912598827, gamma=0.20619202825140895, kernel=rbf;, score=0.861 total time=  11.7s\n",
      "[CV 2/5; 186/400] START C=3.1832246912598827, gamma=0.20619202825140895, kernel=rbf\n",
      "[CV 2/5; 186/400] END C=3.1832246912598827, gamma=0.20619202825140895, kernel=rbf;, score=0.870 total time=  10.8s\n",
      "[CV 3/5; 186/400] START C=3.1832246912598827, gamma=0.20619202825140895, kernel=rbf\n",
      "[CV 3/5; 186/400] END C=3.1832246912598827, gamma=0.20619202825140895, kernel=rbf;, score=0.843 total time=  12.6s\n",
      "[CV 4/5; 186/400] START C=3.1832246912598827, gamma=0.20619202825140895, kernel=rbf\n",
      "[CV 4/5; 186/400] END C=3.1832246912598827, gamma=0.20619202825140895, kernel=rbf;, score=0.869 total time=  12.8s\n",
      "[CV 5/5; 186/400] START C=3.1832246912598827, gamma=0.20619202825140895, kernel=rbf\n",
      "[CV 5/5; 186/400] END C=3.1832246912598827, gamma=0.20619202825140895, kernel=rbf;, score=0.883 total time=  11.5s\n",
      "[CV 1/5; 187/400] START C=3.1832246912598827, gamma=0.40871514110598417, kernel=rbf\n",
      "[CV 1/5; 187/400] END C=3.1832246912598827, gamma=0.40871514110598417, kernel=rbf;, score=0.865 total time=  12.5s\n",
      "[CV 2/5; 187/400] START C=3.1832246912598827, gamma=0.40871514110598417, kernel=rbf\n",
      "[CV 2/5; 187/400] END C=3.1832246912598827, gamma=0.40871514110598417, kernel=rbf;, score=0.869 total time=  12.8s\n",
      "[CV 3/5; 187/400] START C=3.1832246912598827, gamma=0.40871514110598417, kernel=rbf\n",
      "[CV 3/5; 187/400] END C=3.1832246912598827, gamma=0.40871514110598417, kernel=rbf;, score=0.846 total time=  12.1s\n",
      "[CV 4/5; 187/400] START C=3.1832246912598827, gamma=0.40871514110598417, kernel=rbf\n",
      "[CV 4/5; 187/400] END C=3.1832246912598827, gamma=0.40871514110598417, kernel=rbf;, score=0.867 total time=  11.7s\n",
      "[CV 5/5; 187/400] START C=3.1832246912598827, gamma=0.40871514110598417, kernel=rbf\n",
      "[CV 5/5; 187/400] END C=3.1832246912598827, gamma=0.40871514110598417, kernel=rbf;, score=0.878 total time=  11.8s\n",
      "[CV 1/5; 188/400] START C=3.1832246912598827, gamma=0.8101577349324269, kernel=rbf\n",
      "[CV 1/5; 188/400] END C=3.1832246912598827, gamma=0.8101577349324269, kernel=rbf;, score=0.870 total time=  12.0s\n",
      "[CV 2/5; 188/400] START C=3.1832246912598827, gamma=0.8101577349324269, kernel=rbf\n",
      "[CV 2/5; 188/400] END C=3.1832246912598827, gamma=0.8101577349324269, kernel=rbf;, score=0.869 total time=  12.2s\n",
      "[CV 3/5; 188/400] START C=3.1832246912598827, gamma=0.8101577349324269, kernel=rbf\n",
      "[CV 3/5; 188/400] END C=3.1832246912598827, gamma=0.8101577349324269, kernel=rbf;, score=0.839 total time=  11.5s\n",
      "[CV 4/5; 188/400] START C=3.1832246912598827, gamma=0.8101577349324269, kernel=rbf\n",
      "[CV 4/5; 188/400] END C=3.1832246912598827, gamma=0.8101577349324269, kernel=rbf;, score=0.873 total time=  11.7s\n",
      "[CV 5/5; 188/400] START C=3.1832246912598827, gamma=0.8101577349324269, kernel=rbf\n",
      "[CV 5/5; 188/400] END C=3.1832246912598827, gamma=0.8101577349324269, kernel=rbf;, score=0.880 total time=  12.8s\n",
      "[CV 1/5; 189/400] START C=3.1832246912598827, gamma=1.6058997806999291, kernel=rbf\n",
      "[CV 1/5; 189/400] END C=3.1832246912598827, gamma=1.6058997806999291, kernel=rbf;, score=0.877 total time=  12.1s\n",
      "[CV 2/5; 189/400] START C=3.1832246912598827, gamma=1.6058997806999291, kernel=rbf\n",
      "[CV 2/5; 189/400] END C=3.1832246912598827, gamma=1.6058997806999291, kernel=rbf;, score=0.873 total time=  12.3s\n",
      "[CV 3/5; 189/400] START C=3.1832246912598827, gamma=1.6058997806999291, kernel=rbf\n",
      "[CV 3/5; 189/400] END C=3.1832246912598827, gamma=1.6058997806999291, kernel=rbf;, score=0.838 total time=  11.7s\n",
      "[CV 4/5; 189/400] START C=3.1832246912598827, gamma=1.6058997806999291, kernel=rbf\n",
      "[CV 4/5; 189/400] END C=3.1832246912598827, gamma=1.6058997806999291, kernel=rbf;, score=0.867 total time=  13.3s\n",
      "[CV 5/5; 189/400] START C=3.1832246912598827, gamma=1.6058997806999291, kernel=rbf\n",
      "[CV 5/5; 189/400] END C=3.1832246912598827, gamma=1.6058997806999291, kernel=rbf;, score=0.877 total time=  12.2s\n",
      "[CV 1/5; 190/400] START C=3.1832246912598827, gamma=3.1832246912598827, kernel=rbf\n",
      "[CV 1/5; 190/400] END C=3.1832246912598827, gamma=3.1832246912598827, kernel=rbf;, score=0.846 total time=  12.2s\n",
      "[CV 2/5; 190/400] START C=3.1832246912598827, gamma=3.1832246912598827, kernel=rbf\n",
      "[CV 2/5; 190/400] END C=3.1832246912598827, gamma=3.1832246912598827, kernel=rbf;, score=0.845 total time=  12.0s\n",
      "[CV 3/5; 190/400] START C=3.1832246912598827, gamma=3.1832246912598827, kernel=rbf\n",
      "[CV 3/5; 190/400] END C=3.1832246912598827, gamma=3.1832246912598827, kernel=rbf;, score=0.837 total time=  12.2s\n",
      "[CV 4/5; 190/400] START C=3.1832246912598827, gamma=3.1832246912598827, kernel=rbf\n",
      "[CV 4/5; 190/400] END C=3.1832246912598827, gamma=3.1832246912598827, kernel=rbf;, score=0.841 total time=  12.3s\n",
      "[CV 5/5; 190/400] START C=3.1832246912598827, gamma=3.1832246912598827, kernel=rbf\n",
      "[CV 5/5; 190/400] END C=3.1832246912598827, gamma=3.1832246912598827, kernel=rbf;, score=0.843 total time=  13.2s\n",
      "[CV 1/5; 191/400] START C=3.1832246912598827, gamma=6.3098080943943815, kernel=rbf\n",
      "[CV 1/5; 191/400] END C=3.1832246912598827, gamma=6.3098080943943815, kernel=rbf;, score=0.506 total time=  12.8s\n",
      "[CV 2/5; 191/400] START C=3.1832246912598827, gamma=6.3098080943943815, kernel=rbf\n",
      "[CV 2/5; 191/400] END C=3.1832246912598827, gamma=6.3098080943943815, kernel=rbf;, score=0.509 total time=  12.9s\n",
      "[CV 3/5; 191/400] START C=3.1832246912598827, gamma=6.3098080943943815, kernel=rbf\n",
      "[CV 3/5; 191/400] END C=3.1832246912598827, gamma=6.3098080943943815, kernel=rbf;, score=0.507 total time=  12.4s\n",
      "[CV 4/5; 191/400] START C=3.1832246912598827, gamma=6.3098080943943815, kernel=rbf\n",
      "[CV 4/5; 191/400] END C=3.1832246912598827, gamma=6.3098080943943815, kernel=rbf;, score=0.508 total time=  12.8s\n",
      "[CV 5/5; 191/400] START C=3.1832246912598827, gamma=6.3098080943943815, kernel=rbf\n",
      "[CV 5/5; 191/400] END C=3.1832246912598827, gamma=6.3098080943943815, kernel=rbf;, score=0.508 total time=  13.5s\n",
      "[CV 1/5; 192/400] START C=3.1832246912598827, gamma=12.507341469611143, kernel=rbf\n",
      "[CV 1/5; 192/400] END C=3.1832246912598827, gamma=12.507341469611143, kernel=rbf;, score=0.506 total time=  13.2s\n",
      "[CV 2/5; 192/400] START C=3.1832246912598827, gamma=12.507341469611143, kernel=rbf\n",
      "[CV 2/5; 192/400] END C=3.1832246912598827, gamma=12.507341469611143, kernel=rbf;, score=0.509 total time=  13.6s\n",
      "[CV 3/5; 192/400] START C=3.1832246912598827, gamma=12.507341469611143, kernel=rbf\n",
      "[CV 3/5; 192/400] END C=3.1832246912598827, gamma=12.507341469611143, kernel=rbf;, score=0.507 total time=  12.7s\n",
      "[CV 4/5; 192/400] START C=3.1832246912598827, gamma=12.507341469611143, kernel=rbf\n",
      "[CV 4/5; 192/400] END C=3.1832246912598827, gamma=12.507341469611143, kernel=rbf;, score=0.508 total time=  14.1s\n",
      "[CV 5/5; 192/400] START C=3.1832246912598827, gamma=12.507341469611143, kernel=rbf\n",
      "[CV 5/5; 192/400] END C=3.1832246912598827, gamma=12.507341469611143, kernel=rbf;, score=0.508 total time=  13.3s\n",
      "[CV 1/5; 193/400] START C=3.1832246912598827, gamma=24.792131281525027, kernel=rbf\n"
     ]
    },
    {
     "name": "stdout",
     "output_type": "stream",
     "text": [
      "[CV 1/5; 193/400] END C=3.1832246912598827, gamma=24.792131281525027, kernel=rbf;, score=0.506 total time=  13.6s\n",
      "[CV 2/5; 193/400] START C=3.1832246912598827, gamma=24.792131281525027, kernel=rbf\n",
      "[CV 2/5; 193/400] END C=3.1832246912598827, gamma=24.792131281525027, kernel=rbf;, score=0.509 total time=  13.3s\n",
      "[CV 3/5; 193/400] START C=3.1832246912598827, gamma=24.792131281525027, kernel=rbf\n",
      "[CV 3/5; 193/400] END C=3.1832246912598827, gamma=24.792131281525027, kernel=rbf;, score=0.507 total time=  13.4s\n",
      "[CV 4/5; 193/400] START C=3.1832246912598827, gamma=24.792131281525027, kernel=rbf\n",
      "[CV 4/5; 193/400] END C=3.1832246912598827, gamma=24.792131281525027, kernel=rbf;, score=0.508 total time=  13.7s\n",
      "[CV 5/5; 193/400] START C=3.1832246912598827, gamma=24.792131281525027, kernel=rbf\n",
      "[CV 5/5; 193/400] END C=3.1832246912598827, gamma=24.792131281525027, kernel=rbf;, score=0.508 total time=  13.7s\n",
      "[CV 1/5; 194/400] START C=3.1832246912598827, gamma=49.143119261097524, kernel=rbf\n",
      "[CV 1/5; 194/400] END C=3.1832246912598827, gamma=49.143119261097524, kernel=rbf;, score=0.506 total time=  14.0s\n",
      "[CV 2/5; 194/400] START C=3.1832246912598827, gamma=49.143119261097524, kernel=rbf\n",
      "[CV 2/5; 194/400] END C=3.1832246912598827, gamma=49.143119261097524, kernel=rbf;, score=0.509 total time=  13.8s\n",
      "[CV 3/5; 194/400] START C=3.1832246912598827, gamma=49.143119261097524, kernel=rbf\n",
      "[CV 3/5; 194/400] END C=3.1832246912598827, gamma=49.143119261097524, kernel=rbf;, score=0.507 total time=  13.0s\n",
      "[CV 4/5; 194/400] START C=3.1832246912598827, gamma=49.143119261097524, kernel=rbf\n",
      "[CV 4/5; 194/400] END C=3.1832246912598827, gamma=49.143119261097524, kernel=rbf;, score=0.508 total time=  13.2s\n",
      "[CV 5/5; 194/400] START C=3.1832246912598827, gamma=49.143119261097524, kernel=rbf\n",
      "[CV 5/5; 194/400] END C=3.1832246912598827, gamma=49.143119261097524, kernel=rbf;, score=0.508 total time=  12.8s\n",
      "[CV 1/5; 195/400] START C=3.1832246912598827, gamma=97.41180148195387, kernel=rbf\n",
      "[CV 1/5; 195/400] END C=3.1832246912598827, gamma=97.41180148195387, kernel=rbf;, score=0.506 total time=  13.3s\n",
      "[CV 2/5; 195/400] START C=3.1832246912598827, gamma=97.41180148195387, kernel=rbf\n",
      "[CV 2/5; 195/400] END C=3.1832246912598827, gamma=97.41180148195387, kernel=rbf;, score=0.509 total time=  14.4s\n",
      "[CV 3/5; 195/400] START C=3.1832246912598827, gamma=97.41180148195387, kernel=rbf\n",
      "[CV 3/5; 195/400] END C=3.1832246912598827, gamma=97.41180148195387, kernel=rbf;, score=0.507 total time=  14.8s\n",
      "[CV 4/5; 195/400] START C=3.1832246912598827, gamma=97.41180148195387, kernel=rbf\n",
      "[CV 4/5; 195/400] END C=3.1832246912598827, gamma=97.41180148195387, kernel=rbf;, score=0.508 total time=  13.1s\n",
      "[CV 5/5; 195/400] START C=3.1832246912598827, gamma=97.41180148195387, kernel=rbf\n",
      "[CV 5/5; 195/400] END C=3.1832246912598827, gamma=97.41180148195387, kernel=rbf;, score=0.508 total time=  13.0s\n",
      "[CV 1/5; 196/400] START C=3.1832246912598827, gamma=193.0902883381129, kernel=rbf\n",
      "[CV 1/5; 196/400] END C=3.1832246912598827, gamma=193.0902883381129, kernel=rbf;, score=0.506 total time=  12.5s\n",
      "[CV 2/5; 196/400] START C=3.1832246912598827, gamma=193.0902883381129, kernel=rbf\n",
      "[CV 2/5; 196/400] END C=3.1832246912598827, gamma=193.0902883381129, kernel=rbf;, score=0.509 total time=  13.7s\n",
      "[CV 3/5; 196/400] START C=3.1832246912598827, gamma=193.0902883381129, kernel=rbf\n",
      "[CV 3/5; 196/400] END C=3.1832246912598827, gamma=193.0902883381129, kernel=rbf;, score=0.507 total time=  12.6s\n",
      "[CV 4/5; 196/400] START C=3.1832246912598827, gamma=193.0902883381129, kernel=rbf\n",
      "[CV 4/5; 196/400] END C=3.1832246912598827, gamma=193.0902883381129, kernel=rbf;, score=0.508 total time=  12.9s\n",
      "[CV 5/5; 196/400] START C=3.1832246912598827, gamma=193.0902883381129, kernel=rbf\n",
      "[CV 5/5; 196/400] END C=3.1832246912598827, gamma=193.0902883381129, kernel=rbf;, score=0.508 total time=  13.7s\n",
      "[CV 1/5; 197/400] START C=3.1832246912598827, gamma=382.7447894740212, kernel=rbf\n",
      "[CV 1/5; 197/400] END C=3.1832246912598827, gamma=382.7447894740212, kernel=rbf;, score=0.506 total time=  12.7s\n",
      "[CV 2/5; 197/400] START C=3.1832246912598827, gamma=382.7447894740212, kernel=rbf\n",
      "[CV 2/5; 197/400] END C=3.1832246912598827, gamma=382.7447894740212, kernel=rbf;, score=0.509 total time=  12.3s\n",
      "[CV 3/5; 197/400] START C=3.1832246912598827, gamma=382.7447894740212, kernel=rbf\n",
      "[CV 3/5; 197/400] END C=3.1832246912598827, gamma=382.7447894740212, kernel=rbf;, score=0.507 total time=  12.6s\n",
      "[CV 4/5; 197/400] START C=3.1832246912598827, gamma=382.7447894740212, kernel=rbf\n",
      "[CV 4/5; 197/400] END C=3.1832246912598827, gamma=382.7447894740212, kernel=rbf;, score=0.508 total time=  14.1s\n",
      "[CV 5/5; 197/400] START C=3.1832246912598827, gamma=382.7447894740212, kernel=rbf\n",
      "[CV 5/5; 197/400] END C=3.1832246912598827, gamma=382.7447894740212, kernel=rbf;, score=0.508 total time=  14.0s\n",
      "[CV 1/5; 198/400] START C=3.1832246912598827, gamma=758.679139848782, kernel=rbf\n",
      "[CV 1/5; 198/400] END C=3.1832246912598827, gamma=758.679139848782, kernel=rbf;, score=0.506 total time=  15.5s\n",
      "[CV 2/5; 198/400] START C=3.1832246912598827, gamma=758.679139848782, kernel=rbf\n",
      "[CV 2/5; 198/400] END C=3.1832246912598827, gamma=758.679139848782, kernel=rbf;, score=0.508 total time=  13.5s\n",
      "[CV 3/5; 198/400] START C=3.1832246912598827, gamma=758.679139848782, kernel=rbf\n",
      "[CV 3/5; 198/400] END C=3.1832246912598827, gamma=758.679139848782, kernel=rbf;, score=0.506 total time=  13.1s\n",
      "[CV 4/5; 198/400] START C=3.1832246912598827, gamma=758.679139848782, kernel=rbf\n",
      "[CV 4/5; 198/400] END C=3.1832246912598827, gamma=758.679139848782, kernel=rbf;, score=0.508 total time=  13.8s\n",
      "[CV 5/5; 198/400] START C=3.1832246912598827, gamma=758.679139848782, kernel=rbf\n",
      "[CV 5/5; 198/400] END C=3.1832246912598827, gamma=758.679139848782, kernel=rbf;, score=0.508 total time=  13.2s\n",
      "[CV 1/5; 199/400] START C=3.1832246912598827, gamma=1503.8585842871576, kernel=rbf\n",
      "[CV 1/5; 199/400] END C=3.1832246912598827, gamma=1503.8585842871576, kernel=rbf;, score=0.506 total time=  14.4s\n",
      "[CV 2/5; 199/400] START C=3.1832246912598827, gamma=1503.8585842871576, kernel=rbf\n",
      "[CV 2/5; 199/400] END C=3.1832246912598827, gamma=1503.8585842871576, kernel=rbf;, score=0.508 total time=  14.8s\n",
      "[CV 3/5; 199/400] START C=3.1832246912598827, gamma=1503.8585842871576, kernel=rbf\n",
      "[CV 3/5; 199/400] END C=3.1832246912598827, gamma=1503.8585842871576, kernel=rbf;, score=0.506 total time=  14.5s\n",
      "[CV 4/5; 199/400] START C=3.1832246912598827, gamma=1503.8585842871576, kernel=rbf\n",
      "[CV 4/5; 199/400] END C=3.1832246912598827, gamma=1503.8585842871576, kernel=rbf;, score=0.508 total time=  13.5s\n",
      "[CV 5/5; 199/400] START C=3.1832246912598827, gamma=1503.8585842871576, kernel=rbf\n",
      "[CV 5/5; 199/400] END C=3.1832246912598827, gamma=1503.8585842871576, kernel=rbf;, score=0.508 total time=  12.0s\n",
      "[CV 1/5; 200/400] START C=3.1832246912598827, gamma=2980.957987041727, kernel=rbf\n",
      "[CV 1/5; 200/400] END C=3.1832246912598827, gamma=2980.957987041727, kernel=rbf;, score=0.506 total time=  13.2s\n",
      "[CV 2/5; 200/400] START C=3.1832246912598827, gamma=2980.957987041727, kernel=rbf\n",
      "[CV 2/5; 200/400] END C=3.1832246912598827, gamma=2980.957987041727, kernel=rbf;, score=0.508 total time=  15.3s\n",
      "[CV 3/5; 200/400] START C=3.1832246912598827, gamma=2980.957987041727, kernel=rbf\n",
      "[CV 3/5; 200/400] END C=3.1832246912598827, gamma=2980.957987041727, kernel=rbf;, score=0.506 total time=  12.5s\n",
      "[CV 4/5; 200/400] START C=3.1832246912598827, gamma=2980.957987041727, kernel=rbf\n",
      "[CV 4/5; 200/400] END C=3.1832246912598827, gamma=2980.957987041727, kernel=rbf;, score=0.508 total time=  13.1s\n",
      "[CV 5/5; 200/400] START C=3.1832246912598827, gamma=2980.957987041727, kernel=rbf\n",
      "[CV 5/5; 200/400] END C=3.1832246912598827, gamma=2980.957987041727, kernel=rbf;, score=0.508 total time=  13.4s\n",
      "[CV 1/5; 201/400] START C=6.3098080943943815, gamma=0.006737946999085469, kernel=rbf\n",
      "[CV 1/5; 201/400] END C=6.3098080943943815, gamma=0.006737946999085469, kernel=rbf;, score=0.861 total time=  12.5s\n",
      "[CV 2/5; 201/400] START C=6.3098080943943815, gamma=0.006737946999085469, kernel=rbf\n",
      "[CV 2/5; 201/400] END C=6.3098080943943815, gamma=0.006737946999085469, kernel=rbf;, score=0.847 total time=  13.3s\n",
      "[CV 3/5; 201/400] START C=6.3098080943943815, gamma=0.006737946999085469, kernel=rbf\n"
     ]
    },
    {
     "name": "stdout",
     "output_type": "stream",
     "text": [
      "[CV 3/5; 201/400] END C=6.3098080943943815, gamma=0.006737946999085469, kernel=rbf;, score=0.834 total time=  14.7s\n",
      "[CV 4/5; 201/400] START C=6.3098080943943815, gamma=0.006737946999085469, kernel=rbf\n",
      "[CV 4/5; 201/400] END C=6.3098080943943815, gamma=0.006737946999085469, kernel=rbf;, score=0.853 total time=  12.3s\n",
      "[CV 5/5; 201/400] START C=6.3098080943943815, gamma=0.006737946999085469, kernel=rbf\n",
      "[CV 5/5; 201/400] END C=6.3098080943943815, gamma=0.006737946999085469, kernel=rbf;, score=0.840 total time=  12.1s\n",
      "[CV 1/5; 202/400] START C=6.3098080943943815, gamma=0.013356001111439869, kernel=rbf\n",
      "[CV 1/5; 202/400] END C=6.3098080943943815, gamma=0.013356001111439869, kernel=rbf;, score=0.873 total time=  13.5s\n",
      "[CV 2/5; 202/400] START C=6.3098080943943815, gamma=0.013356001111439869, kernel=rbf\n",
      "[CV 2/5; 202/400] END C=6.3098080943943815, gamma=0.013356001111439869, kernel=rbf;, score=0.853 total time=  12.5s\n",
      "[CV 3/5; 202/400] START C=6.3098080943943815, gamma=0.013356001111439869, kernel=rbf\n",
      "[CV 3/5; 202/400] END C=6.3098080943943815, gamma=0.013356001111439869, kernel=rbf;, score=0.820 total time=  13.1s\n",
      "[CV 4/5; 202/400] START C=6.3098080943943815, gamma=0.013356001111439869, kernel=rbf\n",
      "[CV 4/5; 202/400] END C=6.3098080943943815, gamma=0.013356001111439869, kernel=rbf;, score=0.855 total time=  13.2s\n",
      "[CV 5/5; 202/400] START C=6.3098080943943815, gamma=0.013356001111439869, kernel=rbf\n",
      "[CV 5/5; 202/400] END C=6.3098080943943815, gamma=0.013356001111439869, kernel=rbf;, score=0.869 total time=  12.2s\n",
      "[CV 1/5; 203/400] START C=6.3098080943943815, gamma=0.026474349785326985, kernel=rbf\n",
      "[CV 1/5; 203/400] END C=6.3098080943943815, gamma=0.026474349785326985, kernel=rbf;, score=0.874 total time=  10.3s\n",
      "[CV 2/5; 203/400] START C=6.3098080943943815, gamma=0.026474349785326985, kernel=rbf\n",
      "[CV 2/5; 203/400] END C=6.3098080943943815, gamma=0.026474349785326985, kernel=rbf;, score=0.872 total time=  11.5s\n",
      "[CV 3/5; 203/400] START C=6.3098080943943815, gamma=0.026474349785326985, kernel=rbf\n",
      "[CV 3/5; 203/400] END C=6.3098080943943815, gamma=0.026474349785326985, kernel=rbf;, score=0.830 total time=  12.7s\n",
      "[CV 4/5; 203/400] START C=6.3098080943943815, gamma=0.026474349785326985, kernel=rbf\n",
      "[CV 4/5; 203/400] END C=6.3098080943943815, gamma=0.026474349785326985, kernel=rbf;, score=0.871 total time=  10.5s\n",
      "[CV 5/5; 203/400] START C=6.3098080943943815, gamma=0.026474349785326985, kernel=rbf\n",
      "[CV 5/5; 203/400] END C=6.3098080943943815, gamma=0.026474349785326985, kernel=rbf;, score=0.876 total time=  10.9s\n",
      "[CV 1/5; 204/400] START C=6.3098080943943815, gamma=0.052477623407466346, kernel=rbf\n",
      "[CV 1/5; 204/400] END C=6.3098080943943815, gamma=0.052477623407466346, kernel=rbf;, score=0.869 total time=  12.0s\n",
      "[CV 2/5; 204/400] START C=6.3098080943943815, gamma=0.052477623407466346, kernel=rbf\n",
      "[CV 2/5; 204/400] END C=6.3098080943943815, gamma=0.052477623407466346, kernel=rbf;, score=0.870 total time=  12.5s\n",
      "[CV 3/5; 204/400] START C=6.3098080943943815, gamma=0.052477623407466346, kernel=rbf\n",
      "[CV 3/5; 204/400] END C=6.3098080943943815, gamma=0.052477623407466346, kernel=rbf;, score=0.843 total time=  10.7s\n",
      "[CV 4/5; 204/400] START C=6.3098080943943815, gamma=0.052477623407466346, kernel=rbf\n",
      "[CV 4/5; 204/400] END C=6.3098080943943815, gamma=0.052477623407466346, kernel=rbf;, score=0.865 total time=  10.6s\n",
      "[CV 5/5; 204/400] START C=6.3098080943943815, gamma=0.052477623407466346, kernel=rbf\n",
      "[CV 5/5; 204/400] END C=6.3098080943943815, gamma=0.052477623407466346, kernel=rbf;, score=0.885 total time=  11.3s\n",
      "[CV 1/5; 205/400] START C=6.3098080943943815, gamma=0.10402147666803764, kernel=rbf\n",
      "[CV 1/5; 205/400] END C=6.3098080943943815, gamma=0.10402147666803764, kernel=rbf;, score=0.859 total time=  11.1s\n",
      "[CV 2/5; 205/400] START C=6.3098080943943815, gamma=0.10402147666803764, kernel=rbf\n",
      "[CV 2/5; 205/400] END C=6.3098080943943815, gamma=0.10402147666803764, kernel=rbf;, score=0.872 total time=  10.4s\n",
      "[CV 3/5; 205/400] START C=6.3098080943943815, gamma=0.10402147666803764, kernel=rbf\n",
      "[CV 3/5; 205/400] END C=6.3098080943943815, gamma=0.10402147666803764, kernel=rbf;, score=0.845 total time=  11.7s\n",
      "[CV 4/5; 205/400] START C=6.3098080943943815, gamma=0.10402147666803764, kernel=rbf\n",
      "[CV 4/5; 205/400] END C=6.3098080943943815, gamma=0.10402147666803764, kernel=rbf;, score=0.868 total time=  12.1s\n",
      "[CV 5/5; 205/400] START C=6.3098080943943815, gamma=0.10402147666803764, kernel=rbf\n",
      "[CV 5/5; 205/400] END C=6.3098080943943815, gamma=0.10402147666803764, kernel=rbf;, score=0.882 total time=  13.0s\n",
      "[CV 1/5; 206/400] START C=6.3098080943943815, gamma=0.20619202825140895, kernel=rbf\n",
      "[CV 1/5; 206/400] END C=6.3098080943943815, gamma=0.20619202825140895, kernel=rbf;, score=0.856 total time=  12.5s\n",
      "[CV 2/5; 206/400] START C=6.3098080943943815, gamma=0.20619202825140895, kernel=rbf\n",
      "[CV 2/5; 206/400] END C=6.3098080943943815, gamma=0.20619202825140895, kernel=rbf;, score=0.870 total time=  11.6s\n",
      "[CV 3/5; 206/400] START C=6.3098080943943815, gamma=0.20619202825140895, kernel=rbf\n",
      "[CV 3/5; 206/400] END C=6.3098080943943815, gamma=0.20619202825140895, kernel=rbf;, score=0.848 total time=  12.4s\n",
      "[CV 4/5; 206/400] START C=6.3098080943943815, gamma=0.20619202825140895, kernel=rbf\n",
      "[CV 4/5; 206/400] END C=6.3098080943943815, gamma=0.20619202825140895, kernel=rbf;, score=0.868 total time=  14.7s\n",
      "[CV 5/5; 206/400] START C=6.3098080943943815, gamma=0.20619202825140895, kernel=rbf\n",
      "[CV 5/5; 206/400] END C=6.3098080943943815, gamma=0.20619202825140895, kernel=rbf;, score=0.874 total time=  12.9s\n",
      "[CV 1/5; 207/400] START C=6.3098080943943815, gamma=0.40871514110598417, kernel=rbf\n",
      "[CV 1/5; 207/400] END C=6.3098080943943815, gamma=0.40871514110598417, kernel=rbf;, score=0.865 total time=  11.8s\n",
      "[CV 2/5; 207/400] START C=6.3098080943943815, gamma=0.40871514110598417, kernel=rbf\n",
      "[CV 2/5; 207/400] END C=6.3098080943943815, gamma=0.40871514110598417, kernel=rbf;, score=0.870 total time=  13.3s\n",
      "[CV 3/5; 207/400] START C=6.3098080943943815, gamma=0.40871514110598417, kernel=rbf\n",
      "[CV 3/5; 207/400] END C=6.3098080943943815, gamma=0.40871514110598417, kernel=rbf;, score=0.848 total time=  14.5s\n",
      "[CV 4/5; 207/400] START C=6.3098080943943815, gamma=0.40871514110598417, kernel=rbf\n",
      "[CV 4/5; 207/400] END C=6.3098080943943815, gamma=0.40871514110598417, kernel=rbf;, score=0.867 total time=  12.5s\n",
      "[CV 5/5; 207/400] START C=6.3098080943943815, gamma=0.40871514110598417, kernel=rbf\n",
      "[CV 5/5; 207/400] END C=6.3098080943943815, gamma=0.40871514110598417, kernel=rbf;, score=0.879 total time=  13.1s\n",
      "[CV 1/5; 208/400] START C=6.3098080943943815, gamma=0.8101577349324269, kernel=rbf\n",
      "[CV 1/5; 208/400] END C=6.3098080943943815, gamma=0.8101577349324269, kernel=rbf;, score=0.870 total time=  15.3s\n",
      "[CV 2/5; 208/400] START C=6.3098080943943815, gamma=0.8101577349324269, kernel=rbf\n",
      "[CV 2/5; 208/400] END C=6.3098080943943815, gamma=0.8101577349324269, kernel=rbf;, score=0.869 total time=  14.3s\n",
      "[CV 3/5; 208/400] START C=6.3098080943943815, gamma=0.8101577349324269, kernel=rbf\n",
      "[CV 3/5; 208/400] END C=6.3098080943943815, gamma=0.8101577349324269, kernel=rbf;, score=0.839 total time=  13.7s\n",
      "[CV 4/5; 208/400] START C=6.3098080943943815, gamma=0.8101577349324269, kernel=rbf\n",
      "[CV 4/5; 208/400] END C=6.3098080943943815, gamma=0.8101577349324269, kernel=rbf;, score=0.873 total time=  13.1s\n",
      "[CV 5/5; 208/400] START C=6.3098080943943815, gamma=0.8101577349324269, kernel=rbf\n",
      "[CV 5/5; 208/400] END C=6.3098080943943815, gamma=0.8101577349324269, kernel=rbf;, score=0.880 total time=  12.9s\n",
      "[CV 1/5; 209/400] START C=6.3098080943943815, gamma=1.6058997806999291, kernel=rbf\n",
      "[CV 1/5; 209/400] END C=6.3098080943943815, gamma=1.6058997806999291, kernel=rbf;, score=0.877 total time=  13.4s\n",
      "[CV 2/5; 209/400] START C=6.3098080943943815, gamma=1.6058997806999291, kernel=rbf\n",
      "[CV 2/5; 209/400] END C=6.3098080943943815, gamma=1.6058997806999291, kernel=rbf;, score=0.873 total time=  14.3s\n",
      "[CV 3/5; 209/400] START C=6.3098080943943815, gamma=1.6058997806999291, kernel=rbf\n",
      "[CV 3/5; 209/400] END C=6.3098080943943815, gamma=1.6058997806999291, kernel=rbf;, score=0.838 total time=  13.9s\n",
      "[CV 4/5; 209/400] START C=6.3098080943943815, gamma=1.6058997806999291, kernel=rbf\n",
      "[CV 4/5; 209/400] END C=6.3098080943943815, gamma=1.6058997806999291, kernel=rbf;, score=0.867 total time=  13.2s\n",
      "[CV 5/5; 209/400] START C=6.3098080943943815, gamma=1.6058997806999291, kernel=rbf\n"
     ]
    },
    {
     "name": "stdout",
     "output_type": "stream",
     "text": [
      "[CV 5/5; 209/400] END C=6.3098080943943815, gamma=1.6058997806999291, kernel=rbf;, score=0.877 total time=  14.8s\n",
      "[CV 1/5; 210/400] START C=6.3098080943943815, gamma=3.1832246912598827, kernel=rbf\n",
      "[CV 1/5; 210/400] END C=6.3098080943943815, gamma=3.1832246912598827, kernel=rbf;, score=0.846 total time=  13.3s\n",
      "[CV 2/5; 210/400] START C=6.3098080943943815, gamma=3.1832246912598827, kernel=rbf\n",
      "[CV 2/5; 210/400] END C=6.3098080943943815, gamma=3.1832246912598827, kernel=rbf;, score=0.845 total time=  13.7s\n",
      "[CV 3/5; 210/400] START C=6.3098080943943815, gamma=3.1832246912598827, kernel=rbf\n",
      "[CV 3/5; 210/400] END C=6.3098080943943815, gamma=3.1832246912598827, kernel=rbf;, score=0.837 total time=  12.1s\n",
      "[CV 4/5; 210/400] START C=6.3098080943943815, gamma=3.1832246912598827, kernel=rbf\n",
      "[CV 4/5; 210/400] END C=6.3098080943943815, gamma=3.1832246912598827, kernel=rbf;, score=0.841 total time=  12.5s\n",
      "[CV 5/5; 210/400] START C=6.3098080943943815, gamma=3.1832246912598827, kernel=rbf\n",
      "[CV 5/5; 210/400] END C=6.3098080943943815, gamma=3.1832246912598827, kernel=rbf;, score=0.843 total time=  12.7s\n",
      "[CV 1/5; 211/400] START C=6.3098080943943815, gamma=6.3098080943943815, kernel=rbf\n",
      "[CV 1/5; 211/400] END C=6.3098080943943815, gamma=6.3098080943943815, kernel=rbf;, score=0.506 total time=  14.3s\n",
      "[CV 2/5; 211/400] START C=6.3098080943943815, gamma=6.3098080943943815, kernel=rbf\n",
      "[CV 2/5; 211/400] END C=6.3098080943943815, gamma=6.3098080943943815, kernel=rbf;, score=0.509 total time=  14.7s\n",
      "[CV 3/5; 211/400] START C=6.3098080943943815, gamma=6.3098080943943815, kernel=rbf\n",
      "[CV 3/5; 211/400] END C=6.3098080943943815, gamma=6.3098080943943815, kernel=rbf;, score=0.507 total time=  14.3s\n",
      "[CV 4/5; 211/400] START C=6.3098080943943815, gamma=6.3098080943943815, kernel=rbf\n",
      "[CV 4/5; 211/400] END C=6.3098080943943815, gamma=6.3098080943943815, kernel=rbf;, score=0.508 total time=  13.3s\n",
      "[CV 5/5; 211/400] START C=6.3098080943943815, gamma=6.3098080943943815, kernel=rbf\n",
      "[CV 5/5; 211/400] END C=6.3098080943943815, gamma=6.3098080943943815, kernel=rbf;, score=0.508 total time=  13.7s\n",
      "[CV 1/5; 212/400] START C=6.3098080943943815, gamma=12.507341469611143, kernel=rbf\n",
      "[CV 1/5; 212/400] END C=6.3098080943943815, gamma=12.507341469611143, kernel=rbf;, score=0.506 total time=  12.9s\n",
      "[CV 2/5; 212/400] START C=6.3098080943943815, gamma=12.507341469611143, kernel=rbf\n",
      "[CV 2/5; 212/400] END C=6.3098080943943815, gamma=12.507341469611143, kernel=rbf;, score=0.509 total time=  14.1s\n",
      "[CV 3/5; 212/400] START C=6.3098080943943815, gamma=12.507341469611143, kernel=rbf\n",
      "[CV 3/5; 212/400] END C=6.3098080943943815, gamma=12.507341469611143, kernel=rbf;, score=0.507 total time=  14.1s\n",
      "[CV 4/5; 212/400] START C=6.3098080943943815, gamma=12.507341469611143, kernel=rbf\n",
      "[CV 4/5; 212/400] END C=6.3098080943943815, gamma=12.507341469611143, kernel=rbf;, score=0.508 total time=  12.9s\n",
      "[CV 5/5; 212/400] START C=6.3098080943943815, gamma=12.507341469611143, kernel=rbf\n",
      "[CV 5/5; 212/400] END C=6.3098080943943815, gamma=12.507341469611143, kernel=rbf;, score=0.508 total time=  13.6s\n",
      "[CV 1/5; 213/400] START C=6.3098080943943815, gamma=24.792131281525027, kernel=rbf\n",
      "[CV 1/5; 213/400] END C=6.3098080943943815, gamma=24.792131281525027, kernel=rbf;, score=0.506 total time=  13.6s\n",
      "[CV 2/5; 213/400] START C=6.3098080943943815, gamma=24.792131281525027, kernel=rbf\n",
      "[CV 2/5; 213/400] END C=6.3098080943943815, gamma=24.792131281525027, kernel=rbf;, score=0.509 total time=  13.7s\n",
      "[CV 3/5; 213/400] START C=6.3098080943943815, gamma=24.792131281525027, kernel=rbf\n",
      "[CV 3/5; 213/400] END C=6.3098080943943815, gamma=24.792131281525027, kernel=rbf;, score=0.507 total time=  15.7s\n",
      "[CV 4/5; 213/400] START C=6.3098080943943815, gamma=24.792131281525027, kernel=rbf\n",
      "[CV 4/5; 213/400] END C=6.3098080943943815, gamma=24.792131281525027, kernel=rbf;, score=0.508 total time=  13.7s\n",
      "[CV 5/5; 213/400] START C=6.3098080943943815, gamma=24.792131281525027, kernel=rbf\n",
      "[CV 5/5; 213/400] END C=6.3098080943943815, gamma=24.792131281525027, kernel=rbf;, score=0.508 total time=  13.3s\n",
      "[CV 1/5; 214/400] START C=6.3098080943943815, gamma=49.143119261097524, kernel=rbf\n",
      "[CV 1/5; 214/400] END C=6.3098080943943815, gamma=49.143119261097524, kernel=rbf;, score=0.506 total time=  13.3s\n",
      "[CV 2/5; 214/400] START C=6.3098080943943815, gamma=49.143119261097524, kernel=rbf\n",
      "[CV 2/5; 214/400] END C=6.3098080943943815, gamma=49.143119261097524, kernel=rbf;, score=0.509 total time=  13.8s\n",
      "[CV 3/5; 214/400] START C=6.3098080943943815, gamma=49.143119261097524, kernel=rbf\n",
      "[CV 3/5; 214/400] END C=6.3098080943943815, gamma=49.143119261097524, kernel=rbf;, score=0.507 total time=  15.0s\n",
      "[CV 4/5; 214/400] START C=6.3098080943943815, gamma=49.143119261097524, kernel=rbf\n",
      "[CV 4/5; 214/400] END C=6.3098080943943815, gamma=49.143119261097524, kernel=rbf;, score=0.508 total time=  13.1s\n",
      "[CV 5/5; 214/400] START C=6.3098080943943815, gamma=49.143119261097524, kernel=rbf\n",
      "[CV 5/5; 214/400] END C=6.3098080943943815, gamma=49.143119261097524, kernel=rbf;, score=0.508 total time=  13.2s\n",
      "[CV 1/5; 215/400] START C=6.3098080943943815, gamma=97.41180148195387, kernel=rbf\n",
      "[CV 1/5; 215/400] END C=6.3098080943943815, gamma=97.41180148195387, kernel=rbf;, score=0.506 total time=  14.1s\n",
      "[CV 2/5; 215/400] START C=6.3098080943943815, gamma=97.41180148195387, kernel=rbf\n",
      "[CV 2/5; 215/400] END C=6.3098080943943815, gamma=97.41180148195387, kernel=rbf;, score=0.509 total time=  15.7s\n",
      "[CV 3/5; 215/400] START C=6.3098080943943815, gamma=97.41180148195387, kernel=rbf\n",
      "[CV 3/5; 215/400] END C=6.3098080943943815, gamma=97.41180148195387, kernel=rbf;, score=0.507 total time=  12.8s\n",
      "[CV 4/5; 215/400] START C=6.3098080943943815, gamma=97.41180148195387, kernel=rbf\n",
      "[CV 4/5; 215/400] END C=6.3098080943943815, gamma=97.41180148195387, kernel=rbf;, score=0.508 total time=  13.1s\n",
      "[CV 5/5; 215/400] START C=6.3098080943943815, gamma=97.41180148195387, kernel=rbf\n",
      "[CV 5/5; 215/400] END C=6.3098080943943815, gamma=97.41180148195387, kernel=rbf;, score=0.508 total time=  13.8s\n",
      "[CV 1/5; 216/400] START C=6.3098080943943815, gamma=193.0902883381129, kernel=rbf\n",
      "[CV 1/5; 216/400] END C=6.3098080943943815, gamma=193.0902883381129, kernel=rbf;, score=0.506 total time=  14.1s\n",
      "[CV 2/5; 216/400] START C=6.3098080943943815, gamma=193.0902883381129, kernel=rbf\n",
      "[CV 2/5; 216/400] END C=6.3098080943943815, gamma=193.0902883381129, kernel=rbf;, score=0.509 total time=  14.1s\n",
      "[CV 3/5; 216/400] START C=6.3098080943943815, gamma=193.0902883381129, kernel=rbf\n",
      "[CV 3/5; 216/400] END C=6.3098080943943815, gamma=193.0902883381129, kernel=rbf;, score=0.507 total time=  12.6s\n",
      "[CV 4/5; 216/400] START C=6.3098080943943815, gamma=193.0902883381129, kernel=rbf\n",
      "[CV 4/5; 216/400] END C=6.3098080943943815, gamma=193.0902883381129, kernel=rbf;, score=0.508 total time=  12.2s\n",
      "[CV 5/5; 216/400] START C=6.3098080943943815, gamma=193.0902883381129, kernel=rbf\n",
      "[CV 5/5; 216/400] END C=6.3098080943943815, gamma=193.0902883381129, kernel=rbf;, score=0.508 total time=  12.8s\n",
      "[CV 1/5; 217/400] START C=6.3098080943943815, gamma=382.7447894740212, kernel=rbf\n",
      "[CV 1/5; 217/400] END C=6.3098080943943815, gamma=382.7447894740212, kernel=rbf;, score=0.506 total time=  14.0s\n",
      "[CV 2/5; 217/400] START C=6.3098080943943815, gamma=382.7447894740212, kernel=rbf\n",
      "[CV 2/5; 217/400] END C=6.3098080943943815, gamma=382.7447894740212, kernel=rbf;, score=0.509 total time=  18.0s\n",
      "[CV 3/5; 217/400] START C=6.3098080943943815, gamma=382.7447894740212, kernel=rbf\n",
      "[CV 3/5; 217/400] END C=6.3098080943943815, gamma=382.7447894740212, kernel=rbf;, score=0.507 total time=  14.1s\n",
      "[CV 4/5; 217/400] START C=6.3098080943943815, gamma=382.7447894740212, kernel=rbf\n",
      "[CV 4/5; 217/400] END C=6.3098080943943815, gamma=382.7447894740212, kernel=rbf;, score=0.508 total time=  14.2s\n",
      "[CV 5/5; 217/400] START C=6.3098080943943815, gamma=382.7447894740212, kernel=rbf\n",
      "[CV 5/5; 217/400] END C=6.3098080943943815, gamma=382.7447894740212, kernel=rbf;, score=0.508 total time=  13.1s\n",
      "[CV 1/5; 218/400] START C=6.3098080943943815, gamma=758.679139848782, kernel=rbf\n",
      "[CV 1/5; 218/400] END C=6.3098080943943815, gamma=758.679139848782, kernel=rbf;, score=0.506 total time=  15.2s\n",
      "[CV 2/5; 218/400] START C=6.3098080943943815, gamma=758.679139848782, kernel=rbf\n"
     ]
    },
    {
     "name": "stdout",
     "output_type": "stream",
     "text": [
      "[CV 2/5; 218/400] END C=6.3098080943943815, gamma=758.679139848782, kernel=rbf;, score=0.508 total time=  17.5s\n",
      "[CV 3/5; 218/400] START C=6.3098080943943815, gamma=758.679139848782, kernel=rbf\n",
      "[CV 3/5; 218/400] END C=6.3098080943943815, gamma=758.679139848782, kernel=rbf;, score=0.506 total time=  12.3s\n",
      "[CV 4/5; 218/400] START C=6.3098080943943815, gamma=758.679139848782, kernel=rbf\n",
      "[CV 4/5; 218/400] END C=6.3098080943943815, gamma=758.679139848782, kernel=rbf;, score=0.508 total time=  13.5s\n",
      "[CV 5/5; 218/400] START C=6.3098080943943815, gamma=758.679139848782, kernel=rbf\n",
      "[CV 5/5; 218/400] END C=6.3098080943943815, gamma=758.679139848782, kernel=rbf;, score=0.508 total time=  13.2s\n",
      "[CV 1/5; 219/400] START C=6.3098080943943815, gamma=1503.8585842871576, kernel=rbf\n",
      "[CV 1/5; 219/400] END C=6.3098080943943815, gamma=1503.8585842871576, kernel=rbf;, score=0.506 total time=  14.3s\n",
      "[CV 2/5; 219/400] START C=6.3098080943943815, gamma=1503.8585842871576, kernel=rbf\n",
      "[CV 2/5; 219/400] END C=6.3098080943943815, gamma=1503.8585842871576, kernel=rbf;, score=0.508 total time=  13.5s\n",
      "[CV 3/5; 219/400] START C=6.3098080943943815, gamma=1503.8585842871576, kernel=rbf\n",
      "[CV 3/5; 219/400] END C=6.3098080943943815, gamma=1503.8585842871576, kernel=rbf;, score=0.506 total time=  12.9s\n",
      "[CV 4/5; 219/400] START C=6.3098080943943815, gamma=1503.8585842871576, kernel=rbf\n",
      "[CV 4/5; 219/400] END C=6.3098080943943815, gamma=1503.8585842871576, kernel=rbf;, score=0.508 total time=  13.9s\n",
      "[CV 5/5; 219/400] START C=6.3098080943943815, gamma=1503.8585842871576, kernel=rbf\n",
      "[CV 5/5; 219/400] END C=6.3098080943943815, gamma=1503.8585842871576, kernel=rbf;, score=0.508 total time=  13.3s\n",
      "[CV 1/5; 220/400] START C=6.3098080943943815, gamma=2980.957987041727, kernel=rbf\n",
      "[CV 1/5; 220/400] END C=6.3098080943943815, gamma=2980.957987041727, kernel=rbf;, score=0.506 total time=  13.5s\n",
      "[CV 2/5; 220/400] START C=6.3098080943943815, gamma=2980.957987041727, kernel=rbf\n",
      "[CV 2/5; 220/400] END C=6.3098080943943815, gamma=2980.957987041727, kernel=rbf;, score=0.508 total time=  15.4s\n",
      "[CV 3/5; 220/400] START C=6.3098080943943815, gamma=2980.957987041727, kernel=rbf\n",
      "[CV 3/5; 220/400] END C=6.3098080943943815, gamma=2980.957987041727, kernel=rbf;, score=0.506 total time=  13.2s\n",
      "[CV 4/5; 220/400] START C=6.3098080943943815, gamma=2980.957987041727, kernel=rbf\n",
      "[CV 4/5; 220/400] END C=6.3098080943943815, gamma=2980.957987041727, kernel=rbf;, score=0.508 total time=  11.8s\n",
      "[CV 5/5; 220/400] START C=6.3098080943943815, gamma=2980.957987041727, kernel=rbf\n",
      "[CV 5/5; 220/400] END C=6.3098080943943815, gamma=2980.957987041727, kernel=rbf;, score=0.508 total time=  14.0s\n",
      "[CV 1/5; 221/400] START C=12.507341469611143, gamma=0.006737946999085469, kernel=rbf\n",
      "[CV 1/5; 221/400] END C=12.507341469611143, gamma=0.006737946999085469, kernel=rbf;, score=0.873 total time=  12.2s\n",
      "[CV 2/5; 221/400] START C=12.507341469611143, gamma=0.006737946999085469, kernel=rbf\n",
      "[CV 2/5; 221/400] END C=12.507341469611143, gamma=0.006737946999085469, kernel=rbf;, score=0.854 total time=  12.5s\n",
      "[CV 3/5; 221/400] START C=12.507341469611143, gamma=0.006737946999085469, kernel=rbf\n",
      "[CV 3/5; 221/400] END C=12.507341469611143, gamma=0.006737946999085469, kernel=rbf;, score=0.821 total time=  13.6s\n",
      "[CV 4/5; 221/400] START C=12.507341469611143, gamma=0.006737946999085469, kernel=rbf\n",
      "[CV 4/5; 221/400] END C=12.507341469611143, gamma=0.006737946999085469, kernel=rbf;, score=0.857 total time=  14.7s\n",
      "[CV 5/5; 221/400] START C=12.507341469611143, gamma=0.006737946999085469, kernel=rbf\n",
      "[CV 5/5; 221/400] END C=12.507341469611143, gamma=0.006737946999085469, kernel=rbf;, score=0.872 total time=  14.0s\n",
      "[CV 1/5; 222/400] START C=12.507341469611143, gamma=0.013356001111439869, kernel=rbf\n",
      "[CV 1/5; 222/400] END C=12.507341469611143, gamma=0.013356001111439869, kernel=rbf;, score=0.874 total time=  11.2s\n",
      "[CV 2/5; 222/400] START C=12.507341469611143, gamma=0.013356001111439869, kernel=rbf\n",
      "[CV 2/5; 222/400] END C=12.507341469611143, gamma=0.013356001111439869, kernel=rbf;, score=0.871 total time=  12.1s\n",
      "[CV 3/5; 222/400] START C=12.507341469611143, gamma=0.013356001111439869, kernel=rbf\n",
      "[CV 3/5; 222/400] END C=12.507341469611143, gamma=0.013356001111439869, kernel=rbf;, score=0.830 total time=  10.6s\n",
      "[CV 4/5; 222/400] START C=12.507341469611143, gamma=0.013356001111439869, kernel=rbf\n",
      "[CV 4/5; 222/400] END C=12.507341469611143, gamma=0.013356001111439869, kernel=rbf;, score=0.871 total time=  12.6s\n",
      "[CV 5/5; 222/400] START C=12.507341469611143, gamma=0.013356001111439869, kernel=rbf\n",
      "[CV 5/5; 222/400] END C=12.507341469611143, gamma=0.013356001111439869, kernel=rbf;, score=0.876 total time=  11.6s\n",
      "[CV 1/5; 223/400] START C=12.507341469611143, gamma=0.026474349785326985, kernel=rbf\n",
      "[CV 1/5; 223/400] END C=12.507341469611143, gamma=0.026474349785326985, kernel=rbf;, score=0.869 total time=  10.7s\n",
      "[CV 2/5; 223/400] START C=12.507341469611143, gamma=0.026474349785326985, kernel=rbf\n",
      "[CV 2/5; 223/400] END C=12.507341469611143, gamma=0.026474349785326985, kernel=rbf;, score=0.868 total time=  10.9s\n",
      "[CV 3/5; 223/400] START C=12.507341469611143, gamma=0.026474349785326985, kernel=rbf\n",
      "[CV 3/5; 223/400] END C=12.507341469611143, gamma=0.026474349785326985, kernel=rbf;, score=0.845 total time=  11.1s\n",
      "[CV 4/5; 223/400] START C=12.507341469611143, gamma=0.026474349785326985, kernel=rbf\n",
      "[CV 4/5; 223/400] END C=12.507341469611143, gamma=0.026474349785326985, kernel=rbf;, score=0.867 total time=  11.2s\n",
      "[CV 5/5; 223/400] START C=12.507341469611143, gamma=0.026474349785326985, kernel=rbf\n",
      "[CV 5/5; 223/400] END C=12.507341469611143, gamma=0.026474349785326985, kernel=rbf;, score=0.886 total time=  10.8s\n",
      "[CV 1/5; 224/400] START C=12.507341469611143, gamma=0.052477623407466346, kernel=rbf\n",
      "[CV 1/5; 224/400] END C=12.507341469611143, gamma=0.052477623407466346, kernel=rbf;, score=0.857 total time=  11.5s\n",
      "[CV 2/5; 224/400] START C=12.507341469611143, gamma=0.052477623407466346, kernel=rbf\n",
      "[CV 2/5; 224/400] END C=12.507341469611143, gamma=0.052477623407466346, kernel=rbf;, score=0.870 total time=  11.7s\n",
      "[CV 3/5; 224/400] START C=12.507341469611143, gamma=0.052477623407466346, kernel=rbf\n",
      "[CV 3/5; 224/400] END C=12.507341469611143, gamma=0.052477623407466346, kernel=rbf;, score=0.846 total time=  11.7s\n",
      "[CV 4/5; 224/400] START C=12.507341469611143, gamma=0.052477623407466346, kernel=rbf\n",
      "[CV 4/5; 224/400] END C=12.507341469611143, gamma=0.052477623407466346, kernel=rbf;, score=0.871 total time=  11.7s\n",
      "[CV 5/5; 224/400] START C=12.507341469611143, gamma=0.052477623407466346, kernel=rbf\n",
      "[CV 5/5; 224/400] END C=12.507341469611143, gamma=0.052477623407466346, kernel=rbf;, score=0.878 total time=  11.5s\n",
      "[CV 1/5; 225/400] START C=12.507341469611143, gamma=0.10402147666803764, kernel=rbf\n",
      "[CV 1/5; 225/400] END C=12.507341469611143, gamma=0.10402147666803764, kernel=rbf;, score=0.855 total time=  11.7s\n",
      "[CV 2/5; 225/400] START C=12.507341469611143, gamma=0.10402147666803764, kernel=rbf\n",
      "[CV 2/5; 225/400] END C=12.507341469611143, gamma=0.10402147666803764, kernel=rbf;, score=0.869 total time=  12.5s\n",
      "[CV 3/5; 225/400] START C=12.507341469611143, gamma=0.10402147666803764, kernel=rbf\n",
      "[CV 3/5; 225/400] END C=12.507341469611143, gamma=0.10402147666803764, kernel=rbf;, score=0.844 total time=  12.4s\n",
      "[CV 4/5; 225/400] START C=12.507341469611143, gamma=0.10402147666803764, kernel=rbf\n",
      "[CV 4/5; 225/400] END C=12.507341469611143, gamma=0.10402147666803764, kernel=rbf;, score=0.867 total time=  12.1s\n",
      "[CV 5/5; 225/400] START C=12.507341469611143, gamma=0.10402147666803764, kernel=rbf\n",
      "[CV 5/5; 225/400] END C=12.507341469611143, gamma=0.10402147666803764, kernel=rbf;, score=0.869 total time=  13.3s\n",
      "[CV 1/5; 226/400] START C=12.507341469611143, gamma=0.20619202825140895, kernel=rbf\n",
      "[CV 1/5; 226/400] END C=12.507341469611143, gamma=0.20619202825140895, kernel=rbf;, score=0.857 total time=  13.3s\n",
      "[CV 2/5; 226/400] START C=12.507341469611143, gamma=0.20619202825140895, kernel=rbf\n",
      "[CV 2/5; 226/400] END C=12.507341469611143, gamma=0.20619202825140895, kernel=rbf;, score=0.870 total time=  13.0s\n",
      "[CV 3/5; 226/400] START C=12.507341469611143, gamma=0.20619202825140895, kernel=rbf\n",
      "[CV 3/5; 226/400] END C=12.507341469611143, gamma=0.20619202825140895, kernel=rbf;, score=0.847 total time=  14.4s\n",
      "[CV 4/5; 226/400] START C=12.507341469611143, gamma=0.20619202825140895, kernel=rbf\n"
     ]
    },
    {
     "name": "stdout",
     "output_type": "stream",
     "text": [
      "[CV 4/5; 226/400] END C=12.507341469611143, gamma=0.20619202825140895, kernel=rbf;, score=0.867 total time=  14.5s\n",
      "[CV 5/5; 226/400] START C=12.507341469611143, gamma=0.20619202825140895, kernel=rbf\n",
      "[CV 5/5; 226/400] END C=12.507341469611143, gamma=0.20619202825140895, kernel=rbf;, score=0.874 total time=  13.9s\n",
      "[CV 1/5; 227/400] START C=12.507341469611143, gamma=0.40871514110598417, kernel=rbf\n",
      "[CV 1/5; 227/400] END C=12.507341469611143, gamma=0.40871514110598417, kernel=rbf;, score=0.865 total time=  12.6s\n",
      "[CV 2/5; 227/400] START C=12.507341469611143, gamma=0.40871514110598417, kernel=rbf\n",
      "[CV 2/5; 227/400] END C=12.507341469611143, gamma=0.40871514110598417, kernel=rbf;, score=0.870 total time=  13.3s\n",
      "[CV 3/5; 227/400] START C=12.507341469611143, gamma=0.40871514110598417, kernel=rbf\n",
      "[CV 3/5; 227/400] END C=12.507341469611143, gamma=0.40871514110598417, kernel=rbf;, score=0.848 total time=  12.9s\n",
      "[CV 4/5; 227/400] START C=12.507341469611143, gamma=0.40871514110598417, kernel=rbf\n",
      "[CV 4/5; 227/400] END C=12.507341469611143, gamma=0.40871514110598417, kernel=rbf;, score=0.867 total time=  15.1s\n",
      "[CV 5/5; 227/400] START C=12.507341469611143, gamma=0.40871514110598417, kernel=rbf\n",
      "[CV 5/5; 227/400] END C=12.507341469611143, gamma=0.40871514110598417, kernel=rbf;, score=0.879 total time=  13.5s\n",
      "[CV 1/5; 228/400] START C=12.507341469611143, gamma=0.8101577349324269, kernel=rbf\n",
      "[CV 1/5; 228/400] END C=12.507341469611143, gamma=0.8101577349324269, kernel=rbf;, score=0.870 total time=  13.3s\n",
      "[CV 2/5; 228/400] START C=12.507341469611143, gamma=0.8101577349324269, kernel=rbf\n",
      "[CV 2/5; 228/400] END C=12.507341469611143, gamma=0.8101577349324269, kernel=rbf;, score=0.869 total time=  13.9s\n",
      "[CV 3/5; 228/400] START C=12.507341469611143, gamma=0.8101577349324269, kernel=rbf\n",
      "[CV 3/5; 228/400] END C=12.507341469611143, gamma=0.8101577349324269, kernel=rbf;, score=0.839 total time=  14.1s\n",
      "[CV 4/5; 228/400] START C=12.507341469611143, gamma=0.8101577349324269, kernel=rbf\n",
      "[CV 4/5; 228/400] END C=12.507341469611143, gamma=0.8101577349324269, kernel=rbf;, score=0.873 total time=  13.4s\n",
      "[CV 5/5; 228/400] START C=12.507341469611143, gamma=0.8101577349324269, kernel=rbf\n",
      "[CV 5/5; 228/400] END C=12.507341469611143, gamma=0.8101577349324269, kernel=rbf;, score=0.880 total time=  17.1s\n",
      "[CV 1/5; 229/400] START C=12.507341469611143, gamma=1.6058997806999291, kernel=rbf\n",
      "[CV 1/5; 229/400] END C=12.507341469611143, gamma=1.6058997806999291, kernel=rbf;, score=0.877 total time=  17.7s\n",
      "[CV 2/5; 229/400] START C=12.507341469611143, gamma=1.6058997806999291, kernel=rbf\n",
      "[CV 2/5; 229/400] END C=12.507341469611143, gamma=1.6058997806999291, kernel=rbf;, score=0.873 total time=  13.3s\n",
      "[CV 3/5; 229/400] START C=12.507341469611143, gamma=1.6058997806999291, kernel=rbf\n",
      "[CV 3/5; 229/400] END C=12.507341469611143, gamma=1.6058997806999291, kernel=rbf;, score=0.838 total time=  12.9s\n",
      "[CV 4/5; 229/400] START C=12.507341469611143, gamma=1.6058997806999291, kernel=rbf\n",
      "[CV 4/5; 229/400] END C=12.507341469611143, gamma=1.6058997806999291, kernel=rbf;, score=0.867 total time=  13.3s\n",
      "[CV 5/5; 229/400] START C=12.507341469611143, gamma=1.6058997806999291, kernel=rbf\n",
      "[CV 5/5; 229/400] END C=12.507341469611143, gamma=1.6058997806999291, kernel=rbf;, score=0.877 total time=  13.6s\n",
      "[CV 1/5; 230/400] START C=12.507341469611143, gamma=3.1832246912598827, kernel=rbf\n",
      "[CV 1/5; 230/400] END C=12.507341469611143, gamma=3.1832246912598827, kernel=rbf;, score=0.846 total time=  11.9s\n",
      "[CV 2/5; 230/400] START C=12.507341469611143, gamma=3.1832246912598827, kernel=rbf\n",
      "[CV 2/5; 230/400] END C=12.507341469611143, gamma=3.1832246912598827, kernel=rbf;, score=0.845 total time=  13.8s\n",
      "[CV 3/5; 230/400] START C=12.507341469611143, gamma=3.1832246912598827, kernel=rbf\n",
      "[CV 3/5; 230/400] END C=12.507341469611143, gamma=3.1832246912598827, kernel=rbf;, score=0.837 total time=  13.7s\n",
      "[CV 4/5; 230/400] START C=12.507341469611143, gamma=3.1832246912598827, kernel=rbf\n",
      "[CV 4/5; 230/400] END C=12.507341469611143, gamma=3.1832246912598827, kernel=rbf;, score=0.841 total time=  14.5s\n",
      "[CV 5/5; 230/400] START C=12.507341469611143, gamma=3.1832246912598827, kernel=rbf\n",
      "[CV 5/5; 230/400] END C=12.507341469611143, gamma=3.1832246912598827, kernel=rbf;, score=0.843 total time=  13.4s\n",
      "[CV 1/5; 231/400] START C=12.507341469611143, gamma=6.3098080943943815, kernel=rbf\n",
      "[CV 1/5; 231/400] END C=12.507341469611143, gamma=6.3098080943943815, kernel=rbf;, score=0.506 total time=  13.6s\n",
      "[CV 2/5; 231/400] START C=12.507341469611143, gamma=6.3098080943943815, kernel=rbf\n",
      "[CV 2/5; 231/400] END C=12.507341469611143, gamma=6.3098080943943815, kernel=rbf;, score=0.509 total time=  12.9s\n",
      "[CV 3/5; 231/400] START C=12.507341469611143, gamma=6.3098080943943815, kernel=rbf\n",
      "[CV 3/5; 231/400] END C=12.507341469611143, gamma=6.3098080943943815, kernel=rbf;, score=0.507 total time=  12.8s\n",
      "[CV 4/5; 231/400] START C=12.507341469611143, gamma=6.3098080943943815, kernel=rbf\n",
      "[CV 4/5; 231/400] END C=12.507341469611143, gamma=6.3098080943943815, kernel=rbf;, score=0.508 total time=  14.1s\n",
      "[CV 5/5; 231/400] START C=12.507341469611143, gamma=6.3098080943943815, kernel=rbf\n",
      "[CV 5/5; 231/400] END C=12.507341469611143, gamma=6.3098080943943815, kernel=rbf;, score=0.508 total time=  14.7s\n",
      "[CV 1/5; 232/400] START C=12.507341469611143, gamma=12.507341469611143, kernel=rbf\n",
      "[CV 1/5; 232/400] END C=12.507341469611143, gamma=12.507341469611143, kernel=rbf;, score=0.506 total time=  14.7s\n",
      "[CV 2/5; 232/400] START C=12.507341469611143, gamma=12.507341469611143, kernel=rbf\n",
      "[CV 2/5; 232/400] END C=12.507341469611143, gamma=12.507341469611143, kernel=rbf;, score=0.509 total time=  14.5s\n",
      "[CV 3/5; 232/400] START C=12.507341469611143, gamma=12.507341469611143, kernel=rbf\n",
      "[CV 3/5; 232/400] END C=12.507341469611143, gamma=12.507341469611143, kernel=rbf;, score=0.507 total time=  12.8s\n",
      "[CV 4/5; 232/400] START C=12.507341469611143, gamma=12.507341469611143, kernel=rbf\n",
      "[CV 4/5; 232/400] END C=12.507341469611143, gamma=12.507341469611143, kernel=rbf;, score=0.508 total time=  13.6s\n",
      "[CV 5/5; 232/400] START C=12.507341469611143, gamma=12.507341469611143, kernel=rbf\n",
      "[CV 5/5; 232/400] END C=12.507341469611143, gamma=12.507341469611143, kernel=rbf;, score=0.508 total time=  15.5s\n",
      "[CV 1/5; 233/400] START C=12.507341469611143, gamma=24.792131281525027, kernel=rbf\n",
      "[CV 1/5; 233/400] END C=12.507341469611143, gamma=24.792131281525027, kernel=rbf;, score=0.506 total time=  16.7s\n",
      "[CV 2/5; 233/400] START C=12.507341469611143, gamma=24.792131281525027, kernel=rbf\n",
      "[CV 2/5; 233/400] END C=12.507341469611143, gamma=24.792131281525027, kernel=rbf;, score=0.509 total time=  13.9s\n",
      "[CV 3/5; 233/400] START C=12.507341469611143, gamma=24.792131281525027, kernel=rbf\n",
      "[CV 3/5; 233/400] END C=12.507341469611143, gamma=24.792131281525027, kernel=rbf;, score=0.507 total time=  16.1s\n",
      "[CV 4/5; 233/400] START C=12.507341469611143, gamma=24.792131281525027, kernel=rbf\n",
      "[CV 4/5; 233/400] END C=12.507341469611143, gamma=24.792131281525027, kernel=rbf;, score=0.508 total time=  14.7s\n",
      "[CV 5/5; 233/400] START C=12.507341469611143, gamma=24.792131281525027, kernel=rbf\n",
      "[CV 5/5; 233/400] END C=12.507341469611143, gamma=24.792131281525027, kernel=rbf;, score=0.508 total time=  17.9s\n",
      "[CV 1/5; 234/400] START C=12.507341469611143, gamma=49.143119261097524, kernel=rbf\n",
      "[CV 1/5; 234/400] END C=12.507341469611143, gamma=49.143119261097524, kernel=rbf;, score=0.506 total time=  15.1s\n",
      "[CV 2/5; 234/400] START C=12.507341469611143, gamma=49.143119261097524, kernel=rbf\n",
      "[CV 2/5; 234/400] END C=12.507341469611143, gamma=49.143119261097524, kernel=rbf;, score=0.509 total time=  15.8s\n",
      "[CV 3/5; 234/400] START C=12.507341469611143, gamma=49.143119261097524, kernel=rbf\n",
      "[CV 3/5; 234/400] END C=12.507341469611143, gamma=49.143119261097524, kernel=rbf;, score=0.507 total time=  15.4s\n",
      "[CV 4/5; 234/400] START C=12.507341469611143, gamma=49.143119261097524, kernel=rbf\n",
      "[CV 4/5; 234/400] END C=12.507341469611143, gamma=49.143119261097524, kernel=rbf;, score=0.508 total time=  18.2s\n",
      "[CV 5/5; 234/400] START C=12.507341469611143, gamma=49.143119261097524, kernel=rbf\n",
      "[CV 5/5; 234/400] END C=12.507341469611143, gamma=49.143119261097524, kernel=rbf;, score=0.508 total time=  14.0s\n",
      "[CV 1/5; 235/400] START C=12.507341469611143, gamma=97.41180148195387, kernel=rbf\n"
     ]
    },
    {
     "name": "stdout",
     "output_type": "stream",
     "text": [
      "[CV 1/5; 235/400] END C=12.507341469611143, gamma=97.41180148195387, kernel=rbf;, score=0.506 total time=  14.1s\n",
      "[CV 2/5; 235/400] START C=12.507341469611143, gamma=97.41180148195387, kernel=rbf\n",
      "[CV 2/5; 235/400] END C=12.507341469611143, gamma=97.41180148195387, kernel=rbf;, score=0.509 total time=  14.1s\n",
      "[CV 3/5; 235/400] START C=12.507341469611143, gamma=97.41180148195387, kernel=rbf\n",
      "[CV 3/5; 235/400] END C=12.507341469611143, gamma=97.41180148195387, kernel=rbf;, score=0.507 total time=  13.3s\n",
      "[CV 4/5; 235/400] START C=12.507341469611143, gamma=97.41180148195387, kernel=rbf\n",
      "[CV 4/5; 235/400] END C=12.507341469611143, gamma=97.41180148195387, kernel=rbf;, score=0.508 total time=  14.6s\n",
      "[CV 5/5; 235/400] START C=12.507341469611143, gamma=97.41180148195387, kernel=rbf\n",
      "[CV 5/5; 235/400] END C=12.507341469611143, gamma=97.41180148195387, kernel=rbf;, score=0.508 total time=  18.0s\n",
      "[CV 1/5; 236/400] START C=12.507341469611143, gamma=193.0902883381129, kernel=rbf\n",
      "[CV 1/5; 236/400] END C=12.507341469611143, gamma=193.0902883381129, kernel=rbf;, score=0.506 total time=  13.1s\n",
      "[CV 2/5; 236/400] START C=12.507341469611143, gamma=193.0902883381129, kernel=rbf\n",
      "[CV 2/5; 236/400] END C=12.507341469611143, gamma=193.0902883381129, kernel=rbf;, score=0.509 total time=  14.4s\n",
      "[CV 3/5; 236/400] START C=12.507341469611143, gamma=193.0902883381129, kernel=rbf\n",
      "[CV 3/5; 236/400] END C=12.507341469611143, gamma=193.0902883381129, kernel=rbf;, score=0.507 total time=  13.9s\n",
      "[CV 4/5; 236/400] START C=12.507341469611143, gamma=193.0902883381129, kernel=rbf\n",
      "[CV 4/5; 236/400] END C=12.507341469611143, gamma=193.0902883381129, kernel=rbf;, score=0.508 total time=  14.0s\n",
      "[CV 5/5; 236/400] START C=12.507341469611143, gamma=193.0902883381129, kernel=rbf\n",
      "[CV 5/5; 236/400] END C=12.507341469611143, gamma=193.0902883381129, kernel=rbf;, score=0.508 total time=  17.1s\n",
      "[CV 1/5; 237/400] START C=12.507341469611143, gamma=382.7447894740212, kernel=rbf\n",
      "[CV 1/5; 237/400] END C=12.507341469611143, gamma=382.7447894740212, kernel=rbf;, score=0.506 total time=  14.3s\n",
      "[CV 2/5; 237/400] START C=12.507341469611143, gamma=382.7447894740212, kernel=rbf\n",
      "[CV 2/5; 237/400] END C=12.507341469611143, gamma=382.7447894740212, kernel=rbf;, score=0.509 total time=  17.5s\n",
      "[CV 3/5; 237/400] START C=12.507341469611143, gamma=382.7447894740212, kernel=rbf\n",
      "[CV 3/5; 237/400] END C=12.507341469611143, gamma=382.7447894740212, kernel=rbf;, score=0.507 total time=  14.4s\n",
      "[CV 4/5; 237/400] START C=12.507341469611143, gamma=382.7447894740212, kernel=rbf\n",
      "[CV 4/5; 237/400] END C=12.507341469611143, gamma=382.7447894740212, kernel=rbf;, score=0.508 total time=  14.0s\n",
      "[CV 5/5; 237/400] START C=12.507341469611143, gamma=382.7447894740212, kernel=rbf\n",
      "[CV 5/5; 237/400] END C=12.507341469611143, gamma=382.7447894740212, kernel=rbf;, score=0.508 total time=  13.8s\n",
      "[CV 1/5; 238/400] START C=12.507341469611143, gamma=758.679139848782, kernel=rbf\n",
      "[CV 1/5; 238/400] END C=12.507341469611143, gamma=758.679139848782, kernel=rbf;, score=0.506 total time=  14.5s\n",
      "[CV 2/5; 238/400] START C=12.507341469611143, gamma=758.679139848782, kernel=rbf\n",
      "[CV 2/5; 238/400] END C=12.507341469611143, gamma=758.679139848782, kernel=rbf;, score=0.508 total time=  14.1s\n",
      "[CV 3/5; 238/400] START C=12.507341469611143, gamma=758.679139848782, kernel=rbf\n",
      "[CV 3/5; 238/400] END C=12.507341469611143, gamma=758.679139848782, kernel=rbf;, score=0.506 total time=  13.8s\n",
      "[CV 4/5; 238/400] START C=12.507341469611143, gamma=758.679139848782, kernel=rbf\n",
      "[CV 4/5; 238/400] END C=12.507341469611143, gamma=758.679139848782, kernel=rbf;, score=0.508 total time=  14.7s\n",
      "[CV 5/5; 238/400] START C=12.507341469611143, gamma=758.679139848782, kernel=rbf\n",
      "[CV 5/5; 238/400] END C=12.507341469611143, gamma=758.679139848782, kernel=rbf;, score=0.508 total time=  15.7s\n",
      "[CV 1/5; 239/400] START C=12.507341469611143, gamma=1503.8585842871576, kernel=rbf\n",
      "[CV 1/5; 239/400] END C=12.507341469611143, gamma=1503.8585842871576, kernel=rbf;, score=0.506 total time=  13.8s\n",
      "[CV 2/5; 239/400] START C=12.507341469611143, gamma=1503.8585842871576, kernel=rbf\n",
      "[CV 2/5; 239/400] END C=12.507341469611143, gamma=1503.8585842871576, kernel=rbf;, score=0.508 total time=  14.0s\n",
      "[CV 3/5; 239/400] START C=12.507341469611143, gamma=1503.8585842871576, kernel=rbf\n",
      "[CV 3/5; 239/400] END C=12.507341469611143, gamma=1503.8585842871576, kernel=rbf;, score=0.506 total time=  13.9s\n",
      "[CV 4/5; 239/400] START C=12.507341469611143, gamma=1503.8585842871576, kernel=rbf\n",
      "[CV 4/5; 239/400] END C=12.507341469611143, gamma=1503.8585842871576, kernel=rbf;, score=0.508 total time=  13.7s\n",
      "[CV 5/5; 239/400] START C=12.507341469611143, gamma=1503.8585842871576, kernel=rbf\n",
      "[CV 5/5; 239/400] END C=12.507341469611143, gamma=1503.8585842871576, kernel=rbf;, score=0.508 total time=  13.7s\n",
      "[CV 1/5; 240/400] START C=12.507341469611143, gamma=2980.957987041727, kernel=rbf\n",
      "[CV 1/5; 240/400] END C=12.507341469611143, gamma=2980.957987041727, kernel=rbf;, score=0.506 total time=  14.9s\n",
      "[CV 2/5; 240/400] START C=12.507341469611143, gamma=2980.957987041727, kernel=rbf\n",
      "[CV 2/5; 240/400] END C=12.507341469611143, gamma=2980.957987041727, kernel=rbf;, score=0.508 total time=  16.0s\n",
      "[CV 3/5; 240/400] START C=12.507341469611143, gamma=2980.957987041727, kernel=rbf\n",
      "[CV 3/5; 240/400] END C=12.507341469611143, gamma=2980.957987041727, kernel=rbf;, score=0.506 total time=  14.2s\n",
      "[CV 4/5; 240/400] START C=12.507341469611143, gamma=2980.957987041727, kernel=rbf\n",
      "[CV 4/5; 240/400] END C=12.507341469611143, gamma=2980.957987041727, kernel=rbf;, score=0.508 total time=  15.3s\n",
      "[CV 5/5; 240/400] START C=12.507341469611143, gamma=2980.957987041727, kernel=rbf\n",
      "[CV 5/5; 240/400] END C=12.507341469611143, gamma=2980.957987041727, kernel=rbf;, score=0.508 total time=  12.5s\n",
      "[CV 1/5; 241/400] START C=24.792131281525027, gamma=0.006737946999085469, kernel=rbf\n",
      "[CV 1/5; 241/400] END C=24.792131281525027, gamma=0.006737946999085469, kernel=rbf;, score=0.873 total time=  10.8s\n",
      "[CV 2/5; 241/400] START C=24.792131281525027, gamma=0.006737946999085469, kernel=rbf\n",
      "[CV 2/5; 241/400] END C=24.792131281525027, gamma=0.006737946999085469, kernel=rbf;, score=0.871 total time=  11.8s\n",
      "[CV 3/5; 241/400] START C=24.792131281525027, gamma=0.006737946999085469, kernel=rbf\n",
      "[CV 3/5; 241/400] END C=24.792131281525027, gamma=0.006737946999085469, kernel=rbf;, score=0.830 total time=  10.9s\n",
      "[CV 4/5; 241/400] START C=24.792131281525027, gamma=0.006737946999085469, kernel=rbf\n",
      "[CV 4/5; 241/400] END C=24.792131281525027, gamma=0.006737946999085469, kernel=rbf;, score=0.871 total time=  11.4s\n",
      "[CV 5/5; 241/400] START C=24.792131281525027, gamma=0.006737946999085469, kernel=rbf\n",
      "[CV 5/5; 241/400] END C=24.792131281525027, gamma=0.006737946999085469, kernel=rbf;, score=0.876 total time=  13.2s\n",
      "[CV 1/5; 242/400] START C=24.792131281525027, gamma=0.013356001111439869, kernel=rbf\n",
      "[CV 1/5; 242/400] END C=24.792131281525027, gamma=0.013356001111439869, kernel=rbf;, score=0.866 total time=  11.0s\n",
      "[CV 2/5; 242/400] START C=24.792131281525027, gamma=0.013356001111439869, kernel=rbf\n",
      "[CV 2/5; 242/400] END C=24.792131281525027, gamma=0.013356001111439869, kernel=rbf;, score=0.870 total time=  10.2s\n",
      "[CV 3/5; 242/400] START C=24.792131281525027, gamma=0.013356001111439869, kernel=rbf\n",
      "[CV 3/5; 242/400] END C=24.792131281525027, gamma=0.013356001111439869, kernel=rbf;, score=0.845 total time=  10.1s\n",
      "[CV 4/5; 242/400] START C=24.792131281525027, gamma=0.013356001111439869, kernel=rbf\n",
      "[CV 4/5; 242/400] END C=24.792131281525027, gamma=0.013356001111439869, kernel=rbf;, score=0.868 total time=   9.9s\n",
      "[CV 5/5; 242/400] START C=24.792131281525027, gamma=0.013356001111439869, kernel=rbf\n",
      "[CV 5/5; 242/400] END C=24.792131281525027, gamma=0.013356001111439869, kernel=rbf;, score=0.885 total time=  10.6s\n",
      "[CV 1/5; 243/400] START C=24.792131281525027, gamma=0.026474349785326985, kernel=rbf\n",
      "[CV 1/5; 243/400] END C=24.792131281525027, gamma=0.026474349785326985, kernel=rbf;, score=0.855 total time=  11.4s\n",
      "[CV 2/5; 243/400] START C=24.792131281525027, gamma=0.026474349785326985, kernel=rbf\n",
      "[CV 2/5; 243/400] END C=24.792131281525027, gamma=0.026474349785326985, kernel=rbf;, score=0.867 total time=  11.9s\n",
      "[CV 3/5; 243/400] START C=24.792131281525027, gamma=0.026474349785326985, kernel=rbf\n"
     ]
    },
    {
     "name": "stdout",
     "output_type": "stream",
     "text": [
      "[CV 3/5; 243/400] END C=24.792131281525027, gamma=0.026474349785326985, kernel=rbf;, score=0.844 total time=  12.0s\n",
      "[CV 4/5; 243/400] START C=24.792131281525027, gamma=0.026474349785326985, kernel=rbf\n",
      "[CV 4/5; 243/400] END C=24.792131281525027, gamma=0.026474349785326985, kernel=rbf;, score=0.870 total time=  11.4s\n",
      "[CV 5/5; 243/400] START C=24.792131281525027, gamma=0.026474349785326985, kernel=rbf\n",
      "[CV 5/5; 243/400] END C=24.792131281525027, gamma=0.026474349785326985, kernel=rbf;, score=0.877 total time=  13.4s\n",
      "[CV 1/5; 244/400] START C=24.792131281525027, gamma=0.052477623407466346, kernel=rbf\n",
      "[CV 1/5; 244/400] END C=24.792131281525027, gamma=0.052477623407466346, kernel=rbf;, score=0.855 total time=  13.6s\n",
      "[CV 2/5; 244/400] START C=24.792131281525027, gamma=0.052477623407466346, kernel=rbf\n",
      "[CV 2/5; 244/400] END C=24.792131281525027, gamma=0.052477623407466346, kernel=rbf;, score=0.868 total time=  12.5s\n",
      "[CV 3/5; 244/400] START C=24.792131281525027, gamma=0.052477623407466346, kernel=rbf\n",
      "[CV 3/5; 244/400] END C=24.792131281525027, gamma=0.052477623407466346, kernel=rbf;, score=0.849 total time=  12.9s\n",
      "[CV 4/5; 244/400] START C=24.792131281525027, gamma=0.052477623407466346, kernel=rbf\n",
      "[CV 4/5; 244/400] END C=24.792131281525027, gamma=0.052477623407466346, kernel=rbf;, score=0.869 total time=  14.0s\n",
      "[CV 5/5; 244/400] START C=24.792131281525027, gamma=0.052477623407466346, kernel=rbf\n",
      "[CV 5/5; 244/400] END C=24.792131281525027, gamma=0.052477623407466346, kernel=rbf;, score=0.868 total time=  11.4s\n",
      "[CV 1/5; 245/400] START C=24.792131281525027, gamma=0.10402147666803764, kernel=rbf\n",
      "[CV 1/5; 245/400] END C=24.792131281525027, gamma=0.10402147666803764, kernel=rbf;, score=0.855 total time=  13.6s\n",
      "[CV 2/5; 245/400] START C=24.792131281525027, gamma=0.10402147666803764, kernel=rbf\n",
      "[CV 2/5; 245/400] END C=24.792131281525027, gamma=0.10402147666803764, kernel=rbf;, score=0.868 total time=  13.4s\n",
      "[CV 3/5; 245/400] START C=24.792131281525027, gamma=0.10402147666803764, kernel=rbf\n",
      "[CV 3/5; 245/400] END C=24.792131281525027, gamma=0.10402147666803764, kernel=rbf;, score=0.845 total time=  11.1s\n",
      "[CV 4/5; 245/400] START C=24.792131281525027, gamma=0.10402147666803764, kernel=rbf\n",
      "[CV 4/5; 245/400] END C=24.792131281525027, gamma=0.10402147666803764, kernel=rbf;, score=0.867 total time=  11.9s\n",
      "[CV 5/5; 245/400] START C=24.792131281525027, gamma=0.10402147666803764, kernel=rbf\n",
      "[CV 5/5; 245/400] END C=24.792131281525027, gamma=0.10402147666803764, kernel=rbf;, score=0.870 total time=  11.1s\n",
      "[CV 1/5; 246/400] START C=24.792131281525027, gamma=0.20619202825140895, kernel=rbf\n",
      "[CV 1/5; 246/400] END C=24.792131281525027, gamma=0.20619202825140895, kernel=rbf;, score=0.857 total time=  12.8s\n",
      "[CV 2/5; 246/400] START C=24.792131281525027, gamma=0.20619202825140895, kernel=rbf\n",
      "[CV 2/5; 246/400] END C=24.792131281525027, gamma=0.20619202825140895, kernel=rbf;, score=0.870 total time=  12.0s\n",
      "[CV 3/5; 246/400] START C=24.792131281525027, gamma=0.20619202825140895, kernel=rbf\n",
      "[CV 3/5; 246/400] END C=24.792131281525027, gamma=0.20619202825140895, kernel=rbf;, score=0.847 total time=  11.8s\n",
      "[CV 4/5; 246/400] START C=24.792131281525027, gamma=0.20619202825140895, kernel=rbf\n",
      "[CV 4/5; 246/400] END C=24.792131281525027, gamma=0.20619202825140895, kernel=rbf;, score=0.867 total time=  12.4s\n",
      "[CV 5/5; 246/400] START C=24.792131281525027, gamma=0.20619202825140895, kernel=rbf\n",
      "[CV 5/5; 246/400] END C=24.792131281525027, gamma=0.20619202825140895, kernel=rbf;, score=0.874 total time=  12.1s\n",
      "[CV 1/5; 247/400] START C=24.792131281525027, gamma=0.40871514110598417, kernel=rbf\n",
      "[CV 1/5; 247/400] END C=24.792131281525027, gamma=0.40871514110598417, kernel=rbf;, score=0.865 total time=  12.7s\n",
      "[CV 2/5; 247/400] START C=24.792131281525027, gamma=0.40871514110598417, kernel=rbf\n",
      "[CV 2/5; 247/400] END C=24.792131281525027, gamma=0.40871514110598417, kernel=rbf;, score=0.870 total time=  12.7s\n",
      "[CV 3/5; 247/400] START C=24.792131281525027, gamma=0.40871514110598417, kernel=rbf\n",
      "[CV 3/5; 247/400] END C=24.792131281525027, gamma=0.40871514110598417, kernel=rbf;, score=0.848 total time=  12.5s\n",
      "[CV 4/5; 247/400] START C=24.792131281525027, gamma=0.40871514110598417, kernel=rbf\n",
      "[CV 4/5; 247/400] END C=24.792131281525027, gamma=0.40871514110598417, kernel=rbf;, score=0.867 total time=  13.3s\n",
      "[CV 5/5; 247/400] START C=24.792131281525027, gamma=0.40871514110598417, kernel=rbf\n",
      "[CV 5/5; 247/400] END C=24.792131281525027, gamma=0.40871514110598417, kernel=rbf;, score=0.879 total time=  12.0s\n",
      "[CV 1/5; 248/400] START C=24.792131281525027, gamma=0.8101577349324269, kernel=rbf\n",
      "[CV 1/5; 248/400] END C=24.792131281525027, gamma=0.8101577349324269, kernel=rbf;, score=0.870 total time=  13.5s\n",
      "[CV 2/5; 248/400] START C=24.792131281525027, gamma=0.8101577349324269, kernel=rbf\n",
      "[CV 2/5; 248/400] END C=24.792131281525027, gamma=0.8101577349324269, kernel=rbf;, score=0.869 total time=  15.5s\n",
      "[CV 3/5; 248/400] START C=24.792131281525027, gamma=0.8101577349324269, kernel=rbf\n",
      "[CV 3/5; 248/400] END C=24.792131281525027, gamma=0.8101577349324269, kernel=rbf;, score=0.839 total time=  14.7s\n",
      "[CV 4/5; 248/400] START C=24.792131281525027, gamma=0.8101577349324269, kernel=rbf\n",
      "[CV 4/5; 248/400] END C=24.792131281525027, gamma=0.8101577349324269, kernel=rbf;, score=0.873 total time=  13.7s\n",
      "[CV 5/5; 248/400] START C=24.792131281525027, gamma=0.8101577349324269, kernel=rbf\n",
      "[CV 5/5; 248/400] END C=24.792131281525027, gamma=0.8101577349324269, kernel=rbf;, score=0.880 total time=  13.3s\n",
      "[CV 1/5; 249/400] START C=24.792131281525027, gamma=1.6058997806999291, kernel=rbf\n",
      "[CV 1/5; 249/400] END C=24.792131281525027, gamma=1.6058997806999291, kernel=rbf;, score=0.877 total time=  14.4s\n",
      "[CV 2/5; 249/400] START C=24.792131281525027, gamma=1.6058997806999291, kernel=rbf\n",
      "[CV 2/5; 249/400] END C=24.792131281525027, gamma=1.6058997806999291, kernel=rbf;, score=0.873 total time=  13.3s\n",
      "[CV 3/5; 249/400] START C=24.792131281525027, gamma=1.6058997806999291, kernel=rbf\n",
      "[CV 3/5; 249/400] END C=24.792131281525027, gamma=1.6058997806999291, kernel=rbf;, score=0.838 total time=  13.8s\n",
      "[CV 4/5; 249/400] START C=24.792131281525027, gamma=1.6058997806999291, kernel=rbf\n",
      "[CV 4/5; 249/400] END C=24.792131281525027, gamma=1.6058997806999291, kernel=rbf;, score=0.867 total time=  13.3s\n",
      "[CV 5/5; 249/400] START C=24.792131281525027, gamma=1.6058997806999291, kernel=rbf\n",
      "[CV 5/5; 249/400] END C=24.792131281525027, gamma=1.6058997806999291, kernel=rbf;, score=0.877 total time=  13.6s\n",
      "[CV 1/5; 250/400] START C=24.792131281525027, gamma=3.1832246912598827, kernel=rbf\n",
      "[CV 1/5; 250/400] END C=24.792131281525027, gamma=3.1832246912598827, kernel=rbf;, score=0.846 total time=  17.4s\n",
      "[CV 2/5; 250/400] START C=24.792131281525027, gamma=3.1832246912598827, kernel=rbf\n",
      "[CV 2/5; 250/400] END C=24.792131281525027, gamma=3.1832246912598827, kernel=rbf;, score=0.845 total time=  13.6s\n",
      "[CV 3/5; 250/400] START C=24.792131281525027, gamma=3.1832246912598827, kernel=rbf\n",
      "[CV 3/5; 250/400] END C=24.792131281525027, gamma=3.1832246912598827, kernel=rbf;, score=0.837 total time=  13.7s\n",
      "[CV 4/5; 250/400] START C=24.792131281525027, gamma=3.1832246912598827, kernel=rbf\n",
      "[CV 4/5; 250/400] END C=24.792131281525027, gamma=3.1832246912598827, kernel=rbf;, score=0.841 total time=  14.8s\n",
      "[CV 5/5; 250/400] START C=24.792131281525027, gamma=3.1832246912598827, kernel=rbf\n",
      "[CV 5/5; 250/400] END C=24.792131281525027, gamma=3.1832246912598827, kernel=rbf;, score=0.843 total time=  12.2s\n",
      "[CV 1/5; 251/400] START C=24.792131281525027, gamma=6.3098080943943815, kernel=rbf\n",
      "[CV 1/5; 251/400] END C=24.792131281525027, gamma=6.3098080943943815, kernel=rbf;, score=0.506 total time=  13.5s\n",
      "[CV 2/5; 251/400] START C=24.792131281525027, gamma=6.3098080943943815, kernel=rbf\n",
      "[CV 2/5; 251/400] END C=24.792131281525027, gamma=6.3098080943943815, kernel=rbf;, score=0.509 total time=  13.1s\n",
      "[CV 3/5; 251/400] START C=24.792131281525027, gamma=6.3098080943943815, kernel=rbf\n",
      "[CV 3/5; 251/400] END C=24.792131281525027, gamma=6.3098080943943815, kernel=rbf;, score=0.507 total time=  12.7s\n",
      "[CV 4/5; 251/400] START C=24.792131281525027, gamma=6.3098080943943815, kernel=rbf\n",
      "[CV 4/5; 251/400] END C=24.792131281525027, gamma=6.3098080943943815, kernel=rbf;, score=0.508 total time=  14.1s\n",
      "[CV 5/5; 251/400] START C=24.792131281525027, gamma=6.3098080943943815, kernel=rbf\n"
     ]
    },
    {
     "name": "stdout",
     "output_type": "stream",
     "text": [
      "[CV 5/5; 251/400] END C=24.792131281525027, gamma=6.3098080943943815, kernel=rbf;, score=0.508 total time=  14.4s\n",
      "[CV 1/5; 252/400] START C=24.792131281525027, gamma=12.507341469611143, kernel=rbf\n",
      "[CV 1/5; 252/400] END C=24.792131281525027, gamma=12.507341469611143, kernel=rbf;, score=0.506 total time=  13.6s\n",
      "[CV 2/5; 252/400] START C=24.792131281525027, gamma=12.507341469611143, kernel=rbf\n",
      "[CV 2/5; 252/400] END C=24.792131281525027, gamma=12.507341469611143, kernel=rbf;, score=0.509 total time=  14.0s\n",
      "[CV 3/5; 252/400] START C=24.792131281525027, gamma=12.507341469611143, kernel=rbf\n",
      "[CV 3/5; 252/400] END C=24.792131281525027, gamma=12.507341469611143, kernel=rbf;, score=0.507 total time=  13.4s\n",
      "[CV 4/5; 252/400] START C=24.792131281525027, gamma=12.507341469611143, kernel=rbf\n",
      "[CV 4/5; 252/400] END C=24.792131281525027, gamma=12.507341469611143, kernel=rbf;, score=0.508 total time=  14.2s\n",
      "[CV 5/5; 252/400] START C=24.792131281525027, gamma=12.507341469611143, kernel=rbf\n",
      "[CV 5/5; 252/400] END C=24.792131281525027, gamma=12.507341469611143, kernel=rbf;, score=0.508 total time=  13.4s\n",
      "[CV 1/5; 253/400] START C=24.792131281525027, gamma=24.792131281525027, kernel=rbf\n",
      "[CV 1/5; 253/400] END C=24.792131281525027, gamma=24.792131281525027, kernel=rbf;, score=0.506 total time=  13.6s\n",
      "[CV 2/5; 253/400] START C=24.792131281525027, gamma=24.792131281525027, kernel=rbf\n",
      "[CV 2/5; 253/400] END C=24.792131281525027, gamma=24.792131281525027, kernel=rbf;, score=0.509 total time=  14.0s\n",
      "[CV 3/5; 253/400] START C=24.792131281525027, gamma=24.792131281525027, kernel=rbf\n",
      "[CV 3/5; 253/400] END C=24.792131281525027, gamma=24.792131281525027, kernel=rbf;, score=0.507 total time=  19.2s\n",
      "[CV 4/5; 253/400] START C=24.792131281525027, gamma=24.792131281525027, kernel=rbf\n",
      "[CV 4/5; 253/400] END C=24.792131281525027, gamma=24.792131281525027, kernel=rbf;, score=0.508 total time=  14.3s\n",
      "[CV 5/5; 253/400] START C=24.792131281525027, gamma=24.792131281525027, kernel=rbf\n",
      "[CV 5/5; 253/400] END C=24.792131281525027, gamma=24.792131281525027, kernel=rbf;, score=0.508 total time=  14.2s\n",
      "[CV 1/5; 254/400] START C=24.792131281525027, gamma=49.143119261097524, kernel=rbf\n",
      "[CV 1/5; 254/400] END C=24.792131281525027, gamma=49.143119261097524, kernel=rbf;, score=0.506 total time=  13.4s\n",
      "[CV 2/5; 254/400] START C=24.792131281525027, gamma=49.143119261097524, kernel=rbf\n",
      "[CV 2/5; 254/400] END C=24.792131281525027, gamma=49.143119261097524, kernel=rbf;, score=0.509 total time=  12.8s\n",
      "[CV 3/5; 254/400] START C=24.792131281525027, gamma=49.143119261097524, kernel=rbf\n",
      "[CV 3/5; 254/400] END C=24.792131281525027, gamma=49.143119261097524, kernel=rbf;, score=0.507 total time=  12.6s\n",
      "[CV 4/5; 254/400] START C=24.792131281525027, gamma=49.143119261097524, kernel=rbf\n",
      "[CV 4/5; 254/400] END C=24.792131281525027, gamma=49.143119261097524, kernel=rbf;, score=0.508 total time=  12.8s\n",
      "[CV 5/5; 254/400] START C=24.792131281525027, gamma=49.143119261097524, kernel=rbf\n",
      "[CV 5/5; 254/400] END C=24.792131281525027, gamma=49.143119261097524, kernel=rbf;, score=0.508 total time=  13.2s\n",
      "[CV 1/5; 255/400] START C=24.792131281525027, gamma=97.41180148195387, kernel=rbf\n",
      "[CV 1/5; 255/400] END C=24.792131281525027, gamma=97.41180148195387, kernel=rbf;, score=0.506 total time=  13.2s\n",
      "[CV 2/5; 255/400] START C=24.792131281525027, gamma=97.41180148195387, kernel=rbf\n",
      "[CV 2/5; 255/400] END C=24.792131281525027, gamma=97.41180148195387, kernel=rbf;, score=0.509 total time=  12.0s\n",
      "[CV 3/5; 255/400] START C=24.792131281525027, gamma=97.41180148195387, kernel=rbf\n",
      "[CV 3/5; 255/400] END C=24.792131281525027, gamma=97.41180148195387, kernel=rbf;, score=0.507 total time=  12.2s\n",
      "[CV 4/5; 255/400] START C=24.792131281525027, gamma=97.41180148195387, kernel=rbf\n",
      "[CV 4/5; 255/400] END C=24.792131281525027, gamma=97.41180148195387, kernel=rbf;, score=0.508 total time=  13.1s\n",
      "[CV 5/5; 255/400] START C=24.792131281525027, gamma=97.41180148195387, kernel=rbf\n",
      "[CV 5/5; 255/400] END C=24.792131281525027, gamma=97.41180148195387, kernel=rbf;, score=0.508 total time=  13.1s\n",
      "[CV 1/5; 256/400] START C=24.792131281525027, gamma=193.0902883381129, kernel=rbf\n",
      "[CV 1/5; 256/400] END C=24.792131281525027, gamma=193.0902883381129, kernel=rbf;, score=0.506 total time=  15.2s\n",
      "[CV 2/5; 256/400] START C=24.792131281525027, gamma=193.0902883381129, kernel=rbf\n",
      "[CV 2/5; 256/400] END C=24.792131281525027, gamma=193.0902883381129, kernel=rbf;, score=0.509 total time=  22.9s\n",
      "[CV 3/5; 256/400] START C=24.792131281525027, gamma=193.0902883381129, kernel=rbf\n",
      "[CV 3/5; 256/400] END C=24.792131281525027, gamma=193.0902883381129, kernel=rbf;, score=0.507 total time=  15.1s\n",
      "[CV 4/5; 256/400] START C=24.792131281525027, gamma=193.0902883381129, kernel=rbf\n",
      "[CV 4/5; 256/400] END C=24.792131281525027, gamma=193.0902883381129, kernel=rbf;, score=0.508 total time=  16.0s\n",
      "[CV 5/5; 256/400] START C=24.792131281525027, gamma=193.0902883381129, kernel=rbf\n",
      "[CV 5/5; 256/400] END C=24.792131281525027, gamma=193.0902883381129, kernel=rbf;, score=0.508 total time=  16.0s\n",
      "[CV 1/5; 257/400] START C=24.792131281525027, gamma=382.7447894740212, kernel=rbf\n",
      "[CV 1/5; 257/400] END C=24.792131281525027, gamma=382.7447894740212, kernel=rbf;, score=0.506 total time=  13.7s\n",
      "[CV 2/5; 257/400] START C=24.792131281525027, gamma=382.7447894740212, kernel=rbf\n",
      "[CV 2/5; 257/400] END C=24.792131281525027, gamma=382.7447894740212, kernel=rbf;, score=0.509 total time=  14.5s\n",
      "[CV 3/5; 257/400] START C=24.792131281525027, gamma=382.7447894740212, kernel=rbf\n",
      "[CV 3/5; 257/400] END C=24.792131281525027, gamma=382.7447894740212, kernel=rbf;, score=0.507 total time=  18.2s\n",
      "[CV 4/5; 257/400] START C=24.792131281525027, gamma=382.7447894740212, kernel=rbf\n",
      "[CV 4/5; 257/400] END C=24.792131281525027, gamma=382.7447894740212, kernel=rbf;, score=0.508 total time=  13.7s\n",
      "[CV 5/5; 257/400] START C=24.792131281525027, gamma=382.7447894740212, kernel=rbf\n",
      "[CV 5/5; 257/400] END C=24.792131281525027, gamma=382.7447894740212, kernel=rbf;, score=0.508 total time=  13.2s\n",
      "[CV 1/5; 258/400] START C=24.792131281525027, gamma=758.679139848782, kernel=rbf\n",
      "[CV 1/5; 258/400] END C=24.792131281525027, gamma=758.679139848782, kernel=rbf;, score=0.506 total time=  12.9s\n",
      "[CV 2/5; 258/400] START C=24.792131281525027, gamma=758.679139848782, kernel=rbf\n",
      "[CV 2/5; 258/400] END C=24.792131281525027, gamma=758.679139848782, kernel=rbf;, score=0.508 total time=  13.7s\n",
      "[CV 3/5; 258/400] START C=24.792131281525027, gamma=758.679139848782, kernel=rbf\n",
      "[CV 3/5; 258/400] END C=24.792131281525027, gamma=758.679139848782, kernel=rbf;, score=0.506 total time=  13.3s\n",
      "[CV 4/5; 258/400] START C=24.792131281525027, gamma=758.679139848782, kernel=rbf\n",
      "[CV 4/5; 258/400] END C=24.792131281525027, gamma=758.679139848782, kernel=rbf;, score=0.508 total time=  13.1s\n",
      "[CV 5/5; 258/400] START C=24.792131281525027, gamma=758.679139848782, kernel=rbf\n",
      "[CV 5/5; 258/400] END C=24.792131281525027, gamma=758.679139848782, kernel=rbf;, score=0.508 total time=  13.4s\n",
      "[CV 1/5; 259/400] START C=24.792131281525027, gamma=1503.8585842871576, kernel=rbf\n",
      "[CV 1/5; 259/400] END C=24.792131281525027, gamma=1503.8585842871576, kernel=rbf;, score=0.506 total time=  12.8s\n",
      "[CV 2/5; 259/400] START C=24.792131281525027, gamma=1503.8585842871576, kernel=rbf\n",
      "[CV 2/5; 259/400] END C=24.792131281525027, gamma=1503.8585842871576, kernel=rbf;, score=0.508 total time=  13.7s\n",
      "[CV 3/5; 259/400] START C=24.792131281525027, gamma=1503.8585842871576, kernel=rbf\n",
      "[CV 3/5; 259/400] END C=24.792131281525027, gamma=1503.8585842871576, kernel=rbf;, score=0.506 total time=  15.0s\n",
      "[CV 4/5; 259/400] START C=24.792131281525027, gamma=1503.8585842871576, kernel=rbf\n",
      "[CV 4/5; 259/400] END C=24.792131281525027, gamma=1503.8585842871576, kernel=rbf;, score=0.508 total time=  14.9s\n",
      "[CV 5/5; 259/400] START C=24.792131281525027, gamma=1503.8585842871576, kernel=rbf\n",
      "[CV 5/5; 259/400] END C=24.792131281525027, gamma=1503.8585842871576, kernel=rbf;, score=0.508 total time=  13.5s\n",
      "[CV 1/5; 260/400] START C=24.792131281525027, gamma=2980.957987041727, kernel=rbf\n",
      "[CV 1/5; 260/400] END C=24.792131281525027, gamma=2980.957987041727, kernel=rbf;, score=0.506 total time=  16.7s\n",
      "[CV 2/5; 260/400] START C=24.792131281525027, gamma=2980.957987041727, kernel=rbf\n"
     ]
    },
    {
     "name": "stdout",
     "output_type": "stream",
     "text": [
      "[CV 2/5; 260/400] END C=24.792131281525027, gamma=2980.957987041727, kernel=rbf;, score=0.508 total time=  15.6s\n",
      "[CV 3/5; 260/400] START C=24.792131281525027, gamma=2980.957987041727, kernel=rbf\n",
      "[CV 3/5; 260/400] END C=24.792131281525027, gamma=2980.957987041727, kernel=rbf;, score=0.506 total time=  13.0s\n",
      "[CV 4/5; 260/400] START C=24.792131281525027, gamma=2980.957987041727, kernel=rbf\n",
      "[CV 4/5; 260/400] END C=24.792131281525027, gamma=2980.957987041727, kernel=rbf;, score=0.508 total time=  13.3s\n",
      "[CV 5/5; 260/400] START C=24.792131281525027, gamma=2980.957987041727, kernel=rbf\n",
      "[CV 5/5; 260/400] END C=24.792131281525027, gamma=2980.957987041727, kernel=rbf;, score=0.508 total time=  13.2s\n",
      "[CV 1/5; 261/400] START C=49.143119261097524, gamma=0.006737946999085469, kernel=rbf\n",
      "[CV 1/5; 261/400] END C=49.143119261097524, gamma=0.006737946999085469, kernel=rbf;, score=0.864 total time=  10.2s\n",
      "[CV 2/5; 261/400] START C=49.143119261097524, gamma=0.006737946999085469, kernel=rbf\n",
      "[CV 2/5; 261/400] END C=49.143119261097524, gamma=0.006737946999085469, kernel=rbf;, score=0.870 total time=   9.8s\n",
      "[CV 3/5; 261/400] START C=49.143119261097524, gamma=0.006737946999085469, kernel=rbf\n",
      "[CV 3/5; 261/400] END C=49.143119261097524, gamma=0.006737946999085469, kernel=rbf;, score=0.844 total time=   9.3s\n",
      "[CV 4/5; 261/400] START C=49.143119261097524, gamma=0.006737946999085469, kernel=rbf\n",
      "[CV 4/5; 261/400] END C=49.143119261097524, gamma=0.006737946999085469, kernel=rbf;, score=0.870 total time=   9.9s\n",
      "[CV 5/5; 261/400] START C=49.143119261097524, gamma=0.006737946999085469, kernel=rbf\n",
      "[CV 5/5; 261/400] END C=49.143119261097524, gamma=0.006737946999085469, kernel=rbf;, score=0.884 total time=  11.6s\n",
      "[CV 1/5; 262/400] START C=49.143119261097524, gamma=0.013356001111439869, kernel=rbf\n",
      "[CV 1/5; 262/400] END C=49.143119261097524, gamma=0.013356001111439869, kernel=rbf;, score=0.854 total time=  15.5s\n",
      "[CV 2/5; 262/400] START C=49.143119261097524, gamma=0.013356001111439869, kernel=rbf\n",
      "[CV 2/5; 262/400] END C=49.143119261097524, gamma=0.013356001111439869, kernel=rbf;, score=0.865 total time=  11.5s\n",
      "[CV 3/5; 262/400] START C=49.143119261097524, gamma=0.013356001111439869, kernel=rbf\n",
      "[CV 3/5; 262/400] END C=49.143119261097524, gamma=0.013356001111439869, kernel=rbf;, score=0.844 total time=  12.0s\n",
      "[CV 4/5; 262/400] START C=49.143119261097524, gamma=0.013356001111439869, kernel=rbf\n",
      "[CV 4/5; 262/400] END C=49.143119261097524, gamma=0.013356001111439869, kernel=rbf;, score=0.870 total time=  12.2s\n",
      "[CV 5/5; 262/400] START C=49.143119261097524, gamma=0.013356001111439869, kernel=rbf\n",
      "[CV 5/5; 262/400] END C=49.143119261097524, gamma=0.013356001111439869, kernel=rbf;, score=0.876 total time=  11.9s\n",
      "[CV 1/5; 263/400] START C=49.143119261097524, gamma=0.026474349785326985, kernel=rbf\n",
      "[CV 1/5; 263/400] END C=49.143119261097524, gamma=0.026474349785326985, kernel=rbf;, score=0.852 total time=  11.8s\n",
      "[CV 2/5; 263/400] START C=49.143119261097524, gamma=0.026474349785326985, kernel=rbf\n",
      "[CV 2/5; 263/400] END C=49.143119261097524, gamma=0.026474349785326985, kernel=rbf;, score=0.866 total time=  11.7s\n",
      "[CV 3/5; 263/400] START C=49.143119261097524, gamma=0.026474349785326985, kernel=rbf\n",
      "[CV 3/5; 263/400] END C=49.143119261097524, gamma=0.026474349785326985, kernel=rbf;, score=0.846 total time=  11.7s\n",
      "[CV 4/5; 263/400] START C=49.143119261097524, gamma=0.026474349785326985, kernel=rbf\n",
      "[CV 4/5; 263/400] END C=49.143119261097524, gamma=0.026474349785326985, kernel=rbf;, score=0.868 total time=  12.8s\n",
      "[CV 5/5; 263/400] START C=49.143119261097524, gamma=0.026474349785326985, kernel=rbf\n",
      "[CV 5/5; 263/400] END C=49.143119261097524, gamma=0.026474349785326985, kernel=rbf;, score=0.868 total time=  11.9s\n",
      "[CV 1/5; 264/400] START C=49.143119261097524, gamma=0.052477623407466346, kernel=rbf\n",
      "[CV 1/5; 264/400] END C=49.143119261097524, gamma=0.052477623407466346, kernel=rbf;, score=0.852 total time=  12.2s\n",
      "[CV 2/5; 264/400] START C=49.143119261097524, gamma=0.052477623407466346, kernel=rbf\n",
      "[CV 2/5; 264/400] END C=49.143119261097524, gamma=0.052477623407466346, kernel=rbf;, score=0.867 total time=  12.3s\n",
      "[CV 3/5; 264/400] START C=49.143119261097524, gamma=0.052477623407466346, kernel=rbf\n",
      "[CV 3/5; 264/400] END C=49.143119261097524, gamma=0.052477623407466346, kernel=rbf;, score=0.848 total time=  11.5s\n",
      "[CV 4/5; 264/400] START C=49.143119261097524, gamma=0.052477623407466346, kernel=rbf\n",
      "[CV 4/5; 264/400] END C=49.143119261097524, gamma=0.052477623407466346, kernel=rbf;, score=0.869 total time=  12.6s\n",
      "[CV 5/5; 264/400] START C=49.143119261097524, gamma=0.052477623407466346, kernel=rbf\n",
      "[CV 5/5; 264/400] END C=49.143119261097524, gamma=0.052477623407466346, kernel=rbf;, score=0.870 total time=  12.0s\n",
      "[CV 1/5; 265/400] START C=49.143119261097524, gamma=0.10402147666803764, kernel=rbf\n",
      "[CV 1/5; 265/400] END C=49.143119261097524, gamma=0.10402147666803764, kernel=rbf;, score=0.855 total time=  12.7s\n",
      "[CV 2/5; 265/400] START C=49.143119261097524, gamma=0.10402147666803764, kernel=rbf\n",
      "[CV 2/5; 265/400] END C=49.143119261097524, gamma=0.10402147666803764, kernel=rbf;, score=0.868 total time=  12.5s\n",
      "[CV 3/5; 265/400] START C=49.143119261097524, gamma=0.10402147666803764, kernel=rbf\n",
      "[CV 3/5; 265/400] END C=49.143119261097524, gamma=0.10402147666803764, kernel=rbf;, score=0.845 total time=  12.3s\n",
      "[CV 4/5; 265/400] START C=49.143119261097524, gamma=0.10402147666803764, kernel=rbf\n",
      "[CV 4/5; 265/400] END C=49.143119261097524, gamma=0.10402147666803764, kernel=rbf;, score=0.867 total time=  12.2s\n",
      "[CV 5/5; 265/400] START C=49.143119261097524, gamma=0.10402147666803764, kernel=rbf\n",
      "[CV 5/5; 265/400] END C=49.143119261097524, gamma=0.10402147666803764, kernel=rbf;, score=0.870 total time=  12.3s\n",
      "[CV 1/5; 266/400] START C=49.143119261097524, gamma=0.20619202825140895, kernel=rbf\n",
      "[CV 1/5; 266/400] END C=49.143119261097524, gamma=0.20619202825140895, kernel=rbf;, score=0.857 total time=  13.1s\n",
      "[CV 2/5; 266/400] START C=49.143119261097524, gamma=0.20619202825140895, kernel=rbf\n",
      "[CV 2/5; 266/400] END C=49.143119261097524, gamma=0.20619202825140895, kernel=rbf;, score=0.870 total time=  15.2s\n",
      "[CV 3/5; 266/400] START C=49.143119261097524, gamma=0.20619202825140895, kernel=rbf\n",
      "[CV 3/5; 266/400] END C=49.143119261097524, gamma=0.20619202825140895, kernel=rbf;, score=0.847 total time=  12.1s\n",
      "[CV 4/5; 266/400] START C=49.143119261097524, gamma=0.20619202825140895, kernel=rbf\n",
      "[CV 4/5; 266/400] END C=49.143119261097524, gamma=0.20619202825140895, kernel=rbf;, score=0.867 total time=  12.4s\n",
      "[CV 5/5; 266/400] START C=49.143119261097524, gamma=0.20619202825140895, kernel=rbf\n",
      "[CV 5/5; 266/400] END C=49.143119261097524, gamma=0.20619202825140895, kernel=rbf;, score=0.874 total time=  13.1s\n",
      "[CV 1/5; 267/400] START C=49.143119261097524, gamma=0.40871514110598417, kernel=rbf\n",
      "[CV 1/5; 267/400] END C=49.143119261097524, gamma=0.40871514110598417, kernel=rbf;, score=0.865 total time=  12.5s\n",
      "[CV 2/5; 267/400] START C=49.143119261097524, gamma=0.40871514110598417, kernel=rbf\n",
      "[CV 2/5; 267/400] END C=49.143119261097524, gamma=0.40871514110598417, kernel=rbf;, score=0.870 total time=  13.0s\n",
      "[CV 3/5; 267/400] START C=49.143119261097524, gamma=0.40871514110598417, kernel=rbf\n",
      "[CV 3/5; 267/400] END C=49.143119261097524, gamma=0.40871514110598417, kernel=rbf;, score=0.848 total time=  14.3s\n",
      "[CV 4/5; 267/400] START C=49.143119261097524, gamma=0.40871514110598417, kernel=rbf\n",
      "[CV 4/5; 267/400] END C=49.143119261097524, gamma=0.40871514110598417, kernel=rbf;, score=0.867 total time=  14.5s\n",
      "[CV 5/5; 267/400] START C=49.143119261097524, gamma=0.40871514110598417, kernel=rbf\n",
      "[CV 5/5; 267/400] END C=49.143119261097524, gamma=0.40871514110598417, kernel=rbf;, score=0.879 total time=  13.8s\n",
      "[CV 1/5; 268/400] START C=49.143119261097524, gamma=0.8101577349324269, kernel=rbf\n",
      "[CV 1/5; 268/400] END C=49.143119261097524, gamma=0.8101577349324269, kernel=rbf;, score=0.870 total time=  13.6s\n",
      "[CV 2/5; 268/400] START C=49.143119261097524, gamma=0.8101577349324269, kernel=rbf\n",
      "[CV 2/5; 268/400] END C=49.143119261097524, gamma=0.8101577349324269, kernel=rbf;, score=0.869 total time=  13.6s\n",
      "[CV 3/5; 268/400] START C=49.143119261097524, gamma=0.8101577349324269, kernel=rbf\n",
      "[CV 3/5; 268/400] END C=49.143119261097524, gamma=0.8101577349324269, kernel=rbf;, score=0.839 total time=  12.0s\n",
      "[CV 4/5; 268/400] START C=49.143119261097524, gamma=0.8101577349324269, kernel=rbf\n"
     ]
    },
    {
     "name": "stdout",
     "output_type": "stream",
     "text": [
      "[CV 4/5; 268/400] END C=49.143119261097524, gamma=0.8101577349324269, kernel=rbf;, score=0.873 total time=  12.0s\n",
      "[CV 5/5; 268/400] START C=49.143119261097524, gamma=0.8101577349324269, kernel=rbf\n",
      "[CV 5/5; 268/400] END C=49.143119261097524, gamma=0.8101577349324269, kernel=rbf;, score=0.880 total time=  13.1s\n",
      "[CV 1/5; 269/400] START C=49.143119261097524, gamma=1.6058997806999291, kernel=rbf\n",
      "[CV 1/5; 269/400] END C=49.143119261097524, gamma=1.6058997806999291, kernel=rbf;, score=0.877 total time=  14.9s\n",
      "[CV 2/5; 269/400] START C=49.143119261097524, gamma=1.6058997806999291, kernel=rbf\n",
      "[CV 2/5; 269/400] END C=49.143119261097524, gamma=1.6058997806999291, kernel=rbf;, score=0.873 total time=  14.7s\n",
      "[CV 3/5; 269/400] START C=49.143119261097524, gamma=1.6058997806999291, kernel=rbf\n",
      "[CV 3/5; 269/400] END C=49.143119261097524, gamma=1.6058997806999291, kernel=rbf;, score=0.838 total time=  13.7s\n",
      "[CV 4/5; 269/400] START C=49.143119261097524, gamma=1.6058997806999291, kernel=rbf\n",
      "[CV 4/5; 269/400] END C=49.143119261097524, gamma=1.6058997806999291, kernel=rbf;, score=0.867 total time=  13.6s\n",
      "[CV 5/5; 269/400] START C=49.143119261097524, gamma=1.6058997806999291, kernel=rbf\n",
      "[CV 5/5; 269/400] END C=49.143119261097524, gamma=1.6058997806999291, kernel=rbf;, score=0.877 total time=  14.0s\n",
      "[CV 1/5; 270/400] START C=49.143119261097524, gamma=3.1832246912598827, kernel=rbf\n",
      "[CV 1/5; 270/400] END C=49.143119261097524, gamma=3.1832246912598827, kernel=rbf;, score=0.846 total time=  13.8s\n",
      "[CV 2/5; 270/400] START C=49.143119261097524, gamma=3.1832246912598827, kernel=rbf\n",
      "[CV 2/5; 270/400] END C=49.143119261097524, gamma=3.1832246912598827, kernel=rbf;, score=0.845 total time=  13.1s\n",
      "[CV 3/5; 270/400] START C=49.143119261097524, gamma=3.1832246912598827, kernel=rbf\n",
      "[CV 3/5; 270/400] END C=49.143119261097524, gamma=3.1832246912598827, kernel=rbf;, score=0.837 total time=  12.7s\n",
      "[CV 4/5; 270/400] START C=49.143119261097524, gamma=3.1832246912598827, kernel=rbf\n",
      "[CV 4/5; 270/400] END C=49.143119261097524, gamma=3.1832246912598827, kernel=rbf;, score=0.841 total time=  14.7s\n",
      "[CV 5/5; 270/400] START C=49.143119261097524, gamma=3.1832246912598827, kernel=rbf\n",
      "[CV 5/5; 270/400] END C=49.143119261097524, gamma=3.1832246912598827, kernel=rbf;, score=0.843 total time=  13.7s\n",
      "[CV 1/5; 271/400] START C=49.143119261097524, gamma=6.3098080943943815, kernel=rbf\n",
      "[CV 1/5; 271/400] END C=49.143119261097524, gamma=6.3098080943943815, kernel=rbf;, score=0.506 total time=  13.7s\n",
      "[CV 2/5; 271/400] START C=49.143119261097524, gamma=6.3098080943943815, kernel=rbf\n",
      "[CV 2/5; 271/400] END C=49.143119261097524, gamma=6.3098080943943815, kernel=rbf;, score=0.509 total time=  12.3s\n",
      "[CV 3/5; 271/400] START C=49.143119261097524, gamma=6.3098080943943815, kernel=rbf\n",
      "[CV 3/5; 271/400] END C=49.143119261097524, gamma=6.3098080943943815, kernel=rbf;, score=0.507 total time=  11.9s\n",
      "[CV 4/5; 271/400] START C=49.143119261097524, gamma=6.3098080943943815, kernel=rbf\n",
      "[CV 4/5; 271/400] END C=49.143119261097524, gamma=6.3098080943943815, kernel=rbf;, score=0.508 total time=  12.2s\n",
      "[CV 5/5; 271/400] START C=49.143119261097524, gamma=6.3098080943943815, kernel=rbf\n",
      "[CV 5/5; 271/400] END C=49.143119261097524, gamma=6.3098080943943815, kernel=rbf;, score=0.508 total time=  12.0s\n",
      "[CV 1/5; 272/400] START C=49.143119261097524, gamma=12.507341469611143, kernel=rbf\n",
      "[CV 1/5; 272/400] END C=49.143119261097524, gamma=12.507341469611143, kernel=rbf;, score=0.506 total time=  14.3s\n",
      "[CV 2/5; 272/400] START C=49.143119261097524, gamma=12.507341469611143, kernel=rbf\n",
      "[CV 2/5; 272/400] END C=49.143119261097524, gamma=12.507341469611143, kernel=rbf;, score=0.509 total time=  12.3s\n",
      "[CV 3/5; 272/400] START C=49.143119261097524, gamma=12.507341469611143, kernel=rbf\n",
      "[CV 3/5; 272/400] END C=49.143119261097524, gamma=12.507341469611143, kernel=rbf;, score=0.507 total time=  13.1s\n",
      "[CV 4/5; 272/400] START C=49.143119261097524, gamma=12.507341469611143, kernel=rbf\n",
      "[CV 4/5; 272/400] END C=49.143119261097524, gamma=12.507341469611143, kernel=rbf;, score=0.508 total time=  13.4s\n",
      "[CV 5/5; 272/400] START C=49.143119261097524, gamma=12.507341469611143, kernel=rbf\n",
      "[CV 5/5; 272/400] END C=49.143119261097524, gamma=12.507341469611143, kernel=rbf;, score=0.508 total time=  14.1s\n",
      "[CV 1/5; 273/400] START C=49.143119261097524, gamma=24.792131281525027, kernel=rbf\n",
      "[CV 1/5; 273/400] END C=49.143119261097524, gamma=24.792131281525027, kernel=rbf;, score=0.506 total time=  12.8s\n",
      "[CV 2/5; 273/400] START C=49.143119261097524, gamma=24.792131281525027, kernel=rbf\n",
      "[CV 2/5; 273/400] END C=49.143119261097524, gamma=24.792131281525027, kernel=rbf;, score=0.509 total time=  12.5s\n",
      "[CV 3/5; 273/400] START C=49.143119261097524, gamma=24.792131281525027, kernel=rbf\n",
      "[CV 3/5; 273/400] END C=49.143119261097524, gamma=24.792131281525027, kernel=rbf;, score=0.507 total time=  17.0s\n",
      "[CV 4/5; 273/400] START C=49.143119261097524, gamma=24.792131281525027, kernel=rbf\n",
      "[CV 4/5; 273/400] END C=49.143119261097524, gamma=24.792131281525027, kernel=rbf;, score=0.508 total time=  15.4s\n",
      "[CV 5/5; 273/400] START C=49.143119261097524, gamma=24.792131281525027, kernel=rbf\n",
      "[CV 5/5; 273/400] END C=49.143119261097524, gamma=24.792131281525027, kernel=rbf;, score=0.508 total time=  12.8s\n",
      "[CV 1/5; 274/400] START C=49.143119261097524, gamma=49.143119261097524, kernel=rbf\n",
      "[CV 1/5; 274/400] END C=49.143119261097524, gamma=49.143119261097524, kernel=rbf;, score=0.506 total time=  12.2s\n",
      "[CV 2/5; 274/400] START C=49.143119261097524, gamma=49.143119261097524, kernel=rbf\n",
      "[CV 2/5; 274/400] END C=49.143119261097524, gamma=49.143119261097524, kernel=rbf;, score=0.509 total time=  13.0s\n",
      "[CV 3/5; 274/400] START C=49.143119261097524, gamma=49.143119261097524, kernel=rbf\n",
      "[CV 3/5; 274/400] END C=49.143119261097524, gamma=49.143119261097524, kernel=rbf;, score=0.507 total time=  13.2s\n",
      "[CV 4/5; 274/400] START C=49.143119261097524, gamma=49.143119261097524, kernel=rbf\n",
      "[CV 4/5; 274/400] END C=49.143119261097524, gamma=49.143119261097524, kernel=rbf;, score=0.508 total time=  14.0s\n",
      "[CV 5/5; 274/400] START C=49.143119261097524, gamma=49.143119261097524, kernel=rbf\n",
      "[CV 5/5; 274/400] END C=49.143119261097524, gamma=49.143119261097524, kernel=rbf;, score=0.508 total time=  13.7s\n",
      "[CV 1/5; 275/400] START C=49.143119261097524, gamma=97.41180148195387, kernel=rbf\n",
      "[CV 1/5; 275/400] END C=49.143119261097524, gamma=97.41180148195387, kernel=rbf;, score=0.506 total time=  15.2s\n",
      "[CV 2/5; 275/400] START C=49.143119261097524, gamma=97.41180148195387, kernel=rbf\n",
      "[CV 2/5; 275/400] END C=49.143119261097524, gamma=97.41180148195387, kernel=rbf;, score=0.509 total time=  13.4s\n",
      "[CV 3/5; 275/400] START C=49.143119261097524, gamma=97.41180148195387, kernel=rbf\n",
      "[CV 3/5; 275/400] END C=49.143119261097524, gamma=97.41180148195387, kernel=rbf;, score=0.507 total time=  13.5s\n",
      "[CV 4/5; 275/400] START C=49.143119261097524, gamma=97.41180148195387, kernel=rbf\n",
      "[CV 4/5; 275/400] END C=49.143119261097524, gamma=97.41180148195387, kernel=rbf;, score=0.508 total time=  14.4s\n",
      "[CV 5/5; 275/400] START C=49.143119261097524, gamma=97.41180148195387, kernel=rbf\n",
      "[CV 5/5; 275/400] END C=49.143119261097524, gamma=97.41180148195387, kernel=rbf;, score=0.508 total time=  13.9s\n",
      "[CV 1/5; 276/400] START C=49.143119261097524, gamma=193.0902883381129, kernel=rbf\n",
      "[CV 1/5; 276/400] END C=49.143119261097524, gamma=193.0902883381129, kernel=rbf;, score=0.506 total time=  13.0s\n",
      "[CV 2/5; 276/400] START C=49.143119261097524, gamma=193.0902883381129, kernel=rbf\n",
      "[CV 2/5; 276/400] END C=49.143119261097524, gamma=193.0902883381129, kernel=rbf;, score=0.509 total time=  13.3s\n",
      "[CV 3/5; 276/400] START C=49.143119261097524, gamma=193.0902883381129, kernel=rbf\n",
      "[CV 3/5; 276/400] END C=49.143119261097524, gamma=193.0902883381129, kernel=rbf;, score=0.507 total time=  13.3s\n",
      "[CV 4/5; 276/400] START C=49.143119261097524, gamma=193.0902883381129, kernel=rbf\n",
      "[CV 4/5; 276/400] END C=49.143119261097524, gamma=193.0902883381129, kernel=rbf;, score=0.508 total time=  13.3s\n",
      "[CV 5/5; 276/400] START C=49.143119261097524, gamma=193.0902883381129, kernel=rbf\n",
      "[CV 5/5; 276/400] END C=49.143119261097524, gamma=193.0902883381129, kernel=rbf;, score=0.508 total time=  15.6s\n",
      "[CV 1/5; 277/400] START C=49.143119261097524, gamma=382.7447894740212, kernel=rbf\n"
     ]
    },
    {
     "name": "stdout",
     "output_type": "stream",
     "text": [
      "[CV 1/5; 277/400] END C=49.143119261097524, gamma=382.7447894740212, kernel=rbf;, score=0.506 total time=  15.4s\n",
      "[CV 2/5; 277/400] START C=49.143119261097524, gamma=382.7447894740212, kernel=rbf\n",
      "[CV 2/5; 277/400] END C=49.143119261097524, gamma=382.7447894740212, kernel=rbf;, score=0.509 total time=  14.1s\n",
      "[CV 3/5; 277/400] START C=49.143119261097524, gamma=382.7447894740212, kernel=rbf\n",
      "[CV 3/5; 277/400] END C=49.143119261097524, gamma=382.7447894740212, kernel=rbf;, score=0.507 total time=  13.1s\n",
      "[CV 4/5; 277/400] START C=49.143119261097524, gamma=382.7447894740212, kernel=rbf\n",
      "[CV 4/5; 277/400] END C=49.143119261097524, gamma=382.7447894740212, kernel=rbf;, score=0.508 total time=  13.7s\n",
      "[CV 5/5; 277/400] START C=49.143119261097524, gamma=382.7447894740212, kernel=rbf\n",
      "[CV 5/5; 277/400] END C=49.143119261097524, gamma=382.7447894740212, kernel=rbf;, score=0.508 total time=  12.4s\n",
      "[CV 1/5; 278/400] START C=49.143119261097524, gamma=758.679139848782, kernel=rbf\n",
      "[CV 1/5; 278/400] END C=49.143119261097524, gamma=758.679139848782, kernel=rbf;, score=0.506 total time=  13.0s\n",
      "[CV 2/5; 278/400] START C=49.143119261097524, gamma=758.679139848782, kernel=rbf\n",
      "[CV 2/5; 278/400] END C=49.143119261097524, gamma=758.679139848782, kernel=rbf;, score=0.508 total time=  13.1s\n",
      "[CV 3/5; 278/400] START C=49.143119261097524, gamma=758.679139848782, kernel=rbf\n",
      "[CV 3/5; 278/400] END C=49.143119261097524, gamma=758.679139848782, kernel=rbf;, score=0.506 total time=  13.6s\n",
      "[CV 4/5; 278/400] START C=49.143119261097524, gamma=758.679139848782, kernel=rbf\n",
      "[CV 4/5; 278/400] END C=49.143119261097524, gamma=758.679139848782, kernel=rbf;, score=0.508 total time=  13.8s\n",
      "[CV 5/5; 278/400] START C=49.143119261097524, gamma=758.679139848782, kernel=rbf\n",
      "[CV 5/5; 278/400] END C=49.143119261097524, gamma=758.679139848782, kernel=rbf;, score=0.508 total time=  13.5s\n",
      "[CV 1/5; 279/400] START C=49.143119261097524, gamma=1503.8585842871576, kernel=rbf\n",
      "[CV 1/5; 279/400] END C=49.143119261097524, gamma=1503.8585842871576, kernel=rbf;, score=0.506 total time=  14.9s\n",
      "[CV 2/5; 279/400] START C=49.143119261097524, gamma=1503.8585842871576, kernel=rbf\n",
      "[CV 2/5; 279/400] END C=49.143119261097524, gamma=1503.8585842871576, kernel=rbf;, score=0.508 total time=  14.8s\n",
      "[CV 3/5; 279/400] START C=49.143119261097524, gamma=1503.8585842871576, kernel=rbf\n",
      "[CV 3/5; 279/400] END C=49.143119261097524, gamma=1503.8585842871576, kernel=rbf;, score=0.506 total time=  13.5s\n",
      "[CV 4/5; 279/400] START C=49.143119261097524, gamma=1503.8585842871576, kernel=rbf\n",
      "[CV 4/5; 279/400] END C=49.143119261097524, gamma=1503.8585842871576, kernel=rbf;, score=0.508 total time=  19.2s\n",
      "[CV 5/5; 279/400] START C=49.143119261097524, gamma=1503.8585842871576, kernel=rbf\n",
      "[CV 5/5; 279/400] END C=49.143119261097524, gamma=1503.8585842871576, kernel=rbf;, score=0.508 total time=  14.5s\n",
      "[CV 1/5; 280/400] START C=49.143119261097524, gamma=2980.957987041727, kernel=rbf\n",
      "[CV 1/5; 280/400] END C=49.143119261097524, gamma=2980.957987041727, kernel=rbf;, score=0.506 total time=  13.5s\n",
      "[CV 2/5; 280/400] START C=49.143119261097524, gamma=2980.957987041727, kernel=rbf\n",
      "[CV 2/5; 280/400] END C=49.143119261097524, gamma=2980.957987041727, kernel=rbf;, score=0.508 total time=  12.8s\n",
      "[CV 3/5; 280/400] START C=49.143119261097524, gamma=2980.957987041727, kernel=rbf\n",
      "[CV 3/5; 280/400] END C=49.143119261097524, gamma=2980.957987041727, kernel=rbf;, score=0.506 total time=  13.1s\n",
      "[CV 4/5; 280/400] START C=49.143119261097524, gamma=2980.957987041727, kernel=rbf\n",
      "[CV 4/5; 280/400] END C=49.143119261097524, gamma=2980.957987041727, kernel=rbf;, score=0.508 total time=  13.3s\n",
      "[CV 5/5; 280/400] START C=49.143119261097524, gamma=2980.957987041727, kernel=rbf\n",
      "[CV 5/5; 280/400] END C=49.143119261097524, gamma=2980.957987041727, kernel=rbf;, score=0.508 total time=  16.9s\n",
      "[CV 1/5; 281/400] START C=97.41180148195387, gamma=0.006737946999085469, kernel=rbf\n",
      "[CV 1/5; 281/400] END C=97.41180148195387, gamma=0.006737946999085469, kernel=rbf;, score=0.853 total time=  13.5s\n",
      "[CV 2/5; 281/400] START C=97.41180148195387, gamma=0.006737946999085469, kernel=rbf\n",
      "[CV 2/5; 281/400] END C=97.41180148195387, gamma=0.006737946999085469, kernel=rbf;, score=0.865 total time=  15.2s\n",
      "[CV 3/5; 281/400] START C=97.41180148195387, gamma=0.006737946999085469, kernel=rbf\n",
      "[CV 3/5; 281/400] END C=97.41180148195387, gamma=0.006737946999085469, kernel=rbf;, score=0.843 total time=  12.4s\n",
      "[CV 4/5; 281/400] START C=97.41180148195387, gamma=0.006737946999085469, kernel=rbf\n",
      "[CV 4/5; 281/400] END C=97.41180148195387, gamma=0.006737946999085469, kernel=rbf;, score=0.870 total time=  13.7s\n",
      "[CV 5/5; 281/400] START C=97.41180148195387, gamma=0.006737946999085469, kernel=rbf\n",
      "[CV 5/5; 281/400] END C=97.41180148195387, gamma=0.006737946999085469, kernel=rbf;, score=0.875 total time=  13.4s\n",
      "[CV 1/5; 282/400] START C=97.41180148195387, gamma=0.013356001111439869, kernel=rbf\n",
      "[CV 1/5; 282/400] END C=97.41180148195387, gamma=0.013356001111439869, kernel=rbf;, score=0.850 total time=  12.5s\n",
      "[CV 2/5; 282/400] START C=97.41180148195387, gamma=0.013356001111439869, kernel=rbf\n",
      "[CV 2/5; 282/400] END C=97.41180148195387, gamma=0.013356001111439869, kernel=rbf;, score=0.866 total time=  14.9s\n",
      "[CV 3/5; 282/400] START C=97.41180148195387, gamma=0.013356001111439869, kernel=rbf\n",
      "[CV 3/5; 282/400] END C=97.41180148195387, gamma=0.013356001111439869, kernel=rbf;, score=0.846 total time=  14.0s\n",
      "[CV 4/5; 282/400] START C=97.41180148195387, gamma=0.013356001111439869, kernel=rbf\n",
      "[CV 4/5; 282/400] END C=97.41180148195387, gamma=0.013356001111439869, kernel=rbf;, score=0.868 total time=  12.0s\n",
      "[CV 5/5; 282/400] START C=97.41180148195387, gamma=0.013356001111439869, kernel=rbf\n",
      "[CV 5/5; 282/400] END C=97.41180148195387, gamma=0.013356001111439869, kernel=rbf;, score=0.868 total time=  11.5s\n",
      "[CV 1/5; 283/400] START C=97.41180148195387, gamma=0.026474349785326985, kernel=rbf\n",
      "[CV 1/5; 283/400] END C=97.41180148195387, gamma=0.026474349785326985, kernel=rbf;, score=0.853 total time=  14.1s\n",
      "[CV 2/5; 283/400] START C=97.41180148195387, gamma=0.026474349785326985, kernel=rbf\n",
      "[CV 2/5; 283/400] END C=97.41180148195387, gamma=0.026474349785326985, kernel=rbf;, score=0.866 total time=  13.3s\n",
      "[CV 3/5; 283/400] START C=97.41180148195387, gamma=0.026474349785326985, kernel=rbf\n",
      "[CV 3/5; 283/400] END C=97.41180148195387, gamma=0.026474349785326985, kernel=rbf;, score=0.848 total time=  12.2s\n",
      "[CV 4/5; 283/400] START C=97.41180148195387, gamma=0.026474349785326985, kernel=rbf\n",
      "[CV 4/5; 283/400] END C=97.41180148195387, gamma=0.026474349785326985, kernel=rbf;, score=0.868 total time=  11.2s\n",
      "[CV 5/5; 283/400] START C=97.41180148195387, gamma=0.026474349785326985, kernel=rbf\n",
      "[CV 5/5; 283/400] END C=97.41180148195387, gamma=0.026474349785326985, kernel=rbf;, score=0.870 total time=  11.6s\n",
      "[CV 1/5; 284/400] START C=97.41180148195387, gamma=0.052477623407466346, kernel=rbf\n",
      "[CV 1/5; 284/400] END C=97.41180148195387, gamma=0.052477623407466346, kernel=rbf;, score=0.852 total time=  13.5s\n",
      "[CV 2/5; 284/400] START C=97.41180148195387, gamma=0.052477623407466346, kernel=rbf\n",
      "[CV 2/5; 284/400] END C=97.41180148195387, gamma=0.052477623407466346, kernel=rbf;, score=0.867 total time=  13.8s\n",
      "[CV 3/5; 284/400] START C=97.41180148195387, gamma=0.052477623407466346, kernel=rbf\n",
      "[CV 3/5; 284/400] END C=97.41180148195387, gamma=0.052477623407466346, kernel=rbf;, score=0.848 total time=  13.9s\n",
      "[CV 4/5; 284/400] START C=97.41180148195387, gamma=0.052477623407466346, kernel=rbf\n",
      "[CV 4/5; 284/400] END C=97.41180148195387, gamma=0.052477623407466346, kernel=rbf;, score=0.869 total time=  15.9s\n",
      "[CV 5/5; 284/400] START C=97.41180148195387, gamma=0.052477623407466346, kernel=rbf\n",
      "[CV 5/5; 284/400] END C=97.41180148195387, gamma=0.052477623407466346, kernel=rbf;, score=0.870 total time=  12.3s\n",
      "[CV 1/5; 285/400] START C=97.41180148195387, gamma=0.10402147666803764, kernel=rbf\n",
      "[CV 1/5; 285/400] END C=97.41180148195387, gamma=0.10402147666803764, kernel=rbf;, score=0.855 total time=  12.0s\n",
      "[CV 2/5; 285/400] START C=97.41180148195387, gamma=0.10402147666803764, kernel=rbf\n",
      "[CV 2/5; 285/400] END C=97.41180148195387, gamma=0.10402147666803764, kernel=rbf;, score=0.868 total time=  13.2s\n",
      "[CV 3/5; 285/400] START C=97.41180148195387, gamma=0.10402147666803764, kernel=rbf\n"
     ]
    },
    {
     "name": "stdout",
     "output_type": "stream",
     "text": [
      "[CV 3/5; 285/400] END C=97.41180148195387, gamma=0.10402147666803764, kernel=rbf;, score=0.845 total time=  13.5s\n",
      "[CV 4/5; 285/400] START C=97.41180148195387, gamma=0.10402147666803764, kernel=rbf\n",
      "[CV 4/5; 285/400] END C=97.41180148195387, gamma=0.10402147666803764, kernel=rbf;, score=0.867 total time=  13.7s\n",
      "[CV 5/5; 285/400] START C=97.41180148195387, gamma=0.10402147666803764, kernel=rbf\n",
      "[CV 5/5; 285/400] END C=97.41180148195387, gamma=0.10402147666803764, kernel=rbf;, score=0.870 total time=  13.3s\n",
      "[CV 1/5; 286/400] START C=97.41180148195387, gamma=0.20619202825140895, kernel=rbf\n",
      "[CV 1/5; 286/400] END C=97.41180148195387, gamma=0.20619202825140895, kernel=rbf;, score=0.857 total time=  12.7s\n",
      "[CV 2/5; 286/400] START C=97.41180148195387, gamma=0.20619202825140895, kernel=rbf\n",
      "[CV 2/5; 286/400] END C=97.41180148195387, gamma=0.20619202825140895, kernel=rbf;, score=0.870 total time=  12.5s\n",
      "[CV 3/5; 286/400] START C=97.41180148195387, gamma=0.20619202825140895, kernel=rbf\n",
      "[CV 3/5; 286/400] END C=97.41180148195387, gamma=0.20619202825140895, kernel=rbf;, score=0.847 total time=  12.9s\n",
      "[CV 4/5; 286/400] START C=97.41180148195387, gamma=0.20619202825140895, kernel=rbf\n",
      "[CV 4/5; 286/400] END C=97.41180148195387, gamma=0.20619202825140895, kernel=rbf;, score=0.867 total time=  12.4s\n",
      "[CV 5/5; 286/400] START C=97.41180148195387, gamma=0.20619202825140895, kernel=rbf\n",
      "[CV 5/5; 286/400] END C=97.41180148195387, gamma=0.20619202825140895, kernel=rbf;, score=0.874 total time=  13.0s\n",
      "[CV 1/5; 287/400] START C=97.41180148195387, gamma=0.40871514110598417, kernel=rbf\n",
      "[CV 1/5; 287/400] END C=97.41180148195387, gamma=0.40871514110598417, kernel=rbf;, score=0.865 total time=  12.7s\n",
      "[CV 2/5; 287/400] START C=97.41180148195387, gamma=0.40871514110598417, kernel=rbf\n",
      "[CV 2/5; 287/400] END C=97.41180148195387, gamma=0.40871514110598417, kernel=rbf;, score=0.870 total time=  13.4s\n",
      "[CV 3/5; 287/400] START C=97.41180148195387, gamma=0.40871514110598417, kernel=rbf\n",
      "[CV 3/5; 287/400] END C=97.41180148195387, gamma=0.40871514110598417, kernel=rbf;, score=0.848 total time=  15.8s\n",
      "[CV 4/5; 287/400] START C=97.41180148195387, gamma=0.40871514110598417, kernel=rbf\n",
      "[CV 4/5; 287/400] END C=97.41180148195387, gamma=0.40871514110598417, kernel=rbf;, score=0.867 total time=  14.5s\n",
      "[CV 5/5; 287/400] START C=97.41180148195387, gamma=0.40871514110598417, kernel=rbf\n",
      "[CV 5/5; 287/400] END C=97.41180148195387, gamma=0.40871514110598417, kernel=rbf;, score=0.879 total time=  13.0s\n",
      "[CV 1/5; 288/400] START C=97.41180148195387, gamma=0.8101577349324269, kernel=rbf\n",
      "[CV 1/5; 288/400] END C=97.41180148195387, gamma=0.8101577349324269, kernel=rbf;, score=0.870 total time=  13.8s\n",
      "[CV 2/5; 288/400] START C=97.41180148195387, gamma=0.8101577349324269, kernel=rbf\n",
      "[CV 2/5; 288/400] END C=97.41180148195387, gamma=0.8101577349324269, kernel=rbf;, score=0.869 total time=  17.0s\n",
      "[CV 3/5; 288/400] START C=97.41180148195387, gamma=0.8101577349324269, kernel=rbf\n",
      "[CV 3/5; 288/400] END C=97.41180148195387, gamma=0.8101577349324269, kernel=rbf;, score=0.839 total time=  14.2s\n",
      "[CV 4/5; 288/400] START C=97.41180148195387, gamma=0.8101577349324269, kernel=rbf\n",
      "[CV 4/5; 288/400] END C=97.41180148195387, gamma=0.8101577349324269, kernel=rbf;, score=0.873 total time=  13.7s\n",
      "[CV 5/5; 288/400] START C=97.41180148195387, gamma=0.8101577349324269, kernel=rbf\n",
      "[CV 5/5; 288/400] END C=97.41180148195387, gamma=0.8101577349324269, kernel=rbf;, score=0.880 total time=  15.1s\n",
      "[CV 1/5; 289/400] START C=97.41180148195387, gamma=1.6058997806999291, kernel=rbf\n",
      "[CV 1/5; 289/400] END C=97.41180148195387, gamma=1.6058997806999291, kernel=rbf;, score=0.877 total time=  13.9s\n",
      "[CV 2/5; 289/400] START C=97.41180148195387, gamma=1.6058997806999291, kernel=rbf\n",
      "[CV 2/5; 289/400] END C=97.41180148195387, gamma=1.6058997806999291, kernel=rbf;, score=0.873 total time=  13.0s\n",
      "[CV 3/5; 289/400] START C=97.41180148195387, gamma=1.6058997806999291, kernel=rbf\n",
      "[CV 3/5; 289/400] END C=97.41180148195387, gamma=1.6058997806999291, kernel=rbf;, score=0.838 total time=  13.6s\n",
      "[CV 4/5; 289/400] START C=97.41180148195387, gamma=1.6058997806999291, kernel=rbf\n",
      "[CV 4/5; 289/400] END C=97.41180148195387, gamma=1.6058997806999291, kernel=rbf;, score=0.867 total time=  15.9s\n",
      "[CV 5/5; 289/400] START C=97.41180148195387, gamma=1.6058997806999291, kernel=rbf\n",
      "[CV 5/5; 289/400] END C=97.41180148195387, gamma=1.6058997806999291, kernel=rbf;, score=0.877 total time=  14.1s\n",
      "[CV 1/5; 290/400] START C=97.41180148195387, gamma=3.1832246912598827, kernel=rbf\n",
      "[CV 1/5; 290/400] END C=97.41180148195387, gamma=3.1832246912598827, kernel=rbf;, score=0.846 total time=  14.4s\n",
      "[CV 2/5; 290/400] START C=97.41180148195387, gamma=3.1832246912598827, kernel=rbf\n",
      "[CV 2/5; 290/400] END C=97.41180148195387, gamma=3.1832246912598827, kernel=rbf;, score=0.845 total time=  13.7s\n",
      "[CV 3/5; 290/400] START C=97.41180148195387, gamma=3.1832246912598827, kernel=rbf\n",
      "[CV 3/5; 290/400] END C=97.41180148195387, gamma=3.1832246912598827, kernel=rbf;, score=0.837 total time=  13.3s\n",
      "[CV 4/5; 290/400] START C=97.41180148195387, gamma=3.1832246912598827, kernel=rbf\n",
      "[CV 4/5; 290/400] END C=97.41180148195387, gamma=3.1832246912598827, kernel=rbf;, score=0.841 total time=  13.5s\n",
      "[CV 5/5; 290/400] START C=97.41180148195387, gamma=3.1832246912598827, kernel=rbf\n",
      "[CV 5/5; 290/400] END C=97.41180148195387, gamma=3.1832246912598827, kernel=rbf;, score=0.843 total time=  14.9s\n",
      "[CV 1/5; 291/400] START C=97.41180148195387, gamma=6.3098080943943815, kernel=rbf\n",
      "[CV 1/5; 291/400] END C=97.41180148195387, gamma=6.3098080943943815, kernel=rbf;, score=0.506 total time=  14.9s\n",
      "[CV 2/5; 291/400] START C=97.41180148195387, gamma=6.3098080943943815, kernel=rbf\n",
      "[CV 2/5; 291/400] END C=97.41180148195387, gamma=6.3098080943943815, kernel=rbf;, score=0.509 total time=  15.0s\n",
      "[CV 3/5; 291/400] START C=97.41180148195387, gamma=6.3098080943943815, kernel=rbf\n",
      "[CV 3/5; 291/400] END C=97.41180148195387, gamma=6.3098080943943815, kernel=rbf;, score=0.507 total time=  13.0s\n",
      "[CV 4/5; 291/400] START C=97.41180148195387, gamma=6.3098080943943815, kernel=rbf\n",
      "[CV 4/5; 291/400] END C=97.41180148195387, gamma=6.3098080943943815, kernel=rbf;, score=0.508 total time=  14.3s\n",
      "[CV 5/5; 291/400] START C=97.41180148195387, gamma=6.3098080943943815, kernel=rbf\n",
      "[CV 5/5; 291/400] END C=97.41180148195387, gamma=6.3098080943943815, kernel=rbf;, score=0.508 total time=  17.1s\n",
      "[CV 1/5; 292/400] START C=97.41180148195387, gamma=12.507341469611143, kernel=rbf\n",
      "[CV 1/5; 292/400] END C=97.41180148195387, gamma=12.507341469611143, kernel=rbf;, score=0.506 total time=  13.9s\n",
      "[CV 2/5; 292/400] START C=97.41180148195387, gamma=12.507341469611143, kernel=rbf\n",
      "[CV 2/5; 292/400] END C=97.41180148195387, gamma=12.507341469611143, kernel=rbf;, score=0.509 total time=  13.7s\n",
      "[CV 3/5; 292/400] START C=97.41180148195387, gamma=12.507341469611143, kernel=rbf\n",
      "[CV 3/5; 292/400] END C=97.41180148195387, gamma=12.507341469611143, kernel=rbf;, score=0.507 total time=  23.1s\n",
      "[CV 4/5; 292/400] START C=97.41180148195387, gamma=12.507341469611143, kernel=rbf\n",
      "[CV 4/5; 292/400] END C=97.41180148195387, gamma=12.507341469611143, kernel=rbf;, score=0.508 total time=  13.9s\n",
      "[CV 5/5; 292/400] START C=97.41180148195387, gamma=12.507341469611143, kernel=rbf\n",
      "[CV 5/5; 292/400] END C=97.41180148195387, gamma=12.507341469611143, kernel=rbf;, score=0.508 total time=  16.8s\n",
      "[CV 1/5; 293/400] START C=97.41180148195387, gamma=24.792131281525027, kernel=rbf\n",
      "[CV 1/5; 293/400] END C=97.41180148195387, gamma=24.792131281525027, kernel=rbf;, score=0.506 total time=  17.8s\n",
      "[CV 2/5; 293/400] START C=97.41180148195387, gamma=24.792131281525027, kernel=rbf\n",
      "[CV 2/5; 293/400] END C=97.41180148195387, gamma=24.792131281525027, kernel=rbf;, score=0.509 total time=  14.2s\n",
      "[CV 3/5; 293/400] START C=97.41180148195387, gamma=24.792131281525027, kernel=rbf\n",
      "[CV 3/5; 293/400] END C=97.41180148195387, gamma=24.792131281525027, kernel=rbf;, score=0.507 total time=  12.8s\n",
      "[CV 4/5; 293/400] START C=97.41180148195387, gamma=24.792131281525027, kernel=rbf\n",
      "[CV 4/5; 293/400] END C=97.41180148195387, gamma=24.792131281525027, kernel=rbf;, score=0.508 total time=  13.1s\n",
      "[CV 5/5; 293/400] START C=97.41180148195387, gamma=24.792131281525027, kernel=rbf\n"
     ]
    },
    {
     "name": "stdout",
     "output_type": "stream",
     "text": [
      "[CV 5/5; 293/400] END C=97.41180148195387, gamma=24.792131281525027, kernel=rbf;, score=0.508 total time=  13.4s\n",
      "[CV 1/5; 294/400] START C=97.41180148195387, gamma=49.143119261097524, kernel=rbf\n",
      "[CV 1/5; 294/400] END C=97.41180148195387, gamma=49.143119261097524, kernel=rbf;, score=0.506 total time=  14.7s\n",
      "[CV 2/5; 294/400] START C=97.41180148195387, gamma=49.143119261097524, kernel=rbf\n",
      "[CV 2/5; 294/400] END C=97.41180148195387, gamma=49.143119261097524, kernel=rbf;, score=0.509 total time=  12.6s\n",
      "[CV 3/5; 294/400] START C=97.41180148195387, gamma=49.143119261097524, kernel=rbf\n",
      "[CV 3/5; 294/400] END C=97.41180148195387, gamma=49.143119261097524, kernel=rbf;, score=0.507 total time=  12.1s\n",
      "[CV 4/5; 294/400] START C=97.41180148195387, gamma=49.143119261097524, kernel=rbf\n",
      "[CV 4/5; 294/400] END C=97.41180148195387, gamma=49.143119261097524, kernel=rbf;, score=0.508 total time=  12.0s\n",
      "[CV 5/5; 294/400] START C=97.41180148195387, gamma=49.143119261097524, kernel=rbf\n",
      "[CV 5/5; 294/400] END C=97.41180148195387, gamma=49.143119261097524, kernel=rbf;, score=0.508 total time=  13.9s\n",
      "[CV 1/5; 295/400] START C=97.41180148195387, gamma=97.41180148195387, kernel=rbf\n",
      "[CV 1/5; 295/400] END C=97.41180148195387, gamma=97.41180148195387, kernel=rbf;, score=0.506 total time=  14.0s\n",
      "[CV 2/5; 295/400] START C=97.41180148195387, gamma=97.41180148195387, kernel=rbf\n",
      "[CV 2/5; 295/400] END C=97.41180148195387, gamma=97.41180148195387, kernel=rbf;, score=0.509 total time=  15.2s\n",
      "[CV 3/5; 295/400] START C=97.41180148195387, gamma=97.41180148195387, kernel=rbf\n",
      "[CV 3/5; 295/400] END C=97.41180148195387, gamma=97.41180148195387, kernel=rbf;, score=0.507 total time=  13.0s\n",
      "[CV 4/5; 295/400] START C=97.41180148195387, gamma=97.41180148195387, kernel=rbf\n",
      "[CV 4/5; 295/400] END C=97.41180148195387, gamma=97.41180148195387, kernel=rbf;, score=0.508 total time=  13.4s\n",
      "[CV 5/5; 295/400] START C=97.41180148195387, gamma=97.41180148195387, kernel=rbf\n",
      "[CV 5/5; 295/400] END C=97.41180148195387, gamma=97.41180148195387, kernel=rbf;, score=0.508 total time=  13.7s\n",
      "[CV 1/5; 296/400] START C=97.41180148195387, gamma=193.0902883381129, kernel=rbf\n",
      "[CV 1/5; 296/400] END C=97.41180148195387, gamma=193.0902883381129, kernel=rbf;, score=0.506 total time=  14.8s\n",
      "[CV 2/5; 296/400] START C=97.41180148195387, gamma=193.0902883381129, kernel=rbf\n",
      "[CV 2/5; 296/400] END C=97.41180148195387, gamma=193.0902883381129, kernel=rbf;, score=0.509 total time=  13.4s\n",
      "[CV 3/5; 296/400] START C=97.41180148195387, gamma=193.0902883381129, kernel=rbf\n",
      "[CV 3/5; 296/400] END C=97.41180148195387, gamma=193.0902883381129, kernel=rbf;, score=0.507 total time=  13.4s\n",
      "[CV 4/5; 296/400] START C=97.41180148195387, gamma=193.0902883381129, kernel=rbf\n",
      "[CV 4/5; 296/400] END C=97.41180148195387, gamma=193.0902883381129, kernel=rbf;, score=0.508 total time=  14.1s\n",
      "[CV 5/5; 296/400] START C=97.41180148195387, gamma=193.0902883381129, kernel=rbf\n",
      "[CV 5/5; 296/400] END C=97.41180148195387, gamma=193.0902883381129, kernel=rbf;, score=0.508 total time=  13.4s\n",
      "[CV 1/5; 297/400] START C=97.41180148195387, gamma=382.7447894740212, kernel=rbf\n",
      "[CV 1/5; 297/400] END C=97.41180148195387, gamma=382.7447894740212, kernel=rbf;, score=0.506 total time=  12.9s\n",
      "[CV 2/5; 297/400] START C=97.41180148195387, gamma=382.7447894740212, kernel=rbf\n",
      "[CV 2/5; 297/400] END C=97.41180148195387, gamma=382.7447894740212, kernel=rbf;, score=0.509 total time=  14.5s\n",
      "[CV 3/5; 297/400] START C=97.41180148195387, gamma=382.7447894740212, kernel=rbf\n",
      "[CV 3/5; 297/400] END C=97.41180148195387, gamma=382.7447894740212, kernel=rbf;, score=0.507 total time=  13.7s\n",
      "[CV 4/5; 297/400] START C=97.41180148195387, gamma=382.7447894740212, kernel=rbf\n",
      "[CV 4/5; 297/400] END C=97.41180148195387, gamma=382.7447894740212, kernel=rbf;, score=0.508 total time=  13.5s\n",
      "[CV 5/5; 297/400] START C=97.41180148195387, gamma=382.7447894740212, kernel=rbf\n",
      "[CV 5/5; 297/400] END C=97.41180148195387, gamma=382.7447894740212, kernel=rbf;, score=0.508 total time=  14.9s\n",
      "[CV 1/5; 298/400] START C=97.41180148195387, gamma=758.679139848782, kernel=rbf.\n",
      "[CV 1/5; 298/400] END C=97.41180148195387, gamma=758.679139848782, kernel=rbf;, score=0.506 total time=  15.1s\n",
      "[CV 2/5; 298/400] START C=97.41180148195387, gamma=758.679139848782, kernel=rbf.\n",
      "[CV 2/5; 298/400] END C=97.41180148195387, gamma=758.679139848782, kernel=rbf;, score=0.508 total time=  12.8s\n",
      "[CV 3/5; 298/400] START C=97.41180148195387, gamma=758.679139848782, kernel=rbf.\n",
      "[CV 3/5; 298/400] END C=97.41180148195387, gamma=758.679139848782, kernel=rbf;, score=0.506 total time=  13.8s\n",
      "[CV 4/5; 298/400] START C=97.41180148195387, gamma=758.679139848782, kernel=rbf.\n",
      "[CV 4/5; 298/400] END C=97.41180148195387, gamma=758.679139848782, kernel=rbf;, score=0.508 total time=  14.1s\n",
      "[CV 5/5; 298/400] START C=97.41180148195387, gamma=758.679139848782, kernel=rbf.\n",
      "[CV 5/5; 298/400] END C=97.41180148195387, gamma=758.679139848782, kernel=rbf;, score=0.508 total time=  13.3s\n",
      "[CV 1/5; 299/400] START C=97.41180148195387, gamma=1503.8585842871576, kernel=rbf\n",
      "[CV 1/5; 299/400] END C=97.41180148195387, gamma=1503.8585842871576, kernel=rbf;, score=0.506 total time=  12.8s\n",
      "[CV 2/5; 299/400] START C=97.41180148195387, gamma=1503.8585842871576, kernel=rbf\n",
      "[CV 2/5; 299/400] END C=97.41180148195387, gamma=1503.8585842871576, kernel=rbf;, score=0.508 total time=  14.8s\n",
      "[CV 3/5; 299/400] START C=97.41180148195387, gamma=1503.8585842871576, kernel=rbf\n",
      "[CV 3/5; 299/400] END C=97.41180148195387, gamma=1503.8585842871576, kernel=rbf;, score=0.506 total time=  13.6s\n",
      "[CV 4/5; 299/400] START C=97.41180148195387, gamma=1503.8585842871576, kernel=rbf\n",
      "[CV 4/5; 299/400] END C=97.41180148195387, gamma=1503.8585842871576, kernel=rbf;, score=0.508 total time=  11.9s\n",
      "[CV 5/5; 299/400] START C=97.41180148195387, gamma=1503.8585842871576, kernel=rbf\n",
      "[CV 5/5; 299/400] END C=97.41180148195387, gamma=1503.8585842871576, kernel=rbf;, score=0.508 total time=  12.5s\n",
      "[CV 1/5; 300/400] START C=97.41180148195387, gamma=2980.957987041727, kernel=rbf\n",
      "[CV 1/5; 300/400] END C=97.41180148195387, gamma=2980.957987041727, kernel=rbf;, score=0.506 total time=  14.2s\n",
      "[CV 2/5; 300/400] START C=97.41180148195387, gamma=2980.957987041727, kernel=rbf\n",
      "[CV 2/5; 300/400] END C=97.41180148195387, gamma=2980.957987041727, kernel=rbf;, score=0.508 total time=  13.0s\n",
      "[CV 3/5; 300/400] START C=97.41180148195387, gamma=2980.957987041727, kernel=rbf\n",
      "[CV 3/5; 300/400] END C=97.41180148195387, gamma=2980.957987041727, kernel=rbf;, score=0.506 total time=  13.3s\n",
      "[CV 4/5; 300/400] START C=97.41180148195387, gamma=2980.957987041727, kernel=rbf\n",
      "[CV 4/5; 300/400] END C=97.41180148195387, gamma=2980.957987041727, kernel=rbf;, score=0.508 total time=  12.9s\n",
      "[CV 5/5; 300/400] START C=97.41180148195387, gamma=2980.957987041727, kernel=rbf\n",
      "[CV 5/5; 300/400] END C=97.41180148195387, gamma=2980.957987041727, kernel=rbf;, score=0.508 total time=  12.5s\n",
      "[CV 1/5; 301/400] START C=193.0902883381129, gamma=0.006737946999085469, kernel=rbf\n",
      "[CV 1/5; 301/400] END C=193.0902883381129, gamma=0.006737946999085469, kernel=rbf;, score=0.850 total time=  11.5s\n",
      "[CV 2/5; 301/400] START C=193.0902883381129, gamma=0.006737946999085469, kernel=rbf\n",
      "[CV 2/5; 301/400] END C=193.0902883381129, gamma=0.006737946999085469, kernel=rbf;, score=0.867 total time=  13.3s\n",
      "[CV 3/5; 301/400] START C=193.0902883381129, gamma=0.006737946999085469, kernel=rbf\n",
      "[CV 3/5; 301/400] END C=193.0902883381129, gamma=0.006737946999085469, kernel=rbf;, score=0.847 total time=  12.0s\n",
      "[CV 4/5; 301/400] START C=193.0902883381129, gamma=0.006737946999085469, kernel=rbf\n",
      "[CV 4/5; 301/400] END C=193.0902883381129, gamma=0.006737946999085469, kernel=rbf;, score=0.869 total time=  12.1s\n",
      "[CV 5/5; 301/400] START C=193.0902883381129, gamma=0.006737946999085469, kernel=rbf\n",
      "[CV 5/5; 301/400] END C=193.0902883381129, gamma=0.006737946999085469, kernel=rbf;, score=0.868 total time=  11.5s\n",
      "[CV 1/5; 302/400] START C=193.0902883381129, gamma=0.013356001111439869, kernel=rbf\n",
      "[CV 1/5; 302/400] END C=193.0902883381129, gamma=0.013356001111439869, kernel=rbf;, score=0.851 total time=  11.8s\n",
      "[CV 2/5; 302/400] START C=193.0902883381129, gamma=0.013356001111439869, kernel=rbf\n",
      "[CV 2/5; 302/400] END C=193.0902883381129, gamma=0.013356001111439869, kernel=rbf;, score=0.866 total time=  11.7s\n",
      "[CV 3/5; 302/400] START C=193.0902883381129, gamma=0.013356001111439869, kernel=rbf\n"
     ]
    },
    {
     "name": "stdout",
     "output_type": "stream",
     "text": [
      "[CV 3/5; 302/400] END C=193.0902883381129, gamma=0.013356001111439869, kernel=rbf;, score=0.848 total time=  11.1s\n",
      "[CV 4/5; 302/400] START C=193.0902883381129, gamma=0.013356001111439869, kernel=rbf\n",
      "[CV 4/5; 302/400] END C=193.0902883381129, gamma=0.013356001111439869, kernel=rbf;, score=0.869 total time=  12.0s\n",
      "[CV 5/5; 302/400] START C=193.0902883381129, gamma=0.013356001111439869, kernel=rbf\n",
      "[CV 5/5; 302/400] END C=193.0902883381129, gamma=0.013356001111439869, kernel=rbf;, score=0.870 total time=  14.9s\n",
      "[CV 1/5; 303/400] START C=193.0902883381129, gamma=0.026474349785326985, kernel=rbf\n",
      "[CV 1/5; 303/400] END C=193.0902883381129, gamma=0.026474349785326985, kernel=rbf;, score=0.853 total time=  13.8s\n",
      "[CV 2/5; 303/400] START C=193.0902883381129, gamma=0.026474349785326985, kernel=rbf\n",
      "[CV 2/5; 303/400] END C=193.0902883381129, gamma=0.026474349785326985, kernel=rbf;, score=0.866 total time=  14.6s\n",
      "[CV 3/5; 303/400] START C=193.0902883381129, gamma=0.026474349785326985, kernel=rbf\n",
      "[CV 3/5; 303/400] END C=193.0902883381129, gamma=0.026474349785326985, kernel=rbf;, score=0.848 total time=  12.2s\n",
      "[CV 4/5; 303/400] START C=193.0902883381129, gamma=0.026474349785326985, kernel=rbf\n",
      "[CV 4/5; 303/400] END C=193.0902883381129, gamma=0.026474349785326985, kernel=rbf;, score=0.868 total time=  11.7s\n",
      "[CV 5/5; 303/400] START C=193.0902883381129, gamma=0.026474349785326985, kernel=rbf\n",
      "[CV 5/5; 303/400] END C=193.0902883381129, gamma=0.026474349785326985, kernel=rbf;, score=0.870 total time=  11.5s\n",
      "[CV 1/5; 304/400] START C=193.0902883381129, gamma=0.052477623407466346, kernel=rbf\n",
      "[CV 1/5; 304/400] END C=193.0902883381129, gamma=0.052477623407466346, kernel=rbf;, score=0.852 total time=  11.1s\n",
      "[CV 2/5; 304/400] START C=193.0902883381129, gamma=0.052477623407466346, kernel=rbf\n",
      "[CV 2/5; 304/400] END C=193.0902883381129, gamma=0.052477623407466346, kernel=rbf;, score=0.867 total time=  11.4s\n",
      "[CV 3/5; 304/400] START C=193.0902883381129, gamma=0.052477623407466346, kernel=rbf\n",
      "[CV 3/5; 304/400] END C=193.0902883381129, gamma=0.052477623407466346, kernel=rbf;, score=0.848 total time=  11.9s\n",
      "[CV 4/5; 304/400] START C=193.0902883381129, gamma=0.052477623407466346, kernel=rbf\n",
      "[CV 4/5; 304/400] END C=193.0902883381129, gamma=0.052477623407466346, kernel=rbf;, score=0.869 total time=  12.4s\n",
      "[CV 5/5; 304/400] START C=193.0902883381129, gamma=0.052477623407466346, kernel=rbf\n",
      "[CV 5/5; 304/400] END C=193.0902883381129, gamma=0.052477623407466346, kernel=rbf;, score=0.870 total time=  11.9s\n",
      "[CV 1/5; 305/400] START C=193.0902883381129, gamma=0.10402147666803764, kernel=rbf\n",
      "[CV 1/5; 305/400] END C=193.0902883381129, gamma=0.10402147666803764, kernel=rbf;, score=0.855 total time=  11.3s\n",
      "[CV 2/5; 305/400] START C=193.0902883381129, gamma=0.10402147666803764, kernel=rbf\n",
      "[CV 2/5; 305/400] END C=193.0902883381129, gamma=0.10402147666803764, kernel=rbf;, score=0.868 total time=  12.6s\n",
      "[CV 3/5; 305/400] START C=193.0902883381129, gamma=0.10402147666803764, kernel=rbf\n",
      "[CV 3/5; 305/400] END C=193.0902883381129, gamma=0.10402147666803764, kernel=rbf;, score=0.845 total time=  12.0s\n",
      "[CV 4/5; 305/400] START C=193.0902883381129, gamma=0.10402147666803764, kernel=rbf\n",
      "[CV 4/5; 305/400] END C=193.0902883381129, gamma=0.10402147666803764, kernel=rbf;, score=0.867 total time=  12.0s\n",
      "[CV 5/5; 305/400] START C=193.0902883381129, gamma=0.10402147666803764, kernel=rbf\n",
      "[CV 5/5; 305/400] END C=193.0902883381129, gamma=0.10402147666803764, kernel=rbf;, score=0.870 total time=  12.3s\n",
      "[CV 1/5; 306/400] START C=193.0902883381129, gamma=0.20619202825140895, kernel=rbf\n",
      "[CV 1/5; 306/400] END C=193.0902883381129, gamma=0.20619202825140895, kernel=rbf;, score=0.857 total time=  13.7s\n",
      "[CV 2/5; 306/400] START C=193.0902883381129, gamma=0.20619202825140895, kernel=rbf\n",
      "[CV 2/5; 306/400] END C=193.0902883381129, gamma=0.20619202825140895, kernel=rbf;, score=0.870 total time=  13.1s\n",
      "[CV 3/5; 306/400] START C=193.0902883381129, gamma=0.20619202825140895, kernel=rbf\n",
      "[CV 3/5; 306/400] END C=193.0902883381129, gamma=0.20619202825140895, kernel=rbf;, score=0.847 total time=  12.7s\n",
      "[CV 4/5; 306/400] START C=193.0902883381129, gamma=0.20619202825140895, kernel=rbf\n",
      "[CV 4/5; 306/400] END C=193.0902883381129, gamma=0.20619202825140895, kernel=rbf;, score=0.867 total time=  12.6s\n",
      "[CV 5/5; 306/400] START C=193.0902883381129, gamma=0.20619202825140895, kernel=rbf\n",
      "[CV 5/5; 306/400] END C=193.0902883381129, gamma=0.20619202825140895, kernel=rbf;, score=0.874 total time=  12.6s\n",
      "[CV 1/5; 307/400] START C=193.0902883381129, gamma=0.40871514110598417, kernel=rbf\n",
      "[CV 1/5; 307/400] END C=193.0902883381129, gamma=0.40871514110598417, kernel=rbf;, score=0.865 total time=  14.1s\n",
      "[CV 2/5; 307/400] START C=193.0902883381129, gamma=0.40871514110598417, kernel=rbf\n",
      "[CV 2/5; 307/400] END C=193.0902883381129, gamma=0.40871514110598417, kernel=rbf;, score=0.870 total time=  13.3s\n",
      "[CV 3/5; 307/400] START C=193.0902883381129, gamma=0.40871514110598417, kernel=rbf\n",
      "[CV 3/5; 307/400] END C=193.0902883381129, gamma=0.40871514110598417, kernel=rbf;, score=0.848 total time=  13.2s\n",
      "[CV 4/5; 307/400] START C=193.0902883381129, gamma=0.40871514110598417, kernel=rbf\n",
      "[CV 4/5; 307/400] END C=193.0902883381129, gamma=0.40871514110598417, kernel=rbf;, score=0.867 total time=  13.8s\n",
      "[CV 5/5; 307/400] START C=193.0902883381129, gamma=0.40871514110598417, kernel=rbf\n",
      "[CV 5/5; 307/400] END C=193.0902883381129, gamma=0.40871514110598417, kernel=rbf;, score=0.879 total time=  12.6s\n",
      "[CV 1/5; 308/400] START C=193.0902883381129, gamma=0.8101577349324269, kernel=rbf\n",
      "[CV 1/5; 308/400] END C=193.0902883381129, gamma=0.8101577349324269, kernel=rbf;, score=0.870 total time=  12.8s\n",
      "[CV 2/5; 308/400] START C=193.0902883381129, gamma=0.8101577349324269, kernel=rbf\n",
      "[CV 2/5; 308/400] END C=193.0902883381129, gamma=0.8101577349324269, kernel=rbf;, score=0.869 total time=  12.8s\n",
      "[CV 3/5; 308/400] START C=193.0902883381129, gamma=0.8101577349324269, kernel=rbf\n",
      "[CV 3/5; 308/400] END C=193.0902883381129, gamma=0.8101577349324269, kernel=rbf;, score=0.839 total time=  12.3s\n",
      "[CV 4/5; 308/400] START C=193.0902883381129, gamma=0.8101577349324269, kernel=rbf\n",
      "[CV 4/5; 308/400] END C=193.0902883381129, gamma=0.8101577349324269, kernel=rbf;, score=0.873 total time=  14.6s\n",
      "[CV 5/5; 308/400] START C=193.0902883381129, gamma=0.8101577349324269, kernel=rbf\n",
      "[CV 5/5; 308/400] END C=193.0902883381129, gamma=0.8101577349324269, kernel=rbf;, score=0.880 total time=  13.1s\n",
      "[CV 1/5; 309/400] START C=193.0902883381129, gamma=1.6058997806999291, kernel=rbf\n",
      "[CV 1/5; 309/400] END C=193.0902883381129, gamma=1.6058997806999291, kernel=rbf;, score=0.877 total time=  11.9s\n",
      "[CV 2/5; 309/400] START C=193.0902883381129, gamma=1.6058997806999291, kernel=rbf\n",
      "[CV 2/5; 309/400] END C=193.0902883381129, gamma=1.6058997806999291, kernel=rbf;, score=0.873 total time=  15.0s\n",
      "[CV 3/5; 309/400] START C=193.0902883381129, gamma=1.6058997806999291, kernel=rbf\n",
      "[CV 3/5; 309/400] END C=193.0902883381129, gamma=1.6058997806999291, kernel=rbf;, score=0.838 total time=  14.8s\n",
      "[CV 4/5; 309/400] START C=193.0902883381129, gamma=1.6058997806999291, kernel=rbf\n",
      "[CV 4/5; 309/400] END C=193.0902883381129, gamma=1.6058997806999291, kernel=rbf;, score=0.867 total time=  12.4s\n",
      "[CV 5/5; 309/400] START C=193.0902883381129, gamma=1.6058997806999291, kernel=rbf\n",
      "[CV 5/5; 309/400] END C=193.0902883381129, gamma=1.6058997806999291, kernel=rbf;, score=0.877 total time=  11.7s\n",
      "[CV 1/5; 310/400] START C=193.0902883381129, gamma=3.1832246912598827, kernel=rbf\n",
      "[CV 1/5; 310/400] END C=193.0902883381129, gamma=3.1832246912598827, kernel=rbf;, score=0.846 total time=  11.7s\n",
      "[CV 2/5; 310/400] START C=193.0902883381129, gamma=3.1832246912598827, kernel=rbf\n",
      "[CV 2/5; 310/400] END C=193.0902883381129, gamma=3.1832246912598827, kernel=rbf;, score=0.845 total time=  11.9s\n",
      "[CV 3/5; 310/400] START C=193.0902883381129, gamma=3.1832246912598827, kernel=rbf\n",
      "[CV 3/5; 310/400] END C=193.0902883381129, gamma=3.1832246912598827, kernel=rbf;, score=0.837 total time=  11.6s\n",
      "[CV 4/5; 310/400] START C=193.0902883381129, gamma=3.1832246912598827, kernel=rbf\n",
      "[CV 4/5; 310/400] END C=193.0902883381129, gamma=3.1832246912598827, kernel=rbf;, score=0.841 total time=  12.6s\n",
      "[CV 5/5; 310/400] START C=193.0902883381129, gamma=3.1832246912598827, kernel=rbf\n"
     ]
    },
    {
     "name": "stdout",
     "output_type": "stream",
     "text": [
      "[CV 5/5; 310/400] END C=193.0902883381129, gamma=3.1832246912598827, kernel=rbf;, score=0.843 total time=  12.1s\n",
      "[CV 1/5; 311/400] START C=193.0902883381129, gamma=6.3098080943943815, kernel=rbf\n",
      "[CV 1/5; 311/400] END C=193.0902883381129, gamma=6.3098080943943815, kernel=rbf;, score=0.506 total time=  16.8s\n",
      "[CV 2/5; 311/400] START C=193.0902883381129, gamma=6.3098080943943815, kernel=rbf\n",
      "[CV 2/5; 311/400] END C=193.0902883381129, gamma=6.3098080943943815, kernel=rbf;, score=0.509 total time=  15.0s\n",
      "[CV 3/5; 311/400] START C=193.0902883381129, gamma=6.3098080943943815, kernel=rbf\n",
      "[CV 3/5; 311/400] END C=193.0902883381129, gamma=6.3098080943943815, kernel=rbf;, score=0.507 total time=  13.8s\n",
      "[CV 4/5; 311/400] START C=193.0902883381129, gamma=6.3098080943943815, kernel=rbf\n",
      "[CV 4/5; 311/400] END C=193.0902883381129, gamma=6.3098080943943815, kernel=rbf;, score=0.508 total time=  13.4s\n",
      "[CV 5/5; 311/400] START C=193.0902883381129, gamma=6.3098080943943815, kernel=rbf\n",
      "[CV 5/5; 311/400] END C=193.0902883381129, gamma=6.3098080943943815, kernel=rbf;, score=0.508 total time=  13.4s\n",
      "[CV 1/5; 312/400] START C=193.0902883381129, gamma=12.507341469611143, kernel=rbf\n",
      "[CV 1/5; 312/400] END C=193.0902883381129, gamma=12.507341469611143, kernel=rbf;, score=0.506 total time=  13.5s\n",
      "[CV 2/5; 312/400] START C=193.0902883381129, gamma=12.507341469611143, kernel=rbf\n",
      "[CV 2/5; 312/400] END C=193.0902883381129, gamma=12.507341469611143, kernel=rbf;, score=0.509 total time=  13.5s\n",
      "[CV 3/5; 312/400] START C=193.0902883381129, gamma=12.507341469611143, kernel=rbf\n",
      "[CV 3/5; 312/400] END C=193.0902883381129, gamma=12.507341469611143, kernel=rbf;, score=0.507 total time=  13.4s\n",
      "[CV 4/5; 312/400] START C=193.0902883381129, gamma=12.507341469611143, kernel=rbf\n",
      "[CV 4/5; 312/400] END C=193.0902883381129, gamma=12.507341469611143, kernel=rbf;, score=0.508 total time=  13.4s\n",
      "[CV 5/5; 312/400] START C=193.0902883381129, gamma=12.507341469611143, kernel=rbf\n",
      "[CV 5/5; 312/400] END C=193.0902883381129, gamma=12.507341469611143, kernel=rbf;, score=0.508 total time=  13.5s\n",
      "[CV 1/5; 313/400] START C=193.0902883381129, gamma=24.792131281525027, kernel=rbf\n",
      "[CV 1/5; 313/400] END C=193.0902883381129, gamma=24.792131281525027, kernel=rbf;, score=0.506 total time=  13.5s\n",
      "[CV 2/5; 313/400] START C=193.0902883381129, gamma=24.792131281525027, kernel=rbf\n",
      "[CV 2/5; 313/400] END C=193.0902883381129, gamma=24.792131281525027, kernel=rbf;, score=0.509 total time=  13.5s\n",
      "[CV 3/5; 313/400] START C=193.0902883381129, gamma=24.792131281525027, kernel=rbf\n",
      "[CV 3/5; 313/400] END C=193.0902883381129, gamma=24.792131281525027, kernel=rbf;, score=0.507 total time=  13.3s\n",
      "[CV 4/5; 313/400] START C=193.0902883381129, gamma=24.792131281525027, kernel=rbf\n",
      "[CV 4/5; 313/400] END C=193.0902883381129, gamma=24.792131281525027, kernel=rbf;, score=0.508 total time=  13.4s\n",
      "[CV 5/5; 313/400] START C=193.0902883381129, gamma=24.792131281525027, kernel=rbf\n",
      "[CV 5/5; 313/400] END C=193.0902883381129, gamma=24.792131281525027, kernel=rbf;, score=0.508 total time=  13.5s\n",
      "[CV 1/5; 314/400] START C=193.0902883381129, gamma=49.143119261097524, kernel=rbf\n",
      "[CV 1/5; 314/400] END C=193.0902883381129, gamma=49.143119261097524, kernel=rbf;, score=0.506 total time=  13.6s\n",
      "[CV 2/5; 314/400] START C=193.0902883381129, gamma=49.143119261097524, kernel=rbf\n",
      "[CV 2/5; 314/400] END C=193.0902883381129, gamma=49.143119261097524, kernel=rbf;, score=0.509 total time=  13.4s\n",
      "[CV 3/5; 314/400] START C=193.0902883381129, gamma=49.143119261097524, kernel=rbf\n",
      "[CV 3/5; 314/400] END C=193.0902883381129, gamma=49.143119261097524, kernel=rbf;, score=0.507 total time=  13.4s\n",
      "[CV 4/5; 314/400] START C=193.0902883381129, gamma=49.143119261097524, kernel=rbf\n",
      "[CV 4/5; 314/400] END C=193.0902883381129, gamma=49.143119261097524, kernel=rbf;, score=0.508 total time=  13.4s\n",
      "[CV 5/5; 314/400] START C=193.0902883381129, gamma=49.143119261097524, kernel=rbf\n",
      "[CV 5/5; 314/400] END C=193.0902883381129, gamma=49.143119261097524, kernel=rbf;, score=0.508 total time=  13.4s\n",
      "[CV 1/5; 315/400] START C=193.0902883381129, gamma=97.41180148195387, kernel=rbf\n",
      "[CV 1/5; 315/400] END C=193.0902883381129, gamma=97.41180148195387, kernel=rbf;, score=0.506 total time=  13.5s\n",
      "[CV 2/5; 315/400] START C=193.0902883381129, gamma=97.41180148195387, kernel=rbf\n",
      "[CV 2/5; 315/400] END C=193.0902883381129, gamma=97.41180148195387, kernel=rbf;, score=0.509 total time=  13.4s\n",
      "[CV 3/5; 315/400] START C=193.0902883381129, gamma=97.41180148195387, kernel=rbf\n",
      "[CV 3/5; 315/400] END C=193.0902883381129, gamma=97.41180148195387, kernel=rbf;, score=0.507 total time=  13.3s\n",
      "[CV 4/5; 315/400] START C=193.0902883381129, gamma=97.41180148195387, kernel=rbf\n",
      "[CV 4/5; 315/400] END C=193.0902883381129, gamma=97.41180148195387, kernel=rbf;, score=0.508 total time=  13.4s\n",
      "[CV 5/5; 315/400] START C=193.0902883381129, gamma=97.41180148195387, kernel=rbf\n",
      "[CV 5/5; 315/400] END C=193.0902883381129, gamma=97.41180148195387, kernel=rbf;, score=0.508 total time=  13.6s\n",
      "[CV 1/5; 316/400] START C=193.0902883381129, gamma=193.0902883381129, kernel=rbf\n",
      "[CV 1/5; 316/400] END C=193.0902883381129, gamma=193.0902883381129, kernel=rbf;, score=0.506 total time=  13.2s\n",
      "[CV 2/5; 316/400] START C=193.0902883381129, gamma=193.0902883381129, kernel=rbf\n",
      "[CV 2/5; 316/400] END C=193.0902883381129, gamma=193.0902883381129, kernel=rbf;, score=0.509 total time=  13.5s\n",
      "[CV 3/5; 316/400] START C=193.0902883381129, gamma=193.0902883381129, kernel=rbf\n",
      "[CV 3/5; 316/400] END C=193.0902883381129, gamma=193.0902883381129, kernel=rbf;, score=0.507 total time=  13.3s\n",
      "[CV 4/5; 316/400] START C=193.0902883381129, gamma=193.0902883381129, kernel=rbf\n",
      "[CV 4/5; 316/400] END C=193.0902883381129, gamma=193.0902883381129, kernel=rbf;, score=0.508 total time=  13.7s\n",
      "[CV 5/5; 316/400] START C=193.0902883381129, gamma=193.0902883381129, kernel=rbf\n",
      "[CV 5/5; 316/400] END C=193.0902883381129, gamma=193.0902883381129, kernel=rbf;, score=0.508 total time=  13.3s\n",
      "[CV 1/5; 317/400] START C=193.0902883381129, gamma=382.7447894740212, kernel=rbf\n",
      "[CV 1/5; 317/400] END C=193.0902883381129, gamma=382.7447894740212, kernel=rbf;, score=0.506 total time=  13.6s\n",
      "[CV 2/5; 317/400] START C=193.0902883381129, gamma=382.7447894740212, kernel=rbf\n",
      "[CV 2/5; 317/400] END C=193.0902883381129, gamma=382.7447894740212, kernel=rbf;, score=0.509 total time=  13.9s\n",
      "[CV 3/5; 317/400] START C=193.0902883381129, gamma=382.7447894740212, kernel=rbf\n",
      "[CV 3/5; 317/400] END C=193.0902883381129, gamma=382.7447894740212, kernel=rbf;, score=0.507 total time=  13.6s\n",
      "[CV 4/5; 317/400] START C=193.0902883381129, gamma=382.7447894740212, kernel=rbf\n",
      "[CV 4/5; 317/400] END C=193.0902883381129, gamma=382.7447894740212, kernel=rbf;, score=0.508 total time=  13.9s\n",
      "[CV 5/5; 317/400] START C=193.0902883381129, gamma=382.7447894740212, kernel=rbf\n",
      "[CV 5/5; 317/400] END C=193.0902883381129, gamma=382.7447894740212, kernel=rbf;, score=0.508 total time=  13.7s\n",
      "[CV 1/5; 318/400] START C=193.0902883381129, gamma=758.679139848782, kernel=rbf.\n",
      "[CV 1/5; 318/400] END C=193.0902883381129, gamma=758.679139848782, kernel=rbf;, score=0.506 total time=  13.4s\n",
      "[CV 2/5; 318/400] START C=193.0902883381129, gamma=758.679139848782, kernel=rbf.\n",
      "[CV 2/5; 318/400] END C=193.0902883381129, gamma=758.679139848782, kernel=rbf;, score=0.508 total time=  13.4s\n",
      "[CV 3/5; 318/400] START C=193.0902883381129, gamma=758.679139848782, kernel=rbf.\n",
      "[CV 3/5; 318/400] END C=193.0902883381129, gamma=758.679139848782, kernel=rbf;, score=0.506 total time=  14.2s\n",
      "[CV 4/5; 318/400] START C=193.0902883381129, gamma=758.679139848782, kernel=rbf.\n",
      "[CV 4/5; 318/400] END C=193.0902883381129, gamma=758.679139848782, kernel=rbf;, score=0.508 total time=  13.4s\n",
      "[CV 5/5; 318/400] START C=193.0902883381129, gamma=758.679139848782, kernel=rbf.\n",
      "[CV 5/5; 318/400] END C=193.0902883381129, gamma=758.679139848782, kernel=rbf;, score=0.508 total time=  13.2s\n",
      "[CV 1/5; 319/400] START C=193.0902883381129, gamma=1503.8585842871576, kernel=rbf\n",
      "[CV 1/5; 319/400] END C=193.0902883381129, gamma=1503.8585842871576, kernel=rbf;, score=0.506 total time=  13.4s\n",
      "[CV 2/5; 319/400] START C=193.0902883381129, gamma=1503.8585842871576, kernel=rbf\n",
      "[CV 2/5; 319/400] END C=193.0902883381129, gamma=1503.8585842871576, kernel=rbf;, score=0.508 total time=  13.4s\n",
      "[CV 3/5; 319/400] START C=193.0902883381129, gamma=1503.8585842871576, kernel=rbf\n"
     ]
    },
    {
     "name": "stdout",
     "output_type": "stream",
     "text": [
      "[CV 3/5; 319/400] END C=193.0902883381129, gamma=1503.8585842871576, kernel=rbf;, score=0.506 total time=  13.3s\n",
      "[CV 4/5; 319/400] START C=193.0902883381129, gamma=1503.8585842871576, kernel=rbf\n",
      "[CV 4/5; 319/400] END C=193.0902883381129, gamma=1503.8585842871576, kernel=rbf;, score=0.508 total time=  13.3s\n",
      "[CV 5/5; 319/400] START C=193.0902883381129, gamma=1503.8585842871576, kernel=rbf\n",
      "[CV 5/5; 319/400] END C=193.0902883381129, gamma=1503.8585842871576, kernel=rbf;, score=0.508 total time=  13.4s\n",
      "[CV 1/5; 320/400] START C=193.0902883381129, gamma=2980.957987041727, kernel=rbf\n",
      "[CV 1/5; 320/400] END C=193.0902883381129, gamma=2980.957987041727, kernel=rbf;, score=0.506 total time=  13.7s\n",
      "[CV 2/5; 320/400] START C=193.0902883381129, gamma=2980.957987041727, kernel=rbf\n",
      "[CV 2/5; 320/400] END C=193.0902883381129, gamma=2980.957987041727, kernel=rbf;, score=0.508 total time=  13.6s\n",
      "[CV 3/5; 320/400] START C=193.0902883381129, gamma=2980.957987041727, kernel=rbf\n",
      "[CV 3/5; 320/400] END C=193.0902883381129, gamma=2980.957987041727, kernel=rbf;, score=0.506 total time=  13.3s\n",
      "[CV 4/5; 320/400] START C=193.0902883381129, gamma=2980.957987041727, kernel=rbf\n",
      "[CV 4/5; 320/400] END C=193.0902883381129, gamma=2980.957987041727, kernel=rbf;, score=0.508 total time=  13.3s\n",
      "[CV 5/5; 320/400] START C=193.0902883381129, gamma=2980.957987041727, kernel=rbf\n",
      "[CV 5/5; 320/400] END C=193.0902883381129, gamma=2980.957987041727, kernel=rbf;, score=0.508 total time=  13.3s\n",
      "[CV 1/5; 321/400] START C=382.7447894740212, gamma=0.006737946999085469, kernel=rbf\n",
      "[CV 1/5; 321/400] END C=382.7447894740212, gamma=0.006737946999085469, kernel=rbf;, score=0.852 total time=  11.8s\n",
      "[CV 2/5; 321/400] START C=382.7447894740212, gamma=0.006737946999085469, kernel=rbf\n",
      "[CV 2/5; 321/400] END C=382.7447894740212, gamma=0.006737946999085469, kernel=rbf;, score=0.867 total time=  12.7s\n",
      "[CV 3/5; 321/400] START C=382.7447894740212, gamma=0.006737946999085469, kernel=rbf\n",
      "[CV 3/5; 321/400] END C=382.7447894740212, gamma=0.006737946999085469, kernel=rbf;, score=0.848 total time=  11.7s\n",
      "[CV 4/5; 321/400] START C=382.7447894740212, gamma=0.006737946999085469, kernel=rbf\n",
      "[CV 4/5; 321/400] END C=382.7447894740212, gamma=0.006737946999085469, kernel=rbf;, score=0.869 total time=  11.9s\n",
      "[CV 5/5; 321/400] START C=382.7447894740212, gamma=0.006737946999085469, kernel=rbf\n",
      "[CV 5/5; 321/400] END C=382.7447894740212, gamma=0.006737946999085469, kernel=rbf;, score=0.870 total time=  11.8s\n",
      "[CV 1/5; 322/400] START C=382.7447894740212, gamma=0.013356001111439869, kernel=rbf\n",
      "[CV 1/5; 322/400] END C=382.7447894740212, gamma=0.013356001111439869, kernel=rbf;, score=0.851 total time=  12.0s\n",
      "[CV 2/5; 322/400] START C=382.7447894740212, gamma=0.013356001111439869, kernel=rbf\n",
      "[CV 2/5; 322/400] END C=382.7447894740212, gamma=0.013356001111439869, kernel=rbf;, score=0.866 total time=  12.0s\n",
      "[CV 3/5; 322/400] START C=382.7447894740212, gamma=0.013356001111439869, kernel=rbf\n",
      "[CV 3/5; 322/400] END C=382.7447894740212, gamma=0.013356001111439869, kernel=rbf;, score=0.848 total time=  11.7s\n",
      "[CV 4/5; 322/400] START C=382.7447894740212, gamma=0.013356001111439869, kernel=rbf\n",
      "[CV 4/5; 322/400] END C=382.7447894740212, gamma=0.013356001111439869, kernel=rbf;, score=0.869 total time=  11.9s\n",
      "[CV 5/5; 322/400] START C=382.7447894740212, gamma=0.013356001111439869, kernel=rbf\n",
      "[CV 5/5; 322/400] END C=382.7447894740212, gamma=0.013356001111439869, kernel=rbf;, score=0.870 total time=  11.9s\n",
      "[CV 1/5; 323/400] START C=382.7447894740212, gamma=0.026474349785326985, kernel=rbf\n",
      "[CV 1/5; 323/400] END C=382.7447894740212, gamma=0.026474349785326985, kernel=rbf;, score=0.853 total time=  12.0s\n",
      "[CV 2/5; 323/400] START C=382.7447894740212, gamma=0.026474349785326985, kernel=rbf\n",
      "[CV 2/5; 323/400] END C=382.7447894740212, gamma=0.026474349785326985, kernel=rbf;, score=0.866 total time=  12.3s\n",
      "[CV 3/5; 323/400] START C=382.7447894740212, gamma=0.026474349785326985, kernel=rbf\n",
      "[CV 3/5; 323/400] END C=382.7447894740212, gamma=0.026474349785326985, kernel=rbf;, score=0.848 total time=  11.8s\n",
      "[CV 4/5; 323/400] START C=382.7447894740212, gamma=0.026474349785326985, kernel=rbf\n",
      "[CV 4/5; 323/400] END C=382.7447894740212, gamma=0.026474349785326985, kernel=rbf;, score=0.868 total time=  12.4s\n",
      "[CV 5/5; 323/400] START C=382.7447894740212, gamma=0.026474349785326985, kernel=rbf\n",
      "[CV 5/5; 323/400] END C=382.7447894740212, gamma=0.026474349785326985, kernel=rbf;, score=0.870 total time=  12.1s\n",
      "[CV 1/5; 324/400] START C=382.7447894740212, gamma=0.052477623407466346, kernel=rbf\n",
      "[CV 1/5; 324/400] END C=382.7447894740212, gamma=0.052477623407466346, kernel=rbf;, score=0.852 total time=  12.0s\n",
      "[CV 2/5; 324/400] START C=382.7447894740212, gamma=0.052477623407466346, kernel=rbf\n",
      "[CV 2/5; 324/400] END C=382.7447894740212, gamma=0.052477623407466346, kernel=rbf;, score=0.867 total time=  12.8s\n",
      "[CV 3/5; 324/400] START C=382.7447894740212, gamma=0.052477623407466346, kernel=rbf\n",
      "[CV 3/5; 324/400] END C=382.7447894740212, gamma=0.052477623407466346, kernel=rbf;, score=0.848 total time=  11.9s\n",
      "[CV 4/5; 324/400] START C=382.7447894740212, gamma=0.052477623407466346, kernel=rbf\n",
      "[CV 4/5; 324/400] END C=382.7447894740212, gamma=0.052477623407466346, kernel=rbf;, score=0.869 total time=  12.0s\n",
      "[CV 5/5; 324/400] START C=382.7447894740212, gamma=0.052477623407466346, kernel=rbf\n",
      "[CV 5/5; 324/400] END C=382.7447894740212, gamma=0.052477623407466346, kernel=rbf;, score=0.870 total time=  12.0s\n",
      "[CV 1/5; 325/400] START C=382.7447894740212, gamma=0.10402147666803764, kernel=rbf\n",
      "[CV 1/5; 325/400] END C=382.7447894740212, gamma=0.10402147666803764, kernel=rbf;, score=0.855 total time=  12.1s\n",
      "[CV 2/5; 325/400] START C=382.7447894740212, gamma=0.10402147666803764, kernel=rbf\n",
      "[CV 2/5; 325/400] END C=382.7447894740212, gamma=0.10402147666803764, kernel=rbf;, score=0.868 total time=  12.3s\n",
      "[CV 3/5; 325/400] START C=382.7447894740212, gamma=0.10402147666803764, kernel=rbf\n",
      "[CV 3/5; 325/400] END C=382.7447894740212, gamma=0.10402147666803764, kernel=rbf;, score=0.845 total time=  12.0s\n",
      "[CV 4/5; 325/400] START C=382.7447894740212, gamma=0.10402147666803764, kernel=rbf\n",
      "[CV 4/5; 325/400] END C=382.7447894740212, gamma=0.10402147666803764, kernel=rbf;, score=0.867 total time=  12.1s\n",
      "[CV 5/5; 325/400] START C=382.7447894740212, gamma=0.10402147666803764, kernel=rbf\n",
      "[CV 5/5; 325/400] END C=382.7447894740212, gamma=0.10402147666803764, kernel=rbf;, score=0.870 total time=  12.0s\n",
      "[CV 1/5; 326/400] START C=382.7447894740212, gamma=0.20619202825140895, kernel=rbf\n",
      "[CV 1/5; 326/400] END C=382.7447894740212, gamma=0.20619202825140895, kernel=rbf;, score=0.857 total time=  12.3s\n",
      "[CV 2/5; 326/400] START C=382.7447894740212, gamma=0.20619202825140895, kernel=rbf\n",
      "[CV 2/5; 326/400] END C=382.7447894740212, gamma=0.20619202825140895, kernel=rbf;, score=0.870 total time=  12.5s\n",
      "[CV 3/5; 326/400] START C=382.7447894740212, gamma=0.20619202825140895, kernel=rbf\n",
      "[CV 3/5; 326/400] END C=382.7447894740212, gamma=0.20619202825140895, kernel=rbf;, score=0.847 total time=  12.1s\n",
      "[CV 4/5; 326/400] START C=382.7447894740212, gamma=0.20619202825140895, kernel=rbf\n",
      "[CV 4/5; 326/400] END C=382.7447894740212, gamma=0.20619202825140895, kernel=rbf;, score=0.867 total time=  12.3s\n",
      "[CV 5/5; 326/400] START C=382.7447894740212, gamma=0.20619202825140895, kernel=rbf\n",
      "[CV 5/5; 326/400] END C=382.7447894740212, gamma=0.20619202825140895, kernel=rbf;, score=0.874 total time=  12.3s\n",
      "[CV 1/5; 327/400] START C=382.7447894740212, gamma=0.40871514110598417, kernel=rbf\n",
      "[CV 1/5; 327/400] END C=382.7447894740212, gamma=0.40871514110598417, kernel=rbf;, score=0.865 total time=  12.7s\n",
      "[CV 2/5; 327/400] START C=382.7447894740212, gamma=0.40871514110598417, kernel=rbf\n",
      "[CV 2/5; 327/400] END C=382.7447894740212, gamma=0.40871514110598417, kernel=rbf;, score=0.870 total time=  12.8s\n",
      "[CV 3/5; 327/400] START C=382.7447894740212, gamma=0.40871514110598417, kernel=rbf\n",
      "[CV 3/5; 327/400] END C=382.7447894740212, gamma=0.40871514110598417, kernel=rbf;, score=0.848 total time=  12.5s\n",
      "[CV 4/5; 327/400] START C=382.7447894740212, gamma=0.40871514110598417, kernel=rbf\n",
      "[CV 4/5; 327/400] END C=382.7447894740212, gamma=0.40871514110598417, kernel=rbf;, score=0.867 total time=  12.7s\n",
      "[CV 5/5; 327/400] START C=382.7447894740212, gamma=0.40871514110598417, kernel=rbf\n"
     ]
    },
    {
     "name": "stdout",
     "output_type": "stream",
     "text": [
      "[CV 5/5; 327/400] END C=382.7447894740212, gamma=0.40871514110598417, kernel=rbf;, score=0.879 total time=  12.6s\n",
      "[CV 1/5; 328/400] START C=382.7447894740212, gamma=0.8101577349324269, kernel=rbf\n",
      "[CV 1/5; 328/400] END C=382.7447894740212, gamma=0.8101577349324269, kernel=rbf;, score=0.870 total time=  13.1s\n",
      "[CV 2/5; 328/400] START C=382.7447894740212, gamma=0.8101577349324269, kernel=rbf\n",
      "[CV 2/5; 328/400] END C=382.7447894740212, gamma=0.8101577349324269, kernel=rbf;, score=0.869 total time=  13.1s\n",
      "[CV 3/5; 328/400] START C=382.7447894740212, gamma=0.8101577349324269, kernel=rbf\n",
      "[CV 3/5; 328/400] END C=382.7447894740212, gamma=0.8101577349324269, kernel=rbf;, score=0.839 total time=  12.9s\n",
      "[CV 4/5; 328/400] START C=382.7447894740212, gamma=0.8101577349324269, kernel=rbf\n",
      "[CV 4/5; 328/400] END C=382.7447894740212, gamma=0.8101577349324269, kernel=rbf;, score=0.873 total time=  13.1s\n",
      "[CV 5/5; 328/400] START C=382.7447894740212, gamma=0.8101577349324269, kernel=rbf\n",
      "[CV 5/5; 328/400] END C=382.7447894740212, gamma=0.8101577349324269, kernel=rbf;, score=0.880 total time=  13.1s\n",
      "[CV 1/5; 329/400] START C=382.7447894740212, gamma=1.6058997806999291, kernel=rbf\n",
      "[CV 1/5; 329/400] END C=382.7447894740212, gamma=1.6058997806999291, kernel=rbf;, score=0.877 total time=  13.4s\n",
      "[CV 2/5; 329/400] START C=382.7447894740212, gamma=1.6058997806999291, kernel=rbf\n",
      "[CV 2/5; 329/400] END C=382.7447894740212, gamma=1.6058997806999291, kernel=rbf;, score=0.873 total time=  13.4s\n",
      "[CV 3/5; 329/400] START C=382.7447894740212, gamma=1.6058997806999291, kernel=rbf\n",
      "[CV 3/5; 329/400] END C=382.7447894740212, gamma=1.6058997806999291, kernel=rbf;, score=0.838 total time=  13.3s\n",
      "[CV 4/5; 329/400] START C=382.7447894740212, gamma=1.6058997806999291, kernel=rbf\n",
      "[CV 4/5; 329/400] END C=382.7447894740212, gamma=1.6058997806999291, kernel=rbf;, score=0.867 total time=  13.4s\n",
      "[CV 5/5; 329/400] START C=382.7447894740212, gamma=1.6058997806999291, kernel=rbf\n",
      "[CV 5/5; 329/400] END C=382.7447894740212, gamma=1.6058997806999291, kernel=rbf;, score=0.877 total time=  13.3s\n",
      "[CV 1/5; 330/400] START C=382.7447894740212, gamma=3.1832246912598827, kernel=rbf\n",
      "[CV 1/5; 330/400] END C=382.7447894740212, gamma=3.1832246912598827, kernel=rbf;, score=0.846 total time=  13.4s\n",
      "[CV 2/5; 330/400] START C=382.7447894740212, gamma=3.1832246912598827, kernel=rbf\n",
      "[CV 2/5; 330/400] END C=382.7447894740212, gamma=3.1832246912598827, kernel=rbf;, score=0.845 total time=  13.4s\n",
      "[CV 3/5; 330/400] START C=382.7447894740212, gamma=3.1832246912598827, kernel=rbf\n",
      "[CV 3/5; 330/400] END C=382.7447894740212, gamma=3.1832246912598827, kernel=rbf;, score=0.837 total time=  13.3s\n",
      "[CV 4/5; 330/400] START C=382.7447894740212, gamma=3.1832246912598827, kernel=rbf\n",
      "[CV 4/5; 330/400] END C=382.7447894740212, gamma=3.1832246912598827, kernel=rbf;, score=0.841 total time=  13.4s\n",
      "[CV 5/5; 330/400] START C=382.7447894740212, gamma=3.1832246912598827, kernel=rbf\n",
      "[CV 5/5; 330/400] END C=382.7447894740212, gamma=3.1832246912598827, kernel=rbf;, score=0.843 total time=  13.3s\n",
      "[CV 1/5; 331/400] START C=382.7447894740212, gamma=6.3098080943943815, kernel=rbf\n",
      "[CV 1/5; 331/400] END C=382.7447894740212, gamma=6.3098080943943815, kernel=rbf;, score=0.506 total time=  13.5s\n",
      "[CV 2/5; 331/400] START C=382.7447894740212, gamma=6.3098080943943815, kernel=rbf\n",
      "[CV 2/5; 331/400] END C=382.7447894740212, gamma=6.3098080943943815, kernel=rbf;, score=0.509 total time=  13.9s\n",
      "[CV 3/5; 331/400] START C=382.7447894740212, gamma=6.3098080943943815, kernel=rbf\n",
      "[CV 3/5; 331/400] END C=382.7447894740212, gamma=6.3098080943943815, kernel=rbf;, score=0.507 total time=  13.3s\n",
      "[CV 4/5; 331/400] START C=382.7447894740212, gamma=6.3098080943943815, kernel=rbf\n",
      "[CV 4/5; 331/400] END C=382.7447894740212, gamma=6.3098080943943815, kernel=rbf;, score=0.508 total time=  13.5s\n",
      "[CV 5/5; 331/400] START C=382.7447894740212, gamma=6.3098080943943815, kernel=rbf\n",
      "[CV 5/5; 331/400] END C=382.7447894740212, gamma=6.3098080943943815, kernel=rbf;, score=0.508 total time=  13.5s\n",
      "[CV 1/5; 332/400] START C=382.7447894740212, gamma=12.507341469611143, kernel=rbf\n",
      "[CV 1/5; 332/400] END C=382.7447894740212, gamma=12.507341469611143, kernel=rbf;, score=0.506 total time=  13.4s\n",
      "[CV 2/5; 332/400] START C=382.7447894740212, gamma=12.507341469611143, kernel=rbf\n",
      "[CV 2/5; 332/400] END C=382.7447894740212, gamma=12.507341469611143, kernel=rbf;, score=0.509 total time=  13.6s\n",
      "[CV 3/5; 332/400] START C=382.7447894740212, gamma=12.507341469611143, kernel=rbf\n",
      "[CV 3/5; 332/400] END C=382.7447894740212, gamma=12.507341469611143, kernel=rbf;, score=0.507 total time=  13.9s\n",
      "[CV 4/5; 332/400] START C=382.7447894740212, gamma=12.507341469611143, kernel=rbf\n",
      "[CV 4/5; 332/400] END C=382.7447894740212, gamma=12.507341469611143, kernel=rbf;, score=0.508 total time=  13.8s\n",
      "[CV 5/5; 332/400] START C=382.7447894740212, gamma=12.507341469611143, kernel=rbf\n",
      "[CV 5/5; 332/400] END C=382.7447894740212, gamma=12.507341469611143, kernel=rbf;, score=0.508 total time=  13.5s\n",
      "[CV 1/5; 333/400] START C=382.7447894740212, gamma=24.792131281525027, kernel=rbf\n",
      "[CV 1/5; 333/400] END C=382.7447894740212, gamma=24.792131281525027, kernel=rbf;, score=0.506 total time=  13.3s\n",
      "[CV 2/5; 333/400] START C=382.7447894740212, gamma=24.792131281525027, kernel=rbf\n",
      "[CV 2/5; 333/400] END C=382.7447894740212, gamma=24.792131281525027, kernel=rbf;, score=0.509 total time=  13.4s\n",
      "[CV 3/5; 333/400] START C=382.7447894740212, gamma=24.792131281525027, kernel=rbf\n",
      "[CV 3/5; 333/400] END C=382.7447894740212, gamma=24.792131281525027, kernel=rbf;, score=0.507 total time=  13.4s\n",
      "[CV 4/5; 333/400] START C=382.7447894740212, gamma=24.792131281525027, kernel=rbf\n",
      "[CV 4/5; 333/400] END C=382.7447894740212, gamma=24.792131281525027, kernel=rbf;, score=0.508 total time=  13.4s\n",
      "[CV 5/5; 333/400] START C=382.7447894740212, gamma=24.792131281525027, kernel=rbf\n",
      "[CV 5/5; 333/400] END C=382.7447894740212, gamma=24.792131281525027, kernel=rbf;, score=0.508 total time=  13.4s\n",
      "[CV 1/5; 334/400] START C=382.7447894740212, gamma=49.143119261097524, kernel=rbf\n",
      "[CV 1/5; 334/400] END C=382.7447894740212, gamma=49.143119261097524, kernel=rbf;, score=0.506 total time=  13.3s\n",
      "[CV 2/5; 334/400] START C=382.7447894740212, gamma=49.143119261097524, kernel=rbf\n",
      "[CV 2/5; 334/400] END C=382.7447894740212, gamma=49.143119261097524, kernel=rbf;, score=0.509 total time=  13.4s\n",
      "[CV 3/5; 334/400] START C=382.7447894740212, gamma=49.143119261097524, kernel=rbf\n",
      "[CV 3/5; 334/400] END C=382.7447894740212, gamma=49.143119261097524, kernel=rbf;, score=0.507 total time=  13.3s\n",
      "[CV 4/5; 334/400] START C=382.7447894740212, gamma=49.143119261097524, kernel=rbf\n",
      "[CV 4/5; 334/400] END C=382.7447894740212, gamma=49.143119261097524, kernel=rbf;, score=0.508 total time=  13.4s\n",
      "[CV 5/5; 334/400] START C=382.7447894740212, gamma=49.143119261097524, kernel=rbf\n",
      "[CV 5/5; 334/400] END C=382.7447894740212, gamma=49.143119261097524, kernel=rbf;, score=0.508 total time=  14.4s\n",
      "[CV 1/5; 335/400] START C=382.7447894740212, gamma=97.41180148195387, kernel=rbf\n",
      "[CV 1/5; 335/400] END C=382.7447894740212, gamma=97.41180148195387, kernel=rbf;, score=0.506 total time=  13.3s\n",
      "[CV 2/5; 335/400] START C=382.7447894740212, gamma=97.41180148195387, kernel=rbf\n",
      "[CV 2/5; 335/400] END C=382.7447894740212, gamma=97.41180148195387, kernel=rbf;, score=0.509 total time=  13.5s\n",
      "[CV 3/5; 335/400] START C=382.7447894740212, gamma=97.41180148195387, kernel=rbf\n",
      "[CV 3/5; 335/400] END C=382.7447894740212, gamma=97.41180148195387, kernel=rbf;, score=0.507 total time=  13.3s\n",
      "[CV 4/5; 335/400] START C=382.7447894740212, gamma=97.41180148195387, kernel=rbf\n",
      "[CV 4/5; 335/400] END C=382.7447894740212, gamma=97.41180148195387, kernel=rbf;, score=0.508 total time=  13.5s\n",
      "[CV 5/5; 335/400] START C=382.7447894740212, gamma=97.41180148195387, kernel=rbf\n",
      "[CV 5/5; 335/400] END C=382.7447894740212, gamma=97.41180148195387, kernel=rbf;, score=0.508 total time=  13.4s\n",
      "[CV 1/5; 336/400] START C=382.7447894740212, gamma=193.0902883381129, kernel=rbf\n",
      "[CV 1/5; 336/400] END C=382.7447894740212, gamma=193.0902883381129, kernel=rbf;, score=0.506 total time=  13.4s\n",
      "[CV 2/5; 336/400] START C=382.7447894740212, gamma=193.0902883381129, kernel=rbf\n",
      "[CV 2/5; 336/400] END C=382.7447894740212, gamma=193.0902883381129, kernel=rbf;, score=0.509 total time=  13.4s\n",
      "[CV 3/5; 336/400] START C=382.7447894740212, gamma=193.0902883381129, kernel=rbf\n"
     ]
    },
    {
     "name": "stdout",
     "output_type": "stream",
     "text": [
      "[CV 3/5; 336/400] END C=382.7447894740212, gamma=193.0902883381129, kernel=rbf;, score=0.507 total time=  13.3s\n",
      "[CV 4/5; 336/400] START C=382.7447894740212, gamma=193.0902883381129, kernel=rbf\n",
      "[CV 4/5; 336/400] END C=382.7447894740212, gamma=193.0902883381129, kernel=rbf;, score=0.508 total time=  13.4s\n",
      "[CV 5/5; 336/400] START C=382.7447894740212, gamma=193.0902883381129, kernel=rbf\n",
      "[CV 5/5; 336/400] END C=382.7447894740212, gamma=193.0902883381129, kernel=rbf;, score=0.508 total time=  13.4s\n",
      "[CV 1/5; 337/400] START C=382.7447894740212, gamma=382.7447894740212, kernel=rbf\n",
      "[CV 1/5; 337/400] END C=382.7447894740212, gamma=382.7447894740212, kernel=rbf;, score=0.506 total time=  13.8s\n",
      "[CV 2/5; 337/400] START C=382.7447894740212, gamma=382.7447894740212, kernel=rbf\n",
      "[CV 2/5; 337/400] END C=382.7447894740212, gamma=382.7447894740212, kernel=rbf;, score=0.509 total time=  13.8s\n",
      "[CV 3/5; 337/400] START C=382.7447894740212, gamma=382.7447894740212, kernel=rbf\n",
      "[CV 3/5; 337/400] END C=382.7447894740212, gamma=382.7447894740212, kernel=rbf;, score=0.507 total time=  13.6s\n",
      "[CV 4/5; 337/400] START C=382.7447894740212, gamma=382.7447894740212, kernel=rbf\n",
      "[CV 4/5; 337/400] END C=382.7447894740212, gamma=382.7447894740212, kernel=rbf;, score=0.508 total time=  13.8s\n",
      "[CV 5/5; 337/400] START C=382.7447894740212, gamma=382.7447894740212, kernel=rbf\n",
      "[CV 5/5; 337/400] END C=382.7447894740212, gamma=382.7447894740212, kernel=rbf;, score=0.508 total time=  13.7s\n",
      "[CV 1/5; 338/400] START C=382.7447894740212, gamma=758.679139848782, kernel=rbf.\n",
      "[CV 1/5; 338/400] END C=382.7447894740212, gamma=758.679139848782, kernel=rbf;, score=0.506 total time=  13.3s\n",
      "[CV 2/5; 338/400] START C=382.7447894740212, gamma=758.679139848782, kernel=rbf.\n",
      "[CV 2/5; 338/400] END C=382.7447894740212, gamma=758.679139848782, kernel=rbf;, score=0.508 total time=  13.4s\n",
      "[CV 3/5; 338/400] START C=382.7447894740212, gamma=758.679139848782, kernel=rbf.\n",
      "[CV 3/5; 338/400] END C=382.7447894740212, gamma=758.679139848782, kernel=rbf;, score=0.506 total time=  13.3s\n",
      "[CV 4/5; 338/400] START C=382.7447894740212, gamma=758.679139848782, kernel=rbf.\n",
      "[CV 4/5; 338/400] END C=382.7447894740212, gamma=758.679139848782, kernel=rbf;, score=0.508 total time=  13.3s\n",
      "[CV 5/5; 338/400] START C=382.7447894740212, gamma=758.679139848782, kernel=rbf.\n",
      "[CV 5/5; 338/400] END C=382.7447894740212, gamma=758.679139848782, kernel=rbf;, score=0.508 total time=  13.4s\n",
      "[CV 1/5; 339/400] START C=382.7447894740212, gamma=1503.8585842871576, kernel=rbf\n",
      "[CV 1/5; 339/400] END C=382.7447894740212, gamma=1503.8585842871576, kernel=rbf;, score=0.506 total time=  13.4s\n",
      "[CV 2/5; 339/400] START C=382.7447894740212, gamma=1503.8585842871576, kernel=rbf\n",
      "[CV 2/5; 339/400] END C=382.7447894740212, gamma=1503.8585842871576, kernel=rbf;, score=0.508 total time=  13.4s\n",
      "[CV 3/5; 339/400] START C=382.7447894740212, gamma=1503.8585842871576, kernel=rbf\n",
      "[CV 3/5; 339/400] END C=382.7447894740212, gamma=1503.8585842871576, kernel=rbf;, score=0.506 total time=  13.2s\n",
      "[CV 4/5; 339/400] START C=382.7447894740212, gamma=1503.8585842871576, kernel=rbf\n",
      "[CV 4/5; 339/400] END C=382.7447894740212, gamma=1503.8585842871576, kernel=rbf;, score=0.508 total time=  13.4s\n",
      "[CV 5/5; 339/400] START C=382.7447894740212, gamma=1503.8585842871576, kernel=rbf\n",
      "[CV 5/5; 339/400] END C=382.7447894740212, gamma=1503.8585842871576, kernel=rbf;, score=0.508 total time=  13.3s\n",
      "[CV 1/5; 340/400] START C=382.7447894740212, gamma=2980.957987041727, kernel=rbf\n",
      "[CV 1/5; 340/400] END C=382.7447894740212, gamma=2980.957987041727, kernel=rbf;, score=0.506 total time=  13.3s\n",
      "[CV 2/5; 340/400] START C=382.7447894740212, gamma=2980.957987041727, kernel=rbf\n",
      "[CV 2/5; 340/400] END C=382.7447894740212, gamma=2980.957987041727, kernel=rbf;, score=0.508 total time=  13.4s\n",
      "[CV 3/5; 340/400] START C=382.7447894740212, gamma=2980.957987041727, kernel=rbf\n",
      "[CV 3/5; 340/400] END C=382.7447894740212, gamma=2980.957987041727, kernel=rbf;, score=0.506 total time=  13.2s\n",
      "[CV 4/5; 340/400] START C=382.7447894740212, gamma=2980.957987041727, kernel=rbf\n",
      "[CV 4/5; 340/400] END C=382.7447894740212, gamma=2980.957987041727, kernel=rbf;, score=0.508 total time=  13.4s\n",
      "[CV 5/5; 340/400] START C=382.7447894740212, gamma=2980.957987041727, kernel=rbf\n",
      "[CV 5/5; 340/400] END C=382.7447894740212, gamma=2980.957987041727, kernel=rbf;, score=0.508 total time=  13.3s\n",
      "[CV 1/5; 341/400] START C=758.679139848782, gamma=0.006737946999085469, kernel=rbf\n",
      "[CV 1/5; 341/400] END C=758.679139848782, gamma=0.006737946999085469, kernel=rbf;, score=0.852 total time=  11.9s\n",
      "[CV 2/5; 341/400] START C=758.679139848782, gamma=0.006737946999085469, kernel=rbf\n",
      "[CV 2/5; 341/400] END C=758.679139848782, gamma=0.006737946999085469, kernel=rbf;, score=0.867 total time=  11.9s\n",
      "[CV 3/5; 341/400] START C=758.679139848782, gamma=0.006737946999085469, kernel=rbf\n",
      "[CV 3/5; 341/400] END C=758.679139848782, gamma=0.006737946999085469, kernel=rbf;, score=0.848 total time=  11.8s\n",
      "[CV 4/5; 341/400] START C=758.679139848782, gamma=0.006737946999085469, kernel=rbf\n",
      "[CV 4/5; 341/400] END C=758.679139848782, gamma=0.006737946999085469, kernel=rbf;, score=0.869 total time=  12.0s\n",
      "[CV 5/5; 341/400] START C=758.679139848782, gamma=0.006737946999085469, kernel=rbf\n",
      "[CV 5/5; 341/400] END C=758.679139848782, gamma=0.006737946999085469, kernel=rbf;, score=0.870 total time=  12.5s\n",
      "[CV 1/5; 342/400] START C=758.679139848782, gamma=0.013356001111439869, kernel=rbf\n",
      "[CV 1/5; 342/400] END C=758.679139848782, gamma=0.013356001111439869, kernel=rbf;, score=0.851 total time=  12.3s\n",
      "[CV 2/5; 342/400] START C=758.679139848782, gamma=0.013356001111439869, kernel=rbf\n",
      "[CV 2/5; 342/400] END C=758.679139848782, gamma=0.013356001111439869, kernel=rbf;, score=0.866 total time=  12.4s\n",
      "[CV 3/5; 342/400] START C=758.679139848782, gamma=0.013356001111439869, kernel=rbf\n",
      "[CV 3/5; 342/400] END C=758.679139848782, gamma=0.013356001111439869, kernel=rbf;, score=0.848 total time=  11.9s\n",
      "[CV 4/5; 342/400] START C=758.679139848782, gamma=0.013356001111439869, kernel=rbf\n",
      "[CV 4/5; 342/400] END C=758.679139848782, gamma=0.013356001111439869, kernel=rbf;, score=0.869 total time=  12.1s\n",
      "[CV 5/5; 342/400] START C=758.679139848782, gamma=0.013356001111439869, kernel=rbf\n",
      "[CV 5/5; 342/400] END C=758.679139848782, gamma=0.013356001111439869, kernel=rbf;, score=0.870 total time=  11.9s\n",
      "[CV 1/5; 343/400] START C=758.679139848782, gamma=0.026474349785326985, kernel=rbf\n",
      "[CV 1/5; 343/400] END C=758.679139848782, gamma=0.026474349785326985, kernel=rbf;, score=0.853 total time=  12.0s\n",
      "[CV 2/5; 343/400] START C=758.679139848782, gamma=0.026474349785326985, kernel=rbf\n",
      "[CV 2/5; 343/400] END C=758.679139848782, gamma=0.026474349785326985, kernel=rbf;, score=0.866 total time=  12.1s\n",
      "[CV 3/5; 343/400] START C=758.679139848782, gamma=0.026474349785326985, kernel=rbf\n",
      "[CV 3/5; 343/400] END C=758.679139848782, gamma=0.026474349785326985, kernel=rbf;, score=0.848 total time=  11.8s\n",
      "[CV 4/5; 343/400] START C=758.679139848782, gamma=0.026474349785326985, kernel=rbf\n",
      "[CV 4/5; 343/400] END C=758.679139848782, gamma=0.026474349785326985, kernel=rbf;, score=0.868 total time=  11.9s\n",
      "[CV 5/5; 343/400] START C=758.679139848782, gamma=0.026474349785326985, kernel=rbf\n",
      "[CV 5/5; 343/400] END C=758.679139848782, gamma=0.026474349785326985, kernel=rbf;, score=0.870 total time=  11.8s\n",
      "[CV 1/5; 344/400] START C=758.679139848782, gamma=0.052477623407466346, kernel=rbf\n",
      "[CV 1/5; 344/400] END C=758.679139848782, gamma=0.052477623407466346, kernel=rbf;, score=0.852 total time=  12.0s\n",
      "[CV 2/5; 344/400] START C=758.679139848782, gamma=0.052477623407466346, kernel=rbf\n",
      "[CV 2/5; 344/400] END C=758.679139848782, gamma=0.052477623407466346, kernel=rbf;, score=0.867 total time=  12.0s\n",
      "[CV 3/5; 344/400] START C=758.679139848782, gamma=0.052477623407466346, kernel=rbf\n",
      "[CV 3/5; 344/400] END C=758.679139848782, gamma=0.052477623407466346, kernel=rbf;, score=0.848 total time=  11.8s\n",
      "[CV 4/5; 344/400] START C=758.679139848782, gamma=0.052477623407466346, kernel=rbf\n",
      "[CV 4/5; 344/400] END C=758.679139848782, gamma=0.052477623407466346, kernel=rbf;, score=0.869 total time=  12.0s\n",
      "[CV 5/5; 344/400] START C=758.679139848782, gamma=0.052477623407466346, kernel=rbf\n",
      "[CV 5/5; 344/400] END C=758.679139848782, gamma=0.052477623407466346, kernel=rbf;, score=0.870 total time=  12.0s\n",
      "[CV 1/5; 345/400] START C=758.679139848782, gamma=0.10402147666803764, kernel=rbf\n"
     ]
    },
    {
     "name": "stdout",
     "output_type": "stream",
     "text": [
      "[CV 1/5; 345/400] END C=758.679139848782, gamma=0.10402147666803764, kernel=rbf;, score=0.855 total time=  12.2s\n",
      "[CV 2/5; 345/400] START C=758.679139848782, gamma=0.10402147666803764, kernel=rbf\n",
      "[CV 2/5; 345/400] END C=758.679139848782, gamma=0.10402147666803764, kernel=rbf;, score=0.868 total time=  12.2s\n",
      "[CV 3/5; 345/400] START C=758.679139848782, gamma=0.10402147666803764, kernel=rbf\n",
      "[CV 3/5; 345/400] END C=758.679139848782, gamma=0.10402147666803764, kernel=rbf;, score=0.845 total time=  11.9s\n",
      "[CV 4/5; 345/400] START C=758.679139848782, gamma=0.10402147666803764, kernel=rbf\n",
      "[CV 4/5; 345/400] END C=758.679139848782, gamma=0.10402147666803764, kernel=rbf;, score=0.867 total time=  12.1s\n",
      "[CV 5/5; 345/400] START C=758.679139848782, gamma=0.10402147666803764, kernel=rbf\n",
      "[CV 5/5; 345/400] END C=758.679139848782, gamma=0.10402147666803764, kernel=rbf;, score=0.870 total time=  12.3s\n",
      "[CV 1/5; 346/400] START C=758.679139848782, gamma=0.20619202825140895, kernel=rbf\n",
      "[CV 1/5; 346/400] END C=758.679139848782, gamma=0.20619202825140895, kernel=rbf;, score=0.857 total time=  12.3s\n",
      "[CV 2/5; 346/400] START C=758.679139848782, gamma=0.20619202825140895, kernel=rbf\n",
      "[CV 2/5; 346/400] END C=758.679139848782, gamma=0.20619202825140895, kernel=rbf;, score=0.870 total time=  12.4s\n",
      "[CV 3/5; 346/400] START C=758.679139848782, gamma=0.20619202825140895, kernel=rbf\n",
      "[CV 3/5; 346/400] END C=758.679139848782, gamma=0.20619202825140895, kernel=rbf;, score=0.847 total time=  12.2s\n",
      "[CV 4/5; 346/400] START C=758.679139848782, gamma=0.20619202825140895, kernel=rbf\n",
      "[CV 4/5; 346/400] END C=758.679139848782, gamma=0.20619202825140895, kernel=rbf;, score=0.867 total time=  12.3s\n",
      "[CV 5/5; 346/400] START C=758.679139848782, gamma=0.20619202825140895, kernel=rbf\n",
      "[CV 5/5; 346/400] END C=758.679139848782, gamma=0.20619202825140895, kernel=rbf;, score=0.874 total time=  12.3s\n",
      "[CV 1/5; 347/400] START C=758.679139848782, gamma=0.40871514110598417, kernel=rbf\n",
      "[CV 1/5; 347/400] END C=758.679139848782, gamma=0.40871514110598417, kernel=rbf;, score=0.865 total time=  12.6s\n",
      "[CV 2/5; 347/400] START C=758.679139848782, gamma=0.40871514110598417, kernel=rbf\n",
      "[CV 2/5; 347/400] END C=758.679139848782, gamma=0.40871514110598417, kernel=rbf;, score=0.870 total time=  12.7s\n",
      "[CV 3/5; 347/400] START C=758.679139848782, gamma=0.40871514110598417, kernel=rbf\n",
      "[CV 3/5; 347/400] END C=758.679139848782, gamma=0.40871514110598417, kernel=rbf;, score=0.848 total time=  12.6s\n",
      "[CV 4/5; 347/400] START C=758.679139848782, gamma=0.40871514110598417, kernel=rbf\n",
      "[CV 4/5; 347/400] END C=758.679139848782, gamma=0.40871514110598417, kernel=rbf;, score=0.867 total time=  12.6s\n",
      "[CV 5/5; 347/400] START C=758.679139848782, gamma=0.40871514110598417, kernel=rbf\n",
      "[CV 5/5; 347/400] END C=758.679139848782, gamma=0.40871514110598417, kernel=rbf;, score=0.879 total time=  12.6s\n",
      "[CV 1/5; 348/400] START C=758.679139848782, gamma=0.8101577349324269, kernel=rbf\n",
      "[CV 1/5; 348/400] END C=758.679139848782, gamma=0.8101577349324269, kernel=rbf;, score=0.870 total time=  13.1s\n",
      "[CV 2/5; 348/400] START C=758.679139848782, gamma=0.8101577349324269, kernel=rbf\n",
      "[CV 2/5; 348/400] END C=758.679139848782, gamma=0.8101577349324269, kernel=rbf;, score=0.869 total time=  13.3s\n",
      "[CV 3/5; 348/400] START C=758.679139848782, gamma=0.8101577349324269, kernel=rbf\n",
      "[CV 3/5; 348/400] END C=758.679139848782, gamma=0.8101577349324269, kernel=rbf;, score=0.839 total time=  13.1s\n",
      "[CV 4/5; 348/400] START C=758.679139848782, gamma=0.8101577349324269, kernel=rbf\n",
      "[CV 4/5; 348/400] END C=758.679139848782, gamma=0.8101577349324269, kernel=rbf;, score=0.873 total time=  13.2s\n",
      "[CV 5/5; 348/400] START C=758.679139848782, gamma=0.8101577349324269, kernel=rbf\n",
      "[CV 5/5; 348/400] END C=758.679139848782, gamma=0.8101577349324269, kernel=rbf;, score=0.880 total time=  13.3s\n",
      "[CV 1/5; 349/400] START C=758.679139848782, gamma=1.6058997806999291, kernel=rbf\n",
      "[CV 1/5; 349/400] END C=758.679139848782, gamma=1.6058997806999291, kernel=rbf;, score=0.877 total time=  13.4s\n",
      "[CV 2/5; 349/400] START C=758.679139848782, gamma=1.6058997806999291, kernel=rbf\n",
      "[CV 2/5; 349/400] END C=758.679139848782, gamma=1.6058997806999291, kernel=rbf;, score=0.873 total time=  13.5s\n",
      "[CV 3/5; 349/400] START C=758.679139848782, gamma=1.6058997806999291, kernel=rbf\n",
      "[CV 3/5; 349/400] END C=758.679139848782, gamma=1.6058997806999291, kernel=rbf;, score=0.838 total time=  13.2s\n",
      "[CV 4/5; 349/400] START C=758.679139848782, gamma=1.6058997806999291, kernel=rbf\n",
      "[CV 4/5; 349/400] END C=758.679139848782, gamma=1.6058997806999291, kernel=rbf;, score=0.867 total time=  13.4s\n",
      "[CV 5/5; 349/400] START C=758.679139848782, gamma=1.6058997806999291, kernel=rbf\n",
      "[CV 5/5; 349/400] END C=758.679139848782, gamma=1.6058997806999291, kernel=rbf;, score=0.877 total time=  13.3s\n",
      "[CV 1/5; 350/400] START C=758.679139848782, gamma=3.1832246912598827, kernel=rbf\n",
      "[CV 1/5; 350/400] END C=758.679139848782, gamma=3.1832246912598827, kernel=rbf;, score=0.846 total time=  13.3s\n",
      "[CV 2/5; 350/400] START C=758.679139848782, gamma=3.1832246912598827, kernel=rbf\n",
      "[CV 2/5; 350/400] END C=758.679139848782, gamma=3.1832246912598827, kernel=rbf;, score=0.845 total time=  13.4s\n",
      "[CV 3/5; 350/400] START C=758.679139848782, gamma=3.1832246912598827, kernel=rbf\n",
      "[CV 3/5; 350/400] END C=758.679139848782, gamma=3.1832246912598827, kernel=rbf;, score=0.837 total time=  13.3s\n",
      "[CV 4/5; 350/400] START C=758.679139848782, gamma=3.1832246912598827, kernel=rbf\n",
      "[CV 4/5; 350/400] END C=758.679139848782, gamma=3.1832246912598827, kernel=rbf;, score=0.841 total time=  13.3s\n",
      "[CV 5/5; 350/400] START C=758.679139848782, gamma=3.1832246912598827, kernel=rbf\n",
      "[CV 5/5; 350/400] END C=758.679139848782, gamma=3.1832246912598827, kernel=rbf;, score=0.843 total time=  13.3s\n",
      "[CV 1/5; 351/400] START C=758.679139848782, gamma=6.3098080943943815, kernel=rbf\n",
      "[CV 1/5; 351/400] END C=758.679139848782, gamma=6.3098080943943815, kernel=rbf;, score=0.506 total time=  13.4s\n",
      "[CV 2/5; 351/400] START C=758.679139848782, gamma=6.3098080943943815, kernel=rbf\n",
      "[CV 2/5; 351/400] END C=758.679139848782, gamma=6.3098080943943815, kernel=rbf;, score=0.509 total time=  13.5s\n",
      "[CV 3/5; 351/400] START C=758.679139848782, gamma=6.3098080943943815, kernel=rbf\n",
      "[CV 3/5; 351/400] END C=758.679139848782, gamma=6.3098080943943815, kernel=rbf;, score=0.507 total time=  14.7s\n",
      "[CV 4/5; 351/400] START C=758.679139848782, gamma=6.3098080943943815, kernel=rbf\n",
      "[CV 4/5; 351/400] END C=758.679139848782, gamma=6.3098080943943815, kernel=rbf;, score=0.508 total time=  12.1s\n",
      "[CV 5/5; 351/400] START C=758.679139848782, gamma=6.3098080943943815, kernel=rbf\n",
      "[CV 5/5; 351/400] END C=758.679139848782, gamma=6.3098080943943815, kernel=rbf;, score=0.508 total time=  11.9s\n",
      "[CV 1/5; 352/400] START C=758.679139848782, gamma=12.507341469611143, kernel=rbf\n",
      "[CV 1/5; 352/400] END C=758.679139848782, gamma=12.507341469611143, kernel=rbf;, score=0.506 total time=  12.6s\n",
      "[CV 2/5; 352/400] START C=758.679139848782, gamma=12.507341469611143, kernel=rbf\n",
      "[CV 2/5; 352/400] END C=758.679139848782, gamma=12.507341469611143, kernel=rbf;, score=0.509 total time=  12.1s\n",
      "[CV 3/5; 352/400] START C=758.679139848782, gamma=12.507341469611143, kernel=rbf\n",
      "[CV 3/5; 352/400] END C=758.679139848782, gamma=12.507341469611143, kernel=rbf;, score=0.507 total time=  12.9s\n",
      "[CV 4/5; 352/400] START C=758.679139848782, gamma=12.507341469611143, kernel=rbf\n",
      "[CV 4/5; 352/400] END C=758.679139848782, gamma=12.507341469611143, kernel=rbf;, score=0.508 total time=  12.0s\n",
      "[CV 5/5; 352/400] START C=758.679139848782, gamma=12.507341469611143, kernel=rbf\n",
      "[CV 5/5; 352/400] END C=758.679139848782, gamma=12.507341469611143, kernel=rbf;, score=0.508 total time=  11.7s\n",
      "[CV 1/5; 353/400] START C=758.679139848782, gamma=24.792131281525027, kernel=rbf\n",
      "[CV 1/5; 353/400] END C=758.679139848782, gamma=24.792131281525027, kernel=rbf;, score=0.506 total time=  11.9s\n",
      "[CV 2/5; 353/400] START C=758.679139848782, gamma=24.792131281525027, kernel=rbf\n",
      "[CV 2/5; 353/400] END C=758.679139848782, gamma=24.792131281525027, kernel=rbf;, score=0.509 total time=  12.0s\n",
      "[CV 3/5; 353/400] START C=758.679139848782, gamma=24.792131281525027, kernel=rbf\n",
      "[CV 3/5; 353/400] END C=758.679139848782, gamma=24.792131281525027, kernel=rbf;, score=0.507 total time=  11.8s\n",
      "[CV 4/5; 353/400] START C=758.679139848782, gamma=24.792131281525027, kernel=rbf\n"
     ]
    },
    {
     "name": "stdout",
     "output_type": "stream",
     "text": [
      "[CV 4/5; 353/400] END C=758.679139848782, gamma=24.792131281525027, kernel=rbf;, score=0.508 total time=  11.9s\n",
      "[CV 5/5; 353/400] START C=758.679139848782, gamma=24.792131281525027, kernel=rbf\n",
      "[CV 5/5; 353/400] END C=758.679139848782, gamma=24.792131281525027, kernel=rbf;, score=0.508 total time=  11.8s\n",
      "[CV 1/5; 354/400] START C=758.679139848782, gamma=49.143119261097524, kernel=rbf\n",
      "[CV 1/5; 354/400] END C=758.679139848782, gamma=49.143119261097524, kernel=rbf;, score=0.506 total time=  11.8s\n",
      "[CV 2/5; 354/400] START C=758.679139848782, gamma=49.143119261097524, kernel=rbf\n",
      "[CV 2/5; 354/400] END C=758.679139848782, gamma=49.143119261097524, kernel=rbf;, score=0.509 total time=  12.1s\n",
      "[CV 3/5; 354/400] START C=758.679139848782, gamma=49.143119261097524, kernel=rbf\n",
      "[CV 3/5; 354/400] END C=758.679139848782, gamma=49.143119261097524, kernel=rbf;, score=0.507 total time=  11.6s\n",
      "[CV 4/5; 354/400] START C=758.679139848782, gamma=49.143119261097524, kernel=rbf\n",
      "[CV 4/5; 354/400] END C=758.679139848782, gamma=49.143119261097524, kernel=rbf;, score=0.508 total time=  11.9s\n",
      "[CV 5/5; 354/400] START C=758.679139848782, gamma=49.143119261097524, kernel=rbf\n",
      "[CV 5/5; 354/400] END C=758.679139848782, gamma=49.143119261097524, kernel=rbf;, score=0.508 total time=  11.7s\n",
      "[CV 1/5; 355/400] START C=758.679139848782, gamma=97.41180148195387, kernel=rbf.\n",
      "[CV 1/5; 355/400] END C=758.679139848782, gamma=97.41180148195387, kernel=rbf;, score=0.506 total time=  11.9s\n",
      "[CV 2/5; 355/400] START C=758.679139848782, gamma=97.41180148195387, kernel=rbf.\n",
      "[CV 2/5; 355/400] END C=758.679139848782, gamma=97.41180148195387, kernel=rbf;, score=0.509 total time=  11.8s\n",
      "[CV 3/5; 355/400] START C=758.679139848782, gamma=97.41180148195387, kernel=rbf.\n",
      "[CV 3/5; 355/400] END C=758.679139848782, gamma=97.41180148195387, kernel=rbf;, score=0.507 total time=  11.7s\n",
      "[CV 4/5; 355/400] START C=758.679139848782, gamma=97.41180148195387, kernel=rbf.\n",
      "[CV 4/5; 355/400] END C=758.679139848782, gamma=97.41180148195387, kernel=rbf;, score=0.508 total time=  11.7s\n",
      "[CV 5/5; 355/400] START C=758.679139848782, gamma=97.41180148195387, kernel=rbf.\n",
      "[CV 5/5; 355/400] END C=758.679139848782, gamma=97.41180148195387, kernel=rbf;, score=0.508 total time=  11.9s\n",
      "[CV 1/5; 356/400] START C=758.679139848782, gamma=193.0902883381129, kernel=rbf.\n",
      "[CV 1/5; 356/400] END C=758.679139848782, gamma=193.0902883381129, kernel=rbf;, score=0.506 total time=  16.2s\n",
      "[CV 2/5; 356/400] START C=758.679139848782, gamma=193.0902883381129, kernel=rbf.\n",
      "[CV 2/5; 356/400] END C=758.679139848782, gamma=193.0902883381129, kernel=rbf;, score=0.509 total time=  13.1s\n",
      "[CV 3/5; 356/400] START C=758.679139848782, gamma=193.0902883381129, kernel=rbf.\n",
      "[CV 3/5; 356/400] END C=758.679139848782, gamma=193.0902883381129, kernel=rbf;, score=0.507 total time=  12.3s\n",
      "[CV 4/5; 356/400] START C=758.679139848782, gamma=193.0902883381129, kernel=rbf.\n",
      "[CV 4/5; 356/400] END C=758.679139848782, gamma=193.0902883381129, kernel=rbf;, score=0.508 total time=  12.3s\n",
      "[CV 5/5; 356/400] START C=758.679139848782, gamma=193.0902883381129, kernel=rbf.\n",
      "[CV 5/5; 356/400] END C=758.679139848782, gamma=193.0902883381129, kernel=rbf;, score=0.508 total time=  11.8s\n",
      "[CV 1/5; 357/400] START C=758.679139848782, gamma=382.7447894740212, kernel=rbf.\n",
      "[CV 1/5; 357/400] END C=758.679139848782, gamma=382.7447894740212, kernel=rbf;, score=0.506 total time=  12.8s\n",
      "[CV 2/5; 357/400] START C=758.679139848782, gamma=382.7447894740212, kernel=rbf.\n",
      "[CV 2/5; 357/400] END C=758.679139848782, gamma=382.7447894740212, kernel=rbf;, score=0.509 total time=  12.6s\n",
      "[CV 3/5; 357/400] START C=758.679139848782, gamma=382.7447894740212, kernel=rbf.\n",
      "[CV 3/5; 357/400] END C=758.679139848782, gamma=382.7447894740212, kernel=rbf;, score=0.507 total time=  12.2s\n",
      "[CV 4/5; 357/400] START C=758.679139848782, gamma=382.7447894740212, kernel=rbf.\n",
      "[CV 4/5; 357/400] END C=758.679139848782, gamma=382.7447894740212, kernel=rbf;, score=0.508 total time=  12.3s\n",
      "[CV 5/5; 357/400] START C=758.679139848782, gamma=382.7447894740212, kernel=rbf.\n",
      "[CV 5/5; 357/400] END C=758.679139848782, gamma=382.7447894740212, kernel=rbf;, score=0.508 total time=  12.5s\n",
      "[CV 1/5; 358/400] START C=758.679139848782, gamma=758.679139848782, kernel=rbf..\n",
      "[CV 1/5; 358/400] END C=758.679139848782, gamma=758.679139848782, kernel=rbf;, score=0.506 total time=  12.0s\n",
      "[CV 2/5; 358/400] START C=758.679139848782, gamma=758.679139848782, kernel=rbf..\n",
      "[CV 2/5; 358/400] END C=758.679139848782, gamma=758.679139848782, kernel=rbf;, score=0.508 total time=  12.1s\n",
      "[CV 3/5; 358/400] START C=758.679139848782, gamma=758.679139848782, kernel=rbf..\n",
      "[CV 3/5; 358/400] END C=758.679139848782, gamma=758.679139848782, kernel=rbf;, score=0.506 total time=  11.7s\n",
      "[CV 4/5; 358/400] START C=758.679139848782, gamma=758.679139848782, kernel=rbf..\n",
      "[CV 4/5; 358/400] END C=758.679139848782, gamma=758.679139848782, kernel=rbf;, score=0.508 total time=  11.8s\n",
      "[CV 5/5; 358/400] START C=758.679139848782, gamma=758.679139848782, kernel=rbf..\n",
      "[CV 5/5; 358/400] END C=758.679139848782, gamma=758.679139848782, kernel=rbf;, score=0.508 total time=  12.0s\n",
      "[CV 1/5; 359/400] START C=758.679139848782, gamma=1503.8585842871576, kernel=rbf\n",
      "[CV 1/5; 359/400] END C=758.679139848782, gamma=1503.8585842871576, kernel=rbf;, score=0.506 total time=  12.0s\n",
      "[CV 2/5; 359/400] START C=758.679139848782, gamma=1503.8585842871576, kernel=rbf\n",
      "[CV 2/5; 359/400] END C=758.679139848782, gamma=1503.8585842871576, kernel=rbf;, score=0.508 total time=  12.2s\n",
      "[CV 3/5; 359/400] START C=758.679139848782, gamma=1503.8585842871576, kernel=rbf\n",
      "[CV 3/5; 359/400] END C=758.679139848782, gamma=1503.8585842871576, kernel=rbf;, score=0.506 total time=  12.8s\n",
      "[CV 4/5; 359/400] START C=758.679139848782, gamma=1503.8585842871576, kernel=rbf\n",
      "[CV 4/5; 359/400] END C=758.679139848782, gamma=1503.8585842871576, kernel=rbf;, score=0.508 total time=  12.4s\n",
      "[CV 5/5; 359/400] START C=758.679139848782, gamma=1503.8585842871576, kernel=rbf\n",
      "[CV 5/5; 359/400] END C=758.679139848782, gamma=1503.8585842871576, kernel=rbf;, score=0.508 total time=  12.2s\n",
      "[CV 1/5; 360/400] START C=758.679139848782, gamma=2980.957987041727, kernel=rbf.\n",
      "[CV 1/5; 360/400] END C=758.679139848782, gamma=2980.957987041727, kernel=rbf;, score=0.506 total time=  12.0s\n",
      "[CV 2/5; 360/400] START C=758.679139848782, gamma=2980.957987041727, kernel=rbf.\n",
      "[CV 2/5; 360/400] END C=758.679139848782, gamma=2980.957987041727, kernel=rbf;, score=0.508 total time=  11.9s\n",
      "[CV 3/5; 360/400] START C=758.679139848782, gamma=2980.957987041727, kernel=rbf.\n",
      "[CV 3/5; 360/400] END C=758.679139848782, gamma=2980.957987041727, kernel=rbf;, score=0.506 total time=  12.0s\n",
      "[CV 4/5; 360/400] START C=758.679139848782, gamma=2980.957987041727, kernel=rbf.\n",
      "[CV 4/5; 360/400] END C=758.679139848782, gamma=2980.957987041727, kernel=rbf;, score=0.508 total time=  12.0s\n",
      "[CV 5/5; 360/400] START C=758.679139848782, gamma=2980.957987041727, kernel=rbf.\n",
      "[CV 5/5; 360/400] END C=758.679139848782, gamma=2980.957987041727, kernel=rbf;, score=0.508 total time=  12.1s\n",
      "[CV 1/5; 361/400] START C=1503.8585842871576, gamma=0.006737946999085469, kernel=rbf\n",
      "[CV 1/5; 361/400] END C=1503.8585842871576, gamma=0.006737946999085469, kernel=rbf;, score=0.852 total time=  10.6s\n",
      "[CV 2/5; 361/400] START C=1503.8585842871576, gamma=0.006737946999085469, kernel=rbf\n",
      "[CV 2/5; 361/400] END C=1503.8585842871576, gamma=0.006737946999085469, kernel=rbf;, score=0.867 total time=  10.7s\n",
      "[CV 3/5; 361/400] START C=1503.8585842871576, gamma=0.006737946999085469, kernel=rbf\n",
      "[CV 3/5; 361/400] END C=1503.8585842871576, gamma=0.006737946999085469, kernel=rbf;, score=0.848 total time=  11.0s\n",
      "[CV 4/5; 361/400] START C=1503.8585842871576, gamma=0.006737946999085469, kernel=rbf\n",
      "[CV 4/5; 361/400] END C=1503.8585842871576, gamma=0.006737946999085469, kernel=rbf;, score=0.869 total time=  10.5s\n",
      "[CV 5/5; 361/400] START C=1503.8585842871576, gamma=0.006737946999085469, kernel=rbf\n",
      "[CV 5/5; 361/400] END C=1503.8585842871576, gamma=0.006737946999085469, kernel=rbf;, score=0.870 total time=  10.5s\n",
      "[CV 1/5; 362/400] START C=1503.8585842871576, gamma=0.013356001111439869, kernel=rbf\n",
      "[CV 1/5; 362/400] END C=1503.8585842871576, gamma=0.013356001111439869, kernel=rbf;, score=0.851 total time=  11.4s\n",
      "[CV 2/5; 362/400] START C=1503.8585842871576, gamma=0.013356001111439869, kernel=rbf\n"
     ]
    },
    {
     "name": "stdout",
     "output_type": "stream",
     "text": [
      "[CV 2/5; 362/400] END C=1503.8585842871576, gamma=0.013356001111439869, kernel=rbf;, score=0.866 total time=  10.9s\n",
      "[CV 3/5; 362/400] START C=1503.8585842871576, gamma=0.013356001111439869, kernel=rbf\n",
      "[CV 3/5; 362/400] END C=1503.8585842871576, gamma=0.013356001111439869, kernel=rbf;, score=0.848 total time=  10.4s\n",
      "[CV 4/5; 362/400] START C=1503.8585842871576, gamma=0.013356001111439869, kernel=rbf\n",
      "[CV 4/5; 362/400] END C=1503.8585842871576, gamma=0.013356001111439869, kernel=rbf;, score=0.869 total time=  10.5s\n",
      "[CV 5/5; 362/400] START C=1503.8585842871576, gamma=0.013356001111439869, kernel=rbf\n",
      "[CV 5/5; 362/400] END C=1503.8585842871576, gamma=0.013356001111439869, kernel=rbf;, score=0.870 total time=  10.5s\n",
      "[CV 1/5; 363/400] START C=1503.8585842871576, gamma=0.026474349785326985, kernel=rbf\n",
      "[CV 1/5; 363/400] END C=1503.8585842871576, gamma=0.026474349785326985, kernel=rbf;, score=0.853 total time=  10.5s\n",
      "[CV 2/5; 363/400] START C=1503.8585842871576, gamma=0.026474349785326985, kernel=rbf\n",
      "[CV 2/5; 363/400] END C=1503.8585842871576, gamma=0.026474349785326985, kernel=rbf;, score=0.866 total time=  10.7s\n",
      "[CV 3/5; 363/400] START C=1503.8585842871576, gamma=0.026474349785326985, kernel=rbf\n",
      "[CV 3/5; 363/400] END C=1503.8585842871576, gamma=0.026474349785326985, kernel=rbf;, score=0.848 total time=  10.6s\n",
      "[CV 4/5; 363/400] START C=1503.8585842871576, gamma=0.026474349785326985, kernel=rbf\n",
      "[CV 4/5; 363/400] END C=1503.8585842871576, gamma=0.026474349785326985, kernel=rbf;, score=0.868 total time=  10.4s\n",
      "[CV 5/5; 363/400] START C=1503.8585842871576, gamma=0.026474349785326985, kernel=rbf\n",
      "[CV 5/5; 363/400] END C=1503.8585842871576, gamma=0.026474349785326985, kernel=rbf;, score=0.870 total time=  10.7s\n",
      "[CV 1/5; 364/400] START C=1503.8585842871576, gamma=0.052477623407466346, kernel=rbf\n",
      "[CV 1/5; 364/400] END C=1503.8585842871576, gamma=0.052477623407466346, kernel=rbf;, score=0.852 total time=  10.8s\n",
      "[CV 2/5; 364/400] START C=1503.8585842871576, gamma=0.052477623407466346, kernel=rbf\n",
      "[CV 2/5; 364/400] END C=1503.8585842871576, gamma=0.052477623407466346, kernel=rbf;, score=0.867 total time=  11.2s\n",
      "[CV 3/5; 364/400] START C=1503.8585842871576, gamma=0.052477623407466346, kernel=rbf\n",
      "[CV 3/5; 364/400] END C=1503.8585842871576, gamma=0.052477623407466346, kernel=rbf;, score=0.848 total time=  10.5s\n",
      "[CV 4/5; 364/400] START C=1503.8585842871576, gamma=0.052477623407466346, kernel=rbf\n",
      "[CV 4/5; 364/400] END C=1503.8585842871576, gamma=0.052477623407466346, kernel=rbf;, score=0.869 total time=  10.7s\n",
      "[CV 5/5; 364/400] START C=1503.8585842871576, gamma=0.052477623407466346, kernel=rbf\n",
      "[CV 5/5; 364/400] END C=1503.8585842871576, gamma=0.052477623407466346, kernel=rbf;, score=0.870 total time=  10.6s\n",
      "[CV 1/5; 365/400] START C=1503.8585842871576, gamma=0.10402147666803764, kernel=rbf\n",
      "[CV 1/5; 365/400] END C=1503.8585842871576, gamma=0.10402147666803764, kernel=rbf;, score=0.855 total time=  10.8s\n",
      "[CV 2/5; 365/400] START C=1503.8585842871576, gamma=0.10402147666803764, kernel=rbf\n",
      "[CV 2/5; 365/400] END C=1503.8585842871576, gamma=0.10402147666803764, kernel=rbf;, score=0.868 total time=  10.8s\n",
      "[CV 3/5; 365/400] START C=1503.8585842871576, gamma=0.10402147666803764, kernel=rbf\n",
      "[CV 3/5; 365/400] END C=1503.8585842871576, gamma=0.10402147666803764, kernel=rbf;, score=0.845 total time=  10.9s\n",
      "[CV 4/5; 365/400] START C=1503.8585842871576, gamma=0.10402147666803764, kernel=rbf\n",
      "[CV 4/5; 365/400] END C=1503.8585842871576, gamma=0.10402147666803764, kernel=rbf;, score=0.867 total time=  10.8s\n",
      "[CV 5/5; 365/400] START C=1503.8585842871576, gamma=0.10402147666803764, kernel=rbf\n",
      "[CV 5/5; 365/400] END C=1503.8585842871576, gamma=0.10402147666803764, kernel=rbf;, score=0.870 total time=  10.6s\n",
      "[CV 1/5; 366/400] START C=1503.8585842871576, gamma=0.20619202825140895, kernel=rbf\n",
      "[CV 1/5; 366/400] END C=1503.8585842871576, gamma=0.20619202825140895, kernel=rbf;, score=0.857 total time=  10.8s\n",
      "[CV 2/5; 366/400] START C=1503.8585842871576, gamma=0.20619202825140895, kernel=rbf\n",
      "[CV 2/5; 366/400] END C=1503.8585842871576, gamma=0.20619202825140895, kernel=rbf;, score=0.870 total time=  11.1s\n",
      "[CV 3/5; 366/400] START C=1503.8585842871576, gamma=0.20619202825140895, kernel=rbf\n",
      "[CV 3/5; 366/400] END C=1503.8585842871576, gamma=0.20619202825140895, kernel=rbf;, score=0.847 total time=  13.0s\n",
      "[CV 4/5; 366/400] START C=1503.8585842871576, gamma=0.20619202825140895, kernel=rbf\n",
      "[CV 4/5; 366/400] END C=1503.8585842871576, gamma=0.20619202825140895, kernel=rbf;, score=0.867 total time=  12.3s\n",
      "[CV 5/5; 366/400] START C=1503.8585842871576, gamma=0.20619202825140895, kernel=rbf\n",
      "[CV 5/5; 366/400] END C=1503.8585842871576, gamma=0.20619202825140895, kernel=rbf;, score=0.874 total time=  12.1s\n",
      "[CV 1/5; 367/400] START C=1503.8585842871576, gamma=0.40871514110598417, kernel=rbf\n",
      "[CV 1/5; 367/400] END C=1503.8585842871576, gamma=0.40871514110598417, kernel=rbf;, score=0.865 total time=  12.9s\n",
      "[CV 2/5; 367/400] START C=1503.8585842871576, gamma=0.40871514110598417, kernel=rbf\n",
      "[CV 2/5; 367/400] END C=1503.8585842871576, gamma=0.40871514110598417, kernel=rbf;, score=0.870 total time=  12.8s\n",
      "[CV 3/5; 367/400] START C=1503.8585842871576, gamma=0.40871514110598417, kernel=rbf\n",
      "[CV 3/5; 367/400] END C=1503.8585842871576, gamma=0.40871514110598417, kernel=rbf;, score=0.848 total time=  12.6s\n",
      "[CV 4/5; 367/400] START C=1503.8585842871576, gamma=0.40871514110598417, kernel=rbf\n",
      "[CV 4/5; 367/400] END C=1503.8585842871576, gamma=0.40871514110598417, kernel=rbf;, score=0.867 total time=  12.0s\n",
      "[CV 5/5; 367/400] START C=1503.8585842871576, gamma=0.40871514110598417, kernel=rbf\n",
      "[CV 5/5; 367/400] END C=1503.8585842871576, gamma=0.40871514110598417, kernel=rbf;, score=0.879 total time=  15.6s\n",
      "[CV 1/5; 368/400] START C=1503.8585842871576, gamma=0.8101577349324269, kernel=rbf\n",
      "[CV 1/5; 368/400] END C=1503.8585842871576, gamma=0.8101577349324269, kernel=rbf;, score=0.870 total time=  13.0s\n",
      "[CV 2/5; 368/400] START C=1503.8585842871576, gamma=0.8101577349324269, kernel=rbf\n",
      "[CV 2/5; 368/400] END C=1503.8585842871576, gamma=0.8101577349324269, kernel=rbf;, score=0.869 total time=  13.0s\n",
      "[CV 3/5; 368/400] START C=1503.8585842871576, gamma=0.8101577349324269, kernel=rbf\n",
      "[CV 3/5; 368/400] END C=1503.8585842871576, gamma=0.8101577349324269, kernel=rbf;, score=0.839 total time=  11.9s\n",
      "[CV 4/5; 368/400] START C=1503.8585842871576, gamma=0.8101577349324269, kernel=rbf\n",
      "[CV 4/5; 368/400] END C=1503.8585842871576, gamma=0.8101577349324269, kernel=rbf;, score=0.873 total time=  12.5s\n",
      "[CV 5/5; 368/400] START C=1503.8585842871576, gamma=0.8101577349324269, kernel=rbf\n",
      "[CV 5/5; 368/400] END C=1503.8585842871576, gamma=0.8101577349324269, kernel=rbf;, score=0.880 total time=  12.6s\n",
      "[CV 1/5; 369/400] START C=1503.8585842871576, gamma=1.6058997806999291, kernel=rbf\n",
      "[CV 1/5; 369/400] END C=1503.8585842871576, gamma=1.6058997806999291, kernel=rbf;, score=0.877 total time=  13.7s\n",
      "[CV 2/5; 369/400] START C=1503.8585842871576, gamma=1.6058997806999291, kernel=rbf\n",
      "[CV 2/5; 369/400] END C=1503.8585842871576, gamma=1.6058997806999291, kernel=rbf;, score=0.873 total time=  13.6s\n",
      "[CV 3/5; 369/400] START C=1503.8585842871576, gamma=1.6058997806999291, kernel=rbf\n",
      "[CV 3/5; 369/400] END C=1503.8585842871576, gamma=1.6058997806999291, kernel=rbf;, score=0.838 total time=  13.4s\n",
      "[CV 4/5; 369/400] START C=1503.8585842871576, gamma=1.6058997806999291, kernel=rbf\n",
      "[CV 4/5; 369/400] END C=1503.8585842871576, gamma=1.6058997806999291, kernel=rbf;, score=0.867 total time=  13.4s\n",
      "[CV 5/5; 369/400] START C=1503.8585842871576, gamma=1.6058997806999291, kernel=rbf\n",
      "[CV 5/5; 369/400] END C=1503.8585842871576, gamma=1.6058997806999291, kernel=rbf;, score=0.877 total time=  13.5s\n",
      "[CV 1/5; 370/400] START C=1503.8585842871576, gamma=3.1832246912598827, kernel=rbf\n",
      "[CV 1/5; 370/400] END C=1503.8585842871576, gamma=3.1832246912598827, kernel=rbf;, score=0.846 total time=  14.9s\n",
      "[CV 2/5; 370/400] START C=1503.8585842871576, gamma=3.1832246912598827, kernel=rbf\n",
      "[CV 2/5; 370/400] END C=1503.8585842871576, gamma=3.1832246912598827, kernel=rbf;, score=0.845 total time=  14.0s\n",
      "[CV 3/5; 370/400] START C=1503.8585842871576, gamma=3.1832246912598827, kernel=rbf\n",
      "[CV 3/5; 370/400] END C=1503.8585842871576, gamma=3.1832246912598827, kernel=rbf;, score=0.837 total time=  13.7s\n",
      "[CV 4/5; 370/400] START C=1503.8585842871576, gamma=3.1832246912598827, kernel=rbf\n"
     ]
    },
    {
     "name": "stdout",
     "output_type": "stream",
     "text": [
      "[CV 4/5; 370/400] END C=1503.8585842871576, gamma=3.1832246912598827, kernel=rbf;, score=0.841 total time=  14.0s\n",
      "[CV 5/5; 370/400] START C=1503.8585842871576, gamma=3.1832246912598827, kernel=rbf\n",
      "[CV 5/5; 370/400] END C=1503.8585842871576, gamma=3.1832246912598827, kernel=rbf;, score=0.843 total time=  13.6s\n",
      "[CV 1/5; 371/400] START C=1503.8585842871576, gamma=6.3098080943943815, kernel=rbf\n",
      "[CV 1/5; 371/400] END C=1503.8585842871576, gamma=6.3098080943943815, kernel=rbf;, score=0.506 total time=  13.4s\n",
      "[CV 2/5; 371/400] START C=1503.8585842871576, gamma=6.3098080943943815, kernel=rbf\n",
      "[CV 2/5; 371/400] END C=1503.8585842871576, gamma=6.3098080943943815, kernel=rbf;, score=0.509 total time=  13.1s\n",
      "[CV 3/5; 371/400] START C=1503.8585842871576, gamma=6.3098080943943815, kernel=rbf\n",
      "[CV 3/5; 371/400] END C=1503.8585842871576, gamma=6.3098080943943815, kernel=rbf;, score=0.507 total time=  12.3s\n",
      "[CV 4/5; 371/400] START C=1503.8585842871576, gamma=6.3098080943943815, kernel=rbf\n",
      "[CV 4/5; 371/400] END C=1503.8585842871576, gamma=6.3098080943943815, kernel=rbf;, score=0.508 total time=  13.6s\n",
      "[CV 5/5; 371/400] START C=1503.8585842871576, gamma=6.3098080943943815, kernel=rbf\n",
      "[CV 5/5; 371/400] END C=1503.8585842871576, gamma=6.3098080943943815, kernel=rbf;, score=0.508 total time=  13.3s\n",
      "[CV 1/5; 372/400] START C=1503.8585842871576, gamma=12.507341469611143, kernel=rbf\n",
      "[CV 1/5; 372/400] END C=1503.8585842871576, gamma=12.507341469611143, kernel=rbf;, score=0.506 total time=  13.5s\n",
      "[CV 2/5; 372/400] START C=1503.8585842871576, gamma=12.507341469611143, kernel=rbf\n",
      "[CV 2/5; 372/400] END C=1503.8585842871576, gamma=12.507341469611143, kernel=rbf;, score=0.509 total time=  13.4s\n",
      "[CV 3/5; 372/400] START C=1503.8585842871576, gamma=12.507341469611143, kernel=rbf\n",
      "[CV 3/5; 372/400] END C=1503.8585842871576, gamma=12.507341469611143, kernel=rbf;, score=0.507 total time=  13.0s\n",
      "[CV 4/5; 372/400] START C=1503.8585842871576, gamma=12.507341469611143, kernel=rbf\n",
      "[CV 4/5; 372/400] END C=1503.8585842871576, gamma=12.507341469611143, kernel=rbf;, score=0.508 total time=  12.9s\n",
      "[CV 5/5; 372/400] START C=1503.8585842871576, gamma=12.507341469611143, kernel=rbf\n",
      "[CV 5/5; 372/400] END C=1503.8585842871576, gamma=12.507341469611143, kernel=rbf;, score=0.508 total time=  13.9s\n",
      "[CV 1/5; 373/400] START C=1503.8585842871576, gamma=24.792131281525027, kernel=rbf\n",
      "[CV 1/5; 373/400] END C=1503.8585842871576, gamma=24.792131281525027, kernel=rbf;, score=0.506 total time=  13.8s\n",
      "[CV 2/5; 373/400] START C=1503.8585842871576, gamma=24.792131281525027, kernel=rbf\n",
      "[CV 2/5; 373/400] END C=1503.8585842871576, gamma=24.792131281525027, kernel=rbf;, score=0.509 total time=  13.7s\n",
      "[CV 3/5; 373/400] START C=1503.8585842871576, gamma=24.792131281525027, kernel=rbf\n",
      "[CV 3/5; 373/400] END C=1503.8585842871576, gamma=24.792131281525027, kernel=rbf;, score=0.507 total time=  13.2s\n",
      "[CV 4/5; 373/400] START C=1503.8585842871576, gamma=24.792131281525027, kernel=rbf\n",
      "[CV 4/5; 373/400] END C=1503.8585842871576, gamma=24.792131281525027, kernel=rbf;, score=0.508 total time=  13.3s\n",
      "[CV 5/5; 373/400] START C=1503.8585842871576, gamma=24.792131281525027, kernel=rbf\n",
      "[CV 5/5; 373/400] END C=1503.8585842871576, gamma=24.792131281525027, kernel=rbf;, score=0.508 total time=  13.5s\n",
      "[CV 1/5; 374/400] START C=1503.8585842871576, gamma=49.143119261097524, kernel=rbf\n",
      "[CV 1/5; 374/400] END C=1503.8585842871576, gamma=49.143119261097524, kernel=rbf;, score=0.506 total time=  13.6s\n",
      "[CV 2/5; 374/400] START C=1503.8585842871576, gamma=49.143119261097524, kernel=rbf\n",
      "[CV 2/5; 374/400] END C=1503.8585842871576, gamma=49.143119261097524, kernel=rbf;, score=0.509 total time=  14.9s\n",
      "[CV 3/5; 374/400] START C=1503.8585842871576, gamma=49.143119261097524, kernel=rbf\n",
      "[CV 3/5; 374/400] END C=1503.8585842871576, gamma=49.143119261097524, kernel=rbf;, score=0.507 total time=  14.4s\n",
      "[CV 4/5; 374/400] START C=1503.8585842871576, gamma=49.143119261097524, kernel=rbf\n",
      "[CV 4/5; 374/400] END C=1503.8585842871576, gamma=49.143119261097524, kernel=rbf;, score=0.508 total time=  14.1s\n",
      "[CV 5/5; 374/400] START C=1503.8585842871576, gamma=49.143119261097524, kernel=rbf\n",
      "[CV 5/5; 374/400] END C=1503.8585842871576, gamma=49.143119261097524, kernel=rbf;, score=0.508 total time=  14.1s\n",
      "[CV 1/5; 375/400] START C=1503.8585842871576, gamma=97.41180148195387, kernel=rbf\n",
      "[CV 1/5; 375/400] END C=1503.8585842871576, gamma=97.41180148195387, kernel=rbf;, score=0.506 total time=  15.4s\n",
      "[CV 2/5; 375/400] START C=1503.8585842871576, gamma=97.41180148195387, kernel=rbf\n",
      "[CV 2/5; 375/400] END C=1503.8585842871576, gamma=97.41180148195387, kernel=rbf;, score=0.509 total time=  13.9s\n",
      "[CV 3/5; 375/400] START C=1503.8585842871576, gamma=97.41180148195387, kernel=rbf\n",
      "[CV 3/5; 375/400] END C=1503.8585842871576, gamma=97.41180148195387, kernel=rbf;, score=0.507 total time=  15.7s\n",
      "[CV 4/5; 375/400] START C=1503.8585842871576, gamma=97.41180148195387, kernel=rbf\n",
      "[CV 4/5; 375/400] END C=1503.8585842871576, gamma=97.41180148195387, kernel=rbf;, score=0.508 total time=  14.2s\n",
      "[CV 5/5; 375/400] START C=1503.8585842871576, gamma=97.41180148195387, kernel=rbf\n",
      "[CV 5/5; 375/400] END C=1503.8585842871576, gamma=97.41180148195387, kernel=rbf;, score=0.508 total time=  13.6s\n",
      "[CV 1/5; 376/400] START C=1503.8585842871576, gamma=193.0902883381129, kernel=rbf\n",
      "[CV 1/5; 376/400] END C=1503.8585842871576, gamma=193.0902883381129, kernel=rbf;, score=0.506 total time=  13.0s\n",
      "[CV 2/5; 376/400] START C=1503.8585842871576, gamma=193.0902883381129, kernel=rbf\n",
      "[CV 2/5; 376/400] END C=1503.8585842871576, gamma=193.0902883381129, kernel=rbf;, score=0.509 total time=  12.9s\n",
      "[CV 3/5; 376/400] START C=1503.8585842871576, gamma=193.0902883381129, kernel=rbf\n",
      "[CV 3/5; 376/400] END C=1503.8585842871576, gamma=193.0902883381129, kernel=rbf;, score=0.507 total time=  13.7s\n",
      "[CV 4/5; 376/400] START C=1503.8585842871576, gamma=193.0902883381129, kernel=rbf\n",
      "[CV 4/5; 376/400] END C=1503.8585842871576, gamma=193.0902883381129, kernel=rbf;, score=0.508 total time=  13.2s\n",
      "[CV 5/5; 376/400] START C=1503.8585842871576, gamma=193.0902883381129, kernel=rbf\n",
      "[CV 5/5; 376/400] END C=1503.8585842871576, gamma=193.0902883381129, kernel=rbf;, score=0.508 total time=  13.1s\n",
      "[CV 1/5; 377/400] START C=1503.8585842871576, gamma=382.7447894740212, kernel=rbf\n",
      "[CV 1/5; 377/400] END C=1503.8585842871576, gamma=382.7447894740212, kernel=rbf;, score=0.506 total time=  13.6s\n",
      "[CV 2/5; 377/400] START C=1503.8585842871576, gamma=382.7447894740212, kernel=rbf\n",
      "[CV 2/5; 377/400] END C=1503.8585842871576, gamma=382.7447894740212, kernel=rbf;, score=0.509 total time=  12.6s\n",
      "[CV 3/5; 377/400] START C=1503.8585842871576, gamma=382.7447894740212, kernel=rbf\n",
      "[CV 3/5; 377/400] END C=1503.8585842871576, gamma=382.7447894740212, kernel=rbf;, score=0.507 total time=  14.3s\n",
      "[CV 4/5; 377/400] START C=1503.8585842871576, gamma=382.7447894740212, kernel=rbf\n",
      "[CV 4/5; 377/400] END C=1503.8585842871576, gamma=382.7447894740212, kernel=rbf;, score=0.508 total time=  13.9s\n",
      "[CV 5/5; 377/400] START C=1503.8585842871576, gamma=382.7447894740212, kernel=rbf\n",
      "[CV 5/5; 377/400] END C=1503.8585842871576, gamma=382.7447894740212, kernel=rbf;, score=0.508 total time=  12.7s\n",
      "[CV 1/5; 378/400] START C=1503.8585842871576, gamma=758.679139848782, kernel=rbf\n",
      "[CV 1/5; 378/400] END C=1503.8585842871576, gamma=758.679139848782, kernel=rbf;, score=0.506 total time=  13.6s\n",
      "[CV 2/5; 378/400] START C=1503.8585842871576, gamma=758.679139848782, kernel=rbf\n",
      "[CV 2/5; 378/400] END C=1503.8585842871576, gamma=758.679139848782, kernel=rbf;, score=0.508 total time=  13.1s\n",
      "[CV 3/5; 378/400] START C=1503.8585842871576, gamma=758.679139848782, kernel=rbf\n",
      "[CV 3/5; 378/400] END C=1503.8585842871576, gamma=758.679139848782, kernel=rbf;, score=0.506 total time=  12.4s\n",
      "[CV 4/5; 378/400] START C=1503.8585842871576, gamma=758.679139848782, kernel=rbf\n",
      "[CV 4/5; 378/400] END C=1503.8585842871576, gamma=758.679139848782, kernel=rbf;, score=0.508 total time=  13.3s\n",
      "[CV 5/5; 378/400] START C=1503.8585842871576, gamma=758.679139848782, kernel=rbf\n",
      "[CV 5/5; 378/400] END C=1503.8585842871576, gamma=758.679139848782, kernel=rbf;, score=0.508 total time=  13.4s\n",
      "[CV 1/5; 379/400] START C=1503.8585842871576, gamma=1503.8585842871576, kernel=rbf\n"
     ]
    },
    {
     "name": "stdout",
     "output_type": "stream",
     "text": [
      "[CV 1/5; 379/400] END C=1503.8585842871576, gamma=1503.8585842871576, kernel=rbf;, score=0.506 total time=  14.1s\n",
      "[CV 2/5; 379/400] START C=1503.8585842871576, gamma=1503.8585842871576, kernel=rbf\n",
      "[CV 2/5; 379/400] END C=1503.8585842871576, gamma=1503.8585842871576, kernel=rbf;, score=0.508 total time=  13.4s\n",
      "[CV 3/5; 379/400] START C=1503.8585842871576, gamma=1503.8585842871576, kernel=rbf\n",
      "[CV 3/5; 379/400] END C=1503.8585842871576, gamma=1503.8585842871576, kernel=rbf;, score=0.506 total time=  14.1s\n",
      "[CV 4/5; 379/400] START C=1503.8585842871576, gamma=1503.8585842871576, kernel=rbf\n",
      "[CV 4/5; 379/400] END C=1503.8585842871576, gamma=1503.8585842871576, kernel=rbf;, score=0.508 total time=  13.1s\n",
      "[CV 5/5; 379/400] START C=1503.8585842871576, gamma=1503.8585842871576, kernel=rbf\n",
      "[CV 5/5; 379/400] END C=1503.8585842871576, gamma=1503.8585842871576, kernel=rbf;, score=0.508 total time=  13.5s\n",
      "[CV 1/5; 380/400] START C=1503.8585842871576, gamma=2980.957987041727, kernel=rbf\n",
      "[CV 1/5; 380/400] END C=1503.8585842871576, gamma=2980.957987041727, kernel=rbf;, score=0.506 total time=  13.0s\n",
      "[CV 2/5; 380/400] START C=1503.8585842871576, gamma=2980.957987041727, kernel=rbf\n",
      "[CV 2/5; 380/400] END C=1503.8585842871576, gamma=2980.957987041727, kernel=rbf;, score=0.508 total time=  12.5s\n",
      "[CV 3/5; 380/400] START C=1503.8585842871576, gamma=2980.957987041727, kernel=rbf\n",
      "[CV 3/5; 380/400] END C=1503.8585842871576, gamma=2980.957987041727, kernel=rbf;, score=0.506 total time=  13.4s\n",
      "[CV 4/5; 380/400] START C=1503.8585842871576, gamma=2980.957987041727, kernel=rbf\n",
      "[CV 4/5; 380/400] END C=1503.8585842871576, gamma=2980.957987041727, kernel=rbf;, score=0.508 total time=  15.7s\n",
      "[CV 5/5; 380/400] START C=1503.8585842871576, gamma=2980.957987041727, kernel=rbf\n",
      "[CV 5/5; 380/400] END C=1503.8585842871576, gamma=2980.957987041727, kernel=rbf;, score=0.508 total time=  13.9s\n",
      "[CV 1/5; 381/400] START C=2980.957987041727, gamma=0.006737946999085469, kernel=rbf\n",
      "[CV 1/5; 381/400] END C=2980.957987041727, gamma=0.006737946999085469, kernel=rbf;, score=0.852 total time=  12.9s\n",
      "[CV 2/5; 381/400] START C=2980.957987041727, gamma=0.006737946999085469, kernel=rbf\n",
      "[CV 2/5; 381/400] END C=2980.957987041727, gamma=0.006737946999085469, kernel=rbf;, score=0.867 total time=  14.2s\n",
      "[CV 3/5; 381/400] START C=2980.957987041727, gamma=0.006737946999085469, kernel=rbf\n",
      "[CV 3/5; 381/400] END C=2980.957987041727, gamma=0.006737946999085469, kernel=rbf;, score=0.848 total time=  13.1s\n",
      "[CV 4/5; 381/400] START C=2980.957987041727, gamma=0.006737946999085469, kernel=rbf\n",
      "[CV 4/5; 381/400] END C=2980.957987041727, gamma=0.006737946999085469, kernel=rbf;, score=0.869 total time=  12.3s\n",
      "[CV 5/5; 381/400] START C=2980.957987041727, gamma=0.006737946999085469, kernel=rbf\n",
      "[CV 5/5; 381/400] END C=2980.957987041727, gamma=0.006737946999085469, kernel=rbf;, score=0.870 total time=  12.2s\n",
      "[CV 1/5; 382/400] START C=2980.957987041727, gamma=0.013356001111439869, kernel=rbf\n",
      "[CV 1/5; 382/400] END C=2980.957987041727, gamma=0.013356001111439869, kernel=rbf;, score=0.851 total time=  14.1s\n",
      "[CV 2/5; 382/400] START C=2980.957987041727, gamma=0.013356001111439869, kernel=rbf\n",
      "[CV 2/5; 382/400] END C=2980.957987041727, gamma=0.013356001111439869, kernel=rbf;, score=0.866 total time=  12.3s\n",
      "[CV 3/5; 382/400] START C=2980.957987041727, gamma=0.013356001111439869, kernel=rbf\n",
      "[CV 3/5; 382/400] END C=2980.957987041727, gamma=0.013356001111439869, kernel=rbf;, score=0.848 total time=  11.9s\n",
      "[CV 4/5; 382/400] START C=2980.957987041727, gamma=0.013356001111439869, kernel=rbf\n",
      "[CV 4/5; 382/400] END C=2980.957987041727, gamma=0.013356001111439869, kernel=rbf;, score=0.869 total time=  12.4s\n",
      "[CV 5/5; 382/400] START C=2980.957987041727, gamma=0.013356001111439869, kernel=rbf\n",
      "[CV 5/5; 382/400] END C=2980.957987041727, gamma=0.013356001111439869, kernel=rbf;, score=0.870 total time=  11.9s\n",
      "[CV 1/5; 383/400] START C=2980.957987041727, gamma=0.026474349785326985, kernel=rbf\n",
      "[CV 1/5; 383/400] END C=2980.957987041727, gamma=0.026474349785326985, kernel=rbf;, score=0.853 total time=  12.2s\n",
      "[CV 2/5; 383/400] START C=2980.957987041727, gamma=0.026474349785326985, kernel=rbf\n",
      "[CV 2/5; 383/400] END C=2980.957987041727, gamma=0.026474349785326985, kernel=rbf;, score=0.866 total time=  11.5s\n",
      "[CV 3/5; 383/400] START C=2980.957987041727, gamma=0.026474349785326985, kernel=rbf\n",
      "[CV 3/5; 383/400] END C=2980.957987041727, gamma=0.026474349785326985, kernel=rbf;, score=0.848 total time=  11.3s\n",
      "[CV 4/5; 383/400] START C=2980.957987041727, gamma=0.026474349785326985, kernel=rbf\n",
      "[CV 4/5; 383/400] END C=2980.957987041727, gamma=0.026474349785326985, kernel=rbf;, score=0.868 total time=  12.6s\n",
      "[CV 5/5; 383/400] START C=2980.957987041727, gamma=0.026474349785326985, kernel=rbf\n",
      "[CV 5/5; 383/400] END C=2980.957987041727, gamma=0.026474349785326985, kernel=rbf;, score=0.870 total time=  14.2s\n",
      "[CV 1/5; 384/400] START C=2980.957987041727, gamma=0.052477623407466346, kernel=rbf\n",
      "[CV 1/5; 384/400] END C=2980.957987041727, gamma=0.052477623407466346, kernel=rbf;, score=0.852 total time=  13.0s\n",
      "[CV 2/5; 384/400] START C=2980.957987041727, gamma=0.052477623407466346, kernel=rbf\n",
      "[CV 2/5; 384/400] END C=2980.957987041727, gamma=0.052477623407466346, kernel=rbf;, score=0.867 total time=  12.2s\n",
      "[CV 3/5; 384/400] START C=2980.957987041727, gamma=0.052477623407466346, kernel=rbf\n",
      "[CV 3/5; 384/400] END C=2980.957987041727, gamma=0.052477623407466346, kernel=rbf;, score=0.848 total time=  12.0s\n",
      "[CV 4/5; 384/400] START C=2980.957987041727, gamma=0.052477623407466346, kernel=rbf\n",
      "[CV 4/5; 384/400] END C=2980.957987041727, gamma=0.052477623407466346, kernel=rbf;, score=0.869 total time=  12.7s\n",
      "[CV 5/5; 384/400] START C=2980.957987041727, gamma=0.052477623407466346, kernel=rbf\n",
      "[CV 5/5; 384/400] END C=2980.957987041727, gamma=0.052477623407466346, kernel=rbf;, score=0.870 total time=  10.9s\n",
      "[CV 1/5; 385/400] START C=2980.957987041727, gamma=0.10402147666803764, kernel=rbf\n",
      "[CV 1/5; 385/400] END C=2980.957987041727, gamma=0.10402147666803764, kernel=rbf;, score=0.855 total time=  12.4s\n",
      "[CV 2/5; 385/400] START C=2980.957987041727, gamma=0.10402147666803764, kernel=rbf\n",
      "[CV 2/5; 385/400] END C=2980.957987041727, gamma=0.10402147666803764, kernel=rbf;, score=0.868 total time=  11.1s\n",
      "[CV 3/5; 385/400] START C=2980.957987041727, gamma=0.10402147666803764, kernel=rbf\n",
      "[CV 3/5; 385/400] END C=2980.957987041727, gamma=0.10402147666803764, kernel=rbf;, score=0.845 total time=  11.7s\n",
      "[CV 4/5; 385/400] START C=2980.957987041727, gamma=0.10402147666803764, kernel=rbf\n",
      "[CV 4/5; 385/400] END C=2980.957987041727, gamma=0.10402147666803764, kernel=rbf;, score=0.867 total time=  13.0s\n",
      "[CV 5/5; 385/400] START C=2980.957987041727, gamma=0.10402147666803764, kernel=rbf\n",
      "[CV 5/5; 385/400] END C=2980.957987041727, gamma=0.10402147666803764, kernel=rbf;, score=0.870 total time=  12.4s\n",
      "[CV 1/5; 386/400] START C=2980.957987041727, gamma=0.20619202825140895, kernel=rbf\n",
      "[CV 1/5; 386/400] END C=2980.957987041727, gamma=0.20619202825140895, kernel=rbf;, score=0.857 total time=  12.1s\n",
      "[CV 2/5; 386/400] START C=2980.957987041727, gamma=0.20619202825140895, kernel=rbf\n",
      "[CV 2/5; 386/400] END C=2980.957987041727, gamma=0.20619202825140895, kernel=rbf;, score=0.870 total time=  11.5s\n",
      "[CV 3/5; 386/400] START C=2980.957987041727, gamma=0.20619202825140895, kernel=rbf\n",
      "[CV 3/5; 386/400] END C=2980.957987041727, gamma=0.20619202825140895, kernel=rbf;, score=0.847 total time=  14.1s\n",
      "[CV 4/5; 386/400] START C=2980.957987041727, gamma=0.20619202825140895, kernel=rbf\n",
      "[CV 4/5; 386/400] END C=2980.957987041727, gamma=0.20619202825140895, kernel=rbf;, score=0.867 total time=  12.7s\n",
      "[CV 5/5; 386/400] START C=2980.957987041727, gamma=0.20619202825140895, kernel=rbf\n",
      "[CV 5/5; 386/400] END C=2980.957987041727, gamma=0.20619202825140895, kernel=rbf;, score=0.874 total time=  12.6s\n",
      "[CV 1/5; 387/400] START C=2980.957987041727, gamma=0.40871514110598417, kernel=rbf\n",
      "[CV 1/5; 387/400] END C=2980.957987041727, gamma=0.40871514110598417, kernel=rbf;, score=0.865 total time=  12.5s\n",
      "[CV 2/5; 387/400] START C=2980.957987041727, gamma=0.40871514110598417, kernel=rbf\n",
      "[CV 2/5; 387/400] END C=2980.957987041727, gamma=0.40871514110598417, kernel=rbf;, score=0.870 total time=  13.6s\n",
      "[CV 3/5; 387/400] START C=2980.957987041727, gamma=0.40871514110598417, kernel=rbf\n"
     ]
    },
    {
     "name": "stdout",
     "output_type": "stream",
     "text": [
      "[CV 3/5; 387/400] END C=2980.957987041727, gamma=0.40871514110598417, kernel=rbf;, score=0.848 total time=  13.3s\n",
      "[CV 4/5; 387/400] START C=2980.957987041727, gamma=0.40871514110598417, kernel=rbf\n",
      "[CV 4/5; 387/400] END C=2980.957987041727, gamma=0.40871514110598417, kernel=rbf;, score=0.867 total time=  14.6s\n",
      "[CV 5/5; 387/400] START C=2980.957987041727, gamma=0.40871514110598417, kernel=rbf\n",
      "[CV 5/5; 387/400] END C=2980.957987041727, gamma=0.40871514110598417, kernel=rbf;, score=0.879 total time=  14.2s\n",
      "[CV 1/5; 388/400] START C=2980.957987041727, gamma=0.8101577349324269, kernel=rbf\n",
      "[CV 1/5; 388/400] END C=2980.957987041727, gamma=0.8101577349324269, kernel=rbf;, score=0.870 total time=  12.6s\n",
      "[CV 2/5; 388/400] START C=2980.957987041727, gamma=0.8101577349324269, kernel=rbf\n",
      "[CV 2/5; 388/400] END C=2980.957987041727, gamma=0.8101577349324269, kernel=rbf;, score=0.869 total time=  12.3s\n",
      "[CV 3/5; 388/400] START C=2980.957987041727, gamma=0.8101577349324269, kernel=rbf\n",
      "[CV 3/5; 388/400] END C=2980.957987041727, gamma=0.8101577349324269, kernel=rbf;, score=0.839 total time=  12.6s\n",
      "[CV 4/5; 388/400] START C=2980.957987041727, gamma=0.8101577349324269, kernel=rbf\n",
      "[CV 4/5; 388/400] END C=2980.957987041727, gamma=0.8101577349324269, kernel=rbf;, score=0.873 total time=  13.2s\n",
      "[CV 5/5; 388/400] START C=2980.957987041727, gamma=0.8101577349324269, kernel=rbf\n",
      "[CV 5/5; 388/400] END C=2980.957987041727, gamma=0.8101577349324269, kernel=rbf;, score=0.880 total time=  12.9s\n",
      "[CV 1/5; 389/400] START C=2980.957987041727, gamma=1.6058997806999291, kernel=rbf\n",
      "[CV 1/5; 389/400] END C=2980.957987041727, gamma=1.6058997806999291, kernel=rbf;, score=0.877 total time=  13.6s\n",
      "[CV 2/5; 389/400] START C=2980.957987041727, gamma=1.6058997806999291, kernel=rbf\n",
      "[CV 2/5; 389/400] END C=2980.957987041727, gamma=1.6058997806999291, kernel=rbf;, score=0.873 total time=  13.0s\n",
      "[CV 3/5; 389/400] START C=2980.957987041727, gamma=1.6058997806999291, kernel=rbf\n",
      "[CV 3/5; 389/400] END C=2980.957987041727, gamma=1.6058997806999291, kernel=rbf;, score=0.838 total time=  13.0s\n",
      "[CV 4/5; 389/400] START C=2980.957987041727, gamma=1.6058997806999291, kernel=rbf\n",
      "[CV 4/5; 389/400] END C=2980.957987041727, gamma=1.6058997806999291, kernel=rbf;, score=0.867 total time=  15.1s\n",
      "[CV 5/5; 389/400] START C=2980.957987041727, gamma=1.6058997806999291, kernel=rbf\n",
      "[CV 5/5; 389/400] END C=2980.957987041727, gamma=1.6058997806999291, kernel=rbf;, score=0.877 total time=  13.6s\n",
      "[CV 1/5; 390/400] START C=2980.957987041727, gamma=3.1832246912598827, kernel=rbf\n",
      "[CV 1/5; 390/400] END C=2980.957987041727, gamma=3.1832246912598827, kernel=rbf;, score=0.846 total time=  13.1s\n",
      "[CV 2/5; 390/400] START C=2980.957987041727, gamma=3.1832246912598827, kernel=rbf\n",
      "[CV 2/5; 390/400] END C=2980.957987041727, gamma=3.1832246912598827, kernel=rbf;, score=0.845 total time=  13.8s\n",
      "[CV 3/5; 390/400] START C=2980.957987041727, gamma=3.1832246912598827, kernel=rbf\n",
      "[CV 3/5; 390/400] END C=2980.957987041727, gamma=3.1832246912598827, kernel=rbf;, score=0.837 total time=  14.0s\n",
      "[CV 4/5; 390/400] START C=2980.957987041727, gamma=3.1832246912598827, kernel=rbf\n",
      "[CV 4/5; 390/400] END C=2980.957987041727, gamma=3.1832246912598827, kernel=rbf;, score=0.841 total time=  14.4s\n",
      "[CV 5/5; 390/400] START C=2980.957987041727, gamma=3.1832246912598827, kernel=rbf\n",
      "[CV 5/5; 390/400] END C=2980.957987041727, gamma=3.1832246912598827, kernel=rbf;, score=0.843 total time=  14.0s\n",
      "[CV 1/5; 391/400] START C=2980.957987041727, gamma=6.3098080943943815, kernel=rbf\n",
      "[CV 1/5; 391/400] END C=2980.957987041727, gamma=6.3098080943943815, kernel=rbf;, score=0.506 total time=  12.8s\n",
      "[CV 2/5; 391/400] START C=2980.957987041727, gamma=6.3098080943943815, kernel=rbf\n",
      "[CV 2/5; 391/400] END C=2980.957987041727, gamma=6.3098080943943815, kernel=rbf;, score=0.509 total time=  12.3s\n",
      "[CV 3/5; 391/400] START C=2980.957987041727, gamma=6.3098080943943815, kernel=rbf\n",
      "[CV 3/5; 391/400] END C=2980.957987041727, gamma=6.3098080943943815, kernel=rbf;, score=0.507 total time=  11.8s\n",
      "[CV 4/5; 391/400] START C=2980.957987041727, gamma=6.3098080943943815, kernel=rbf\n",
      "[CV 4/5; 391/400] END C=2980.957987041727, gamma=6.3098080943943815, kernel=rbf;, score=0.508 total time=  13.2s\n",
      "[CV 5/5; 391/400] START C=2980.957987041727, gamma=6.3098080943943815, kernel=rbf\n",
      "[CV 5/5; 391/400] END C=2980.957987041727, gamma=6.3098080943943815, kernel=rbf;, score=0.508 total time=  14.1s\n",
      "[CV 1/5; 392/400] START C=2980.957987041727, gamma=12.507341469611143, kernel=rbf\n",
      "[CV 1/5; 392/400] END C=2980.957987041727, gamma=12.507341469611143, kernel=rbf;, score=0.506 total time=  14.8s\n",
      "[CV 2/5; 392/400] START C=2980.957987041727, gamma=12.507341469611143, kernel=rbf\n",
      "[CV 2/5; 392/400] END C=2980.957987041727, gamma=12.507341469611143, kernel=rbf;, score=0.509 total time=  12.9s\n",
      "[CV 3/5; 392/400] START C=2980.957987041727, gamma=12.507341469611143, kernel=rbf\n",
      "[CV 3/5; 392/400] END C=2980.957987041727, gamma=12.507341469611143, kernel=rbf;, score=0.507 total time=  12.9s\n",
      "[CV 4/5; 392/400] START C=2980.957987041727, gamma=12.507341469611143, kernel=rbf\n",
      "[CV 4/5; 392/400] END C=2980.957987041727, gamma=12.507341469611143, kernel=rbf;, score=0.508 total time=  13.8s\n",
      "[CV 5/5; 392/400] START C=2980.957987041727, gamma=12.507341469611143, kernel=rbf\n",
      "[CV 5/5; 392/400] END C=2980.957987041727, gamma=12.507341469611143, kernel=rbf;, score=0.508 total time=  16.4s\n",
      "[CV 1/5; 393/400] START C=2980.957987041727, gamma=24.792131281525027, kernel=rbf\n",
      "[CV 1/5; 393/400] END C=2980.957987041727, gamma=24.792131281525027, kernel=rbf;, score=0.506 total time=  17.4s\n",
      "[CV 2/5; 393/400] START C=2980.957987041727, gamma=24.792131281525027, kernel=rbf\n",
      "[CV 2/5; 393/400] END C=2980.957987041727, gamma=24.792131281525027, kernel=rbf;, score=0.509 total time=  13.1s\n",
      "[CV 3/5; 393/400] START C=2980.957987041727, gamma=24.792131281525027, kernel=rbf\n",
      "[CV 3/5; 393/400] END C=2980.957987041727, gamma=24.792131281525027, kernel=rbf;, score=0.507 total time=  13.9s\n",
      "[CV 4/5; 393/400] START C=2980.957987041727, gamma=24.792131281525027, kernel=rbf\n",
      "[CV 4/5; 393/400] END C=2980.957987041727, gamma=24.792131281525027, kernel=rbf;, score=0.508 total time=  14.5s\n",
      "[CV 5/5; 393/400] START C=2980.957987041727, gamma=24.792131281525027, kernel=rbf\n",
      "[CV 5/5; 393/400] END C=2980.957987041727, gamma=24.792131281525027, kernel=rbf;, score=0.508 total time=  14.7s\n",
      "[CV 1/5; 394/400] START C=2980.957987041727, gamma=49.143119261097524, kernel=rbf\n",
      "[CV 1/5; 394/400] END C=2980.957987041727, gamma=49.143119261097524, kernel=rbf;, score=0.506 total time=  18.6s\n",
      "[CV 2/5; 394/400] START C=2980.957987041727, gamma=49.143119261097524, kernel=rbf\n",
      "[CV 2/5; 394/400] END C=2980.957987041727, gamma=49.143119261097524, kernel=rbf;, score=0.509 total time=  13.6s\n",
      "[CV 3/5; 394/400] START C=2980.957987041727, gamma=49.143119261097524, kernel=rbf\n",
      "[CV 3/5; 394/400] END C=2980.957987041727, gamma=49.143119261097524, kernel=rbf;, score=0.507 total time=  16.4s\n",
      "[CV 4/5; 394/400] START C=2980.957987041727, gamma=49.143119261097524, kernel=rbf\n",
      "[CV 4/5; 394/400] END C=2980.957987041727, gamma=49.143119261097524, kernel=rbf;, score=0.508 total time=  13.8s\n",
      "[CV 5/5; 394/400] START C=2980.957987041727, gamma=49.143119261097524, kernel=rbf\n",
      "[CV 5/5; 394/400] END C=2980.957987041727, gamma=49.143119261097524, kernel=rbf;, score=0.508 total time=  13.5s\n",
      "[CV 1/5; 395/400] START C=2980.957987041727, gamma=97.41180148195387, kernel=rbf\n",
      "[CV 1/5; 395/400] END C=2980.957987041727, gamma=97.41180148195387, kernel=rbf;, score=0.506 total time=  13.5s\n",
      "[CV 2/5; 395/400] START C=2980.957987041727, gamma=97.41180148195387, kernel=rbf\n",
      "[CV 2/5; 395/400] END C=2980.957987041727, gamma=97.41180148195387, kernel=rbf;, score=0.509 total time=  13.9s\n",
      "[CV 3/5; 395/400] START C=2980.957987041727, gamma=97.41180148195387, kernel=rbf\n",
      "[CV 3/5; 395/400] END C=2980.957987041727, gamma=97.41180148195387, kernel=rbf;, score=0.507 total time=  14.6s\n",
      "[CV 4/5; 395/400] START C=2980.957987041727, gamma=97.41180148195387, kernel=rbf\n",
      "[CV 4/5; 395/400] END C=2980.957987041727, gamma=97.41180148195387, kernel=rbf;, score=0.508 total time=  13.9s\n",
      "[CV 5/5; 395/400] START C=2980.957987041727, gamma=97.41180148195387, kernel=rbf\n",
      "[CV 5/5; 395/400] END C=2980.957987041727, gamma=97.41180148195387, kernel=rbf;, score=0.508 total time=  13.7s\n",
      "[CV 1/5; 396/400] START C=2980.957987041727, gamma=193.0902883381129, kernel=rbf\n"
     ]
    },
    {
     "name": "stdout",
     "output_type": "stream",
     "text": [
      "[CV 1/5; 396/400] END C=2980.957987041727, gamma=193.0902883381129, kernel=rbf;, score=0.506 total time=  16.9s\n",
      "[CV 2/5; 396/400] START C=2980.957987041727, gamma=193.0902883381129, kernel=rbf\n",
      "[CV 2/5; 396/400] END C=2980.957987041727, gamma=193.0902883381129, kernel=rbf;, score=0.509 total time=  13.5s\n",
      "[CV 3/5; 396/400] START C=2980.957987041727, gamma=193.0902883381129, kernel=rbf\n",
      "[CV 3/5; 396/400] END C=2980.957987041727, gamma=193.0902883381129, kernel=rbf;, score=0.507 total time=  12.2s\n",
      "[CV 4/5; 396/400] START C=2980.957987041727, gamma=193.0902883381129, kernel=rbf\n",
      "[CV 4/5; 396/400] END C=2980.957987041727, gamma=193.0902883381129, kernel=rbf;, score=0.508 total time=  13.8s\n",
      "[CV 5/5; 396/400] START C=2980.957987041727, gamma=193.0902883381129, kernel=rbf\n",
      "[CV 5/5; 396/400] END C=2980.957987041727, gamma=193.0902883381129, kernel=rbf;, score=0.508 total time=  12.3s\n",
      "[CV 1/5; 397/400] START C=2980.957987041727, gamma=382.7447894740212, kernel=rbf\n",
      "[CV 1/5; 397/400] END C=2980.957987041727, gamma=382.7447894740212, kernel=rbf;, score=0.506 total time=  13.4s\n",
      "[CV 2/5; 397/400] START C=2980.957987041727, gamma=382.7447894740212, kernel=rbf\n",
      "[CV 2/5; 397/400] END C=2980.957987041727, gamma=382.7447894740212, kernel=rbf;, score=0.509 total time=  13.4s\n",
      "[CV 3/5; 397/400] START C=2980.957987041727, gamma=382.7447894740212, kernel=rbf\n",
      "[CV 3/5; 397/400] END C=2980.957987041727, gamma=382.7447894740212, kernel=rbf;, score=0.507 total time=  14.2s\n",
      "[CV 4/5; 397/400] START C=2980.957987041727, gamma=382.7447894740212, kernel=rbf\n",
      "[CV 4/5; 397/400] END C=2980.957987041727, gamma=382.7447894740212, kernel=rbf;, score=0.508 total time=  13.3s\n",
      "[CV 5/5; 397/400] START C=2980.957987041727, gamma=382.7447894740212, kernel=rbf\n",
      "[CV 5/5; 397/400] END C=2980.957987041727, gamma=382.7447894740212, kernel=rbf;, score=0.508 total time=  12.4s\n",
      "[CV 1/5; 398/400] START C=2980.957987041727, gamma=758.679139848782, kernel=rbf.\n",
      "[CV 1/5; 398/400] END C=2980.957987041727, gamma=758.679139848782, kernel=rbf;, score=0.506 total time=  12.1s\n",
      "[CV 2/5; 398/400] START C=2980.957987041727, gamma=758.679139848782, kernel=rbf.\n",
      "[CV 2/5; 398/400] END C=2980.957987041727, gamma=758.679139848782, kernel=rbf;, score=0.508 total time=  13.8s\n",
      "[CV 3/5; 398/400] START C=2980.957987041727, gamma=758.679139848782, kernel=rbf.\n",
      "[CV 3/5; 398/400] END C=2980.957987041727, gamma=758.679139848782, kernel=rbf;, score=0.506 total time=  13.6s\n",
      "[CV 4/5; 398/400] START C=2980.957987041727, gamma=758.679139848782, kernel=rbf.\n",
      "[CV 4/5; 398/400] END C=2980.957987041727, gamma=758.679139848782, kernel=rbf;, score=0.508 total time=  12.6s\n",
      "[CV 5/5; 398/400] START C=2980.957987041727, gamma=758.679139848782, kernel=rbf.\n",
      "[CV 5/5; 398/400] END C=2980.957987041727, gamma=758.679139848782, kernel=rbf;, score=0.508 total time=  14.4s\n",
      "[CV 1/5; 399/400] START C=2980.957987041727, gamma=1503.8585842871576, kernel=rbf\n",
      "[CV 1/5; 399/400] END C=2980.957987041727, gamma=1503.8585842871576, kernel=rbf;, score=0.506 total time=  14.6s\n",
      "[CV 2/5; 399/400] START C=2980.957987041727, gamma=1503.8585842871576, kernel=rbf\n",
      "[CV 2/5; 399/400] END C=2980.957987041727, gamma=1503.8585842871576, kernel=rbf;, score=0.508 total time=  13.0s\n",
      "[CV 3/5; 399/400] START C=2980.957987041727, gamma=1503.8585842871576, kernel=rbf\n",
      "[CV 3/5; 399/400] END C=2980.957987041727, gamma=1503.8585842871576, kernel=rbf;, score=0.506 total time=  13.0s\n",
      "[CV 4/5; 399/400] START C=2980.957987041727, gamma=1503.8585842871576, kernel=rbf\n",
      "[CV 4/5; 399/400] END C=2980.957987041727, gamma=1503.8585842871576, kernel=rbf;, score=0.508 total time=  12.8s\n",
      "[CV 5/5; 399/400] START C=2980.957987041727, gamma=1503.8585842871576, kernel=rbf\n",
      "[CV 5/5; 399/400] END C=2980.957987041727, gamma=1503.8585842871576, kernel=rbf;, score=0.508 total time=  12.8s\n",
      "[CV 1/5; 400/400] START C=2980.957987041727, gamma=2980.957987041727, kernel=rbf\n",
      "[CV 1/5; 400/400] END C=2980.957987041727, gamma=2980.957987041727, kernel=rbf;, score=0.506 total time=  13.2s\n",
      "[CV 2/5; 400/400] START C=2980.957987041727, gamma=2980.957987041727, kernel=rbf\n",
      "[CV 2/5; 400/400] END C=2980.957987041727, gamma=2980.957987041727, kernel=rbf;, score=0.508 total time=  14.0s\n",
      "[CV 3/5; 400/400] START C=2980.957987041727, gamma=2980.957987041727, kernel=rbf\n",
      "[CV 3/5; 400/400] END C=2980.957987041727, gamma=2980.957987041727, kernel=rbf;, score=0.506 total time=  14.3s\n",
      "[CV 4/5; 400/400] START C=2980.957987041727, gamma=2980.957987041727, kernel=rbf\n",
      "[CV 4/5; 400/400] END C=2980.957987041727, gamma=2980.957987041727, kernel=rbf;, score=0.508 total time=  12.2s\n",
      "[CV 5/5; 400/400] START C=2980.957987041727, gamma=2980.957987041727, kernel=rbf\n",
      "[CV 5/5; 400/400] END C=2980.957987041727, gamma=2980.957987041727, kernel=rbf;, score=0.508 total time=  13.2s\n",
      "{'C': 1.6058997806999291, 'gamma': 0.20619202825140895, 'kernel': 'rbf'}\n",
      "SVC(C=1.6058997806999291, gamma=0.20619202825140895)\n",
      "0.867\n"
     ]
    }
   ],
   "source": [
    "# self testing code - remove before submission\n",
    "## RBF kernel\n",
    "\n",
    "from sklearn.metrics import classification_report\n",
    "\n",
    "rbf_perf = []\n",
    "rbf_rpt = []\n",
    "\n",
    "# Hyperparameter tuning\n",
    "C_rng = np.logspace(-5,8,20,base=math.e)\n",
    "gamma_rng = np.logspace(-5,8,20,base=math.e)\n",
    "\n",
    "params_grid = {'kernel':['rbf'],\n",
    "               'C': C_rng,\n",
    "              'gamma': gamma_rng}\n",
    "\n",
    "rbf_svc = svm.SVC()\n",
    "rbf_sc = SVMClassifier(kernel='rbf')\n",
    "rbf_search = GridSearchCV(rbf_svc, params_grid, cv=5, verbose=10)\n",
    "rbf_X_train = rbf_sc.vectorizer.fit_transform(X_train)\n",
    "rbf_search.fit(rbf_X_train, Y_train)\n",
    "print(rbf_search.best_params_)\n",
    "print(rbf_search.best_estimator_)\n",
    "print(rbf_search.best_score_)"
   ]
  },
  {
   "cell_type": "code",
   "execution_count": 393,
   "id": "8a0b4d94",
   "metadata": {},
   "outputs": [
    {
     "data": {
      "image/png": "[encoded data removed]",
      "text/plain": [
       "<Figure size 720x720 with 2 Axes>"
      ]
     },
     "metadata": {},
     "output_type": "display_data"
    }
   ],
   "source": [
    "rbf_df = pd.DataFrame.from_dict(rbf_search.cv_results_)\n",
    "\n",
    "rbf_scores = rbf_df.mean_test_score\n",
    "rbf_scores = np.array(rbf_scores).reshape(len(gamma_rng),len(C_rng)).T\n",
    "\n",
    "# Make a nice figure\n",
    "plt.figure(figsize=(10, 10))\n",
    "plt.subplots_adjust(left=0.15, right=0.95, bottom=0.15, top=0.95)\n",
    "plt.imshow(rbf_scores, interpolation='nearest', cmap=plt.get_cmap('inferno'))\n",
    "plt.ylabel('ln(Gamma)')\n",
    "plt.xlabel('ln(C)')\n",
    "plt.colorbar()\n",
    "plt.yticks(np.arange(len(gamma_rng)), np.round(np.log(gamma_rng),2), rotation=45)\n",
    "plt.xticks(np.arange(len(C_rng)), np.round(np.log(C_rng), 2))\n",
    "plt.show()"
   ]
  },
  {
   "cell_type": "code",
   "execution_count": 467,
   "id": "2258dd47",
   "metadata": {},
   "outputs": [
    {
     "name": "stdout",
     "output_type": "stream",
     "text": [
      "              precision    recall  f1-score   support\n",
      "\n",
      "    negative       0.87      0.86      0.87       731\n",
      "    positive       0.87      0.88      0.88       769\n",
      "\n",
      "    accuracy                           0.87      1500\n",
      "   macro avg       0.87      0.87      0.87      1500\n",
      "weighted avg       0.87      0.87      0.87      1500\n",
      "\n"
     ]
    }
   ],
   "source": [
    "# plug in the best parameter found to test accuracy for test set\n",
    "\n",
    "rbf_sc = SVMClassifier(kernel='rbf', C=1.606, gamma=0.206)\n",
    "rbf_sc.fit(X_train, Y_train)\n",
    "rbf_pred = rbf_sc.predict(X_test)\n",
    "print(classification_report(Y_test, rbf_pred))\n"
   ]
  },
  {
   "cell_type": "code",
   "execution_count": 370,
   "id": "2de564b7",
   "metadata": {},
   "outputs": [
    {
     "name": "stdout",
     "output_type": "stream",
     "text": [
      "Fitting 5 folds for each of 80 candidates, totalling 400 fits\n",
      "[CV 1/5; 1/80] START C=0.006737946999085469, degree=1.0, kernel=poly............\n",
      "[CV 1/5; 1/80] END C=0.006737946999085469, degree=1.0, kernel=poly;, score=0.506 total time=  12.0s\n",
      "[CV 2/5; 1/80] START C=0.006737946999085469, degree=1.0, kernel=poly............\n",
      "[CV 2/5; 1/80] END C=0.006737946999085469, degree=1.0, kernel=poly;, score=0.506 total time=  12.8s\n",
      "[CV 3/5; 1/80] START C=0.006737946999085469, degree=1.0, kernel=poly............\n",
      "[CV 3/5; 1/80] END C=0.006737946999085469, degree=1.0, kernel=poly;, score=0.506 total time=  14.8s\n",
      "[CV 4/5; 1/80] START C=0.006737946999085469, degree=1.0, kernel=poly............\n",
      "[CV 4/5; 1/80] END C=0.006737946999085469, degree=1.0, kernel=poly;, score=0.507 total time=  13.1s\n",
      "[CV 5/5; 1/80] START C=0.006737946999085469, degree=1.0, kernel=poly............\n",
      "[CV 5/5; 1/80] END C=0.006737946999085469, degree=1.0, kernel=poly;, score=0.507 total time=  14.2s\n",
      "[CV 1/5; 2/80] START C=0.006737946999085469, degree=2.0, kernel=poly............\n",
      "[CV 1/5; 2/80] END C=0.006737946999085469, degree=2.0, kernel=poly;, score=0.506 total time=  21.3s\n",
      "[CV 2/5; 2/80] START C=0.006737946999085469, degree=2.0, kernel=poly............\n",
      "[CV 2/5; 2/80] END C=0.006737946999085469, degree=2.0, kernel=poly;, score=0.506 total time=  13.2s\n",
      "[CV 3/5; 2/80] START C=0.006737946999085469, degree=2.0, kernel=poly............\n",
      "[CV 3/5; 2/80] END C=0.006737946999085469, degree=2.0, kernel=poly;, score=0.506 total time=  13.5s\n",
      "[CV 4/5; 2/80] START C=0.006737946999085469, degree=2.0, kernel=poly............\n",
      "[CV 4/5; 2/80] END C=0.006737946999085469, degree=2.0, kernel=poly;, score=0.507 total time=  18.3s\n",
      "[CV 5/5; 2/80] START C=0.006737946999085469, degree=2.0, kernel=poly............\n",
      "[CV 5/5; 2/80] END C=0.006737946999085469, degree=2.0, kernel=poly;, score=0.507 total time=  14.3s\n",
      "[CV 1/5; 3/80] START C=0.006737946999085469, degree=3.0, kernel=poly............\n",
      "[CV 1/5; 3/80] END C=0.006737946999085469, degree=3.0, kernel=poly;, score=0.506 total time=  15.5s\n",
      "[CV 2/5; 3/80] START C=0.006737946999085469, degree=3.0, kernel=poly............\n",
      "[CV 2/5; 3/80] END C=0.006737946999085469, degree=3.0, kernel=poly;, score=0.506 total time=  14.0s\n",
      "[CV 3/5; 3/80] START C=0.006737946999085469, degree=3.0, kernel=poly............\n",
      "[CV 3/5; 3/80] END C=0.006737946999085469, degree=3.0, kernel=poly;, score=0.506 total time=  13.7s\n",
      "[CV 4/5; 3/80] START C=0.006737946999085469, degree=3.0, kernel=poly............\n",
      "[CV 4/5; 3/80] END C=0.006737946999085469, degree=3.0, kernel=poly;, score=0.507 total time=  13.9s\n",
      "[CV 5/5; 3/80] START C=0.006737946999085469, degree=3.0, kernel=poly............\n",
      "[CV 5/5; 3/80] END C=0.006737946999085469, degree=3.0, kernel=poly;, score=0.507 total time=  14.7s\n",
      "[CV 1/5; 4/80] START C=0.006737946999085469, degree=4.0, kernel=poly............\n",
      "[CV 1/5; 4/80] END C=0.006737946999085469, degree=4.0, kernel=poly;, score=0.506 total time=  13.2s\n",
      "[CV 2/5; 4/80] START C=0.006737946999085469, degree=4.0, kernel=poly............\n",
      "[CV 2/5; 4/80] END C=0.006737946999085469, degree=4.0, kernel=poly;, score=0.506 total time=  12.1s\n",
      "[CV 3/5; 4/80] START C=0.006737946999085469, degree=4.0, kernel=poly............\n",
      "[CV 3/5; 4/80] END C=0.006737946999085469, degree=4.0, kernel=poly;, score=0.506 total time=  12.1s\n",
      "[CV 4/5; 4/80] START C=0.006737946999085469, degree=4.0, kernel=poly............\n",
      "[CV 4/5; 4/80] END C=0.006737946999085469, degree=4.0, kernel=poly;, score=0.507 total time=  11.9s\n",
      "[CV 5/5; 4/80] START C=0.006737946999085469, degree=4.0, kernel=poly............\n",
      "[CV 5/5; 4/80] END C=0.006737946999085469, degree=4.0, kernel=poly;, score=0.507 total time=  11.9s\n",
      "[CV 1/5; 5/80] START C=0.013356001111439869, degree=1.0, kernel=poly............\n",
      "[CV 1/5; 5/80] END C=0.013356001111439869, degree=1.0, kernel=poly;, score=0.506 total time=  12.2s\n",
      "[CV 2/5; 5/80] START C=0.013356001111439869, degree=1.0, kernel=poly............\n",
      "[CV 2/5; 5/80] END C=0.013356001111439869, degree=1.0, kernel=poly;, score=0.506 total time=  12.7s\n",
      "[CV 3/5; 5/80] START C=0.013356001111439869, degree=1.0, kernel=poly............\n",
      "[CV 3/5; 5/80] END C=0.013356001111439869, degree=1.0, kernel=poly;, score=0.506 total time=  15.4s\n",
      "[CV 4/5; 5/80] START C=0.013356001111439869, degree=1.0, kernel=poly............\n",
      "[CV 4/5; 5/80] END C=0.013356001111439869, degree=1.0, kernel=poly;, score=0.507 total time=  15.3s\n",
      "[CV 5/5; 5/80] START C=0.013356001111439869, degree=1.0, kernel=poly............\n",
      "[CV 5/5; 5/80] END C=0.013356001111439869, degree=1.0, kernel=poly;, score=0.507 total time=  13.1s\n",
      "[CV 1/5; 6/80] START C=0.013356001111439869, degree=2.0, kernel=poly............\n",
      "[CV 1/5; 6/80] END C=0.013356001111439869, degree=2.0, kernel=poly;, score=0.506 total time=  12.9s\n",
      "[CV 2/5; 6/80] START C=0.013356001111439869, degree=2.0, kernel=poly............\n",
      "[CV 2/5; 6/80] END C=0.013356001111439869, degree=2.0, kernel=poly;, score=0.506 total time=  12.5s\n",
      "[CV 3/5; 6/80] START C=0.013356001111439869, degree=2.0, kernel=poly............\n",
      "[CV 3/5; 6/80] END C=0.013356001111439869, degree=2.0, kernel=poly;, score=0.506 total time=  12.3s\n",
      "[CV 4/5; 6/80] START C=0.013356001111439869, degree=2.0, kernel=poly............\n",
      "[CV 4/5; 6/80] END C=0.013356001111439869, degree=2.0, kernel=poly;, score=0.507 total time=  13.3s\n",
      "[CV 5/5; 6/80] START C=0.013356001111439869, degree=2.0, kernel=poly............\n",
      "[CV 5/5; 6/80] END C=0.013356001111439869, degree=2.0, kernel=poly;, score=0.507 total time=  13.6s\n",
      "[CV 1/5; 7/80] START C=0.013356001111439869, degree=3.0, kernel=poly............\n",
      "[CV 1/5; 7/80] END C=0.013356001111439869, degree=3.0, kernel=poly;, score=0.506 total time=  14.1s\n",
      "[CV 2/5; 7/80] START C=0.013356001111439869, degree=3.0, kernel=poly............\n",
      "[CV 2/5; 7/80] END C=0.013356001111439869, degree=3.0, kernel=poly;, score=0.506 total time=  13.1s\n",
      "[CV 3/5; 7/80] START C=0.013356001111439869, degree=3.0, kernel=poly............\n",
      "[CV 3/5; 7/80] END C=0.013356001111439869, degree=3.0, kernel=poly;, score=0.506 total time=  13.2s\n",
      "[CV 4/5; 7/80] START C=0.013356001111439869, degree=3.0, kernel=poly............\n",
      "[CV 4/5; 7/80] END C=0.013356001111439869, degree=3.0, kernel=poly;, score=0.507 total time=  14.2s\n",
      "[CV 5/5; 7/80] START C=0.013356001111439869, degree=3.0, kernel=poly............\n",
      "[CV 5/5; 7/80] END C=0.013356001111439869, degree=3.0, kernel=poly;, score=0.507 total time=  14.0s\n",
      "[CV 1/5; 8/80] START C=0.013356001111439869, degree=4.0, kernel=poly............\n",
      "[CV 1/5; 8/80] END C=0.013356001111439869, degree=4.0, kernel=poly;, score=0.506 total time=  13.1s\n",
      "[CV 2/5; 8/80] START C=0.013356001111439869, degree=4.0, kernel=poly............\n",
      "[CV 2/5; 8/80] END C=0.013356001111439869, degree=4.0, kernel=poly;, score=0.506 total time=  12.8s\n",
      "[CV 3/5; 8/80] START C=0.013356001111439869, degree=4.0, kernel=poly............\n",
      "[CV 3/5; 8/80] END C=0.013356001111439869, degree=4.0, kernel=poly;, score=0.506 total time=  13.3s\n",
      "[CV 4/5; 8/80] START C=0.013356001111439869, degree=4.0, kernel=poly............\n",
      "[CV 4/5; 8/80] END C=0.013356001111439869, degree=4.0, kernel=poly;, score=0.507 total time=  12.9s\n",
      "[CV 5/5; 8/80] START C=0.013356001111439869, degree=4.0, kernel=poly............\n",
      "[CV 5/5; 8/80] END C=0.013356001111439869, degree=4.0, kernel=poly;, score=0.507 total time=  12.6s\n",
      "[CV 1/5; 9/80] START C=0.026474349785326985, degree=1.0, kernel=poly............\n",
      "[CV 1/5; 9/80] END C=0.026474349785326985, degree=1.0, kernel=poly;, score=0.506 total time=  13.2s\n",
      "[CV 2/5; 9/80] START C=0.026474349785326985, degree=1.0, kernel=poly............\n",
      "[CV 2/5; 9/80] END C=0.026474349785326985, degree=1.0, kernel=poly;, score=0.506 total time=  13.6s\n",
      "[CV 3/5; 9/80] START C=0.026474349785326985, degree=1.0, kernel=poly............\n",
      "[CV 3/5; 9/80] END C=0.026474349785326985, degree=1.0, kernel=poly;, score=0.506 total time=  12.1s\n",
      "[CV 4/5; 9/80] START C=0.026474349785326985, degree=1.0, kernel=poly............\n",
      "[CV 4/5; 9/80] END C=0.026474349785326985, degree=1.0, kernel=poly;, score=0.507 total time=  11.7s\n",
      "[CV 5/5; 9/80] START C=0.026474349785326985, degree=1.0, kernel=poly............\n",
      "[CV 5/5; 9/80] END C=0.026474349785326985, degree=1.0, kernel=poly;, score=0.507 total time=  14.0s\n",
      "[CV 1/5; 10/80] START C=0.026474349785326985, degree=2.0, kernel=poly...........\n"
     ]
    },
    {
     "name": "stdout",
     "output_type": "stream",
     "text": [
      "[CV 1/5; 10/80] END C=0.026474349785326985, degree=2.0, kernel=poly;, score=0.506 total time=  14.0s\n",
      "[CV 2/5; 10/80] START C=0.026474349785326985, degree=2.0, kernel=poly...........\n",
      "[CV 2/5; 10/80] END C=0.026474349785326985, degree=2.0, kernel=poly;, score=0.506 total time=  13.9s\n",
      "[CV 3/5; 10/80] START C=0.026474349785326985, degree=2.0, kernel=poly...........\n",
      "[CV 3/5; 10/80] END C=0.026474349785326985, degree=2.0, kernel=poly;, score=0.506 total time=  12.7s\n",
      "[CV 4/5; 10/80] START C=0.026474349785326985, degree=2.0, kernel=poly...........\n",
      "[CV 4/5; 10/80] END C=0.026474349785326985, degree=2.0, kernel=poly;, score=0.507 total time=  12.3s\n",
      "[CV 5/5; 10/80] START C=0.026474349785326985, degree=2.0, kernel=poly...........\n",
      "[CV 5/5; 10/80] END C=0.026474349785326985, degree=2.0, kernel=poly;, score=0.507 total time=  12.7s\n",
      "[CV 1/5; 11/80] START C=0.026474349785326985, degree=3.0, kernel=poly...........\n",
      "[CV 1/5; 11/80] END C=0.026474349785326985, degree=3.0, kernel=poly;, score=0.506 total time=  13.0s\n",
      "[CV 2/5; 11/80] START C=0.026474349785326985, degree=3.0, kernel=poly...........\n",
      "[CV 2/5; 11/80] END C=0.026474349785326985, degree=3.0, kernel=poly;, score=0.506 total time=  12.7s\n",
      "[CV 3/5; 11/80] START C=0.026474349785326985, degree=3.0, kernel=poly...........\n",
      "[CV 3/5; 11/80] END C=0.026474349785326985, degree=3.0, kernel=poly;, score=0.506 total time=  12.8s\n",
      "[CV 4/5; 11/80] START C=0.026474349785326985, degree=3.0, kernel=poly...........\n",
      "[CV 4/5; 11/80] END C=0.026474349785326985, degree=3.0, kernel=poly;, score=0.507 total time=  12.5s\n",
      "[CV 5/5; 11/80] START C=0.026474349785326985, degree=3.0, kernel=poly...........\n",
      "[CV 5/5; 11/80] END C=0.026474349785326985, degree=3.0, kernel=poly;, score=0.507 total time=  12.0s\n",
      "[CV 1/5; 12/80] START C=0.026474349785326985, degree=4.0, kernel=poly...........\n",
      "[CV 1/5; 12/80] END C=0.026474349785326985, degree=4.0, kernel=poly;, score=0.506 total time=  12.6s\n",
      "[CV 2/5; 12/80] START C=0.026474349785326985, degree=4.0, kernel=poly...........\n",
      "[CV 2/5; 12/80] END C=0.026474349785326985, degree=4.0, kernel=poly;, score=0.506 total time=  12.4s\n",
      "[CV 3/5; 12/80] START C=0.026474349785326985, degree=4.0, kernel=poly...........\n",
      "[CV 3/5; 12/80] END C=0.026474349785326985, degree=4.0, kernel=poly;, score=0.506 total time=  11.9s\n",
      "[CV 4/5; 12/80] START C=0.026474349785326985, degree=4.0, kernel=poly...........\n",
      "[CV 4/5; 12/80] END C=0.026474349785326985, degree=4.0, kernel=poly;, score=0.507 total time=  12.5s\n",
      "[CV 5/5; 12/80] START C=0.026474349785326985, degree=4.0, kernel=poly...........\n",
      "[CV 5/5; 12/80] END C=0.026474349785326985, degree=4.0, kernel=poly;, score=0.507 total time=  14.4s\n",
      "[CV 1/5; 13/80] START C=0.052477623407466346, degree=1.0, kernel=poly...........\n",
      "[CV 1/5; 13/80] END C=0.052477623407466346, degree=1.0, kernel=poly;, score=0.526 total time=  14.1s\n",
      "[CV 2/5; 13/80] START C=0.052477623407466346, degree=1.0, kernel=poly...........\n",
      "[CV 2/5; 13/80] END C=0.052477623407466346, degree=1.0, kernel=poly;, score=0.529 total time=  14.3s\n",
      "[CV 3/5; 13/80] START C=0.052477623407466346, degree=1.0, kernel=poly...........\n",
      "[CV 3/5; 13/80] END C=0.052477623407466346, degree=1.0, kernel=poly;, score=0.536 total time=  12.2s\n",
      "[CV 4/5; 13/80] START C=0.052477623407466346, degree=1.0, kernel=poly...........\n",
      "[CV 4/5; 13/80] END C=0.052477623407466346, degree=1.0, kernel=poly;, score=0.527 total time=  12.0s\n",
      "[CV 5/5; 13/80] START C=0.052477623407466346, degree=1.0, kernel=poly...........\n",
      "[CV 5/5; 13/80] END C=0.052477623407466346, degree=1.0, kernel=poly;, score=0.530 total time=  12.4s\n",
      "[CV 1/5; 14/80] START C=0.052477623407466346, degree=2.0, kernel=poly...........\n",
      "[CV 1/5; 14/80] END C=0.052477623407466346, degree=2.0, kernel=poly;, score=0.506 total time=  12.4s\n",
      "[CV 2/5; 14/80] START C=0.052477623407466346, degree=2.0, kernel=poly...........\n",
      "[CV 2/5; 14/80] END C=0.052477623407466346, degree=2.0, kernel=poly;, score=0.506 total time=  12.1s\n",
      "[CV 3/5; 14/80] START C=0.052477623407466346, degree=2.0, kernel=poly...........\n",
      "[CV 3/5; 14/80] END C=0.052477623407466346, degree=2.0, kernel=poly;, score=0.506 total time=  12.0s\n",
      "[CV 4/5; 14/80] START C=0.052477623407466346, degree=2.0, kernel=poly...........\n",
      "[CV 4/5; 14/80] END C=0.052477623407466346, degree=2.0, kernel=poly;, score=0.507 total time=  12.2s\n",
      "[CV 5/5; 14/80] START C=0.052477623407466346, degree=2.0, kernel=poly...........\n",
      "[CV 5/5; 14/80] END C=0.052477623407466346, degree=2.0, kernel=poly;, score=0.507 total time=  15.4s\n",
      "[CV 1/5; 15/80] START C=0.052477623407466346, degree=3.0, kernel=poly...........\n",
      "[CV 1/5; 15/80] END C=0.052477623407466346, degree=3.0, kernel=poly;, score=0.506 total time=  13.7s\n",
      "[CV 2/5; 15/80] START C=0.052477623407466346, degree=3.0, kernel=poly...........\n",
      "[CV 2/5; 15/80] END C=0.052477623407466346, degree=3.0, kernel=poly;, score=0.506 total time=  12.0s\n",
      "[CV 3/5; 15/80] START C=0.052477623407466346, degree=3.0, kernel=poly...........\n",
      "[CV 3/5; 15/80] END C=0.052477623407466346, degree=3.0, kernel=poly;, score=0.506 total time=  11.8s\n",
      "[CV 4/5; 15/80] START C=0.052477623407466346, degree=3.0, kernel=poly...........\n",
      "[CV 4/5; 15/80] END C=0.052477623407466346, degree=3.0, kernel=poly;, score=0.507 total time=  12.1s\n",
      "[CV 5/5; 15/80] START C=0.052477623407466346, degree=3.0, kernel=poly...........\n",
      "[CV 5/5; 15/80] END C=0.052477623407466346, degree=3.0, kernel=poly;, score=0.507 total time=  12.2s\n",
      "[CV 1/5; 16/80] START C=0.052477623407466346, degree=4.0, kernel=poly...........\n",
      "[CV 1/5; 16/80] END C=0.052477623407466346, degree=4.0, kernel=poly;, score=0.506 total time=  12.1s\n",
      "[CV 2/5; 16/80] START C=0.052477623407466346, degree=4.0, kernel=poly...........\n",
      "[CV 2/5; 16/80] END C=0.052477623407466346, degree=4.0, kernel=poly;, score=0.506 total time=  12.6s\n",
      "[CV 3/5; 16/80] START C=0.052477623407466346, degree=4.0, kernel=poly...........\n",
      "[CV 3/5; 16/80] END C=0.052477623407466346, degree=4.0, kernel=poly;, score=0.506 total time=  11.9s\n",
      "[CV 4/5; 16/80] START C=0.052477623407466346, degree=4.0, kernel=poly...........\n",
      "[CV 4/5; 16/80] END C=0.052477623407466346, degree=4.0, kernel=poly;, score=0.507 total time=  12.4s\n",
      "[CV 5/5; 16/80] START C=0.052477623407466346, degree=4.0, kernel=poly...........\n",
      "[CV 5/5; 16/80] END C=0.052477623407466346, degree=4.0, kernel=poly;, score=0.507 total time=  12.2s\n",
      "[CV 1/5; 17/80] START C=0.10402147666803764, degree=1.0, kernel=poly............\n",
      "[CV 1/5; 17/80] END C=0.10402147666803764, degree=1.0, kernel=poly;, score=0.870 total time=  11.8s\n",
      "[CV 2/5; 17/80] START C=0.10402147666803764, degree=1.0, kernel=poly............\n",
      "[CV 2/5; 17/80] END C=0.10402147666803764, degree=1.0, kernel=poly;, score=0.840 total time=  11.9s\n",
      "[CV 3/5; 17/80] START C=0.10402147666803764, degree=1.0, kernel=poly............\n",
      "[CV 3/5; 17/80] END C=0.10402147666803764, degree=1.0, kernel=poly;, score=0.818 total time=  12.9s\n",
      "[CV 4/5; 17/80] START C=0.10402147666803764, degree=1.0, kernel=poly............\n",
      "[CV 4/5; 17/80] END C=0.10402147666803764, degree=1.0, kernel=poly;, score=0.852 total time=  12.9s\n",
      "[CV 5/5; 17/80] START C=0.10402147666803764, degree=1.0, kernel=poly............\n",
      "[CV 5/5; 17/80] END C=0.10402147666803764, degree=1.0, kernel=poly;, score=0.857 total time=  12.1s\n",
      "[CV 1/5; 18/80] START C=0.10402147666803764, degree=2.0, kernel=poly............\n",
      "[CV 1/5; 18/80] END C=0.10402147666803764, degree=2.0, kernel=poly;, score=0.506 total time=  12.7s\n",
      "[CV 2/5; 18/80] START C=0.10402147666803764, degree=2.0, kernel=poly............\n",
      "[CV 2/5; 18/80] END C=0.10402147666803764, degree=2.0, kernel=poly;, score=0.506 total time=  13.1s\n",
      "[CV 3/5; 18/80] START C=0.10402147666803764, degree=2.0, kernel=poly............\n",
      "[CV 3/5; 18/80] END C=0.10402147666803764, degree=2.0, kernel=poly;, score=0.506 total time=  13.5s\n",
      "[CV 4/5; 18/80] START C=0.10402147666803764, degree=2.0, kernel=poly............\n",
      "[CV 4/5; 18/80] END C=0.10402147666803764, degree=2.0, kernel=poly;, score=0.507 total time=  13.3s\n",
      "[CV 5/5; 18/80] START C=0.10402147666803764, degree=2.0, kernel=poly............\n",
      "[CV 5/5; 18/80] END C=0.10402147666803764, degree=2.0, kernel=poly;, score=0.507 total time=  12.8s\n",
      "[CV 1/5; 19/80] START C=0.10402147666803764, degree=3.0, kernel=poly............\n",
      "[CV 1/5; 19/80] END C=0.10402147666803764, degree=3.0, kernel=poly;, score=0.506 total time=  13.7s\n",
      "[CV 2/5; 19/80] START C=0.10402147666803764, degree=3.0, kernel=poly............\n"
     ]
    },
    {
     "name": "stdout",
     "output_type": "stream",
     "text": [
      "[CV 2/5; 19/80] END C=0.10402147666803764, degree=3.0, kernel=poly;, score=0.506 total time=  14.0s\n",
      "[CV 3/5; 19/80] START C=0.10402147666803764, degree=3.0, kernel=poly............\n",
      "[CV 3/5; 19/80] END C=0.10402147666803764, degree=3.0, kernel=poly;, score=0.506 total time=  13.2s\n",
      "[CV 4/5; 19/80] START C=0.10402147666803764, degree=3.0, kernel=poly............\n",
      "[CV 4/5; 19/80] END C=0.10402147666803764, degree=3.0, kernel=poly;, score=0.507 total time=  15.9s\n",
      "[CV 5/5; 19/80] START C=0.10402147666803764, degree=3.0, kernel=poly............\n",
      "[CV 5/5; 19/80] END C=0.10402147666803764, degree=3.0, kernel=poly;, score=0.507 total time=  15.0s\n",
      "[CV 1/5; 20/80] START C=0.10402147666803764, degree=4.0, kernel=poly............\n",
      "[CV 1/5; 20/80] END C=0.10402147666803764, degree=4.0, kernel=poly;, score=0.506 total time=  12.4s\n",
      "[CV 2/5; 20/80] START C=0.10402147666803764, degree=4.0, kernel=poly............\n",
      "[CV 2/5; 20/80] END C=0.10402147666803764, degree=4.0, kernel=poly;, score=0.506 total time=  13.0s\n",
      "[CV 3/5; 20/80] START C=0.10402147666803764, degree=4.0, kernel=poly............\n",
      "[CV 3/5; 20/80] END C=0.10402147666803764, degree=4.0, kernel=poly;, score=0.506 total time=  12.7s\n",
      "[CV 4/5; 20/80] START C=0.10402147666803764, degree=4.0, kernel=poly............\n",
      "[CV 4/5; 20/80] END C=0.10402147666803764, degree=4.0, kernel=poly;, score=0.507 total time=  13.6s\n",
      "[CV 5/5; 20/80] START C=0.10402147666803764, degree=4.0, kernel=poly............\n",
      "[CV 5/5; 20/80] END C=0.10402147666803764, degree=4.0, kernel=poly;, score=0.507 total time=  15.9s\n",
      "[CV 1/5; 21/80] START C=0.20619202825140895, degree=1.0, kernel=poly............\n",
      "[CV 1/5; 21/80] END C=0.20619202825140895, degree=1.0, kernel=poly;, score=0.870 total time=  13.4s\n",
      "[CV 2/5; 21/80] START C=0.20619202825140895, degree=1.0, kernel=poly............\n",
      "[CV 2/5; 21/80] END C=0.20619202825140895, degree=1.0, kernel=poly;, score=0.867 total time=  12.9s\n",
      "[CV 3/5; 21/80] START C=0.20619202825140895, degree=1.0, kernel=poly............\n",
      "[CV 3/5; 21/80] END C=0.20619202825140895, degree=1.0, kernel=poly;, score=0.824 total time=  12.3s\n",
      "[CV 4/5; 21/80] START C=0.20619202825140895, degree=1.0, kernel=poly............\n",
      "[CV 4/5; 21/80] END C=0.20619202825140895, degree=1.0, kernel=poly;, score=0.865 total time=  11.6s\n",
      "[CV 5/5; 21/80] START C=0.20619202825140895, degree=1.0, kernel=poly............\n",
      "[CV 5/5; 21/80] END C=0.20619202825140895, degree=1.0, kernel=poly;, score=0.869 total time=  11.8s\n",
      "[CV 1/5; 22/80] START C=0.20619202825140895, degree=2.0, kernel=poly............\n",
      "[CV 1/5; 22/80] END C=0.20619202825140895, degree=2.0, kernel=poly;, score=0.506 total time=  13.6s\n",
      "[CV 2/5; 22/80] START C=0.20619202825140895, degree=2.0, kernel=poly............\n",
      "[CV 2/5; 22/80] END C=0.20619202825140895, degree=2.0, kernel=poly;, score=0.506 total time=  15.1s\n",
      "[CV 3/5; 22/80] START C=0.20619202825140895, degree=2.0, kernel=poly............\n",
      "[CV 3/5; 22/80] END C=0.20619202825140895, degree=2.0, kernel=poly;, score=0.506 total time=  15.2s\n",
      "[CV 4/5; 22/80] START C=0.20619202825140895, degree=2.0, kernel=poly............\n",
      "[CV 4/5; 22/80] END C=0.20619202825140895, degree=2.0, kernel=poly;, score=0.507 total time=  14.0s\n",
      "[CV 5/5; 22/80] START C=0.20619202825140895, degree=2.0, kernel=poly............\n",
      "[CV 5/5; 22/80] END C=0.20619202825140895, degree=2.0, kernel=poly;, score=0.507 total time=  17.4s\n",
      "[CV 1/5; 23/80] START C=0.20619202825140895, degree=3.0, kernel=poly............\n",
      "[CV 1/5; 23/80] END C=0.20619202825140895, degree=3.0, kernel=poly;, score=0.506 total time=  16.9s\n",
      "[CV 2/5; 23/80] START C=0.20619202825140895, degree=3.0, kernel=poly............\n",
      "[CV 2/5; 23/80] END C=0.20619202825140895, degree=3.0, kernel=poly;, score=0.506 total time=  15.1s\n",
      "[CV 3/5; 23/80] START C=0.20619202825140895, degree=3.0, kernel=poly............\n",
      "[CV 3/5; 23/80] END C=0.20619202825140895, degree=3.0, kernel=poly;, score=0.506 total time=  13.4s\n",
      "[CV 4/5; 23/80] START C=0.20619202825140895, degree=3.0, kernel=poly............\n",
      "[CV 4/5; 23/80] END C=0.20619202825140895, degree=3.0, kernel=poly;, score=0.507 total time=  13.5s\n",
      "[CV 5/5; 23/80] START C=0.20619202825140895, degree=3.0, kernel=poly............\n",
      "[CV 5/5; 23/80] END C=0.20619202825140895, degree=3.0, kernel=poly;, score=0.507 total time=  16.7s\n",
      "[CV 1/5; 24/80] START C=0.20619202825140895, degree=4.0, kernel=poly............\n",
      "[CV 1/5; 24/80] END C=0.20619202825140895, degree=4.0, kernel=poly;, score=0.506 total time=  14.6s\n",
      "[CV 2/5; 24/80] START C=0.20619202825140895, degree=4.0, kernel=poly............\n",
      "[CV 2/5; 24/80] END C=0.20619202825140895, degree=4.0, kernel=poly;, score=0.506 total time=  13.4s\n",
      "[CV 3/5; 24/80] START C=0.20619202825140895, degree=4.0, kernel=poly............\n",
      "[CV 3/5; 24/80] END C=0.20619202825140895, degree=4.0, kernel=poly;, score=0.506 total time=  12.7s\n",
      "[CV 4/5; 24/80] START C=0.20619202825140895, degree=4.0, kernel=poly............\n",
      "[CV 4/5; 24/80] END C=0.20619202825140895, degree=4.0, kernel=poly;, score=0.507 total time=  12.7s\n",
      "[CV 5/5; 24/80] START C=0.20619202825140895, degree=4.0, kernel=poly............\n",
      "[CV 5/5; 24/80] END C=0.20619202825140895, degree=4.0, kernel=poly;, score=0.507 total time=  13.6s\n",
      "[CV 1/5; 25/80] START C=0.40871514110598417, degree=1.0, kernel=poly............\n",
      "[CV 1/5; 25/80] END C=0.40871514110598417, degree=1.0, kernel=poly;, score=0.874 total time=  11.1s\n",
      "[CV 2/5; 25/80] START C=0.40871514110598417, degree=1.0, kernel=poly............\n",
      "[CV 2/5; 25/80] END C=0.40871514110598417, degree=1.0, kernel=poly;, score=0.873 total time=  11.4s\n",
      "[CV 3/5; 25/80] START C=0.40871514110598417, degree=1.0, kernel=poly............\n",
      "[CV 3/5; 25/80] END C=0.40871514110598417, degree=1.0, kernel=poly;, score=0.833 total time=  10.7s\n",
      "[CV 4/5; 25/80] START C=0.40871514110598417, degree=1.0, kernel=poly............\n",
      "[CV 4/5; 25/80] END C=0.40871514110598417, degree=1.0, kernel=poly;, score=0.870 total time=  11.7s\n",
      "[CV 5/5; 25/80] START C=0.40871514110598417, degree=1.0, kernel=poly............\n",
      "[CV 5/5; 25/80] END C=0.40871514110598417, degree=1.0, kernel=poly;, score=0.883 total time=  10.9s\n",
      "[CV 1/5; 26/80] START C=0.40871514110598417, degree=2.0, kernel=poly............\n",
      "[CV 1/5; 26/80] END C=0.40871514110598417, degree=2.0, kernel=poly;, score=0.506 total time=  12.6s\n",
      "[CV 2/5; 26/80] START C=0.40871514110598417, degree=2.0, kernel=poly............\n",
      "[CV 2/5; 26/80] END C=0.40871514110598417, degree=2.0, kernel=poly;, score=0.506 total time=  12.8s\n",
      "[CV 3/5; 26/80] START C=0.40871514110598417, degree=2.0, kernel=poly............\n",
      "[CV 3/5; 26/80] END C=0.40871514110598417, degree=2.0, kernel=poly;, score=0.506 total time=  12.7s\n",
      "[CV 4/5; 26/80] START C=0.40871514110598417, degree=2.0, kernel=poly............\n",
      "[CV 4/5; 26/80] END C=0.40871514110598417, degree=2.0, kernel=poly;, score=0.507 total time=  12.8s\n",
      "[CV 5/5; 26/80] START C=0.40871514110598417, degree=2.0, kernel=poly............\n",
      "[CV 5/5; 26/80] END C=0.40871514110598417, degree=2.0, kernel=poly;, score=0.507 total time=  13.4s\n",
      "[CV 1/5; 27/80] START C=0.40871514110598417, degree=3.0, kernel=poly............\n",
      "[CV 1/5; 27/80] END C=0.40871514110598417, degree=3.0, kernel=poly;, score=0.506 total time=  12.7s\n",
      "[CV 2/5; 27/80] START C=0.40871514110598417, degree=3.0, kernel=poly............\n",
      "[CV 2/5; 27/80] END C=0.40871514110598417, degree=3.0, kernel=poly;, score=0.506 total time=  12.9s\n",
      "[CV 3/5; 27/80] START C=0.40871514110598417, degree=3.0, kernel=poly............\n",
      "[CV 3/5; 27/80] END C=0.40871514110598417, degree=3.0, kernel=poly;, score=0.506 total time=  13.0s\n",
      "[CV 4/5; 27/80] START C=0.40871514110598417, degree=3.0, kernel=poly............\n",
      "[CV 4/5; 27/80] END C=0.40871514110598417, degree=3.0, kernel=poly;, score=0.507 total time=  15.1s\n",
      "[CV 5/5; 27/80] START C=0.40871514110598417, degree=3.0, kernel=poly............\n",
      "[CV 5/5; 27/80] END C=0.40871514110598417, degree=3.0, kernel=poly;, score=0.507 total time=  13.1s\n",
      "[CV 1/5; 28/80] START C=0.40871514110598417, degree=4.0, kernel=poly............\n",
      "[CV 1/5; 28/80] END C=0.40871514110598417, degree=4.0, kernel=poly;, score=0.506 total time=  13.0s\n",
      "[CV 2/5; 28/80] START C=0.40871514110598417, degree=4.0, kernel=poly............\n",
      "[CV 2/5; 28/80] END C=0.40871514110598417, degree=4.0, kernel=poly;, score=0.506 total time=  13.0s\n",
      "[CV 3/5; 28/80] START C=0.40871514110598417, degree=4.0, kernel=poly............\n"
     ]
    },
    {
     "name": "stdout",
     "output_type": "stream",
     "text": [
      "[CV 3/5; 28/80] END C=0.40871514110598417, degree=4.0, kernel=poly;, score=0.506 total time=  13.0s\n",
      "[CV 4/5; 28/80] START C=0.40871514110598417, degree=4.0, kernel=poly............\n",
      "[CV 4/5; 28/80] END C=0.40871514110598417, degree=4.0, kernel=poly;, score=0.507 total time=  12.7s\n",
      "[CV 5/5; 28/80] START C=0.40871514110598417, degree=4.0, kernel=poly............\n",
      "[CV 5/5; 28/80] END C=0.40871514110598417, degree=4.0, kernel=poly;, score=0.507 total time=  15.4s\n",
      "[CV 1/5; 29/80] START C=0.8101577349324269, degree=1.0, kernel=poly.............\n",
      "[CV 1/5; 29/80] END C=0.8101577349324269, degree=1.0, kernel=poly;, score=0.858 total time=  14.6s\n",
      "[CV 2/5; 29/80] START C=0.8101577349324269, degree=1.0, kernel=poly.............\n",
      "[CV 2/5; 29/80] END C=0.8101577349324269, degree=1.0, kernel=poly;, score=0.867 total time=  10.1s\n",
      "[CV 3/5; 29/80] START C=0.8101577349324269, degree=1.0, kernel=poly.............\n",
      "[CV 3/5; 29/80] END C=0.8101577349324269, degree=1.0, kernel=poly;, score=0.844 total time=  10.1s\n",
      "[CV 4/5; 29/80] START C=0.8101577349324269, degree=1.0, kernel=poly.............\n",
      "[CV 4/5; 29/80] END C=0.8101577349324269, degree=1.0, kernel=poly;, score=0.868 total time=   9.4s\n",
      "[CV 5/5; 29/80] START C=0.8101577349324269, degree=1.0, kernel=poly.............\n",
      "[CV 5/5; 29/80] END C=0.8101577349324269, degree=1.0, kernel=poly;, score=0.882 total time=   9.4s\n",
      "[CV 1/5; 30/80] START C=0.8101577349324269, degree=2.0, kernel=poly.............\n",
      "[CV 1/5; 30/80] END C=0.8101577349324269, degree=2.0, kernel=poly;, score=0.857 total time=  12.7s\n",
      "[CV 2/5; 30/80] START C=0.8101577349324269, degree=2.0, kernel=poly.............\n",
      "[CV 2/5; 30/80] END C=0.8101577349324269, degree=2.0, kernel=poly;, score=0.855 total time=  14.6s\n",
      "[CV 3/5; 30/80] START C=0.8101577349324269, degree=2.0, kernel=poly.............\n",
      "[CV 3/5; 30/80] END C=0.8101577349324269, degree=2.0, kernel=poly;, score=0.838 total time=  15.5s\n",
      "[CV 4/5; 30/80] START C=0.8101577349324269, degree=2.0, kernel=poly.............\n",
      "[CV 4/5; 30/80] END C=0.8101577349324269, degree=2.0, kernel=poly;, score=0.855 total time=  13.5s\n",
      "[CV 5/5; 30/80] START C=0.8101577349324269, degree=2.0, kernel=poly.............\n",
      "[CV 5/5; 30/80] END C=0.8101577349324269, degree=2.0, kernel=poly;, score=0.849 total time=  14.8s\n",
      "[CV 1/5; 31/80] START C=0.8101577349324269, degree=3.0, kernel=poly.............\n",
      "[CV 1/5; 31/80] END C=0.8101577349324269, degree=3.0, kernel=poly;, score=0.506 total time=  13.7s\n",
      "[CV 2/5; 31/80] START C=0.8101577349324269, degree=3.0, kernel=poly.............\n",
      "[CV 2/5; 31/80] END C=0.8101577349324269, degree=3.0, kernel=poly;, score=0.509 total time=  13.0s\n",
      "[CV 3/5; 31/80] START C=0.8101577349324269, degree=3.0, kernel=poly.............\n",
      "[CV 3/5; 31/80] END C=0.8101577349324269, degree=3.0, kernel=poly;, score=0.507 total time=  12.2s\n",
      "[CV 4/5; 31/80] START C=0.8101577349324269, degree=3.0, kernel=poly.............\n",
      "[CV 4/5; 31/80] END C=0.8101577349324269, degree=3.0, kernel=poly;, score=0.508 total time=  11.7s\n",
      "[CV 5/5; 31/80] START C=0.8101577349324269, degree=3.0, kernel=poly.............\n",
      "[CV 5/5; 31/80] END C=0.8101577349324269, degree=3.0, kernel=poly;, score=0.509 total time=  12.7s\n",
      "[CV 1/5; 32/80] START C=0.8101577349324269, degree=4.0, kernel=poly.............\n",
      "[CV 1/5; 32/80] END C=0.8101577349324269, degree=4.0, kernel=poly;, score=0.506 total time=  11.9s\n",
      "[CV 2/5; 32/80] START C=0.8101577349324269, degree=4.0, kernel=poly.............\n",
      "[CV 2/5; 32/80] END C=0.8101577349324269, degree=4.0, kernel=poly;, score=0.509 total time=  12.1s\n",
      "[CV 3/5; 32/80] START C=0.8101577349324269, degree=4.0, kernel=poly.............\n",
      "[CV 3/5; 32/80] END C=0.8101577349324269, degree=4.0, kernel=poly;, score=0.507 total time=  12.2s\n",
      "[CV 4/5; 32/80] START C=0.8101577349324269, degree=4.0, kernel=poly.............\n",
      "[CV 4/5; 32/80] END C=0.8101577349324269, degree=4.0, kernel=poly;, score=0.508 total time=  12.5s\n",
      "[CV 5/5; 32/80] START C=0.8101577349324269, degree=4.0, kernel=poly.............\n",
      "[CV 5/5; 32/80] END C=0.8101577349324269, degree=4.0, kernel=poly;, score=0.508 total time=  11.9s\n",
      "[CV 1/5; 33/80] START C=1.6058997806999291, degree=1.0, kernel=poly.............\n",
      "[CV 1/5; 33/80] END C=1.6058997806999291, degree=1.0, kernel=poly;, score=0.850 total time=  12.1s\n",
      "[CV 2/5; 33/80] START C=1.6058997806999291, degree=1.0, kernel=poly.............\n",
      "[CV 2/5; 33/80] END C=1.6058997806999291, degree=1.0, kernel=poly;, score=0.868 total time=  12.3s\n",
      "[CV 3/5; 33/80] START C=1.6058997806999291, degree=1.0, kernel=poly.............\n",
      "[CV 3/5; 33/80] END C=1.6058997806999291, degree=1.0, kernel=poly;, score=0.844 total time=  12.7s\n",
      "[CV 4/5; 33/80] START C=1.6058997806999291, degree=1.0, kernel=poly.............\n",
      "[CV 4/5; 33/80] END C=1.6058997806999291, degree=1.0, kernel=poly;, score=0.868 total time=  18.2s\n",
      "[CV 5/5; 33/80] START C=1.6058997806999291, degree=1.0, kernel=poly.............\n",
      "[CV 5/5; 33/80] END C=1.6058997806999291, degree=1.0, kernel=poly;, score=0.872 total time=  13.1s\n",
      "[CV 1/5; 34/80] START C=1.6058997806999291, degree=2.0, kernel=poly.............\n",
      "[CV 1/5; 34/80] END C=1.6058997806999291, degree=2.0, kernel=poly;, score=0.863 total time=  16.2s\n",
      "[CV 2/5; 34/80] START C=1.6058997806999291, degree=2.0, kernel=poly.............\n",
      "[CV 2/5; 34/80] END C=1.6058997806999291, degree=2.0, kernel=poly;, score=0.864 total time=  13.7s\n",
      "[CV 3/5; 34/80] START C=1.6058997806999291, degree=2.0, kernel=poly.............\n",
      "[CV 3/5; 34/80] END C=1.6058997806999291, degree=2.0, kernel=poly;, score=0.842 total time=  13.3s\n",
      "[CV 4/5; 34/80] START C=1.6058997806999291, degree=2.0, kernel=poly.............\n",
      "[CV 4/5; 34/80] END C=1.6058997806999291, degree=2.0, kernel=poly;, score=0.862 total time=  13.2s\n",
      "[CV 5/5; 34/80] START C=1.6058997806999291, degree=2.0, kernel=poly.............\n",
      "[CV 5/5; 34/80] END C=1.6058997806999291, degree=2.0, kernel=poly;, score=0.857 total time=  12.9s\n",
      "[CV 1/5; 35/80] START C=1.6058997806999291, degree=3.0, kernel=poly.............\n",
      "[CV 1/5; 35/80] END C=1.6058997806999291, degree=3.0, kernel=poly;, score=0.592 total time=  13.5s\n",
      "[CV 2/5; 35/80] START C=1.6058997806999291, degree=3.0, kernel=poly.............\n",
      "[CV 2/5; 35/80] END C=1.6058997806999291, degree=3.0, kernel=poly;, score=0.586 total time=  13.3s\n",
      "[CV 3/5; 35/80] START C=1.6058997806999291, degree=3.0, kernel=poly.............\n",
      "[CV 3/5; 35/80] END C=1.6058997806999291, degree=3.0, kernel=poly;, score=0.602 total time=  13.6s\n",
      "[CV 4/5; 35/80] START C=1.6058997806999291, degree=3.0, kernel=poly.............\n",
      "[CV 4/5; 35/80] END C=1.6058997806999291, degree=3.0, kernel=poly;, score=0.594 total time=  17.2s\n",
      "[CV 5/5; 35/80] START C=1.6058997806999291, degree=3.0, kernel=poly.............\n",
      "[CV 5/5; 35/80] END C=1.6058997806999291, degree=3.0, kernel=poly;, score=0.613 total time=  15.4s\n",
      "[CV 1/5; 36/80] START C=1.6058997806999291, degree=4.0, kernel=poly.............\n",
      "[CV 1/5; 36/80] END C=1.6058997806999291, degree=4.0, kernel=poly;, score=0.509 total time=  13.3s\n",
      "[CV 2/5; 36/80] START C=1.6058997806999291, degree=4.0, kernel=poly.............\n",
      "[CV 2/5; 36/80] END C=1.6058997806999291, degree=4.0, kernel=poly;, score=0.515 total time=  13.7s\n",
      "[CV 3/5; 36/80] START C=1.6058997806999291, degree=4.0, kernel=poly.............\n",
      "[CV 3/5; 36/80] END C=1.6058997806999291, degree=4.0, kernel=poly;, score=0.514 total time=  13.7s\n",
      "[CV 4/5; 36/80] START C=1.6058997806999291, degree=4.0, kernel=poly.............\n",
      "[CV 4/5; 36/80] END C=1.6058997806999291, degree=4.0, kernel=poly;, score=0.513 total time=  14.5s\n",
      "[CV 5/5; 36/80] START C=1.6058997806999291, degree=4.0, kernel=poly.............\n",
      "[CV 5/5; 36/80] END C=1.6058997806999291, degree=4.0, kernel=poly;, score=0.516 total time=  13.7s\n",
      "[CV 1/5; 37/80] START C=3.1832246912598827, degree=1.0, kernel=poly.............\n",
      "[CV 1/5; 37/80] END C=3.1832246912598827, degree=1.0, kernel=poly;, score=0.852 total time=  12.0s\n",
      "[CV 2/5; 37/80] START C=3.1832246912598827, degree=1.0, kernel=poly.............\n",
      "[CV 2/5; 37/80] END C=3.1832246912598827, degree=1.0, kernel=poly;, score=0.867 total time=  11.7s\n",
      "[CV 3/5; 37/80] START C=3.1832246912598827, degree=1.0, kernel=poly.............\n",
      "[CV 3/5; 37/80] END C=3.1832246912598827, degree=1.0, kernel=poly;, score=0.848 total time=  11.5s\n",
      "[CV 4/5; 37/80] START C=3.1832246912598827, degree=1.0, kernel=poly.............\n"
     ]
    },
    {
     "name": "stdout",
     "output_type": "stream",
     "text": [
      "[CV 4/5; 37/80] END C=3.1832246912598827, degree=1.0, kernel=poly;, score=0.870 total time=  13.2s\n",
      "[CV 5/5; 37/80] START C=3.1832246912598827, degree=1.0, kernel=poly.............\n",
      "[CV 5/5; 37/80] END C=3.1832246912598827, degree=1.0, kernel=poly;, score=0.870 total time=  12.6s\n",
      "[CV 1/5; 38/80] START C=3.1832246912598827, degree=2.0, kernel=poly.............\n",
      "[CV 1/5; 38/80] END C=3.1832246912598827, degree=2.0, kernel=poly;, score=0.863 total time=  13.5s\n",
      "[CV 2/5; 38/80] START C=3.1832246912598827, degree=2.0, kernel=poly.............\n",
      "[CV 2/5; 38/80] END C=3.1832246912598827, degree=2.0, kernel=poly;, score=0.864 total time=  13.2s\n",
      "[CV 3/5; 38/80] START C=3.1832246912598827, degree=2.0, kernel=poly.............\n",
      "[CV 3/5; 38/80] END C=3.1832246912598827, degree=2.0, kernel=poly;, score=0.842 total time=  13.2s\n",
      "[CV 4/5; 38/80] START C=3.1832246912598827, degree=2.0, kernel=poly.............\n",
      "[CV 4/5; 38/80] END C=3.1832246912598827, degree=2.0, kernel=poly;, score=0.862 total time=  12.6s\n",
      "[CV 5/5; 38/80] START C=3.1832246912598827, degree=2.0, kernel=poly.............\n",
      "[CV 5/5; 38/80] END C=3.1832246912598827, degree=2.0, kernel=poly;, score=0.857 total time=  12.7s\n",
      "[CV 1/5; 39/80] START C=3.1832246912598827, degree=3.0, kernel=poly.............\n",
      "[CV 1/5; 39/80] END C=3.1832246912598827, degree=3.0, kernel=poly;, score=0.592 total time=  14.0s\n",
      "[CV 2/5; 39/80] START C=3.1832246912598827, degree=3.0, kernel=poly.............\n",
      "[CV 2/5; 39/80] END C=3.1832246912598827, degree=3.0, kernel=poly;, score=0.586 total time=  19.0s\n",
      "[CV 3/5; 39/80] START C=3.1832246912598827, degree=3.0, kernel=poly.............\n",
      "[CV 3/5; 39/80] END C=3.1832246912598827, degree=3.0, kernel=poly;, score=0.602 total time=  17.1s\n",
      "[CV 4/5; 39/80] START C=3.1832246912598827, degree=3.0, kernel=poly.............\n",
      "[CV 4/5; 39/80] END C=3.1832246912598827, degree=3.0, kernel=poly;, score=0.594 total time=  13.8s\n",
      "[CV 5/5; 39/80] START C=3.1832246912598827, degree=3.0, kernel=poly.............\n",
      "[CV 5/5; 39/80] END C=3.1832246912598827, degree=3.0, kernel=poly;, score=0.613 total time=  13.5s\n",
      "[CV 1/5; 40/80] START C=3.1832246912598827, degree=4.0, kernel=poly.............\n",
      "[CV 1/5; 40/80] END C=3.1832246912598827, degree=4.0, kernel=poly;, score=0.509 total time=  13.0s\n",
      "[CV 2/5; 40/80] START C=3.1832246912598827, degree=4.0, kernel=poly.............\n",
      "[CV 2/5; 40/80] END C=3.1832246912598827, degree=4.0, kernel=poly;, score=0.515 total time=  13.4s\n",
      "[CV 3/5; 40/80] START C=3.1832246912598827, degree=4.0, kernel=poly.............\n",
      "[CV 3/5; 40/80] END C=3.1832246912598827, degree=4.0, kernel=poly;, score=0.514 total time=  13.4s\n",
      "[CV 4/5; 40/80] START C=3.1832246912598827, degree=4.0, kernel=poly.............\n",
      "[CV 4/5; 40/80] END C=3.1832246912598827, degree=4.0, kernel=poly;, score=0.513 total time=  13.2s\n",
      "[CV 5/5; 40/80] START C=3.1832246912598827, degree=4.0, kernel=poly.............\n",
      "[CV 5/5; 40/80] END C=3.1832246912598827, degree=4.0, kernel=poly;, score=0.516 total time=  13.1s\n",
      "[CV 1/5; 41/80] START C=6.3098080943943815, degree=1.0, kernel=poly.............\n",
      "[CV 1/5; 41/80] END C=6.3098080943943815, degree=1.0, kernel=poly;, score=0.852 total time=  12.9s\n",
      "[CV 2/5; 41/80] START C=6.3098080943943815, degree=1.0, kernel=poly.............\n",
      "[CV 2/5; 41/80] END C=6.3098080943943815, degree=1.0, kernel=poly;, score=0.867 total time=  13.6s\n",
      "[CV 3/5; 41/80] START C=6.3098080943943815, degree=1.0, kernel=poly.............\n",
      "[CV 3/5; 41/80] END C=6.3098080943943815, degree=1.0, kernel=poly;, score=0.847 total time=  11.5s\n",
      "[CV 4/5; 41/80] START C=6.3098080943943815, degree=1.0, kernel=poly.............\n",
      "[CV 4/5; 41/80] END C=6.3098080943943815, degree=1.0, kernel=poly;, score=0.870 total time=  11.9s\n",
      "[CV 5/5; 41/80] START C=6.3098080943943815, degree=1.0, kernel=poly.............\n",
      "[CV 5/5; 41/80] END C=6.3098080943943815, degree=1.0, kernel=poly;, score=0.870 total time=  12.6s\n",
      "[CV 1/5; 42/80] START C=6.3098080943943815, degree=2.0, kernel=poly.............\n",
      "[CV 1/5; 42/80] END C=6.3098080943943815, degree=2.0, kernel=poly;, score=0.863 total time=  17.8s\n",
      "[CV 2/5; 42/80] START C=6.3098080943943815, degree=2.0, kernel=poly.............\n",
      "[CV 2/5; 42/80] END C=6.3098080943943815, degree=2.0, kernel=poly;, score=0.864 total time=  13.1s\n",
      "[CV 3/5; 42/80] START C=6.3098080943943815, degree=2.0, kernel=poly.............\n",
      "[CV 3/5; 42/80] END C=6.3098080943943815, degree=2.0, kernel=poly;, score=0.842 total time=  14.7s\n",
      "[CV 4/5; 42/80] START C=6.3098080943943815, degree=2.0, kernel=poly.............\n",
      "[CV 4/5; 42/80] END C=6.3098080943943815, degree=2.0, kernel=poly;, score=0.862 total time=  16.4s\n",
      "[CV 5/5; 42/80] START C=6.3098080943943815, degree=2.0, kernel=poly.............\n",
      "[CV 5/5; 42/80] END C=6.3098080943943815, degree=2.0, kernel=poly;, score=0.857 total time=  15.2s\n",
      "[CV 1/5; 43/80] START C=6.3098080943943815, degree=3.0, kernel=poly.............\n",
      "[CV 1/5; 43/80] END C=6.3098080943943815, degree=3.0, kernel=poly;, score=0.592 total time=  16.8s\n",
      "[CV 2/5; 43/80] START C=6.3098080943943815, degree=3.0, kernel=poly.............\n",
      "[CV 2/5; 43/80] END C=6.3098080943943815, degree=3.0, kernel=poly;, score=0.586 total time=  14.0s\n",
      "[CV 3/5; 43/80] START C=6.3098080943943815, degree=3.0, kernel=poly.............\n",
      "[CV 3/5; 43/80] END C=6.3098080943943815, degree=3.0, kernel=poly;, score=0.602 total time=  14.9s\n",
      "[CV 4/5; 43/80] START C=6.3098080943943815, degree=3.0, kernel=poly.............\n",
      "[CV 4/5; 43/80] END C=6.3098080943943815, degree=3.0, kernel=poly;, score=0.594 total time=  17.5s\n",
      "[CV 5/5; 43/80] START C=6.3098080943943815, degree=3.0, kernel=poly.............\n",
      "[CV 5/5; 43/80] END C=6.3098080943943815, degree=3.0, kernel=poly;, score=0.613 total time=  14.7s\n",
      "[CV 1/5; 44/80] START C=6.3098080943943815, degree=4.0, kernel=poly.............\n",
      "[CV 1/5; 44/80] END C=6.3098080943943815, degree=4.0, kernel=poly;, score=0.509 total time=  17.0s\n",
      "[CV 2/5; 44/80] START C=6.3098080943943815, degree=4.0, kernel=poly.............\n",
      "[CV 2/5; 44/80] END C=6.3098080943943815, degree=4.0, kernel=poly;, score=0.515 total time=  13.4s\n",
      "[CV 3/5; 44/80] START C=6.3098080943943815, degree=4.0, kernel=poly.............\n",
      "[CV 3/5; 44/80] END C=6.3098080943943815, degree=4.0, kernel=poly;, score=0.514 total time=  13.0s\n",
      "[CV 4/5; 44/80] START C=6.3098080943943815, degree=4.0, kernel=poly.............\n",
      "[CV 4/5; 44/80] END C=6.3098080943943815, degree=4.0, kernel=poly;, score=0.513 total time=  13.2s\n",
      "[CV 5/5; 44/80] START C=6.3098080943943815, degree=4.0, kernel=poly.............\n",
      "[CV 5/5; 44/80] END C=6.3098080943943815, degree=4.0, kernel=poly;, score=0.516 total time=  13.4s\n",
      "[CV 1/5; 45/80] START C=12.507341469611143, degree=1.0, kernel=poly.............\n",
      "[CV 1/5; 45/80] END C=12.507341469611143, degree=1.0, kernel=poly;, score=0.852 total time=  12.8s\n",
      "[CV 2/5; 45/80] START C=12.507341469611143, degree=1.0, kernel=poly.............\n",
      "[CV 2/5; 45/80] END C=12.507341469611143, degree=1.0, kernel=poly;, score=0.867 total time=  13.6s\n",
      "[CV 3/5; 45/80] START C=12.507341469611143, degree=1.0, kernel=poly.............\n",
      "[CV 3/5; 45/80] END C=12.507341469611143, degree=1.0, kernel=poly;, score=0.847 total time=  12.9s\n",
      "[CV 4/5; 45/80] START C=12.507341469611143, degree=1.0, kernel=poly.............\n",
      "[CV 4/5; 45/80] END C=12.507341469611143, degree=1.0, kernel=poly;, score=0.870 total time=  11.8s\n",
      "[CV 5/5; 45/80] START C=12.507341469611143, degree=1.0, kernel=poly.............\n",
      "[CV 5/5; 45/80] END C=12.507341469611143, degree=1.0, kernel=poly;, score=0.870 total time=  12.0s\n",
      "[CV 1/5; 46/80] START C=12.507341469611143, degree=2.0, kernel=poly.............\n",
      "[CV 1/5; 46/80] END C=12.507341469611143, degree=2.0, kernel=poly;, score=0.863 total time=  13.7s\n",
      "[CV 2/5; 46/80] START C=12.507341469611143, degree=2.0, kernel=poly.............\n",
      "[CV 2/5; 46/80] END C=12.507341469611143, degree=2.0, kernel=poly;, score=0.864 total time=  17.4s\n",
      "[CV 3/5; 46/80] START C=12.507341469611143, degree=2.0, kernel=poly.............\n",
      "[CV 3/5; 46/80] END C=12.507341469611143, degree=2.0, kernel=poly;, score=0.842 total time=  13.7s\n",
      "[CV 4/5; 46/80] START C=12.507341469611143, degree=2.0, kernel=poly.............\n",
      "[CV 4/5; 46/80] END C=12.507341469611143, degree=2.0, kernel=poly;, score=0.862 total time=  14.4s\n",
      "[CV 5/5; 46/80] START C=12.507341469611143, degree=2.0, kernel=poly.............\n"
     ]
    },
    {
     "name": "stdout",
     "output_type": "stream",
     "text": [
      "[CV 5/5; 46/80] END C=12.507341469611143, degree=2.0, kernel=poly;, score=0.857 total time=  14.8s\n",
      "[CV 1/5; 47/80] START C=12.507341469611143, degree=3.0, kernel=poly.............\n",
      "[CV 1/5; 47/80] END C=12.507341469611143, degree=3.0, kernel=poly;, score=0.592 total time=  13.9s\n",
      "[CV 2/5; 47/80] START C=12.507341469611143, degree=3.0, kernel=poly.............\n",
      "[CV 2/5; 47/80] END C=12.507341469611143, degree=3.0, kernel=poly;, score=0.586 total time=  17.0s\n",
      "[CV 3/5; 47/80] START C=12.507341469611143, degree=3.0, kernel=poly.............\n",
      "[CV 3/5; 47/80] END C=12.507341469611143, degree=3.0, kernel=poly;, score=0.602 total time=  14.8s\n",
      "[CV 4/5; 47/80] START C=12.507341469611143, degree=3.0, kernel=poly.............\n",
      "[CV 4/5; 47/80] END C=12.507341469611143, degree=3.0, kernel=poly;, score=0.594 total time=  18.7s\n",
      "[CV 5/5; 47/80] START C=12.507341469611143, degree=3.0, kernel=poly.............\n",
      "[CV 5/5; 47/80] END C=12.507341469611143, degree=3.0, kernel=poly;, score=0.613 total time=  15.9s\n",
      "[CV 1/5; 48/80] START C=12.507341469611143, degree=4.0, kernel=poly.............\n",
      "[CV 1/5; 48/80] END C=12.507341469611143, degree=4.0, kernel=poly;, score=0.509 total time=  16.0s\n",
      "[CV 2/5; 48/80] START C=12.507341469611143, degree=4.0, kernel=poly.............\n",
      "[CV 2/5; 48/80] END C=12.507341469611143, degree=4.0, kernel=poly;, score=0.515 total time=  15.1s\n",
      "[CV 3/5; 48/80] START C=12.507341469611143, degree=4.0, kernel=poly.............\n",
      "[CV 3/5; 48/80] END C=12.507341469611143, degree=4.0, kernel=poly;, score=0.514 total time=  13.6s\n",
      "[CV 4/5; 48/80] START C=12.507341469611143, degree=4.0, kernel=poly.............\n",
      "[CV 4/5; 48/80] END C=12.507341469611143, degree=4.0, kernel=poly;, score=0.513 total time=  16.7s\n",
      "[CV 5/5; 48/80] START C=12.507341469611143, degree=4.0, kernel=poly.............\n",
      "[CV 5/5; 48/80] END C=12.507341469611143, degree=4.0, kernel=poly;, score=0.516 total time=  13.6s\n",
      "[CV 1/5; 49/80] START C=24.792131281525027, degree=1.0, kernel=poly.............\n",
      "[CV 1/5; 49/80] END C=24.792131281525027, degree=1.0, kernel=poly;, score=0.852 total time=  12.2s\n",
      "[CV 2/5; 49/80] START C=24.792131281525027, degree=1.0, kernel=poly.............\n",
      "[CV 2/5; 49/80] END C=24.792131281525027, degree=1.0, kernel=poly;, score=0.867 total time=  15.7s\n",
      "[CV 3/5; 49/80] START C=24.792131281525027, degree=1.0, kernel=poly.............\n",
      "[CV 3/5; 49/80] END C=24.792131281525027, degree=1.0, kernel=poly;, score=0.847 total time=  13.1s\n",
      "[CV 4/5; 49/80] START C=24.792131281525027, degree=1.0, kernel=poly.............\n",
      "[CV 4/5; 49/80] END C=24.792131281525027, degree=1.0, kernel=poly;, score=0.870 total time=  11.5s\n",
      "[CV 5/5; 49/80] START C=24.792131281525027, degree=1.0, kernel=poly.............\n",
      "[CV 5/5; 49/80] END C=24.792131281525027, degree=1.0, kernel=poly;, score=0.870 total time=  11.4s\n",
      "[CV 1/5; 50/80] START C=24.792131281525027, degree=2.0, kernel=poly.............\n",
      "[CV 1/5; 50/80] END C=24.792131281525027, degree=2.0, kernel=poly;, score=0.863 total time=  13.0s\n",
      "[CV 2/5; 50/80] START C=24.792131281525027, degree=2.0, kernel=poly.............\n",
      "[CV 2/5; 50/80] END C=24.792131281525027, degree=2.0, kernel=poly;, score=0.864 total time=  13.8s\n",
      "[CV 3/5; 50/80] START C=24.792131281525027, degree=2.0, kernel=poly.............\n",
      "[CV 3/5; 50/80] END C=24.792131281525027, degree=2.0, kernel=poly;, score=0.842 total time=  15.8s\n",
      "[CV 4/5; 50/80] START C=24.792131281525027, degree=2.0, kernel=poly.............\n",
      "[CV 4/5; 50/80] END C=24.792131281525027, degree=2.0, kernel=poly;, score=0.862 total time=  13.4s\n",
      "[CV 5/5; 50/80] START C=24.792131281525027, degree=2.0, kernel=poly.............\n",
      "[CV 5/5; 50/80] END C=24.792131281525027, degree=2.0, kernel=poly;, score=0.857 total time=  15.2s\n",
      "[CV 1/5; 51/80] START C=24.792131281525027, degree=3.0, kernel=poly.............\n",
      "[CV 1/5; 51/80] END C=24.792131281525027, degree=3.0, kernel=poly;, score=0.592 total time=  14.0s\n",
      "[CV 2/5; 51/80] START C=24.792131281525027, degree=3.0, kernel=poly.............\n",
      "[CV 2/5; 51/80] END C=24.792131281525027, degree=3.0, kernel=poly;, score=0.586 total time=  14.7s\n",
      "[CV 3/5; 51/80] START C=24.792131281525027, degree=3.0, kernel=poly.............\n",
      "[CV 3/5; 51/80] END C=24.792131281525027, degree=3.0, kernel=poly;, score=0.602 total time=  13.3s\n",
      "[CV 4/5; 51/80] START C=24.792131281525027, degree=3.0, kernel=poly.............\n",
      "[CV 4/5; 51/80] END C=24.792131281525027, degree=3.0, kernel=poly;, score=0.594 total time=  13.6s\n",
      "[CV 5/5; 51/80] START C=24.792131281525027, degree=3.0, kernel=poly.............\n",
      "[CV 5/5; 51/80] END C=24.792131281525027, degree=3.0, kernel=poly;, score=0.613 total time=  14.1s\n",
      "[CV 1/5; 52/80] START C=24.792131281525027, degree=4.0, kernel=poly.............\n",
      "[CV 1/5; 52/80] END C=24.792131281525027, degree=4.0, kernel=poly;, score=0.509 total time=  14.3s\n",
      "[CV 2/5; 52/80] START C=24.792131281525027, degree=4.0, kernel=poly.............\n",
      "[CV 2/5; 52/80] END C=24.792131281525027, degree=4.0, kernel=poly;, score=0.515 total time=  14.0s\n",
      "[CV 3/5; 52/80] START C=24.792131281525027, degree=4.0, kernel=poly.............\n",
      "[CV 3/5; 52/80] END C=24.792131281525027, degree=4.0, kernel=poly;, score=0.514 total time=  16.2s\n",
      "[CV 4/5; 52/80] START C=24.792131281525027, degree=4.0, kernel=poly.............\n",
      "[CV 4/5; 52/80] END C=24.792131281525027, degree=4.0, kernel=poly;, score=0.513 total time=  13.9s\n",
      "[CV 5/5; 52/80] START C=24.792131281525027, degree=4.0, kernel=poly.............\n",
      "[CV 5/5; 52/80] END C=24.792131281525027, degree=4.0, kernel=poly;, score=0.516 total time=  14.6s\n",
      "[CV 1/5; 53/80] START C=49.143119261097524, degree=1.0, kernel=poly.............\n",
      "[CV 1/5; 53/80] END C=49.143119261097524, degree=1.0, kernel=poly;, score=0.852 total time=  11.8s\n",
      "[CV 2/5; 53/80] START C=49.143119261097524, degree=1.0, kernel=poly.............\n",
      "[CV 2/5; 53/80] END C=49.143119261097524, degree=1.0, kernel=poly;, score=0.867 total time=  11.2s\n",
      "[CV 3/5; 53/80] START C=49.143119261097524, degree=1.0, kernel=poly.............\n",
      "[CV 3/5; 53/80] END C=49.143119261097524, degree=1.0, kernel=poly;, score=0.847 total time=  12.0s\n",
      "[CV 4/5; 53/80] START C=49.143119261097524, degree=1.0, kernel=poly.............\n",
      "[CV 4/5; 53/80] END C=49.143119261097524, degree=1.0, kernel=poly;, score=0.870 total time=  11.8s\n",
      "[CV 5/5; 53/80] START C=49.143119261097524, degree=1.0, kernel=poly.............\n",
      "[CV 5/5; 53/80] END C=49.143119261097524, degree=1.0, kernel=poly;, score=0.870 total time=  12.5s\n",
      "[CV 1/5; 54/80] START C=49.143119261097524, degree=2.0, kernel=poly.............\n",
      "[CV 1/5; 54/80] END C=49.143119261097524, degree=2.0, kernel=poly;, score=0.863 total time=  13.3s\n",
      "[CV 2/5; 54/80] START C=49.143119261097524, degree=2.0, kernel=poly.............\n",
      "[CV 2/5; 54/80] END C=49.143119261097524, degree=2.0, kernel=poly;, score=0.864 total time=  13.5s\n",
      "[CV 3/5; 54/80] START C=49.143119261097524, degree=2.0, kernel=poly.............\n",
      "[CV 3/5; 54/80] END C=49.143119261097524, degree=2.0, kernel=poly;, score=0.842 total time=  13.6s\n",
      "[CV 4/5; 54/80] START C=49.143119261097524, degree=2.0, kernel=poly.............\n",
      "[CV 4/5; 54/80] END C=49.143119261097524, degree=2.0, kernel=poly;, score=0.862 total time=  14.5s\n",
      "[CV 5/5; 54/80] START C=49.143119261097524, degree=2.0, kernel=poly.............\n",
      "[CV 5/5; 54/80] END C=49.143119261097524, degree=2.0, kernel=poly;, score=0.857 total time=  19.8s\n",
      "[CV 1/5; 55/80] START C=49.143119261097524, degree=3.0, kernel=poly.............\n",
      "[CV 1/5; 55/80] END C=49.143119261097524, degree=3.0, kernel=poly;, score=0.592 total time=  15.2s\n",
      "[CV 2/5; 55/80] START C=49.143119261097524, degree=3.0, kernel=poly.............\n",
      "[CV 2/5; 55/80] END C=49.143119261097524, degree=3.0, kernel=poly;, score=0.586 total time=  12.0s\n",
      "[CV 3/5; 55/80] START C=49.143119261097524, degree=3.0, kernel=poly.............\n",
      "[CV 3/5; 55/80] END C=49.143119261097524, degree=3.0, kernel=poly;, score=0.602 total time=  11.9s\n",
      "[CV 4/5; 55/80] START C=49.143119261097524, degree=3.0, kernel=poly.............\n",
      "[CV 4/5; 55/80] END C=49.143119261097524, degree=3.0, kernel=poly;, score=0.594 total time=  13.8s\n",
      "[CV 5/5; 55/80] START C=49.143119261097524, degree=3.0, kernel=poly.............\n",
      "[CV 5/5; 55/80] END C=49.143119261097524, degree=3.0, kernel=poly;, score=0.613 total time=  14.2s\n",
      "[CV 1/5; 56/80] START C=49.143119261097524, degree=4.0, kernel=poly.............\n"
     ]
    },
    {
     "name": "stdout",
     "output_type": "stream",
     "text": [
      "[CV 1/5; 56/80] END C=49.143119261097524, degree=4.0, kernel=poly;, score=0.509 total time=  14.6s\n",
      "[CV 2/5; 56/80] START C=49.143119261097524, degree=4.0, kernel=poly.............\n",
      "[CV 2/5; 56/80] END C=49.143119261097524, degree=4.0, kernel=poly;, score=0.515 total time=  15.7s\n",
      "[CV 3/5; 56/80] START C=49.143119261097524, degree=4.0, kernel=poly.............\n",
      "[CV 3/5; 56/80] END C=49.143119261097524, degree=4.0, kernel=poly;, score=0.514 total time=  13.5s\n",
      "[CV 4/5; 56/80] START C=49.143119261097524, degree=4.0, kernel=poly.............\n",
      "[CV 4/5; 56/80] END C=49.143119261097524, degree=4.0, kernel=poly;, score=0.513 total time=  15.6s\n",
      "[CV 5/5; 56/80] START C=49.143119261097524, degree=4.0, kernel=poly.............\n",
      "[CV 5/5; 56/80] END C=49.143119261097524, degree=4.0, kernel=poly;, score=0.516 total time=  14.1s\n",
      "[CV 1/5; 57/80] START C=97.41180148195387, degree=1.0, kernel=poly..............\n",
      "[CV 1/5; 57/80] END C=97.41180148195387, degree=1.0, kernel=poly;, score=0.852 total time=  12.1s\n",
      "[CV 2/5; 57/80] START C=97.41180148195387, degree=1.0, kernel=poly..............\n",
      "[CV 2/5; 57/80] END C=97.41180148195387, degree=1.0, kernel=poly;, score=0.867 total time=  12.0s\n",
      "[CV 3/5; 57/80] START C=97.41180148195387, degree=1.0, kernel=poly..............\n",
      "[CV 3/5; 57/80] END C=97.41180148195387, degree=1.0, kernel=poly;, score=0.847 total time=  12.0s\n",
      "[CV 4/5; 57/80] START C=97.41180148195387, degree=1.0, kernel=poly..............\n",
      "[CV 4/5; 57/80] END C=97.41180148195387, degree=1.0, kernel=poly;, score=0.870 total time=  12.2s\n",
      "[CV 5/5; 57/80] START C=97.41180148195387, degree=1.0, kernel=poly..............\n",
      "[CV 5/5; 57/80] END C=97.41180148195387, degree=1.0, kernel=poly;, score=0.870 total time=  12.5s\n",
      "[CV 1/5; 58/80] START C=97.41180148195387, degree=2.0, kernel=poly..............\n",
      "[CV 1/5; 58/80] END C=97.41180148195387, degree=2.0, kernel=poly;, score=0.863 total time=  14.2s\n",
      "[CV 2/5; 58/80] START C=97.41180148195387, degree=2.0, kernel=poly..............\n",
      "[CV 2/5; 58/80] END C=97.41180148195387, degree=2.0, kernel=poly;, score=0.864 total time=  14.8s\n",
      "[CV 3/5; 58/80] START C=97.41180148195387, degree=2.0, kernel=poly..............\n",
      "[CV 3/5; 58/80] END C=97.41180148195387, degree=2.0, kernel=poly;, score=0.842 total time=  13.0s\n",
      "[CV 4/5; 58/80] START C=97.41180148195387, degree=2.0, kernel=poly..............\n",
      "[CV 4/5; 58/80] END C=97.41180148195387, degree=2.0, kernel=poly;, score=0.862 total time=  13.4s\n",
      "[CV 5/5; 58/80] START C=97.41180148195387, degree=2.0, kernel=poly..............\n",
      "[CV 5/5; 58/80] END C=97.41180148195387, degree=2.0, kernel=poly;, score=0.857 total time=  13.8s\n",
      "[CV 1/5; 59/80] START C=97.41180148195387, degree=3.0, kernel=poly..............\n",
      "[CV 1/5; 59/80] END C=97.41180148195387, degree=3.0, kernel=poly;, score=0.592 total time=  16.9s\n",
      "[CV 2/5; 59/80] START C=97.41180148195387, degree=3.0, kernel=poly..............\n",
      "[CV 2/5; 59/80] END C=97.41180148195387, degree=3.0, kernel=poly;, score=0.586 total time=  14.9s\n",
      "[CV 3/5; 59/80] START C=97.41180148195387, degree=3.0, kernel=poly..............\n",
      "[CV 3/5; 59/80] END C=97.41180148195387, degree=3.0, kernel=poly;, score=0.602 total time=  13.8s\n",
      "[CV 4/5; 59/80] START C=97.41180148195387, degree=3.0, kernel=poly..............\n",
      "[CV 4/5; 59/80] END C=97.41180148195387, degree=3.0, kernel=poly;, score=0.594 total time=  13.5s\n",
      "[CV 5/5; 59/80] START C=97.41180148195387, degree=3.0, kernel=poly..............\n",
      "[CV 5/5; 59/80] END C=97.41180148195387, degree=3.0, kernel=poly;, score=0.613 total time=  13.6s\n",
      "[CV 1/5; 60/80] START C=97.41180148195387, degree=4.0, kernel=poly..............\n",
      "[CV 1/5; 60/80] END C=97.41180148195387, degree=4.0, kernel=poly;, score=0.509 total time=  13.6s\n",
      "[CV 2/5; 60/80] START C=97.41180148195387, degree=4.0, kernel=poly..............\n",
      "[CV 2/5; 60/80] END C=97.41180148195387, degree=4.0, kernel=poly;, score=0.515 total time=  13.4s\n",
      "[CV 3/5; 60/80] START C=97.41180148195387, degree=4.0, kernel=poly..............\n",
      "[CV 3/5; 60/80] END C=97.41180148195387, degree=4.0, kernel=poly;, score=0.514 total time=  15.1s\n",
      "[CV 4/5; 60/80] START C=97.41180148195387, degree=4.0, kernel=poly..............\n",
      "[CV 4/5; 60/80] END C=97.41180148195387, degree=4.0, kernel=poly;, score=0.513 total time=  14.1s\n",
      "[CV 5/5; 60/80] START C=97.41180148195387, degree=4.0, kernel=poly..............\n",
      "[CV 5/5; 60/80] END C=97.41180148195387, degree=4.0, kernel=poly;, score=0.516 total time=  17.1s\n",
      "[CV 1/5; 61/80] START C=193.0902883381129, degree=1.0, kernel=poly..............\n",
      "[CV 1/5; 61/80] END C=193.0902883381129, degree=1.0, kernel=poly;, score=0.852 total time=  13.0s\n",
      "[CV 2/5; 61/80] START C=193.0902883381129, degree=1.0, kernel=poly..............\n",
      "[CV 2/5; 61/80] END C=193.0902883381129, degree=1.0, kernel=poly;, score=0.867 total time=  12.5s\n",
      "[CV 3/5; 61/80] START C=193.0902883381129, degree=1.0, kernel=poly..............\n",
      "[CV 3/5; 61/80] END C=193.0902883381129, degree=1.0, kernel=poly;, score=0.847 total time=  11.4s\n",
      "[CV 4/5; 61/80] START C=193.0902883381129, degree=1.0, kernel=poly..............\n",
      "[CV 4/5; 61/80] END C=193.0902883381129, degree=1.0, kernel=poly;, score=0.870 total time=  13.4s\n",
      "[CV 5/5; 61/80] START C=193.0902883381129, degree=1.0, kernel=poly..............\n",
      "[CV 5/5; 61/80] END C=193.0902883381129, degree=1.0, kernel=poly;, score=0.870 total time=  14.2s\n",
      "[CV 1/5; 62/80] START C=193.0902883381129, degree=2.0, kernel=poly..............\n",
      "[CV 1/5; 62/80] END C=193.0902883381129, degree=2.0, kernel=poly;, score=0.863 total time=  14.3s\n",
      "[CV 2/5; 62/80] START C=193.0902883381129, degree=2.0, kernel=poly..............\n",
      "[CV 2/5; 62/80] END C=193.0902883381129, degree=2.0, kernel=poly;, score=0.864 total time=  14.3s\n",
      "[CV 3/5; 62/80] START C=193.0902883381129, degree=2.0, kernel=poly..............\n",
      "[CV 3/5; 62/80] END C=193.0902883381129, degree=2.0, kernel=poly;, score=0.842 total time=  16.0s\n",
      "[CV 4/5; 62/80] START C=193.0902883381129, degree=2.0, kernel=poly..............\n",
      "[CV 4/5; 62/80] END C=193.0902883381129, degree=2.0, kernel=poly;, score=0.862 total time=  13.4s\n",
      "[CV 5/5; 62/80] START C=193.0902883381129, degree=2.0, kernel=poly..............\n",
      "[CV 5/5; 62/80] END C=193.0902883381129, degree=2.0, kernel=poly;, score=0.857 total time=  14.5s\n",
      "[CV 1/5; 63/80] START C=193.0902883381129, degree=3.0, kernel=poly..............\n",
      "[CV 1/5; 63/80] END C=193.0902883381129, degree=3.0, kernel=poly;, score=0.592 total time=  14.4s\n",
      "[CV 2/5; 63/80] START C=193.0902883381129, degree=3.0, kernel=poly..............\n",
      "[CV 2/5; 63/80] END C=193.0902883381129, degree=3.0, kernel=poly;, score=0.586 total time=  15.0s\n",
      "[CV 3/5; 63/80] START C=193.0902883381129, degree=3.0, kernel=poly..............\n",
      "[CV 3/5; 63/80] END C=193.0902883381129, degree=3.0, kernel=poly;, score=0.602 total time=  13.5s\n",
      "[CV 4/5; 63/80] START C=193.0902883381129, degree=3.0, kernel=poly..............\n",
      "[CV 4/5; 63/80] END C=193.0902883381129, degree=3.0, kernel=poly;, score=0.594 total time=  13.0s\n",
      "[CV 5/5; 63/80] START C=193.0902883381129, degree=3.0, kernel=poly..............\n",
      "[CV 5/5; 63/80] END C=193.0902883381129, degree=3.0, kernel=poly;, score=0.613 total time=  13.5s\n",
      "[CV 1/5; 64/80] START C=193.0902883381129, degree=4.0, kernel=poly..............\n",
      "[CV 1/5; 64/80] END C=193.0902883381129, degree=4.0, kernel=poly;, score=0.509 total time=  14.5s\n",
      "[CV 2/5; 64/80] START C=193.0902883381129, degree=4.0, kernel=poly..............\n",
      "[CV 2/5; 64/80] END C=193.0902883381129, degree=4.0, kernel=poly;, score=0.515 total time=  15.1s\n",
      "[CV 3/5; 64/80] START C=193.0902883381129, degree=4.0, kernel=poly..............\n",
      "[CV 3/5; 64/80] END C=193.0902883381129, degree=4.0, kernel=poly;, score=0.514 total time=  13.6s\n",
      "[CV 4/5; 64/80] START C=193.0902883381129, degree=4.0, kernel=poly..............\n",
      "[CV 4/5; 64/80] END C=193.0902883381129, degree=4.0, kernel=poly;, score=0.513 total time=  13.0s\n",
      "[CV 5/5; 64/80] START C=193.0902883381129, degree=4.0, kernel=poly..............\n",
      "[CV 5/5; 64/80] END C=193.0902883381129, degree=4.0, kernel=poly;, score=0.516 total time=  12.7s\n",
      "[CV 1/5; 65/80] START C=382.7447894740212, degree=1.0, kernel=poly..............\n",
      "[CV 1/5; 65/80] END C=382.7447894740212, degree=1.0, kernel=poly;, score=0.852 total time=  15.2s\n",
      "[CV 2/5; 65/80] START C=382.7447894740212, degree=1.0, kernel=poly..............\n"
     ]
    },
    {
     "name": "stdout",
     "output_type": "stream",
     "text": [
      "[CV 2/5; 65/80] END C=382.7447894740212, degree=1.0, kernel=poly;, score=0.867 total time=  14.5s\n",
      "[CV 3/5; 65/80] START C=382.7447894740212, degree=1.0, kernel=poly..............\n",
      "[CV 3/5; 65/80] END C=382.7447894740212, degree=1.0, kernel=poly;, score=0.847 total time=  12.5s\n",
      "[CV 4/5; 65/80] START C=382.7447894740212, degree=1.0, kernel=poly..............\n",
      "[CV 4/5; 65/80] END C=382.7447894740212, degree=1.0, kernel=poly;, score=0.870 total time=  12.8s\n",
      "[CV 5/5; 65/80] START C=382.7447894740212, degree=1.0, kernel=poly..............\n",
      "[CV 5/5; 65/80] END C=382.7447894740212, degree=1.0, kernel=poly;, score=0.870 total time=  15.0s\n",
      "[CV 1/5; 66/80] START C=382.7447894740212, degree=2.0, kernel=poly..............\n",
      "[CV 1/5; 66/80] END C=382.7447894740212, degree=2.0, kernel=poly;, score=0.863 total time=  13.0s\n",
      "[CV 2/5; 66/80] START C=382.7447894740212, degree=2.0, kernel=poly..............\n",
      "[CV 2/5; 66/80] END C=382.7447894740212, degree=2.0, kernel=poly;, score=0.864 total time=  12.5s\n",
      "[CV 3/5; 66/80] START C=382.7447894740212, degree=2.0, kernel=poly..............\n",
      "[CV 3/5; 66/80] END C=382.7447894740212, degree=2.0, kernel=poly;, score=0.842 total time=  13.4s\n",
      "[CV 4/5; 66/80] START C=382.7447894740212, degree=2.0, kernel=poly..............\n",
      "[CV 4/5; 66/80] END C=382.7447894740212, degree=2.0, kernel=poly;, score=0.862 total time=  15.1s\n",
      "[CV 5/5; 66/80] START C=382.7447894740212, degree=2.0, kernel=poly..............\n",
      "[CV 5/5; 66/80] END C=382.7447894740212, degree=2.0, kernel=poly;, score=0.857 total time=  14.9s\n",
      "[CV 1/5; 67/80] START C=382.7447894740212, degree=3.0, kernel=poly..............\n",
      "[CV 1/5; 67/80] END C=382.7447894740212, degree=3.0, kernel=poly;, score=0.592 total time=  12.8s\n",
      "[CV 2/5; 67/80] START C=382.7447894740212, degree=3.0, kernel=poly..............\n",
      "[CV 2/5; 67/80] END C=382.7447894740212, degree=3.0, kernel=poly;, score=0.586 total time=  13.1s\n",
      "[CV 3/5; 67/80] START C=382.7447894740212, degree=3.0, kernel=poly..............\n",
      "[CV 3/5; 67/80] END C=382.7447894740212, degree=3.0, kernel=poly;, score=0.602 total time=  13.2s\n",
      "[CV 4/5; 67/80] START C=382.7447894740212, degree=3.0, kernel=poly..............\n",
      "[CV 4/5; 67/80] END C=382.7447894740212, degree=3.0, kernel=poly;, score=0.594 total time=  13.4s\n",
      "[CV 5/5; 67/80] START C=382.7447894740212, degree=3.0, kernel=poly..............\n",
      "[CV 5/5; 67/80] END C=382.7447894740212, degree=3.0, kernel=poly;, score=0.613 total time=  13.1s\n",
      "[CV 1/5; 68/80] START C=382.7447894740212, degree=4.0, kernel=poly..............\n",
      "[CV 1/5; 68/80] END C=382.7447894740212, degree=4.0, kernel=poly;, score=0.509 total time=  13.9s\n",
      "[CV 2/5; 68/80] START C=382.7447894740212, degree=4.0, kernel=poly..............\n",
      "[CV 2/5; 68/80] END C=382.7447894740212, degree=4.0, kernel=poly;, score=0.515 total time=  13.8s\n",
      "[CV 3/5; 68/80] START C=382.7447894740212, degree=4.0, kernel=poly..............\n",
      "[CV 3/5; 68/80] END C=382.7447894740212, degree=4.0, kernel=poly;, score=0.514 total time=  14.4s\n",
      "[CV 4/5; 68/80] START C=382.7447894740212, degree=4.0, kernel=poly..............\n",
      "[CV 4/5; 68/80] END C=382.7447894740212, degree=4.0, kernel=poly;, score=0.513 total time=  13.8s\n",
      "[CV 5/5; 68/80] START C=382.7447894740212, degree=4.0, kernel=poly..............\n",
      "[CV 5/5; 68/80] END C=382.7447894740212, degree=4.0, kernel=poly;, score=0.516 total time=  13.4s\n",
      "[CV 1/5; 69/80] START C=758.679139848782, degree=1.0, kernel=poly...............\n",
      "[CV 1/5; 69/80] END C=758.679139848782, degree=1.0, kernel=poly;, score=0.852 total time=  11.6s\n",
      "[CV 2/5; 69/80] START C=758.679139848782, degree=1.0, kernel=poly...............\n",
      "[CV 2/5; 69/80] END C=758.679139848782, degree=1.0, kernel=poly;, score=0.867 total time=  11.9s\n",
      "[CV 3/5; 69/80] START C=758.679139848782, degree=1.0, kernel=poly...............\n",
      "[CV 3/5; 69/80] END C=758.679139848782, degree=1.0, kernel=poly;, score=0.847 total time=  11.6s\n",
      "[CV 4/5; 69/80] START C=758.679139848782, degree=1.0, kernel=poly...............\n",
      "[CV 4/5; 69/80] END C=758.679139848782, degree=1.0, kernel=poly;, score=0.870 total time=  12.8s\n",
      "[CV 5/5; 69/80] START C=758.679139848782, degree=1.0, kernel=poly...............\n",
      "[CV 5/5; 69/80] END C=758.679139848782, degree=1.0, kernel=poly;, score=0.870 total time=  11.6s\n",
      "[CV 1/5; 70/80] START C=758.679139848782, degree=2.0, kernel=poly...............\n",
      "[CV 1/5; 70/80] END C=758.679139848782, degree=2.0, kernel=poly;, score=0.863 total time=  13.0s\n",
      "[CV 2/5; 70/80] START C=758.679139848782, degree=2.0, kernel=poly...............\n",
      "[CV 2/5; 70/80] END C=758.679139848782, degree=2.0, kernel=poly;, score=0.864 total time=  14.2s\n",
      "[CV 3/5; 70/80] START C=758.679139848782, degree=2.0, kernel=poly...............\n",
      "[CV 3/5; 70/80] END C=758.679139848782, degree=2.0, kernel=poly;, score=0.842 total time=  13.3s\n",
      "[CV 4/5; 70/80] START C=758.679139848782, degree=2.0, kernel=poly...............\n",
      "[CV 4/5; 70/80] END C=758.679139848782, degree=2.0, kernel=poly;, score=0.862 total time=  15.5s\n",
      "[CV 5/5; 70/80] START C=758.679139848782, degree=2.0, kernel=poly...............\n",
      "[CV 5/5; 70/80] END C=758.679139848782, degree=2.0, kernel=poly;, score=0.857 total time=  13.5s\n",
      "[CV 1/5; 71/80] START C=758.679139848782, degree=3.0, kernel=poly...............\n",
      "[CV 1/5; 71/80] END C=758.679139848782, degree=3.0, kernel=poly;, score=0.592 total time=  14.1s\n",
      "[CV 2/5; 71/80] START C=758.679139848782, degree=3.0, kernel=poly...............\n",
      "[CV 2/5; 71/80] END C=758.679139848782, degree=3.0, kernel=poly;, score=0.586 total time=  15.3s\n",
      "[CV 3/5; 71/80] START C=758.679139848782, degree=3.0, kernel=poly...............\n",
      "[CV 3/5; 71/80] END C=758.679139848782, degree=3.0, kernel=poly;, score=0.602 total time=  13.5s\n",
      "[CV 4/5; 71/80] START C=758.679139848782, degree=3.0, kernel=poly...............\n",
      "[CV 4/5; 71/80] END C=758.679139848782, degree=3.0, kernel=poly;, score=0.594 total time=  12.9s\n",
      "[CV 5/5; 71/80] START C=758.679139848782, degree=3.0, kernel=poly...............\n",
      "[CV 5/5; 71/80] END C=758.679139848782, degree=3.0, kernel=poly;, score=0.613 total time=  14.0s\n",
      "[CV 1/5; 72/80] START C=758.679139848782, degree=4.0, kernel=poly...............\n",
      "[CV 1/5; 72/80] END C=758.679139848782, degree=4.0, kernel=poly;, score=0.509 total time=  16.3s\n",
      "[CV 2/5; 72/80] START C=758.679139848782, degree=4.0, kernel=poly...............\n",
      "[CV 2/5; 72/80] END C=758.679139848782, degree=4.0, kernel=poly;, score=0.515 total time=  14.0s\n",
      "[CV 3/5; 72/80] START C=758.679139848782, degree=4.0, kernel=poly...............\n",
      "[CV 3/5; 72/80] END C=758.679139848782, degree=4.0, kernel=poly;, score=0.514 total time=  13.8s\n",
      "[CV 4/5; 72/80] START C=758.679139848782, degree=4.0, kernel=poly...............\n",
      "[CV 4/5; 72/80] END C=758.679139848782, degree=4.0, kernel=poly;, score=0.513 total time=  14.8s\n",
      "[CV 5/5; 72/80] START C=758.679139848782, degree=4.0, kernel=poly...............\n",
      "[CV 5/5; 72/80] END C=758.679139848782, degree=4.0, kernel=poly;, score=0.516 total time=  15.2s\n",
      "[CV 1/5; 73/80] START C=1503.8585842871576, degree=1.0, kernel=poly.............\n",
      "[CV 1/5; 73/80] END C=1503.8585842871576, degree=1.0, kernel=poly;, score=0.852 total time=  13.4s\n",
      "[CV 2/5; 73/80] START C=1503.8585842871576, degree=1.0, kernel=poly.............\n",
      "[CV 2/5; 73/80] END C=1503.8585842871576, degree=1.0, kernel=poly;, score=0.867 total time=  12.2s\n",
      "[CV 3/5; 73/80] START C=1503.8585842871576, degree=1.0, kernel=poly.............\n",
      "[CV 3/5; 73/80] END C=1503.8585842871576, degree=1.0, kernel=poly;, score=0.847 total time=  11.9s\n",
      "[CV 4/5; 73/80] START C=1503.8585842871576, degree=1.0, kernel=poly.............\n",
      "[CV 4/5; 73/80] END C=1503.8585842871576, degree=1.0, kernel=poly;, score=0.870 total time=  11.8s\n",
      "[CV 5/5; 73/80] START C=1503.8585842871576, degree=1.0, kernel=poly.............\n",
      "[CV 5/5; 73/80] END C=1503.8585842871576, degree=1.0, kernel=poly;, score=0.870 total time=  11.5s\n",
      "[CV 1/5; 74/80] START C=1503.8585842871576, degree=2.0, kernel=poly.............\n",
      "[CV 1/5; 74/80] END C=1503.8585842871576, degree=2.0, kernel=poly;, score=0.863 total time=  13.2s\n",
      "[CV 2/5; 74/80] START C=1503.8585842871576, degree=2.0, kernel=poly.............\n",
      "[CV 2/5; 74/80] END C=1503.8585842871576, degree=2.0, kernel=poly;, score=0.864 total time=  13.5s\n",
      "[CV 3/5; 74/80] START C=1503.8585842871576, degree=2.0, kernel=poly.............\n"
     ]
    },
    {
     "name": "stdout",
     "output_type": "stream",
     "text": [
      "[CV 3/5; 74/80] END C=1503.8585842871576, degree=2.0, kernel=poly;, score=0.842 total time=  13.6s\n",
      "[CV 4/5; 74/80] START C=1503.8585842871576, degree=2.0, kernel=poly.............\n",
      "[CV 4/5; 74/80] END C=1503.8585842871576, degree=2.0, kernel=poly;, score=0.862 total time=  13.8s\n",
      "[CV 5/5; 74/80] START C=1503.8585842871576, degree=2.0, kernel=poly.............\n",
      "[CV 5/5; 74/80] END C=1503.8585842871576, degree=2.0, kernel=poly;, score=0.857 total time=  13.6s\n",
      "[CV 1/5; 75/80] START C=1503.8585842871576, degree=3.0, kernel=poly.............\n",
      "[CV 1/5; 75/80] END C=1503.8585842871576, degree=3.0, kernel=poly;, score=0.592 total time=  13.1s\n",
      "[CV 2/5; 75/80] START C=1503.8585842871576, degree=3.0, kernel=poly.............\n",
      "[CV 2/5; 75/80] END C=1503.8585842871576, degree=3.0, kernel=poly;, score=0.586 total time=  13.2s\n",
      "[CV 3/5; 75/80] START C=1503.8585842871576, degree=3.0, kernel=poly.............\n",
      "[CV 3/5; 75/80] END C=1503.8585842871576, degree=3.0, kernel=poly;, score=0.602 total time=  12.9s\n",
      "[CV 4/5; 75/80] START C=1503.8585842871576, degree=3.0, kernel=poly.............\n",
      "[CV 4/5; 75/80] END C=1503.8585842871576, degree=3.0, kernel=poly;, score=0.594 total time=  15.0s\n",
      "[CV 5/5; 75/80] START C=1503.8585842871576, degree=3.0, kernel=poly.............\n",
      "[CV 5/5; 75/80] END C=1503.8585842871576, degree=3.0, kernel=poly;, score=0.613 total time=  13.8s\n",
      "[CV 1/5; 76/80] START C=1503.8585842871576, degree=4.0, kernel=poly.............\n",
      "[CV 1/5; 76/80] END C=1503.8585842871576, degree=4.0, kernel=poly;, score=0.509 total time=  13.4s\n",
      "[CV 2/5; 76/80] START C=1503.8585842871576, degree=4.0, kernel=poly.............\n",
      "[CV 2/5; 76/80] END C=1503.8585842871576, degree=4.0, kernel=poly;, score=0.515 total time=  14.0s\n",
      "[CV 3/5; 76/80] START C=1503.8585842871576, degree=4.0, kernel=poly.............\n",
      "[CV 3/5; 76/80] END C=1503.8585842871576, degree=4.0, kernel=poly;, score=0.514 total time=  14.7s\n",
      "[CV 4/5; 76/80] START C=1503.8585842871576, degree=4.0, kernel=poly.............\n",
      "[CV 4/5; 76/80] END C=1503.8585842871576, degree=4.0, kernel=poly;, score=0.513 total time=  16.4s\n",
      "[CV 5/5; 76/80] START C=1503.8585842871576, degree=4.0, kernel=poly.............\n",
      "[CV 5/5; 76/80] END C=1503.8585842871576, degree=4.0, kernel=poly;, score=0.516 total time=  13.0s\n",
      "[CV 1/5; 77/80] START C=2980.957987041727, degree=1.0, kernel=poly..............\n",
      "[CV 1/5; 77/80] END C=2980.957987041727, degree=1.0, kernel=poly;, score=0.852 total time=  12.4s\n",
      "[CV 2/5; 77/80] START C=2980.957987041727, degree=1.0, kernel=poly..............\n",
      "[CV 2/5; 77/80] END C=2980.957987041727, degree=1.0, kernel=poly;, score=0.867 total time=  12.0s\n",
      "[CV 3/5; 77/80] START C=2980.957987041727, degree=1.0, kernel=poly..............\n",
      "[CV 3/5; 77/80] END C=2980.957987041727, degree=1.0, kernel=poly;, score=0.847 total time=  12.0s\n",
      "[CV 4/5; 77/80] START C=2980.957987041727, degree=1.0, kernel=poly..............\n",
      "[CV 4/5; 77/80] END C=2980.957987041727, degree=1.0, kernel=poly;, score=0.870 total time=  13.4s\n",
      "[CV 5/5; 77/80] START C=2980.957987041727, degree=1.0, kernel=poly..............\n",
      "[CV 5/5; 77/80] END C=2980.957987041727, degree=1.0, kernel=poly;, score=0.870 total time=  11.4s\n",
      "[CV 1/5; 78/80] START C=2980.957987041727, degree=2.0, kernel=poly..............\n",
      "[CV 1/5; 78/80] END C=2980.957987041727, degree=2.0, kernel=poly;, score=0.863 total time=  12.9s\n",
      "[CV 2/5; 78/80] START C=2980.957987041727, degree=2.0, kernel=poly..............\n",
      "[CV 2/5; 78/80] END C=2980.957987041727, degree=2.0, kernel=poly;, score=0.864 total time=  13.6s\n",
      "[CV 3/5; 78/80] START C=2980.957987041727, degree=2.0, kernel=poly..............\n",
      "[CV 3/5; 78/80] END C=2980.957987041727, degree=2.0, kernel=poly;, score=0.842 total time=  15.3s\n",
      "[CV 4/5; 78/80] START C=2980.957987041727, degree=2.0, kernel=poly..............\n",
      "[CV 4/5; 78/80] END C=2980.957987041727, degree=2.0, kernel=poly;, score=0.862 total time=  14.1s\n",
      "[CV 5/5; 78/80] START C=2980.957987041727, degree=2.0, kernel=poly..............\n",
      "[CV 5/5; 78/80] END C=2980.957987041727, degree=2.0, kernel=poly;, score=0.857 total time=  13.3s\n",
      "[CV 1/5; 79/80] START C=2980.957987041727, degree=3.0, kernel=poly..............\n",
      "[CV 1/5; 79/80] END C=2980.957987041727, degree=3.0, kernel=poly;, score=0.592 total time=  15.3s\n",
      "[CV 2/5; 79/80] START C=2980.957987041727, degree=3.0, kernel=poly..............\n",
      "[CV 2/5; 79/80] END C=2980.957987041727, degree=3.0, kernel=poly;, score=0.586 total time=  15.2s\n",
      "[CV 3/5; 79/80] START C=2980.957987041727, degree=3.0, kernel=poly..............\n",
      "[CV 3/5; 79/80] END C=2980.957987041727, degree=3.0, kernel=poly;, score=0.602 total time=  13.7s\n",
      "[CV 4/5; 79/80] START C=2980.957987041727, degree=3.0, kernel=poly..............\n",
      "[CV 4/5; 79/80] END C=2980.957987041727, degree=3.0, kernel=poly;, score=0.594 total time=  15.2s\n",
      "[CV 5/5; 79/80] START C=2980.957987041727, degree=3.0, kernel=poly..............\n",
      "[CV 5/5; 79/80] END C=2980.957987041727, degree=3.0, kernel=poly;, score=0.613 total time=  13.2s\n",
      "[CV 1/5; 80/80] START C=2980.957987041727, degree=4.0, kernel=poly..............\n",
      "[CV 1/5; 80/80] END C=2980.957987041727, degree=4.0, kernel=poly;, score=0.509 total time=  13.5s\n",
      "[CV 2/5; 80/80] START C=2980.957987041727, degree=4.0, kernel=poly..............\n",
      "[CV 2/5; 80/80] END C=2980.957987041727, degree=4.0, kernel=poly;, score=0.515 total time=  13.3s\n",
      "[CV 3/5; 80/80] START C=2980.957987041727, degree=4.0, kernel=poly..............\n",
      "[CV 3/5; 80/80] END C=2980.957987041727, degree=4.0, kernel=poly;, score=0.514 total time=  13.7s\n",
      "[CV 4/5; 80/80] START C=2980.957987041727, degree=4.0, kernel=poly..............\n",
      "[CV 4/5; 80/80] END C=2980.957987041727, degree=4.0, kernel=poly;, score=0.513 total time=  13.1s\n",
      "[CV 5/5; 80/80] START C=2980.957987041727, degree=4.0, kernel=poly..............\n",
      "[CV 5/5; 80/80] END C=2980.957987041727, degree=4.0, kernel=poly;, score=0.516 total time=  13.9s\n",
      "{'C': 0.40871514110598417, 'degree': 1.0, 'kernel': 'poly'}\n",
      "SVC(C=0.40871514110598417, degree=1.0, kernel='poly')\n",
      "0.8666\n"
     ]
    }
   ],
   "source": [
    "# self testing code - remove before submission\n",
    "# Polynomial kernel\n",
    "\n",
    "from sklearn.model_selection import GridSearchCV\n",
    "from sklearn.metrics import classification_report\n",
    "\n",
    "C_rng = np.logspace(-5,8,20,base=math.e)\n",
    "d_range = np.linspace(1, 4, 4)\n",
    "\n",
    "# Hyperparameter tuning\n",
    "params_grid = {'kernel':['poly'],\n",
    "               'C': C_rng,\n",
    "              'degree': d_range}\n",
    "\n",
    "poly_svc = svm.SVC()\n",
    "poly_sc = SVMClassifier(kernel='poly')\n",
    "poly_search = GridSearchCV(poly_svc, params_grid, cv=5, verbose=10)\n",
    "poly_X_train = poly_sc.vectorizer.fit_transform(X_train)\n",
    "poly_search.fit(poly_X_train, Y_train)\n",
    "print(poly_search.best_params_)\n",
    "print(poly_search.best_estimator_)\n",
    "print(poly_search.best_score_)\n"
   ]
  },
  {
   "cell_type": "code",
   "execution_count": 414,
   "id": "9a515b81",
   "metadata": {},
   "outputs": [
    {
     "data": {
      "image/png": "[encoded data removed]",
      "text/plain": [
       "<Figure size 720x720 with 2 Axes>"
      ]
     },
     "metadata": {},
     "output_type": "display_data"
    }
   ],
   "source": [
    "poly_df = pd.DataFrame.from_dict(poly_search.cv_results_)\n",
    "\n",
    "poly_scores = poly_df.mean_test_score\n",
    "poly_scores = np.array(poly_scores).reshape(len(C_rng), len(d_range)).T\n",
    "\n",
    "# Make a nice figure\n",
    "\n",
    "plt.figure(figsize=(10, 10))\n",
    "plt.subplots_adjust(left=0.15, right=0.95, bottom=0.15, top=0.95)\n",
    "plt.imshow(poly_scores, interpolation='nearest', cmap=plt.get_cmap('inferno'))\n",
    "plt.ylabel('Degree')\n",
    "plt.xlabel('ln(C)')\n",
    "plt.colorbar(shrink=0.2)\n",
    "plt.yticks(np.arange(len(d_range)),d_range, rotation=45)\n",
    "plt.xticks(np.arange(len(C_rng)), np.round(np.log(C_rng), 2))\n",
    "plt.show()"
   ]
  },
  {
   "cell_type": "code",
   "execution_count": 468,
   "id": "24e2f5d6",
   "metadata": {},
   "outputs": [
    {
     "name": "stdout",
     "output_type": "stream",
     "text": [
      "              precision    recall  f1-score   support\n",
      "\n",
      "    negative       0.88      0.86      0.87       731\n",
      "    positive       0.87      0.89      0.88       769\n",
      "\n",
      "    accuracy                           0.88      1500\n",
      "   macro avg       0.88      0.88      0.88      1500\n",
      "weighted avg       0.88      0.88      0.88      1500\n",
      "\n"
     ]
    }
   ],
   "source": [
    "# plug in the best parameter found to test accuracy for test set\n",
    "\n",
    "poly_sc = SVMClassifier(kernel='poly', C=0.408715, d=1)\n",
    "poly_sc.fit(X_train, Y_train)\n",
    "poly_pred = poly_sc.predict(X_test)\n",
    "print(classification_report(Y_test, poly_pred))"
   ]
  },
  {
   "cell_type": "markdown",
   "id": "35e6f272",
   "metadata": {},
   "source": [
    "### Test function that will be called to evaluate your code. Separate test dataset will be provided\n",
    "\n",
    "Do not modify the code below. Please write your code above such that it can be evaluated by the function below. You can modify your code above such that you obtain the best performance through this function. "
   ]
  },
  {
   "cell_type": "code",
   "execution_count": 180,
   "id": "89603f43",
   "metadata": {},
   "outputs": [],
   "source": [
    "def test_func_svm(dataset_train, dataset_test):\n",
    "    from sklearn.metrics import accuracy_score  \n",
    "    (X_train, Y_train, X_test, Y_test) = extract_bag_of_words_train_test(dataset_train, dataset_test)\n",
    "    sc = SVMClassifier()\n",
    "    sc.fit(X_train, Y_train)\n",
    "    Y_Pred = sc.predict(X_test)\n",
    "    acc = accuracy_score(Y_test, Y_Pred)\n",
    "    print(\"Accuracy:\",acc)\n",
    "    return acc"
   ]
  },
  {
   "cell_type": "code",
   "execution_count": 100,
   "id": "4ffd4adf",
   "metadata": {
    "scrolled": true
   },
   "outputs": [
    {
     "ename": "NameError",
     "evalue": "name 'linear_kernel' is not defined",
     "output_type": "error",
     "traceback": [
      "\u001b[0;31m---------------------------------------------------------------------------\u001b[0m",
      "\u001b[0;31mNameError\u001b[0m                                 Traceback (most recent call last)",
      "\u001b[0;32m<ipython-input-100-1f5baa16f6e6>\u001b[0m in \u001b[0;36m<module>\u001b[0;34m\u001b[0m\n\u001b[0;32m----> 1\u001b[0;31m \u001b[0macc\u001b[0m \u001b[0;34m=\u001b[0m \u001b[0mtest_func_svm\u001b[0m\u001b[0;34m(\u001b[0m\u001b[0;34m\"movie_review_train.csv\"\u001b[0m\u001b[0;34m,\u001b[0m \u001b[0;34m\"movie_review_test.csv\"\u001b[0m\u001b[0;34m)\u001b[0m\u001b[0;34m\u001b[0m\u001b[0;34m\u001b[0m\u001b[0m\n\u001b[0m",
      "\u001b[0;32m<ipython-input-98-092567975f27>\u001b[0m in \u001b[0;36mtest_func_svm\u001b[0;34m(dataset_train, dataset_test)\u001b[0m\n\u001b[1;32m      3\u001b[0m     \u001b[0;34m(\u001b[0m\u001b[0mX_train\u001b[0m\u001b[0;34m,\u001b[0m \u001b[0mY_train\u001b[0m\u001b[0;34m,\u001b[0m \u001b[0mX_test\u001b[0m\u001b[0;34m,\u001b[0m \u001b[0mY_test\u001b[0m\u001b[0;34m)\u001b[0m \u001b[0;34m=\u001b[0m \u001b[0mextract_bag_of_words_train_test\u001b[0m\u001b[0;34m(\u001b[0m\u001b[0mdataset_train\u001b[0m\u001b[0;34m,\u001b[0m \u001b[0mdataset_test\u001b[0m\u001b[0;34m)\u001b[0m\u001b[0;34m\u001b[0m\u001b[0;34m\u001b[0m\u001b[0m\n\u001b[1;32m      4\u001b[0m     \u001b[0msc\u001b[0m \u001b[0;34m=\u001b[0m \u001b[0mSVMClassifier\u001b[0m\u001b[0;34m(\u001b[0m\u001b[0;34m)\u001b[0m\u001b[0;34m\u001b[0m\u001b[0;34m\u001b[0m\u001b[0m\n\u001b[0;32m----> 5\u001b[0;31m     \u001b[0msc\u001b[0m\u001b[0;34m.\u001b[0m\u001b[0mfit\u001b[0m\u001b[0;34m(\u001b[0m\u001b[0mX_train\u001b[0m\u001b[0;34m,\u001b[0m \u001b[0mY_train\u001b[0m\u001b[0;34m)\u001b[0m\u001b[0;34m\u001b[0m\u001b[0;34m\u001b[0m\u001b[0m\n\u001b[0m\u001b[1;32m      6\u001b[0m     \u001b[0mY_Pred\u001b[0m \u001b[0;34m=\u001b[0m \u001b[0msc\u001b[0m\u001b[0;34m.\u001b[0m\u001b[0mpredict\u001b[0m\u001b[0;34m(\u001b[0m\u001b[0mX_test\u001b[0m\u001b[0;34m)\u001b[0m\u001b[0;34m\u001b[0m\u001b[0;34m\u001b[0m\u001b[0m\n\u001b[1;32m      7\u001b[0m     \u001b[0macc\u001b[0m \u001b[0;34m=\u001b[0m \u001b[0maccuracy_score\u001b[0m\u001b[0;34m(\u001b[0m\u001b[0mY_test\u001b[0m\u001b[0;34m,\u001b[0m \u001b[0mY_Pred\u001b[0m\u001b[0;34m)\u001b[0m\u001b[0;34m\u001b[0m\u001b[0;34m\u001b[0m\u001b[0m\n",
      "\u001b[0;32m<ipython-input-95-d70aa0da6353>\u001b[0m in \u001b[0;36mfit\u001b[0;34m(self, X, y)\u001b[0m\n\u001b[1;32m     17\u001b[0m         \u001b[0;31m# Ensure you call your own defined kernel here\u001b[0m\u001b[0;34m\u001b[0m\u001b[0;34m\u001b[0m\u001b[0;34m\u001b[0m\u001b[0m\n\u001b[1;32m     18\u001b[0m         \u001b[0;32mif\u001b[0m \u001b[0mself\u001b[0m\u001b[0;34m.\u001b[0m\u001b[0mkernel\u001b[0m \u001b[0;34m==\u001b[0m \u001b[0;34m'linear'\u001b[0m\u001b[0;34m:\u001b[0m\u001b[0;34m\u001b[0m\u001b[0;34m\u001b[0m\u001b[0m\n\u001b[0;32m---> 19\u001b[0;31m             \u001b[0mself\u001b[0m\u001b[0;34m.\u001b[0m\u001b[0mclf\u001b[0m \u001b[0;34m=\u001b[0m \u001b[0msvm\u001b[0m\u001b[0;34m.\u001b[0m\u001b[0mSVC\u001b[0m\u001b[0;34m(\u001b[0m\u001b[0mlinear_kernel\u001b[0m\u001b[0;34m)\u001b[0m\u001b[0;34m\u001b[0m\u001b[0;34m\u001b[0m\u001b[0m\n\u001b[0m\u001b[1;32m     20\u001b[0m \u001b[0;34m\u001b[0m\u001b[0m\n\u001b[1;32m     21\u001b[0m         \u001b[0;32mreturn\u001b[0m \u001b[0mself\u001b[0m\u001b[0;34m.\u001b[0m\u001b[0mclf\u001b[0m\u001b[0;34m.\u001b[0m\u001b[0mfit\u001b[0m\u001b[0;34m(\u001b[0m\u001b[0mX\u001b[0m\u001b[0;34m,\u001b[0m\u001b[0my\u001b[0m\u001b[0;34m)\u001b[0m\u001b[0;34m\u001b[0m\u001b[0;34m\u001b[0m\u001b[0m\n",
      "\u001b[0;31mNameError\u001b[0m: name 'linear_kernel' is not defined"
     ]
    }
   ],
   "source": [
    "acc = test_func_svm(\"movie_review_train.csv\", \"movie_review_test.csv\")"
   ]
  },
  {
   "cell_type": "markdown",
   "id": "61056292",
   "metadata": {},
   "source": [
    "### Task 2\n",
    "\n",
    "In this task you need to implement a boosting based classifier that can be used to classify the images. \n",
    "\n",
    "Details regarding the marking for the coursework are provided in the coursework specification file. Please ensure that your code will work with a different test file than the one provided with the coursework.\n",
    "\n",
    "Note that the boosting classifier you implement can include decision trees from scikit-learn or your own decision trees. Use the same sentiment analysis dataset for evaluation."
   ]
  },
  {
   "cell_type": "code",
   "execution_count": 4,
   "id": "3805e672",
   "metadata": {},
   "outputs": [],
   "source": [
    "# Adaboost tutorial: https://towardsdatascience.com/adaboost-from-scratch-37a936da3d50\n",
    "from sklearn.tree import DecisionTreeClassifier\n",
    "import numpy as np\n",
    "\n",
    "class BoostingClassifier:\n",
    "    # You need to implement this classifier. \n",
    "    def __init__(self):\n",
    "        import numpy as np\n",
    "        #implement initialisation\n",
    "        \n",
    "        self.T = # number of boosting rounds\n",
    "        \n",
    "    def fit(self, X,y):\n",
    "        #implement training of the boosting classifier \n",
    "        \n",
    "        \n",
    "        \n",
    "        return \n",
    "    def predict(self, X):\n",
    "        # implement prediction of the boosting classifier\n",
    "        return"
   ]
  },
  {
   "cell_type": "code",
   "execution_count": 423,
   "id": "c614d493",
   "metadata": {},
   "outputs": [],
   "source": [
    "class AdaBoost2:\n",
    "    \n",
    "    def __init__(self,n_clf=50):\n",
    "        self.n_clf=n_clf\n",
    "        \n",
    "    def fit(self,X,y):\n",
    "        \n",
    "        n_samples,n_features=X.shape\n",
    "        w=np.full(n_samples,(1/n_samples))\n",
    "        self.clfs=[]\n",
    "        self.alpha=[]\n",
    "        \n",
    "        for _ in range(self.n_clf):\n",
    "            \n",
    "            clf=DecisionTreeClassifier(max_depth=3)\n",
    "            clf=clf.fit(X, y,sample_weight=w)\n",
    "            min_error=float('inf')\n",
    "            \n",
    "           \n",
    "            predictions=clf.predict(X)\n",
    "            missclassified=w[y!=predictions]\n",
    "            error=sum(missclassified)\n",
    "\n",
    "            if error>0.5:\n",
    "                error=1-error\n",
    "                \n",
    "            if error < min_error:\n",
    "                min_error=error\n",
    "                \n",
    "\n",
    "            EPS=1e-10           \n",
    "            self.alpha.append(0.5*np.log((1-error)/(error+EPS)))\n",
    "            predictions=clf.predict(X)\n",
    "    \n",
    "            \n",
    "            asd4=list()\n",
    "            e=-(0.5*np.log((1-error)/(error+EPS)))\n",
    "            for i in range(len(predictions)):\n",
    "                if predictions[i]==y[i]:\n",
    "                    asd4.append(1)\n",
    "                else:\n",
    "                    asd4.append(-1)\n",
    "                    \n",
    "            \n",
    "            w*=np.exp(e*np.array(asd4))\n",
    "            w/=np.sum(w)\n",
    "            \n",
    "            self.clfs.append(clf)\n",
    "            \n",
    "\n",
    "    def predict(self,X):\n",
    "        \n",
    "        clf_preds=list()\n",
    "        for index in range(len(self.alpha)):\n",
    "            asd=self.clfs[index]\n",
    "            res=asd.predict(X)\n",
    "            res2=[int(i) for i in res]\n",
    "            clf_preds.append(self.alpha[index]*np.array(res2))\n",
    "        y_pred=np.sum(clf_preds,axis=0)\n",
    "        y_pred=np.sign(y_pred)\n",
    "        y_pred=[str(i) for i in y_pred]\n",
    "        for i in range(len(y_pred)):\n",
    "            if y_pred[i]==\"-1.0\":\n",
    "                y_pred[i]=\"-1\"\n",
    "            else:\n",
    "                y_pred[i]=\"1\"\n",
    "        return y_pred"
   ]
  },
  {
   "cell_type": "code",
   "execution_count": 436,
   "id": "ff8af4b1",
   "metadata": {},
   "outputs": [
    {
     "name": "stdout",
     "output_type": "stream",
     "text": [
      "  (0, 31671)\t0.10818801445530814\n",
      "  (0, 30836)\t0.18707119552352705\n",
      "  (0, 30778)\t0.05332136304214798\n",
      "  (0, 30466)\t0.04178638476413439\n",
      "  (0, 30041)\t0.12247681214644954\n",
      "  (0, 29853)\t0.08897869813048045\n",
      "  (0, 29629)\t0.04520395482854856\n",
      "  (0, 29557)\t0.08097659867962835\n",
      "  (0, 29222)\t0.06267162977714762\n",
      "  (0, 28995)\t0.11504529743750065\n",
      "  (0, 28839)\t0.03566860560086897\n",
      "  (0, 28484)\t0.07251900808734031\n",
      "  (0, 28107)\t0.0847934860865645\n",
      "  (0, 27728)\t0.14905765115265024\n",
      "  (0, 27702)\t0.06869009253083821\n",
      "  (0, 27439)\t0.06646468745546123\n",
      "  (0, 27404)\t0.08408368453040124\n",
      "  (0, 26511)\t0.07938796234916816\n",
      "  (0, 25998)\t0.1123928750294708\n",
      "  (0, 25963)\t0.0597956902898491\n",
      "  (0, 25928)\t0.045940100701201136\n",
      "  (0, 25809)\t0.07175715622137316\n",
      "  (0, 25747)\t0.089982409603464\n",
      "  (0, 25740)\t0.08516181072354431\n",
      "  (0, 25665)\t0.11829160010253356\n",
      "  :\t:\n",
      "  (0, 9366)\t0.059095211416524136\n",
      "  (0, 8992)\t0.1023089379124921\n",
      "  (0, 8134)\t0.0905114877663666\n",
      "  (0, 7791)\t0.053962349803572604\n",
      "  (0, 7790)\t0.06508749337839144\n",
      "  (0, 7745)\t0.130552863394505\n",
      "  (0, 7651)\t0.11015028383742144\n",
      "  (0, 7420)\t0.07489254567265205\n",
      "  (0, 7252)\t0.0855397032964634\n",
      "  (0, 6530)\t0.10649414995640805\n",
      "  (0, 5800)\t0.09724175607733543\n",
      "  (0, 4959)\t0.09783663044483637\n",
      "  (0, 4841)\t0.04977713775965665\n",
      "  (0, 4624)\t0.12837553721951228\n",
      "  (0, 4394)\t0.07315858563230902\n",
      "  (0, 3722)\t0.10820766298555486\n",
      "  (0, 3688)\t0.09906263524745917\n",
      "  (0, 3423)\t0.10357478343366461\n",
      "  (0, 3138)\t0.11829160010253356\n",
      "  (0, 2315)\t0.09724175607733543\n",
      "  (0, 1829)\t0.11015028383742144\n",
      "  (0, 1384)\t0.09416762164737996\n",
      "  (0, 1081)\t0.08897869813048045\n",
      "  (0, 1065)\t0.11504529743750065\n",
      "  (0, 693)\t0.10820766298555486\n"
     ]
    },
    {
     "ename": "ValueError",
     "evalue": "setting an array element with a sequence.",
     "output_type": "error",
     "traceback": [
      "\u001b[0;31m---------------------------------------------------------------------------\u001b[0m",
      "\u001b[0;31mTypeError\u001b[0m                                 Traceback (most recent call last)",
      "\u001b[0;31mTypeError\u001b[0m: float() argument must be a string or a number, not 'csr_matrix'",
      "\nThe above exception was the direct cause of the following exception:\n",
      "\u001b[0;31mValueError\u001b[0m                                Traceback (most recent call last)",
      "\u001b[0;32m/var/folders/1c/pk64lqn53r13zfp4b78pl9rc0000gn/T/ipykernel_82314/3073367945.py\u001b[0m in \u001b[0;36m<module>\u001b[0;34m\u001b[0m\n\u001b[1;32m     17\u001b[0m \u001b[0mdff\u001b[0m\u001b[0;34m=\u001b[0m\u001b[0mpd\u001b[0m\u001b[0;34m.\u001b[0m\u001b[0mDataFrame\u001b[0m\u001b[0;34m(\u001b[0m\u001b[0mvector_train\u001b[0m\u001b[0;34m)\u001b[0m\u001b[0;34m\u001b[0m\u001b[0;34m\u001b[0m\u001b[0m\n\u001b[1;32m     18\u001b[0m \u001b[0mclf\u001b[0m\u001b[0;34m=\u001b[0m\u001b[0mAdaBoost2\u001b[0m\u001b[0;34m(\u001b[0m\u001b[0mn_clf\u001b[0m\u001b[0;34m=\u001b[0m\u001b[0;36m50\u001b[0m\u001b[0;34m)\u001b[0m\u001b[0;34m\u001b[0m\u001b[0;34m\u001b[0m\u001b[0m\n\u001b[0;32m---> 19\u001b[0;31m \u001b[0mclf\u001b[0m\u001b[0;34m.\u001b[0m\u001b[0mfit\u001b[0m\u001b[0;34m(\u001b[0m\u001b[0mdff\u001b[0m\u001b[0;34m,\u001b[0m\u001b[0my_train_transform\u001b[0m\u001b[0;34m)\u001b[0m\u001b[0;34m\u001b[0m\u001b[0;34m\u001b[0m\u001b[0m\n\u001b[0m",
      "\u001b[0;32m/var/folders/1c/pk64lqn53r13zfp4b78pl9rc0000gn/T/ipykernel_82314/75561791.py\u001b[0m in \u001b[0;36mfit\u001b[0;34m(self, X, y)\u001b[0m\n\u001b[1;32m     14\u001b[0m \u001b[0;34m\u001b[0m\u001b[0m\n\u001b[1;32m     15\u001b[0m             \u001b[0mclf\u001b[0m\u001b[0;34m=\u001b[0m\u001b[0mDecisionTreeClassifier\u001b[0m\u001b[0;34m(\u001b[0m\u001b[0mmax_depth\u001b[0m\u001b[0;34m=\u001b[0m\u001b[0;36m3\u001b[0m\u001b[0;34m)\u001b[0m\u001b[0;34m\u001b[0m\u001b[0;34m\u001b[0m\u001b[0m\n\u001b[0;32m---> 16\u001b[0;31m             \u001b[0mclf\u001b[0m\u001b[0;34m=\u001b[0m\u001b[0mclf\u001b[0m\u001b[0;34m.\u001b[0m\u001b[0mfit\u001b[0m\u001b[0;34m(\u001b[0m\u001b[0mX\u001b[0m\u001b[0;34m,\u001b[0m \u001b[0my\u001b[0m\u001b[0;34m,\u001b[0m\u001b[0msample_weight\u001b[0m\u001b[0;34m=\u001b[0m\u001b[0mw\u001b[0m\u001b[0;34m)\u001b[0m\u001b[0;34m\u001b[0m\u001b[0;34m\u001b[0m\u001b[0m\n\u001b[0m\u001b[1;32m     17\u001b[0m             \u001b[0mmin_error\u001b[0m\u001b[0;34m=\u001b[0m\u001b[0mfloat\u001b[0m\u001b[0;34m(\u001b[0m\u001b[0;34m'inf'\u001b[0m\u001b[0;34m)\u001b[0m\u001b[0;34m\u001b[0m\u001b[0;34m\u001b[0m\u001b[0m\n\u001b[1;32m     18\u001b[0m \u001b[0;34m\u001b[0m\u001b[0m\n",
      "\u001b[0;32m~/opt/anaconda3/envs/tensorflow/lib/python3.7/site-packages/sklearn/tree/_classes.py\u001b[0m in \u001b[0;36mfit\u001b[0;34m(self, X, y, sample_weight, check_input, X_idx_sorted)\u001b[0m\n\u001b[1;32m    940\u001b[0m             \u001b[0msample_weight\u001b[0m\u001b[0;34m=\u001b[0m\u001b[0msample_weight\u001b[0m\u001b[0;34m,\u001b[0m\u001b[0;34m\u001b[0m\u001b[0;34m\u001b[0m\u001b[0m\n\u001b[1;32m    941\u001b[0m             \u001b[0mcheck_input\u001b[0m\u001b[0;34m=\u001b[0m\u001b[0mcheck_input\u001b[0m\u001b[0;34m,\u001b[0m\u001b[0;34m\u001b[0m\u001b[0;34m\u001b[0m\u001b[0m\n\u001b[0;32m--> 942\u001b[0;31m             \u001b[0mX_idx_sorted\u001b[0m\u001b[0;34m=\u001b[0m\u001b[0mX_idx_sorted\u001b[0m\u001b[0;34m,\u001b[0m\u001b[0;34m\u001b[0m\u001b[0;34m\u001b[0m\u001b[0m\n\u001b[0m\u001b[1;32m    943\u001b[0m         )\n\u001b[1;32m    944\u001b[0m         \u001b[0;32mreturn\u001b[0m \u001b[0mself\u001b[0m\u001b[0;34m\u001b[0m\u001b[0;34m\u001b[0m\u001b[0m\n",
      "\u001b[0;32m~/opt/anaconda3/envs/tensorflow/lib/python3.7/site-packages/sklearn/tree/_classes.py\u001b[0m in \u001b[0;36mfit\u001b[0;34m(self, X, y, sample_weight, check_input, X_idx_sorted)\u001b[0m\n\u001b[1;32m    164\u001b[0m             \u001b[0mcheck_y_params\u001b[0m \u001b[0;34m=\u001b[0m \u001b[0mdict\u001b[0m\u001b[0;34m(\u001b[0m\u001b[0mensure_2d\u001b[0m\u001b[0;34m=\u001b[0m\u001b[0;32mFalse\u001b[0m\u001b[0;34m,\u001b[0m \u001b[0mdtype\u001b[0m\u001b[0;34m=\u001b[0m\u001b[0;32mNone\u001b[0m\u001b[0;34m)\u001b[0m\u001b[0;34m\u001b[0m\u001b[0;34m\u001b[0m\u001b[0m\n\u001b[1;32m    165\u001b[0m             X, y = self._validate_data(\n\u001b[0;32m--> 166\u001b[0;31m                 \u001b[0mX\u001b[0m\u001b[0;34m,\u001b[0m \u001b[0my\u001b[0m\u001b[0;34m,\u001b[0m \u001b[0mvalidate_separately\u001b[0m\u001b[0;34m=\u001b[0m\u001b[0;34m(\u001b[0m\u001b[0mcheck_X_params\u001b[0m\u001b[0;34m,\u001b[0m \u001b[0mcheck_y_params\u001b[0m\u001b[0;34m)\u001b[0m\u001b[0;34m\u001b[0m\u001b[0;34m\u001b[0m\u001b[0m\n\u001b[0m\u001b[1;32m    167\u001b[0m             )\n\u001b[1;32m    168\u001b[0m             \u001b[0;32mif\u001b[0m \u001b[0missparse\u001b[0m\u001b[0;34m(\u001b[0m\u001b[0mX\u001b[0m\u001b[0;34m)\u001b[0m\u001b[0;34m:\u001b[0m\u001b[0;34m\u001b[0m\u001b[0;34m\u001b[0m\u001b[0m\n",
      "\u001b[0;32m~/opt/anaconda3/envs/tensorflow/lib/python3.7/site-packages/sklearn/base.py\u001b[0m in \u001b[0;36m_validate_data\u001b[0;34m(self, X, y, reset, validate_separately, **check_params)\u001b[0m\n\u001b[1;32m    571\u001b[0m                 \u001b[0;31m# :(\u001b[0m\u001b[0;34m\u001b[0m\u001b[0;34m\u001b[0m\u001b[0;34m\u001b[0m\u001b[0m\n\u001b[1;32m    572\u001b[0m                 \u001b[0mcheck_X_params\u001b[0m\u001b[0;34m,\u001b[0m \u001b[0mcheck_y_params\u001b[0m \u001b[0;34m=\u001b[0m \u001b[0mvalidate_separately\u001b[0m\u001b[0;34m\u001b[0m\u001b[0;34m\u001b[0m\u001b[0m\n\u001b[0;32m--> 573\u001b[0;31m                 \u001b[0mX\u001b[0m \u001b[0;34m=\u001b[0m \u001b[0mcheck_array\u001b[0m\u001b[0;34m(\u001b[0m\u001b[0mX\u001b[0m\u001b[0;34m,\u001b[0m \u001b[0;34m**\u001b[0m\u001b[0mcheck_X_params\u001b[0m\u001b[0;34m)\u001b[0m\u001b[0;34m\u001b[0m\u001b[0;34m\u001b[0m\u001b[0m\n\u001b[0m\u001b[1;32m    574\u001b[0m                 \u001b[0my\u001b[0m \u001b[0;34m=\u001b[0m \u001b[0mcheck_array\u001b[0m\u001b[0;34m(\u001b[0m\u001b[0my\u001b[0m\u001b[0;34m,\u001b[0m \u001b[0;34m**\u001b[0m\u001b[0mcheck_y_params\u001b[0m\u001b[0;34m)\u001b[0m\u001b[0;34m\u001b[0m\u001b[0;34m\u001b[0m\u001b[0m\n\u001b[1;32m    575\u001b[0m             \u001b[0;32melse\u001b[0m\u001b[0;34m:\u001b[0m\u001b[0;34m\u001b[0m\u001b[0;34m\u001b[0m\u001b[0m\n",
      "\u001b[0;32m~/opt/anaconda3/envs/tensorflow/lib/python3.7/site-packages/sklearn/utils/validation.py\u001b[0m in \u001b[0;36mcheck_array\u001b[0;34m(array, accept_sparse, accept_large_sparse, dtype, order, copy, force_all_finite, ensure_2d, allow_nd, ensure_min_samples, ensure_min_features, estimator)\u001b[0m\n\u001b[1;32m    736\u001b[0m                     \u001b[0marray\u001b[0m \u001b[0;34m=\u001b[0m \u001b[0marray\u001b[0m\u001b[0;34m.\u001b[0m\u001b[0mastype\u001b[0m\u001b[0;34m(\u001b[0m\u001b[0mdtype\u001b[0m\u001b[0;34m,\u001b[0m \u001b[0mcasting\u001b[0m\u001b[0;34m=\u001b[0m\u001b[0;34m\"unsafe\"\u001b[0m\u001b[0;34m,\u001b[0m \u001b[0mcopy\u001b[0m\u001b[0;34m=\u001b[0m\u001b[0;32mFalse\u001b[0m\u001b[0;34m)\u001b[0m\u001b[0;34m\u001b[0m\u001b[0;34m\u001b[0m\u001b[0m\n\u001b[1;32m    737\u001b[0m                 \u001b[0;32melse\u001b[0m\u001b[0;34m:\u001b[0m\u001b[0;34m\u001b[0m\u001b[0;34m\u001b[0m\u001b[0m\n\u001b[0;32m--> 738\u001b[0;31m                     \u001b[0marray\u001b[0m \u001b[0;34m=\u001b[0m \u001b[0mnp\u001b[0m\u001b[0;34m.\u001b[0m\u001b[0masarray\u001b[0m\u001b[0;34m(\u001b[0m\u001b[0marray\u001b[0m\u001b[0;34m,\u001b[0m \u001b[0morder\u001b[0m\u001b[0;34m=\u001b[0m\u001b[0morder\u001b[0m\u001b[0;34m,\u001b[0m \u001b[0mdtype\u001b[0m\u001b[0;34m=\u001b[0m\u001b[0mdtype\u001b[0m\u001b[0;34m)\u001b[0m\u001b[0;34m\u001b[0m\u001b[0;34m\u001b[0m\u001b[0m\n\u001b[0m\u001b[1;32m    739\u001b[0m             \u001b[0;32mexcept\u001b[0m \u001b[0mComplexWarning\u001b[0m \u001b[0;32mas\u001b[0m \u001b[0mcomplex_warning\u001b[0m\u001b[0;34m:\u001b[0m\u001b[0;34m\u001b[0m\u001b[0;34m\u001b[0m\u001b[0m\n\u001b[1;32m    740\u001b[0m                 raise ValueError(\n",
      "\u001b[0;32m~/opt/anaconda3/envs/tensorflow/lib/python3.7/site-packages/pandas/core/generic.py\u001b[0m in \u001b[0;36m__array__\u001b[0;34m(self, dtype)\u001b[0m\n\u001b[1;32m   1991\u001b[0m \u001b[0;34m\u001b[0m\u001b[0m\n\u001b[1;32m   1992\u001b[0m     \u001b[0;32mdef\u001b[0m \u001b[0m__array__\u001b[0m\u001b[0;34m(\u001b[0m\u001b[0mself\u001b[0m\u001b[0;34m,\u001b[0m \u001b[0mdtype\u001b[0m\u001b[0;34m:\u001b[0m \u001b[0mNpDtype\u001b[0m \u001b[0;34m|\u001b[0m \u001b[0;32mNone\u001b[0m \u001b[0;34m=\u001b[0m \u001b[0;32mNone\u001b[0m\u001b[0;34m)\u001b[0m \u001b[0;34m->\u001b[0m \u001b[0mnp\u001b[0m\u001b[0;34m.\u001b[0m\u001b[0mndarray\u001b[0m\u001b[0;34m:\u001b[0m\u001b[0;34m\u001b[0m\u001b[0;34m\u001b[0m\u001b[0m\n\u001b[0;32m-> 1993\u001b[0;31m         \u001b[0;32mreturn\u001b[0m \u001b[0mnp\u001b[0m\u001b[0;34m.\u001b[0m\u001b[0masarray\u001b[0m\u001b[0;34m(\u001b[0m\u001b[0mself\u001b[0m\u001b[0;34m.\u001b[0m\u001b[0m_values\u001b[0m\u001b[0;34m,\u001b[0m \u001b[0mdtype\u001b[0m\u001b[0;34m=\u001b[0m\u001b[0mdtype\u001b[0m\u001b[0;34m)\u001b[0m\u001b[0;34m\u001b[0m\u001b[0;34m\u001b[0m\u001b[0m\n\u001b[0m\u001b[1;32m   1994\u001b[0m \u001b[0;34m\u001b[0m\u001b[0m\n\u001b[1;32m   1995\u001b[0m     def __array_wrap__(\n",
      "\u001b[0;31mValueError\u001b[0m: setting an array element with a sequence."
     ]
    }
   ],
   "source": [
    "from sklearn import tree\n",
    "from sklearn.tree import DecisionTreeClassifier\n",
    "\n",
    "vectorizer = TfidfVectorizer()\n",
    "vectorizer.fit(X_train)\n",
    "vector_train = vectorizer.transform(X_train)\n",
    "print(vector_train[0])\n",
    "\n",
    "mapping={'positive':1, 'negative':-1}\n",
    "\n",
    "y_train_transform = np.zeros_like(Y_train)\n",
    "\n",
    "for key in mapping:\n",
    "    y_train_transform[Y_train==key] = mapping[key]\n",
    "\n",
    "\n",
    "dff=pd.DataFrame(vector_train)\n",
    "clf=AdaBoost2(n_clf=50)\n",
    "clf.fit(dff,y_train_transform)"
   ]
  },
  {
   "cell_type": "code",
   "execution_count": 428,
   "id": "71ab1729",
   "metadata": {},
   "outputs": [
    {
     "ename": "NameError",
     "evalue": "name 'dff_test' is not defined",
     "output_type": "error",
     "traceback": [
      "\u001b[0;31m---------------------------------------------------------------------------\u001b[0m",
      "\u001b[0;31mNameError\u001b[0m                                 Traceback (most recent call last)",
      "\u001b[0;32m/var/folders/1c/pk64lqn53r13zfp4b78pl9rc0000gn/T/ipykernel_82314/2636585728.py\u001b[0m in \u001b[0;36m<module>\u001b[0;34m\u001b[0m\n\u001b[0;32m----> 1\u001b[0;31m \u001b[0my_pred\u001b[0m\u001b[0;34m=\u001b[0m\u001b[0mclf\u001b[0m\u001b[0;34m.\u001b[0m\u001b[0mpredict\u001b[0m\u001b[0;34m(\u001b[0m\u001b[0mdff_test\u001b[0m\u001b[0;34m)\u001b[0m\u001b[0;34m\u001b[0m\u001b[0;34m\u001b[0m\u001b[0m\n\u001b[0m\u001b[1;32m      2\u001b[0m \u001b[0macc\u001b[0m\u001b[0;34m=\u001b[0m\u001b[0maccuracy\u001b[0m\u001b[0;34m(\u001b[0m\u001b[0my_test\u001b[0m\u001b[0;34m,\u001b[0m\u001b[0my_pred\u001b[0m\u001b[0;34m)\u001b[0m\u001b[0;34m\u001b[0m\u001b[0;34m\u001b[0m\u001b[0m\n\u001b[1;32m      3\u001b[0m \u001b[0mprint\u001b[0m\u001b[0;34m(\u001b[0m\u001b[0;34m\"Accuracy :\"\u001b[0m\u001b[0;34m,\u001b[0m\u001b[0macc\u001b[0m\u001b[0;34m)\u001b[0m\u001b[0;34m\u001b[0m\u001b[0;34m\u001b[0m\u001b[0m\n",
      "\u001b[0;31mNameError\u001b[0m: name 'dff_test' is not defined"
     ]
    }
   ],
   "source": [
    "y_pred=clf.predict(dff_test)\n",
    "acc=accuracy(Y_test, Y_pred)\n",
    "print(\"Accuracy :\",acc)"
   ]
  },
  {
   "cell_type": "markdown",
   "id": "af6e0987",
   "metadata": {},
   "source": [
    "### Test function that will be called to evaluate your code. Separate test dataset will be provided\n",
    "\n",
    "Do not modify the code below. Please write your code above such that it can be evaluated by the function below. You can modify your code above such that you obtain the best performance through this function. "
   ]
  },
  {
   "cell_type": "code",
   "execution_count": 5,
   "id": "4632591c",
   "metadata": {},
   "outputs": [],
   "source": [
    "def test_func_boosting(dataset_train, dataset_test):\n",
    "    from sklearn.metrics import accuracy_score    \n",
    "    (X_train, Y_train, X_test, Y_test) = extract_bag_of_words_train_test(dataset_train, dataset_test)\n",
    "    bc = BoostingClassifier()\n",
    "    bc.fit(X_train, Y_train)\n",
    "    Y_Pred = bc.predict(X_test)    \n",
    "    acc = accuracy_score(Y_test, Y_Pred)\n",
    "    return acc"
   ]
  },
  {
   "cell_type": "code",
   "execution_count": null,
   "id": "d6c27de1",
   "metadata": {},
   "outputs": [],
   "source": [
    "acc = test_func_boosting(\"movie_review_train.csv\", \"movie_review_test.csv\")"
   ]
  }
 ],
 "metadata": {
  "kernelspec": {
   "display_name": "Python 3 (ipykernel)",
   "language": "python",
   "name": "python3"
  },
  "language_info": {
   "codemirror_mode": {
    "name": "ipython",
    "version": 3
   },
   "file_extension": ".py",
   "mimetype": "text/x-python",
   "name": "python",
   "nbconvert_exporter": "python",
   "pygments_lexer": "ipython3",
   "version": "3.7.11"
  }
 },
 "nbformat": 4,
 "nbformat_minor": 5
}
